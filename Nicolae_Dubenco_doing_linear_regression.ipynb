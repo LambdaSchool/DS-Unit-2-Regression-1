{
  "nbformat": 4,
  "nbformat_minor": 0,
  "metadata": {
    "colab": {
      "name": "Nicolae Dubenco doing_linear_regression.ipynb",
      "version": "0.3.2",
      "provenance": [],
      "include_colab_link": true
    },
    "kernelspec": {
      "name": "python3",
      "display_name": "Python 3"
    }
  },
  "cells": [
    {
      "cell_type": "markdown",
      "metadata": {
        "id": "view-in-github",
        "colab_type": "text"
      },
      "source": [
        "<a href=\"https://colab.research.google.com/github/NikuDubenco/DS-Unit-2-Regression-1/blob/master/Nicolae_Dubenco_doing_linear_regression.ipynb\" target=\"_parent\"><img src=\"https://colab.research.google.com/assets/colab-badge.svg\" alt=\"Open In Colab\"/></a>"
      ]
    },
    {
      "cell_type": "code",
      "metadata": {
        "id": "3FMG9sjWcu6a",
        "colab_type": "code",
        "colab": {}
      },
      "source": [
        "import pandas as pd\n",
        "\n",
        "columns = ['Year','Incumbent Party Candidate','Other Candidate','Incumbent Party Vote Share']\n",
        "data = [[1952,\"Stevenson\",\"Eisenhower\",44.6],\n",
        "        [1956,\"Eisenhower\",\"Stevenson\",57.76],\n",
        "        [1960,\"Nixon\",\"Kennedy\",49.91],\n",
        "        [1964,\"Johnson\",\"Goldwater\",61.34],\n",
        "        [1968,\"Humphrey\",\"Nixon\",49.60],\n",
        "        [1972,\"Nixon\",\"McGovern\",61.79],\n",
        "        [1976,\"Ford\",\"Carter\",48.95],\n",
        "        [1980,\"Carter\",\"Reagan\",44.70],\n",
        "        [1984,\"Reagan\",\"Mondale\",59.17],\n",
        "        [1988,\"Bush, Sr.\",\"Dukakis\",53.94],\n",
        "        [1992,\"Bush, Sr.\",\"Clinton\",46.55],\n",
        "        [1996,\"Clinton\",\"Dole\",54.74],\n",
        "        [2000,\"Gore\",\"Bush, Jr.\",50.27],\n",
        "        [2004,\"Bush, Jr.\",\"Kerry\",51.24],\n",
        "        [2008,\"McCain\",\"Obama\",46.32],\n",
        "        [2012,\"Obama\",\"Romney\",52.00], \n",
        "        [2016,\"Clinton\",\"Trump\",48.2]]\n",
        "        \n",
        "votes = pd.DataFrame(data=data, columns=columns)"
      ],
      "execution_count": 0,
      "outputs": []
    },
    {
      "cell_type": "code",
      "metadata": {
        "id": "odHdhtzTd0Dc",
        "colab_type": "code",
        "colab": {}
      },
      "source": [
        "columns = ['Year','Average Recent Growth in Personal Incomes']\n",
        "data = [[1952,2.40],\n",
        "        [1956,2.89],\n",
        "        [1960, .85],\n",
        "        [1964,4.21],\n",
        "        [1968,3.02],\n",
        "        [1972,3.62],\n",
        "        [1976,1.08],\n",
        "        [1980,-.39],\n",
        "        [1984,3.86],\n",
        "        [1988,2.27],\n",
        "        [1992, .38],\n",
        "        [1996,1.04],\n",
        "        [2000,2.36],\n",
        "        [2004,1.72],\n",
        "        [2008, .10],\n",
        "        [2012, .95], \n",
        "        [2016, .10]]\n",
        "        \n",
        "growth = pd.DataFrame(data=data, columns=columns)"
      ],
      "execution_count": 0,
      "outputs": []
    },
    {
      "cell_type": "code",
      "metadata": {
        "id": "MW49Bzukd8wf",
        "colab_type": "code",
        "colab": {}
      },
      "source": [
        "columns = ['Year','US Military Fatalities per Million']\n",
        "data = [[1952,190],\n",
        "        [1956,  0],\n",
        "        [1960,  0],\n",
        "        [1964,  1],\n",
        "        [1968,146],\n",
        "        [1972,  0],\n",
        "        [1976,  2],\n",
        "        [1980,  0],\n",
        "        [1984,  0],\n",
        "        [1988,  0],\n",
        "        [1992,  0],\n",
        "        [1996,  0],\n",
        "        [2000,  0],\n",
        "        [2004,  4],\n",
        "        [2008, 14],\n",
        "        [2012,  5], \n",
        "        [2016,  5]]\n",
        "        \n",
        "deaths = pd.DataFrame(data=data, columns=columns)"
      ],
      "execution_count": 0,
      "outputs": []
    },
    {
      "cell_type": "code",
      "metadata": {
        "id": "ivtXIa8yeFbP",
        "colab_type": "code",
        "colab": {
          "base_uri": "https://localhost:8080/",
          "height": 34
        },
        "outputId": "84db47ec-da2b-45d7-9de1-b80ee299c657"
      },
      "source": [
        "df = votes.merge(growth).merge(deaths)\n",
        "df.shape"
      ],
      "execution_count": 5,
      "outputs": [
        {
          "output_type": "execute_result",
          "data": {
            "text/plain": [
              "(17, 6)"
            ]
          },
          "metadata": {
            "tags": []
          },
          "execution_count": 5
        }
      ]
    },
    {
      "cell_type": "code",
      "metadata": {
        "id": "3MfRFNHheLHG",
        "colab_type": "code",
        "colab": {
          "base_uri": "https://localhost:8080/",
          "height": 610
        },
        "outputId": "20c02088-8a17-4c43-9323-fb08defad7b0"
      },
      "source": [
        "df"
      ],
      "execution_count": 6,
      "outputs": [
        {
          "output_type": "execute_result",
          "data": {
            "text/html": [
              "<div>\n",
              "<style scoped>\n",
              "    .dataframe tbody tr th:only-of-type {\n",
              "        vertical-align: middle;\n",
              "    }\n",
              "\n",
              "    .dataframe tbody tr th {\n",
              "        vertical-align: top;\n",
              "    }\n",
              "\n",
              "    .dataframe thead th {\n",
              "        text-align: right;\n",
              "    }\n",
              "</style>\n",
              "<table border=\"1\" class=\"dataframe\">\n",
              "  <thead>\n",
              "    <tr style=\"text-align: right;\">\n",
              "      <th></th>\n",
              "      <th>Year</th>\n",
              "      <th>Incumbent Party Candidate</th>\n",
              "      <th>Other Candidate</th>\n",
              "      <th>Incumbent Party Vote Share</th>\n",
              "      <th>Average Recent Growth in Personal Incomes</th>\n",
              "      <th>US Military Fatalities per Million</th>\n",
              "    </tr>\n",
              "  </thead>\n",
              "  <tbody>\n",
              "    <tr>\n",
              "      <th>0</th>\n",
              "      <td>1952</td>\n",
              "      <td>Stevenson</td>\n",
              "      <td>Eisenhower</td>\n",
              "      <td>44.60</td>\n",
              "      <td>2.40</td>\n",
              "      <td>190</td>\n",
              "    </tr>\n",
              "    <tr>\n",
              "      <th>1</th>\n",
              "      <td>1956</td>\n",
              "      <td>Eisenhower</td>\n",
              "      <td>Stevenson</td>\n",
              "      <td>57.76</td>\n",
              "      <td>2.89</td>\n",
              "      <td>0</td>\n",
              "    </tr>\n",
              "    <tr>\n",
              "      <th>2</th>\n",
              "      <td>1960</td>\n",
              "      <td>Nixon</td>\n",
              "      <td>Kennedy</td>\n",
              "      <td>49.91</td>\n",
              "      <td>0.85</td>\n",
              "      <td>0</td>\n",
              "    </tr>\n",
              "    <tr>\n",
              "      <th>3</th>\n",
              "      <td>1964</td>\n",
              "      <td>Johnson</td>\n",
              "      <td>Goldwater</td>\n",
              "      <td>61.34</td>\n",
              "      <td>4.21</td>\n",
              "      <td>1</td>\n",
              "    </tr>\n",
              "    <tr>\n",
              "      <th>4</th>\n",
              "      <td>1968</td>\n",
              "      <td>Humphrey</td>\n",
              "      <td>Nixon</td>\n",
              "      <td>49.60</td>\n",
              "      <td>3.02</td>\n",
              "      <td>146</td>\n",
              "    </tr>\n",
              "    <tr>\n",
              "      <th>5</th>\n",
              "      <td>1972</td>\n",
              "      <td>Nixon</td>\n",
              "      <td>McGovern</td>\n",
              "      <td>61.79</td>\n",
              "      <td>3.62</td>\n",
              "      <td>0</td>\n",
              "    </tr>\n",
              "    <tr>\n",
              "      <th>6</th>\n",
              "      <td>1976</td>\n",
              "      <td>Ford</td>\n",
              "      <td>Carter</td>\n",
              "      <td>48.95</td>\n",
              "      <td>1.08</td>\n",
              "      <td>2</td>\n",
              "    </tr>\n",
              "    <tr>\n",
              "      <th>7</th>\n",
              "      <td>1980</td>\n",
              "      <td>Carter</td>\n",
              "      <td>Reagan</td>\n",
              "      <td>44.70</td>\n",
              "      <td>-0.39</td>\n",
              "      <td>0</td>\n",
              "    </tr>\n",
              "    <tr>\n",
              "      <th>8</th>\n",
              "      <td>1984</td>\n",
              "      <td>Reagan</td>\n",
              "      <td>Mondale</td>\n",
              "      <td>59.17</td>\n",
              "      <td>3.86</td>\n",
              "      <td>0</td>\n",
              "    </tr>\n",
              "    <tr>\n",
              "      <th>9</th>\n",
              "      <td>1988</td>\n",
              "      <td>Bush, Sr.</td>\n",
              "      <td>Dukakis</td>\n",
              "      <td>53.94</td>\n",
              "      <td>2.27</td>\n",
              "      <td>0</td>\n",
              "    </tr>\n",
              "    <tr>\n",
              "      <th>10</th>\n",
              "      <td>1992</td>\n",
              "      <td>Bush, Sr.</td>\n",
              "      <td>Clinton</td>\n",
              "      <td>46.55</td>\n",
              "      <td>0.38</td>\n",
              "      <td>0</td>\n",
              "    </tr>\n",
              "    <tr>\n",
              "      <th>11</th>\n",
              "      <td>1996</td>\n",
              "      <td>Clinton</td>\n",
              "      <td>Dole</td>\n",
              "      <td>54.74</td>\n",
              "      <td>1.04</td>\n",
              "      <td>0</td>\n",
              "    </tr>\n",
              "    <tr>\n",
              "      <th>12</th>\n",
              "      <td>2000</td>\n",
              "      <td>Gore</td>\n",
              "      <td>Bush, Jr.</td>\n",
              "      <td>50.27</td>\n",
              "      <td>2.36</td>\n",
              "      <td>0</td>\n",
              "    </tr>\n",
              "    <tr>\n",
              "      <th>13</th>\n",
              "      <td>2004</td>\n",
              "      <td>Bush, Jr.</td>\n",
              "      <td>Kerry</td>\n",
              "      <td>51.24</td>\n",
              "      <td>1.72</td>\n",
              "      <td>4</td>\n",
              "    </tr>\n",
              "    <tr>\n",
              "      <th>14</th>\n",
              "      <td>2008</td>\n",
              "      <td>McCain</td>\n",
              "      <td>Obama</td>\n",
              "      <td>46.32</td>\n",
              "      <td>0.10</td>\n",
              "      <td>14</td>\n",
              "    </tr>\n",
              "    <tr>\n",
              "      <th>15</th>\n",
              "      <td>2012</td>\n",
              "      <td>Obama</td>\n",
              "      <td>Romney</td>\n",
              "      <td>52.00</td>\n",
              "      <td>0.95</td>\n",
              "      <td>5</td>\n",
              "    </tr>\n",
              "    <tr>\n",
              "      <th>16</th>\n",
              "      <td>2016</td>\n",
              "      <td>Clinton</td>\n",
              "      <td>Trump</td>\n",
              "      <td>48.20</td>\n",
              "      <td>0.10</td>\n",
              "      <td>5</td>\n",
              "    </tr>\n",
              "  </tbody>\n",
              "</table>\n",
              "</div>"
            ],
            "text/plain": [
              "    Year  ... US Military Fatalities per Million\n",
              "0   1952  ...                                190\n",
              "1   1956  ...                                  0\n",
              "2   1960  ...                                  0\n",
              "3   1964  ...                                  1\n",
              "4   1968  ...                                146\n",
              "5   1972  ...                                  0\n",
              "6   1976  ...                                  2\n",
              "7   1980  ...                                  0\n",
              "8   1984  ...                                  0\n",
              "9   1988  ...                                  0\n",
              "10  1992  ...                                  0\n",
              "11  1996  ...                                  0\n",
              "12  2000  ...                                  0\n",
              "13  2004  ...                                  4\n",
              "14  2008  ...                                 14\n",
              "15  2012  ...                                  5\n",
              "16  2016  ...                                  5\n",
              "\n",
              "[17 rows x 6 columns]"
            ]
          },
          "metadata": {
            "tags": []
          },
          "execution_count": 6
        }
      ]
    },
    {
      "cell_type": "code",
      "metadata": {
        "id": "h-BIkebIejqo",
        "colab_type": "code",
        "colab": {}
      },
      "source": [
        "target = 'Incumbent Party Vote Share'\n",
        "df['Mean Baseline'] = df[target].mean()\n",
        "df['Error'] = df['Mean Baseline'] - df[target]"
      ],
      "execution_count": 0,
      "outputs": []
    },
    {
      "cell_type": "code",
      "metadata": {
        "id": "6BhuFlg1exiB",
        "colab_type": "code",
        "colab": {
          "base_uri": "https://localhost:8080/",
          "height": 34
        },
        "outputId": "7f335a83-3c88-4557-e399-98a659460d38"
      },
      "source": [
        "df['Absolute Error'] = df['Error'].abs()\n",
        "df['Absolute Error'].sum()"
      ],
      "execution_count": 9,
      "outputs": [
        {
          "output_type": "execute_result",
          "data": {
            "text/plain": [
              "75.88470588235293"
            ]
          },
          "metadata": {
            "tags": []
          },
          "execution_count": 9
        }
      ]
    },
    {
      "cell_type": "code",
      "metadata": {
        "id": "jrxUmtjMe1cS",
        "colab_type": "code",
        "colab": {
          "base_uri": "https://localhost:8080/",
          "height": 34
        },
        "outputId": "6eb8830a-fbf8-4068-b701-4a02f1f3695d"
      },
      "source": [
        "df['Absolute Error'].mean()"
      ],
      "execution_count": 10,
      "outputs": [
        {
          "output_type": "execute_result",
          "data": {
            "text/plain": [
              "4.463806228373703"
            ]
          },
          "metadata": {
            "tags": []
          },
          "execution_count": 10
        }
      ]
    },
    {
      "cell_type": "code",
      "metadata": {
        "id": "vCOxfyhae3ey",
        "colab_type": "code",
        "colab": {
          "base_uri": "https://localhost:8080/",
          "height": 34
        },
        "outputId": "f8297660-cc70-47aa-b6ef-e5aefacc374d"
      },
      "source": [
        "from sklearn.metrics import mean_absolute_error\n",
        "mean_absolute_error(y_true=df['Incumbent Party Vote Share'], y_pred=df['Mean Baseline'])"
      ],
      "execution_count": 11,
      "outputs": [
        {
          "output_type": "execute_result",
          "data": {
            "text/plain": [
              "4.463806228373702"
            ]
          },
          "metadata": {
            "tags": []
          },
          "execution_count": 11
        }
      ]
    },
    {
      "cell_type": "code",
      "metadata": {
        "id": "NalV3cpffUMF",
        "colab_type": "code",
        "colab": {}
      },
      "source": [
        "from sklearn.linear_model import LinearRegression"
      ],
      "execution_count": 0,
      "outputs": []
    },
    {
      "cell_type": "code",
      "metadata": {
        "id": "aW2Eqnp2fWw_",
        "colab_type": "code",
        "colab": {}
      },
      "source": [
        "model = LinearRegression()"
      ],
      "execution_count": 0,
      "outputs": []
    },
    {
      "cell_type": "code",
      "metadata": {
        "id": "VKSCNQfvfXuQ",
        "colab_type": "code",
        "colab": {
          "base_uri": "https://localhost:8080/",
          "height": 34
        },
        "outputId": "ceea2bcb-0b5d-4a0e-a55b-8df4015d141b"
      },
      "source": [
        "X = df[['Average Recent Growth in Personal Incomes']]\n",
        "y = df['Incumbent Party Vote Share']\n",
        "\n",
        "type(X), type(y)"
      ],
      "execution_count": 14,
      "outputs": [
        {
          "output_type": "execute_result",
          "data": {
            "text/plain": [
              "(pandas.core.frame.DataFrame, pandas.core.series.Series)"
            ]
          },
          "metadata": {
            "tags": []
          },
          "execution_count": 14
        }
      ]
    },
    {
      "cell_type": "code",
      "metadata": {
        "id": "LVtIwmBIfcRv",
        "colab_type": "code",
        "colab": {}
      },
      "source": [
        "features = ['Average Recent Growth in Personal Incomes']\n",
        "target = 'Incumbent Party Vote Share'\n",
        "X = df[features]\n",
        "y = df[target]"
      ],
      "execution_count": 0,
      "outputs": []
    },
    {
      "cell_type": "code",
      "metadata": {
        "id": "73ZkASzBfenU",
        "colab_type": "code",
        "colab": {
          "base_uri": "https://localhost:8080/",
          "height": 34
        },
        "outputId": "1f8d33e8-1550-4ef7-b2d8-e7fd27850947"
      },
      "source": [
        "model.fit(X, y)"
      ],
      "execution_count": 16,
      "outputs": [
        {
          "output_type": "execute_result",
          "data": {
            "text/plain": [
              "LinearRegression(copy_X=True, fit_intercept=True, n_jobs=None, normalize=False)"
            ]
          },
          "metadata": {
            "tags": []
          },
          "execution_count": 16
        }
      ]
    },
    {
      "cell_type": "code",
      "metadata": {
        "id": "6O-PcIt0fg55",
        "colab_type": "code",
        "colab": {}
      },
      "source": [
        "y_pred = model.predict(X)"
      ],
      "execution_count": 0,
      "outputs": []
    },
    {
      "cell_type": "code",
      "metadata": {
        "id": "7Frkns-ffjXD",
        "colab_type": "code",
        "colab": {
          "base_uri": "https://localhost:8080/",
          "height": 34
        },
        "outputId": "ba99b93f-9e20-4db6-b5cd-e65816c738ca"
      },
      "source": [
        "mean_absolute_error(y, y_pred)"
      ],
      "execution_count": 18,
      "outputs": [
        {
          "output_type": "execute_result",
          "data": {
            "text/plain": [
              "2.5291938349608953"
            ]
          },
          "metadata": {
            "tags": []
          },
          "execution_count": 18
        }
      ]
    },
    {
      "cell_type": "code",
      "metadata": {
        "id": "cVVINU45fmR3",
        "colab_type": "code",
        "colab": {
          "base_uri": "https://localhost:8080/",
          "height": 661
        },
        "outputId": "fc726d5f-ff0c-4e09-fd78-a22741de6cd3"
      },
      "source": [
        "df['Linear Regression, 1 feature'] = y_pred\n",
        "df['Error'] = df['Linear Regression, 1 feature'] - df[target]\n",
        "df['Absolute Error'] = df['Error'].abs()\n",
        "df"
      ],
      "execution_count": 19,
      "outputs": [
        {
          "output_type": "execute_result",
          "data": {
            "text/html": [
              "<div>\n",
              "<style scoped>\n",
              "    .dataframe tbody tr th:only-of-type {\n",
              "        vertical-align: middle;\n",
              "    }\n",
              "\n",
              "    .dataframe tbody tr th {\n",
              "        vertical-align: top;\n",
              "    }\n",
              "\n",
              "    .dataframe thead th {\n",
              "        text-align: right;\n",
              "    }\n",
              "</style>\n",
              "<table border=\"1\" class=\"dataframe\">\n",
              "  <thead>\n",
              "    <tr style=\"text-align: right;\">\n",
              "      <th></th>\n",
              "      <th>Year</th>\n",
              "      <th>Incumbent Party Candidate</th>\n",
              "      <th>Other Candidate</th>\n",
              "      <th>Incumbent Party Vote Share</th>\n",
              "      <th>Average Recent Growth in Personal Incomes</th>\n",
              "      <th>US Military Fatalities per Million</th>\n",
              "      <th>Mean Baseline</th>\n",
              "      <th>Error</th>\n",
              "      <th>Absolute Error</th>\n",
              "      <th>Linear Regression, 1 feature</th>\n",
              "    </tr>\n",
              "  </thead>\n",
              "  <tbody>\n",
              "    <tr>\n",
              "      <th>0</th>\n",
              "      <td>1952</td>\n",
              "      <td>Stevenson</td>\n",
              "      <td>Eisenhower</td>\n",
              "      <td>44.60</td>\n",
              "      <td>2.40</td>\n",
              "      <td>190</td>\n",
              "      <td>51.828235</td>\n",
              "      <td>9.037235</td>\n",
              "      <td>9.037235</td>\n",
              "      <td>53.637235</td>\n",
              "    </tr>\n",
              "    <tr>\n",
              "      <th>1</th>\n",
              "      <td>1956</td>\n",
              "      <td>Eisenhower</td>\n",
              "      <td>Stevenson</td>\n",
              "      <td>57.76</td>\n",
              "      <td>2.89</td>\n",
              "      <td>0</td>\n",
              "      <td>51.828235</td>\n",
              "      <td>-2.665418</td>\n",
              "      <td>2.665418</td>\n",
              "      <td>55.094582</td>\n",
              "    </tr>\n",
              "    <tr>\n",
              "      <th>2</th>\n",
              "      <td>1960</td>\n",
              "      <td>Nixon</td>\n",
              "      <td>Kennedy</td>\n",
              "      <td>49.91</td>\n",
              "      <td>0.85</td>\n",
              "      <td>0</td>\n",
              "      <td>51.828235</td>\n",
              "      <td>-0.882740</td>\n",
              "      <td>0.882740</td>\n",
              "      <td>49.027260</td>\n",
              "    </tr>\n",
              "    <tr>\n",
              "      <th>3</th>\n",
              "      <td>1964</td>\n",
              "      <td>Johnson</td>\n",
              "      <td>Goldwater</td>\n",
              "      <td>61.34</td>\n",
              "      <td>4.21</td>\n",
              "      <td>1</td>\n",
              "      <td>51.828235</td>\n",
              "      <td>-2.319505</td>\n",
              "      <td>2.319505</td>\n",
              "      <td>59.020495</td>\n",
              "    </tr>\n",
              "    <tr>\n",
              "      <th>4</th>\n",
              "      <td>1968</td>\n",
              "      <td>Humphrey</td>\n",
              "      <td>Nixon</td>\n",
              "      <td>49.60</td>\n",
              "      <td>3.02</td>\n",
              "      <td>146</td>\n",
              "      <td>51.828235</td>\n",
              "      <td>5.881225</td>\n",
              "      <td>5.881225</td>\n",
              "      <td>55.481225</td>\n",
              "    </tr>\n",
              "    <tr>\n",
              "      <th>5</th>\n",
              "      <td>1972</td>\n",
              "      <td>Nixon</td>\n",
              "      <td>McGovern</td>\n",
              "      <td>61.79</td>\n",
              "      <td>3.62</td>\n",
              "      <td>0</td>\n",
              "      <td>51.828235</td>\n",
              "      <td>-4.524269</td>\n",
              "      <td>4.524269</td>\n",
              "      <td>57.265731</td>\n",
              "    </tr>\n",
              "    <tr>\n",
              "      <th>6</th>\n",
              "      <td>1976</td>\n",
              "      <td>Ford</td>\n",
              "      <td>Carter</td>\n",
              "      <td>48.95</td>\n",
              "      <td>1.08</td>\n",
              "      <td>2</td>\n",
              "      <td>51.828235</td>\n",
              "      <td>0.761321</td>\n",
              "      <td>0.761321</td>\n",
              "      <td>49.711321</td>\n",
              "    </tr>\n",
              "    <tr>\n",
              "      <th>7</th>\n",
              "      <td>1980</td>\n",
              "      <td>Carter</td>\n",
              "      <td>Reagan</td>\n",
              "      <td>44.70</td>\n",
              "      <td>-0.39</td>\n",
              "      <td>0</td>\n",
              "      <td>51.828235</td>\n",
              "      <td>0.639281</td>\n",
              "      <td>0.639281</td>\n",
              "      <td>45.339281</td>\n",
              "    </tr>\n",
              "    <tr>\n",
              "      <th>8</th>\n",
              "      <td>1984</td>\n",
              "      <td>Reagan</td>\n",
              "      <td>Mondale</td>\n",
              "      <td>59.17</td>\n",
              "      <td>3.86</td>\n",
              "      <td>0</td>\n",
              "      <td>51.828235</td>\n",
              "      <td>-1.190467</td>\n",
              "      <td>1.190467</td>\n",
              "      <td>57.979533</td>\n",
              "    </tr>\n",
              "    <tr>\n",
              "      <th>9</th>\n",
              "      <td>1988</td>\n",
              "      <td>Bush, Sr.</td>\n",
              "      <td>Dukakis</td>\n",
              "      <td>53.94</td>\n",
              "      <td>2.27</td>\n",
              "      <td>0</td>\n",
              "      <td>51.828235</td>\n",
              "      <td>-0.689408</td>\n",
              "      <td>0.689408</td>\n",
              "      <td>53.250592</td>\n",
              "    </tr>\n",
              "    <tr>\n",
              "      <th>10</th>\n",
              "      <td>1992</td>\n",
              "      <td>Bush, Sr.</td>\n",
              "      <td>Clinton</td>\n",
              "      <td>46.55</td>\n",
              "      <td>0.38</td>\n",
              "      <td>0</td>\n",
              "      <td>51.828235</td>\n",
              "      <td>1.079397</td>\n",
              "      <td>1.079397</td>\n",
              "      <td>47.629397</td>\n",
              "    </tr>\n",
              "    <tr>\n",
              "      <th>11</th>\n",
              "      <td>1996</td>\n",
              "      <td>Clinton</td>\n",
              "      <td>Dole</td>\n",
              "      <td>54.74</td>\n",
              "      <td>1.04</td>\n",
              "      <td>0</td>\n",
              "      <td>51.828235</td>\n",
              "      <td>-5.147646</td>\n",
              "      <td>5.147646</td>\n",
              "      <td>49.592354</td>\n",
              "    </tr>\n",
              "    <tr>\n",
              "      <th>12</th>\n",
              "      <td>2000</td>\n",
              "      <td>Gore</td>\n",
              "      <td>Bush, Jr.</td>\n",
              "      <td>50.27</td>\n",
              "      <td>2.36</td>\n",
              "      <td>0</td>\n",
              "      <td>51.828235</td>\n",
              "      <td>3.248268</td>\n",
              "      <td>3.248268</td>\n",
              "      <td>53.518268</td>\n",
              "    </tr>\n",
              "    <tr>\n",
              "      <th>13</th>\n",
              "      <td>2004</td>\n",
              "      <td>Bush, Jr.</td>\n",
              "      <td>Kerry</td>\n",
              "      <td>51.24</td>\n",
              "      <td>1.72</td>\n",
              "      <td>4</td>\n",
              "      <td>51.828235</td>\n",
              "      <td>0.374794</td>\n",
              "      <td>0.374794</td>\n",
              "      <td>51.614794</td>\n",
              "    </tr>\n",
              "    <tr>\n",
              "      <th>14</th>\n",
              "      <td>2008</td>\n",
              "      <td>McCain</td>\n",
              "      <td>Obama</td>\n",
              "      <td>46.32</td>\n",
              "      <td>0.10</td>\n",
              "      <td>14</td>\n",
              "      <td>51.828235</td>\n",
              "      <td>0.476627</td>\n",
              "      <td>0.476627</td>\n",
              "      <td>46.796627</td>\n",
              "    </tr>\n",
              "    <tr>\n",
              "      <th>15</th>\n",
              "      <td>2012</td>\n",
              "      <td>Obama</td>\n",
              "      <td>Romney</td>\n",
              "      <td>52.00</td>\n",
              "      <td>0.95</td>\n",
              "      <td>5</td>\n",
              "      <td>51.828235</td>\n",
              "      <td>-2.675322</td>\n",
              "      <td>2.675322</td>\n",
              "      <td>49.324678</td>\n",
              "    </tr>\n",
              "    <tr>\n",
              "      <th>16</th>\n",
              "      <td>2016</td>\n",
              "      <td>Clinton</td>\n",
              "      <td>Trump</td>\n",
              "      <td>48.20</td>\n",
              "      <td>0.10</td>\n",
              "      <td>5</td>\n",
              "      <td>51.828235</td>\n",
              "      <td>-1.403373</td>\n",
              "      <td>1.403373</td>\n",
              "      <td>46.796627</td>\n",
              "    </tr>\n",
              "  </tbody>\n",
              "</table>\n",
              "</div>"
            ],
            "text/plain": [
              "    Year  ... Linear Regression, 1 feature\n",
              "0   1952  ...                    53.637235\n",
              "1   1956  ...                    55.094582\n",
              "2   1960  ...                    49.027260\n",
              "3   1964  ...                    59.020495\n",
              "4   1968  ...                    55.481225\n",
              "5   1972  ...                    57.265731\n",
              "6   1976  ...                    49.711321\n",
              "7   1980  ...                    45.339281\n",
              "8   1984  ...                    57.979533\n",
              "9   1988  ...                    53.250592\n",
              "10  1992  ...                    47.629397\n",
              "11  1996  ...                    49.592354\n",
              "12  2000  ...                    53.518268\n",
              "13  2004  ...                    51.614794\n",
              "14  2008  ...                    46.796627\n",
              "15  2012  ...                    49.324678\n",
              "16  2016  ...                    46.796627\n",
              "\n",
              "[17 rows x 10 columns]"
            ]
          },
          "metadata": {
            "tags": []
          },
          "execution_count": 19
        }
      ]
    },
    {
      "cell_type": "code",
      "metadata": {
        "id": "ZGZ3gowPfqSk",
        "colab_type": "code",
        "colab": {
          "base_uri": "https://localhost:8080/",
          "height": 283
        },
        "outputId": "2e6ad3a6-6c7b-48c1-bd23-c30383e7d4cd"
      },
      "source": [
        "ax = df.plot(x='Average Recent Growth in Personal Incomes', \n",
        "             y='Incumbent Party Vote Share', kind='scatter')\n",
        "\n",
        "df.plot(x='Average Recent Growth in Personal Incomes', \n",
        "        y='Linear Regression, 1 feature', kind='scatter', \n",
        "        color='r', ax=ax);"
      ],
      "execution_count": 22,
      "outputs": [
        {
          "output_type": "display_data",
          "data": {
            "image/png": "[encoded data removed]",
            "text/plain": [
              "<Figure size 432x288 with 1 Axes>"
            ]
          },
          "metadata": {
            "tags": []
          }
        }
      ]
    },
    {
      "cell_type": "markdown",
      "metadata": {
        "id": "Knd6PfA8rrMo",
        "colab_type": "text"
      },
      "source": [
        "## Import 2 new features"
      ]
    },
    {
      "cell_type": "code",
      "metadata": {
        "id": "xS_Urm-1lU3R",
        "colab_type": "code",
        "colab": {
          "resources": {
            "http://localhost:8080/nbextensions/google.colab/files.js": {
              "data": "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",
              "ok": true,
              "headers": [
                [
                  "content-type",
                  "application/javascript"
                ]
              ],
              "status": 200,
              "status_text": ""
            }
          },
          "base_uri": "https://localhost:8080/",
          "height": 162
        },
        "outputId": "442e07c5-652c-4436-c1a3-739694d16eb3"
      },
      "source": [
        "from google.colab import files\n",
        "files.upload()"
      ],
      "execution_count": 27,
      "outputs": [
        {
          "output_type": "display_data",
          "data": {
            "text/html": [
              "\n",
              "     <input type=\"file\" id=\"files-0bae2755-47e4-4800-8d8a-59a9f9fa31e0\" name=\"files[]\" multiple disabled />\n",
              "     <output id=\"result-0bae2755-47e4-4800-8d8a-59a9f9fa31e0\">\n",
              "      Upload widget is only available when the cell has been executed in the\n",
              "      current browser session. Please rerun this cell to enable.\n",
              "      </output>\n",
              "      <script src=\"/nbextensions/google.colab/files.js\"></script> "
            ],
            "text/plain": [
              "<IPython.core.display.HTML object>"
            ]
          },
          "metadata": {
            "tags": []
          }
        },
        {
          "output_type": "stream",
          "text": [
            "Saving Real Gross Domestic Product.csv to Real Gross Domestic Product (1).csv\n",
            "Saving Unemployment Rate Aged 15-64 USA.csv to Unemployment Rate Aged 15-64 USA.csv\n"
          ],
          "name": "stdout"
        },
        {
          "output_type": "execute_result",
          "data": {
            "text/plain": [
              "{'Real Gross Domestic Product.csv': b'DATE,A191RL1A225NBEA\\n1952-01-01,4.1\\n1953-01-01,4.7\\n1954-01-01,-0.6\\n1955-01-01,7.1\\n1956-01-01,2.1\\n1957-01-01,2.1\\n1958-01-01,-0.7\\n1959-01-01,6.9\\n1960-01-01,2.6\\n1961-01-01,2.6\\n1962-01-01,6.1\\n1963-01-01,4.4\\n1964-01-01,5.8\\n1965-01-01,6.5\\n1966-01-01,6.6\\n1967-01-01,2.7\\n1968-01-01,4.9\\n1969-01-01,3.1\\n1970-01-01,0.2\\n1971-01-01,3.3\\n1972-01-01,5.3\\n1973-01-01,5.6\\n1974-01-01,-0.5\\n1975-01-01,-0.2\\n1976-01-01,5.4\\n1977-01-01,4.6\\n1978-01-01,5.5\\n1979-01-01,3.2\\n1980-01-01,-0.3\\n1981-01-01,2.5\\n1982-01-01,-1.8\\n1983-01-01,4.6\\n1984-01-01,7.2\\n1985-01-01,4.2\\n1986-01-01,3.5\\n1987-01-01,3.5\\n1988-01-01,4.2\\n1989-01-01,3.7\\n1990-01-01,1.9\\n1991-01-01,-0.1\\n1992-01-01,3.5\\n1993-01-01,2.8\\n1994-01-01,4\\n1995-01-01,2.7\\n1996-01-01,3.8\\n1997-01-01,4.4\\n1998-01-01,4.5\\n1999-01-01,4.8\\n2000-01-01,4.1\\n2001-01-01,1\\n2002-01-01,1.7\\n2003-01-01,2.9\\n2004-01-01,3.8\\n2005-01-01,3.5\\n2006-01-01,2.9\\n2007-01-01,1.9\\n2008-01-01,-0.1\\n2009-01-01,-2.5\\n2010-01-01,2.6\\n2011-01-01,1.6\\n2012-01-01,2.2\\n2013-01-01,1.8\\n2014-01-01,2.5\\n2015-01-01,2.9\\n2016-01-01,1.6\\n2017-01-01,2.2\\n2018-01-01,2.9\\n',\n",
              " 'Unemployment Rate Aged 15-64 USA.csv': b'DATE,LRUN64TTUSA156N\\n1960-01-01,5.61711471129125\\n1961-01-01,6.77027083049185\\n1962-01-01,5.59621045621777\\n1963-01-01,5.73912561771612\\n1964-01-01,5.24617523394315\\n1965-01-01,4.57995500813069\\n1966-01-01,3.83219094685393\\n1967-01-01,3.89105666576371\\n1968-01-01,3.60853108716831\\n1969-01-01,3.5579870737848\\n1970-01-01,5.00838426579352\\n1971-01-01,6.04150493127273\\n1972-01-01,5.68850115723872\\n1973-01-01,4.95075074450422\\n1974-01-01,5.67705862450559\\n1975-01-01,8.56146442372511\\n1976-01-01,7.78656213561647\\n1977-01-01,7.13250480209063\\n1978-01-01,6.13419821261611\\n1979-01-01,5.9238266892661\\n1980-01-01,7.25571683566472\\n1981-01-01,7.74128083040972\\n1982-01-01,9.86085724560746\\n1983-01-01,9.78047265210102\\n1984-01-01,7.63741221200804\\n1985-01-01,7.30410922644289\\n1986-01-01,7.09687179467939\\n1987-01-01,6.29718894698344\\n1988-01-01,5.58916115687531\\n1989-01-01,5.34055784618663\\n1990-01-01,5.67262840227244\\n1991-01-01,6.92737183331876\\n1992-01-01,7.60743686106412\\n1993-01-01,7.02551529583226\\n1994-01-01,6.16880545955019\\n1995-01-01,5.64388515229746\\n1996-01-01,5.45743444639371\\n1997-01-01,4.99627586611836\\n1998-01-01,4.55010833226551\\n1999-01-01,4.2530368613342\\n2000-01-01,4.02098505625783\\n2001-01-01,4.78668949290891\\n2002-01-01,5.85171523639456\\n2003-01-01,6.06159163523334\\n2004-01-01,5.59795201899569\\n2005-01-01,5.14396630591553\\n2006-01-01,4.68893542752301\\n2007-01-01,4.67508043991925\\n2008-01-01,5.84752568735509\\n2009-01-01,9.37790617873382\\n2010-01-01,9.76802750870948\\n2011-01-01,9.0663509285369\\n2012-01-01,8.16559722687556\\n2013-01-01,7.48522447033036\\n2014-01-01,6.25535554001903\\n2015-01-01,5.36636461246237\\n2016-01-01,4.93347574521062\\n2017-01-01,4.40478747099714\\n2018-01-01,3.93787458605048\\n'}"
            ]
          },
          "metadata": {
            "tags": []
          },
          "execution_count": 27
        }
      ]
    },
    {
      "cell_type": "code",
      "metadata": {
        "id": "GNzZFfqjlekt",
        "colab_type": "code",
        "colab": {}
      },
      "source": [
        "unemployment = pd.read_csv('Unemployment Rate Aged 15-64 USA.csv')\n",
        "gdp = pd.read_csv('Real Gross Domestic Product.csv')"
      ],
      "execution_count": 0,
      "outputs": []
    },
    {
      "cell_type": "code",
      "metadata": {
        "id": "3BaTT0rVnHEn",
        "colab_type": "code",
        "colab": {
          "base_uri": "https://localhost:8080/",
          "height": 204
        },
        "outputId": "376518e3-22c5-4a68-a5cf-fdd3416b7784"
      },
      "source": [
        "unemployment.head()"
      ],
      "execution_count": 29,
      "outputs": [
        {
          "output_type": "execute_result",
          "data": {
            "text/html": [
              "<div>\n",
              "<style scoped>\n",
              "    .dataframe tbody tr th:only-of-type {\n",
              "        vertical-align: middle;\n",
              "    }\n",
              "\n",
              "    .dataframe tbody tr th {\n",
              "        vertical-align: top;\n",
              "    }\n",
              "\n",
              "    .dataframe thead th {\n",
              "        text-align: right;\n",
              "    }\n",
              "</style>\n",
              "<table border=\"1\" class=\"dataframe\">\n",
              "  <thead>\n",
              "    <tr style=\"text-align: right;\">\n",
              "      <th></th>\n",
              "      <th>DATE</th>\n",
              "      <th>LRUN64TTUSA156N</th>\n",
              "    </tr>\n",
              "  </thead>\n",
              "  <tbody>\n",
              "    <tr>\n",
              "      <th>0</th>\n",
              "      <td>1960-01-01</td>\n",
              "      <td>5.617115</td>\n",
              "    </tr>\n",
              "    <tr>\n",
              "      <th>1</th>\n",
              "      <td>1961-01-01</td>\n",
              "      <td>6.770271</td>\n",
              "    </tr>\n",
              "    <tr>\n",
              "      <th>2</th>\n",
              "      <td>1962-01-01</td>\n",
              "      <td>5.596210</td>\n",
              "    </tr>\n",
              "    <tr>\n",
              "      <th>3</th>\n",
              "      <td>1963-01-01</td>\n",
              "      <td>5.739126</td>\n",
              "    </tr>\n",
              "    <tr>\n",
              "      <th>4</th>\n",
              "      <td>1964-01-01</td>\n",
              "      <td>5.246175</td>\n",
              "    </tr>\n",
              "  </tbody>\n",
              "</table>\n",
              "</div>"
            ],
            "text/plain": [
              "         DATE  LRUN64TTUSA156N\n",
              "0  1960-01-01         5.617115\n",
              "1  1961-01-01         6.770271\n",
              "2  1962-01-01         5.596210\n",
              "3  1963-01-01         5.739126\n",
              "4  1964-01-01         5.246175"
            ]
          },
          "metadata": {
            "tags": []
          },
          "execution_count": 29
        }
      ]
    },
    {
      "cell_type": "code",
      "metadata": {
        "id": "ArfbWXQxnKMR",
        "colab_type": "code",
        "colab": {
          "base_uri": "https://localhost:8080/",
          "height": 204
        },
        "outputId": "579330a7-f5da-4894-8a6f-26f9663e1afb"
      },
      "source": [
        "unemployment['DATE'] = pd.to_datetime(unemployment['DATE'])\n",
        "unemployment.rename(columns={'DATE':'Date', 'LRUN64TTUSA156N':'unemployment'}, inplace=True)\n",
        "unemployment.head()"
      ],
      "execution_count": 47,
      "outputs": [
        {
          "output_type": "execute_result",
          "data": {
            "text/html": [
              "<div>\n",
              "<style scoped>\n",
              "    .dataframe tbody tr th:only-of-type {\n",
              "        vertical-align: middle;\n",
              "    }\n",
              "\n",
              "    .dataframe tbody tr th {\n",
              "        vertical-align: top;\n",
              "    }\n",
              "\n",
              "    .dataframe thead th {\n",
              "        text-align: right;\n",
              "    }\n",
              "</style>\n",
              "<table border=\"1\" class=\"dataframe\">\n",
              "  <thead>\n",
              "    <tr style=\"text-align: right;\">\n",
              "      <th></th>\n",
              "      <th>Date</th>\n",
              "      <th>unemployment</th>\n",
              "    </tr>\n",
              "  </thead>\n",
              "  <tbody>\n",
              "    <tr>\n",
              "      <th>0</th>\n",
              "      <td>1960-01-01</td>\n",
              "      <td>5.617115</td>\n",
              "    </tr>\n",
              "    <tr>\n",
              "      <th>1</th>\n",
              "      <td>1961-01-01</td>\n",
              "      <td>6.770271</td>\n",
              "    </tr>\n",
              "    <tr>\n",
              "      <th>2</th>\n",
              "      <td>1962-01-01</td>\n",
              "      <td>5.596210</td>\n",
              "    </tr>\n",
              "    <tr>\n",
              "      <th>3</th>\n",
              "      <td>1963-01-01</td>\n",
              "      <td>5.739126</td>\n",
              "    </tr>\n",
              "    <tr>\n",
              "      <th>4</th>\n",
              "      <td>1964-01-01</td>\n",
              "      <td>5.246175</td>\n",
              "    </tr>\n",
              "  </tbody>\n",
              "</table>\n",
              "</div>"
            ],
            "text/plain": [
              "        Date  unemployment\n",
              "0 1960-01-01      5.617115\n",
              "1 1961-01-01      6.770271\n",
              "2 1962-01-01      5.596210\n",
              "3 1963-01-01      5.739126\n",
              "4 1964-01-01      5.246175"
            ]
          },
          "metadata": {
            "tags": []
          },
          "execution_count": 47
        }
      ]
    },
    {
      "cell_type": "code",
      "metadata": {
        "id": "n_4PxtsBnx2Q",
        "colab_type": "code",
        "colab": {
          "base_uri": "https://localhost:8080/",
          "height": 204
        },
        "outputId": "ad3ed597-6a5a-46d0-9b3c-4be8b2f4784b"
      },
      "source": [
        "gdp.head()"
      ],
      "execution_count": 31,
      "outputs": [
        {
          "output_type": "execute_result",
          "data": {
            "text/html": [
              "<div>\n",
              "<style scoped>\n",
              "    .dataframe tbody tr th:only-of-type {\n",
              "        vertical-align: middle;\n",
              "    }\n",
              "\n",
              "    .dataframe tbody tr th {\n",
              "        vertical-align: top;\n",
              "    }\n",
              "\n",
              "    .dataframe thead th {\n",
              "        text-align: right;\n",
              "    }\n",
              "</style>\n",
              "<table border=\"1\" class=\"dataframe\">\n",
              "  <thead>\n",
              "    <tr style=\"text-align: right;\">\n",
              "      <th></th>\n",
              "      <th>DATE</th>\n",
              "      <th>A191RL1A225NBEA</th>\n",
              "    </tr>\n",
              "  </thead>\n",
              "  <tbody>\n",
              "    <tr>\n",
              "      <th>0</th>\n",
              "      <td>1952-01-01</td>\n",
              "      <td>4.1</td>\n",
              "    </tr>\n",
              "    <tr>\n",
              "      <th>1</th>\n",
              "      <td>1953-01-01</td>\n",
              "      <td>4.7</td>\n",
              "    </tr>\n",
              "    <tr>\n",
              "      <th>2</th>\n",
              "      <td>1954-01-01</td>\n",
              "      <td>-0.6</td>\n",
              "    </tr>\n",
              "    <tr>\n",
              "      <th>3</th>\n",
              "      <td>1955-01-01</td>\n",
              "      <td>7.1</td>\n",
              "    </tr>\n",
              "    <tr>\n",
              "      <th>4</th>\n",
              "      <td>1956-01-01</td>\n",
              "      <td>2.1</td>\n",
              "    </tr>\n",
              "  </tbody>\n",
              "</table>\n",
              "</div>"
            ],
            "text/plain": [
              "         DATE  A191RL1A225NBEA\n",
              "0  1952-01-01              4.1\n",
              "1  1953-01-01              4.7\n",
              "2  1954-01-01             -0.6\n",
              "3  1955-01-01              7.1\n",
              "4  1956-01-01              2.1"
            ]
          },
          "metadata": {
            "tags": []
          },
          "execution_count": 31
        }
      ]
    },
    {
      "cell_type": "code",
      "metadata": {
        "id": "5vsOOKQBnzRd",
        "colab_type": "code",
        "colab": {
          "base_uri": "https://localhost:8080/",
          "height": 204
        },
        "outputId": "c1012d58-3262-4f20-c30a-4049d477fa27"
      },
      "source": [
        "gdp['DATE'] = pd.to_datetime(gdp['DATE'])\n",
        "gdp.rename(columns={'DATE':'Date', 'A191RL1A225NBEA':'gdp'}, inplace=True)\n",
        "gdp.head()"
      ],
      "execution_count": 35,
      "outputs": [
        {
          "output_type": "execute_result",
          "data": {
            "text/html": [
              "<div>\n",
              "<style scoped>\n",
              "    .dataframe tbody tr th:only-of-type {\n",
              "        vertical-align: middle;\n",
              "    }\n",
              "\n",
              "    .dataframe tbody tr th {\n",
              "        vertical-align: top;\n",
              "    }\n",
              "\n",
              "    .dataframe thead th {\n",
              "        text-align: right;\n",
              "    }\n",
              "</style>\n",
              "<table border=\"1\" class=\"dataframe\">\n",
              "  <thead>\n",
              "    <tr style=\"text-align: right;\">\n",
              "      <th></th>\n",
              "      <th>Date</th>\n",
              "      <th>gdp</th>\n",
              "    </tr>\n",
              "  </thead>\n",
              "  <tbody>\n",
              "    <tr>\n",
              "      <th>0</th>\n",
              "      <td>1952-01-01</td>\n",
              "      <td>4.1</td>\n",
              "    </tr>\n",
              "    <tr>\n",
              "      <th>1</th>\n",
              "      <td>1953-01-01</td>\n",
              "      <td>4.7</td>\n",
              "    </tr>\n",
              "    <tr>\n",
              "      <th>2</th>\n",
              "      <td>1954-01-01</td>\n",
              "      <td>-0.6</td>\n",
              "    </tr>\n",
              "    <tr>\n",
              "      <th>3</th>\n",
              "      <td>1955-01-01</td>\n",
              "      <td>7.1</td>\n",
              "    </tr>\n",
              "    <tr>\n",
              "      <th>4</th>\n",
              "      <td>1956-01-01</td>\n",
              "      <td>2.1</td>\n",
              "    </tr>\n",
              "  </tbody>\n",
              "</table>\n",
              "</div>"
            ],
            "text/plain": [
              "        Date  gdp\n",
              "0 1952-01-01  4.1\n",
              "1 1953-01-01  4.7\n",
              "2 1954-01-01 -0.6\n",
              "3 1955-01-01  7.1\n",
              "4 1956-01-01  2.1"
            ]
          },
          "metadata": {
            "tags": []
          },
          "execution_count": 35
        }
      ]
    },
    {
      "cell_type": "code",
      "metadata": {
        "id": "BgUNFtrToTDv",
        "colab_type": "code",
        "colab": {
          "base_uri": "https://localhost:8080/",
          "height": 204
        },
        "outputId": "3d14674c-8a83-428f-bf01-b75ac942c30d"
      },
      "source": [
        "gdp['Year'] = gdp['Date'].dt.year\n",
        "gdp = gdp.drop('Date', axis=1)\n",
        "gdp.head()"
      ],
      "execution_count": 39,
      "outputs": [
        {
          "output_type": "execute_result",
          "data": {
            "text/html": [
              "<div>\n",
              "<style scoped>\n",
              "    .dataframe tbody tr th:only-of-type {\n",
              "        vertical-align: middle;\n",
              "    }\n",
              "\n",
              "    .dataframe tbody tr th {\n",
              "        vertical-align: top;\n",
              "    }\n",
              "\n",
              "    .dataframe thead th {\n",
              "        text-align: right;\n",
              "    }\n",
              "</style>\n",
              "<table border=\"1\" class=\"dataframe\">\n",
              "  <thead>\n",
              "    <tr style=\"text-align: right;\">\n",
              "      <th></th>\n",
              "      <th>gdp</th>\n",
              "      <th>Year</th>\n",
              "    </tr>\n",
              "  </thead>\n",
              "  <tbody>\n",
              "    <tr>\n",
              "      <th>0</th>\n",
              "      <td>4.1</td>\n",
              "      <td>1952</td>\n",
              "    </tr>\n",
              "    <tr>\n",
              "      <th>1</th>\n",
              "      <td>4.7</td>\n",
              "      <td>1953</td>\n",
              "    </tr>\n",
              "    <tr>\n",
              "      <th>2</th>\n",
              "      <td>-0.6</td>\n",
              "      <td>1954</td>\n",
              "    </tr>\n",
              "    <tr>\n",
              "      <th>3</th>\n",
              "      <td>7.1</td>\n",
              "      <td>1955</td>\n",
              "    </tr>\n",
              "    <tr>\n",
              "      <th>4</th>\n",
              "      <td>2.1</td>\n",
              "      <td>1956</td>\n",
              "    </tr>\n",
              "  </tbody>\n",
              "</table>\n",
              "</div>"
            ],
            "text/plain": [
              "   gdp  Year\n",
              "0  4.1  1952\n",
              "1  4.7  1953\n",
              "2 -0.6  1954\n",
              "3  7.1  1955\n",
              "4  2.1  1956"
            ]
          },
          "metadata": {
            "tags": []
          },
          "execution_count": 39
        }
      ]
    },
    {
      "cell_type": "code",
      "metadata": {
        "id": "0k_97DbspMru",
        "colab_type": "code",
        "colab": {}
      },
      "source": [
        "unemployment['Year'] = unemployment['Date'].dt.year\n"
      ],
      "execution_count": 0,
      "outputs": []
    },
    {
      "cell_type": "code",
      "metadata": {
        "id": "Lv71okVrpusj",
        "colab_type": "code",
        "colab": {
          "base_uri": "https://localhost:8080/",
          "height": 204
        },
        "outputId": "d4952ce5-80bc-49b0-89a1-b49ca2a1e12e"
      },
      "source": [
        "unemployment = unemployment.drop('Date', axis=1)\n",
        "unemployment.head()"
      ],
      "execution_count": 50,
      "outputs": [
        {
          "output_type": "execute_result",
          "data": {
            "text/html": [
              "<div>\n",
              "<style scoped>\n",
              "    .dataframe tbody tr th:only-of-type {\n",
              "        vertical-align: middle;\n",
              "    }\n",
              "\n",
              "    .dataframe tbody tr th {\n",
              "        vertical-align: top;\n",
              "    }\n",
              "\n",
              "    .dataframe thead th {\n",
              "        text-align: right;\n",
              "    }\n",
              "</style>\n",
              "<table border=\"1\" class=\"dataframe\">\n",
              "  <thead>\n",
              "    <tr style=\"text-align: right;\">\n",
              "      <th></th>\n",
              "      <th>unemployment</th>\n",
              "      <th>Year</th>\n",
              "    </tr>\n",
              "  </thead>\n",
              "  <tbody>\n",
              "    <tr>\n",
              "      <th>0</th>\n",
              "      <td>5.617115</td>\n",
              "      <td>1960</td>\n",
              "    </tr>\n",
              "    <tr>\n",
              "      <th>1</th>\n",
              "      <td>6.770271</td>\n",
              "      <td>1961</td>\n",
              "    </tr>\n",
              "    <tr>\n",
              "      <th>2</th>\n",
              "      <td>5.596210</td>\n",
              "      <td>1962</td>\n",
              "    </tr>\n",
              "    <tr>\n",
              "      <th>3</th>\n",
              "      <td>5.739126</td>\n",
              "      <td>1963</td>\n",
              "    </tr>\n",
              "    <tr>\n",
              "      <th>4</th>\n",
              "      <td>5.246175</td>\n",
              "      <td>1964</td>\n",
              "    </tr>\n",
              "  </tbody>\n",
              "</table>\n",
              "</div>"
            ],
            "text/plain": [
              "   unemployment  Year\n",
              "0      5.617115  1960\n",
              "1      6.770271  1961\n",
              "2      5.596210  1962\n",
              "3      5.739126  1963\n",
              "4      5.246175  1964"
            ]
          },
          "metadata": {
            "tags": []
          },
          "execution_count": 50
        }
      ]
    },
    {
      "cell_type": "code",
      "metadata": {
        "id": "j1fJLRhDp2az",
        "colab_type": "code",
        "colab": {
          "base_uri": "https://localhost:8080/",
          "height": 619
        },
        "outputId": "57bfdadc-98a1-43f6-e69d-9c62f464b993"
      },
      "source": [
        "df = df.merge(unemployment).merge(gdp)\n",
        "df"
      ],
      "execution_count": 51,
      "outputs": [
        {
          "output_type": "execute_result",
          "data": {
            "text/html": [
              "<div>\n",
              "<style scoped>\n",
              "    .dataframe tbody tr th:only-of-type {\n",
              "        vertical-align: middle;\n",
              "    }\n",
              "\n",
              "    .dataframe tbody tr th {\n",
              "        vertical-align: top;\n",
              "    }\n",
              "\n",
              "    .dataframe thead th {\n",
              "        text-align: right;\n",
              "    }\n",
              "</style>\n",
              "<table border=\"1\" class=\"dataframe\">\n",
              "  <thead>\n",
              "    <tr style=\"text-align: right;\">\n",
              "      <th></th>\n",
              "      <th>Year</th>\n",
              "      <th>Incumbent Party Candidate</th>\n",
              "      <th>Other Candidate</th>\n",
              "      <th>Incumbent Party Vote Share</th>\n",
              "      <th>Average Recent Growth in Personal Incomes</th>\n",
              "      <th>US Military Fatalities per Million</th>\n",
              "      <th>Mean Baseline</th>\n",
              "      <th>Error</th>\n",
              "      <th>Absolute Error</th>\n",
              "      <th>Linear Regression, 1 feature</th>\n",
              "      <th>unemployment</th>\n",
              "      <th>gdp</th>\n",
              "    </tr>\n",
              "  </thead>\n",
              "  <tbody>\n",
              "    <tr>\n",
              "      <th>0</th>\n",
              "      <td>1960</td>\n",
              "      <td>Nixon</td>\n",
              "      <td>Kennedy</td>\n",
              "      <td>49.91</td>\n",
              "      <td>0.85</td>\n",
              "      <td>0</td>\n",
              "      <td>51.828235</td>\n",
              "      <td>-0.882740</td>\n",
              "      <td>0.882740</td>\n",
              "      <td>49.027260</td>\n",
              "      <td>5.617115</td>\n",
              "      <td>2.6</td>\n",
              "    </tr>\n",
              "    <tr>\n",
              "      <th>1</th>\n",
              "      <td>1964</td>\n",
              "      <td>Johnson</td>\n",
              "      <td>Goldwater</td>\n",
              "      <td>61.34</td>\n",
              "      <td>4.21</td>\n",
              "      <td>1</td>\n",
              "      <td>51.828235</td>\n",
              "      <td>-2.319505</td>\n",
              "      <td>2.319505</td>\n",
              "      <td>59.020495</td>\n",
              "      <td>5.246175</td>\n",
              "      <td>5.8</td>\n",
              "    </tr>\n",
              "    <tr>\n",
              "      <th>2</th>\n",
              "      <td>1968</td>\n",
              "      <td>Humphrey</td>\n",
              "      <td>Nixon</td>\n",
              "      <td>49.60</td>\n",
              "      <td>3.02</td>\n",
              "      <td>146</td>\n",
              "      <td>51.828235</td>\n",
              "      <td>5.881225</td>\n",
              "      <td>5.881225</td>\n",
              "      <td>55.481225</td>\n",
              "      <td>3.608531</td>\n",
              "      <td>4.9</td>\n",
              "    </tr>\n",
              "    <tr>\n",
              "      <th>3</th>\n",
              "      <td>1972</td>\n",
              "      <td>Nixon</td>\n",
              "      <td>McGovern</td>\n",
              "      <td>61.79</td>\n",
              "      <td>3.62</td>\n",
              "      <td>0</td>\n",
              "      <td>51.828235</td>\n",
              "      <td>-4.524269</td>\n",
              "      <td>4.524269</td>\n",
              "      <td>57.265731</td>\n",
              "      <td>5.688501</td>\n",
              "      <td>5.3</td>\n",
              "    </tr>\n",
              "    <tr>\n",
              "      <th>4</th>\n",
              "      <td>1976</td>\n",
              "      <td>Ford</td>\n",
              "      <td>Carter</td>\n",
              "      <td>48.95</td>\n",
              "      <td>1.08</td>\n",
              "      <td>2</td>\n",
              "      <td>51.828235</td>\n",
              "      <td>0.761321</td>\n",
              "      <td>0.761321</td>\n",
              "      <td>49.711321</td>\n",
              "      <td>7.786562</td>\n",
              "      <td>5.4</td>\n",
              "    </tr>\n",
              "    <tr>\n",
              "      <th>5</th>\n",
              "      <td>1980</td>\n",
              "      <td>Carter</td>\n",
              "      <td>Reagan</td>\n",
              "      <td>44.70</td>\n",
              "      <td>-0.39</td>\n",
              "      <td>0</td>\n",
              "      <td>51.828235</td>\n",
              "      <td>0.639281</td>\n",
              "      <td>0.639281</td>\n",
              "      <td>45.339281</td>\n",
              "      <td>7.255717</td>\n",
              "      <td>-0.3</td>\n",
              "    </tr>\n",
              "    <tr>\n",
              "      <th>6</th>\n",
              "      <td>1984</td>\n",
              "      <td>Reagan</td>\n",
              "      <td>Mondale</td>\n",
              "      <td>59.17</td>\n",
              "      <td>3.86</td>\n",
              "      <td>0</td>\n",
              "      <td>51.828235</td>\n",
              "      <td>-1.190467</td>\n",
              "      <td>1.190467</td>\n",
              "      <td>57.979533</td>\n",
              "      <td>7.637412</td>\n",
              "      <td>7.2</td>\n",
              "    </tr>\n",
              "    <tr>\n",
              "      <th>7</th>\n",
              "      <td>1988</td>\n",
              "      <td>Bush, Sr.</td>\n",
              "      <td>Dukakis</td>\n",
              "      <td>53.94</td>\n",
              "      <td>2.27</td>\n",
              "      <td>0</td>\n",
              "      <td>51.828235</td>\n",
              "      <td>-0.689408</td>\n",
              "      <td>0.689408</td>\n",
              "      <td>53.250592</td>\n",
              "      <td>5.589161</td>\n",
              "      <td>4.2</td>\n",
              "    </tr>\n",
              "    <tr>\n",
              "      <th>8</th>\n",
              "      <td>1992</td>\n",
              "      <td>Bush, Sr.</td>\n",
              "      <td>Clinton</td>\n",
              "      <td>46.55</td>\n",
              "      <td>0.38</td>\n",
              "      <td>0</td>\n",
              "      <td>51.828235</td>\n",
              "      <td>1.079397</td>\n",
              "      <td>1.079397</td>\n",
              "      <td>47.629397</td>\n",
              "      <td>7.607437</td>\n",
              "      <td>3.5</td>\n",
              "    </tr>\n",
              "    <tr>\n",
              "      <th>9</th>\n",
              "      <td>1996</td>\n",
              "      <td>Clinton</td>\n",
              "      <td>Dole</td>\n",
              "      <td>54.74</td>\n",
              "      <td>1.04</td>\n",
              "      <td>0</td>\n",
              "      <td>51.828235</td>\n",
              "      <td>-5.147646</td>\n",
              "      <td>5.147646</td>\n",
              "      <td>49.592354</td>\n",
              "      <td>5.457434</td>\n",
              "      <td>3.8</td>\n",
              "    </tr>\n",
              "    <tr>\n",
              "      <th>10</th>\n",
              "      <td>2000</td>\n",
              "      <td>Gore</td>\n",
              "      <td>Bush, Jr.</td>\n",
              "      <td>50.27</td>\n",
              "      <td>2.36</td>\n",
              "      <td>0</td>\n",
              "      <td>51.828235</td>\n",
              "      <td>3.248268</td>\n",
              "      <td>3.248268</td>\n",
              "      <td>53.518268</td>\n",
              "      <td>4.020985</td>\n",
              "      <td>4.1</td>\n",
              "    </tr>\n",
              "    <tr>\n",
              "      <th>11</th>\n",
              "      <td>2004</td>\n",
              "      <td>Bush, Jr.</td>\n",
              "      <td>Kerry</td>\n",
              "      <td>51.24</td>\n",
              "      <td>1.72</td>\n",
              "      <td>4</td>\n",
              "      <td>51.828235</td>\n",
              "      <td>0.374794</td>\n",
              "      <td>0.374794</td>\n",
              "      <td>51.614794</td>\n",
              "      <td>5.597952</td>\n",
              "      <td>3.8</td>\n",
              "    </tr>\n",
              "    <tr>\n",
              "      <th>12</th>\n",
              "      <td>2008</td>\n",
              "      <td>McCain</td>\n",
              "      <td>Obama</td>\n",
              "      <td>46.32</td>\n",
              "      <td>0.10</td>\n",
              "      <td>14</td>\n",
              "      <td>51.828235</td>\n",
              "      <td>0.476627</td>\n",
              "      <td>0.476627</td>\n",
              "      <td>46.796627</td>\n",
              "      <td>5.847526</td>\n",
              "      <td>-0.1</td>\n",
              "    </tr>\n",
              "    <tr>\n",
              "      <th>13</th>\n",
              "      <td>2012</td>\n",
              "      <td>Obama</td>\n",
              "      <td>Romney</td>\n",
              "      <td>52.00</td>\n",
              "      <td>0.95</td>\n",
              "      <td>5</td>\n",
              "      <td>51.828235</td>\n",
              "      <td>-2.675322</td>\n",
              "      <td>2.675322</td>\n",
              "      <td>49.324678</td>\n",
              "      <td>8.165597</td>\n",
              "      <td>2.2</td>\n",
              "    </tr>\n",
              "    <tr>\n",
              "      <th>14</th>\n",
              "      <td>2016</td>\n",
              "      <td>Clinton</td>\n",
              "      <td>Trump</td>\n",
              "      <td>48.20</td>\n",
              "      <td>0.10</td>\n",
              "      <td>5</td>\n",
              "      <td>51.828235</td>\n",
              "      <td>-1.403373</td>\n",
              "      <td>1.403373</td>\n",
              "      <td>46.796627</td>\n",
              "      <td>4.933476</td>\n",
              "      <td>1.6</td>\n",
              "    </tr>\n",
              "  </tbody>\n",
              "</table>\n",
              "</div>"
            ],
            "text/plain": [
              "    Year Incumbent Party Candidate  ... unemployment  gdp\n",
              "0   1960                     Nixon  ...     5.617115  2.6\n",
              "1   1964                   Johnson  ...     5.246175  5.8\n",
              "2   1968                  Humphrey  ...     3.608531  4.9\n",
              "3   1972                     Nixon  ...     5.688501  5.3\n",
              "4   1976                      Ford  ...     7.786562  5.4\n",
              "5   1980                    Carter  ...     7.255717 -0.3\n",
              "6   1984                    Reagan  ...     7.637412  7.2\n",
              "7   1988                 Bush, Sr.  ...     5.589161  4.2\n",
              "8   1992                 Bush, Sr.  ...     7.607437  3.5\n",
              "9   1996                   Clinton  ...     5.457434  3.8\n",
              "10  2000                      Gore  ...     4.020985  4.1\n",
              "11  2004                 Bush, Jr.  ...     5.597952  3.8\n",
              "12  2008                    McCain  ...     5.847526 -0.1\n",
              "13  2012                     Obama  ...     8.165597  2.2\n",
              "14  2016                   Clinton  ...     4.933476  1.6\n",
              "\n",
              "[15 rows x 12 columns]"
            ]
          },
          "metadata": {
            "tags": []
          },
          "execution_count": 51
        }
      ]
    },
    {
      "cell_type": "code",
      "metadata": {
        "id": "SKnItFZ5rxHT",
        "colab_type": "code",
        "colab": {}
      },
      "source": [
        "from sklearn.linear_model import LinearRegression\n",
        "model = LinearRegression()"
      ],
      "execution_count": 0,
      "outputs": []
    },
    {
      "cell_type": "code",
      "metadata": {
        "id": "e2jbd7zbr5ig",
        "colab_type": "code",
        "colab": {}
      },
      "source": [
        "features = ['Average Recent Growth in Personal Incomes', \n",
        "            'unemployment', 'gdp']\n",
        "\n",
        "target = 'Incumbent Party Vote Share'\n",
        "\n",
        "X = df[features]\n",
        "y = df[target]"
      ],
      "execution_count": 0,
      "outputs": []
    },
    {
      "cell_type": "code",
      "metadata": {
        "id": "d9NHBQ-FsF4l",
        "colab_type": "code",
        "colab": {
          "base_uri": "https://localhost:8080/",
          "height": 34
        },
        "outputId": "602b7394-251a-466c-ea57-4ef833867f17"
      },
      "source": [
        "model.fit(X, y)"
      ],
      "execution_count": 55,
      "outputs": [
        {
          "output_type": "execute_result",
          "data": {
            "text/plain": [
              "LinearRegression(copy_X=True, fit_intercept=True, n_jobs=None, normalize=False)"
            ]
          },
          "metadata": {
            "tags": []
          },
          "execution_count": 55
        }
      ]
    },
    {
      "cell_type": "code",
      "metadata": {
        "id": "9UtWWFkqsHZO",
        "colab_type": "code",
        "colab": {}
      },
      "source": [
        "y_pred = model.predict(X)"
      ],
      "execution_count": 0,
      "outputs": []
    },
    {
      "cell_type": "code",
      "metadata": {
        "id": "iz2zsaQJsLME",
        "colab_type": "code",
        "colab": {
          "base_uri": "https://localhost:8080/",
          "height": 34
        },
        "outputId": "4864f78d-3f71-4b4f-a8de-7275a0631e0f"
      },
      "source": [
        "mean_absolute_error(y, y_pred)"
      ],
      "execution_count": 57,
      "outputs": [
        {
          "output_type": "execute_result",
          "data": {
            "text/plain": [
              "1.9876786050502468"
            ]
          },
          "metadata": {
            "tags": []
          },
          "execution_count": 57
        }
      ]
    },
    {
      "cell_type": "code",
      "metadata": {
        "id": "w_MGNbrstcq1",
        "colab_type": "code",
        "colab": {
          "base_uri": "https://localhost:8080/",
          "height": 619
        },
        "outputId": "358fd587-7a1e-4995-ba08-662847e7d123"
      },
      "source": [
        "df['Linear Regression, 3 features'] = y_pred\n",
        "df['Error 2'] = y_pred - df[target]\n",
        "df['Absolute Error 2'] = df['Error 2'].abs()\n",
        "df"
      ],
      "execution_count": 58,
      "outputs": [
        {
          "output_type": "execute_result",
          "data": {
            "text/html": [
              "<div>\n",
              "<style scoped>\n",
              "    .dataframe tbody tr th:only-of-type {\n",
              "        vertical-align: middle;\n",
              "    }\n",
              "\n",
              "    .dataframe tbody tr th {\n",
              "        vertical-align: top;\n",
              "    }\n",
              "\n",
              "    .dataframe thead th {\n",
              "        text-align: right;\n",
              "    }\n",
              "</style>\n",
              "<table border=\"1\" class=\"dataframe\">\n",
              "  <thead>\n",
              "    <tr style=\"text-align: right;\">\n",
              "      <th></th>\n",
              "      <th>Year</th>\n",
              "      <th>Incumbent Party Candidate</th>\n",
              "      <th>Other Candidate</th>\n",
              "      <th>Incumbent Party Vote Share</th>\n",
              "      <th>Average Recent Growth in Personal Incomes</th>\n",
              "      <th>US Military Fatalities per Million</th>\n",
              "      <th>Mean Baseline</th>\n",
              "      <th>Error</th>\n",
              "      <th>Absolute Error</th>\n",
              "      <th>Linear Regression, 1 feature</th>\n",
              "      <th>unemployment</th>\n",
              "      <th>gdp</th>\n",
              "      <th>Linear Regression, 3 features</th>\n",
              "      <th>Error 2</th>\n",
              "      <th>Absolute Error 2</th>\n",
              "    </tr>\n",
              "  </thead>\n",
              "  <tbody>\n",
              "    <tr>\n",
              "      <th>0</th>\n",
              "      <td>1960</td>\n",
              "      <td>Nixon</td>\n",
              "      <td>Kennedy</td>\n",
              "      <td>49.91</td>\n",
              "      <td>0.85</td>\n",
              "      <td>0</td>\n",
              "      <td>51.828235</td>\n",
              "      <td>-0.882740</td>\n",
              "      <td>0.882740</td>\n",
              "      <td>49.027260</td>\n",
              "      <td>5.617115</td>\n",
              "      <td>2.6</td>\n",
              "      <td>48.862642</td>\n",
              "      <td>-1.047358</td>\n",
              "      <td>1.047358</td>\n",
              "    </tr>\n",
              "    <tr>\n",
              "      <th>1</th>\n",
              "      <td>1964</td>\n",
              "      <td>Johnson</td>\n",
              "      <td>Goldwater</td>\n",
              "      <td>61.34</td>\n",
              "      <td>4.21</td>\n",
              "      <td>1</td>\n",
              "      <td>51.828235</td>\n",
              "      <td>-2.319505</td>\n",
              "      <td>2.319505</td>\n",
              "      <td>59.020495</td>\n",
              "      <td>5.246175</td>\n",
              "      <td>5.8</td>\n",
              "      <td>59.954533</td>\n",
              "      <td>-1.385467</td>\n",
              "      <td>1.385467</td>\n",
              "    </tr>\n",
              "    <tr>\n",
              "      <th>2</th>\n",
              "      <td>1968</td>\n",
              "      <td>Humphrey</td>\n",
              "      <td>Nixon</td>\n",
              "      <td>49.60</td>\n",
              "      <td>3.02</td>\n",
              "      <td>146</td>\n",
              "      <td>51.828235</td>\n",
              "      <td>5.881225</td>\n",
              "      <td>5.881225</td>\n",
              "      <td>55.481225</td>\n",
              "      <td>3.608531</td>\n",
              "      <td>4.9</td>\n",
              "      <td>54.525337</td>\n",
              "      <td>4.925337</td>\n",
              "      <td>4.925337</td>\n",
              "    </tr>\n",
              "    <tr>\n",
              "      <th>3</th>\n",
              "      <td>1972</td>\n",
              "      <td>Nixon</td>\n",
              "      <td>McGovern</td>\n",
              "      <td>61.79</td>\n",
              "      <td>3.62</td>\n",
              "      <td>0</td>\n",
              "      <td>51.828235</td>\n",
              "      <td>-4.524269</td>\n",
              "      <td>4.524269</td>\n",
              "      <td>57.265731</td>\n",
              "      <td>5.688501</td>\n",
              "      <td>5.3</td>\n",
              "      <td>58.291431</td>\n",
              "      <td>-3.498569</td>\n",
              "      <td>3.498569</td>\n",
              "    </tr>\n",
              "    <tr>\n",
              "      <th>4</th>\n",
              "      <td>1976</td>\n",
              "      <td>Ford</td>\n",
              "      <td>Carter</td>\n",
              "      <td>48.95</td>\n",
              "      <td>1.08</td>\n",
              "      <td>2</td>\n",
              "      <td>51.828235</td>\n",
              "      <td>0.761321</td>\n",
              "      <td>0.761321</td>\n",
              "      <td>49.711321</td>\n",
              "      <td>7.786562</td>\n",
              "      <td>5.4</td>\n",
              "      <td>50.573309</td>\n",
              "      <td>1.623309</td>\n",
              "      <td>1.623309</td>\n",
              "    </tr>\n",
              "    <tr>\n",
              "      <th>5</th>\n",
              "      <td>1980</td>\n",
              "      <td>Carter</td>\n",
              "      <td>Reagan</td>\n",
              "      <td>44.70</td>\n",
              "      <td>-0.39</td>\n",
              "      <td>0</td>\n",
              "      <td>51.828235</td>\n",
              "      <td>0.639281</td>\n",
              "      <td>0.639281</td>\n",
              "      <td>45.339281</td>\n",
              "      <td>7.255717</td>\n",
              "      <td>-0.3</td>\n",
              "      <td>46.525784</td>\n",
              "      <td>1.825784</td>\n",
              "      <td>1.825784</td>\n",
              "    </tr>\n",
              "    <tr>\n",
              "      <th>6</th>\n",
              "      <td>1984</td>\n",
              "      <td>Reagan</td>\n",
              "      <td>Mondale</td>\n",
              "      <td>59.17</td>\n",
              "      <td>3.86</td>\n",
              "      <td>0</td>\n",
              "      <td>51.828235</td>\n",
              "      <td>-1.190467</td>\n",
              "      <td>1.190467</td>\n",
              "      <td>57.979533</td>\n",
              "      <td>7.637412</td>\n",
              "      <td>7.2</td>\n",
              "      <td>60.146684</td>\n",
              "      <td>0.976684</td>\n",
              "      <td>0.976684</td>\n",
              "    </tr>\n",
              "    <tr>\n",
              "      <th>7</th>\n",
              "      <td>1988</td>\n",
              "      <td>Bush, Sr.</td>\n",
              "      <td>Dukakis</td>\n",
              "      <td>53.94</td>\n",
              "      <td>2.27</td>\n",
              "      <td>0</td>\n",
              "      <td>51.828235</td>\n",
              "      <td>-0.689408</td>\n",
              "      <td>0.689408</td>\n",
              "      <td>53.250592</td>\n",
              "      <td>5.589161</td>\n",
              "      <td>4.2</td>\n",
              "      <td>53.575620</td>\n",
              "      <td>-0.364380</td>\n",
              "      <td>0.364380</td>\n",
              "    </tr>\n",
              "    <tr>\n",
              "      <th>8</th>\n",
              "      <td>1992</td>\n",
              "      <td>Bush, Sr.</td>\n",
              "      <td>Clinton</td>\n",
              "      <td>46.55</td>\n",
              "      <td>0.38</td>\n",
              "      <td>0</td>\n",
              "      <td>51.828235</td>\n",
              "      <td>1.079397</td>\n",
              "      <td>1.079397</td>\n",
              "      <td>47.629397</td>\n",
              "      <td>7.607437</td>\n",
              "      <td>3.5</td>\n",
              "      <td>48.446984</td>\n",
              "      <td>1.896984</td>\n",
              "      <td>1.896984</td>\n",
              "    </tr>\n",
              "    <tr>\n",
              "      <th>9</th>\n",
              "      <td>1996</td>\n",
              "      <td>Clinton</td>\n",
              "      <td>Dole</td>\n",
              "      <td>54.74</td>\n",
              "      <td>1.04</td>\n",
              "      <td>0</td>\n",
              "      <td>51.828235</td>\n",
              "      <td>-5.147646</td>\n",
              "      <td>5.147646</td>\n",
              "      <td>49.592354</td>\n",
              "      <td>5.457434</td>\n",
              "      <td>3.8</td>\n",
              "      <td>49.054688</td>\n",
              "      <td>-5.685312</td>\n",
              "      <td>5.685312</td>\n",
              "    </tr>\n",
              "    <tr>\n",
              "      <th>10</th>\n",
              "      <td>2000</td>\n",
              "      <td>Gore</td>\n",
              "      <td>Bush, Jr.</td>\n",
              "      <td>50.27</td>\n",
              "      <td>2.36</td>\n",
              "      <td>0</td>\n",
              "      <td>51.828235</td>\n",
              "      <td>3.248268</td>\n",
              "      <td>3.248268</td>\n",
              "      <td>53.518268</td>\n",
              "      <td>4.020985</td>\n",
              "      <td>4.1</td>\n",
              "      <td>52.674855</td>\n",
              "      <td>2.404855</td>\n",
              "      <td>2.404855</td>\n",
              "    </tr>\n",
              "    <tr>\n",
              "      <th>11</th>\n",
              "      <td>2004</td>\n",
              "      <td>Bush, Jr.</td>\n",
              "      <td>Kerry</td>\n",
              "      <td>51.24</td>\n",
              "      <td>1.72</td>\n",
              "      <td>4</td>\n",
              "      <td>51.828235</td>\n",
              "      <td>0.374794</td>\n",
              "      <td>0.374794</td>\n",
              "      <td>51.614794</td>\n",
              "      <td>5.597952</td>\n",
              "      <td>3.8</td>\n",
              "      <td>51.678820</td>\n",
              "      <td>0.438820</td>\n",
              "      <td>0.438820</td>\n",
              "    </tr>\n",
              "    <tr>\n",
              "      <th>12</th>\n",
              "      <td>2008</td>\n",
              "      <td>McCain</td>\n",
              "      <td>Obama</td>\n",
              "      <td>46.32</td>\n",
              "      <td>0.10</td>\n",
              "      <td>14</td>\n",
              "      <td>51.828235</td>\n",
              "      <td>0.476627</td>\n",
              "      <td>0.476627</td>\n",
              "      <td>46.796627</td>\n",
              "      <td>5.847526</td>\n",
              "      <td>-0.1</td>\n",
              "      <td>47.135816</td>\n",
              "      <td>0.815816</td>\n",
              "      <td>0.815816</td>\n",
              "    </tr>\n",
              "    <tr>\n",
              "      <th>13</th>\n",
              "      <td>2012</td>\n",
              "      <td>Obama</td>\n",
              "      <td>Romney</td>\n",
              "      <td>52.00</td>\n",
              "      <td>0.95</td>\n",
              "      <td>5</td>\n",
              "      <td>51.828235</td>\n",
              "      <td>-2.675322</td>\n",
              "      <td>2.675322</td>\n",
              "      <td>49.324678</td>\n",
              "      <td>8.165597</td>\n",
              "      <td>2.2</td>\n",
              "      <td>51.414244</td>\n",
              "      <td>-0.585756</td>\n",
              "      <td>0.585756</td>\n",
              "    </tr>\n",
              "    <tr>\n",
              "      <th>14</th>\n",
              "      <td>2016</td>\n",
              "      <td>Clinton</td>\n",
              "      <td>Trump</td>\n",
              "      <td>48.20</td>\n",
              "      <td>0.10</td>\n",
              "      <td>5</td>\n",
              "      <td>51.828235</td>\n",
              "      <td>-1.403373</td>\n",
              "      <td>1.403373</td>\n",
              "      <td>46.796627</td>\n",
              "      <td>4.933476</td>\n",
              "      <td>1.6</td>\n",
              "      <td>45.859253</td>\n",
              "      <td>-2.340747</td>\n",
              "      <td>2.340747</td>\n",
              "    </tr>\n",
              "  </tbody>\n",
              "</table>\n",
              "</div>"
            ],
            "text/plain": [
              "    Year Incumbent Party Candidate  ...   Error 2  Absolute Error 2\n",
              "0   1960                     Nixon  ... -1.047358          1.047358\n",
              "1   1964                   Johnson  ... -1.385467          1.385467\n",
              "2   1968                  Humphrey  ...  4.925337          4.925337\n",
              "3   1972                     Nixon  ... -3.498569          3.498569\n",
              "4   1976                      Ford  ...  1.623309          1.623309\n",
              "5   1980                    Carter  ...  1.825784          1.825784\n",
              "6   1984                    Reagan  ...  0.976684          0.976684\n",
              "7   1988                 Bush, Sr.  ... -0.364380          0.364380\n",
              "8   1992                 Bush, Sr.  ...  1.896984          1.896984\n",
              "9   1996                   Clinton  ... -5.685312          5.685312\n",
              "10  2000                      Gore  ...  2.404855          2.404855\n",
              "11  2004                 Bush, Jr.  ...  0.438820          0.438820\n",
              "12  2008                    McCain  ...  0.815816          0.815816\n",
              "13  2012                     Obama  ... -0.585756          0.585756\n",
              "14  2016                   Clinton  ... -2.340747          2.340747\n",
              "\n",
              "[15 rows x 15 columns]"
            ]
          },
          "metadata": {
            "tags": []
          },
          "execution_count": 58
        }
      ]
    },
    {
      "cell_type": "markdown",
      "metadata": {
        "id": "BvKoHfBgzTfM",
        "colab_type": "text"
      },
      "source": [
        "## Test-train split"
      ]
    },
    {
      "cell_type": "code",
      "metadata": {
        "id": "C3F_JKKlzYQt",
        "colab_type": "code",
        "colab": {
          "base_uri": "https://localhost:8080/",
          "height": 34
        },
        "outputId": "e2ed2fcb-a028-45bb-cb04-2421f52a0326"
      },
      "source": [
        "train = df.query('Year < 2008')\n",
        "test  = df.query('Year >= 2008')\n",
        "X_train = train[features] \n",
        "y_train = train[target]\n",
        "X_test  = test[features]\n",
        "y_test  = test[target]\n",
        "\n",
        "X_train.shape, y_train.shape, X_test.shape, y_test.shape"
      ],
      "execution_count": 59,
      "outputs": [
        {
          "output_type": "execute_result",
          "data": {
            "text/plain": [
              "((12, 3), (12,), (3, 3), (3,))"
            ]
          },
          "metadata": {
            "tags": []
          },
          "execution_count": 59
        }
      ]
    },
    {
      "cell_type": "code",
      "metadata": {
        "id": "Mn37zzHRzg44",
        "colab_type": "code",
        "colab": {
          "base_uri": "https://localhost:8080/",
          "height": 34
        },
        "outputId": "4e065660-3c9d-448b-d663-a40ac97e5941"
      },
      "source": [
        "model.fit(X_train, y_train)"
      ],
      "execution_count": 60,
      "outputs": [
        {
          "output_type": "execute_result",
          "data": {
            "text/plain": [
              "LinearRegression(copy_X=True, fit_intercept=True, n_jobs=None, normalize=False)"
            ]
          },
          "metadata": {
            "tags": []
          },
          "execution_count": 60
        }
      ]
    },
    {
      "cell_type": "code",
      "metadata": {
        "id": "4412h80Nzica",
        "colab_type": "code",
        "colab": {
          "base_uri": "https://localhost:8080/",
          "height": 34
        },
        "outputId": "da333105-9c8a-4c20-bcd4-fdac7a0da51f"
      },
      "source": [
        "y_pred = model.predict(X_test)\n",
        "\n",
        "y_pred"
      ],
      "execution_count": 61,
      "outputs": [
        {
          "output_type": "execute_result",
          "data": {
            "text/plain": [
              "array([46.75065578, 51.4485494 , 45.18926502])"
            ]
          },
          "metadata": {
            "tags": []
          },
          "execution_count": 61
        }
      ]
    },
    {
      "cell_type": "code",
      "metadata": {
        "id": "opme1IJ9zn2f",
        "colab_type": "code",
        "colab": {
          "base_uri": "https://localhost:8080/",
          "height": 34
        },
        "outputId": "a752662a-26c8-41e5-87dd-1b711ce91282"
      },
      "source": [
        "mean_absolute_error(y_test, y_pred)"
      ],
      "execution_count": 62,
      "outputs": [
        {
          "output_type": "execute_result",
          "data": {
            "text/plain": [
              "1.3309471195296254"
            ]
          },
          "metadata": {
            "tags": []
          },
          "execution_count": 62
        }
      ]
    },
    {
      "cell_type": "markdown",
      "metadata": {
        "id": "NDPq3QJRzrnW",
        "colab_type": "text"
      },
      "source": [
        "## leave-one-out cross-validation"
      ]
    },
    {
      "cell_type": "code",
      "metadata": {
        "id": "VLMx6GpwzyJF",
        "colab_type": "code",
        "colab": {
          "base_uri": "https://localhost:8080/",
          "height": 544
        },
        "outputId": "fa20f123-098f-417c-eb32-892267df4d2a"
      },
      "source": [
        "from sklearn.linear_model import LinearRegression\n",
        "\n",
        "print('Leave-One-Out Cross-Validation, Do-It-Yourself implementation:')\n",
        "\n",
        "maes = []\n",
        "\n",
        "for year in df['Year']:\n",
        "    print(f'Fit Linear Regression on all years except {year}')\n",
        "\n",
        "    model = LinearRegression()\n",
        "    \n",
        "    train = df[df['Year'] != year]\n",
        "    test = df[df['Year'] == year]\n",
        "    X_train = train[features]\n",
        "    y_train = train[target]\n",
        "    X_test = test[features]\n",
        "    y_test = test[target]\n",
        "    \n",
        "    model.fit(X_train, y_train)\n",
        "    \n",
        "    y_pred = model.predict(X_test)\n",
        "    \n",
        "    mae = mean_absolute_error(y_test, y_pred)\n",
        "    maes.append(mae)\n",
        "    print(f'Absolute Error on prediction for {year} = {mae}')"
      ],
      "execution_count": 63,
      "outputs": [
        {
          "output_type": "stream",
          "text": [
            "Leave-One-Out Cross-Validation, Do-It-Yourself implementation:\n",
            "Fit Linear Regression on all years except 1960\n",
            "Absolute Error on prediction for 1960 = 1.1733026027104714\n",
            "Fit Linear Regression on all years except 1964\n",
            "Absolute Error on prediction for 1964 = 2.0576674810826034\n",
            "Fit Linear Regression on all years except 1968\n",
            "Absolute Error on prediction for 1968 = 7.0174298087368925\n",
            "Fit Linear Regression on all years except 1972\n",
            "Absolute Error on prediction for 1972 = 4.533208989576565\n",
            "Fit Linear Regression on all years except 1976\n",
            "Absolute Error on prediction for 1976 = 3.003842211761743\n",
            "Fit Linear Regression on all years except 1980\n",
            "Absolute Error on prediction for 1980 = 3.0338231559599578\n",
            "Fit Linear Regression on all years except 1984\n",
            "Absolute Error on prediction for 1984 = 1.7179098326396485\n",
            "Fit Linear Regression on all years except 1988\n",
            "Absolute Error on prediction for 1988 = 0.3964145953219713\n",
            "Fit Linear Regression on all years except 1992\n",
            "Absolute Error on prediction for 1992 = 2.5783540586083618\n",
            "Fit Linear Regression on all years except 1996\n",
            "Absolute Error on prediction for 1996 = 7.094750244209962\n",
            "Fit Linear Regression on all years except 2000\n",
            "Absolute Error on prediction for 2000 = 3.0687158304908806\n",
            "Fit Linear Regression on all years except 2004\n",
            "Absolute Error on prediction for 2004 = 0.47597173638836665\n",
            "Fit Linear Regression on all years except 2008\n",
            "Absolute Error on prediction for 2008 = 1.226425556915487\n",
            "Fit Linear Regression on all years except 2012\n",
            "Absolute Error on prediction for 2012 = 0.8691823924296216\n",
            "Fit Linear Regression on all years except 2016\n",
            "Absolute Error on prediction for 2016 = 3.1266596008652385\n"
          ],
          "name": "stdout"
        }
      ]
    },
    {
      "cell_type": "code",
      "metadata": {
        "id": "6hqKFNb20WA3",
        "colab_type": "code",
        "colab": {
          "base_uri": "https://localhost:8080/",
          "height": 34
        },
        "outputId": "86f091c4-5473-4cbf-9dbb-383cc23f1fd0"
      },
      "source": [
        "pd.Series(maes).mean()"
      ],
      "execution_count": 64,
      "outputs": [
        {
          "output_type": "execute_result",
          "data": {
            "text/plain": [
              "2.7582438731798513"
            ]
          },
          "metadata": {
            "tags": []
          },
          "execution_count": 64
        }
      ]
    }
  ]
}