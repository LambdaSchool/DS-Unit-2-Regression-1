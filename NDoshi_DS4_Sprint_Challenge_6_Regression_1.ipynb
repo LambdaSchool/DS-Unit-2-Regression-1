{
  "nbformat": 4,
  "nbformat_minor": 0,
  "metadata": {
    "colab": {
      "name": "NDoshi_DS4_Sprint_Challenge_6_Regression_1.ipynb",
      "version": "0.3.2",
      "provenance": [],
      "collapsed_sections": [],
      "include_colab_link": true
    },
    "language_info": {
      "codemirror_mode": {
        "name": "ipython",
        "version": 3
      },
      "file_extension": ".py",
      "mimetype": "text/x-python",
      "name": "python",
      "nbconvert_exporter": "python",
      "pygments_lexer": "ipython3",
      "version": "3.7.1"
    },
    "kernelspec": {
      "display_name": "Python 3",
      "language": "python",
      "name": "python3"
    }
  },
  "cells": [
    {
      "cell_type": "markdown",
      "metadata": {
        "id": "view-in-github",
        "colab_type": "text"
      },
      "source": [
        "<a href=\"https://colab.research.google.com/github/ndoshi83/DS-Unit-2-Regression-1/blob/master/NDoshi_DS4_Sprint_Challenge_6_Regression_1.ipynb\" target=\"_parent\"><img src=\"https://colab.research.google.com/assets/colab-badge.svg\" alt=\"Open In Colab\"/></a>"
      ]
    },
    {
      "cell_type": "markdown",
      "metadata": {
        "id": "fBYtkQQ0a74g",
        "colab_type": "text"
      },
      "source": [
        "_Lambda School Data Science, Unit 2_\n",
        " \n",
        "# Regression 1 Sprint Challenge\n",
        "\n",
        "Your Sprint Challenge has two parts.\n",
        "\n",
        "To demonstrate mastery on each part, do all the required, numbered instructions. \n",
        "\n",
        "To earn a score of \"3\" for the part, also do the stretch goals."
      ]
    },
    {
      "cell_type": "markdown",
      "metadata": {
        "id": "VsXQfyfAa74i",
        "colab_type": "text"
      },
      "source": [
        "## Part 1. Predict avocado sales 🥑\n",
        "\n",
        "For part 1 of your challenge, you'll use historical data on avocado sales across the nation!\n",
        "\n",
        "Run this code cell to load the dataset. It has weekly sales volume (total number of avocados sold) from January 4, 2015 through March 25, 2018. The data comes directly from retailers' cash registers based on actual retail sales of Hass avocados in multiple US markets."
      ]
    },
    {
      "cell_type": "code",
      "metadata": {
        "id": "7N3Q_qKCa74j",
        "colab_type": "code",
        "colab": {
          "base_uri": "https://localhost:8080/",
          "height": 34
        },
        "outputId": "afcb3398-8b48-4933-c245-bdd17f5df98a"
      },
      "source": [
        "import pandas as pd\n",
        "avocado_url = 'https://drive.google.com/uc?export=download&id=1ljE-LhCA9CCFvSIJYJ1ewX8JmdDpfuhi'\n",
        "avocado = pd.read_csv(avocado_url)\n",
        "assert avocado.shape == (169, 2)\n",
        "print(avocado.shape)"
      ],
      "execution_count": 2,
      "outputs": [
        {
          "output_type": "stream",
          "text": [
            "(169, 2)\n"
          ],
          "name": "stdout"
        }
      ]
    },
    {
      "cell_type": "markdown",
      "metadata": {
        "id": "hTG1wRd4a74p",
        "colab_type": "text"
      },
      "source": [
        "### Required\n",
        "\n",
        "#### Use the Prophet library to:\n",
        "1. Fit a model and forecast avocado sales through March 25, 2020\n",
        "2. Plot the forecast\n",
        "3. Plot the forecast components\n",
        "4. Do time series cross-validation, with these parameters: `horizon='90 days', period='45 days', initial='730 days'`\n",
        "5. Plot the cross-validation Mean Absolute Percentage Error: `metric='mape'`\n",
        "\n",
        "_For Part 1 of this Sprint Challenge, you are **not** required to calculate or plot baselines, or do train/test split._\n",
        "\n",
        "You can be confident you've done it correctly when your plots look similar to these:\n",
        "\n",
        "<img src=\"https://i.imgur.com/PoyVGp7.png\" width=\"400\" align=\"left\">\n",
        "\n"
      ]
    },
    {
      "cell_type": "markdown",
      "metadata": {
        "id": "r8RGTVaga74q",
        "colab_type": "text"
      },
      "source": [
        "### Stretch Goal\n",
        "- Adjust your forecasts with Prophet's options for changepoints, holidays, and fourier order. Improve the cross-validation MAPE."
      ]
    },
    {
      "cell_type": "code",
      "metadata": {
        "id": "LHgr_2qReLXW",
        "colab_type": "code",
        "colab": {
          "base_uri": "https://localhost:8080/",
          "height": 68
        },
        "outputId": "b0078a64-3632-4357-ba50-3fdb22fe475a"
      },
      "source": [
        "# Review dataframe\n",
        "avocado.dtypes"
      ],
      "execution_count": 3,
      "outputs": [
        {
          "output_type": "execute_result",
          "data": {
            "text/plain": [
              "Date            object\n",
              "Total Volume     int64\n",
              "dtype: object"
            ]
          },
          "metadata": {
            "tags": []
          },
          "execution_count": 3
        }
      ]
    },
    {
      "cell_type": "code",
      "metadata": {
        "id": "_et1bnULeZhb",
        "colab_type": "code",
        "colab": {
          "base_uri": "https://localhost:8080/",
          "height": 204
        },
        "outputId": "cbc9366b-19c5-494d-b57d-a2b6d4dcd50c"
      },
      "source": [
        "# Convert Date feature to date time\n",
        "avocado['Date'] = pd.to_datetime(avocado['Date'])\n",
        "\n",
        "avocado.head()"
      ],
      "execution_count": 4,
      "outputs": [
        {
          "output_type": "execute_result",
          "data": {
            "text/html": [
              "<div>\n",
              "<style scoped>\n",
              "    .dataframe tbody tr th:only-of-type {\n",
              "        vertical-align: middle;\n",
              "    }\n",
              "\n",
              "    .dataframe tbody tr th {\n",
              "        vertical-align: top;\n",
              "    }\n",
              "\n",
              "    .dataframe thead th {\n",
              "        text-align: right;\n",
              "    }\n",
              "</style>\n",
              "<table border=\"1\" class=\"dataframe\">\n",
              "  <thead>\n",
              "    <tr style=\"text-align: right;\">\n",
              "      <th></th>\n",
              "      <th>Date</th>\n",
              "      <th>Total Volume</th>\n",
              "    </tr>\n",
              "  </thead>\n",
              "  <tbody>\n",
              "    <tr>\n",
              "      <th>0</th>\n",
              "      <td>2015-01-04</td>\n",
              "      <td>84674288</td>\n",
              "    </tr>\n",
              "    <tr>\n",
              "      <th>1</th>\n",
              "      <td>2015-01-11</td>\n",
              "      <td>78555753</td>\n",
              "    </tr>\n",
              "    <tr>\n",
              "      <th>2</th>\n",
              "      <td>2015-01-18</td>\n",
              "      <td>78388735</td>\n",
              "    </tr>\n",
              "    <tr>\n",
              "      <th>3</th>\n",
              "      <td>2015-01-25</td>\n",
              "      <td>76466226</td>\n",
              "    </tr>\n",
              "    <tr>\n",
              "      <th>4</th>\n",
              "      <td>2015-02-01</td>\n",
              "      <td>119453181</td>\n",
              "    </tr>\n",
              "  </tbody>\n",
              "</table>\n",
              "</div>"
            ],
            "text/plain": [
              "        Date  Total Volume\n",
              "0 2015-01-04      84674288\n",
              "1 2015-01-11      78555753\n",
              "2 2015-01-18      78388735\n",
              "3 2015-01-25      76466226\n",
              "4 2015-02-01     119453181"
            ]
          },
          "metadata": {
            "tags": []
          },
          "execution_count": 4
        }
      ]
    },
    {
      "cell_type": "code",
      "metadata": {
        "id": "4xOPgCH6a74r",
        "colab_type": "code",
        "colab": {
          "base_uri": "https://localhost:8080/",
          "height": 235
        },
        "outputId": "889f3550-2155-4d82-c453-ba0c51979b6b"
      },
      "source": [
        "# Set index to date\n",
        "avocado = avocado.set_index('Date')\n",
        "\n",
        "avocado.head()"
      ],
      "execution_count": 5,
      "outputs": [
        {
          "output_type": "execute_result",
          "data": {
            "text/html": [
              "<div>\n",
              "<style scoped>\n",
              "    .dataframe tbody tr th:only-of-type {\n",
              "        vertical-align: middle;\n",
              "    }\n",
              "\n",
              "    .dataframe tbody tr th {\n",
              "        vertical-align: top;\n",
              "    }\n",
              "\n",
              "    .dataframe thead th {\n",
              "        text-align: right;\n",
              "    }\n",
              "</style>\n",
              "<table border=\"1\" class=\"dataframe\">\n",
              "  <thead>\n",
              "    <tr style=\"text-align: right;\">\n",
              "      <th></th>\n",
              "      <th>Total Volume</th>\n",
              "    </tr>\n",
              "    <tr>\n",
              "      <th>Date</th>\n",
              "      <th></th>\n",
              "    </tr>\n",
              "  </thead>\n",
              "  <tbody>\n",
              "    <tr>\n",
              "      <th>2015-01-04</th>\n",
              "      <td>84674288</td>\n",
              "    </tr>\n",
              "    <tr>\n",
              "      <th>2015-01-11</th>\n",
              "      <td>78555753</td>\n",
              "    </tr>\n",
              "    <tr>\n",
              "      <th>2015-01-18</th>\n",
              "      <td>78388735</td>\n",
              "    </tr>\n",
              "    <tr>\n",
              "      <th>2015-01-25</th>\n",
              "      <td>76466226</td>\n",
              "    </tr>\n",
              "    <tr>\n",
              "      <th>2015-02-01</th>\n",
              "      <td>119453181</td>\n",
              "    </tr>\n",
              "  </tbody>\n",
              "</table>\n",
              "</div>"
            ],
            "text/plain": [
              "            Total Volume\n",
              "Date                    \n",
              "2015-01-04      84674288\n",
              "2015-01-11      78555753\n",
              "2015-01-18      78388735\n",
              "2015-01-25      76466226\n",
              "2015-02-01     119453181"
            ]
          },
          "metadata": {
            "tags": []
          },
          "execution_count": 5
        }
      ]
    },
    {
      "cell_type": "code",
      "metadata": {
        "id": "DENymkeZgK5T",
        "colab_type": "code",
        "colab": {
          "base_uri": "https://localhost:8080/",
          "height": 204
        },
        "outputId": "104bce8e-0683-4210-9031-35cba012bb83"
      },
      "source": [
        "avocado = avocado.reindex(pd.date_range(start='2015-01-04', end='2020-03-25', freq = 'W'))\n",
        "\n",
        "avocado.tail()"
      ],
      "execution_count": 6,
      "outputs": [
        {
          "output_type": "execute_result",
          "data": {
            "text/html": [
              "<div>\n",
              "<style scoped>\n",
              "    .dataframe tbody tr th:only-of-type {\n",
              "        vertical-align: middle;\n",
              "    }\n",
              "\n",
              "    .dataframe tbody tr th {\n",
              "        vertical-align: top;\n",
              "    }\n",
              "\n",
              "    .dataframe thead th {\n",
              "        text-align: right;\n",
              "    }\n",
              "</style>\n",
              "<table border=\"1\" class=\"dataframe\">\n",
              "  <thead>\n",
              "    <tr style=\"text-align: right;\">\n",
              "      <th></th>\n",
              "      <th>Total Volume</th>\n",
              "    </tr>\n",
              "  </thead>\n",
              "  <tbody>\n",
              "    <tr>\n",
              "      <th>2020-02-23</th>\n",
              "      <td>NaN</td>\n",
              "    </tr>\n",
              "    <tr>\n",
              "      <th>2020-03-01</th>\n",
              "      <td>NaN</td>\n",
              "    </tr>\n",
              "    <tr>\n",
              "      <th>2020-03-08</th>\n",
              "      <td>NaN</td>\n",
              "    </tr>\n",
              "    <tr>\n",
              "      <th>2020-03-15</th>\n",
              "      <td>NaN</td>\n",
              "    </tr>\n",
              "    <tr>\n",
              "      <th>2020-03-22</th>\n",
              "      <td>NaN</td>\n",
              "    </tr>\n",
              "  </tbody>\n",
              "</table>\n",
              "</div>"
            ],
            "text/plain": [
              "            Total Volume\n",
              "2020-02-23           NaN\n",
              "2020-03-01           NaN\n",
              "2020-03-08           NaN\n",
              "2020-03-15           NaN\n",
              "2020-03-22           NaN"
            ]
          },
          "metadata": {
            "tags": []
          },
          "execution_count": 6
        }
      ]
    },
    {
      "cell_type": "code",
      "metadata": {
        "id": "RDz8PWoDeB99",
        "colab_type": "code",
        "colab": {
          "base_uri": "https://localhost:8080/",
          "height": 204
        },
        "outputId": "fb51b5b6-43a8-4824-8a6b-736781916765"
      },
      "source": [
        "# Set feature names to match Prophet input and reset the index\n",
        "avocado = avocado.reset_index().rename(columns={'index': 'ds', 'Total Volume': 'y'})\n",
        "\n",
        "avocado.head()"
      ],
      "execution_count": 7,
      "outputs": [
        {
          "output_type": "execute_result",
          "data": {
            "text/html": [
              "<div>\n",
              "<style scoped>\n",
              "    .dataframe tbody tr th:only-of-type {\n",
              "        vertical-align: middle;\n",
              "    }\n",
              "\n",
              "    .dataframe tbody tr th {\n",
              "        vertical-align: top;\n",
              "    }\n",
              "\n",
              "    .dataframe thead th {\n",
              "        text-align: right;\n",
              "    }\n",
              "</style>\n",
              "<table border=\"1\" class=\"dataframe\">\n",
              "  <thead>\n",
              "    <tr style=\"text-align: right;\">\n",
              "      <th></th>\n",
              "      <th>ds</th>\n",
              "      <th>y</th>\n",
              "    </tr>\n",
              "  </thead>\n",
              "  <tbody>\n",
              "    <tr>\n",
              "      <th>0</th>\n",
              "      <td>2015-01-04</td>\n",
              "      <td>84674288.0</td>\n",
              "    </tr>\n",
              "    <tr>\n",
              "      <th>1</th>\n",
              "      <td>2015-01-11</td>\n",
              "      <td>78555753.0</td>\n",
              "    </tr>\n",
              "    <tr>\n",
              "      <th>2</th>\n",
              "      <td>2015-01-18</td>\n",
              "      <td>78388735.0</td>\n",
              "    </tr>\n",
              "    <tr>\n",
              "      <th>3</th>\n",
              "      <td>2015-01-25</td>\n",
              "      <td>76466226.0</td>\n",
              "    </tr>\n",
              "    <tr>\n",
              "      <th>4</th>\n",
              "      <td>2015-02-01</td>\n",
              "      <td>119453181.0</td>\n",
              "    </tr>\n",
              "  </tbody>\n",
              "</table>\n",
              "</div>"
            ],
            "text/plain": [
              "          ds            y\n",
              "0 2015-01-04   84674288.0\n",
              "1 2015-01-11   78555753.0\n",
              "2 2015-01-18   78388735.0\n",
              "3 2015-01-25   76466226.0\n",
              "4 2015-02-01  119453181.0"
            ]
          },
          "metadata": {
            "tags": []
          },
          "execution_count": 7
        }
      ]
    },
    {
      "cell_type": "code",
      "metadata": {
        "id": "hDxkLOzaiIx3",
        "colab_type": "code",
        "colab": {}
      },
      "source": [
        "# Import Prophet library\n",
        "from fbprophet import Prophet"
      ],
      "execution_count": 0,
      "outputs": []
    },
    {
      "cell_type": "code",
      "metadata": {
        "id": "a9BY3cH6iPVt",
        "colab_type": "code",
        "colab": {
          "base_uri": "https://localhost:8080/",
          "height": 68
        },
        "outputId": "462d993e-be52-4134-9644-06c347d3d324"
      },
      "source": [
        "# Create forecast using prophet\n",
        "m = Prophet()\n",
        "m.fit(avocado)\n",
        "\n"
      ],
      "execution_count": 9,
      "outputs": [
        {
          "output_type": "stream",
          "text": [
            "INFO:fbprophet:Disabling weekly seasonality. Run prophet with weekly_seasonality=True to override this.\n",
            "INFO:fbprophet:Disabling daily seasonality. Run prophet with daily_seasonality=True to override this.\n"
          ],
          "name": "stderr"
        },
        {
          "output_type": "execute_result",
          "data": {
            "text/plain": [
              "<fbprophet.forecaster.Prophet at 0x7effd19da6d8>"
            ]
          },
          "metadata": {
            "tags": []
          },
          "execution_count": 9
        }
      ]
    },
    {
      "cell_type": "code",
      "metadata": {
        "id": "xWlkoZ-3idKI",
        "colab_type": "code",
        "colab": {
          "base_uri": "https://localhost:8080/",
          "height": 204
        },
        "outputId": "d5cf6842-4c54-43d9-92a6-c56f3bcd1bfa"
      },
      "source": [
        "# Create future df to add predictions\n",
        "future = m.make_future_dataframe(periods=0)\n",
        "future.tail()"
      ],
      "execution_count": 10,
      "outputs": [
        {
          "output_type": "execute_result",
          "data": {
            "text/html": [
              "<div>\n",
              "<style scoped>\n",
              "    .dataframe tbody tr th:only-of-type {\n",
              "        vertical-align: middle;\n",
              "    }\n",
              "\n",
              "    .dataframe tbody tr th {\n",
              "        vertical-align: top;\n",
              "    }\n",
              "\n",
              "    .dataframe thead th {\n",
              "        text-align: right;\n",
              "    }\n",
              "</style>\n",
              "<table border=\"1\" class=\"dataframe\">\n",
              "  <thead>\n",
              "    <tr style=\"text-align: right;\">\n",
              "      <th></th>\n",
              "      <th>ds</th>\n",
              "    </tr>\n",
              "  </thead>\n",
              "  <tbody>\n",
              "    <tr>\n",
              "      <th>268</th>\n",
              "      <td>2020-02-23</td>\n",
              "    </tr>\n",
              "    <tr>\n",
              "      <th>269</th>\n",
              "      <td>2020-03-01</td>\n",
              "    </tr>\n",
              "    <tr>\n",
              "      <th>270</th>\n",
              "      <td>2020-03-08</td>\n",
              "    </tr>\n",
              "    <tr>\n",
              "      <th>271</th>\n",
              "      <td>2020-03-15</td>\n",
              "    </tr>\n",
              "    <tr>\n",
              "      <th>272</th>\n",
              "      <td>2020-03-22</td>\n",
              "    </tr>\n",
              "  </tbody>\n",
              "</table>\n",
              "</div>"
            ],
            "text/plain": [
              "            ds\n",
              "268 2020-02-23\n",
              "269 2020-03-01\n",
              "270 2020-03-08\n",
              "271 2020-03-15\n",
              "272 2020-03-22"
            ]
          },
          "metadata": {
            "tags": []
          },
          "execution_count": 10
        }
      ]
    },
    {
      "cell_type": "code",
      "metadata": {
        "id": "5chlpxAwjvLc",
        "colab_type": "code",
        "colab": {
          "base_uri": "https://localhost:8080/",
          "height": 309
        },
        "outputId": "35e9a547-532d-4e31-ee0f-3d9488bad0b7"
      },
      "source": [
        "# Add predictions to df\n",
        "forecast = m.predict(future)\n",
        "forecast.tail()"
      ],
      "execution_count": 11,
      "outputs": [
        {
          "output_type": "execute_result",
          "data": {
            "text/html": [
              "<div>\n",
              "<style scoped>\n",
              "    .dataframe tbody tr th:only-of-type {\n",
              "        vertical-align: middle;\n",
              "    }\n",
              "\n",
              "    .dataframe tbody tr th {\n",
              "        vertical-align: top;\n",
              "    }\n",
              "\n",
              "    .dataframe thead th {\n",
              "        text-align: right;\n",
              "    }\n",
              "</style>\n",
              "<table border=\"1\" class=\"dataframe\">\n",
              "  <thead>\n",
              "    <tr style=\"text-align: right;\">\n",
              "      <th></th>\n",
              "      <th>ds</th>\n",
              "      <th>trend</th>\n",
              "      <th>yhat_lower</th>\n",
              "      <th>yhat_upper</th>\n",
              "      <th>trend_lower</th>\n",
              "      <th>trend_upper</th>\n",
              "      <th>additive_terms</th>\n",
              "      <th>additive_terms_lower</th>\n",
              "      <th>additive_terms_upper</th>\n",
              "      <th>yearly</th>\n",
              "      <th>yearly_lower</th>\n",
              "      <th>yearly_upper</th>\n",
              "      <th>multiplicative_terms</th>\n",
              "      <th>multiplicative_terms_lower</th>\n",
              "      <th>multiplicative_terms_upper</th>\n",
              "      <th>yhat</th>\n",
              "    </tr>\n",
              "  </thead>\n",
              "  <tbody>\n",
              "    <tr>\n",
              "      <th>268</th>\n",
              "      <td>2020-02-23</td>\n",
              "      <td>1.071643e+08</td>\n",
              "      <td>9.888228e+07</td>\n",
              "      <td>1.255181e+08</td>\n",
              "      <td>1.052325e+08</td>\n",
              "      <td>1.091014e+08</td>\n",
              "      <td>5.116932e+06</td>\n",
              "      <td>5.116932e+06</td>\n",
              "      <td>5.116932e+06</td>\n",
              "      <td>5.116932e+06</td>\n",
              "      <td>5.116932e+06</td>\n",
              "      <td>5.116932e+06</td>\n",
              "      <td>0.0</td>\n",
              "      <td>0.0</td>\n",
              "      <td>0.0</td>\n",
              "      <td>1.122812e+08</td>\n",
              "    </tr>\n",
              "    <tr>\n",
              "      <th>269</th>\n",
              "      <td>2020-03-01</td>\n",
              "      <td>1.072485e+08</td>\n",
              "      <td>9.478847e+07</td>\n",
              "      <td>1.207629e+08</td>\n",
              "      <td>1.052954e+08</td>\n",
              "      <td>1.092181e+08</td>\n",
              "      <td>-1.978449e+05</td>\n",
              "      <td>-1.978449e+05</td>\n",
              "      <td>-1.978449e+05</td>\n",
              "      <td>-1.978449e+05</td>\n",
              "      <td>-1.978449e+05</td>\n",
              "      <td>-1.978449e+05</td>\n",
              "      <td>0.0</td>\n",
              "      <td>0.0</td>\n",
              "      <td>0.0</td>\n",
              "      <td>1.070507e+08</td>\n",
              "    </tr>\n",
              "    <tr>\n",
              "      <th>270</th>\n",
              "      <td>2020-03-08</td>\n",
              "      <td>1.073327e+08</td>\n",
              "      <td>9.648059e+07</td>\n",
              "      <td>1.224976e+08</td>\n",
              "      <td>1.053496e+08</td>\n",
              "      <td>1.093351e+08</td>\n",
              "      <td>2.600233e+06</td>\n",
              "      <td>2.600233e+06</td>\n",
              "      <td>2.600233e+06</td>\n",
              "      <td>2.600233e+06</td>\n",
              "      <td>2.600233e+06</td>\n",
              "      <td>2.600233e+06</td>\n",
              "      <td>0.0</td>\n",
              "      <td>0.0</td>\n",
              "      <td>0.0</td>\n",
              "      <td>1.099330e+08</td>\n",
              "    </tr>\n",
              "    <tr>\n",
              "      <th>271</th>\n",
              "      <td>2020-03-15</td>\n",
              "      <td>1.074169e+08</td>\n",
              "      <td>1.013421e+08</td>\n",
              "      <td>1.280390e+08</td>\n",
              "      <td>1.053979e+08</td>\n",
              "      <td>1.094526e+08</td>\n",
              "      <td>7.584991e+06</td>\n",
              "      <td>7.584991e+06</td>\n",
              "      <td>7.584991e+06</td>\n",
              "      <td>7.584991e+06</td>\n",
              "      <td>7.584991e+06</td>\n",
              "      <td>7.584991e+06</td>\n",
              "      <td>0.0</td>\n",
              "      <td>0.0</td>\n",
              "      <td>0.0</td>\n",
              "      <td>1.150019e+08</td>\n",
              "    </tr>\n",
              "    <tr>\n",
              "      <th>272</th>\n",
              "      <td>2020-03-22</td>\n",
              "      <td>1.075012e+08</td>\n",
              "      <td>1.023023e+08</td>\n",
              "      <td>1.274777e+08</td>\n",
              "      <td>1.054438e+08</td>\n",
              "      <td>1.095659e+08</td>\n",
              "      <td>7.849158e+06</td>\n",
              "      <td>7.849158e+06</td>\n",
              "      <td>7.849158e+06</td>\n",
              "      <td>7.849158e+06</td>\n",
              "      <td>7.849158e+06</td>\n",
              "      <td>7.849158e+06</td>\n",
              "      <td>0.0</td>\n",
              "      <td>0.0</td>\n",
              "      <td>0.0</td>\n",
              "      <td>1.153503e+08</td>\n",
              "    </tr>\n",
              "  </tbody>\n",
              "</table>\n",
              "</div>"
            ],
            "text/plain": [
              "            ds         trend  ...  multiplicative_terms_upper          yhat\n",
              "268 2020-02-23  1.071643e+08  ...                         0.0  1.122812e+08\n",
              "269 2020-03-01  1.072485e+08  ...                         0.0  1.070507e+08\n",
              "270 2020-03-08  1.073327e+08  ...                         0.0  1.099330e+08\n",
              "271 2020-03-15  1.074169e+08  ...                         0.0  1.150019e+08\n",
              "272 2020-03-22  1.075012e+08  ...                         0.0  1.153503e+08\n",
              "\n",
              "[5 rows x 16 columns]"
            ]
          },
          "metadata": {
            "tags": []
          },
          "execution_count": 11
        }
      ]
    },
    {
      "cell_type": "code",
      "metadata": {
        "id": "6QuNTdBZkIMb",
        "colab_type": "code",
        "colab": {
          "base_uri": "https://localhost:8080/",
          "height": 441
        },
        "outputId": "2e7f3478-82ad-4c7b-b129-cf0f027db9ba"
      },
      "source": [
        "# Plot forecast\n",
        "fig1 = m.plot(forecast)"
      ],
      "execution_count": 12,
      "outputs": [
        {
          "output_type": "display_data",
          "data": {
            "image/png": "[encoded data removed]",
            "text/plain": [
              "<Figure size 720x432 with 1 Axes>"
            ]
          },
          "metadata": {
            "tags": []
          }
        }
      ]
    },
    {
      "cell_type": "code",
      "metadata": {
        "id": "iH2xX7Y7kSX5",
        "colab_type": "code",
        "colab": {
          "base_uri": "https://localhost:8080/",
          "height": 441
        },
        "outputId": "362cc5d5-5984-47ce-bb31-d296c264967d"
      },
      "source": [
        "# Plot components\n",
        "fig2 = m.plot_components(forecast)"
      ],
      "execution_count": 13,
      "outputs": [
        {
          "output_type": "display_data",
          "data": {
            "image/png": "[encoded data removed]",
            "text/plain": [
              "<Figure size 648x432 with 2 Axes>"
            ]
          },
          "metadata": {
            "tags": []
          }
        }
      ]
    },
    {
      "cell_type": "code",
      "metadata": {
        "id": "4ETZrdzEncpn",
        "colab_type": "code",
        "colab": {
          "base_uri": "https://localhost:8080/",
          "height": 326
        },
        "outputId": "5d92198b-c1b3-47e3-b720-4378296d5de2"
      },
      "source": [
        "# Create time series df to run in cross validation\n",
        "avocado_model = Prophet(weekly_seasonality=False)\n",
        "avocado_model.fit(avocado)\n",
        "\n",
        "# Create predictions\n",
        "avocado_forecast = avocado_model.predict(avocado)\n",
        "\n",
        "avocado_forecast.tail()"
      ],
      "execution_count": 21,
      "outputs": [
        {
          "output_type": "stream",
          "text": [
            "INFO:fbprophet:Disabling daily seasonality. Run prophet with daily_seasonality=True to override this.\n"
          ],
          "name": "stderr"
        },
        {
          "output_type": "execute_result",
          "data": {
            "text/html": [
              "<div>\n",
              "<style scoped>\n",
              "    .dataframe tbody tr th:only-of-type {\n",
              "        vertical-align: middle;\n",
              "    }\n",
              "\n",
              "    .dataframe tbody tr th {\n",
              "        vertical-align: top;\n",
              "    }\n",
              "\n",
              "    .dataframe thead th {\n",
              "        text-align: right;\n",
              "    }\n",
              "</style>\n",
              "<table border=\"1\" class=\"dataframe\">\n",
              "  <thead>\n",
              "    <tr style=\"text-align: right;\">\n",
              "      <th></th>\n",
              "      <th>ds</th>\n",
              "      <th>trend</th>\n",
              "      <th>yhat_lower</th>\n",
              "      <th>yhat_upper</th>\n",
              "      <th>trend_lower</th>\n",
              "      <th>trend_upper</th>\n",
              "      <th>additive_terms</th>\n",
              "      <th>additive_terms_lower</th>\n",
              "      <th>additive_terms_upper</th>\n",
              "      <th>yearly</th>\n",
              "      <th>yearly_lower</th>\n",
              "      <th>yearly_upper</th>\n",
              "      <th>multiplicative_terms</th>\n",
              "      <th>multiplicative_terms_lower</th>\n",
              "      <th>multiplicative_terms_upper</th>\n",
              "      <th>yhat</th>\n",
              "    </tr>\n",
              "  </thead>\n",
              "  <tbody>\n",
              "    <tr>\n",
              "      <th>268</th>\n",
              "      <td>2020-02-23</td>\n",
              "      <td>1.071643e+08</td>\n",
              "      <td>9.826723e+07</td>\n",
              "      <td>1.250695e+08</td>\n",
              "      <td>1.053512e+08</td>\n",
              "      <td>1.090991e+08</td>\n",
              "      <td>5.116932e+06</td>\n",
              "      <td>5.116932e+06</td>\n",
              "      <td>5.116932e+06</td>\n",
              "      <td>5.116932e+06</td>\n",
              "      <td>5.116932e+06</td>\n",
              "      <td>5.116932e+06</td>\n",
              "      <td>0.0</td>\n",
              "      <td>0.0</td>\n",
              "      <td>0.0</td>\n",
              "      <td>1.122812e+08</td>\n",
              "    </tr>\n",
              "    <tr>\n",
              "      <th>269</th>\n",
              "      <td>2020-03-01</td>\n",
              "      <td>1.072485e+08</td>\n",
              "      <td>9.487723e+07</td>\n",
              "      <td>1.197240e+08</td>\n",
              "      <td>1.053860e+08</td>\n",
              "      <td>1.092190e+08</td>\n",
              "      <td>-1.978449e+05</td>\n",
              "      <td>-1.978449e+05</td>\n",
              "      <td>-1.978449e+05</td>\n",
              "      <td>-1.978449e+05</td>\n",
              "      <td>-1.978449e+05</td>\n",
              "      <td>-1.978449e+05</td>\n",
              "      <td>0.0</td>\n",
              "      <td>0.0</td>\n",
              "      <td>0.0</td>\n",
              "      <td>1.070507e+08</td>\n",
              "    </tr>\n",
              "    <tr>\n",
              "      <th>270</th>\n",
              "      <td>2020-03-08</td>\n",
              "      <td>1.073327e+08</td>\n",
              "      <td>9.647436e+07</td>\n",
              "      <td>1.229668e+08</td>\n",
              "      <td>1.054429e+08</td>\n",
              "      <td>1.093342e+08</td>\n",
              "      <td>2.600233e+06</td>\n",
              "      <td>2.600233e+06</td>\n",
              "      <td>2.600233e+06</td>\n",
              "      <td>2.600233e+06</td>\n",
              "      <td>2.600233e+06</td>\n",
              "      <td>2.600233e+06</td>\n",
              "      <td>0.0</td>\n",
              "      <td>0.0</td>\n",
              "      <td>0.0</td>\n",
              "      <td>1.099330e+08</td>\n",
              "    </tr>\n",
              "    <tr>\n",
              "      <th>271</th>\n",
              "      <td>2020-03-15</td>\n",
              "      <td>1.074169e+08</td>\n",
              "      <td>1.023082e+08</td>\n",
              "      <td>1.276795e+08</td>\n",
              "      <td>1.055101e+08</td>\n",
              "      <td>1.094578e+08</td>\n",
              "      <td>7.584991e+06</td>\n",
              "      <td>7.584991e+06</td>\n",
              "      <td>7.584991e+06</td>\n",
              "      <td>7.584991e+06</td>\n",
              "      <td>7.584991e+06</td>\n",
              "      <td>7.584991e+06</td>\n",
              "      <td>0.0</td>\n",
              "      <td>0.0</td>\n",
              "      <td>0.0</td>\n",
              "      <td>1.150019e+08</td>\n",
              "    </tr>\n",
              "    <tr>\n",
              "      <th>272</th>\n",
              "      <td>2020-03-22</td>\n",
              "      <td>1.075012e+08</td>\n",
              "      <td>1.032421e+08</td>\n",
              "      <td>1.283049e+08</td>\n",
              "      <td>1.055754e+08</td>\n",
              "      <td>1.095720e+08</td>\n",
              "      <td>7.849158e+06</td>\n",
              "      <td>7.849158e+06</td>\n",
              "      <td>7.849158e+06</td>\n",
              "      <td>7.849158e+06</td>\n",
              "      <td>7.849158e+06</td>\n",
              "      <td>7.849158e+06</td>\n",
              "      <td>0.0</td>\n",
              "      <td>0.0</td>\n",
              "      <td>0.0</td>\n",
              "      <td>1.153503e+08</td>\n",
              "    </tr>\n",
              "  </tbody>\n",
              "</table>\n",
              "</div>"
            ],
            "text/plain": [
              "            ds         trend  ...  multiplicative_terms_upper          yhat\n",
              "268 2020-02-23  1.071643e+08  ...                         0.0  1.122812e+08\n",
              "269 2020-03-01  1.072485e+08  ...                         0.0  1.070507e+08\n",
              "270 2020-03-08  1.073327e+08  ...                         0.0  1.099330e+08\n",
              "271 2020-03-15  1.074169e+08  ...                         0.0  1.150019e+08\n",
              "272 2020-03-22  1.075012e+08  ...                         0.0  1.153503e+08\n",
              "\n",
              "[5 rows x 16 columns]"
            ]
          },
          "metadata": {
            "tags": []
          },
          "execution_count": 21
        }
      ]
    },
    {
      "cell_type": "code",
      "metadata": {
        "id": "yBCHASo-kduO",
        "colab_type": "code",
        "colab": {
          "base_uri": "https://localhost:8080/",
          "height": 34
        },
        "outputId": "c0ff0e14-fd4a-42ef-b3fc-0b19be6396b5"
      },
      "source": [
        "# Create time series cross-validation using the Prophet functionality\n",
        "# Import needed functions\n",
        "from fbprophet.diagnostics import cross_validation\n",
        "avocado_cv = cross_validation(avocado_model, initial='730 days', \n",
        "                         horizon='90 days', period='45 days')"
      ],
      "execution_count": 22,
      "outputs": [
        {
          "output_type": "stream",
          "text": [
            "INFO:fbprophet:Making 8 forecasts with cutoffs between 2017-02-13 00:00:00 and 2017-12-25 00:00:00\n"
          ],
          "name": "stderr"
        }
      ]
    },
    {
      "cell_type": "code",
      "metadata": {
        "id": "KrHLohnjq45M",
        "colab_type": "code",
        "colab": {
          "base_uri": "https://localhost:8080/",
          "height": 136
        },
        "outputId": "8ff8cb5f-6f01-4d94-a314-8fee51cc672f"
      },
      "source": [
        "# Review CV\n",
        "print(avocado_cv.shape)\n",
        "\n",
        "print(avocado_cv.head())"
      ],
      "execution_count": 25,
      "outputs": [
        {
          "output_type": "stream",
          "text": [
            "(103, 6)\n",
            "          ds          yhat    yhat_lower    yhat_upper            y     cutoff\n",
            "0 2017-02-19  1.074419e+08  9.547954e+07  1.197186e+08   93821369.0 2017-02-13\n",
            "1 2017-02-26  9.893204e+07  8.769728e+07  1.108173e+08  101447375.0 2017-02-13\n",
            "2 2017-03-05  9.916261e+07  8.780201e+07  1.107241e+08   93528247.0 2017-02-13\n",
            "3 2017-03-12  1.051747e+08  9.261685e+07  1.165811e+08   88180047.0 2017-02-13\n",
            "4 2017-03-19  1.088062e+08  9.707480e+07  1.196775e+08   86991403.0 2017-02-13\n"
          ],
          "name": "stdout"
        }
      ]
    },
    {
      "cell_type": "code",
      "metadata": {
        "id": "QQp5oDOxrJiu",
        "colab_type": "code",
        "colab": {
          "base_uri": "https://localhost:8080/",
          "height": 204
        },
        "outputId": "999e450c-44ec-4c2c-872c-96b9f9ff0fd1"
      },
      "source": [
        "# Evaluate performance metrics using built in functions from Prophet\n",
        "from fbprophet.diagnostics import performance_metrics\n",
        "performance_metrics(avocado_cv).head()"
      ],
      "execution_count": 26,
      "outputs": [
        {
          "output_type": "execute_result",
          "data": {
            "text/html": [
              "<div>\n",
              "<style scoped>\n",
              "    .dataframe tbody tr th:only-of-type {\n",
              "        vertical-align: middle;\n",
              "    }\n",
              "\n",
              "    .dataframe tbody tr th {\n",
              "        vertical-align: top;\n",
              "    }\n",
              "\n",
              "    .dataframe thead th {\n",
              "        text-align: right;\n",
              "    }\n",
              "</style>\n",
              "<table border=\"1\" class=\"dataframe\">\n",
              "  <thead>\n",
              "    <tr style=\"text-align: right;\">\n",
              "      <th></th>\n",
              "      <th>horizon</th>\n",
              "      <th>mse</th>\n",
              "      <th>rmse</th>\n",
              "      <th>mae</th>\n",
              "      <th>mape</th>\n",
              "      <th>coverage</th>\n",
              "    </tr>\n",
              "  </thead>\n",
              "  <tbody>\n",
              "    <tr>\n",
              "      <th>0</th>\n",
              "      <td>9 days</td>\n",
              "      <td>1.158354e+14</td>\n",
              "      <td>1.076269e+07</td>\n",
              "      <td>9.050419e+06</td>\n",
              "      <td>0.102819</td>\n",
              "      <td>0.5</td>\n",
              "    </tr>\n",
              "    <tr>\n",
              "      <th>1</th>\n",
              "      <td>10 days</td>\n",
              "      <td>1.153774e+14</td>\n",
              "      <td>1.074139e+07</td>\n",
              "      <td>8.954063e+06</td>\n",
              "      <td>0.101604</td>\n",
              "      <td>0.5</td>\n",
              "    </tr>\n",
              "    <tr>\n",
              "      <th>2</th>\n",
              "      <td>11 days</td>\n",
              "      <td>8.981248e+13</td>\n",
              "      <td>9.476945e+06</td>\n",
              "      <td>7.979616e+06</td>\n",
              "      <td>0.088963</td>\n",
              "      <td>0.6</td>\n",
              "    </tr>\n",
              "    <tr>\n",
              "      <th>3</th>\n",
              "      <td>12 days</td>\n",
              "      <td>9.503492e+13</td>\n",
              "      <td>9.748585e+06</td>\n",
              "      <td>8.671075e+06</td>\n",
              "      <td>0.099294</td>\n",
              "      <td>0.6</td>\n",
              "    </tr>\n",
              "    <tr>\n",
              "      <th>4</th>\n",
              "      <td>13 days</td>\n",
              "      <td>9.551160e+13</td>\n",
              "      <td>9.773004e+06</td>\n",
              "      <td>8.876740e+06</td>\n",
              "      <td>0.098013</td>\n",
              "      <td>0.6</td>\n",
              "    </tr>\n",
              "  </tbody>\n",
              "</table>\n",
              "</div>"
            ],
            "text/plain": [
              "  horizon           mse          rmse           mae      mape  coverage\n",
              "0  9 days  1.158354e+14  1.076269e+07  9.050419e+06  0.102819       0.5\n",
              "1 10 days  1.153774e+14  1.074139e+07  8.954063e+06  0.101604       0.5\n",
              "2 11 days  8.981248e+13  9.476945e+06  7.979616e+06  0.088963       0.6\n",
              "3 12 days  9.503492e+13  9.748585e+06  8.671075e+06  0.099294       0.6\n",
              "4 13 days  9.551160e+13  9.773004e+06  8.876740e+06  0.098013       0.6"
            ]
          },
          "metadata": {
            "tags": []
          },
          "execution_count": 26
        }
      ]
    },
    {
      "cell_type": "code",
      "metadata": {
        "id": "0EPDQmjnrg5T",
        "colab_type": "code",
        "colab": {
          "base_uri": "https://localhost:8080/",
          "height": 392
        },
        "outputId": "215db08d-cdc5-4d57-81bf-a2935601a8f4"
      },
      "source": [
        "# Use Prophet to plot MAPE\n",
        "from fbprophet.plot import plot_cross_validation_metric\n",
        "fig = plot_cross_validation_metric(avocado_cv, metric='mape')"
      ],
      "execution_count": 27,
      "outputs": [
        {
          "output_type": "display_data",
          "data": {
            "image/png": "[encoded data removed]",
            "text/plain": [
              "<Figure size 720x432 with 1 Axes>"
            ]
          },
          "metadata": {
            "tags": []
          }
        }
      ]
    },
    {
      "cell_type": "markdown",
      "metadata": {
        "id": "5cl8rwbIa74u",
        "colab_type": "text"
      },
      "source": [
        "## Part 2. Predict NYC apartment rent 🏠💸\n",
        "\n",
        "For part 1 of your challenge, you'll use a real-world data with rent prices for a subset of apartments in New York City!\n",
        "\n",
        "Run this code cell to load the dataset: "
      ]
    },
    {
      "cell_type": "code",
      "metadata": {
        "id": "Z4ViPKhNa74v",
        "colab_type": "code",
        "colab": {
          "base_uri": "https://localhost:8080/",
          "height": 34
        },
        "outputId": "7dd6cbab-bc92-4181-aee3-f27519d0241a"
      },
      "source": [
        "import pandas as pd\n",
        "rent_url = 'https://drive.google.com/uc?export=download&id=1lVVPmh-WYGb_0Gs_lOv22i02-150qDdZ'\n",
        "rent = pd.read_csv(rent_url)\n",
        "assert rent.shape == (48295, 7)\n",
        "print(rent.shape)"
      ],
      "execution_count": 36,
      "outputs": [
        {
          "output_type": "stream",
          "text": [
            "(48295, 7)\n"
          ],
          "name": "stdout"
        }
      ]
    },
    {
      "cell_type": "code",
      "metadata": {
        "id": "TFrmRTyEsmED",
        "colab_type": "code",
        "colab": {
          "base_uri": "https://localhost:8080/",
          "height": 306
        },
        "outputId": "23ce5df3-5671-4821-aec1-199e0a6c96ae"
      },
      "source": [
        "# Review df\n",
        "print(rent.head())\n",
        "\n",
        "print(rent.describe())"
      ],
      "execution_count": 37,
      "outputs": [
        {
          "output_type": "stream",
          "text": [
            "   year  month  bedrooms  bathrooms  latitude  longitude  price\n",
            "0  2016      6         3        1.5   40.7145   -73.9425   3000\n",
            "1  2016      6         2        1.0   40.7947   -73.9667   5465\n",
            "2  2016      4         1        1.0   40.7388   -74.0018   2850\n",
            "3  2016      4         1        1.0   40.7539   -73.9677   3275\n",
            "4  2016      4         4        1.0   40.8241   -73.9493   3350\n",
            "          year         month  ...     longitude         price\n",
            "count  48295.0  48295.000000  ...  48295.000000  48295.000000\n",
            "mean    2016.0      5.014950  ...    -73.972366   3438.052034\n",
            "std        0.0      0.824537  ...      0.029563   1401.003716\n",
            "min     2016.0      4.000000  ...    -74.094000   1025.000000\n",
            "25%     2016.0      4.000000  ...    -73.991700   2495.000000\n",
            "50%     2016.0      5.000000  ...    -73.977900   3100.000000\n",
            "75%     2016.0      6.000000  ...    -73.954700   4000.000000\n",
            "max     2016.0      6.000000  ...    -73.700100   9999.000000\n",
            "\n",
            "[8 rows x 7 columns]\n"
          ],
          "name": "stdout"
        }
      ]
    },
    {
      "cell_type": "markdown",
      "metadata": {
        "id": "BN7unLKFa74y",
        "colab_type": "text"
      },
      "source": [
        "### Required\n",
        "1. Begin with baselines for regression. Calculate the mean absolute error and $R^2$ score for a mean baseline. _(You can use the whole dataset, or a test set, either way is okay here!)_\n",
        "2. Do train/test split. Use data from April & May 2016 to train. Use data from June 2016 to test.\n",
        "3. Choose any two features.\n",
        "4. Use scikit-learn to fit a Linear Regression model on the train data.\n",
        "5. Apply the model to predict rent prices for the test data.\n",
        "6. Get regression metrics MAE and $R^2$ for the test data.\n",
        "7. Get the model's coefficients and intercept.\n",
        "\n",
        "### Stretch Goals\n",
        "- Try at least 3 different feature combinations. (You don't have to use two features, you can choose any number of features.)\n",
        "- Get regression metrics RMSE, MAE, and $R^2$, for both the train and test data."
      ]
    },
    {
      "cell_type": "code",
      "metadata": {
        "id": "k-1aopMIa74z",
        "colab_type": "code",
        "colab": {
          "base_uri": "https://localhost:8080/",
          "height": 204
        },
        "outputId": "81166865-865d-4bfd-f5c9-7fb1d88ae0b9"
      },
      "source": [
        "# Calculate mean baseline using full dataset\n",
        "rent['mean_baseline'] = [rent['price'].mean()] * len(rent)\n",
        "\n",
        "rent.head()"
      ],
      "execution_count": 39,
      "outputs": [
        {
          "output_type": "execute_result",
          "data": {
            "text/html": [
              "<div>\n",
              "<style scoped>\n",
              "    .dataframe tbody tr th:only-of-type {\n",
              "        vertical-align: middle;\n",
              "    }\n",
              "\n",
              "    .dataframe tbody tr th {\n",
              "        vertical-align: top;\n",
              "    }\n",
              "\n",
              "    .dataframe thead th {\n",
              "        text-align: right;\n",
              "    }\n",
              "</style>\n",
              "<table border=\"1\" class=\"dataframe\">\n",
              "  <thead>\n",
              "    <tr style=\"text-align: right;\">\n",
              "      <th></th>\n",
              "      <th>year</th>\n",
              "      <th>month</th>\n",
              "      <th>bedrooms</th>\n",
              "      <th>bathrooms</th>\n",
              "      <th>latitude</th>\n",
              "      <th>longitude</th>\n",
              "      <th>price</th>\n",
              "      <th>mean_baseline</th>\n",
              "    </tr>\n",
              "  </thead>\n",
              "  <tbody>\n",
              "    <tr>\n",
              "      <th>0</th>\n",
              "      <td>2016</td>\n",
              "      <td>6</td>\n",
              "      <td>3</td>\n",
              "      <td>1.5</td>\n",
              "      <td>40.7145</td>\n",
              "      <td>-73.9425</td>\n",
              "      <td>3000</td>\n",
              "      <td>3438.052034</td>\n",
              "    </tr>\n",
              "    <tr>\n",
              "      <th>1</th>\n",
              "      <td>2016</td>\n",
              "      <td>6</td>\n",
              "      <td>2</td>\n",
              "      <td>1.0</td>\n",
              "      <td>40.7947</td>\n",
              "      <td>-73.9667</td>\n",
              "      <td>5465</td>\n",
              "      <td>3438.052034</td>\n",
              "    </tr>\n",
              "    <tr>\n",
              "      <th>2</th>\n",
              "      <td>2016</td>\n",
              "      <td>4</td>\n",
              "      <td>1</td>\n",
              "      <td>1.0</td>\n",
              "      <td>40.7388</td>\n",
              "      <td>-74.0018</td>\n",
              "      <td>2850</td>\n",
              "      <td>3438.052034</td>\n",
              "    </tr>\n",
              "    <tr>\n",
              "      <th>3</th>\n",
              "      <td>2016</td>\n",
              "      <td>4</td>\n",
              "      <td>1</td>\n",
              "      <td>1.0</td>\n",
              "      <td>40.7539</td>\n",
              "      <td>-73.9677</td>\n",
              "      <td>3275</td>\n",
              "      <td>3438.052034</td>\n",
              "    </tr>\n",
              "    <tr>\n",
              "      <th>4</th>\n",
              "      <td>2016</td>\n",
              "      <td>4</td>\n",
              "      <td>4</td>\n",
              "      <td>1.0</td>\n",
              "      <td>40.8241</td>\n",
              "      <td>-73.9493</td>\n",
              "      <td>3350</td>\n",
              "      <td>3438.052034</td>\n",
              "    </tr>\n",
              "  </tbody>\n",
              "</table>\n",
              "</div>"
            ],
            "text/plain": [
              "   year  month  bedrooms  bathrooms  latitude  longitude  price  mean_baseline\n",
              "0  2016      6         3        1.5   40.7145   -73.9425   3000    3438.052034\n",
              "1  2016      6         2        1.0   40.7947   -73.9667   5465    3438.052034\n",
              "2  2016      4         1        1.0   40.7388   -74.0018   2850    3438.052034\n",
              "3  2016      4         1        1.0   40.7539   -73.9677   3275    3438.052034\n",
              "4  2016      4         4        1.0   40.8241   -73.9493   3350    3438.052034"
            ]
          },
          "metadata": {
            "tags": []
          },
          "execution_count": 39
        }
      ]
    },
    {
      "cell_type": "code",
      "metadata": {
        "id": "kCBOiygH1Gbq",
        "colab_type": "code",
        "colab": {
          "base_uri": "https://localhost:8080/",
          "height": 68
        },
        "outputId": "d7c6d550-80b0-43b2-a7cc-2758b27b349a"
      },
      "source": [
        "# Calculate MAE and R^2 using sklearn metrics\n",
        "from sklearn.metrics import mean_absolute_error, r2_score\n",
        "\n",
        "mae = mean_absolute_error(y_true=rent['price'], \n",
        "                    y_pred=rent['mean_baseline'])\n",
        "\n",
        "r2 = r2_score(y_true=rent['price'], \n",
        "                    y_pred=rent['mean_baseline'])\n",
        "\n",
        "# Print results\n",
        "\n",
        "print('The mean absolute error is:', mae,'\\n')\n",
        "print('The R^2 is:', r2)"
      ],
      "execution_count": 42,
      "outputs": [
        {
          "output_type": "stream",
          "text": [
            "The mean absolute error is: 1055.7857771080928 \n",
            "\n",
            "The R^2 is: 0.0\n"
          ],
          "name": "stdout"
        }
      ]
    },
    {
      "cell_type": "code",
      "metadata": {
        "id": "QaBDA3Vq2bh6",
        "colab_type": "code",
        "colab": {
          "base_uri": "https://localhost:8080/",
          "height": 391
        },
        "outputId": "79f0e6e9-ca7c-4fcf-8ada-4b85cd332c94"
      },
      "source": [
        "# Split the dataset into train and test groups according to breakdown listed above\n",
        "rent_train = rent.loc[rent['month'] != 6]\n",
        "rent_test = rent.loc[rent['month'] == 6]\n",
        "\n",
        "print(rent_train.describe())\n",
        "print(rent_test.describe())"
      ],
      "execution_count": 49,
      "outputs": [
        {
          "output_type": "stream",
          "text": [
            "          year         month  ...         price  mean_baseline\n",
            "count  31512.0  31512.000000  ...  31512.000000   3.151200e+04\n",
            "mean    2016.0      4.490321  ...   3432.681233   3.438052e+03\n",
            "std        0.0      0.499914  ...   1398.350939   1.619836e-09\n",
            "min     2016.0      4.000000  ...   1025.000000   3.438052e+03\n",
            "25%     2016.0      4.000000  ...   2490.000000   3.438052e+03\n",
            "50%     2016.0      4.000000  ...   3100.000000   3.438052e+03\n",
            "75%     2016.0      5.000000  ...   4000.000000   3.438052e+03\n",
            "max     2016.0      5.000000  ...   9999.000000   3.438052e+03\n",
            "\n",
            "[8 rows x 8 columns]\n",
            "          year    month      bedrooms  ...    longitude         price  mean_baseline\n",
            "count  16783.0  16783.0  16783.000000  ...  16783.00000  16783.000000   1.678300e+04\n",
            "mean    2016.0      6.0      1.523387  ...    -73.97218   3448.136328   3.438052e+03\n",
            "std        0.0      0.0      1.088629  ...      0.02944   1405.957390   9.772812e-10\n",
            "min     2016.0      6.0      0.000000  ...    -74.04540   1050.000000   3.438052e+03\n",
            "25%     2016.0      6.0      1.000000  ...    -73.99170   2500.000000   3.438052e+03\n",
            "50%     2016.0      6.0      1.000000  ...    -73.97750   3100.000000   3.438052e+03\n",
            "75%     2016.0      6.0      2.000000  ...    -73.95470   4000.000000   3.438052e+03\n",
            "max     2016.0      6.0      6.000000  ...    -73.71420   9999.000000   3.438052e+03\n",
            "\n",
            "[8 rows x 8 columns]\n"
          ],
          "name": "stdout"
        }
      ]
    },
    {
      "cell_type": "code",
      "metadata": {
        "id": "q6qgUZ0Q6C8c",
        "colab_type": "code",
        "colab": {}
      },
      "source": [
        "# Selecting 2 features to use for linear regression testing\n",
        "features = ['bedrooms', 'bathrooms']\n",
        "\n",
        "target = 'price'"
      ],
      "execution_count": 0,
      "outputs": []
    },
    {
      "cell_type": "code",
      "metadata": {
        "id": "nVj2F7V28QUn",
        "colab_type": "code",
        "colab": {}
      },
      "source": [
        "# Use Scikit-Learn to perform linear regression\n",
        "from sklearn.linear_model import LinearRegression\n",
        "\n",
        "model = LinearRegression()"
      ],
      "execution_count": 0,
      "outputs": []
    },
    {
      "cell_type": "code",
      "metadata": {
        "id": "GqJHzXI98ez-",
        "colab_type": "code",
        "colab": {}
      },
      "source": [
        "# Assign selected features and target to X and y\n",
        "X = rent_train[features]\n",
        "y = rent_train[target]"
      ],
      "execution_count": 0,
      "outputs": []
    },
    {
      "cell_type": "code",
      "metadata": {
        "id": "rbBOzbw38-6l",
        "colab_type": "code",
        "colab": {
          "base_uri": "https://localhost:8080/",
          "height": 34
        },
        "outputId": "36c29e0b-a274-41df-ae19-4b426b4c4be2"
      },
      "source": [
        "# Fit the model\n",
        "model.fit(X,y)"
      ],
      "execution_count": 53,
      "outputs": [
        {
          "output_type": "execute_result",
          "data": {
            "text/plain": [
              "LinearRegression(copy_X=True, fit_intercept=True, n_jobs=None, normalize=False)"
            ]
          },
          "metadata": {
            "tags": []
          },
          "execution_count": 53
        }
      ]
    },
    {
      "cell_type": "code",
      "metadata": {
        "id": "_Hrneof39Mov",
        "colab_type": "code",
        "colab": {}
      },
      "source": [
        "# Apply model on test dataset\n",
        "y_pred = model.predict(rent_test[features])"
      ],
      "execution_count": 0,
      "outputs": []
    },
    {
      "cell_type": "code",
      "metadata": {
        "id": "vHsK2UgP9pCO",
        "colab_type": "code",
        "colab": {
          "base_uri": "https://localhost:8080/",
          "height": 68
        },
        "outputId": "3df432ac-0502-46f9-8024-24ecbb25bdcd"
      },
      "source": [
        "# Calculate regression metrics for predicted targets on test data\n",
        "rent_test_mae = mean_absolute_error(rent_test[target],y_pred)\n",
        "rent_test_r2 = r2_score(rent_test[target],y_pred)\n",
        "\n",
        "print('The MAE for test is:', rent_test_mae, '\\n')\n",
        "print('The R^2 for test is:', rent_test_r2)"
      ],
      "execution_count": 55,
      "outputs": [
        {
          "output_type": "stream",
          "text": [
            "The MAE for test is: 754.0733041489015 \n",
            "\n",
            "The R^2 for test is: 0.4613584851907725\n"
          ],
          "name": "stdout"
        }
      ]
    },
    {
      "cell_type": "code",
      "metadata": {
        "id": "pcytJ-DjABs7",
        "colab_type": "code",
        "colab": {
          "base_uri": "https://localhost:8080/",
          "height": 119
        },
        "outputId": "f3909734-eae3-4893-b054-5d549dccde77"
      },
      "source": [
        "# Show the coefficients and intercept\n",
        "rent_test_coef = pd.Series(model.coef_, features)\n",
        "\n",
        "print('The coefficients are:\\n', rent_test_coef)\n",
        "\n",
        "print('The intercept is:\\n', model.intercept_)"
      ],
      "execution_count": 57,
      "outputs": [
        {
          "output_type": "stream",
          "text": [
            "The coefficients are:\n",
            " bedrooms      420.509717\n",
            "bathrooms    1531.762648\n",
            "dtype: float64\n",
            "The intercept is:\n",
            " 994.3062975058142\n"
          ],
          "name": "stdout"
        }
      ]
    }
  ]
}