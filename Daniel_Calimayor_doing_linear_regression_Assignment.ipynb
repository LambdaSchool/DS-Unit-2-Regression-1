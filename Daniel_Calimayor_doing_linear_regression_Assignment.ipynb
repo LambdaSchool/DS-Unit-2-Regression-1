{
  "nbformat": 4,
  "nbformat_minor": 0,
  "metadata": {
    "colab": {
      "name": "Daniel Calimayor doing_linear_regression_Assignment.ipynb",
      "version": "0.3.2",
      "provenance": [],
      "collapsed_sections": [],
      "include_colab_link": true
    },
    "kernelspec": {
      "name": "python3",
      "display_name": "Python 3"
    }
  },
  "cells": [
    {
      "cell_type": "markdown",
      "metadata": {
        "id": "view-in-github",
        "colab_type": "text"
      },
      "source": [
        "<a href=\"https://colab.research.google.com/github/DanielCalimayor/DS-Unit-2-Regression-1/blob/master/Daniel_Calimayor_doing_linear_regression_Assignment.ipynb\" target=\"_parent\"><img src=\"https://colab.research.google.com/assets/colab-badge.svg\" alt=\"Open In Colab\"/></a>"
      ]
    },
    {
      "cell_type": "code",
      "metadata": {
        "id": "m9BCVTaXLJ3b",
        "colab_type": "code",
        "colab": {}
      },
      "source": [
        "import pandas as pd\n",
        "\n",
        "columns = ['Year','Incumbent Party Candidate','Other Candidate','Incumbent Party Vote Share']\n",
        "\n",
        "data = [[1952,\"Stevenson\",\"Eisenhower\",44.6],\n",
        "        [1956,\"Eisenhower\",\"Stevenson\",57.76],\n",
        "        [1960,\"Nixon\",\"Kennedy\",49.91],\n",
        "        [1964,\"Johnson\",\"Goldwater\",61.34],\n",
        "        [1968,\"Humphrey\",\"Nixon\",49.60],\n",
        "        [1972,\"Nixon\",\"McGovern\",61.79],\n",
        "        [1976,\"Ford\",\"Carter\",48.95],\n",
        "        [1980,\"Carter\",\"Reagan\",44.70],\n",
        "        [1984,\"Reagan\",\"Mondale\",59.17],\n",
        "        [1988,\"Bush, Sr.\",\"Dukakis\",53.94],\n",
        "        [1992,\"Bush, Sr.\",\"Clinton\",46.55],\n",
        "        [1996,\"Clinton\",\"Dole\",54.74],\n",
        "        [2000,\"Gore\",\"Bush, Jr.\",50.27],\n",
        "        [2004,\"Bush, Jr.\",\"Kerry\",51.24],\n",
        "        [2008,\"McCain\",\"Obama\",46.32],\n",
        "        [2012,\"Obama\",\"Romney\",52.00], \n",
        "        [2016,\"Clinton\",\"Trump\",48.2]]\n",
        "        \n",
        "votes = pd.DataFrame(data=data, columns=columns)"
      ],
      "execution_count": 0,
      "outputs": []
    },
    {
      "cell_type": "code",
      "metadata": {
        "id": "Jhs5rqsgL-2g",
        "colab_type": "code",
        "colab": {}
      },
      "source": [
        "columns = ['Year','Average Recent Growth in Personal Incomes']\n",
        "\n",
        "data = [[1952,2.40],\n",
        "        [1956,2.89],\n",
        "        [1960, .85],\n",
        "        [1964,4.21],\n",
        "        [1968,3.02],\n",
        "        [1972,3.62],\n",
        "        [1976,1.08],\n",
        "        [1980,-.39],\n",
        "        [1984,3.86],\n",
        "        [1988,2.27],\n",
        "        [1992, .38],\n",
        "        [1996,1.04],\n",
        "        [2000,2.36],\n",
        "        [2004,1.72],\n",
        "        [2008, .10],\n",
        "        [2012, .95], \n",
        "        [2016, .10]]\n",
        "        \n",
        "growth = pd.DataFrame(data=data, columns=columns)"
      ],
      "execution_count": 0,
      "outputs": []
    },
    {
      "cell_type": "code",
      "metadata": {
        "id": "fQfGASvkMB5J",
        "colab_type": "code",
        "colab": {}
      },
      "source": [
        "\"\"\"\n",
        "Fatalities denotes the cumulative number of American military\n",
        "fatalities per millions of US population the in Korea, Vietnam,\n",
        "Iraq and Afghanistan wars during the presidential terms\n",
        "preceding the 1952, 1964, 1968, 1976 and 2004, 2008 and\n",
        "2012 elections.\n",
        "\n",
        "http://www.douglas-hibbs.com/HibbsArticles/HIBBS-PRESVOTE-SLIDES-MELBOURNE-Part1-2014-02-26.pdf\n",
        "\"\"\"\n",
        "\n",
        "columns = ['Year','US Military Fatalities per Million']\n",
        "\n",
        "data = [[1952,190],\n",
        "        [1956,  0],\n",
        "        [1960,  0],\n",
        "        [1964,  1],\n",
        "        [1968,146],\n",
        "        [1972,  0],\n",
        "        [1976,  2],\n",
        "        [1980,  0],\n",
        "        [1984,  0],\n",
        "        [1988,  0],\n",
        "        [1992,  0],\n",
        "        [1996,  0],\n",
        "        [2000,  0],\n",
        "        [2004,  4],\n",
        "        [2008, 14],\n",
        "        [2012,  5], \n",
        "        [2016,  5]]\n",
        "        \n",
        "deaths = pd.DataFrame(data=data, columns=columns)"
      ],
      "execution_count": 0,
      "outputs": []
    },
    {
      "cell_type": "code",
      "metadata": {
        "id": "gRgMX6NLgROb",
        "colab_type": "code",
        "colab": {}
      },
      "source": [
        ""
      ],
      "execution_count": 0,
      "outputs": []
    },
    {
      "cell_type": "code",
      "metadata": {
        "id": "F_-IZ3JmX1vI",
        "colab_type": "code",
        "outputId": "83a32d03-ecbb-48c8-dfa8-2649ed822585",
        "colab": {
          "resources": {
            "http://localhost:8080/nbextensions/google.colab/files.js": {
              "data": "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",
              "ok": true,
              "headers": [
                [
                  "content-type",
                  "application/javascript"
                ]
              ],
              "status": 200,
              "status_text": ""
            }
          },
          "base_uri": "https://localhost:8080/",
          "height": 108
        }
      },
      "source": [
        "from google.colab import files\n",
        "files.upload()"
      ],
      "execution_count": 42,
      "outputs": [
        {
          "output_type": "display_data",
          "data": {
            "text/html": [
              "\n",
              "     <input type=\"file\" id=\"files-be718565-44a5-4858-9373-b64d8bb9f1ef\" name=\"files[]\" multiple disabled />\n",
              "     <output id=\"result-be718565-44a5-4858-9373-b64d8bb9f1ef\">\n",
              "      Upload widget is only available when the cell has been executed in the\n",
              "      current browser session. Please rerun this cell to enable.\n",
              "      </output>\n",
              "      <script src=\"/nbextensions/google.colab/files.js\"></script> "
            ],
            "text/plain": [
              "<IPython.core.display.HTML object>"
            ]
          },
          "metadata": {
            "tags": []
          }
        },
        {
          "output_type": "stream",
          "text": [
            "Saving PAYEMS.csv to PAYEMS (2).csv\n"
          ],
          "name": "stdout"
        },
        {
          "output_type": "execute_result",
          "data": {
            "text/plain": [
              "{'PAYEMS.csv': b'DATE,PAYEMS\\n1939-01-01,29923\\n1939-02-01,30100\\n1939-03-01,30280\\n1939-04-01,30094\\n1939-05-01,30299\\n1939-06-01,30502\\n1939-07-01,30419\\n1939-08-01,30663\\n1939-09-01,31031\\n1939-10-01,31411\\n1939-11-01,31470\\n1939-12-01,31542\\n1940-01-01,31603\\n1940-02-01,31715\\n1940-03-01,31825\\n1940-04-01,31701\\n1940-05-01,31879\\n1940-06-01,31977\\n1940-07-01,31942\\n1940-08-01,32352\\n1940-09-01,32810\\n1940-10-01,33267\\n1940-11-01,33669\\n1940-12-01,34174\\n1941-01-01,34481\\n1941-02-01,34843\\n1941-03-01,35092\\n1941-04-01,35468\\n1941-05-01,36182\\n1941-06-01,36650\\n1941-07-01,37137\\n1941-08-01,37544\\n1941-09-01,37835\\n1941-10-01,37949\\n1941-11-01,38024\\n1941-12-01,38104\\n1942-01-01,38347\\n1942-02-01,38512\\n1942-03-01,38935\\n1942-04-01,39352\\n1942-05-01,39771\\n1942-06-01,40029\\n1942-07-01,40472\\n1942-08-01,40988\\n1942-09-01,41259\\n1942-10-01,41515\\n1942-11-01,41674\\n1942-12-01,41915\\n1943-01-01,42172\\n1943-02-01,42393\\n1943-03-01,42552\\n1943-04-01,42647\\n1943-05-01,42596\\n1943-06-01,42781\\n1943-07-01,42700\\n1943-08-01,42546\\n1943-09-01,42492\\n1943-10-01,42675\\n1943-11-01,42821\\n1943-12-01,42746\\n1944-01-01,42654\\n1944-02-01,42538\\n1944-03-01,42294\\n1944-04-01,42063\\n1944-05-01,41985\\n1944-06-01,41947\\n1944-07-01,41904\\n1944-08-01,41850\\n1944-09-01,41679\\n1944-10-01,41708\\n1944-11-01,41711\\n1944-12-01,41860\\n1945-01-01,41895\\n1945-02-01,41897\\n1945-03-01,41798\\n1945-04-01,41446\\n1945-05-01,41304\\n1945-06-01,41149\\n1945-07-01,40874\\n1945-08-01,40466\\n1945-09-01,38507\\n1945-10-01,38600\\n1945-11-01,38996\\n1945-12-01,39110\\n1946-01-01,39829\\n1946-02-01,39244\\n1946-03-01,40195\\n1946-04-01,40913\\n1946-05-01,41349\\n1946-06-01,41735\\n1946-07-01,42153\\n1946-08-01,42642\\n1946-09-01,42915\\n1946-10-01,43093\\n1946-11-01,43395\\n1946-12-01,43379\\n1947-01-01,43535\\n1947-02-01,43557\\n1947-03-01,43607\\n1947-04-01,43499\\n1947-05-01,43638\\n1947-06-01,43810\\n1947-07-01,43743\\n1947-08-01,43960\\n1947-09-01,44203\\n1947-10-01,44411\\n1947-11-01,44484\\n1947-12-01,44581\\n1948-01-01,44679\\n1948-02-01,44533\\n1948-03-01,44683\\n1948-04-01,44379\\n1948-05-01,44796\\n1948-06-01,45034\\n1948-07-01,45160\\n1948-08-01,45178\\n1948-09-01,45294\\n1948-10-01,45245\\n1948-11-01,45192\\n1948-12-01,45032\\n1949-01-01,44668\\n1949-02-01,44497\\n1949-03-01,44240\\n1949-04-01,44236\\n1949-05-01,43984\\n1949-06-01,43739\\n1949-07-01,43531\\n1949-08-01,43624\\n1949-09-01,43780\\n1949-10-01,42942\\n1949-11-01,43242\\n1949-12-01,43522\\n1950-01-01,43526\\n1950-02-01,43297\\n1950-03-01,43954\\n1950-04-01,44382\\n1950-05-01,44718\\n1950-06-01,45083\\n1950-07-01,45454\\n1950-08-01,46192\\n1950-09-01,46438\\n1950-10-01,46706\\n1950-11-01,46776\\n1950-12-01,46861\\n1951-01-01,47288\\n1951-02-01,47577\\n1951-03-01,47873\\n1951-04-01,47861\\n1951-05-01,47952\\n1951-06-01,48064\\n1951-07-01,48061\\n1951-08-01,48012\\n1951-09-01,47954\\n1951-10-01,48006\\n1951-11-01,48147\\n1951-12-01,48314\\n1952-01-01,48296\\n1952-02-01,48522\\n1952-03-01,48504\\n1952-04-01,48620\\n1952-05-01,48642\\n1952-06-01,48282\\n1952-07-01,48143\\n1952-08-01,48924\\n1952-09-01,49320\\n1952-10-01,49597\\n1952-11-01,49816\\n1952-12-01,50166\\n1953-01-01,50144\\n1953-02-01,50339\\n1953-03-01,50473\\n1953-04-01,50435\\n1953-05-01,50490\\n1953-06-01,50519\\n1953-07-01,50536\\n1953-08-01,50489\\n1953-09-01,50368\\n1953-10-01,50240\\n1953-11-01,49908\\n1953-12-01,49703\\n1954-01-01,49469\\n1954-02-01,49382\\n1954-03-01,49157\\n1954-04-01,49179\\n1954-05-01,48965\\n1954-06-01,48895\\n1954-07-01,48835\\n1954-08-01,48826\\n1954-09-01,48886\\n1954-10-01,48942\\n1954-11-01,49180\\n1954-12-01,49331\\n1955-01-01,49496\\n1955-02-01,49644\\n1955-03-01,49962\\n1955-04-01,50248\\n1955-05-01,50512\\n1955-06-01,50790\\n1955-07-01,50987\\n1955-08-01,51111\\n1955-09-01,51266\\n1955-10-01,51429\\n1955-11-01,51592\\n1955-12-01,51805\\n1956-01-01,51975\\n1956-02-01,52167\\n1956-03-01,52294\\n1956-04-01,52375\\n1956-05-01,52506\\n1956-06-01,52586\\n1956-07-01,51955\\n1956-08-01,52631\\n1956-09-01,52604\\n1956-10-01,52777\\n1956-11-01,52821\\n1956-12-01,52929\\n1957-01-01,52887\\n1957-02-01,53097\\n1957-03-01,53156\\n1957-04-01,53238\\n1957-05-01,53150\\n1957-06-01,53067\\n1957-07-01,53123\\n1957-08-01,53128\\n1957-09-01,52934\\n1957-10-01,52763\\n1957-11-01,52558\\n1957-12-01,52384\\n1958-01-01,52076\\n1958-02-01,51576\\n1958-03-01,51299\\n1958-04-01,51027\\n1958-05-01,50914\\n1958-06-01,50914\\n1958-07-01,51039\\n1958-08-01,51233\\n1958-09-01,51506\\n1958-10-01,51485\\n1958-11-01,51944\\n1958-12-01,52085\\n1959-01-01,52478\\n1959-02-01,52688\\n1959-03-01,53014\\n1959-04-01,53321\\n1959-05-01,53550\\n1959-06-01,53681\\n1959-07-01,53804\\n1959-08-01,53336\\n1959-09-01,53428\\n1959-10-01,53358\\n1959-11-01,53634\\n1959-12-01,54174\\n1960-01-01,54274\\n1960-02-01,54513\\n1960-03-01,54454\\n1960-04-01,54813\\n1960-05-01,54475\\n1960-06-01,54348\\n1960-07-01,54306\\n1960-08-01,54272\\n1960-09-01,54227\\n1960-10-01,54142\\n1960-11-01,53961\\n1960-12-01,53742\\n1961-01-01,53683\\n1961-02-01,53557\\n1961-03-01,53659\\n1961-04-01,53627\\n1961-05-01,53786\\n1961-06-01,53977\\n1961-07-01,54123\\n1961-08-01,54298\\n1961-09-01,54388\\n1961-10-01,54522\\n1961-11-01,54742\\n1961-12-01,54872\\n1962-01-01,54891\\n1962-02-01,55188\\n1962-03-01,55275\\n1962-04-01,55602\\n1962-05-01,55628\\n1962-06-01,55644\\n1962-07-01,55746\\n1962-08-01,55838\\n1962-09-01,55978\\n1962-10-01,56041\\n1962-11-01,56056\\n1962-12-01,56028\\n1963-01-01,56115\\n1963-02-01,56230\\n1963-03-01,56320\\n1963-04-01,56580\\n1963-05-01,56616\\n1963-06-01,56659\\n1963-07-01,56794\\n1963-08-01,56910\\n1963-09-01,57078\\n1963-10-01,57283\\n1963-11-01,57255\\n1963-12-01,57361\\n1964-01-01,57487\\n1964-02-01,57753\\n1964-03-01,57897\\n1964-04-01,57922\\n1964-05-01,58089\\n1964-06-01,58219\\n1964-07-01,58412\\n1964-08-01,58619\\n1964-09-01,58903\\n1964-10-01,58793\\n1964-11-01,59218\\n1964-12-01,59421\\n1965-01-01,59582\\n1965-02-01,59800\\n1965-03-01,60003\\n1965-04-01,60259\\n1965-05-01,60491\\n1965-06-01,60690\\n1965-07-01,60965\\n1965-08-01,61228\\n1965-09-01,61490\\n1965-10-01,61719\\n1965-11-01,61996\\n1965-12-01,62322\\n1966-01-01,62529\\n1966-02-01,62796\\n1966-03-01,63192\\n1966-04-01,63437\\n1966-05-01,63712\\n1966-06-01,64111\\n1966-07-01,64301\\n1966-08-01,64507\\n1966-09-01,64643\\n1966-10-01,64854\\n1966-11-01,65019\\n1966-12-01,65199\\n1967-01-01,65407\\n1967-02-01,65429\\n1967-03-01,65530\\n1967-04-01,65466\\n1967-05-01,65620\\n1967-06-01,65750\\n1967-07-01,65888\\n1967-08-01,66143\\n1967-09-01,66164\\n1967-10-01,66225\\n1967-11-01,66703\\n1967-12-01,66900\\n1968-01-01,66804\\n1968-02-01,67215\\n1968-03-01,67295\\n1968-04-01,67556\\n1968-05-01,67652\\n1968-06-01,67905\\n1968-07-01,68126\\n1968-08-01,68330\\n1968-09-01,68484\\n1968-10-01,68721\\n1968-11-01,68984\\n1968-12-01,69248\\n1969-01-01,69439\\n1969-02-01,69699\\n1969-03-01,69905\\n1969-04-01,70072\\n1969-05-01,70328\\n1969-06-01,70636\\n1969-07-01,70729\\n1969-08-01,71008\\n1969-09-01,70914\\n1969-10-01,71121\\n1969-11-01,71086\\n1969-12-01,71241\\n1970-01-01,71176\\n1970-02-01,71305\\n1970-03-01,71451\\n1970-04-01,71348\\n1970-05-01,71124\\n1970-06-01,71029\\n1970-07-01,71053\\n1970-08-01,70937\\n1970-09-01,70944\\n1970-10-01,70521\\n1970-11-01,70409\\n1970-12-01,70792\\n1971-01-01,70865\\n1971-02-01,70807\\n1971-03-01,70860\\n1971-04-01,71036\\n1971-05-01,71247\\n1971-06-01,71254\\n1971-07-01,71315\\n1971-08-01,71373\\n1971-09-01,71614\\n1971-10-01,71642\\n1971-11-01,71847\\n1971-12-01,72109\\n1972-01-01,72441\\n1972-02-01,72648\\n1972-03-01,72944\\n1972-04-01,73162\\n1972-05-01,73469\\n1972-06-01,73758\\n1972-07-01,73709\\n1972-08-01,74141\\n1972-09-01,74264\\n1972-10-01,74674\\n1972-11-01,74973\\n1972-12-01,75268\\n1973-01-01,75617\\n1973-02-01,76014\\n1973-03-01,76284\\n1973-04-01,76455\\n1973-05-01,76648\\n1973-06-01,76887\\n1973-07-01,76913\\n1973-08-01,77168\\n1973-09-01,77276\\n1973-10-01,77607\\n1973-11-01,77920\\n1973-12-01,78031\\n1974-01-01,78100\\n1974-02-01,78254\\n1974-03-01,78296\\n1974-04-01,78382\\n1974-05-01,78549\\n1974-06-01,78604\\n1974-07-01,78636\\n1974-08-01,78619\\n1974-09-01,78610\\n1974-10-01,78630\\n1974-11-01,78265\\n1974-12-01,77652\\n1975-01-01,77293\\n1975-02-01,76918\\n1975-03-01,76648\\n1975-04-01,76460\\n1975-05-01,76624\\n1975-06-01,76521\\n1975-07-01,76770\\n1975-08-01,77153\\n1975-09-01,77228\\n1975-10-01,77540\\n1975-11-01,77685\\n1975-12-01,78017\\n1976-01-01,78503\\n1976-02-01,78816\\n1976-03-01,79048\\n1976-04-01,79292\\n1976-05-01,79312\\n1976-06-01,79376\\n1976-07-01,79547\\n1976-08-01,79704\\n1976-09-01,79892\\n1976-10-01,79911\\n1976-11-01,80240\\n1976-12-01,80448\\n1977-01-01,80690\\n1977-02-01,80988\\n1977-03-01,81391\\n1977-04-01,81728\\n1977-05-01,82088\\n1977-06-01,82488\\n1977-07-01,82834\\n1977-08-01,83075\\n1977-09-01,83532\\n1977-10-01,83800\\n1977-11-01,84173\\n1977-12-01,84410\\n1978-01-01,84594\\n1978-02-01,84948\\n1978-03-01,85460\\n1978-04-01,86162\\n1978-05-01,86509\\n1978-06-01,86950\\n1978-07-01,87204\\n1978-08-01,87483\\n1978-09-01,87621\\n1978-10-01,87956\\n1978-11-01,88391\\n1978-12-01,88671\\n1979-01-01,88808\\n1979-02-01,89055\\n1979-03-01,89479\\n1979-04-01,89417\\n1979-05-01,89789\\n1979-06-01,90108\\n1979-07-01,90217\\n1979-08-01,90300\\n1979-09-01,90327\\n1979-10-01,90481\\n1979-11-01,90573\\n1979-12-01,90672\\n1980-01-01,90800\\n1980-02-01,90883\\n1980-03-01,90994\\n1980-04-01,90849\\n1980-05-01,90420\\n1980-06-01,90101\\n1980-07-01,89840\\n1980-08-01,90099\\n1980-09-01,90213\\n1980-10-01,90490\\n1980-11-01,90747\\n1980-12-01,90943\\n1981-01-01,91033\\n1981-02-01,91105\\n1981-03-01,91210\\n1981-04-01,91283\\n1981-05-01,91296\\n1981-06-01,91490\\n1981-07-01,91601\\n1981-08-01,91565\\n1981-09-01,91477\\n1981-10-01,91380\\n1981-11-01,91171\\n1981-12-01,90895\\n1982-01-01,90565\\n1982-02-01,90563\\n1982-03-01,90434\\n1982-04-01,90150\\n1982-05-01,90107\\n1982-06-01,89865\\n1982-07-01,89521\\n1982-08-01,89363\\n1982-09-01,89183\\n1982-10-01,88907\\n1982-11-01,88786\\n1982-12-01,88771\\n1983-01-01,88990\\n1983-02-01,88917\\n1983-03-01,89090\\n1983-04-01,89364\\n1983-05-01,89644\\n1983-06-01,90021\\n1983-07-01,90437\\n1983-08-01,90129\\n1983-09-01,91247\\n1983-10-01,91520\\n1983-11-01,91875\\n1983-12-01,92230\\n1984-01-01,92673\\n1984-02-01,93157\\n1984-03-01,93429\\n1984-04-01,93792\\n1984-05-01,94098\\n1984-06-01,94479\\n1984-07-01,94789\\n1984-08-01,95032\\n1984-09-01,95344\\n1984-10-01,95629\\n1984-11-01,95982\\n1984-12-01,96107\\n1985-01-01,96372\\n1985-02-01,96503\\n1985-03-01,96842\\n1985-04-01,97038\\n1985-05-01,97312\\n1985-06-01,97459\\n1985-07-01,97648\\n1985-08-01,97840\\n1985-09-01,98045\\n1985-10-01,98233\\n1985-11-01,98443\\n1985-12-01,98609\\n1986-01-01,98732\\n1986-02-01,98847\\n1986-03-01,98934\\n1986-04-01,99121\\n1986-05-01,99248\\n1986-06-01,99155\\n1986-07-01,99473\\n1986-08-01,99588\\n1986-09-01,99934\\n1986-10-01,100121\\n1986-11-01,100308\\n1986-12-01,100509\\n1987-01-01,100678\\n1987-02-01,100919\\n1987-03-01,101164\\n1987-04-01,101499\\n1987-05-01,101728\\n1987-06-01,101900\\n1987-07-01,102247\\n1987-08-01,102420\\n1987-09-01,102647\\n1987-10-01,103138\\n1987-11-01,103372\\n1987-12-01,103661\\n1988-01-01,103753\\n1988-02-01,104214\\n1988-03-01,104489\\n1988-04-01,104732\\n1988-05-01,104962\\n1988-06-01,105326\\n1988-07-01,105550\\n1988-08-01,105674\\n1988-09-01,106013\\n1988-10-01,106276\\n1988-11-01,106617\\n1988-12-01,106898\\n1989-01-01,107161\\n1989-02-01,107427\\n1989-03-01,107621\\n1989-04-01,107791\\n1989-05-01,107913\\n1989-06-01,108027\\n1989-07-01,108069\\n1989-08-01,108120\\n1989-09-01,108369\\n1989-10-01,108476\\n1989-11-01,108752\\n1989-12-01,108836\\n1990-01-01,109197\\n1990-02-01,109435\\n1990-03-01,109644\\n1990-04-01,109688\\n1990-05-01,109839\\n1990-06-01,109857\\n1990-07-01,109824\\n1990-08-01,109617\\n1990-09-01,109520\\n1990-10-01,109367\\n1990-11-01,109213\\n1990-12-01,109167\\n1991-01-01,109056\\n1991-02-01,108735\\n1991-03-01,108576\\n1991-04-01,108367\\n1991-05-01,108251\\n1991-06-01,108337\\n1991-07-01,108292\\n1991-08-01,108313\\n1991-09-01,108338\\n1991-10-01,108357\\n1991-11-01,108297\\n1991-12-01,108330\\n1992-01-01,108372\\n1992-02-01,108313\\n1992-03-01,108368\\n1992-04-01,108523\\n1992-05-01,108652\\n1992-06-01,108719\\n1992-07-01,108794\\n1992-08-01,108929\\n1992-09-01,108963\\n1992-10-01,109144\\n1992-11-01,109277\\n1992-12-01,109499\\n1993-01-01,109799\\n1993-02-01,110047\\n1993-03-01,109999\\n1993-04-01,110302\\n1993-05-01,110573\\n1993-06-01,110752\\n1993-07-01,111057\\n1993-08-01,111211\\n1993-09-01,111452\\n1993-10-01,111737\\n1993-11-01,111990\\n1993-12-01,112319\\n1994-01-01,112601\\n1994-02-01,112785\\n1994-03-01,113248\\n1994-04-01,113592\\n1994-05-01,113928\\n1994-06-01,114242\\n1994-07-01,114613\\n1994-08-01,114902\\n1994-09-01,115251\\n1994-10-01,115464\\n1994-11-01,115876\\n1994-12-01,116171\\n1995-01-01,116508\\n1995-02-01,116702\\n1995-03-01,116913\\n1995-04-01,117076\\n1995-05-01,117056\\n1995-06-01,117293\\n1995-07-01,117386\\n1995-08-01,117642\\n1995-09-01,117881\\n1995-10-01,118038\\n1995-11-01,118182\\n1995-12-01,118328\\n1996-01-01,118323\\n1996-02-01,118744\\n1996-03-01,119001\\n1996-04-01,119168\\n1996-05-01,119496\\n1996-06-01,119778\\n1996-07-01,120020\\n1996-08-01,120207\\n1996-09-01,120418\\n1996-10-01,120674\\n1996-11-01,120969\\n1996-12-01,121152\\n1997-01-01,121372\\n1997-02-01,121682\\n1997-03-01,121999\\n1997-04-01,122296\\n1997-05-01,122557\\n1997-06-01,122825\\n1997-07-01,123119\\n1997-08-01,123099\\n1997-09-01,123594\\n1997-10-01,123940\\n1997-11-01,124246\\n1997-12-01,124559\\n1998-01-01,124823\\n1998-02-01,125024\\n1998-03-01,125174\\n1998-04-01,125453\\n1998-05-01,125855\\n1998-06-01,126087\\n1998-07-01,126213\\n1998-08-01,126551\\n1998-09-01,126764\\n1998-10-01,126968\\n1998-11-01,127243\\n1998-12-01,127607\\n1999-01-01,127713\\n1999-02-01,128131\\n1999-03-01,128239\\n1999-04-01,128610\\n1999-05-01,128822\\n1999-06-01,129099\\n1999-07-01,129420\\n1999-08-01,129576\\n1999-09-01,129781\\n1999-10-01,130190\\n1999-11-01,130479\\n1999-12-01,130786\\n2000-01-01,131020\\n2000-02-01,131136\\n2000-03-01,131609\\n2000-04-01,131900\\n2000-05-01,132118\\n2000-06-01,132079\\n2000-07-01,132247\\n2000-08-01,132240\\n2000-09-01,132364\\n2000-10-01,132365\\n2000-11-01,132570\\n2000-12-01,132722\\n2001-01-01,132712\\n2001-02-01,132804\\n2001-03-01,132761\\n2001-04-01,132475\\n2001-05-01,132426\\n2001-06-01,132312\\n2001-07-01,132187\\n2001-08-01,132043\\n2001-09-01,131791\\n2001-10-01,131468\\n2001-11-01,131158\\n2001-12-01,130997\\n2002-01-01,130868\\n2002-02-01,130752\\n2002-03-01,130732\\n2002-04-01,130636\\n2002-05-01,130647\\n2002-06-01,130695\\n2002-07-01,130604\\n2002-08-01,130603\\n2002-09-01,130524\\n2002-10-01,130643\\n2002-11-01,130632\\n2002-12-01,130488\\n2003-01-01,130596\\n2003-02-01,130461\\n2003-03-01,130246\\n2003-04-01,130194\\n2003-05-01,130210\\n2003-06-01,130209\\n2003-07-01,130207\\n2003-08-01,130167\\n2003-09-01,130279\\n2003-10-01,130473\\n2003-11-01,130490\\n2003-12-01,130605\\n2004-01-01,130787\\n2004-02-01,130844\\n2004-03-01,131156\\n2004-04-01,131426\\n2004-05-01,131710\\n2004-06-01,131807\\n2004-07-01,131864\\n2004-08-01,131955\\n2004-09-01,132112\\n2004-10-01,132466\\n2004-11-01,132521\\n2004-12-01,132644\\n2005-01-01,132791\\n2005-02-01,133050\\n2005-03-01,133172\\n2005-04-01,133536\\n2005-05-01,133706\\n2005-06-01,133957\\n2005-07-01,134314\\n2005-08-01,134517\\n2005-09-01,134583\\n2005-10-01,134673\\n2005-11-01,135012\\n2005-12-01,135168\\n2006-01-01,135446\\n2006-02-01,135753\\n2006-03-01,136063\\n2006-04-01,136221\\n2006-05-01,136261\\n2006-06-01,136342\\n2006-07-01,136538\\n2006-08-01,136713\\n2006-09-01,136860\\n2006-10-01,136870\\n2006-11-01,137082\\n2006-12-01,137268\\n2007-01-01,137493\\n2007-02-01,137573\\n2007-03-01,137810\\n2007-04-01,137860\\n2007-05-01,138012\\n2007-06-01,138088\\n2007-07-01,138055\\n2007-08-01,138032\\n2007-09-01,138114\\n2007-10-01,138190\\n2007-11-01,138299\\n2007-12-01,138409\\n2008-01-01,138422\\n2008-02-01,138340\\n2008-03-01,138292\\n2008-04-01,138056\\n2008-05-01,137872\\n2008-06-01,137706\\n2008-07-01,137508\\n2008-08-01,137229\\n2008-09-01,136769\\n2008-10-01,136288\\n2008-11-01,135561\\n2008-12-01,134857\\n2009-01-01,134074\\n2009-02-01,133332\\n2009-03-01,132529\\n2009-04-01,131835\\n2009-05-01,131491\\n2009-06-01,131026\\n2009-07-01,130685\\n2009-08-01,130501\\n2009-09-01,130259\\n2009-10-01,130061\\n2009-11-01,130073\\n2009-12-01,129804\\n2010-01-01,129807\\n2010-02-01,129715\\n2010-03-01,129895\\n2010-04-01,130132\\n2010-05-01,130666\\n2010-06-01,130530\\n2010-07-01,130442\\n2010-08-01,130437\\n2010-09-01,130373\\n2010-10-01,130642\\n2010-11-01,130765\\n2010-12-01,130839\\n2011-01-01,130859\\n2011-02-01,131072\\n2011-03-01,131304\\n2011-04-01,131625\\n2011-05-01,131720\\n2011-06-01,131955\\n2011-07-01,132016\\n2011-08-01,132138\\n2011-09-01,132374\\n2011-10-01,132578\\n2011-11-01,132710\\n2011-12-01,132914\\n2012-01-01,133269\\n2012-02-01,133531\\n2012-03-01,133769\\n2012-04-01,133852\\n2012-05-01,133951\\n2012-06-01,134023\\n2012-07-01,134176\\n2012-08-01,134346\\n2012-09-01,134535\\n2012-10-01,134693\\n2012-11-01,134851\\n2012-12-01,135088\\n2013-01-01,135283\\n2013-02-01,135562\\n2013-03-01,135698\\n2013-04-01,135890\\n2013-05-01,136114\\n2013-06-01,136295\\n2013-07-01,136400\\n2013-08-01,136642\\n2013-09-01,136831\\n2013-10-01,137056\\n2013-11-01,137323\\n2013-12-01,137390\\n2014-01-01,137567\\n2014-02-01,137735\\n2014-03-01,137985\\n2014-04-01,138312\\n2014-05-01,138533\\n2014-06-01,138857\\n2014-07-01,139084\\n2014-08-01,139272\\n2014-09-01,139583\\n2014-10-01,139841\\n2014-11-01,140127\\n2014-12-01,140396\\n2015-01-01,140609\\n2015-02-01,140857\\n2015-03-01,140934\\n2015-04-01,141234\\n2015-05-01,141553\\n2015-06-01,141723\\n2015-07-01,142016\\n2015-08-01,142138\\n2015-09-01,142271\\n2015-10-01,142610\\n2015-11-01,142845\\n2015-12-01,143125\\n2016-01-01,143215\\n2016-02-01,143447\\n2016-03-01,143681\\n2016-04-01,143892\\n2016-05-01,143907\\n2016-06-01,144189\\n2016-07-01,144525\\n2016-08-01,144660\\n2016-09-01,144930\\n2016-10-01,145058\\n2016-11-01,145228\\n2016-12-01,145443\\n2017-01-01,145695\\n2017-02-01,145836\\n2017-03-01,145963\\n2017-04-01,146176\\n2017-05-01,146304\\n2017-06-01,146533\\n2017-07-01,146737\\n2017-08-01,146924\\n2017-09-01,146942\\n2017-10-01,147202\\n2017-11-01,147422\\n2017-12-01,147596\\n2018-01-01,147767\\n2018-02-01,148097\\n2018-03-01,148279\\n2018-04-01,148475\\n2018-05-01,148745\\n2018-06-01,149007\\n2018-07-01,149185\\n2018-08-01,149467\\n2018-09-01,149575\\n2018-10-01,149852\\n2018-11-01,150048\\n2018-12-01,150275\\n2019-01-01,150587\\n2019-02-01,150643\\n2019-03-01,150832\\n2019-04-01,151095\\n'}"
            ]
          },
          "metadata": {
            "tags": []
          },
          "execution_count": 42
        }
      ]
    },
    {
      "cell_type": "code",
      "metadata": {
        "id": "N0-tTY_gYE06",
        "colab_type": "code",
        "colab": {}
      },
      "source": [
        "pay = pd.read_csv('PAYEMS.csv')"
      ],
      "execution_count": 0,
      "outputs": []
    },
    {
      "cell_type": "code",
      "metadata": {
        "id": "aRS6gqmfYI8P",
        "colab_type": "code",
        "outputId": "53f0b476-a0c3-41f0-d575-5065911cc954",
        "colab": {
          "base_uri": "https://localhost:8080/",
          "height": 204
        }
      },
      "source": [
        "pay.head()"
      ],
      "execution_count": 44,
      "outputs": [
        {
          "output_type": "execute_result",
          "data": {
            "text/html": [
              "<div>\n",
              "<style scoped>\n",
              "    .dataframe tbody tr th:only-of-type {\n",
              "        vertical-align: middle;\n",
              "    }\n",
              "\n",
              "    .dataframe tbody tr th {\n",
              "        vertical-align: top;\n",
              "    }\n",
              "\n",
              "    .dataframe thead th {\n",
              "        text-align: right;\n",
              "    }\n",
              "</style>\n",
              "<table border=\"1\" class=\"dataframe\">\n",
              "  <thead>\n",
              "    <tr style=\"text-align: right;\">\n",
              "      <th></th>\n",
              "      <th>DATE</th>\n",
              "      <th>PAYEMS</th>\n",
              "    </tr>\n",
              "  </thead>\n",
              "  <tbody>\n",
              "    <tr>\n",
              "      <th>0</th>\n",
              "      <td>1939-01-01</td>\n",
              "      <td>29923</td>\n",
              "    </tr>\n",
              "    <tr>\n",
              "      <th>1</th>\n",
              "      <td>1939-02-01</td>\n",
              "      <td>30100</td>\n",
              "    </tr>\n",
              "    <tr>\n",
              "      <th>2</th>\n",
              "      <td>1939-03-01</td>\n",
              "      <td>30280</td>\n",
              "    </tr>\n",
              "    <tr>\n",
              "      <th>3</th>\n",
              "      <td>1939-04-01</td>\n",
              "      <td>30094</td>\n",
              "    </tr>\n",
              "    <tr>\n",
              "      <th>4</th>\n",
              "      <td>1939-05-01</td>\n",
              "      <td>30299</td>\n",
              "    </tr>\n",
              "  </tbody>\n",
              "</table>\n",
              "</div>"
            ],
            "text/plain": [
              "         DATE  PAYEMS\n",
              "0  1939-01-01   29923\n",
              "1  1939-02-01   30100\n",
              "2  1939-03-01   30280\n",
              "3  1939-04-01   30094\n",
              "4  1939-05-01   30299"
            ]
          },
          "metadata": {
            "tags": []
          },
          "execution_count": 44
        }
      ]
    },
    {
      "cell_type": "code",
      "metadata": {
        "id": "UtAFF4W4YPLF",
        "colab_type": "code",
        "colab": {}
      },
      "source": [
        "pay.DATE = pd.to_datetime(pay['DATE'])"
      ],
      "execution_count": 0,
      "outputs": []
    },
    {
      "cell_type": "code",
      "metadata": {
        "id": "lKAVkhbCYuPW",
        "colab_type": "code",
        "colab": {}
      },
      "source": [
        "pay['Year'] = pay.DATE.dt.year"
      ],
      "execution_count": 0,
      "outputs": []
    },
    {
      "cell_type": "code",
      "metadata": {
        "id": "6ajVD50_ZKz5",
        "colab_type": "code",
        "outputId": "e3063f7a-fb3f-4987-81ef-02c69a163d2c",
        "colab": {
          "base_uri": "https://localhost:8080/",
          "height": 204
        }
      },
      "source": [
        "pay.head()"
      ],
      "execution_count": 47,
      "outputs": [
        {
          "output_type": "execute_result",
          "data": {
            "text/html": [
              "<div>\n",
              "<style scoped>\n",
              "    .dataframe tbody tr th:only-of-type {\n",
              "        vertical-align: middle;\n",
              "    }\n",
              "\n",
              "    .dataframe tbody tr th {\n",
              "        vertical-align: top;\n",
              "    }\n",
              "\n",
              "    .dataframe thead th {\n",
              "        text-align: right;\n",
              "    }\n",
              "</style>\n",
              "<table border=\"1\" class=\"dataframe\">\n",
              "  <thead>\n",
              "    <tr style=\"text-align: right;\">\n",
              "      <th></th>\n",
              "      <th>DATE</th>\n",
              "      <th>PAYEMS</th>\n",
              "      <th>Year</th>\n",
              "    </tr>\n",
              "  </thead>\n",
              "  <tbody>\n",
              "    <tr>\n",
              "      <th>0</th>\n",
              "      <td>1939-01-01</td>\n",
              "      <td>29923</td>\n",
              "      <td>1939</td>\n",
              "    </tr>\n",
              "    <tr>\n",
              "      <th>1</th>\n",
              "      <td>1939-02-01</td>\n",
              "      <td>30100</td>\n",
              "      <td>1939</td>\n",
              "    </tr>\n",
              "    <tr>\n",
              "      <th>2</th>\n",
              "      <td>1939-03-01</td>\n",
              "      <td>30280</td>\n",
              "      <td>1939</td>\n",
              "    </tr>\n",
              "    <tr>\n",
              "      <th>3</th>\n",
              "      <td>1939-04-01</td>\n",
              "      <td>30094</td>\n",
              "      <td>1939</td>\n",
              "    </tr>\n",
              "    <tr>\n",
              "      <th>4</th>\n",
              "      <td>1939-05-01</td>\n",
              "      <td>30299</td>\n",
              "      <td>1939</td>\n",
              "    </tr>\n",
              "  </tbody>\n",
              "</table>\n",
              "</div>"
            ],
            "text/plain": [
              "        DATE  PAYEMS  Year\n",
              "0 1939-01-01   29923  1939\n",
              "1 1939-02-01   30100  1939\n",
              "2 1939-03-01   30280  1939\n",
              "3 1939-04-01   30094  1939\n",
              "4 1939-05-01   30299  1939"
            ]
          },
          "metadata": {
            "tags": []
          },
          "execution_count": 47
        }
      ]
    },
    {
      "cell_type": "code",
      "metadata": {
        "id": "Rnxi14ADZPX9",
        "colab_type": "code",
        "colab": {}
      },
      "source": [
        "pay = pay.drop(columns =['DATE'])"
      ],
      "execution_count": 0,
      "outputs": []
    },
    {
      "cell_type": "code",
      "metadata": {
        "id": "Er4_nrFHZwdl",
        "colab_type": "code",
        "outputId": "89d44e84-b7ed-46eb-daf5-b493282e71a3",
        "colab": {
          "base_uri": "https://localhost:8080/",
          "height": 204
        }
      },
      "source": [
        "pay.head()"
      ],
      "execution_count": 49,
      "outputs": [
        {
          "output_type": "execute_result",
          "data": {
            "text/html": [
              "<div>\n",
              "<style scoped>\n",
              "    .dataframe tbody tr th:only-of-type {\n",
              "        vertical-align: middle;\n",
              "    }\n",
              "\n",
              "    .dataframe tbody tr th {\n",
              "        vertical-align: top;\n",
              "    }\n",
              "\n",
              "    .dataframe thead th {\n",
              "        text-align: right;\n",
              "    }\n",
              "</style>\n",
              "<table border=\"1\" class=\"dataframe\">\n",
              "  <thead>\n",
              "    <tr style=\"text-align: right;\">\n",
              "      <th></th>\n",
              "      <th>PAYEMS</th>\n",
              "      <th>Year</th>\n",
              "    </tr>\n",
              "  </thead>\n",
              "  <tbody>\n",
              "    <tr>\n",
              "      <th>0</th>\n",
              "      <td>29923</td>\n",
              "      <td>1939</td>\n",
              "    </tr>\n",
              "    <tr>\n",
              "      <th>1</th>\n",
              "      <td>30100</td>\n",
              "      <td>1939</td>\n",
              "    </tr>\n",
              "    <tr>\n",
              "      <th>2</th>\n",
              "      <td>30280</td>\n",
              "      <td>1939</td>\n",
              "    </tr>\n",
              "    <tr>\n",
              "      <th>3</th>\n",
              "      <td>30094</td>\n",
              "      <td>1939</td>\n",
              "    </tr>\n",
              "    <tr>\n",
              "      <th>4</th>\n",
              "      <td>30299</td>\n",
              "      <td>1939</td>\n",
              "    </tr>\n",
              "  </tbody>\n",
              "</table>\n",
              "</div>"
            ],
            "text/plain": [
              "   PAYEMS  Year\n",
              "0   29923  1939\n",
              "1   30100  1939\n",
              "2   30280  1939\n",
              "3   30094  1939\n",
              "4   30299  1939"
            ]
          },
          "metadata": {
            "tags": []
          },
          "execution_count": 49
        }
      ]
    },
    {
      "cell_type": "code",
      "metadata": {
        "id": "8pmpdropgZIh",
        "colab_type": "code",
        "outputId": "bc0def1a-47ca-4ba8-91ca-e9fcb4b21ced",
        "colab": {
          "base_uri": "https://localhost:8080/",
          "height": 68
        }
      },
      "source": [
        "pay16 = pay[pay['Year'] == 2016]\n",
        "pay16.mean()"
      ],
      "execution_count": 50,
      "outputs": [
        {
          "output_type": "execute_result",
          "data": {
            "text/plain": [
              "PAYEMS    144347.916667\n",
              "Year        2016.000000\n",
              "dtype: float64"
            ]
          },
          "metadata": {
            "tags": []
          },
          "execution_count": 50
        }
      ]
    },
    {
      "cell_type": "code",
      "metadata": {
        "id": "RoVuNuilggWM",
        "colab_type": "code",
        "colab": {}
      },
      "source": [
        "columns = ['Year','US Total Nonfarm Payrolls']\n",
        "data = [[1952,48902],\n",
        "        [1956,52368],\n",
        "        [1960,54293],\n",
        "        [1964,58394],\n",
        "        [1968,68027],\n",
        "        [1972,73787],\n",
        "        [1976,79507],\n",
        "        [1980,90531],\n",
        "        [1984,94542],\n",
        "        [1988,105375],\n",
        "        [1992,108796],\n",
        "        [1996,119829],\n",
        "        [2000,132030],\n",
        "        [2004,131774],\n",
        "        [2008,137242],\n",
        "        [2012,134174], \n",
        "        [2016,144348]]\n",
        "        \n",
        "PAYEMS = pd.DataFrame(data=data, columns=columns)"
      ],
      "execution_count": 0,
      "outputs": []
    },
    {
      "cell_type": "code",
      "metadata": {
        "id": "QoU-sfMlMEv1",
        "colab_type": "code",
        "outputId": "6b0508f4-0b5c-45d9-e0be-79d82a13ca9c",
        "colab": {
          "base_uri": "https://localhost:8080/",
          "height": 34
        }
      },
      "source": [
        "df = votes.merge(growth).merge(deaths).merge(PAYEMS)\n",
        "df.shape"
      ],
      "execution_count": 52,
      "outputs": [
        {
          "output_type": "execute_result",
          "data": {
            "text/plain": [
              "(17, 7)"
            ]
          },
          "metadata": {
            "tags": []
          },
          "execution_count": 52
        }
      ]
    },
    {
      "cell_type": "code",
      "metadata": {
        "id": "7-ANhW20VemI",
        "colab_type": "code",
        "outputId": "05fdabfd-886a-45b8-a1e4-830b326f5033",
        "colab": {
          "base_uri": "https://localhost:8080/",
          "height": 221
        }
      },
      "source": [
        "df.head()"
      ],
      "execution_count": 53,
      "outputs": [
        {
          "output_type": "execute_result",
          "data": {
            "text/html": [
              "<div>\n",
              "<style scoped>\n",
              "    .dataframe tbody tr th:only-of-type {\n",
              "        vertical-align: middle;\n",
              "    }\n",
              "\n",
              "    .dataframe tbody tr th {\n",
              "        vertical-align: top;\n",
              "    }\n",
              "\n",
              "    .dataframe thead th {\n",
              "        text-align: right;\n",
              "    }\n",
              "</style>\n",
              "<table border=\"1\" class=\"dataframe\">\n",
              "  <thead>\n",
              "    <tr style=\"text-align: right;\">\n",
              "      <th></th>\n",
              "      <th>Year</th>\n",
              "      <th>Incumbent Party Candidate</th>\n",
              "      <th>Other Candidate</th>\n",
              "      <th>Incumbent Party Vote Share</th>\n",
              "      <th>Average Recent Growth in Personal Incomes</th>\n",
              "      <th>US Military Fatalities per Million</th>\n",
              "      <th>US Total Nonfarm Payrolls</th>\n",
              "    </tr>\n",
              "  </thead>\n",
              "  <tbody>\n",
              "    <tr>\n",
              "      <th>0</th>\n",
              "      <td>1952</td>\n",
              "      <td>Stevenson</td>\n",
              "      <td>Eisenhower</td>\n",
              "      <td>44.60</td>\n",
              "      <td>2.40</td>\n",
              "      <td>190</td>\n",
              "      <td>48902</td>\n",
              "    </tr>\n",
              "    <tr>\n",
              "      <th>1</th>\n",
              "      <td>1956</td>\n",
              "      <td>Eisenhower</td>\n",
              "      <td>Stevenson</td>\n",
              "      <td>57.76</td>\n",
              "      <td>2.89</td>\n",
              "      <td>0</td>\n",
              "      <td>52368</td>\n",
              "    </tr>\n",
              "    <tr>\n",
              "      <th>2</th>\n",
              "      <td>1960</td>\n",
              "      <td>Nixon</td>\n",
              "      <td>Kennedy</td>\n",
              "      <td>49.91</td>\n",
              "      <td>0.85</td>\n",
              "      <td>0</td>\n",
              "      <td>54293</td>\n",
              "    </tr>\n",
              "    <tr>\n",
              "      <th>3</th>\n",
              "      <td>1964</td>\n",
              "      <td>Johnson</td>\n",
              "      <td>Goldwater</td>\n",
              "      <td>61.34</td>\n",
              "      <td>4.21</td>\n",
              "      <td>1</td>\n",
              "      <td>58394</td>\n",
              "    </tr>\n",
              "    <tr>\n",
              "      <th>4</th>\n",
              "      <td>1968</td>\n",
              "      <td>Humphrey</td>\n",
              "      <td>Nixon</td>\n",
              "      <td>49.60</td>\n",
              "      <td>3.02</td>\n",
              "      <td>146</td>\n",
              "      <td>68027</td>\n",
              "    </tr>\n",
              "  </tbody>\n",
              "</table>\n",
              "</div>"
            ],
            "text/plain": [
              "   Year  ... US Total Nonfarm Payrolls\n",
              "0  1952  ...                     48902\n",
              "1  1956  ...                     52368\n",
              "2  1960  ...                     54293\n",
              "3  1964  ...                     58394\n",
              "4  1968  ...                     68027\n",
              "\n",
              "[5 rows x 7 columns]"
            ]
          },
          "metadata": {
            "tags": []
          },
          "execution_count": 53
        }
      ]
    },
    {
      "cell_type": "code",
      "metadata": {
        "id": "g6KS-tErVcCx",
        "colab_type": "code",
        "colab": {}
      },
      "source": [
        "target = 'US Military Fatalities per Million'"
      ],
      "execution_count": 0,
      "outputs": []
    },
    {
      "cell_type": "code",
      "metadata": {
        "id": "3Y0CbpgZdz86",
        "colab_type": "code",
        "outputId": "8fae9ca9-29a8-4386-caee-b062feabb0fd",
        "colab": {
          "base_uri": "https://localhost:8080/",
          "height": 610
        }
      },
      "source": [
        "df['Mean Baseline'] = df[target].mean()\n",
        "df['Error'] = df['Mean Baseline'] - df[target]\n",
        "df"
      ],
      "execution_count": 55,
      "outputs": [
        {
          "output_type": "execute_result",
          "data": {
            "text/html": [
              "<div>\n",
              "<style scoped>\n",
              "    .dataframe tbody tr th:only-of-type {\n",
              "        vertical-align: middle;\n",
              "    }\n",
              "\n",
              "    .dataframe tbody tr th {\n",
              "        vertical-align: top;\n",
              "    }\n",
              "\n",
              "    .dataframe thead th {\n",
              "        text-align: right;\n",
              "    }\n",
              "</style>\n",
              "<table border=\"1\" class=\"dataframe\">\n",
              "  <thead>\n",
              "    <tr style=\"text-align: right;\">\n",
              "      <th></th>\n",
              "      <th>Year</th>\n",
              "      <th>Incumbent Party Candidate</th>\n",
              "      <th>Other Candidate</th>\n",
              "      <th>Incumbent Party Vote Share</th>\n",
              "      <th>Average Recent Growth in Personal Incomes</th>\n",
              "      <th>US Military Fatalities per Million</th>\n",
              "      <th>US Total Nonfarm Payrolls</th>\n",
              "      <th>Mean Baseline</th>\n",
              "      <th>Error</th>\n",
              "    </tr>\n",
              "  </thead>\n",
              "  <tbody>\n",
              "    <tr>\n",
              "      <th>0</th>\n",
              "      <td>1952</td>\n",
              "      <td>Stevenson</td>\n",
              "      <td>Eisenhower</td>\n",
              "      <td>44.60</td>\n",
              "      <td>2.40</td>\n",
              "      <td>190</td>\n",
              "      <td>48902</td>\n",
              "      <td>21.588235</td>\n",
              "      <td>-168.411765</td>\n",
              "    </tr>\n",
              "    <tr>\n",
              "      <th>1</th>\n",
              "      <td>1956</td>\n",
              "      <td>Eisenhower</td>\n",
              "      <td>Stevenson</td>\n",
              "      <td>57.76</td>\n",
              "      <td>2.89</td>\n",
              "      <td>0</td>\n",
              "      <td>52368</td>\n",
              "      <td>21.588235</td>\n",
              "      <td>21.588235</td>\n",
              "    </tr>\n",
              "    <tr>\n",
              "      <th>2</th>\n",
              "      <td>1960</td>\n",
              "      <td>Nixon</td>\n",
              "      <td>Kennedy</td>\n",
              "      <td>49.91</td>\n",
              "      <td>0.85</td>\n",
              "      <td>0</td>\n",
              "      <td>54293</td>\n",
              "      <td>21.588235</td>\n",
              "      <td>21.588235</td>\n",
              "    </tr>\n",
              "    <tr>\n",
              "      <th>3</th>\n",
              "      <td>1964</td>\n",
              "      <td>Johnson</td>\n",
              "      <td>Goldwater</td>\n",
              "      <td>61.34</td>\n",
              "      <td>4.21</td>\n",
              "      <td>1</td>\n",
              "      <td>58394</td>\n",
              "      <td>21.588235</td>\n",
              "      <td>20.588235</td>\n",
              "    </tr>\n",
              "    <tr>\n",
              "      <th>4</th>\n",
              "      <td>1968</td>\n",
              "      <td>Humphrey</td>\n",
              "      <td>Nixon</td>\n",
              "      <td>49.60</td>\n",
              "      <td>3.02</td>\n",
              "      <td>146</td>\n",
              "      <td>68027</td>\n",
              "      <td>21.588235</td>\n",
              "      <td>-124.411765</td>\n",
              "    </tr>\n",
              "    <tr>\n",
              "      <th>5</th>\n",
              "      <td>1972</td>\n",
              "      <td>Nixon</td>\n",
              "      <td>McGovern</td>\n",
              "      <td>61.79</td>\n",
              "      <td>3.62</td>\n",
              "      <td>0</td>\n",
              "      <td>73787</td>\n",
              "      <td>21.588235</td>\n",
              "      <td>21.588235</td>\n",
              "    </tr>\n",
              "    <tr>\n",
              "      <th>6</th>\n",
              "      <td>1976</td>\n",
              "      <td>Ford</td>\n",
              "      <td>Carter</td>\n",
              "      <td>48.95</td>\n",
              "      <td>1.08</td>\n",
              "      <td>2</td>\n",
              "      <td>79507</td>\n",
              "      <td>21.588235</td>\n",
              "      <td>19.588235</td>\n",
              "    </tr>\n",
              "    <tr>\n",
              "      <th>7</th>\n",
              "      <td>1980</td>\n",
              "      <td>Carter</td>\n",
              "      <td>Reagan</td>\n",
              "      <td>44.70</td>\n",
              "      <td>-0.39</td>\n",
              "      <td>0</td>\n",
              "      <td>90531</td>\n",
              "      <td>21.588235</td>\n",
              "      <td>21.588235</td>\n",
              "    </tr>\n",
              "    <tr>\n",
              "      <th>8</th>\n",
              "      <td>1984</td>\n",
              "      <td>Reagan</td>\n",
              "      <td>Mondale</td>\n",
              "      <td>59.17</td>\n",
              "      <td>3.86</td>\n",
              "      <td>0</td>\n",
              "      <td>94542</td>\n",
              "      <td>21.588235</td>\n",
              "      <td>21.588235</td>\n",
              "    </tr>\n",
              "    <tr>\n",
              "      <th>9</th>\n",
              "      <td>1988</td>\n",
              "      <td>Bush, Sr.</td>\n",
              "      <td>Dukakis</td>\n",
              "      <td>53.94</td>\n",
              "      <td>2.27</td>\n",
              "      <td>0</td>\n",
              "      <td>105375</td>\n",
              "      <td>21.588235</td>\n",
              "      <td>21.588235</td>\n",
              "    </tr>\n",
              "    <tr>\n",
              "      <th>10</th>\n",
              "      <td>1992</td>\n",
              "      <td>Bush, Sr.</td>\n",
              "      <td>Clinton</td>\n",
              "      <td>46.55</td>\n",
              "      <td>0.38</td>\n",
              "      <td>0</td>\n",
              "      <td>108796</td>\n",
              "      <td>21.588235</td>\n",
              "      <td>21.588235</td>\n",
              "    </tr>\n",
              "    <tr>\n",
              "      <th>11</th>\n",
              "      <td>1996</td>\n",
              "      <td>Clinton</td>\n",
              "      <td>Dole</td>\n",
              "      <td>54.74</td>\n",
              "      <td>1.04</td>\n",
              "      <td>0</td>\n",
              "      <td>119829</td>\n",
              "      <td>21.588235</td>\n",
              "      <td>21.588235</td>\n",
              "    </tr>\n",
              "    <tr>\n",
              "      <th>12</th>\n",
              "      <td>2000</td>\n",
              "      <td>Gore</td>\n",
              "      <td>Bush, Jr.</td>\n",
              "      <td>50.27</td>\n",
              "      <td>2.36</td>\n",
              "      <td>0</td>\n",
              "      <td>132030</td>\n",
              "      <td>21.588235</td>\n",
              "      <td>21.588235</td>\n",
              "    </tr>\n",
              "    <tr>\n",
              "      <th>13</th>\n",
              "      <td>2004</td>\n",
              "      <td>Bush, Jr.</td>\n",
              "      <td>Kerry</td>\n",
              "      <td>51.24</td>\n",
              "      <td>1.72</td>\n",
              "      <td>4</td>\n",
              "      <td>131774</td>\n",
              "      <td>21.588235</td>\n",
              "      <td>17.588235</td>\n",
              "    </tr>\n",
              "    <tr>\n",
              "      <th>14</th>\n",
              "      <td>2008</td>\n",
              "      <td>McCain</td>\n",
              "      <td>Obama</td>\n",
              "      <td>46.32</td>\n",
              "      <td>0.10</td>\n",
              "      <td>14</td>\n",
              "      <td>137242</td>\n",
              "      <td>21.588235</td>\n",
              "      <td>7.588235</td>\n",
              "    </tr>\n",
              "    <tr>\n",
              "      <th>15</th>\n",
              "      <td>2012</td>\n",
              "      <td>Obama</td>\n",
              "      <td>Romney</td>\n",
              "      <td>52.00</td>\n",
              "      <td>0.95</td>\n",
              "      <td>5</td>\n",
              "      <td>134174</td>\n",
              "      <td>21.588235</td>\n",
              "      <td>16.588235</td>\n",
              "    </tr>\n",
              "    <tr>\n",
              "      <th>16</th>\n",
              "      <td>2016</td>\n",
              "      <td>Clinton</td>\n",
              "      <td>Trump</td>\n",
              "      <td>48.20</td>\n",
              "      <td>0.10</td>\n",
              "      <td>5</td>\n",
              "      <td>144348</td>\n",
              "      <td>21.588235</td>\n",
              "      <td>16.588235</td>\n",
              "    </tr>\n",
              "  </tbody>\n",
              "</table>\n",
              "</div>"
            ],
            "text/plain": [
              "    Year Incumbent Party Candidate  ... Mean Baseline       Error\n",
              "0   1952                 Stevenson  ...     21.588235 -168.411765\n",
              "1   1956                Eisenhower  ...     21.588235   21.588235\n",
              "2   1960                     Nixon  ...     21.588235   21.588235\n",
              "3   1964                   Johnson  ...     21.588235   20.588235\n",
              "4   1968                  Humphrey  ...     21.588235 -124.411765\n",
              "5   1972                     Nixon  ...     21.588235   21.588235\n",
              "6   1976                      Ford  ...     21.588235   19.588235\n",
              "7   1980                    Carter  ...     21.588235   21.588235\n",
              "8   1984                    Reagan  ...     21.588235   21.588235\n",
              "9   1988                 Bush, Sr.  ...     21.588235   21.588235\n",
              "10  1992                 Bush, Sr.  ...     21.588235   21.588235\n",
              "11  1996                   Clinton  ...     21.588235   21.588235\n",
              "12  2000                      Gore  ...     21.588235   21.588235\n",
              "13  2004                 Bush, Jr.  ...     21.588235   17.588235\n",
              "14  2008                    McCain  ...     21.588235    7.588235\n",
              "15  2012                     Obama  ...     21.588235   16.588235\n",
              "16  2016                   Clinton  ...     21.588235   16.588235\n",
              "\n",
              "[17 rows x 9 columns]"
            ]
          },
          "metadata": {
            "tags": []
          },
          "execution_count": 55
        }
      ]
    },
    {
      "cell_type": "code",
      "metadata": {
        "id": "paMYdKNBdMf3",
        "colab_type": "code",
        "outputId": "cd198871-5ce9-4312-b158-4a306c0f896e",
        "colab": {
          "base_uri": "https://localhost:8080/",
          "height": 34
        }
      },
      "source": [
        "df['Absolute Error'] = df['Error'].abs()\n",
        "df['Absolute Error'].sum()"
      ],
      "execution_count": 56,
      "outputs": [
        {
          "output_type": "execute_result",
          "data": {
            "text/plain": [
              "585.6470588235295"
            ]
          },
          "metadata": {
            "tags": []
          },
          "execution_count": 56
        }
      ]
    },
    {
      "cell_type": "code",
      "metadata": {
        "id": "lOT_JrCnmQWL",
        "colab_type": "code",
        "outputId": "7a56f831-de84-4a88-d5a1-40bcbecc48f3",
        "colab": {
          "base_uri": "https://localhost:8080/",
          "height": 34
        }
      },
      "source": [
        "585.65 / 17"
      ],
      "execution_count": 57,
      "outputs": [
        {
          "output_type": "execute_result",
          "data": {
            "text/plain": [
              "34.449999999999996"
            ]
          },
          "metadata": {
            "tags": []
          },
          "execution_count": 57
        }
      ]
    },
    {
      "cell_type": "code",
      "metadata": {
        "id": "eEUPpwvwmUCO",
        "colab_type": "code",
        "outputId": "e02d8ec5-31d5-49b8-9146-d11a3349c00a",
        "colab": {
          "base_uri": "https://localhost:8080/",
          "height": 34
        }
      },
      "source": [
        "df['Absolute Error'].mean()"
      ],
      "execution_count": 58,
      "outputs": [
        {
          "output_type": "execute_result",
          "data": {
            "text/plain": [
              "34.449826989619375"
            ]
          },
          "metadata": {
            "tags": []
          },
          "execution_count": 58
        }
      ]
    },
    {
      "cell_type": "code",
      "metadata": {
        "id": "fp5Wg1vamfDS",
        "colab_type": "code",
        "outputId": "5ff3f31c-bad6-43d7-c2f3-8cb755df073d",
        "colab": {
          "base_uri": "https://localhost:8080/",
          "height": 34
        }
      },
      "source": [
        "from sklearn.metrics import mean_absolute_error\n",
        "mean_absolute_error(y_true = df[target], y_pred = df['Mean Baseline'])"
      ],
      "execution_count": 59,
      "outputs": [
        {
          "output_type": "execute_result",
          "data": {
            "text/plain": [
              "34.44982698961938"
            ]
          },
          "metadata": {
            "tags": []
          },
          "execution_count": 59
        }
      ]
    },
    {
      "cell_type": "code",
      "metadata": {
        "id": "2T1Np7GzoN2C",
        "colab_type": "code",
        "outputId": "f8097602-5439-4cf5-be51-da56b0009293",
        "colab": {
          "base_uri": "https://localhost:8080/",
          "height": 610
        }
      },
      "source": [
        "df"
      ],
      "execution_count": 60,
      "outputs": [
        {
          "output_type": "execute_result",
          "data": {
            "text/html": [
              "<div>\n",
              "<style scoped>\n",
              "    .dataframe tbody tr th:only-of-type {\n",
              "        vertical-align: middle;\n",
              "    }\n",
              "\n",
              "    .dataframe tbody tr th {\n",
              "        vertical-align: top;\n",
              "    }\n",
              "\n",
              "    .dataframe thead th {\n",
              "        text-align: right;\n",
              "    }\n",
              "</style>\n",
              "<table border=\"1\" class=\"dataframe\">\n",
              "  <thead>\n",
              "    <tr style=\"text-align: right;\">\n",
              "      <th></th>\n",
              "      <th>Year</th>\n",
              "      <th>Incumbent Party Candidate</th>\n",
              "      <th>Other Candidate</th>\n",
              "      <th>Incumbent Party Vote Share</th>\n",
              "      <th>Average Recent Growth in Personal Incomes</th>\n",
              "      <th>US Military Fatalities per Million</th>\n",
              "      <th>US Total Nonfarm Payrolls</th>\n",
              "      <th>Mean Baseline</th>\n",
              "      <th>Error</th>\n",
              "      <th>Absolute Error</th>\n",
              "    </tr>\n",
              "  </thead>\n",
              "  <tbody>\n",
              "    <tr>\n",
              "      <th>0</th>\n",
              "      <td>1952</td>\n",
              "      <td>Stevenson</td>\n",
              "      <td>Eisenhower</td>\n",
              "      <td>44.60</td>\n",
              "      <td>2.40</td>\n",
              "      <td>190</td>\n",
              "      <td>48902</td>\n",
              "      <td>21.588235</td>\n",
              "      <td>-168.411765</td>\n",
              "      <td>168.411765</td>\n",
              "    </tr>\n",
              "    <tr>\n",
              "      <th>1</th>\n",
              "      <td>1956</td>\n",
              "      <td>Eisenhower</td>\n",
              "      <td>Stevenson</td>\n",
              "      <td>57.76</td>\n",
              "      <td>2.89</td>\n",
              "      <td>0</td>\n",
              "      <td>52368</td>\n",
              "      <td>21.588235</td>\n",
              "      <td>21.588235</td>\n",
              "      <td>21.588235</td>\n",
              "    </tr>\n",
              "    <tr>\n",
              "      <th>2</th>\n",
              "      <td>1960</td>\n",
              "      <td>Nixon</td>\n",
              "      <td>Kennedy</td>\n",
              "      <td>49.91</td>\n",
              "      <td>0.85</td>\n",
              "      <td>0</td>\n",
              "      <td>54293</td>\n",
              "      <td>21.588235</td>\n",
              "      <td>21.588235</td>\n",
              "      <td>21.588235</td>\n",
              "    </tr>\n",
              "    <tr>\n",
              "      <th>3</th>\n",
              "      <td>1964</td>\n",
              "      <td>Johnson</td>\n",
              "      <td>Goldwater</td>\n",
              "      <td>61.34</td>\n",
              "      <td>4.21</td>\n",
              "      <td>1</td>\n",
              "      <td>58394</td>\n",
              "      <td>21.588235</td>\n",
              "      <td>20.588235</td>\n",
              "      <td>20.588235</td>\n",
              "    </tr>\n",
              "    <tr>\n",
              "      <th>4</th>\n",
              "      <td>1968</td>\n",
              "      <td>Humphrey</td>\n",
              "      <td>Nixon</td>\n",
              "      <td>49.60</td>\n",
              "      <td>3.02</td>\n",
              "      <td>146</td>\n",
              "      <td>68027</td>\n",
              "      <td>21.588235</td>\n",
              "      <td>-124.411765</td>\n",
              "      <td>124.411765</td>\n",
              "    </tr>\n",
              "    <tr>\n",
              "      <th>5</th>\n",
              "      <td>1972</td>\n",
              "      <td>Nixon</td>\n",
              "      <td>McGovern</td>\n",
              "      <td>61.79</td>\n",
              "      <td>3.62</td>\n",
              "      <td>0</td>\n",
              "      <td>73787</td>\n",
              "      <td>21.588235</td>\n",
              "      <td>21.588235</td>\n",
              "      <td>21.588235</td>\n",
              "    </tr>\n",
              "    <tr>\n",
              "      <th>6</th>\n",
              "      <td>1976</td>\n",
              "      <td>Ford</td>\n",
              "      <td>Carter</td>\n",
              "      <td>48.95</td>\n",
              "      <td>1.08</td>\n",
              "      <td>2</td>\n",
              "      <td>79507</td>\n",
              "      <td>21.588235</td>\n",
              "      <td>19.588235</td>\n",
              "      <td>19.588235</td>\n",
              "    </tr>\n",
              "    <tr>\n",
              "      <th>7</th>\n",
              "      <td>1980</td>\n",
              "      <td>Carter</td>\n",
              "      <td>Reagan</td>\n",
              "      <td>44.70</td>\n",
              "      <td>-0.39</td>\n",
              "      <td>0</td>\n",
              "      <td>90531</td>\n",
              "      <td>21.588235</td>\n",
              "      <td>21.588235</td>\n",
              "      <td>21.588235</td>\n",
              "    </tr>\n",
              "    <tr>\n",
              "      <th>8</th>\n",
              "      <td>1984</td>\n",
              "      <td>Reagan</td>\n",
              "      <td>Mondale</td>\n",
              "      <td>59.17</td>\n",
              "      <td>3.86</td>\n",
              "      <td>0</td>\n",
              "      <td>94542</td>\n",
              "      <td>21.588235</td>\n",
              "      <td>21.588235</td>\n",
              "      <td>21.588235</td>\n",
              "    </tr>\n",
              "    <tr>\n",
              "      <th>9</th>\n",
              "      <td>1988</td>\n",
              "      <td>Bush, Sr.</td>\n",
              "      <td>Dukakis</td>\n",
              "      <td>53.94</td>\n",
              "      <td>2.27</td>\n",
              "      <td>0</td>\n",
              "      <td>105375</td>\n",
              "      <td>21.588235</td>\n",
              "      <td>21.588235</td>\n",
              "      <td>21.588235</td>\n",
              "    </tr>\n",
              "    <tr>\n",
              "      <th>10</th>\n",
              "      <td>1992</td>\n",
              "      <td>Bush, Sr.</td>\n",
              "      <td>Clinton</td>\n",
              "      <td>46.55</td>\n",
              "      <td>0.38</td>\n",
              "      <td>0</td>\n",
              "      <td>108796</td>\n",
              "      <td>21.588235</td>\n",
              "      <td>21.588235</td>\n",
              "      <td>21.588235</td>\n",
              "    </tr>\n",
              "    <tr>\n",
              "      <th>11</th>\n",
              "      <td>1996</td>\n",
              "      <td>Clinton</td>\n",
              "      <td>Dole</td>\n",
              "      <td>54.74</td>\n",
              "      <td>1.04</td>\n",
              "      <td>0</td>\n",
              "      <td>119829</td>\n",
              "      <td>21.588235</td>\n",
              "      <td>21.588235</td>\n",
              "      <td>21.588235</td>\n",
              "    </tr>\n",
              "    <tr>\n",
              "      <th>12</th>\n",
              "      <td>2000</td>\n",
              "      <td>Gore</td>\n",
              "      <td>Bush, Jr.</td>\n",
              "      <td>50.27</td>\n",
              "      <td>2.36</td>\n",
              "      <td>0</td>\n",
              "      <td>132030</td>\n",
              "      <td>21.588235</td>\n",
              "      <td>21.588235</td>\n",
              "      <td>21.588235</td>\n",
              "    </tr>\n",
              "    <tr>\n",
              "      <th>13</th>\n",
              "      <td>2004</td>\n",
              "      <td>Bush, Jr.</td>\n",
              "      <td>Kerry</td>\n",
              "      <td>51.24</td>\n",
              "      <td>1.72</td>\n",
              "      <td>4</td>\n",
              "      <td>131774</td>\n",
              "      <td>21.588235</td>\n",
              "      <td>17.588235</td>\n",
              "      <td>17.588235</td>\n",
              "    </tr>\n",
              "    <tr>\n",
              "      <th>14</th>\n",
              "      <td>2008</td>\n",
              "      <td>McCain</td>\n",
              "      <td>Obama</td>\n",
              "      <td>46.32</td>\n",
              "      <td>0.10</td>\n",
              "      <td>14</td>\n",
              "      <td>137242</td>\n",
              "      <td>21.588235</td>\n",
              "      <td>7.588235</td>\n",
              "      <td>7.588235</td>\n",
              "    </tr>\n",
              "    <tr>\n",
              "      <th>15</th>\n",
              "      <td>2012</td>\n",
              "      <td>Obama</td>\n",
              "      <td>Romney</td>\n",
              "      <td>52.00</td>\n",
              "      <td>0.95</td>\n",
              "      <td>5</td>\n",
              "      <td>134174</td>\n",
              "      <td>21.588235</td>\n",
              "      <td>16.588235</td>\n",
              "      <td>16.588235</td>\n",
              "    </tr>\n",
              "    <tr>\n",
              "      <th>16</th>\n",
              "      <td>2016</td>\n",
              "      <td>Clinton</td>\n",
              "      <td>Trump</td>\n",
              "      <td>48.20</td>\n",
              "      <td>0.10</td>\n",
              "      <td>5</td>\n",
              "      <td>144348</td>\n",
              "      <td>21.588235</td>\n",
              "      <td>16.588235</td>\n",
              "      <td>16.588235</td>\n",
              "    </tr>\n",
              "  </tbody>\n",
              "</table>\n",
              "</div>"
            ],
            "text/plain": [
              "    Year Incumbent Party Candidate  ...       Error  Absolute Error\n",
              "0   1952                 Stevenson  ... -168.411765      168.411765\n",
              "1   1956                Eisenhower  ...   21.588235       21.588235\n",
              "2   1960                     Nixon  ...   21.588235       21.588235\n",
              "3   1964                   Johnson  ...   20.588235       20.588235\n",
              "4   1968                  Humphrey  ... -124.411765      124.411765\n",
              "5   1972                     Nixon  ...   21.588235       21.588235\n",
              "6   1976                      Ford  ...   19.588235       19.588235\n",
              "7   1980                    Carter  ...   21.588235       21.588235\n",
              "8   1984                    Reagan  ...   21.588235       21.588235\n",
              "9   1988                 Bush, Sr.  ...   21.588235       21.588235\n",
              "10  1992                 Bush, Sr.  ...   21.588235       21.588235\n",
              "11  1996                   Clinton  ...   21.588235       21.588235\n",
              "12  2000                      Gore  ...   21.588235       21.588235\n",
              "13  2004                 Bush, Jr.  ...   17.588235       17.588235\n",
              "14  2008                    McCain  ...    7.588235        7.588235\n",
              "15  2012                     Obama  ...   16.588235       16.588235\n",
              "16  2016                   Clinton  ...   16.588235       16.588235\n",
              "\n",
              "[17 rows x 10 columns]"
            ]
          },
          "metadata": {
            "tags": []
          },
          "execution_count": 60
        }
      ]
    },
    {
      "cell_type": "code",
      "metadata": {
        "id": "cW5i8V7TSVS1",
        "colab_type": "code",
        "colab": {}
      },
      "source": [
        "from sklearn.linear_model import LinearRegression"
      ],
      "execution_count": 0,
      "outputs": []
    },
    {
      "cell_type": "code",
      "metadata": {
        "id": "J0FMg4EeVA3-",
        "colab_type": "code",
        "colab": {}
      },
      "source": [
        "model = LinearRegression()"
      ],
      "execution_count": 0,
      "outputs": []
    },
    {
      "cell_type": "code",
      "metadata": {
        "id": "3QcIH08RVEgJ",
        "colab_type": "code",
        "colab": {}
      },
      "source": [
        "features = ['US Military Fatalities per Million', \n",
        "            'US Total Nonfarm Payrolls']\n",
        "target = ['Incumbent Party Vote Share']\n",
        "\n",
        "x = df[features]\n",
        "y = df[target]"
      ],
      "execution_count": 0,
      "outputs": []
    },
    {
      "cell_type": "code",
      "metadata": {
        "id": "P0Wlxo8-p1Vp",
        "colab_type": "code",
        "outputId": "78aaf40f-a04d-48e9-ff01-9aaf6bb8bdbb",
        "colab": {
          "base_uri": "https://localhost:8080/",
          "height": 34
        }
      },
      "source": [
        "model.fit(x, y)"
      ],
      "execution_count": 64,
      "outputs": [
        {
          "output_type": "execute_result",
          "data": {
            "text/plain": [
              "LinearRegression(copy_X=True, fit_intercept=True, n_jobs=None, normalize=False)"
            ]
          },
          "metadata": {
            "tags": []
          },
          "execution_count": 64
        }
      ]
    },
    {
      "cell_type": "code",
      "metadata": {
        "id": "SB98ENrwqGBC",
        "colab_type": "code",
        "colab": {}
      },
      "source": [
        "y_pred = model.predict(x)"
      ],
      "execution_count": 0,
      "outputs": []
    },
    {
      "cell_type": "code",
      "metadata": {
        "id": "l2k-AjE8qQl-",
        "colab_type": "code",
        "outputId": "79e66e7b-7447-487e-85e9-bd09961f6bc4",
        "colab": {
          "base_uri": "https://localhost:8080/",
          "height": 34
        }
      },
      "source": [
        "mean_absolute_error(y, y_pred)"
      ],
      "execution_count": 66,
      "outputs": [
        {
          "output_type": "execute_result",
          "data": {
            "text/plain": [
              "3.6470523795287555"
            ]
          },
          "metadata": {
            "tags": []
          },
          "execution_count": 66
        }
      ]
    },
    {
      "cell_type": "code",
      "metadata": {
        "id": "hYmbw2OIqU0j",
        "colab_type": "code",
        "outputId": "63bab459-c8ea-4663-c962-7b5c02472656",
        "colab": {
          "base_uri": "https://localhost:8080/",
          "height": 627
        }
      },
      "source": [
        "df['Linear Regression w/ Two Features'] = y_pred\n",
        "df['Error'] = y_pred - df[target]\n",
        "df['Absolute Error'] = df['Error'].abs()\n",
        "df"
      ],
      "execution_count": 70,
      "outputs": [
        {
          "output_type": "execute_result",
          "data": {
            "text/html": [
              "<div>\n",
              "<style scoped>\n",
              "    .dataframe tbody tr th:only-of-type {\n",
              "        vertical-align: middle;\n",
              "    }\n",
              "\n",
              "    .dataframe tbody tr th {\n",
              "        vertical-align: top;\n",
              "    }\n",
              "\n",
              "    .dataframe thead th {\n",
              "        text-align: right;\n",
              "    }\n",
              "</style>\n",
              "<table border=\"1\" class=\"dataframe\">\n",
              "  <thead>\n",
              "    <tr style=\"text-align: right;\">\n",
              "      <th></th>\n",
              "      <th>Year</th>\n",
              "      <th>Incumbent Party Candidate</th>\n",
              "      <th>Other Candidate</th>\n",
              "      <th>Incumbent Party Vote Share</th>\n",
              "      <th>Average Recent Growth in Personal Incomes</th>\n",
              "      <th>US Military Fatalities per Million</th>\n",
              "      <th>US Total Nonfarm Payrolls</th>\n",
              "      <th>Mean Baseline</th>\n",
              "      <th>Error</th>\n",
              "      <th>Absolute Error</th>\n",
              "      <th>Linear Regression w/ Two Features</th>\n",
              "    </tr>\n",
              "  </thead>\n",
              "  <tbody>\n",
              "    <tr>\n",
              "      <th>0</th>\n",
              "      <td>1952</td>\n",
              "      <td>Stevenson</td>\n",
              "      <td>Eisenhower</td>\n",
              "      <td>44.60</td>\n",
              "      <td>2.40</td>\n",
              "      <td>190</td>\n",
              "      <td>48902</td>\n",
              "      <td>21.588235</td>\n",
              "      <td>1.682762</td>\n",
              "      <td>1.682762</td>\n",
              "      <td>46.282762</td>\n",
              "    </tr>\n",
              "    <tr>\n",
              "      <th>1</th>\n",
              "      <td>1956</td>\n",
              "      <td>Eisenhower</td>\n",
              "      <td>Stevenson</td>\n",
              "      <td>57.76</td>\n",
              "      <td>2.89</td>\n",
              "      <td>0</td>\n",
              "      <td>52368</td>\n",
              "      <td>21.588235</td>\n",
              "      <td>-1.324526</td>\n",
              "      <td>1.324526</td>\n",
              "      <td>56.435474</td>\n",
              "    </tr>\n",
              "    <tr>\n",
              "      <th>2</th>\n",
              "      <td>1960</td>\n",
              "      <td>Nixon</td>\n",
              "      <td>Kennedy</td>\n",
              "      <td>49.91</td>\n",
              "      <td>0.85</td>\n",
              "      <td>0</td>\n",
              "      <td>54293</td>\n",
              "      <td>21.588235</td>\n",
              "      <td>6.374851</td>\n",
              "      <td>6.374851</td>\n",
              "      <td>56.284851</td>\n",
              "    </tr>\n",
              "    <tr>\n",
              "      <th>3</th>\n",
              "      <td>1964</td>\n",
              "      <td>Johnson</td>\n",
              "      <td>Goldwater</td>\n",
              "      <td>61.34</td>\n",
              "      <td>4.21</td>\n",
              "      <td>1</td>\n",
              "      <td>58394</td>\n",
              "      <td>21.588235</td>\n",
              "      <td>-5.430897</td>\n",
              "      <td>5.430897</td>\n",
              "      <td>55.909103</td>\n",
              "    </tr>\n",
              "    <tr>\n",
              "      <th>4</th>\n",
              "      <td>1968</td>\n",
              "      <td>Humphrey</td>\n",
              "      <td>Nixon</td>\n",
              "      <td>49.60</td>\n",
              "      <td>3.02</td>\n",
              "      <td>146</td>\n",
              "      <td>68027</td>\n",
              "      <td>21.588235</td>\n",
              "      <td>-2.399729</td>\n",
              "      <td>2.399729</td>\n",
              "      <td>47.200271</td>\n",
              "    </tr>\n",
              "    <tr>\n",
              "      <th>5</th>\n",
              "      <td>1972</td>\n",
              "      <td>Nixon</td>\n",
              "      <td>McGovern</td>\n",
              "      <td>61.79</td>\n",
              "      <td>3.62</td>\n",
              "      <td>0</td>\n",
              "      <td>73787</td>\n",
              "      <td>21.588235</td>\n",
              "      <td>-7.030471</td>\n",
              "      <td>7.030471</td>\n",
              "      <td>54.759529</td>\n",
              "    </tr>\n",
              "    <tr>\n",
              "      <th>6</th>\n",
              "      <td>1976</td>\n",
              "      <td>Ford</td>\n",
              "      <td>Carter</td>\n",
              "      <td>48.95</td>\n",
              "      <td>1.08</td>\n",
              "      <td>2</td>\n",
              "      <td>79507</td>\n",
              "      <td>21.588235</td>\n",
              "      <td>5.252238</td>\n",
              "      <td>5.252238</td>\n",
              "      <td>54.202238</td>\n",
              "    </tr>\n",
              "    <tr>\n",
              "      <th>7</th>\n",
              "      <td>1980</td>\n",
              "      <td>Carter</td>\n",
              "      <td>Reagan</td>\n",
              "      <td>44.70</td>\n",
              "      <td>-0.39</td>\n",
              "      <td>0</td>\n",
              "      <td>90531</td>\n",
              "      <td>21.588235</td>\n",
              "      <td>8.749382</td>\n",
              "      <td>8.749382</td>\n",
              "      <td>53.449382</td>\n",
              "    </tr>\n",
              "    <tr>\n",
              "      <th>8</th>\n",
              "      <td>1984</td>\n",
              "      <td>Reagan</td>\n",
              "      <td>Mondale</td>\n",
              "      <td>59.17</td>\n",
              "      <td>3.86</td>\n",
              "      <td>0</td>\n",
              "      <td>94542</td>\n",
              "      <td>21.588235</td>\n",
              "      <td>-6.034461</td>\n",
              "      <td>6.034461</td>\n",
              "      <td>53.135539</td>\n",
              "    </tr>\n",
              "    <tr>\n",
              "      <th>9</th>\n",
              "      <td>1988</td>\n",
              "      <td>Bush, Sr.</td>\n",
              "      <td>Dukakis</td>\n",
              "      <td>53.94</td>\n",
              "      <td>2.27</td>\n",
              "      <td>0</td>\n",
              "      <td>105375</td>\n",
              "      <td>21.588235</td>\n",
              "      <td>-1.652097</td>\n",
              "      <td>1.652097</td>\n",
              "      <td>52.287903</td>\n",
              "    </tr>\n",
              "    <tr>\n",
              "      <th>10</th>\n",
              "      <td>1992</td>\n",
              "      <td>Bush, Sr.</td>\n",
              "      <td>Clinton</td>\n",
              "      <td>46.55</td>\n",
              "      <td>0.38</td>\n",
              "      <td>0</td>\n",
              "      <td>108796</td>\n",
              "      <td>21.588235</td>\n",
              "      <td>5.470224</td>\n",
              "      <td>5.470224</td>\n",
              "      <td>52.020224</td>\n",
              "    </tr>\n",
              "    <tr>\n",
              "      <th>11</th>\n",
              "      <td>1996</td>\n",
              "      <td>Clinton</td>\n",
              "      <td>Dole</td>\n",
              "      <td>54.74</td>\n",
              "      <td>1.04</td>\n",
              "      <td>0</td>\n",
              "      <td>119829</td>\n",
              "      <td>21.588235</td>\n",
              "      <td>-3.583061</td>\n",
              "      <td>3.583061</td>\n",
              "      <td>51.156939</td>\n",
              "    </tr>\n",
              "    <tr>\n",
              "      <th>12</th>\n",
              "      <td>2000</td>\n",
              "      <td>Gore</td>\n",
              "      <td>Bush, Jr.</td>\n",
              "      <td>50.27</td>\n",
              "      <td>2.36</td>\n",
              "      <td>0</td>\n",
              "      <td>132030</td>\n",
              "      <td>21.588235</td>\n",
              "      <td>-0.067737</td>\n",
              "      <td>0.067737</td>\n",
              "      <td>50.202263</td>\n",
              "    </tr>\n",
              "    <tr>\n",
              "      <th>13</th>\n",
              "      <td>2004</td>\n",
              "      <td>Bush, Jr.</td>\n",
              "      <td>Kerry</td>\n",
              "      <td>51.24</td>\n",
              "      <td>1.72</td>\n",
              "      <td>4</td>\n",
              "      <td>131774</td>\n",
              "      <td>21.588235</td>\n",
              "      <td>-1.237157</td>\n",
              "      <td>1.237157</td>\n",
              "      <td>50.002843</td>\n",
              "    </tr>\n",
              "    <tr>\n",
              "      <th>14</th>\n",
              "      <td>2008</td>\n",
              "      <td>McCain</td>\n",
              "      <td>Obama</td>\n",
              "      <td>46.32</td>\n",
              "      <td>0.10</td>\n",
              "      <td>14</td>\n",
              "      <td>137242</td>\n",
              "      <td>21.588235</td>\n",
              "      <td>2.706369</td>\n",
              "      <td>2.706369</td>\n",
              "      <td>49.026369</td>\n",
              "    </tr>\n",
              "    <tr>\n",
              "      <th>15</th>\n",
              "      <td>2012</td>\n",
              "      <td>Obama</td>\n",
              "      <td>Romney</td>\n",
              "      <td>52.00</td>\n",
              "      <td>0.95</td>\n",
              "      <td>5</td>\n",
              "      <td>134174</td>\n",
              "      <td>21.588235</td>\n",
              "      <td>-2.239809</td>\n",
              "      <td>2.239809</td>\n",
              "      <td>49.760191</td>\n",
              "    </tr>\n",
              "    <tr>\n",
              "      <th>16</th>\n",
              "      <td>2016</td>\n",
              "      <td>Clinton</td>\n",
              "      <td>Trump</td>\n",
              "      <td>48.20</td>\n",
              "      <td>0.10</td>\n",
              "      <td>5</td>\n",
              "      <td>144348</td>\n",
              "      <td>21.588235</td>\n",
              "      <td>0.764119</td>\n",
              "      <td>0.764119</td>\n",
              "      <td>48.964119</td>\n",
              "    </tr>\n",
              "  </tbody>\n",
              "</table>\n",
              "</div>"
            ],
            "text/plain": [
              "    Year  ... Linear Regression w/ Two Features\n",
              "0   1952  ...                         46.282762\n",
              "1   1956  ...                         56.435474\n",
              "2   1960  ...                         56.284851\n",
              "3   1964  ...                         55.909103\n",
              "4   1968  ...                         47.200271\n",
              "5   1972  ...                         54.759529\n",
              "6   1976  ...                         54.202238\n",
              "7   1980  ...                         53.449382\n",
              "8   1984  ...                         53.135539\n",
              "9   1988  ...                         52.287903\n",
              "10  1992  ...                         52.020224\n",
              "11  1996  ...                         51.156939\n",
              "12  2000  ...                         50.202263\n",
              "13  2004  ...                         50.002843\n",
              "14  2008  ...                         49.026369\n",
              "15  2012  ...                         49.760191\n",
              "16  2016  ...                         48.964119\n",
              "\n",
              "[17 rows x 11 columns]"
            ]
          },
          "metadata": {
            "tags": []
          },
          "execution_count": 70
        }
      ]
    },
    {
      "cell_type": "code",
      "metadata": {
        "id": "wvFXSfA73RsW",
        "colab_type": "code",
        "outputId": "8c290b50-22b8-4531-ea20-2579e9887f6c",
        "colab": {
          "base_uri": "https://localhost:8080/",
          "height": 671
        }
      },
      "source": [
        "ax = df.plot(x = 'Year', y = 'Linear Regression w/ Two Features', \n",
        "             label = 'Incumbent Party Vote Share Prediction', color = 'red',\n",
        "             kind = 'scatter', figsize=(19,10))\n",
        "\n",
        "df.plot(x = 'Year', y = 'Incumbent Party Vote Share', \n",
        "       label = 'Incumbent Party Vote Share Actual', color= 'Purple',\n",
        "        kind = 'scatter', ax=ax)\n",
        "\n",
        "ax1 = ax.twinx() \n",
        "\n",
        "ax1 = df.plot(x = 'Year', y = 'Absolute Error', label = 'MAE' , color = 'black',\n",
        "             kind = 'line',figsize=(19,10), ax=ax1)\n",
        "ax1.set_ylabel('MAE');\n",
        "ax.legend(frameon=True, loc='best', bbox_to_anchor=(0.5, -0.06), ncol=2)\n",
        "ax1.legend(frameon=False,loc='best',shadow=True, bbox_to_anchor=(.8, -0.06))"
      ],
      "execution_count": 121,
      "outputs": [
        {
          "output_type": "execute_result",
          "data": {
            "text/plain": [
              "<matplotlib.legend.Legend at 0x7fa9310f91d0>"
            ]
          },
          "metadata": {
            "tags": []
          },
          "execution_count": 121
        },
        {
          "output_type": "display_data",
          "data": {
            "image/png": "[encoded data removed]",
            "text/plain": [
              "<Figure size 1368x720 with 2 Axes>"
            ]
          },
          "metadata": {
            "tags": []
          }
        }
      ]
    },
    {
      "cell_type": "code",
      "metadata": {
        "id": "L_5LjM32IbQK",
        "colab_type": "code",
        "colab": {
          "base_uri": "https://localhost:8080/",
          "height": 34
        },
        "outputId": "2ac5d372-859f-4172-84b6-eebf0e06081f"
      },
      "source": [
        "df['Incumbent Party Vote Share'].shape"
      ],
      "execution_count": 73,
      "outputs": [
        {
          "output_type": "execute_result",
          "data": {
            "text/plain": [
              "(17,)"
            ]
          },
          "metadata": {
            "tags": []
          },
          "execution_count": 73
        }
      ]
    },
    {
      "cell_type": "code",
      "metadata": {
        "id": "Ktc8qf2VGHk-",
        "colab_type": "code",
        "colab": {
          "base_uri": "https://localhost:8080/",
          "height": 327
        },
        "outputId": "35c1061c-7904-4b95-dc18-3244b5773674"
      },
      "source": [
        "mean_absolute_error(y_true = df, y_pred = ['US Military Fatalities per Million','US Total Nonfarm Payrolls', 'Incumbent Party Vote Share'])"
      ],
      "execution_count": 75,
      "outputs": [
        {
          "output_type": "error",
          "ename": "ValueError",
          "evalue": "ignored",
          "traceback": [
            "\u001b[0;31m---------------------------------------------------------------------------\u001b[0m",
            "\u001b[0;31mValueError\u001b[0m                                Traceback (most recent call last)",
            "\u001b[0;32m<ipython-input-75-a91deed01090>\u001b[0m in \u001b[0;36m<module>\u001b[0;34m()\u001b[0m\n\u001b[0;32m----> 1\u001b[0;31m \u001b[0mmean_absolute_error\u001b[0m\u001b[0;34m(\u001b[0m\u001b[0my_true\u001b[0m \u001b[0;34m=\u001b[0m \u001b[0mdf\u001b[0m\u001b[0;34m,\u001b[0m \u001b[0my_pred\u001b[0m \u001b[0;34m=\u001b[0m \u001b[0;34m[\u001b[0m\u001b[0;34m'US Military Fatalities per Million'\u001b[0m\u001b[0;34m,\u001b[0m\u001b[0;34m'US Total Nonfarm Payrolls'\u001b[0m\u001b[0;34m,\u001b[0m \u001b[0;34m'Incumbent Party Vote Share'\u001b[0m\u001b[0;34m]\u001b[0m\u001b[0;34m)\u001b[0m\u001b[0;34m\u001b[0m\u001b[0;34m\u001b[0m\u001b[0m\n\u001b[0m",
            "\u001b[0;32m/usr/local/lib/python3.6/dist-packages/sklearn/metrics/regression.py\u001b[0m in \u001b[0;36mmean_absolute_error\u001b[0;34m(y_true, y_pred, sample_weight, multioutput)\u001b[0m\n\u001b[1;32m    170\u001b[0m     \"\"\"\n\u001b[1;32m    171\u001b[0m     y_type, y_true, y_pred, multioutput = _check_reg_targets(\n\u001b[0;32m--> 172\u001b[0;31m         y_true, y_pred, multioutput)\n\u001b[0m\u001b[1;32m    173\u001b[0m     \u001b[0mcheck_consistent_length\u001b[0m\u001b[0;34m(\u001b[0m\u001b[0my_true\u001b[0m\u001b[0;34m,\u001b[0m \u001b[0my_pred\u001b[0m\u001b[0;34m,\u001b[0m \u001b[0msample_weight\u001b[0m\u001b[0;34m)\u001b[0m\u001b[0;34m\u001b[0m\u001b[0;34m\u001b[0m\u001b[0m\n\u001b[1;32m    174\u001b[0m     output_errors = np.average(np.abs(y_pred - y_true),\n",
            "\u001b[0;32m/usr/local/lib/python3.6/dist-packages/sklearn/metrics/regression.py\u001b[0m in \u001b[0;36m_check_reg_targets\u001b[0;34m(y_true, y_pred, multioutput)\u001b[0m\n\u001b[1;32m     75\u001b[0m \u001b[0;34m\u001b[0m\u001b[0m\n\u001b[1;32m     76\u001b[0m     \"\"\"\n\u001b[0;32m---> 77\u001b[0;31m     \u001b[0mcheck_consistent_length\u001b[0m\u001b[0;34m(\u001b[0m\u001b[0my_true\u001b[0m\u001b[0;34m,\u001b[0m \u001b[0my_pred\u001b[0m\u001b[0;34m)\u001b[0m\u001b[0;34m\u001b[0m\u001b[0;34m\u001b[0m\u001b[0m\n\u001b[0m\u001b[1;32m     78\u001b[0m     \u001b[0my_true\u001b[0m \u001b[0;34m=\u001b[0m \u001b[0mcheck_array\u001b[0m\u001b[0;34m(\u001b[0m\u001b[0my_true\u001b[0m\u001b[0;34m,\u001b[0m \u001b[0mensure_2d\u001b[0m\u001b[0;34m=\u001b[0m\u001b[0;32mFalse\u001b[0m\u001b[0;34m)\u001b[0m\u001b[0;34m\u001b[0m\u001b[0;34m\u001b[0m\u001b[0m\n\u001b[1;32m     79\u001b[0m     \u001b[0my_pred\u001b[0m \u001b[0;34m=\u001b[0m \u001b[0mcheck_array\u001b[0m\u001b[0;34m(\u001b[0m\u001b[0my_pred\u001b[0m\u001b[0;34m,\u001b[0m \u001b[0mensure_2d\u001b[0m\u001b[0;34m=\u001b[0m\u001b[0;32mFalse\u001b[0m\u001b[0;34m)\u001b[0m\u001b[0;34m\u001b[0m\u001b[0;34m\u001b[0m\u001b[0m\n",
            "\u001b[0;32m/usr/local/lib/python3.6/dist-packages/sklearn/utils/validation.py\u001b[0m in \u001b[0;36mcheck_consistent_length\u001b[0;34m(*arrays)\u001b[0m\n\u001b[1;32m    203\u001b[0m     \u001b[0;32mif\u001b[0m \u001b[0mlen\u001b[0m\u001b[0;34m(\u001b[0m\u001b[0muniques\u001b[0m\u001b[0;34m)\u001b[0m \u001b[0;34m>\u001b[0m \u001b[0;36m1\u001b[0m\u001b[0;34m:\u001b[0m\u001b[0;34m\u001b[0m\u001b[0;34m\u001b[0m\u001b[0m\n\u001b[1;32m    204\u001b[0m         raise ValueError(\"Found input variables with inconsistent numbers of\"\n\u001b[0;32m--> 205\u001b[0;31m                          \" samples: %r\" % [int(l) for l in lengths])\n\u001b[0m\u001b[1;32m    206\u001b[0m \u001b[0;34m\u001b[0m\u001b[0m\n\u001b[1;32m    207\u001b[0m \u001b[0;34m\u001b[0m\u001b[0m\n",
            "\u001b[0;31mValueError\u001b[0m: Found input variables with inconsistent numbers of samples: [17, 3]"
          ]
        }
      ]
    },
    {
      "cell_type": "code",
      "metadata": {
        "id": "_z8STW6iumxY",
        "colab_type": "code",
        "outputId": "161d5614-06aa-40cf-ce70-2318fdb4b701",
        "colab": {
          "base_uri": "https://localhost:8080/",
          "height": 34
        }
      },
      "source": [
        "train = df.query('Year < 2008')\n",
        "test = df.query('Year >= 2008')\n",
        "\n",
        "x_train = train[features]\n",
        "y_train = train[target]\n",
        "x_test = train[features]\n",
        "y_test = train[target]\n",
        "\n",
        "x_train.shape, y_train.shape, x_test.shape, y_test.shape"
      ],
      "execution_count": 76,
      "outputs": [
        {
          "output_type": "execute_result",
          "data": {
            "text/plain": [
              "((14, 2), (14, 1), (14, 2), (14, 1))"
            ]
          },
          "metadata": {
            "tags": []
          },
          "execution_count": 76
        }
      ]
    },
    {
      "cell_type": "code",
      "metadata": {
        "id": "P3M6_jBdzJKO",
        "colab_type": "code",
        "outputId": "85b6e94e-3a3f-4e2e-8059-e404ed5e068d",
        "colab": {
          "base_uri": "https://localhost:8080/",
          "height": 34
        }
      },
      "source": [
        "model.fit(x_train, y_train)"
      ],
      "execution_count": 77,
      "outputs": [
        {
          "output_type": "execute_result",
          "data": {
            "text/plain": [
              "LinearRegression(copy_X=True, fit_intercept=True, n_jobs=None, normalize=False)"
            ]
          },
          "metadata": {
            "tags": []
          },
          "execution_count": 77
        }
      ]
    },
    {
      "cell_type": "code",
      "metadata": {
        "id": "WB_6XWgdzZI3",
        "colab_type": "code",
        "outputId": "a7a16a9d-32f8-4122-d6e9-a2b37826093c",
        "colab": {
          "base_uri": "https://localhost:8080/",
          "height": 255
        }
      },
      "source": [
        "y_pred = model.predict(x_test)\n",
        "y_pred"
      ],
      "execution_count": 78,
      "outputs": [
        {
          "output_type": "execute_result",
          "data": {
            "text/plain": [
              "array([[46.33311191],\n",
              "       [56.20166004],\n",
              "       [56.06667607],\n",
              "       [55.72588871],\n",
              "       [47.33366855],\n",
              "       [54.69972662],\n",
              "       [54.19219359],\n",
              "       [53.52561144],\n",
              "       [53.24435391],\n",
              "       [52.48472719],\n",
              "       [52.24484138],\n",
              "       [51.47119035],\n",
              "       [50.61563735],\n",
              "       [50.4207129 ]])"
            ]
          },
          "metadata": {
            "tags": []
          },
          "execution_count": 78
        }
      ]
    },
    {
      "cell_type": "code",
      "metadata": {
        "id": "ut6_uUstzs4k",
        "colab_type": "code",
        "outputId": "34a76b44-be76-4ddc-dc82-d944168a00b4",
        "colab": {
          "base_uri": "https://localhost:8080/",
          "height": 483
        }
      },
      "source": [
        "y_test"
      ],
      "execution_count": 79,
      "outputs": [
        {
          "output_type": "execute_result",
          "data": {
            "text/html": [
              "<div>\n",
              "<style scoped>\n",
              "    .dataframe tbody tr th:only-of-type {\n",
              "        vertical-align: middle;\n",
              "    }\n",
              "\n",
              "    .dataframe tbody tr th {\n",
              "        vertical-align: top;\n",
              "    }\n",
              "\n",
              "    .dataframe thead th {\n",
              "        text-align: right;\n",
              "    }\n",
              "</style>\n",
              "<table border=\"1\" class=\"dataframe\">\n",
              "  <thead>\n",
              "    <tr style=\"text-align: right;\">\n",
              "      <th></th>\n",
              "      <th>Incumbent Party Vote Share</th>\n",
              "    </tr>\n",
              "  </thead>\n",
              "  <tbody>\n",
              "    <tr>\n",
              "      <th>0</th>\n",
              "      <td>44.60</td>\n",
              "    </tr>\n",
              "    <tr>\n",
              "      <th>1</th>\n",
              "      <td>57.76</td>\n",
              "    </tr>\n",
              "    <tr>\n",
              "      <th>2</th>\n",
              "      <td>49.91</td>\n",
              "    </tr>\n",
              "    <tr>\n",
              "      <th>3</th>\n",
              "      <td>61.34</td>\n",
              "    </tr>\n",
              "    <tr>\n",
              "      <th>4</th>\n",
              "      <td>49.60</td>\n",
              "    </tr>\n",
              "    <tr>\n",
              "      <th>5</th>\n",
              "      <td>61.79</td>\n",
              "    </tr>\n",
              "    <tr>\n",
              "      <th>6</th>\n",
              "      <td>48.95</td>\n",
              "    </tr>\n",
              "    <tr>\n",
              "      <th>7</th>\n",
              "      <td>44.70</td>\n",
              "    </tr>\n",
              "    <tr>\n",
              "      <th>8</th>\n",
              "      <td>59.17</td>\n",
              "    </tr>\n",
              "    <tr>\n",
              "      <th>9</th>\n",
              "      <td>53.94</td>\n",
              "    </tr>\n",
              "    <tr>\n",
              "      <th>10</th>\n",
              "      <td>46.55</td>\n",
              "    </tr>\n",
              "    <tr>\n",
              "      <th>11</th>\n",
              "      <td>54.74</td>\n",
              "    </tr>\n",
              "    <tr>\n",
              "      <th>12</th>\n",
              "      <td>50.27</td>\n",
              "    </tr>\n",
              "    <tr>\n",
              "      <th>13</th>\n",
              "      <td>51.24</td>\n",
              "    </tr>\n",
              "  </tbody>\n",
              "</table>\n",
              "</div>"
            ],
            "text/plain": [
              "    Incumbent Party Vote Share\n",
              "0                        44.60\n",
              "1                        57.76\n",
              "2                        49.91\n",
              "3                        61.34\n",
              "4                        49.60\n",
              "5                        61.79\n",
              "6                        48.95\n",
              "7                        44.70\n",
              "8                        59.17\n",
              "9                        53.94\n",
              "10                       46.55\n",
              "11                       54.74\n",
              "12                       50.27\n",
              "13                       51.24"
            ]
          },
          "metadata": {
            "tags": []
          },
          "execution_count": 79
        }
      ]
    },
    {
      "cell_type": "code",
      "metadata": {
        "id": "9I0_dXpCz6bN",
        "colab_type": "code",
        "outputId": "b948dbc5-3f96-43c5-da9a-064a752bcd2a",
        "colab": {
          "base_uri": "https://localhost:8080/",
          "height": 34
        }
      },
      "source": [
        "mean_absolute_error(y_test, y_pred)"
      ],
      "execution_count": 80,
      "outputs": [
        {
          "output_type": "execute_result",
          "data": {
            "text/plain": [
              "3.999724532585868"
            ]
          },
          "metadata": {
            "tags": []
          },
          "execution_count": 80
        }
      ]
    },
    {
      "cell_type": "code",
      "metadata": {
        "id": "OMT4-YNE1AyR",
        "colab_type": "code",
        "outputId": "08bc7785-6b53-478b-8c70-c55ddd3c1179",
        "colab": {
          "base_uri": "https://localhost:8080/",
          "height": 612
        }
      },
      "source": [
        "from sklearn.linear_model import LinearRegression\n",
        "\n",
        "print('Leave-One-Out Cross-Validation, Do-It-Yourself implementation:')\n",
        "\n",
        "maes = []\n",
        "\n",
        "for year in df['Year']:\n",
        "    print(f'Fit Linear Regression on all years except {year}')\n",
        "    \n",
        "    model = LinearRegression()\n",
        "    \n",
        "    train = df[df['Year'] != year]\n",
        "    test = df[df['Year'] == year]\n",
        "    X_train = train[features]\n",
        "    y_train = train[target]\n",
        "    X_test = test[features]\n",
        "    y_test = test[target]\n",
        "    \n",
        "    model.fit(X_train, y_train)\n",
        "    \n",
        "    y_pred = model.predict(X_test)\n",
        "    \n",
        "    mae = mean_absolute_error(y_test, y_pred)\n",
        "    maes.append(mae)\n",
        "    print(f'Absolute Error on prediction for {year} = {mae}')\n",
        "    \n"
      ],
      "execution_count": 87,
      "outputs": [
        {
          "output_type": "stream",
          "text": [
            "Leave-One-Out Cross-Validation, Do-It-Yourself implementation:\n",
            "Fit Linear Regression on all years except 1952\n",
            "Absolute Error on prediction for 1952 = 4.5697797392512385\n",
            "Fit Linear Regression on all years except 1956\n",
            "Absolute Error on prediction for 1956 = 1.7188959581626477\n",
            "Fit Linear Regression on all years except 1960\n",
            "Absolute Error on prediction for 1960 = 8.14156074923551\n",
            "Fit Linear Regression on all years except 1964\n",
            "Absolute Error on prediction for 1964 = 6.704301427711101\n",
            "Fit Linear Regression on all years except 1968\n",
            "Absolute Error on prediction for 1968 = 3.809840675495721\n",
            "Fit Linear Regression on all years except 1972\n",
            "Absolute Error on prediction for 1972 = 7.981833518429191\n",
            "Fit Linear Regression on all years except 1976\n",
            "Absolute Error on prediction for 1976 = 5.81735975534383\n",
            "Fit Linear Regression on all years except 1980\n",
            "Absolute Error on prediction for 1980 = 9.469200901137931\n",
            "Fit Linear Regression on all years except 1984\n",
            "Absolute Error on prediction for 1984 = 6.497591179933181\n",
            "Fit Linear Regression on all years except 1988\n",
            "Absolute Error on prediction for 1988 = 1.775109789315863\n",
            "Fit Linear Regression on all years except 1992\n",
            "Absolute Error on prediction for 1992 = 5.894356390984498\n",
            "Fit Linear Regression on all years except 1996\n",
            "Absolute Error on prediction for 1996 = 3.9428763812657266\n",
            "Fit Linear Regression on all years except 2000\n",
            "Absolute Error on prediction for 2000 = 0.07800916801321733\n",
            "Fit Linear Regression on all years except 2004\n",
            "Absolute Error on prediction for 2004 = 1.4244615750291842\n",
            "Fit Linear Regression on all years except 2008\n",
            "Absolute Error on prediction for 2008 = 3.237006689580163\n",
            "Fit Linear Regression on all years except 2012\n",
            "Absolute Error on prediction for 2012 = 2.611853005544731\n",
            "Fit Linear Regression on all years except 2016\n",
            "Absolute Error on prediction for 2016 = 0.9504658512874187\n"
          ],
          "name": "stdout"
        }
      ]
    },
    {
      "cell_type": "code",
      "metadata": {
        "id": "MsNxug8bE_L8",
        "colab_type": "code",
        "colab": {
          "base_uri": "https://localhost:8080/",
          "height": 34
        },
        "outputId": "3c15befd-32cf-44e5-e84e-227e9e64de48"
      },
      "source": [
        "pd.Series(maes).mean()"
      ],
      "execution_count": 89,
      "outputs": [
        {
          "output_type": "execute_result",
          "data": {
            "text/plain": [
              "4.389676632689479"
            ]
          },
          "metadata": {
            "tags": []
          },
          "execution_count": 89
        }
      ]
    },
    {
      "cell_type": "code",
      "metadata": {
        "id": "nChmuOotL2fO",
        "colab_type": "code",
        "colab": {
          "base_uri": "https://localhost:8080/",
          "height": 627
        },
        "outputId": "4ec99ffb-4990-440a-a96d-e282202c4ae5"
      },
      "source": [
        "df"
      ],
      "execution_count": 90,
      "outputs": [
        {
          "output_type": "execute_result",
          "data": {
            "text/html": [
              "<div>\n",
              "<style scoped>\n",
              "    .dataframe tbody tr th:only-of-type {\n",
              "        vertical-align: middle;\n",
              "    }\n",
              "\n",
              "    .dataframe tbody tr th {\n",
              "        vertical-align: top;\n",
              "    }\n",
              "\n",
              "    .dataframe thead th {\n",
              "        text-align: right;\n",
              "    }\n",
              "</style>\n",
              "<table border=\"1\" class=\"dataframe\">\n",
              "  <thead>\n",
              "    <tr style=\"text-align: right;\">\n",
              "      <th></th>\n",
              "      <th>Year</th>\n",
              "      <th>Incumbent Party Candidate</th>\n",
              "      <th>Other Candidate</th>\n",
              "      <th>Incumbent Party Vote Share</th>\n",
              "      <th>Average Recent Growth in Personal Incomes</th>\n",
              "      <th>US Military Fatalities per Million</th>\n",
              "      <th>US Total Nonfarm Payrolls</th>\n",
              "      <th>Mean Baseline</th>\n",
              "      <th>Error</th>\n",
              "      <th>Absolute Error</th>\n",
              "      <th>Linear Regression w/ Two Features</th>\n",
              "      <th>pred MSE</th>\n",
              "    </tr>\n",
              "  </thead>\n",
              "  <tbody>\n",
              "    <tr>\n",
              "      <th>0</th>\n",
              "      <td>1952</td>\n",
              "      <td>Stevenson</td>\n",
              "      <td>Eisenhower</td>\n",
              "      <td>44.60</td>\n",
              "      <td>2.40</td>\n",
              "      <td>190</td>\n",
              "      <td>48902</td>\n",
              "      <td>21.588235</td>\n",
              "      <td>1.682762</td>\n",
              "      <td>1.682762</td>\n",
              "      <td>46.282762</td>\n",
              "      <td>0.950466</td>\n",
              "    </tr>\n",
              "    <tr>\n",
              "      <th>1</th>\n",
              "      <td>1956</td>\n",
              "      <td>Eisenhower</td>\n",
              "      <td>Stevenson</td>\n",
              "      <td>57.76</td>\n",
              "      <td>2.89</td>\n",
              "      <td>0</td>\n",
              "      <td>52368</td>\n",
              "      <td>21.588235</td>\n",
              "      <td>-1.324526</td>\n",
              "      <td>1.324526</td>\n",
              "      <td>56.435474</td>\n",
              "      <td>0.950466</td>\n",
              "    </tr>\n",
              "    <tr>\n",
              "      <th>2</th>\n",
              "      <td>1960</td>\n",
              "      <td>Nixon</td>\n",
              "      <td>Kennedy</td>\n",
              "      <td>49.91</td>\n",
              "      <td>0.85</td>\n",
              "      <td>0</td>\n",
              "      <td>54293</td>\n",
              "      <td>21.588235</td>\n",
              "      <td>6.374851</td>\n",
              "      <td>6.374851</td>\n",
              "      <td>56.284851</td>\n",
              "      <td>0.950466</td>\n",
              "    </tr>\n",
              "    <tr>\n",
              "      <th>3</th>\n",
              "      <td>1964</td>\n",
              "      <td>Johnson</td>\n",
              "      <td>Goldwater</td>\n",
              "      <td>61.34</td>\n",
              "      <td>4.21</td>\n",
              "      <td>1</td>\n",
              "      <td>58394</td>\n",
              "      <td>21.588235</td>\n",
              "      <td>-5.430897</td>\n",
              "      <td>5.430897</td>\n",
              "      <td>55.909103</td>\n",
              "      <td>0.950466</td>\n",
              "    </tr>\n",
              "    <tr>\n",
              "      <th>4</th>\n",
              "      <td>1968</td>\n",
              "      <td>Humphrey</td>\n",
              "      <td>Nixon</td>\n",
              "      <td>49.60</td>\n",
              "      <td>3.02</td>\n",
              "      <td>146</td>\n",
              "      <td>68027</td>\n",
              "      <td>21.588235</td>\n",
              "      <td>-2.399729</td>\n",
              "      <td>2.399729</td>\n",
              "      <td>47.200271</td>\n",
              "      <td>0.950466</td>\n",
              "    </tr>\n",
              "    <tr>\n",
              "      <th>5</th>\n",
              "      <td>1972</td>\n",
              "      <td>Nixon</td>\n",
              "      <td>McGovern</td>\n",
              "      <td>61.79</td>\n",
              "      <td>3.62</td>\n",
              "      <td>0</td>\n",
              "      <td>73787</td>\n",
              "      <td>21.588235</td>\n",
              "      <td>-7.030471</td>\n",
              "      <td>7.030471</td>\n",
              "      <td>54.759529</td>\n",
              "      <td>0.950466</td>\n",
              "    </tr>\n",
              "    <tr>\n",
              "      <th>6</th>\n",
              "      <td>1976</td>\n",
              "      <td>Ford</td>\n",
              "      <td>Carter</td>\n",
              "      <td>48.95</td>\n",
              "      <td>1.08</td>\n",
              "      <td>2</td>\n",
              "      <td>79507</td>\n",
              "      <td>21.588235</td>\n",
              "      <td>5.252238</td>\n",
              "      <td>5.252238</td>\n",
              "      <td>54.202238</td>\n",
              "      <td>0.950466</td>\n",
              "    </tr>\n",
              "    <tr>\n",
              "      <th>7</th>\n",
              "      <td>1980</td>\n",
              "      <td>Carter</td>\n",
              "      <td>Reagan</td>\n",
              "      <td>44.70</td>\n",
              "      <td>-0.39</td>\n",
              "      <td>0</td>\n",
              "      <td>90531</td>\n",
              "      <td>21.588235</td>\n",
              "      <td>8.749382</td>\n",
              "      <td>8.749382</td>\n",
              "      <td>53.449382</td>\n",
              "      <td>0.950466</td>\n",
              "    </tr>\n",
              "    <tr>\n",
              "      <th>8</th>\n",
              "      <td>1984</td>\n",
              "      <td>Reagan</td>\n",
              "      <td>Mondale</td>\n",
              "      <td>59.17</td>\n",
              "      <td>3.86</td>\n",
              "      <td>0</td>\n",
              "      <td>94542</td>\n",
              "      <td>21.588235</td>\n",
              "      <td>-6.034461</td>\n",
              "      <td>6.034461</td>\n",
              "      <td>53.135539</td>\n",
              "      <td>0.950466</td>\n",
              "    </tr>\n",
              "    <tr>\n",
              "      <th>9</th>\n",
              "      <td>1988</td>\n",
              "      <td>Bush, Sr.</td>\n",
              "      <td>Dukakis</td>\n",
              "      <td>53.94</td>\n",
              "      <td>2.27</td>\n",
              "      <td>0</td>\n",
              "      <td>105375</td>\n",
              "      <td>21.588235</td>\n",
              "      <td>-1.652097</td>\n",
              "      <td>1.652097</td>\n",
              "      <td>52.287903</td>\n",
              "      <td>0.950466</td>\n",
              "    </tr>\n",
              "    <tr>\n",
              "      <th>10</th>\n",
              "      <td>1992</td>\n",
              "      <td>Bush, Sr.</td>\n",
              "      <td>Clinton</td>\n",
              "      <td>46.55</td>\n",
              "      <td>0.38</td>\n",
              "      <td>0</td>\n",
              "      <td>108796</td>\n",
              "      <td>21.588235</td>\n",
              "      <td>5.470224</td>\n",
              "      <td>5.470224</td>\n",
              "      <td>52.020224</td>\n",
              "      <td>0.950466</td>\n",
              "    </tr>\n",
              "    <tr>\n",
              "      <th>11</th>\n",
              "      <td>1996</td>\n",
              "      <td>Clinton</td>\n",
              "      <td>Dole</td>\n",
              "      <td>54.74</td>\n",
              "      <td>1.04</td>\n",
              "      <td>0</td>\n",
              "      <td>119829</td>\n",
              "      <td>21.588235</td>\n",
              "      <td>-3.583061</td>\n",
              "      <td>3.583061</td>\n",
              "      <td>51.156939</td>\n",
              "      <td>0.950466</td>\n",
              "    </tr>\n",
              "    <tr>\n",
              "      <th>12</th>\n",
              "      <td>2000</td>\n",
              "      <td>Gore</td>\n",
              "      <td>Bush, Jr.</td>\n",
              "      <td>50.27</td>\n",
              "      <td>2.36</td>\n",
              "      <td>0</td>\n",
              "      <td>132030</td>\n",
              "      <td>21.588235</td>\n",
              "      <td>-0.067737</td>\n",
              "      <td>0.067737</td>\n",
              "      <td>50.202263</td>\n",
              "      <td>0.950466</td>\n",
              "    </tr>\n",
              "    <tr>\n",
              "      <th>13</th>\n",
              "      <td>2004</td>\n",
              "      <td>Bush, Jr.</td>\n",
              "      <td>Kerry</td>\n",
              "      <td>51.24</td>\n",
              "      <td>1.72</td>\n",
              "      <td>4</td>\n",
              "      <td>131774</td>\n",
              "      <td>21.588235</td>\n",
              "      <td>-1.237157</td>\n",
              "      <td>1.237157</td>\n",
              "      <td>50.002843</td>\n",
              "      <td>0.950466</td>\n",
              "    </tr>\n",
              "    <tr>\n",
              "      <th>14</th>\n",
              "      <td>2008</td>\n",
              "      <td>McCain</td>\n",
              "      <td>Obama</td>\n",
              "      <td>46.32</td>\n",
              "      <td>0.10</td>\n",
              "      <td>14</td>\n",
              "      <td>137242</td>\n",
              "      <td>21.588235</td>\n",
              "      <td>2.706369</td>\n",
              "      <td>2.706369</td>\n",
              "      <td>49.026369</td>\n",
              "      <td>0.950466</td>\n",
              "    </tr>\n",
              "    <tr>\n",
              "      <th>15</th>\n",
              "      <td>2012</td>\n",
              "      <td>Obama</td>\n",
              "      <td>Romney</td>\n",
              "      <td>52.00</td>\n",
              "      <td>0.95</td>\n",
              "      <td>5</td>\n",
              "      <td>134174</td>\n",
              "      <td>21.588235</td>\n",
              "      <td>-2.239809</td>\n",
              "      <td>2.239809</td>\n",
              "      <td>49.760191</td>\n",
              "      <td>0.950466</td>\n",
              "    </tr>\n",
              "    <tr>\n",
              "      <th>16</th>\n",
              "      <td>2016</td>\n",
              "      <td>Clinton</td>\n",
              "      <td>Trump</td>\n",
              "      <td>48.20</td>\n",
              "      <td>0.10</td>\n",
              "      <td>5</td>\n",
              "      <td>144348</td>\n",
              "      <td>21.588235</td>\n",
              "      <td>0.764119</td>\n",
              "      <td>0.764119</td>\n",
              "      <td>48.964119</td>\n",
              "      <td>0.950466</td>\n",
              "    </tr>\n",
              "  </tbody>\n",
              "</table>\n",
              "</div>"
            ],
            "text/plain": [
              "    Year Incumbent Party Candidate  ... Linear Regression w/ Two Features  pred MSE\n",
              "0   1952                 Stevenson  ...                         46.282762  0.950466\n",
              "1   1956                Eisenhower  ...                         56.435474  0.950466\n",
              "2   1960                     Nixon  ...                         56.284851  0.950466\n",
              "3   1964                   Johnson  ...                         55.909103  0.950466\n",
              "4   1968                  Humphrey  ...                         47.200271  0.950466\n",
              "5   1972                     Nixon  ...                         54.759529  0.950466\n",
              "6   1976                      Ford  ...                         54.202238  0.950466\n",
              "7   1980                    Carter  ...                         53.449382  0.950466\n",
              "8   1984                    Reagan  ...                         53.135539  0.950466\n",
              "9   1988                 Bush, Sr.  ...                         52.287903  0.950466\n",
              "10  1992                 Bush, Sr.  ...                         52.020224  0.950466\n",
              "11  1996                   Clinton  ...                         51.156939  0.950466\n",
              "12  2000                      Gore  ...                         50.202263  0.950466\n",
              "13  2004                 Bush, Jr.  ...                         50.002843  0.950466\n",
              "14  2008                    McCain  ...                         49.026369  0.950466\n",
              "15  2012                     Obama  ...                         49.760191  0.950466\n",
              "16  2016                   Clinton  ...                         48.964119  0.950466\n",
              "\n",
              "[17 rows x 12 columns]"
            ]
          },
          "metadata": {
            "tags": []
          },
          "execution_count": 90
        }
      ]
    }
  ]
}