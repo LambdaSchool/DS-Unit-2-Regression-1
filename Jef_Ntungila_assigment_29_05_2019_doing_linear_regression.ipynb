{
  "nbformat": 4,
  "nbformat_minor": 0,
  "metadata": {
    "colab": {
      "name": "Jef Ntungila assigment 29 05 2019 doing_linear_regression.ipynb",
      "version": "0.3.2",
      "provenance": [],
      "collapsed_sections": [],
      "include_colab_link": true
    },
    "kernelspec": {
      "name": "python3",
      "display_name": "Python 3"
    }
  },
  "cells": [
    {
      "cell_type": "markdown",
      "metadata": {
        "id": "view-in-github",
        "colab_type": "text"
      },
      "source": [
        "<a href=\"https://colab.research.google.com/github/JefNtungila/DS-Unit-2-Regression-1/blob/master/Jef_Ntungila_assigment_29_05_2019_doing_linear_regression.ipynb\" target=\"_parent\"><img src=\"https://colab.research.google.com/assets/colab-badge.svg\" alt=\"Open In Colab\"/></a>"
      ]
    },
    {
      "cell_type": "code",
      "metadata": {
        "id": "vBwpXGUfDBn_",
        "colab_type": "code",
        "colab": {}
      },
      "source": [
        "#I added unemployment rate throughout this notebook"
      ],
      "execution_count": 0,
      "outputs": []
    },
    {
      "cell_type": "markdown",
      "metadata": {
        "id": "UbqeAzl9TK_y",
        "colab_type": "text"
      },
      "source": [
        "## Assignment\n",
        "\n",
        "#### Predict presidential election voting, with two features you choose!\n",
        "- Start a new notebook.\n",
        "- You may reuse one of the features from the \"Bread & Peace\" model.\n",
        "- **Acquire data for at least one new feature.** The links below may help!\n",
        "- Commit your notebook to your fork of the GitHub repo.\n",
        "\n",
        "#### Why I'm asking you to acquire data for at least one new [feature](https://en.wikipedia.org/wiki/Feature_engineering)\n",
        "\n",
        "> \"Some machine learning projects succeed and some fail. What makes the difference? Easily the most important factor is the features used.\" — Pedro Domingos, [\"A Few Useful Things to Know about Machine Learning\"](https://homes.cs.washington.edu/~pedrod/papers/cacm12.pdf)\n",
        "\n",
        "> \"Coming up with features is difficult, time-consuming, requires expert knowledge. 'Applied machine learning' is basically feature engineering.\" — Andrew Ng, [Machine Learning and AI via Brain simulations](https://forum.stanford.edu/events/2011/2011slides/plenary/2011plenaryNg.pdf) \n",
        "\n",
        "> Feature engineering is the process of using domain knowledge of the data to create features that make machine learning algorithms work. \n",
        "\n",
        "#### You can search [FRED (Federal Reserve Bank of St. Louis)](https://fred.stlouisfed.org/) for these keywords\n",
        "- real disposable income change annual\n",
        "- gdp change annual\n",
        "- unemployment \n",
        "\n",
        "#### Go to [BEA (Bureau of Economic Analysis)](https://apps.bea.gov/itable/) and follow these steps\n",
        "- National Data - GDP & Personal Income\n",
        "- Begin using the data\n",
        "- Section 1 - DOMESTIC PRODUCT AND INCOME\n",
        "- Table 1.17.1. Percent Change From Preceding Period in Real Gross Domestic Product, Real Gross Domestic Income, and Other Major NIPA Aggregates\n",
        "- Modify\n",
        "  - First Year: 1947\n",
        "  - Last Year: 2018\n",
        "  - Series: Annual\n",
        "  - Refresh Table\n",
        "- Download\n",
        "\n",
        "#### Go to Wikipedia, [United States military casualties of war, Wars ranked by total number of U.S. military deaths](https://en.wikipedia.org/wiki/United_States_military_casualties_of_war#Wars_ranked_by_total_number_of_U.S._military_deaths)\n",
        "- You can try this tutorial to scrape data from HTML tables: [Quick Tip: The easiest way to grab data out of a web page in Python](https://medium.com/@ageitgey/quick-tip-the-easiest-way-to-grab-data-out-of-a-web-page-in-python-7153cecfca58)\n",
        "\n",
        "#### Read more about economic features to predict elections\n",
        "- [Which Economic Indicators Best Predict Presidential Elections?](https://fivethirtyeight.blogs.nytimes.com/2011/11/18/which-economic-indicators-best-predict-presidential-elections/)\n",
        "- [What stat best gets at the question, \"Are you better off now than you were a year ago?\"](https://www.theatlantic.com/business/archive/2010/11/the-most-important-economic-indicator-in-midterm-elections/65505/)\n",
        "- [Time for change model](https://pollyvote.com/en/components/econometric-models/time-for-change-model/)\n",
        "\n",
        "\n",
        "#### You can try for a \"serious\" model or a \"spurious\" model. Here are more data sources you can try\n",
        "- [Tyler Vigen, Spurious Correlations, Discover a Correlation](https://tylervigen.com/discover)\n",
        "- [CDC (Centers for Disease Control), Compressed Mortality data](https://wonder.cdc.gov/mortSQL.html)\n",
        "- [Data Is Plural](https://tinyletter.com/data-is-plural)\n",
        "- [Gapminder](https://github.com/open-numbers/ddf--gapminder--systema_globalis/)\n",
        "- [Campaign Finance Institute, Historical Stats](http://www.cfinst.org/data/historicalstats.aspx)\n",
        "- Or find your own data and features to try!\n",
        "\n",
        "\n",
        "\n"
      ]
    },
    {
      "cell_type": "code",
      "metadata": {
        "id": "ObDpzOWDC4RC",
        "colab_type": "code",
        "colab": {}
      },
      "source": [
        ""
      ],
      "execution_count": 0,
      "outputs": []
    },
    {
      "cell_type": "markdown",
      "metadata": {
        "id": "E5Cl5iTHXwA7",
        "colab_type": "text"
      },
      "source": [
        "### Load data\n",
        "\n",
        "#### Sources\n",
        "- 1952-2012: Douglas Hibbs, [2014 lecture at Deakin University Melbourne](http://www.douglas-hibbs.com/HibbsArticles/HIBBS-PRESVOTE-SLIDES-MELBOURNE-Part1-2014-02-26.pdf), Slide 40\n",
        "- 2016, Vote Share: [The American Presidency Project](https://www.presidency.ucsb.edu/statistics/elections)\n",
        "- 2016, Recent Growth in Personal Incomes: [The 2016 election economy: the \"Bread and Peace\" model final forecast](https://angrybearblog.com/2016/11/the-2016-election-economy-the-bread-and-peace-model-final-forecast.html)\n",
        "- 2016, US Military Fatalities: Assumption that Afghanistan War fatalities in 2012-16 occured at the same rate as 2008-12\n"
      ]
    },
    {
      "cell_type": "code",
      "metadata": {
        "id": "qEeVFTa0VWDE",
        "colab_type": "code",
        "colab": {}
      },
      "source": [
        "import pandas as pd\n",
        "\n",
        "columns = ['Year','Incumbent Party Candidate','Other Candidate','Incumbent Party Vote Share']\n",
        "\n",
        "data = [[1952,\"Stevenson\",\"Eisenhower\",44.6],\n",
        "        [1956,\"Eisenhower\",\"Stevenson\",57.76],\n",
        "        [1960,\"Nixon\",\"Kennedy\",49.91],\n",
        "        [1964,\"Johnson\",\"Goldwater\",61.34],\n",
        "        [1968,\"Humphrey\",\"Nixon\",49.60],\n",
        "        [1972,\"Nixon\",\"McGovern\",61.79],\n",
        "        [1976,\"Ford\",\"Carter\",48.95],\n",
        "        [1980,\"Carter\",\"Reagan\",44.70],\n",
        "        [1984,\"Reagan\",\"Mondale\",59.17],\n",
        "        [1988,\"Bush, Sr.\",\"Dukakis\",53.94],\n",
        "        [1992,\"Bush, Sr.\",\"Clinton\",46.55],\n",
        "        [1996,\"Clinton\",\"Dole\",54.74],\n",
        "        [2000,\"Gore\",\"Bush, Jr.\",50.27],\n",
        "        [2004,\"Bush, Jr.\",\"Kerry\",51.24],\n",
        "        [2008,\"McCain\",\"Obama\",46.32],\n",
        "        [2012,\"Obama\",\"Romney\",52.00], \n",
        "        [2016,\"Clinton\",\"Trump\",48.2]]\n",
        "        \n",
        "votes = pd.DataFrame(data=data, columns=columns)"
      ],
      "execution_count": 0,
      "outputs": []
    },
    {
      "cell_type": "code",
      "metadata": {
        "id": "yNKTk8bV7c7U",
        "colab_type": "code",
        "colab": {}
      },
      "source": [
        "columns = ['Year','Average Recent Growth in Personal Incomes']\n",
        "\n",
        "data = [[1952,2.40],\n",
        "        [1956,2.89],\n",
        "        [1960, .85],\n",
        "        [1964,4.21],\n",
        "        [1968,3.02],\n",
        "        [1972,3.62],\n",
        "        [1976,1.08],\n",
        "        [1980,-.39],\n",
        "        [1984,3.86],\n",
        "        [1988,2.27],\n",
        "        [1992, .38],\n",
        "        [1996,1.04],\n",
        "        [2000,2.36],\n",
        "        [2004,1.72],\n",
        "        [2008, .10],\n",
        "        [2012, .95], \n",
        "        [2016, .10]]\n",
        "        \n",
        "growth = pd.DataFrame(data=data, columns=columns)"
      ],
      "execution_count": 0,
      "outputs": []
    },
    {
      "cell_type": "code",
      "metadata": {
        "id": "TxyoxOLQl7VX",
        "colab_type": "code",
        "colab": {}
      },
      "source": [
        "\"\"\"\n",
        "Fatalities denotes the cumulative number of American military\n",
        "fatalities per millions of US population the in Korea, Vietnam,\n",
        "Iraq and Afghanistan wars during the presidential terms\n",
        "preceding the 1952, 1964, 1968, 1976 and 2004, 2008 and\n",
        "2012 elections.\n",
        "\n",
        "http://www.douglas-hibbs.com/HibbsArticles/HIBBS-PRESVOTE-SLIDES-MELBOURNE-Part1-2014-02-26.pdf\n",
        "\"\"\"\n",
        "\n",
        "columns = ['Year','US Military Fatalities per Million']\n",
        "\n",
        "data = [[1952,190],\n",
        "        [1956,  0],\n",
        "        [1960,  0],\n",
        "        [1964,  1],\n",
        "        [1968,146],\n",
        "        [1972,  0],\n",
        "        [1976,  2],\n",
        "        [1980,  0],\n",
        "        [1984,  0],\n",
        "        [1988,  0],\n",
        "        [1992,  0],\n",
        "        [1996,  0],\n",
        "        [2000,  0],\n",
        "        [2004,  4],\n",
        "        [2008, 14],\n",
        "        [2012,  5], \n",
        "        [2016,  5]]\n",
        "        \n",
        "deaths = pd.DataFrame(data=data, columns=columns)"
      ],
      "execution_count": 0,
      "outputs": []
    },
    {
      "cell_type": "code",
      "metadata": {
        "id": "3xVkHDIukmV6",
        "colab_type": "code",
        "colab": {}
      },
      "source": [
        "unemployment_rate = pd.read_csv('https://raw.githubusercontent.com/JefNtungila/DS-Unit-2-Regression-1/master/module3-doing-linear-regression/unemploymentrate.csv')"
      ],
      "execution_count": 0,
      "outputs": []
    },
    {
      "cell_type": "code",
      "metadata": {
        "id": "SLpstG6-k8Zg",
        "colab_type": "code",
        "colab": {}
      },
      "source": [
        "unemployment_rate['DATE'] = pd.to_datetime(unemployment_rate['DATE'])"
      ],
      "execution_count": 0,
      "outputs": []
    },
    {
      "cell_type": "code",
      "metadata": {
        "id": "NRCLxZLurhbI",
        "colab_type": "code",
        "colab": {}
      },
      "source": [
        "unemployment_rate['DATE'] = pd.DatetimeIndex(unemployment_rate['DATE']).year"
      ],
      "execution_count": 0,
      "outputs": []
    },
    {
      "cell_type": "code",
      "metadata": {
        "id": "TTzxxJ00sKZo",
        "colab_type": "code",
        "colab": {}
      },
      "source": [
        "unemployment_rate.rename(columns={'DATE':'Year',\n",
        "                          'UNRATE':'Unrate'}, inplace=True)\n",
        "                          \n",
        "                 \n",
        " "
      ],
      "execution_count": 0,
      "outputs": []
    },
    {
      "cell_type": "code",
      "metadata": {
        "id": "eXDKEFSDwMZ8",
        "colab_type": "code",
        "colab": {
          "base_uri": "https://localhost:8080/",
          "height": 198
        },
        "outputId": "e8ccb1ea-1c7a-4e99-e351-5fa7c0328cf2"
      },
      "source": [
        "unemployment_rate.tail()"
      ],
      "execution_count": 202,
      "outputs": [
        {
          "output_type": "execute_result",
          "data": {
            "text/html": [
              "<div>\n",
              "<style scoped>\n",
              "    .dataframe tbody tr th:only-of-type {\n",
              "        vertical-align: middle;\n",
              "    }\n",
              "\n",
              "    .dataframe tbody tr th {\n",
              "        vertical-align: top;\n",
              "    }\n",
              "\n",
              "    .dataframe thead th {\n",
              "        text-align: right;\n",
              "    }\n",
              "</style>\n",
              "<table border=\"1\" class=\"dataframe\">\n",
              "  <thead>\n",
              "    <tr style=\"text-align: right;\">\n",
              "      <th></th>\n",
              "      <th>Year</th>\n",
              "      <th>Unrate</th>\n",
              "    </tr>\n",
              "  </thead>\n",
              "  <tbody>\n",
              "    <tr>\n",
              "      <th>851</th>\n",
              "      <td>2018</td>\n",
              "      <td>3.9</td>\n",
              "    </tr>\n",
              "    <tr>\n",
              "      <th>852</th>\n",
              "      <td>2019</td>\n",
              "      <td>4.0</td>\n",
              "    </tr>\n",
              "    <tr>\n",
              "      <th>853</th>\n",
              "      <td>2019</td>\n",
              "      <td>3.8</td>\n",
              "    </tr>\n",
              "    <tr>\n",
              "      <th>854</th>\n",
              "      <td>2019</td>\n",
              "      <td>3.8</td>\n",
              "    </tr>\n",
              "    <tr>\n",
              "      <th>855</th>\n",
              "      <td>2019</td>\n",
              "      <td>3.6</td>\n",
              "    </tr>\n",
              "  </tbody>\n",
              "</table>\n",
              "</div>"
            ],
            "text/plain": [
              "     Year  Unrate\n",
              "851  2018     3.9\n",
              "852  2019     4.0\n",
              "853  2019     3.8\n",
              "854  2019     3.8\n",
              "855  2019     3.6"
            ]
          },
          "metadata": {
            "tags": []
          },
          "execution_count": 202
        }
      ]
    },
    {
      "cell_type": "code",
      "metadata": {
        "id": "Pq-G1Jrqx6NN",
        "colab_type": "code",
        "colab": {}
      },
      "source": [
        "unemployment_rate = unemployment_rate.groupby(['Year']).mean()"
      ],
      "execution_count": 0,
      "outputs": []
    },
    {
      "cell_type": "code",
      "metadata": {
        "id": "AYZIgc7x939P",
        "colab_type": "code",
        "colab": {
          "base_uri": "https://localhost:8080/",
          "height": 228
        },
        "outputId": "66cd829f-c4cf-4a56-934d-823a567336a6"
      },
      "source": [
        "unemployment_rate.tail()"
      ],
      "execution_count": 204,
      "outputs": [
        {
          "output_type": "execute_result",
          "data": {
            "text/html": [
              "<div>\n",
              "<style scoped>\n",
              "    .dataframe tbody tr th:only-of-type {\n",
              "        vertical-align: middle;\n",
              "    }\n",
              "\n",
              "    .dataframe tbody tr th {\n",
              "        vertical-align: top;\n",
              "    }\n",
              "\n",
              "    .dataframe thead th {\n",
              "        text-align: right;\n",
              "    }\n",
              "</style>\n",
              "<table border=\"1\" class=\"dataframe\">\n",
              "  <thead>\n",
              "    <tr style=\"text-align: right;\">\n",
              "      <th></th>\n",
              "      <th>Unrate</th>\n",
              "    </tr>\n",
              "    <tr>\n",
              "      <th>Year</th>\n",
              "      <th></th>\n",
              "    </tr>\n",
              "  </thead>\n",
              "  <tbody>\n",
              "    <tr>\n",
              "      <th>2015</th>\n",
              "      <td>5.275000</td>\n",
              "    </tr>\n",
              "    <tr>\n",
              "      <th>2016</th>\n",
              "      <td>4.875000</td>\n",
              "    </tr>\n",
              "    <tr>\n",
              "      <th>2017</th>\n",
              "      <td>4.350000</td>\n",
              "    </tr>\n",
              "    <tr>\n",
              "      <th>2018</th>\n",
              "      <td>3.891667</td>\n",
              "    </tr>\n",
              "    <tr>\n",
              "      <th>2019</th>\n",
              "      <td>3.800000</td>\n",
              "    </tr>\n",
              "  </tbody>\n",
              "</table>\n",
              "</div>"
            ],
            "text/plain": [
              "        Unrate\n",
              "Year          \n",
              "2015  5.275000\n",
              "2016  4.875000\n",
              "2017  4.350000\n",
              "2018  3.891667\n",
              "2019  3.800000"
            ]
          },
          "metadata": {
            "tags": []
          },
          "execution_count": 204
        }
      ]
    },
    {
      "cell_type": "code",
      "metadata": {
        "id": "j6lQLGJl-Adp",
        "colab_type": "code",
        "colab": {}
      },
      "source": [
        "unemployment_rate.reset_index(level=0, inplace=True)"
      ],
      "execution_count": 0,
      "outputs": []
    },
    {
      "cell_type": "code",
      "metadata": {
        "id": "2jhJkjoUyH7u",
        "colab_type": "code",
        "colab": {}
      },
      "source": [
        "# uneployment_rate\n",
        "\n",
        "years1 = [1952, 1956, 1960, 1964, 1968, 1972, 1976, 1980, 1984, 1988, 1992, 1996, 2000, 2004, 2008, 2012, 2016]\n",
        "\n",
        "unemployment_rate = unemployment_rate[unemployment_rate['Year'].isin(years1)]\n",
        "\n"
      ],
      "execution_count": 0,
      "outputs": []
    },
    {
      "cell_type": "code",
      "metadata": {
        "id": "rls-1svX_C4i",
        "colab_type": "code",
        "colab": {
          "base_uri": "https://localhost:8080/",
          "height": 34
        },
        "outputId": "3eb7388f-b94a-44c1-83c8-68d2f5279df2"
      },
      "source": [
        "unemployment_rate.shape"
      ],
      "execution_count": 207,
      "outputs": [
        {
          "output_type": "execute_result",
          "data": {
            "text/plain": [
              "(17, 2)"
            ]
          },
          "metadata": {
            "tags": []
          },
          "execution_count": 207
        }
      ]
    },
    {
      "cell_type": "markdown",
      "metadata": {
        "id": "CXirDjeR73Bm",
        "colab_type": "text"
      },
      "source": [
        "### Merge data"
      ]
    },
    {
      "cell_type": "code",
      "metadata": {
        "id": "8TWFDN_QZ_DM",
        "colab_type": "code",
        "outputId": "ecac4b82-2284-4a64-f66e-e457973c2fc3",
        "colab": {
          "base_uri": "https://localhost:8080/",
          "height": 34
        }
      },
      "source": [
        "votes.shape, growth.shape, deaths.shape"
      ],
      "execution_count": 208,
      "outputs": [
        {
          "output_type": "execute_result",
          "data": {
            "text/plain": [
              "((17, 4), (17, 2), (17, 2))"
            ]
          },
          "metadata": {
            "tags": []
          },
          "execution_count": 208
        }
      ]
    },
    {
      "cell_type": "code",
      "metadata": {
        "id": "xTTmNqqLfSJi",
        "colab_type": "code",
        "outputId": "89fee139-7749-4c0a-85ae-bdcbc7f9de16",
        "colab": {
          "base_uri": "https://localhost:8080/",
          "height": 104
        }
      },
      "source": [
        "votes.columns, growth.columns, deaths.columns"
      ],
      "execution_count": 209,
      "outputs": [
        {
          "output_type": "execute_result",
          "data": {
            "text/plain": [
              "(Index(['Year', 'Incumbent Party Candidate', 'Other Candidate',\n",
              "        'Incumbent Party Vote Share'],\n",
              "       dtype='object'),\n",
              " Index(['Year', 'Average Recent Growth in Personal Incomes'], dtype='object'),\n",
              " Index(['Year', 'US Military Fatalities per Million'], dtype='object'))"
            ]
          },
          "metadata": {
            "tags": []
          },
          "execution_count": 209
        }
      ]
    },
    {
      "cell_type": "code",
      "metadata": {
        "id": "JHGs2crTfZ43",
        "colab_type": "code",
        "outputId": "028bcf4f-5376-4f0f-a5f3-893769aa113a",
        "colab": {
          "base_uri": "https://localhost:8080/",
          "height": 34
        }
      },
      "source": [
        "df = votes.merge(growth).merge(deaths).merge(unemployment_rate)\n",
        "df.shape"
      ],
      "execution_count": 210,
      "outputs": [
        {
          "output_type": "execute_result",
          "data": {
            "text/plain": [
              "(17, 7)"
            ]
          },
          "metadata": {
            "tags": []
          },
          "execution_count": 210
        }
      ]
    },
    {
      "cell_type": "code",
      "metadata": {
        "id": "MGzhihMGfp1p",
        "colab_type": "code",
        "outputId": "30edbb25-fd07-4981-a7e6-f842469732bd",
        "colab": {
          "base_uri": "https://localhost:8080/",
          "height": 576
        }
      },
      "source": [
        "df"
      ],
      "execution_count": 211,
      "outputs": [
        {
          "output_type": "execute_result",
          "data": {
            "text/html": [
              "<div>\n",
              "<style scoped>\n",
              "    .dataframe tbody tr th:only-of-type {\n",
              "        vertical-align: middle;\n",
              "    }\n",
              "\n",
              "    .dataframe tbody tr th {\n",
              "        vertical-align: top;\n",
              "    }\n",
              "\n",
              "    .dataframe thead th {\n",
              "        text-align: right;\n",
              "    }\n",
              "</style>\n",
              "<table border=\"1\" class=\"dataframe\">\n",
              "  <thead>\n",
              "    <tr style=\"text-align: right;\">\n",
              "      <th></th>\n",
              "      <th>Year</th>\n",
              "      <th>Incumbent Party Candidate</th>\n",
              "      <th>Other Candidate</th>\n",
              "      <th>Incumbent Party Vote Share</th>\n",
              "      <th>Average Recent Growth in Personal Incomes</th>\n",
              "      <th>US Military Fatalities per Million</th>\n",
              "      <th>Unrate</th>\n",
              "    </tr>\n",
              "  </thead>\n",
              "  <tbody>\n",
              "    <tr>\n",
              "      <th>0</th>\n",
              "      <td>1952</td>\n",
              "      <td>Stevenson</td>\n",
              "      <td>Eisenhower</td>\n",
              "      <td>44.60</td>\n",
              "      <td>2.40</td>\n",
              "      <td>190</td>\n",
              "      <td>3.025000</td>\n",
              "    </tr>\n",
              "    <tr>\n",
              "      <th>1</th>\n",
              "      <td>1956</td>\n",
              "      <td>Eisenhower</td>\n",
              "      <td>Stevenson</td>\n",
              "      <td>57.76</td>\n",
              "      <td>2.89</td>\n",
              "      <td>0</td>\n",
              "      <td>4.125000</td>\n",
              "    </tr>\n",
              "    <tr>\n",
              "      <th>2</th>\n",
              "      <td>1960</td>\n",
              "      <td>Nixon</td>\n",
              "      <td>Kennedy</td>\n",
              "      <td>49.91</td>\n",
              "      <td>0.85</td>\n",
              "      <td>0</td>\n",
              "      <td>5.541667</td>\n",
              "    </tr>\n",
              "    <tr>\n",
              "      <th>3</th>\n",
              "      <td>1964</td>\n",
              "      <td>Johnson</td>\n",
              "      <td>Goldwater</td>\n",
              "      <td>61.34</td>\n",
              "      <td>4.21</td>\n",
              "      <td>1</td>\n",
              "      <td>5.158333</td>\n",
              "    </tr>\n",
              "    <tr>\n",
              "      <th>4</th>\n",
              "      <td>1968</td>\n",
              "      <td>Humphrey</td>\n",
              "      <td>Nixon</td>\n",
              "      <td>49.60</td>\n",
              "      <td>3.02</td>\n",
              "      <td>146</td>\n",
              "      <td>3.558333</td>\n",
              "    </tr>\n",
              "    <tr>\n",
              "      <th>5</th>\n",
              "      <td>1972</td>\n",
              "      <td>Nixon</td>\n",
              "      <td>McGovern</td>\n",
              "      <td>61.79</td>\n",
              "      <td>3.62</td>\n",
              "      <td>0</td>\n",
              "      <td>5.600000</td>\n",
              "    </tr>\n",
              "    <tr>\n",
              "      <th>6</th>\n",
              "      <td>1976</td>\n",
              "      <td>Ford</td>\n",
              "      <td>Carter</td>\n",
              "      <td>48.95</td>\n",
              "      <td>1.08</td>\n",
              "      <td>2</td>\n",
              "      <td>7.700000</td>\n",
              "    </tr>\n",
              "    <tr>\n",
              "      <th>7</th>\n",
              "      <td>1980</td>\n",
              "      <td>Carter</td>\n",
              "      <td>Reagan</td>\n",
              "      <td>44.70</td>\n",
              "      <td>-0.39</td>\n",
              "      <td>0</td>\n",
              "      <td>7.175000</td>\n",
              "    </tr>\n",
              "    <tr>\n",
              "      <th>8</th>\n",
              "      <td>1984</td>\n",
              "      <td>Reagan</td>\n",
              "      <td>Mondale</td>\n",
              "      <td>59.17</td>\n",
              "      <td>3.86</td>\n",
              "      <td>0</td>\n",
              "      <td>7.508333</td>\n",
              "    </tr>\n",
              "    <tr>\n",
              "      <th>9</th>\n",
              "      <td>1988</td>\n",
              "      <td>Bush, Sr.</td>\n",
              "      <td>Dukakis</td>\n",
              "      <td>53.94</td>\n",
              "      <td>2.27</td>\n",
              "      <td>0</td>\n",
              "      <td>5.491667</td>\n",
              "    </tr>\n",
              "    <tr>\n",
              "      <th>10</th>\n",
              "      <td>1992</td>\n",
              "      <td>Bush, Sr.</td>\n",
              "      <td>Clinton</td>\n",
              "      <td>46.55</td>\n",
              "      <td>0.38</td>\n",
              "      <td>0</td>\n",
              "      <td>7.491667</td>\n",
              "    </tr>\n",
              "    <tr>\n",
              "      <th>11</th>\n",
              "      <td>1996</td>\n",
              "      <td>Clinton</td>\n",
              "      <td>Dole</td>\n",
              "      <td>54.74</td>\n",
              "      <td>1.04</td>\n",
              "      <td>0</td>\n",
              "      <td>5.408333</td>\n",
              "    </tr>\n",
              "    <tr>\n",
              "      <th>12</th>\n",
              "      <td>2000</td>\n",
              "      <td>Gore</td>\n",
              "      <td>Bush, Jr.</td>\n",
              "      <td>50.27</td>\n",
              "      <td>2.36</td>\n",
              "      <td>0</td>\n",
              "      <td>3.966667</td>\n",
              "    </tr>\n",
              "    <tr>\n",
              "      <th>13</th>\n",
              "      <td>2004</td>\n",
              "      <td>Bush, Jr.</td>\n",
              "      <td>Kerry</td>\n",
              "      <td>51.24</td>\n",
              "      <td>1.72</td>\n",
              "      <td>4</td>\n",
              "      <td>5.541667</td>\n",
              "    </tr>\n",
              "    <tr>\n",
              "      <th>14</th>\n",
              "      <td>2008</td>\n",
              "      <td>McCain</td>\n",
              "      <td>Obama</td>\n",
              "      <td>46.32</td>\n",
              "      <td>0.10</td>\n",
              "      <td>14</td>\n",
              "      <td>5.800000</td>\n",
              "    </tr>\n",
              "    <tr>\n",
              "      <th>15</th>\n",
              "      <td>2012</td>\n",
              "      <td>Obama</td>\n",
              "      <td>Romney</td>\n",
              "      <td>52.00</td>\n",
              "      <td>0.95</td>\n",
              "      <td>5</td>\n",
              "      <td>8.075000</td>\n",
              "    </tr>\n",
              "    <tr>\n",
              "      <th>16</th>\n",
              "      <td>2016</td>\n",
              "      <td>Clinton</td>\n",
              "      <td>Trump</td>\n",
              "      <td>48.20</td>\n",
              "      <td>0.10</td>\n",
              "      <td>5</td>\n",
              "      <td>4.875000</td>\n",
              "    </tr>\n",
              "  </tbody>\n",
              "</table>\n",
              "</div>"
            ],
            "text/plain": [
              "    Year  ...    Unrate\n",
              "0   1952  ...  3.025000\n",
              "1   1956  ...  4.125000\n",
              "2   1960  ...  5.541667\n",
              "3   1964  ...  5.158333\n",
              "4   1968  ...  3.558333\n",
              "5   1972  ...  5.600000\n",
              "6   1976  ...  7.700000\n",
              "7   1980  ...  7.175000\n",
              "8   1984  ...  7.508333\n",
              "9   1988  ...  5.491667\n",
              "10  1992  ...  7.491667\n",
              "11  1996  ...  5.408333\n",
              "12  2000  ...  3.966667\n",
              "13  2004  ...  5.541667\n",
              "14  2008  ...  5.800000\n",
              "15  2012  ...  8.075000\n",
              "16  2016  ...  4.875000\n",
              "\n",
              "[17 rows x 7 columns]"
            ]
          },
          "metadata": {
            "tags": []
          },
          "execution_count": 211
        }
      ]
    },
    {
      "cell_type": "markdown",
      "metadata": {
        "id": "GMmPjCEWTXFn",
        "colab_type": "text"
      },
      "source": [
        "## Begin with baselines for regression"
      ]
    },
    {
      "cell_type": "code",
      "metadata": {
        "id": "x9aec8nw-Ybh",
        "colab_type": "code",
        "outputId": "a976f87a-b461-4a08-8085-bde109c2db92",
        "colab": {
          "base_uri": "https://localhost:8080/",
          "height": 173
        }
      },
      "source": [
        "df['Incumbent Party Vote Share'].describe()"
      ],
      "execution_count": 212,
      "outputs": [
        {
          "output_type": "execute_result",
          "data": {
            "text/plain": [
              "count    17.000000\n",
              "mean     51.828235\n",
              "std       5.510739\n",
              "min      44.600000\n",
              "25%      48.200000\n",
              "50%      50.270000\n",
              "75%      54.740000\n",
              "max      61.790000\n",
              "Name: Incumbent Party Vote Share, dtype: float64"
            ]
          },
          "metadata": {
            "tags": []
          },
          "execution_count": 212
        }
      ]
    },
    {
      "cell_type": "code",
      "metadata": {
        "id": "2VeBnv3QgHyK",
        "colab_type": "code",
        "outputId": "85ff1f73-52fb-4323-f6f7-0b74670a32b5",
        "colab": {
          "base_uri": "https://localhost:8080/",
          "height": 283
        }
      },
      "source": [
        "%matplotlib inline\n",
        "import seaborn as sns\n",
        "sns.distplot(df['Incumbent Party Vote Share']);"
      ],
      "execution_count": 213,
      "outputs": [
        {
          "output_type": "display_data",
          "data": {
            "image/png": "[encoded data removed]",
            "text/plain": [
              "<Figure size 432x288 with 1 Axes>"
            ]
          },
          "metadata": {
            "tags": []
          }
        }
      ]
    },
    {
      "cell_type": "code",
      "metadata": {
        "id": "4A0wf4yPgu4h",
        "colab_type": "code",
        "outputId": "35bcafa2-3757-435a-9b11-09dcba83a0cd",
        "colab": {
          "base_uri": "https://localhost:8080/",
          "height": 594
        }
      },
      "source": [
        "target = 'Incumbent Party Vote Share'\n",
        "\n",
        "# This would be more typical\n",
        "mean_baseline = [df[target].mean()] * len(df)\n",
        "\n",
        "# We'll do this here for demonstration purposes\n",
        "df['Mean Baseline'] = df[target].mean()\n",
        "df['Error'] = df['Mean Baseline'] - df[target]\n",
        "df"
      ],
      "execution_count": 214,
      "outputs": [
        {
          "output_type": "execute_result",
          "data": {
            "text/html": [
              "<div>\n",
              "<style scoped>\n",
              "    .dataframe tbody tr th:only-of-type {\n",
              "        vertical-align: middle;\n",
              "    }\n",
              "\n",
              "    .dataframe tbody tr th {\n",
              "        vertical-align: top;\n",
              "    }\n",
              "\n",
              "    .dataframe thead th {\n",
              "        text-align: right;\n",
              "    }\n",
              "</style>\n",
              "<table border=\"1\" class=\"dataframe\">\n",
              "  <thead>\n",
              "    <tr style=\"text-align: right;\">\n",
              "      <th></th>\n",
              "      <th>Year</th>\n",
              "      <th>Incumbent Party Candidate</th>\n",
              "      <th>Other Candidate</th>\n",
              "      <th>Incumbent Party Vote Share</th>\n",
              "      <th>Average Recent Growth in Personal Incomes</th>\n",
              "      <th>US Military Fatalities per Million</th>\n",
              "      <th>Unrate</th>\n",
              "      <th>Mean Baseline</th>\n",
              "      <th>Error</th>\n",
              "    </tr>\n",
              "  </thead>\n",
              "  <tbody>\n",
              "    <tr>\n",
              "      <th>0</th>\n",
              "      <td>1952</td>\n",
              "      <td>Stevenson</td>\n",
              "      <td>Eisenhower</td>\n",
              "      <td>44.60</td>\n",
              "      <td>2.40</td>\n",
              "      <td>190</td>\n",
              "      <td>3.025000</td>\n",
              "      <td>51.828235</td>\n",
              "      <td>7.228235</td>\n",
              "    </tr>\n",
              "    <tr>\n",
              "      <th>1</th>\n",
              "      <td>1956</td>\n",
              "      <td>Eisenhower</td>\n",
              "      <td>Stevenson</td>\n",
              "      <td>57.76</td>\n",
              "      <td>2.89</td>\n",
              "      <td>0</td>\n",
              "      <td>4.125000</td>\n",
              "      <td>51.828235</td>\n",
              "      <td>-5.931765</td>\n",
              "    </tr>\n",
              "    <tr>\n",
              "      <th>2</th>\n",
              "      <td>1960</td>\n",
              "      <td>Nixon</td>\n",
              "      <td>Kennedy</td>\n",
              "      <td>49.91</td>\n",
              "      <td>0.85</td>\n",
              "      <td>0</td>\n",
              "      <td>5.541667</td>\n",
              "      <td>51.828235</td>\n",
              "      <td>1.918235</td>\n",
              "    </tr>\n",
              "    <tr>\n",
              "      <th>3</th>\n",
              "      <td>1964</td>\n",
              "      <td>Johnson</td>\n",
              "      <td>Goldwater</td>\n",
              "      <td>61.34</td>\n",
              "      <td>4.21</td>\n",
              "      <td>1</td>\n",
              "      <td>5.158333</td>\n",
              "      <td>51.828235</td>\n",
              "      <td>-9.511765</td>\n",
              "    </tr>\n",
              "    <tr>\n",
              "      <th>4</th>\n",
              "      <td>1968</td>\n",
              "      <td>Humphrey</td>\n",
              "      <td>Nixon</td>\n",
              "      <td>49.60</td>\n",
              "      <td>3.02</td>\n",
              "      <td>146</td>\n",
              "      <td>3.558333</td>\n",
              "      <td>51.828235</td>\n",
              "      <td>2.228235</td>\n",
              "    </tr>\n",
              "    <tr>\n",
              "      <th>5</th>\n",
              "      <td>1972</td>\n",
              "      <td>Nixon</td>\n",
              "      <td>McGovern</td>\n",
              "      <td>61.79</td>\n",
              "      <td>3.62</td>\n",
              "      <td>0</td>\n",
              "      <td>5.600000</td>\n",
              "      <td>51.828235</td>\n",
              "      <td>-9.961765</td>\n",
              "    </tr>\n",
              "    <tr>\n",
              "      <th>6</th>\n",
              "      <td>1976</td>\n",
              "      <td>Ford</td>\n",
              "      <td>Carter</td>\n",
              "      <td>48.95</td>\n",
              "      <td>1.08</td>\n",
              "      <td>2</td>\n",
              "      <td>7.700000</td>\n",
              "      <td>51.828235</td>\n",
              "      <td>2.878235</td>\n",
              "    </tr>\n",
              "    <tr>\n",
              "      <th>7</th>\n",
              "      <td>1980</td>\n",
              "      <td>Carter</td>\n",
              "      <td>Reagan</td>\n",
              "      <td>44.70</td>\n",
              "      <td>-0.39</td>\n",
              "      <td>0</td>\n",
              "      <td>7.175000</td>\n",
              "      <td>51.828235</td>\n",
              "      <td>7.128235</td>\n",
              "    </tr>\n",
              "    <tr>\n",
              "      <th>8</th>\n",
              "      <td>1984</td>\n",
              "      <td>Reagan</td>\n",
              "      <td>Mondale</td>\n",
              "      <td>59.17</td>\n",
              "      <td>3.86</td>\n",
              "      <td>0</td>\n",
              "      <td>7.508333</td>\n",
              "      <td>51.828235</td>\n",
              "      <td>-7.341765</td>\n",
              "    </tr>\n",
              "    <tr>\n",
              "      <th>9</th>\n",
              "      <td>1988</td>\n",
              "      <td>Bush, Sr.</td>\n",
              "      <td>Dukakis</td>\n",
              "      <td>53.94</td>\n",
              "      <td>2.27</td>\n",
              "      <td>0</td>\n",
              "      <td>5.491667</td>\n",
              "      <td>51.828235</td>\n",
              "      <td>-2.111765</td>\n",
              "    </tr>\n",
              "    <tr>\n",
              "      <th>10</th>\n",
              "      <td>1992</td>\n",
              "      <td>Bush, Sr.</td>\n",
              "      <td>Clinton</td>\n",
              "      <td>46.55</td>\n",
              "      <td>0.38</td>\n",
              "      <td>0</td>\n",
              "      <td>7.491667</td>\n",
              "      <td>51.828235</td>\n",
              "      <td>5.278235</td>\n",
              "    </tr>\n",
              "    <tr>\n",
              "      <th>11</th>\n",
              "      <td>1996</td>\n",
              "      <td>Clinton</td>\n",
              "      <td>Dole</td>\n",
              "      <td>54.74</td>\n",
              "      <td>1.04</td>\n",
              "      <td>0</td>\n",
              "      <td>5.408333</td>\n",
              "      <td>51.828235</td>\n",
              "      <td>-2.911765</td>\n",
              "    </tr>\n",
              "    <tr>\n",
              "      <th>12</th>\n",
              "      <td>2000</td>\n",
              "      <td>Gore</td>\n",
              "      <td>Bush, Jr.</td>\n",
              "      <td>50.27</td>\n",
              "      <td>2.36</td>\n",
              "      <td>0</td>\n",
              "      <td>3.966667</td>\n",
              "      <td>51.828235</td>\n",
              "      <td>1.558235</td>\n",
              "    </tr>\n",
              "    <tr>\n",
              "      <th>13</th>\n",
              "      <td>2004</td>\n",
              "      <td>Bush, Jr.</td>\n",
              "      <td>Kerry</td>\n",
              "      <td>51.24</td>\n",
              "      <td>1.72</td>\n",
              "      <td>4</td>\n",
              "      <td>5.541667</td>\n",
              "      <td>51.828235</td>\n",
              "      <td>0.588235</td>\n",
              "    </tr>\n",
              "    <tr>\n",
              "      <th>14</th>\n",
              "      <td>2008</td>\n",
              "      <td>McCain</td>\n",
              "      <td>Obama</td>\n",
              "      <td>46.32</td>\n",
              "      <td>0.10</td>\n",
              "      <td>14</td>\n",
              "      <td>5.800000</td>\n",
              "      <td>51.828235</td>\n",
              "      <td>5.508235</td>\n",
              "    </tr>\n",
              "    <tr>\n",
              "      <th>15</th>\n",
              "      <td>2012</td>\n",
              "      <td>Obama</td>\n",
              "      <td>Romney</td>\n",
              "      <td>52.00</td>\n",
              "      <td>0.95</td>\n",
              "      <td>5</td>\n",
              "      <td>8.075000</td>\n",
              "      <td>51.828235</td>\n",
              "      <td>-0.171765</td>\n",
              "    </tr>\n",
              "    <tr>\n",
              "      <th>16</th>\n",
              "      <td>2016</td>\n",
              "      <td>Clinton</td>\n",
              "      <td>Trump</td>\n",
              "      <td>48.20</td>\n",
              "      <td>0.10</td>\n",
              "      <td>5</td>\n",
              "      <td>4.875000</td>\n",
              "      <td>51.828235</td>\n",
              "      <td>3.628235</td>\n",
              "    </tr>\n",
              "  </tbody>\n",
              "</table>\n",
              "</div>"
            ],
            "text/plain": [
              "    Year Incumbent Party Candidate  ... Mean Baseline     Error\n",
              "0   1952                 Stevenson  ...     51.828235  7.228235\n",
              "1   1956                Eisenhower  ...     51.828235 -5.931765\n",
              "2   1960                     Nixon  ...     51.828235  1.918235\n",
              "3   1964                   Johnson  ...     51.828235 -9.511765\n",
              "4   1968                  Humphrey  ...     51.828235  2.228235\n",
              "5   1972                     Nixon  ...     51.828235 -9.961765\n",
              "6   1976                      Ford  ...     51.828235  2.878235\n",
              "7   1980                    Carter  ...     51.828235  7.128235\n",
              "8   1984                    Reagan  ...     51.828235 -7.341765\n",
              "9   1988                 Bush, Sr.  ...     51.828235 -2.111765\n",
              "10  1992                 Bush, Sr.  ...     51.828235  5.278235\n",
              "11  1996                   Clinton  ...     51.828235 -2.911765\n",
              "12  2000                      Gore  ...     51.828235  1.558235\n",
              "13  2004                 Bush, Jr.  ...     51.828235  0.588235\n",
              "14  2008                    McCain  ...     51.828235  5.508235\n",
              "15  2012                     Obama  ...     51.828235 -0.171765\n",
              "16  2016                   Clinton  ...     51.828235  3.628235\n",
              "\n",
              "[17 rows x 9 columns]"
            ]
          },
          "metadata": {
            "tags": []
          },
          "execution_count": 214
        }
      ]
    },
    {
      "cell_type": "code",
      "metadata": {
        "id": "wT5XE-Nuh-T5",
        "colab_type": "code",
        "outputId": "d686a4ab-4c44-4df2-94df-7e466e6f303e",
        "colab": {
          "base_uri": "https://localhost:8080/",
          "height": 34
        }
      },
      "source": [
        "# a wrong way\n",
        "df['Error'].sum()"
      ],
      "execution_count": 215,
      "outputs": [
        {
          "output_type": "execute_result",
          "data": {
            "text/plain": [
              "-1.4210854715202004e-14"
            ]
          },
          "metadata": {
            "tags": []
          },
          "execution_count": 215
        }
      ]
    },
    {
      "cell_type": "code",
      "metadata": {
        "id": "3GZR_IP1imIc",
        "colab_type": "code",
        "outputId": "8b0b0d1f-2ae4-4ec6-d682-68e30b7c4b3c",
        "colab": {
          "base_uri": "https://localhost:8080/",
          "height": 34
        }
      },
      "source": [
        "# a right way\n",
        "df['Absolute Error'] = df['Error'].abs()\n",
        "df['Absolute Error'].sum()"
      ],
      "execution_count": 216,
      "outputs": [
        {
          "output_type": "execute_result",
          "data": {
            "text/plain": [
              "75.88470588235293"
            ]
          },
          "metadata": {
            "tags": []
          },
          "execution_count": 216
        }
      ]
    },
    {
      "cell_type": "code",
      "metadata": {
        "id": "LEPo6ZN6i1eb",
        "colab_type": "code",
        "outputId": "e08c7072-5c7b-4d20-e447-8f2f16338153",
        "colab": {
          "base_uri": "https://localhost:8080/",
          "height": 34
        }
      },
      "source": [
        "75.88 / 17"
      ],
      "execution_count": 217,
      "outputs": [
        {
          "output_type": "execute_result",
          "data": {
            "text/plain": [
              "4.463529411764705"
            ]
          },
          "metadata": {
            "tags": []
          },
          "execution_count": 217
        }
      ]
    },
    {
      "cell_type": "code",
      "metadata": {
        "id": "8NKicWQCi5RU",
        "colab_type": "code",
        "outputId": "8b0dcf90-9067-48fd-c108-91efd06eb3e8",
        "colab": {
          "base_uri": "https://localhost:8080/",
          "height": 34
        }
      },
      "source": [
        "df['Absolute Error'].mean()"
      ],
      "execution_count": 218,
      "outputs": [
        {
          "output_type": "execute_result",
          "data": {
            "text/plain": [
              "4.463806228373703"
            ]
          },
          "metadata": {
            "tags": []
          },
          "execution_count": 218
        }
      ]
    },
    {
      "cell_type": "code",
      "metadata": {
        "id": "kVwaIbLsjAlm",
        "colab_type": "code",
        "outputId": "863f5da7-29f3-484b-8658-1e6cb0787b31",
        "colab": {
          "base_uri": "https://localhost:8080/",
          "height": 34
        }
      },
      "source": [
        "from sklearn.metrics import mean_absolute_error\n",
        "mean_absolute_error(y_true=df['Incumbent Party Vote Share'], \n",
        "                    y_pred=df['Mean Baseline'])"
      ],
      "execution_count": 219,
      "outputs": [
        {
          "output_type": "execute_result",
          "data": {
            "text/plain": [
              "4.463806228373702"
            ]
          },
          "metadata": {
            "tags": []
          },
          "execution_count": 219
        }
      ]
    },
    {
      "cell_type": "markdown",
      "metadata": {
        "id": "i3hDX7yUTbix",
        "colab_type": "text"
      },
      "source": [
        "## Use scikit-learn for linear regression, with 1 feature\n",
        "\n",
        "\n"
      ]
    },
    {
      "cell_type": "markdown",
      "metadata": {
        "id": "HFWAop61CgCq",
        "colab_type": "text"
      },
      "source": [
        "Follow the process from Jake VanderPlas, [Python Data Science Handbook, Chapter 5.2, Introducing Scikit-Learn](https://jakevdp.github.io/PythonDataScienceHandbook/05.02-introducing-scikit-learn.html), Scikit-Learn's Estimator API\n",
        "\n",
        "### Choose a class of model by importing the appropriate estimator class from Scikit-Learn\n"
      ]
    },
    {
      "cell_type": "code",
      "metadata": {
        "id": "OMbOVWEDCfmO",
        "colab_type": "code",
        "colab": {}
      },
      "source": [
        "from sklearn.linear_model import LinearRegression"
      ],
      "execution_count": 0,
      "outputs": []
    },
    {
      "cell_type": "markdown",
      "metadata": {
        "id": "vATSdu5oD5NQ",
        "colab_type": "text"
      },
      "source": [
        "### Choose model hyperparameters by instantiating this class with desired values\n",
        "\n",
        "Refer to scikit-learn documentation to see what model hyperparameters you can choose. For example: [sklearn.linear_model.LinearRegression](https://scikit-learn.org/stable/modules/generated/sklearn.linear_model.LinearRegression.html)"
      ]
    },
    {
      "cell_type": "code",
      "metadata": {
        "id": "CexmSzauEBnu",
        "colab_type": "code",
        "colab": {}
      },
      "source": [
        "model = LinearRegression()"
      ],
      "execution_count": 0,
      "outputs": []
    },
    {
      "cell_type": "markdown",
      "metadata": {
        "id": "oEsa7jtHC0L5",
        "colab_type": "text"
      },
      "source": [
        "### Arrange data into X features matrix and y target vector"
      ]
    },
    {
      "cell_type": "code",
      "metadata": {
        "id": "euIG2-5P_sdZ",
        "colab_type": "code",
        "outputId": "8ad14dcb-6960-4957-8673-a3a41dc0524d",
        "colab": {
          "base_uri": "https://localhost:8080/",
          "height": 34
        }
      },
      "source": [
        "X = df[['Average Recent Growth in Personal Incomes']]\n",
        "y = df['Incumbent Party Vote Share']\n",
        "\n",
        "type(X), type(y)"
      ],
      "execution_count": 222,
      "outputs": [
        {
          "output_type": "execute_result",
          "data": {
            "text/plain": [
              "(pandas.core.frame.DataFrame, pandas.core.series.Series)"
            ]
          },
          "metadata": {
            "tags": []
          },
          "execution_count": 222
        }
      ]
    },
    {
      "cell_type": "code",
      "metadata": {
        "id": "8LxWr3CZnz1g",
        "colab_type": "code",
        "outputId": "0d3eb70d-74ea-4417-b4e2-0ee78892a377",
        "colab": {
          "base_uri": "https://localhost:8080/",
          "height": 34
        }
      },
      "source": [
        "X.shape, y.shape"
      ],
      "execution_count": 223,
      "outputs": [
        {
          "output_type": "execute_result",
          "data": {
            "text/plain": [
              "((17, 1), (17,))"
            ]
          },
          "metadata": {
            "tags": []
          },
          "execution_count": 223
        }
      ]
    },
    {
      "cell_type": "code",
      "metadata": {
        "id": "59mSicCZoT8L",
        "colab_type": "code",
        "colab": {}
      },
      "source": [
        "features = ['Average Recent Growth in Personal Incomes']\n",
        "target = 'Incumbent Party Vote Share'\n",
        "X = df[features]\n",
        "y = df[target]"
      ],
      "execution_count": 0,
      "outputs": []
    },
    {
      "cell_type": "markdown",
      "metadata": {
        "id": "K8s3-WYWEKxN",
        "colab_type": "text"
      },
      "source": [
        "### Fit the model to your data by calling the `fit()` method of the model instance"
      ]
    },
    {
      "cell_type": "code",
      "metadata": {
        "id": "XTLnEzwUENb5",
        "colab_type": "code",
        "outputId": "25caf076-2deb-4765-ef43-cbd06b21258f",
        "colab": {
          "base_uri": "https://localhost:8080/",
          "height": 34
        }
      },
      "source": [
        "model.fit(X, y)"
      ],
      "execution_count": 225,
      "outputs": [
        {
          "output_type": "execute_result",
          "data": {
            "text/plain": [
              "LinearRegression(copy_X=True, fit_intercept=True, n_jobs=None, normalize=False)"
            ]
          },
          "metadata": {
            "tags": []
          },
          "execution_count": 225
        }
      ]
    },
    {
      "cell_type": "markdown",
      "metadata": {
        "id": "HynZZRL7ESvx",
        "colab_type": "text"
      },
      "source": [
        "### Apply the Model to new data: For supervised learning, often we predict labels for unknown data using the `predict()` method"
      ]
    },
    {
      "cell_type": "code",
      "metadata": {
        "id": "mCtwohVKERED",
        "colab_type": "code",
        "colab": {}
      },
      "source": [
        "y_pred = model.predict(X)"
      ],
      "execution_count": 0,
      "outputs": []
    },
    {
      "cell_type": "markdown",
      "metadata": {
        "id": "6l-WbivHIwHh",
        "colab_type": "text"
      },
      "source": [
        "## Use regression metric: MAE"
      ]
    },
    {
      "cell_type": "code",
      "metadata": {
        "id": "r5G7hDzGG0B0",
        "colab_type": "code",
        "outputId": "64450e47-d440-4112-b1f7-7e8a0f0989e3",
        "colab": {
          "base_uri": "https://localhost:8080/",
          "height": 34
        }
      },
      "source": [
        "mean_absolute_error(y, y_pred)"
      ],
      "execution_count": 227,
      "outputs": [
        {
          "output_type": "execute_result",
          "data": {
            "text/plain": [
              "2.5291938349608953"
            ]
          },
          "metadata": {
            "tags": []
          },
          "execution_count": 227
        }
      ]
    },
    {
      "cell_type": "code",
      "metadata": {
        "id": "PfuI9wu5FvXu",
        "colab_type": "code",
        "outputId": "433cdce1-7492-4e52-b079-93cb84b5d28f",
        "colab": {
          "base_uri": "https://localhost:8080/",
          "height": 594
        }
      },
      "source": [
        "# We won't usually add predictions back to the original dataframe as a new column, \n",
        "# But we'll do this here just for demonstration purposes\n",
        "df['Linear Regression, 1 feature'] = y_pred\n",
        "df['Error'] = df['Linear Regression, 1 feature'] - df[target]\n",
        "df['Absolute Error'] = df['Error'].abs()\n",
        "\n",
        "df"
      ],
      "execution_count": 228,
      "outputs": [
        {
          "output_type": "execute_result",
          "data": {
            "text/html": [
              "<div>\n",
              "<style scoped>\n",
              "    .dataframe tbody tr th:only-of-type {\n",
              "        vertical-align: middle;\n",
              "    }\n",
              "\n",
              "    .dataframe tbody tr th {\n",
              "        vertical-align: top;\n",
              "    }\n",
              "\n",
              "    .dataframe thead th {\n",
              "        text-align: right;\n",
              "    }\n",
              "</style>\n",
              "<table border=\"1\" class=\"dataframe\">\n",
              "  <thead>\n",
              "    <tr style=\"text-align: right;\">\n",
              "      <th></th>\n",
              "      <th>Year</th>\n",
              "      <th>Incumbent Party Candidate</th>\n",
              "      <th>Other Candidate</th>\n",
              "      <th>Incumbent Party Vote Share</th>\n",
              "      <th>Average Recent Growth in Personal Incomes</th>\n",
              "      <th>US Military Fatalities per Million</th>\n",
              "      <th>Unrate</th>\n",
              "      <th>Mean Baseline</th>\n",
              "      <th>Error</th>\n",
              "      <th>Absolute Error</th>\n",
              "      <th>Linear Regression, 1 feature</th>\n",
              "    </tr>\n",
              "  </thead>\n",
              "  <tbody>\n",
              "    <tr>\n",
              "      <th>0</th>\n",
              "      <td>1952</td>\n",
              "      <td>Stevenson</td>\n",
              "      <td>Eisenhower</td>\n",
              "      <td>44.60</td>\n",
              "      <td>2.40</td>\n",
              "      <td>190</td>\n",
              "      <td>3.025000</td>\n",
              "      <td>51.828235</td>\n",
              "      <td>9.037235</td>\n",
              "      <td>9.037235</td>\n",
              "      <td>53.637235</td>\n",
              "    </tr>\n",
              "    <tr>\n",
              "      <th>1</th>\n",
              "      <td>1956</td>\n",
              "      <td>Eisenhower</td>\n",
              "      <td>Stevenson</td>\n",
              "      <td>57.76</td>\n",
              "      <td>2.89</td>\n",
              "      <td>0</td>\n",
              "      <td>4.125000</td>\n",
              "      <td>51.828235</td>\n",
              "      <td>-2.665418</td>\n",
              "      <td>2.665418</td>\n",
              "      <td>55.094582</td>\n",
              "    </tr>\n",
              "    <tr>\n",
              "      <th>2</th>\n",
              "      <td>1960</td>\n",
              "      <td>Nixon</td>\n",
              "      <td>Kennedy</td>\n",
              "      <td>49.91</td>\n",
              "      <td>0.85</td>\n",
              "      <td>0</td>\n",
              "      <td>5.541667</td>\n",
              "      <td>51.828235</td>\n",
              "      <td>-0.882740</td>\n",
              "      <td>0.882740</td>\n",
              "      <td>49.027260</td>\n",
              "    </tr>\n",
              "    <tr>\n",
              "      <th>3</th>\n",
              "      <td>1964</td>\n",
              "      <td>Johnson</td>\n",
              "      <td>Goldwater</td>\n",
              "      <td>61.34</td>\n",
              "      <td>4.21</td>\n",
              "      <td>1</td>\n",
              "      <td>5.158333</td>\n",
              "      <td>51.828235</td>\n",
              "      <td>-2.319505</td>\n",
              "      <td>2.319505</td>\n",
              "      <td>59.020495</td>\n",
              "    </tr>\n",
              "    <tr>\n",
              "      <th>4</th>\n",
              "      <td>1968</td>\n",
              "      <td>Humphrey</td>\n",
              "      <td>Nixon</td>\n",
              "      <td>49.60</td>\n",
              "      <td>3.02</td>\n",
              "      <td>146</td>\n",
              "      <td>3.558333</td>\n",
              "      <td>51.828235</td>\n",
              "      <td>5.881225</td>\n",
              "      <td>5.881225</td>\n",
              "      <td>55.481225</td>\n",
              "    </tr>\n",
              "    <tr>\n",
              "      <th>5</th>\n",
              "      <td>1972</td>\n",
              "      <td>Nixon</td>\n",
              "      <td>McGovern</td>\n",
              "      <td>61.79</td>\n",
              "      <td>3.62</td>\n",
              "      <td>0</td>\n",
              "      <td>5.600000</td>\n",
              "      <td>51.828235</td>\n",
              "      <td>-4.524269</td>\n",
              "      <td>4.524269</td>\n",
              "      <td>57.265731</td>\n",
              "    </tr>\n",
              "    <tr>\n",
              "      <th>6</th>\n",
              "      <td>1976</td>\n",
              "      <td>Ford</td>\n",
              "      <td>Carter</td>\n",
              "      <td>48.95</td>\n",
              "      <td>1.08</td>\n",
              "      <td>2</td>\n",
              "      <td>7.700000</td>\n",
              "      <td>51.828235</td>\n",
              "      <td>0.761321</td>\n",
              "      <td>0.761321</td>\n",
              "      <td>49.711321</td>\n",
              "    </tr>\n",
              "    <tr>\n",
              "      <th>7</th>\n",
              "      <td>1980</td>\n",
              "      <td>Carter</td>\n",
              "      <td>Reagan</td>\n",
              "      <td>44.70</td>\n",
              "      <td>-0.39</td>\n",
              "      <td>0</td>\n",
              "      <td>7.175000</td>\n",
              "      <td>51.828235</td>\n",
              "      <td>0.639281</td>\n",
              "      <td>0.639281</td>\n",
              "      <td>45.339281</td>\n",
              "    </tr>\n",
              "    <tr>\n",
              "      <th>8</th>\n",
              "      <td>1984</td>\n",
              "      <td>Reagan</td>\n",
              "      <td>Mondale</td>\n",
              "      <td>59.17</td>\n",
              "      <td>3.86</td>\n",
              "      <td>0</td>\n",
              "      <td>7.508333</td>\n",
              "      <td>51.828235</td>\n",
              "      <td>-1.190467</td>\n",
              "      <td>1.190467</td>\n",
              "      <td>57.979533</td>\n",
              "    </tr>\n",
              "    <tr>\n",
              "      <th>9</th>\n",
              "      <td>1988</td>\n",
              "      <td>Bush, Sr.</td>\n",
              "      <td>Dukakis</td>\n",
              "      <td>53.94</td>\n",
              "      <td>2.27</td>\n",
              "      <td>0</td>\n",
              "      <td>5.491667</td>\n",
              "      <td>51.828235</td>\n",
              "      <td>-0.689408</td>\n",
              "      <td>0.689408</td>\n",
              "      <td>53.250592</td>\n",
              "    </tr>\n",
              "    <tr>\n",
              "      <th>10</th>\n",
              "      <td>1992</td>\n",
              "      <td>Bush, Sr.</td>\n",
              "      <td>Clinton</td>\n",
              "      <td>46.55</td>\n",
              "      <td>0.38</td>\n",
              "      <td>0</td>\n",
              "      <td>7.491667</td>\n",
              "      <td>51.828235</td>\n",
              "      <td>1.079397</td>\n",
              "      <td>1.079397</td>\n",
              "      <td>47.629397</td>\n",
              "    </tr>\n",
              "    <tr>\n",
              "      <th>11</th>\n",
              "      <td>1996</td>\n",
              "      <td>Clinton</td>\n",
              "      <td>Dole</td>\n",
              "      <td>54.74</td>\n",
              "      <td>1.04</td>\n",
              "      <td>0</td>\n",
              "      <td>5.408333</td>\n",
              "      <td>51.828235</td>\n",
              "      <td>-5.147646</td>\n",
              "      <td>5.147646</td>\n",
              "      <td>49.592354</td>\n",
              "    </tr>\n",
              "    <tr>\n",
              "      <th>12</th>\n",
              "      <td>2000</td>\n",
              "      <td>Gore</td>\n",
              "      <td>Bush, Jr.</td>\n",
              "      <td>50.27</td>\n",
              "      <td>2.36</td>\n",
              "      <td>0</td>\n",
              "      <td>3.966667</td>\n",
              "      <td>51.828235</td>\n",
              "      <td>3.248268</td>\n",
              "      <td>3.248268</td>\n",
              "      <td>53.518268</td>\n",
              "    </tr>\n",
              "    <tr>\n",
              "      <th>13</th>\n",
              "      <td>2004</td>\n",
              "      <td>Bush, Jr.</td>\n",
              "      <td>Kerry</td>\n",
              "      <td>51.24</td>\n",
              "      <td>1.72</td>\n",
              "      <td>4</td>\n",
              "      <td>5.541667</td>\n",
              "      <td>51.828235</td>\n",
              "      <td>0.374794</td>\n",
              "      <td>0.374794</td>\n",
              "      <td>51.614794</td>\n",
              "    </tr>\n",
              "    <tr>\n",
              "      <th>14</th>\n",
              "      <td>2008</td>\n",
              "      <td>McCain</td>\n",
              "      <td>Obama</td>\n",
              "      <td>46.32</td>\n",
              "      <td>0.10</td>\n",
              "      <td>14</td>\n",
              "      <td>5.800000</td>\n",
              "      <td>51.828235</td>\n",
              "      <td>0.476627</td>\n",
              "      <td>0.476627</td>\n",
              "      <td>46.796627</td>\n",
              "    </tr>\n",
              "    <tr>\n",
              "      <th>15</th>\n",
              "      <td>2012</td>\n",
              "      <td>Obama</td>\n",
              "      <td>Romney</td>\n",
              "      <td>52.00</td>\n",
              "      <td>0.95</td>\n",
              "      <td>5</td>\n",
              "      <td>8.075000</td>\n",
              "      <td>51.828235</td>\n",
              "      <td>-2.675322</td>\n",
              "      <td>2.675322</td>\n",
              "      <td>49.324678</td>\n",
              "    </tr>\n",
              "    <tr>\n",
              "      <th>16</th>\n",
              "      <td>2016</td>\n",
              "      <td>Clinton</td>\n",
              "      <td>Trump</td>\n",
              "      <td>48.20</td>\n",
              "      <td>0.10</td>\n",
              "      <td>5</td>\n",
              "      <td>4.875000</td>\n",
              "      <td>51.828235</td>\n",
              "      <td>-1.403373</td>\n",
              "      <td>1.403373</td>\n",
              "      <td>46.796627</td>\n",
              "    </tr>\n",
              "  </tbody>\n",
              "</table>\n",
              "</div>"
            ],
            "text/plain": [
              "    Year  ... Linear Regression, 1 feature\n",
              "0   1952  ...                    53.637235\n",
              "1   1956  ...                    55.094582\n",
              "2   1960  ...                    49.027260\n",
              "3   1964  ...                    59.020495\n",
              "4   1968  ...                    55.481225\n",
              "5   1972  ...                    57.265731\n",
              "6   1976  ...                    49.711321\n",
              "7   1980  ...                    45.339281\n",
              "8   1984  ...                    57.979533\n",
              "9   1988  ...                    53.250592\n",
              "10  1992  ...                    47.629397\n",
              "11  1996  ...                    49.592354\n",
              "12  2000  ...                    53.518268\n",
              "13  2004  ...                    51.614794\n",
              "14  2008  ...                    46.796627\n",
              "15  2012  ...                    49.324678\n",
              "16  2016  ...                    46.796627\n",
              "\n",
              "[17 rows x 11 columns]"
            ]
          },
          "metadata": {
            "tags": []
          },
          "execution_count": 228
        }
      ]
    },
    {
      "cell_type": "code",
      "metadata": {
        "id": "vBHdqlYBrIY3",
        "colab_type": "code",
        "outputId": "e8798039-da21-4c1a-d0a7-fbc30065f13b",
        "colab": {
          "base_uri": "https://localhost:8080/",
          "height": 283
        }
      },
      "source": [
        "ax = df.plot(x='Average Recent Growth in Personal Incomes', \n",
        "             y='Incumbent Party Vote Share', \n",
        "             kind='scatter')\n",
        "\n",
        "df.plot(x='Average Recent Growth in Personal Incomes', \n",
        "        y='Linear Regression, 1 feature', \n",
        "        kind='scatter', \n",
        "        color='orange', \n",
        "        ax=ax);"
      ],
      "execution_count": 229,
      "outputs": [
        {
          "output_type": "display_data",
          "data": {
            "image/png": "[encoded data removed]",
            "text/plain": [
              "<Figure size 432x288 with 1 Axes>"
            ]
          },
          "metadata": {
            "tags": []
          }
        }
      ]
    },
    {
      "cell_type": "code",
      "metadata": {
        "id": "cVo2GG6Lr7rx",
        "colab_type": "code",
        "outputId": "8e9be8e5-05db-4d53-ed8b-2b7511ad795f",
        "colab": {
          "base_uri": "https://localhost:8080/",
          "height": 34
        }
      },
      "source": [
        "len(y_pred)"
      ],
      "execution_count": 230,
      "outputs": [
        {
          "output_type": "execute_result",
          "data": {
            "text/plain": [
              "17"
            ]
          },
          "metadata": {
            "tags": []
          },
          "execution_count": 230
        }
      ]
    },
    {
      "cell_type": "code",
      "metadata": {
        "id": "fcdk8Dvpr82i",
        "colab_type": "code",
        "outputId": "05b455cd-ded3-458c-ca39-89a03136da49",
        "colab": {
          "base_uri": "https://localhost:8080/",
          "height": 311
        }
      },
      "source": [
        "X.values"
      ],
      "execution_count": 231,
      "outputs": [
        {
          "output_type": "execute_result",
          "data": {
            "text/plain": [
              "array([[ 2.4 ],\n",
              "       [ 2.89],\n",
              "       [ 0.85],\n",
              "       [ 4.21],\n",
              "       [ 3.02],\n",
              "       [ 3.62],\n",
              "       [ 1.08],\n",
              "       [-0.39],\n",
              "       [ 3.86],\n",
              "       [ 2.27],\n",
              "       [ 0.38],\n",
              "       [ 1.04],\n",
              "       [ 2.36],\n",
              "       [ 1.72],\n",
              "       [ 0.1 ],\n",
              "       [ 0.95],\n",
              "       [ 0.1 ]])"
            ]
          },
          "metadata": {
            "tags": []
          },
          "execution_count": 231
        }
      ]
    },
    {
      "cell_type": "code",
      "metadata": {
        "id": "WlYyzBj8r-hX",
        "colab_type": "code",
        "outputId": "2a440424-f849-42e1-c2cd-b430a1fc7829",
        "colab": {
          "base_uri": "https://localhost:8080/",
          "height": 86
        }
      },
      "source": [
        "y_pred"
      ],
      "execution_count": 232,
      "outputs": [
        {
          "output_type": "execute_result",
          "data": {
            "text/plain": [
              "array([53.63723477, 55.09458154, 49.02726028, 59.0204953 , 55.48122457,\n",
              "       57.26573082, 49.71132101, 45.33928069, 57.97953332, 53.25059175,\n",
              "       47.62939705, 49.59235393, 53.51826769, 51.61479435, 46.79662747,\n",
              "       49.32467799, 46.79662747])"
            ]
          },
          "metadata": {
            "tags": []
          },
          "execution_count": 232
        }
      ]
    },
    {
      "cell_type": "code",
      "metadata": {
        "id": "mo6h1SnMr9kP",
        "colab_type": "code",
        "outputId": "10eab8b5-45d3-4803-fff9-deb424578385",
        "colab": {
          "base_uri": "https://localhost:8080/",
          "height": 34
        }
      },
      "source": [
        "# What incumbent party vote share does the model predict for 2.4% personal income growth?\n",
        "model.predict([[2.4]])"
      ],
      "execution_count": 233,
      "outputs": [
        {
          "output_type": "execute_result",
          "data": {
            "text/plain": [
              "array([53.63723477])"
            ]
          },
          "metadata": {
            "tags": []
          },
          "execution_count": 233
        }
      ]
    },
    {
      "cell_type": "code",
      "metadata": {
        "id": "0deE38yxsU-R",
        "colab_type": "code",
        "outputId": "73946402-71a2-4278-8eaa-c576f20e5e03",
        "colab": {
          "base_uri": "https://localhost:8080/",
          "height": 34
        }
      },
      "source": [
        "# What incumbent party vote share does the model predict for 1% personal income growth?\n",
        "model.predict([[1]])"
      ],
      "execution_count": 234,
      "outputs": [
        {
          "output_type": "execute_result",
          "data": {
            "text/plain": [
              "array([49.47338685])"
            ]
          },
          "metadata": {
            "tags": []
          },
          "execution_count": 234
        }
      ]
    },
    {
      "cell_type": "code",
      "metadata": {
        "id": "yvqJeeNXseB6",
        "colab_type": "code",
        "outputId": "4accf735-d15f-4072-a0a7-a0121a0cd0eb",
        "colab": {
          "base_uri": "https://localhost:8080/",
          "height": 34
        }
      },
      "source": [
        "model.predict([[2]])"
      ],
      "execution_count": 235,
      "outputs": [
        {
          "output_type": "execute_result",
          "data": {
            "text/plain": [
              "array([52.44756393])"
            ]
          },
          "metadata": {
            "tags": []
          },
          "execution_count": 235
        }
      ]
    },
    {
      "cell_type": "code",
      "metadata": {
        "id": "MFS6YoGrsgsF",
        "colab_type": "code",
        "outputId": "b6afe7bc-0b51-4d55-9a37-b27734106501",
        "colab": {
          "base_uri": "https://localhost:8080/",
          "height": 34
        }
      },
      "source": [
        "model.predict([[3]])"
      ],
      "execution_count": 236,
      "outputs": [
        {
          "output_type": "execute_result",
          "data": {
            "text/plain": [
              "array([55.42174102])"
            ]
          },
          "metadata": {
            "tags": []
          },
          "execution_count": 236
        }
      ]
    },
    {
      "cell_type": "code",
      "metadata": {
        "id": "8ZDF3gODshuT",
        "colab_type": "code",
        "outputId": "3f1f6226-31dc-41e6-a6f0-fa6404e579d5",
        "colab": {
          "base_uri": "https://localhost:8080/",
          "height": 34
        }
      },
      "source": [
        "model.predict([[3]]) - model.predict([[2]])"
      ],
      "execution_count": 237,
      "outputs": [
        {
          "output_type": "execute_result",
          "data": {
            "text/plain": [
              "array([2.97417709])"
            ]
          },
          "metadata": {
            "tags": []
          },
          "execution_count": 237
        }
      ]
    },
    {
      "cell_type": "code",
      "metadata": {
        "id": "kFK2Ce2Hsl5J",
        "colab_type": "code",
        "outputId": "c1dbda47-c9a3-4cc7-f557-c04b4011e840",
        "colab": {
          "base_uri": "https://localhost:8080/",
          "height": 34
        }
      },
      "source": [
        "model.predict([[2]]) - model.predict([[1]])"
      ],
      "execution_count": 238,
      "outputs": [
        {
          "output_type": "execute_result",
          "data": {
            "text/plain": [
              "array([2.97417709])"
            ]
          },
          "metadata": {
            "tags": []
          },
          "execution_count": 238
        }
      ]
    },
    {
      "cell_type": "code",
      "metadata": {
        "id": "tD0A4Ey1sqOm",
        "colab_type": "code",
        "outputId": "e9e9bb06-ee70-4a32-85fa-f0f8d2e4162e",
        "colab": {
          "base_uri": "https://localhost:8080/",
          "height": 34
        }
      },
      "source": [
        "model.predict([[0]])"
      ],
      "execution_count": 239,
      "outputs": [
        {
          "output_type": "execute_result",
          "data": {
            "text/plain": [
              "array([46.49920976])"
            ]
          },
          "metadata": {
            "tags": []
          },
          "execution_count": 239
        }
      ]
    },
    {
      "cell_type": "code",
      "metadata": {
        "id": "ti7QrEZNs2Zd",
        "colab_type": "code",
        "outputId": "40ecff52-66a3-4258-c50d-57884f4c341f",
        "colab": {
          "base_uri": "https://localhost:8080/",
          "height": 34
        }
      },
      "source": [
        "model.coef_, model.intercept_"
      ],
      "execution_count": 240,
      "outputs": [
        {
          "output_type": "execute_result",
          "data": {
            "text/plain": [
              "(array([2.97417709]), 46.499209757741625)"
            ]
          },
          "metadata": {
            "tags": []
          },
          "execution_count": 240
        }
      ]
    },
    {
      "cell_type": "code",
      "metadata": {
        "id": "jIFGVWsLtFO6",
        "colab_type": "code",
        "outputId": "b305dfb7-50c4-46c9-c9aa-35192e595fb5",
        "colab": {
          "base_uri": "https://localhost:8080/",
          "height": 34
        }
      },
      "source": [
        "model.predict([[20]])"
      ],
      "execution_count": 241,
      "outputs": [
        {
          "output_type": "execute_result",
          "data": {
            "text/plain": [
              "array([105.98275153])"
            ]
          },
          "metadata": {
            "tags": []
          },
          "execution_count": 241
        }
      ]
    },
    {
      "cell_type": "code",
      "metadata": {
        "id": "3l8V9BBWtIOR",
        "colab_type": "code",
        "outputId": "4a788d5d-3e3b-4a0d-d428-5d9bd84e0ee2",
        "colab": {
          "base_uri": "https://localhost:8080/",
          "height": 34
        }
      },
      "source": [
        "model.predict([[-20]])"
      ],
      "execution_count": 242,
      "outputs": [
        {
          "output_type": "execute_result",
          "data": {
            "text/plain": [
              "array([-12.98433201])"
            ]
          },
          "metadata": {
            "tags": []
          },
          "execution_count": 242
        }
      ]
    },
    {
      "cell_type": "markdown",
      "metadata": {
        "id": "N_KGM3LOHyrW",
        "colab_type": "text"
      },
      "source": [
        "## Use scikit-learn for linear regression, with 2 features"
      ]
    },
    {
      "cell_type": "markdown",
      "metadata": {
        "id": "Z_79qOeAH2ZU",
        "colab_type": "text"
      },
      "source": [
        "Follow the process from Jake VanderPlas, [Python Data Science Handbook, Chapter 5.2, Introducing Scikit-Learn](https://jakevdp.github.io/PythonDataScienceHandbook/05.02-introducing-scikit-learn.html), Scikit-Learn's Estimator API\n",
        "\n",
        "### Choose a class of model by importing the appropriate estimator class from Scikit-Learn"
      ]
    },
    {
      "cell_type": "code",
      "metadata": {
        "id": "E26qduGiH2_y",
        "colab_type": "code",
        "colab": {}
      },
      "source": [
        "from sklearn.linear_model import LinearRegression"
      ],
      "execution_count": 0,
      "outputs": []
    },
    {
      "cell_type": "markdown",
      "metadata": {
        "id": "--7julXYH3oC",
        "colab_type": "text"
      },
      "source": [
        "### Choose model hyperparameters by instantiating this class with desired values"
      ]
    },
    {
      "cell_type": "code",
      "metadata": {
        "id": "BkkoMxbsIXLR",
        "colab_type": "code",
        "colab": {}
      },
      "source": [
        "model = LinearRegression()"
      ],
      "execution_count": 0,
      "outputs": []
    },
    {
      "cell_type": "markdown",
      "metadata": {
        "id": "pJNRFvK9IeWU",
        "colab_type": "text"
      },
      "source": [
        "### Arrange data into X features matrix and y target vector"
      ]
    },
    {
      "cell_type": "code",
      "metadata": {
        "id": "2290BJszIgrb",
        "colab_type": "code",
        "colab": {}
      },
      "source": [
        "features = ['Average Recent Growth in Personal Incomes', \n",
        "            'Unrate']\n",
        "\n",
        "target = 'Incumbent Party Vote Share'\n",
        "\n",
        "X = df[features]\n",
        "y = df[target]"
      ],
      "execution_count": 0,
      "outputs": []
    },
    {
      "cell_type": "markdown",
      "metadata": {
        "id": "BOa5Uj4jIjDR",
        "colab_type": "text"
      },
      "source": [
        "### Fit the model to your data by calling the `fit()` method of the model instance"
      ]
    },
    {
      "cell_type": "code",
      "metadata": {
        "id": "VZAUSsY0IjWa",
        "colab_type": "code",
        "outputId": "8c0c2c5f-4af4-4b45-af9a-e0774cf9dcf7",
        "colab": {
          "base_uri": "https://localhost:8080/",
          "height": 34
        }
      },
      "source": [
        "model.fit(X, y)"
      ],
      "execution_count": 246,
      "outputs": [
        {
          "output_type": "execute_result",
          "data": {
            "text/plain": [
              "LinearRegression(copy_X=True, fit_intercept=True, n_jobs=None, normalize=False)"
            ]
          },
          "metadata": {
            "tags": []
          },
          "execution_count": 246
        }
      ]
    },
    {
      "cell_type": "markdown",
      "metadata": {
        "id": "8GEyW2B3Imr2",
        "colab_type": "text"
      },
      "source": [
        "### Apply the Model to new data: For supervised learning, often we predict labels for unknown data using the `predict()` method"
      ]
    },
    {
      "cell_type": "code",
      "metadata": {
        "id": "3ubKZVRJInLV",
        "colab_type": "code",
        "colab": {}
      },
      "source": [
        "y_pred = model.predict(X)"
      ],
      "execution_count": 0,
      "outputs": []
    },
    {
      "cell_type": "markdown",
      "metadata": {
        "id": "MDbG8jreI8Ip",
        "colab_type": "text"
      },
      "source": [
        "## Use regression metric: MAE"
      ]
    },
    {
      "cell_type": "code",
      "metadata": {
        "id": "xCs--47RI-He",
        "colab_type": "code",
        "outputId": "92ff8b2e-1ea8-4130-c2d2-70f0fdc9f709",
        "colab": {
          "base_uri": "https://localhost:8080/",
          "height": 34
        }
      },
      "source": [
        "mean_absolute_error(y, y_pred)"
      ],
      "execution_count": 248,
      "outputs": [
        {
          "output_type": "execute_result",
          "data": {
            "text/plain": [
              "2.445254761830504"
            ]
          },
          "metadata": {
            "tags": []
          },
          "execution_count": 248
        }
      ]
    },
    {
      "cell_type": "code",
      "metadata": {
        "id": "UoM9pDrRuMRM",
        "colab_type": "code",
        "outputId": "c430f2e1-6553-47dd-a1d5-9c0b7ee27874",
        "colab": {
          "base_uri": "https://localhost:8080/",
          "height": 628
        }
      },
      "source": [
        "df['Linear Regression, 2 features'] = y_pred\n",
        "df['Error'] = y_pred - df[target]\n",
        "df['Absolute Error'] = df['Error'].abs()\n",
        "df"
      ],
      "execution_count": 173,
      "outputs": [
        {
          "output_type": "execute_result",
          "data": {
            "text/html": [
              "<div>\n",
              "<style scoped>\n",
              "    .dataframe tbody tr th:only-of-type {\n",
              "        vertical-align: middle;\n",
              "    }\n",
              "\n",
              "    .dataframe tbody tr th {\n",
              "        vertical-align: top;\n",
              "    }\n",
              "\n",
              "    .dataframe thead th {\n",
              "        text-align: right;\n",
              "    }\n",
              "</style>\n",
              "<table border=\"1\" class=\"dataframe\">\n",
              "  <thead>\n",
              "    <tr style=\"text-align: right;\">\n",
              "      <th></th>\n",
              "      <th>Year</th>\n",
              "      <th>Incumbent Party Candidate</th>\n",
              "      <th>Other Candidate</th>\n",
              "      <th>Incumbent Party Vote Share</th>\n",
              "      <th>Average Recent Growth in Personal Incomes</th>\n",
              "      <th>US Military Fatalities per Million</th>\n",
              "      <th>UNRATE</th>\n",
              "      <th>Mean Baseline</th>\n",
              "      <th>Error</th>\n",
              "      <th>Absolute Error</th>\n",
              "      <th>Linear Regression, 1 feature</th>\n",
              "      <th>Linear Regression, 2 features</th>\n",
              "    </tr>\n",
              "  </thead>\n",
              "  <tbody>\n",
              "    <tr>\n",
              "      <th>0</th>\n",
              "      <td>1952</td>\n",
              "      <td>Stevenson</td>\n",
              "      <td>Eisenhower</td>\n",
              "      <td>44.60</td>\n",
              "      <td>2.40</td>\n",
              "      <td>190</td>\n",
              "      <td>3.025000</td>\n",
              "      <td>51.828235</td>\n",
              "      <td>0.247507</td>\n",
              "      <td>0.247507</td>\n",
              "      <td>53.637235</td>\n",
              "      <td>44.847507</td>\n",
              "    </tr>\n",
              "    <tr>\n",
              "      <th>1</th>\n",
              "      <td>1956</td>\n",
              "      <td>Eisenhower</td>\n",
              "      <td>Stevenson</td>\n",
              "      <td>57.76</td>\n",
              "      <td>2.89</td>\n",
              "      <td>0</td>\n",
              "      <td>4.125000</td>\n",
              "      <td>51.828235</td>\n",
              "      <td>-1.030524</td>\n",
              "      <td>1.030524</td>\n",
              "      <td>55.094582</td>\n",
              "      <td>56.729476</td>\n",
              "    </tr>\n",
              "    <tr>\n",
              "      <th>2</th>\n",
              "      <td>1960</td>\n",
              "      <td>Nixon</td>\n",
              "      <td>Kennedy</td>\n",
              "      <td>49.91</td>\n",
              "      <td>0.85</td>\n",
              "      <td>0</td>\n",
              "      <td>5.541667</td>\n",
              "      <td>51.828235</td>\n",
              "      <td>-0.129201</td>\n",
              "      <td>0.129201</td>\n",
              "      <td>49.027260</td>\n",
              "      <td>49.780799</td>\n",
              "    </tr>\n",
              "    <tr>\n",
              "      <th>3</th>\n",
              "      <td>1964</td>\n",
              "      <td>Johnson</td>\n",
              "      <td>Goldwater</td>\n",
              "      <td>61.34</td>\n",
              "      <td>4.21</td>\n",
              "      <td>1</td>\n",
              "      <td>5.158333</td>\n",
              "      <td>51.828235</td>\n",
              "      <td>-0.168074</td>\n",
              "      <td>0.168074</td>\n",
              "      <td>59.020495</td>\n",
              "      <td>61.171926</td>\n",
              "    </tr>\n",
              "    <tr>\n",
              "      <th>4</th>\n",
              "      <td>1968</td>\n",
              "      <td>Humphrey</td>\n",
              "      <td>Nixon</td>\n",
              "      <td>49.60</td>\n",
              "      <td>3.02</td>\n",
              "      <td>146</td>\n",
              "      <td>3.558333</td>\n",
              "      <td>51.828235</td>\n",
              "      <td>-0.275542</td>\n",
              "      <td>0.275542</td>\n",
              "      <td>55.481225</td>\n",
              "      <td>49.324458</td>\n",
              "    </tr>\n",
              "    <tr>\n",
              "      <th>5</th>\n",
              "      <td>1972</td>\n",
              "      <td>Nixon</td>\n",
              "      <td>McGovern</td>\n",
              "      <td>61.79</td>\n",
              "      <td>3.62</td>\n",
              "      <td>0</td>\n",
              "      <td>5.600000</td>\n",
              "      <td>51.828235</td>\n",
              "      <td>-2.573988</td>\n",
              "      <td>2.573988</td>\n",
              "      <td>57.265731</td>\n",
              "      <td>59.216012</td>\n",
              "    </tr>\n",
              "    <tr>\n",
              "      <th>6</th>\n",
              "      <td>1976</td>\n",
              "      <td>Ford</td>\n",
              "      <td>Carter</td>\n",
              "      <td>48.95</td>\n",
              "      <td>1.08</td>\n",
              "      <td>2</td>\n",
              "      <td>7.700000</td>\n",
              "      <td>51.828235</td>\n",
              "      <td>1.506724</td>\n",
              "      <td>1.506724</td>\n",
              "      <td>49.711321</td>\n",
              "      <td>50.456724</td>\n",
              "    </tr>\n",
              "    <tr>\n",
              "      <th>7</th>\n",
              "      <td>1980</td>\n",
              "      <td>Carter</td>\n",
              "      <td>Reagan</td>\n",
              "      <td>44.70</td>\n",
              "      <td>-0.39</td>\n",
              "      <td>0</td>\n",
              "      <td>7.175000</td>\n",
              "      <td>51.828235</td>\n",
              "      <td>0.857093</td>\n",
              "      <td>0.857093</td>\n",
              "      <td>45.339281</td>\n",
              "      <td>45.557093</td>\n",
              "    </tr>\n",
              "    <tr>\n",
              "      <th>8</th>\n",
              "      <td>1984</td>\n",
              "      <td>Reagan</td>\n",
              "      <td>Mondale</td>\n",
              "      <td>59.17</td>\n",
              "      <td>3.86</td>\n",
              "      <td>0</td>\n",
              "      <td>7.508333</td>\n",
              "      <td>51.828235</td>\n",
              "      <td>0.863503</td>\n",
              "      <td>0.863503</td>\n",
              "      <td>57.979533</td>\n",
              "      <td>60.033503</td>\n",
              "    </tr>\n",
              "    <tr>\n",
              "      <th>9</th>\n",
              "      <td>1988</td>\n",
              "      <td>Bush, Sr.</td>\n",
              "      <td>Dukakis</td>\n",
              "      <td>53.94</td>\n",
              "      <td>2.27</td>\n",
              "      <td>0</td>\n",
              "      <td>5.491667</td>\n",
              "      <td>51.828235</td>\n",
              "      <td>0.677623</td>\n",
              "      <td>0.677623</td>\n",
              "      <td>53.250592</td>\n",
              "      <td>54.617623</td>\n",
              "    </tr>\n",
              "    <tr>\n",
              "      <th>10</th>\n",
              "      <td>1992</td>\n",
              "      <td>Bush, Sr.</td>\n",
              "      <td>Clinton</td>\n",
              "      <td>46.55</td>\n",
              "      <td>0.38</td>\n",
              "      <td>0</td>\n",
              "      <td>7.491667</td>\n",
              "      <td>51.828235</td>\n",
              "      <td>1.629878</td>\n",
              "      <td>1.629878</td>\n",
              "      <td>47.629397</td>\n",
              "      <td>48.179878</td>\n",
              "    </tr>\n",
              "    <tr>\n",
              "      <th>11</th>\n",
              "      <td>1996</td>\n",
              "      <td>Clinton</td>\n",
              "      <td>Dole</td>\n",
              "      <td>54.74</td>\n",
              "      <td>1.04</td>\n",
              "      <td>0</td>\n",
              "      <td>5.408333</td>\n",
              "      <td>51.828235</td>\n",
              "      <td>-4.312020</td>\n",
              "      <td>4.312020</td>\n",
              "      <td>49.592354</td>\n",
              "      <td>50.427980</td>\n",
              "    </tr>\n",
              "    <tr>\n",
              "      <th>12</th>\n",
              "      <td>2000</td>\n",
              "      <td>Gore</td>\n",
              "      <td>Bush, Jr.</td>\n",
              "      <td>50.27</td>\n",
              "      <td>2.36</td>\n",
              "      <td>0</td>\n",
              "      <td>3.966667</td>\n",
              "      <td>51.828235</td>\n",
              "      <td>4.654182</td>\n",
              "      <td>4.654182</td>\n",
              "      <td>53.518268</td>\n",
              "      <td>54.924182</td>\n",
              "    </tr>\n",
              "    <tr>\n",
              "      <th>13</th>\n",
              "      <td>2004</td>\n",
              "      <td>Bush, Jr.</td>\n",
              "      <td>Kerry</td>\n",
              "      <td>51.24</td>\n",
              "      <td>1.72</td>\n",
              "      <td>4</td>\n",
              "      <td>5.541667</td>\n",
              "      <td>51.828235</td>\n",
              "      <td>1.289196</td>\n",
              "      <td>1.289196</td>\n",
              "      <td>51.614794</td>\n",
              "      <td>52.529196</td>\n",
              "    </tr>\n",
              "    <tr>\n",
              "      <th>14</th>\n",
              "      <td>2008</td>\n",
              "      <td>McCain</td>\n",
              "      <td>Obama</td>\n",
              "      <td>46.32</td>\n",
              "      <td>0.10</td>\n",
              "      <td>14</td>\n",
              "      <td>5.800000</td>\n",
              "      <td>51.828235</td>\n",
              "      <td>0.153607</td>\n",
              "      <td>0.153607</td>\n",
              "      <td>46.796627</td>\n",
              "      <td>46.473607</td>\n",
              "    </tr>\n",
              "    <tr>\n",
              "      <th>15</th>\n",
              "      <td>2012</td>\n",
              "      <td>Obama</td>\n",
              "      <td>Romney</td>\n",
              "      <td>52.00</td>\n",
              "      <td>0.95</td>\n",
              "      <td>5</td>\n",
              "      <td>8.075000</td>\n",
              "      <td>51.828235</td>\n",
              "      <td>-2.147341</td>\n",
              "      <td>2.147341</td>\n",
              "      <td>49.324678</td>\n",
              "      <td>49.852659</td>\n",
              "    </tr>\n",
              "    <tr>\n",
              "      <th>16</th>\n",
              "      <td>2016</td>\n",
              "      <td>Clinton</td>\n",
              "      <td>Trump</td>\n",
              "      <td>48.20</td>\n",
              "      <td>0.10</td>\n",
              "      <td>5</td>\n",
              "      <td>4.875000</td>\n",
              "      <td>51.828235</td>\n",
              "      <td>-1.242623</td>\n",
              "      <td>1.242623</td>\n",
              "      <td>46.796627</td>\n",
              "      <td>46.957377</td>\n",
              "    </tr>\n",
              "  </tbody>\n",
              "</table>\n",
              "</div>"
            ],
            "text/plain": [
              "    Year  ... Linear Regression, 2 features\n",
              "0   1952  ...                     44.847507\n",
              "1   1956  ...                     56.729476\n",
              "2   1960  ...                     49.780799\n",
              "3   1964  ...                     61.171926\n",
              "4   1968  ...                     49.324458\n",
              "5   1972  ...                     59.216012\n",
              "6   1976  ...                     50.456724\n",
              "7   1980  ...                     45.557093\n",
              "8   1984  ...                     60.033503\n",
              "9   1988  ...                     54.617623\n",
              "10  1992  ...                     48.179878\n",
              "11  1996  ...                     50.427980\n",
              "12  2000  ...                     54.924182\n",
              "13  2004  ...                     52.529196\n",
              "14  2008  ...                     46.473607\n",
              "15  2012  ...                     49.852659\n",
              "16  2016  ...                     46.957377\n",
              "\n",
              "[17 rows x 12 columns]"
            ]
          },
          "metadata": {
            "tags": []
          },
          "execution_count": 173
        }
      ]
    },
    {
      "cell_type": "markdown",
      "metadata": {
        "id": "LQ-D8LNCUJsb",
        "colab_type": "text"
      },
      "source": [
        "## Do test-train split\n",
        "\n",
        "[Nate Silver's post on economic elections models](https://fivethirtyeight.com/features/what-do-economic-models-really-tell-us-about-elections/) discusses out-of-sample testing.\n"
      ]
    },
    {
      "cell_type": "code",
      "metadata": {
        "id": "7N8dQSBOUPLF",
        "colab_type": "code",
        "outputId": "93190a7d-c699-4906-ee6e-65cd0276c4ad",
        "colab": {
          "base_uri": "https://localhost:8080/",
          "height": 34
        }
      },
      "source": [
        "train = df.query('Year < 2008')\n",
        "test  = df.query('Year >= 2008')\n",
        "X_train = train[features] \n",
        "y_train = train[target]\n",
        "X_test  = test[features]\n",
        "y_test  = test[target]\n",
        "\n",
        "X_train.shape, y_train.shape, X_test.shape, y_test.shape"
      ],
      "execution_count": 174,
      "outputs": [
        {
          "output_type": "execute_result",
          "data": {
            "text/plain": [
              "((14, 2), (14,), (3, 2), (3,))"
            ]
          },
          "metadata": {
            "tags": []
          },
          "execution_count": 174
        }
      ]
    },
    {
      "cell_type": "code",
      "metadata": {
        "id": "_gC6L1owulgJ",
        "colab_type": "code",
        "outputId": "7b973f1a-0dcc-4778-a1ed-47dcc44786ac",
        "colab": {
          "base_uri": "https://localhost:8080/",
          "height": 34
        }
      },
      "source": [
        "model.fit(X_train, y_train)"
      ],
      "execution_count": 175,
      "outputs": [
        {
          "output_type": "execute_result",
          "data": {
            "text/plain": [
              "LinearRegression(copy_X=True, fit_intercept=True, n_jobs=None, normalize=False)"
            ]
          },
          "metadata": {
            "tags": []
          },
          "execution_count": 175
        }
      ]
    },
    {
      "cell_type": "code",
      "metadata": {
        "id": "QK-BSDk4vRRK",
        "colab_type": "code",
        "outputId": "49b31f93-62d9-4e85-fb4a-28cf2aa98ced",
        "colab": {
          "base_uri": "https://localhost:8080/",
          "height": 34
        }
      },
      "source": [
        "y_pred = model.predict(X_test)\n",
        "\n",
        "y_pred"
      ],
      "execution_count": 176,
      "outputs": [
        {
          "output_type": "execute_result",
          "data": {
            "text/plain": [
              "array([45.86970509, 49.39965918, 46.34811893])"
            ]
          },
          "metadata": {
            "tags": []
          },
          "execution_count": 176
        }
      ]
    },
    {
      "cell_type": "code",
      "metadata": {
        "id": "dmRXVyAAvXU-",
        "colab_type": "code",
        "outputId": "ed543529-5f7f-47b5-cca3-4263d22b871a",
        "colab": {
          "base_uri": "https://localhost:8080/",
          "height": 86
        }
      },
      "source": [
        "y_test"
      ],
      "execution_count": 177,
      "outputs": [
        {
          "output_type": "execute_result",
          "data": {
            "text/plain": [
              "14    46.32\n",
              "15    52.00\n",
              "16    48.20\n",
              "Name: Incumbent Party Vote Share, dtype: float64"
            ]
          },
          "metadata": {
            "tags": []
          },
          "execution_count": 177
        }
      ]
    },
    {
      "cell_type": "code",
      "metadata": {
        "id": "bIdEbHpfvacQ",
        "colab_type": "code",
        "colab": {}
      },
      "source": [
        "mean_absolute_error(y_test, y_pred)"
      ],
      "execution_count": 0,
      "outputs": []
    },
    {
      "cell_type": "markdown",
      "metadata": {
        "id": "uZp_TyR9Tg9A",
        "colab_type": "text"
      },
      "source": [
        "## Do leave-one-out cross-validation\n",
        "\n",
        "\n",
        "[Sebastian Raschka's chart](https://sebastianraschka.com/images/blog/2018/model-evaluation-selection-part4/model-eval-conclusions.jpg) shows that \"leave-one-out cross-validation\" is an option for small datasets."
      ]
    },
    {
      "cell_type": "code",
      "metadata": {
        "id": "avlXCUIAI-lL",
        "colab_type": "code",
        "colab": {}
      },
      "source": [
        "# Choose a class of model by importing the appropriate estimator class\n",
        "from sklearn.linear_model import LinearRegression\n",
        "\n",
        "print('Leave-One-Out Cross-Validation, Do-It-Yourself implementation:')\n",
        "\n",
        "maes = []\n",
        "\n",
        "for year in df['Year']:\n",
        "    print(f'Fit Linear Regression on all years except {year}')\n",
        "    \n",
        "    # Choose model hyperparamaters by instantiating this class\n",
        "    model = LinearRegression()\n",
        "    \n",
        "    # Arrange data into X features matrix and y target vector\n",
        "    train = df[df['Year'] != year]\n",
        "    test = df[df['Year'] == year]\n",
        "    X_train = train[features]\n",
        "    y_train = train[target]\n",
        "    X_test = test[features]\n",
        "    y_test = test[target]\n",
        "    \n",
        "    # Fit the model to your data by calling the fit() method of the estimator\n",
        "    model.fit(X_train, y_train)\n",
        "    \n",
        "    # Apply the model to new data: predict labels for unknown data using predict() method\n",
        "    y_pred = model.predict(X_test)\n",
        "    \n",
        "    mae = mean_absolute_error(y_test, y_pred)\n",
        "    maes.append(mae)\n",
        "    print(f'Absolute Error on prediction for {year} = {mae}')\n",
        "    "
      ],
      "execution_count": 0,
      "outputs": []
    },
    {
      "cell_type": "code",
      "metadata": {
        "id": "g3-BaMtOxhmc",
        "colab_type": "code",
        "colab": {}
      },
      "source": [
        "# Leave-One-Out Cross-Validation Mean Absolute Error\n",
        "pd.Series(maes).mean()"
      ],
      "execution_count": 0,
      "outputs": []
    },
    {
      "cell_type": "code",
      "metadata": {
        "id": "cL7KAhZaioOJ",
        "colab_type": "code",
        "colab": {}
      },
      "source": [
        ""
      ],
      "execution_count": 0,
      "outputs": []
    }
  ]
}