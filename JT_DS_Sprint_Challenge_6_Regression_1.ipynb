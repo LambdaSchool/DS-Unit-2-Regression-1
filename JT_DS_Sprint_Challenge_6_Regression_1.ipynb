{
  "nbformat": 4,
  "nbformat_minor": 0,
  "metadata": {
    "colab": {
      "name": "JT_DS_Sprint_Challenge_6_Regression_1.ipynb",
      "version": "0.3.2",
      "provenance": [],
      "collapsed_sections": [],
      "include_colab_link": true
    },
    "language_info": {
      "codemirror_mode": {
        "name": "ipython",
        "version": 3
      },
      "file_extension": ".py",
      "mimetype": "text/x-python",
      "name": "python",
      "nbconvert_exporter": "python",
      "pygments_lexer": "ipython3",
      "version": "3.7.1"
    },
    "kernelspec": {
      "display_name": "Python 3",
      "language": "python",
      "name": "python3"
    }
  },
  "cells": [
    {
      "cell_type": "markdown",
      "metadata": {
        "id": "view-in-github",
        "colab_type": "text"
      },
      "source": [
        "<a href=\"https://colab.research.google.com/github/jtkernan7/DS-Unit-2-Regression-1/blob/master/JT_DS_Sprint_Challenge_6_Regression_1.ipynb\" target=\"_parent\"><img src=\"https://colab.research.google.com/assets/colab-badge.svg\" alt=\"Open In Colab\"/></a>"
      ]
    },
    {
      "cell_type": "markdown",
      "metadata": {
        "id": "xym6Cd-5bui7",
        "colab_type": "text"
      },
      "source": [
        "_Lambda School Data Science, Unit 2_\n",
        " \n",
        "# Regression 1 Sprint Challenge\n",
        "\n",
        "Your Sprint Challenge has two parts.\n",
        "\n",
        "To demonstrate mastery on each part, do all the required, numbered instructions. \n",
        "\n",
        "To earn a score of \"3\" for the part, also do the stretch goals."
      ]
    },
    {
      "cell_type": "markdown",
      "metadata": {
        "id": "8Ksnn9iNbui_",
        "colab_type": "text"
      },
      "source": [
        "## Part 1. Predict avocado sales 🥑\n",
        "\n",
        "For part 1 of your challenge, you'll use historical data on avocado sales across the nation!\n",
        "\n",
        "Run this code cell to load the dataset. It has weekly sales volume (total number of avocados sold) from January 4, 2015 through March 25, 2018. The data comes directly from retailers' cash registers based on actual retail sales of Hass avocados in multiple US markets."
      ]
    },
    {
      "cell_type": "code",
      "metadata": {
        "id": "A2LdVMJibujC",
        "colab_type": "code",
        "colab": {}
      },
      "source": [
        "import pandas as pd\n",
        "avocado_url = 'https://drive.google.com/uc?export=download&id=1ljE-LhCA9CCFvSIJYJ1ewX8JmdDpfuhi'\n",
        "avocado = pd.read_csv(avocado_url)\n",
        "assert avocado.shape == (169, 2)"
      ],
      "execution_count": 0,
      "outputs": []
    },
    {
      "cell_type": "code",
      "metadata": {
        "id": "mG8wOfDdfhnm",
        "colab_type": "code",
        "colab": {
          "base_uri": "https://localhost:8080/",
          "height": 204
        },
        "outputId": "2ba739a1-6fb3-4171-ea83-f719c366d99d"
      },
      "source": [
        "avocado.tail()"
      ],
      "execution_count": 53,
      "outputs": [
        {
          "output_type": "execute_result",
          "data": {
            "text/html": [
              "<div>\n",
              "<style scoped>\n",
              "    .dataframe tbody tr th:only-of-type {\n",
              "        vertical-align: middle;\n",
              "    }\n",
              "\n",
              "    .dataframe tbody tr th {\n",
              "        vertical-align: top;\n",
              "    }\n",
              "\n",
              "    .dataframe thead th {\n",
              "        text-align: right;\n",
              "    }\n",
              "</style>\n",
              "<table border=\"1\" class=\"dataframe\">\n",
              "  <thead>\n",
              "    <tr style=\"text-align: right;\">\n",
              "      <th></th>\n",
              "      <th>Date</th>\n",
              "      <th>Total Volume</th>\n",
              "    </tr>\n",
              "  </thead>\n",
              "  <tbody>\n",
              "    <tr>\n",
              "      <th>164</th>\n",
              "      <td>2018-02-25</td>\n",
              "      <td>109231389</td>\n",
              "    </tr>\n",
              "    <tr>\n",
              "      <th>165</th>\n",
              "      <td>2018-03-04</td>\n",
              "      <td>111844876</td>\n",
              "    </tr>\n",
              "    <tr>\n",
              "      <th>166</th>\n",
              "      <td>2018-03-11</td>\n",
              "      <td>111465145</td>\n",
              "    </tr>\n",
              "    <tr>\n",
              "      <th>167</th>\n",
              "      <td>2018-03-18</td>\n",
              "      <td>113673928</td>\n",
              "    </tr>\n",
              "    <tr>\n",
              "      <th>168</th>\n",
              "      <td>2018-03-25</td>\n",
              "      <td>118268903</td>\n",
              "    </tr>\n",
              "  </tbody>\n",
              "</table>\n",
              "</div>"
            ],
            "text/plain": [
              "           Date  Total Volume\n",
              "164  2018-02-25     109231389\n",
              "165  2018-03-04     111844876\n",
              "166  2018-03-11     111465145\n",
              "167  2018-03-18     113673928\n",
              "168  2018-03-25     118268903"
            ]
          },
          "metadata": {
            "tags": []
          },
          "execution_count": 53
        }
      ]
    },
    {
      "cell_type": "code",
      "metadata": {
        "id": "UHkrljrVcGqa",
        "colab_type": "code",
        "colab": {
          "base_uri": "https://localhost:8080/",
          "height": 204
        },
        "outputId": "6aa71155-44a9-4eb4-ab0f-a8ec0c974b41"
      },
      "source": [
        "df = avocado.copy()\n",
        "df.head()"
      ],
      "execution_count": 54,
      "outputs": [
        {
          "output_type": "execute_result",
          "data": {
            "text/html": [
              "<div>\n",
              "<style scoped>\n",
              "    .dataframe tbody tr th:only-of-type {\n",
              "        vertical-align: middle;\n",
              "    }\n",
              "\n",
              "    .dataframe tbody tr th {\n",
              "        vertical-align: top;\n",
              "    }\n",
              "\n",
              "    .dataframe thead th {\n",
              "        text-align: right;\n",
              "    }\n",
              "</style>\n",
              "<table border=\"1\" class=\"dataframe\">\n",
              "  <thead>\n",
              "    <tr style=\"text-align: right;\">\n",
              "      <th></th>\n",
              "      <th>Date</th>\n",
              "      <th>Total Volume</th>\n",
              "    </tr>\n",
              "  </thead>\n",
              "  <tbody>\n",
              "    <tr>\n",
              "      <th>0</th>\n",
              "      <td>2015-01-04</td>\n",
              "      <td>84674288</td>\n",
              "    </tr>\n",
              "    <tr>\n",
              "      <th>1</th>\n",
              "      <td>2015-01-11</td>\n",
              "      <td>78555753</td>\n",
              "    </tr>\n",
              "    <tr>\n",
              "      <th>2</th>\n",
              "      <td>2015-01-18</td>\n",
              "      <td>78388735</td>\n",
              "    </tr>\n",
              "    <tr>\n",
              "      <th>3</th>\n",
              "      <td>2015-01-25</td>\n",
              "      <td>76466226</td>\n",
              "    </tr>\n",
              "    <tr>\n",
              "      <th>4</th>\n",
              "      <td>2015-02-01</td>\n",
              "      <td>119453181</td>\n",
              "    </tr>\n",
              "  </tbody>\n",
              "</table>\n",
              "</div>"
            ],
            "text/plain": [
              "         Date  Total Volume\n",
              "0  2015-01-04      84674288\n",
              "1  2015-01-11      78555753\n",
              "2  2015-01-18      78388735\n",
              "3  2015-01-25      76466226\n",
              "4  2015-02-01     119453181"
            ]
          },
          "metadata": {
            "tags": []
          },
          "execution_count": 54
        }
      ]
    },
    {
      "cell_type": "code",
      "metadata": {
        "id": "kmyT-3KhctxA",
        "colab_type": "code",
        "colab": {
          "base_uri": "https://localhost:8080/",
          "height": 204
        },
        "outputId": "e95ed1c4-1f03-4113-f249-810430ff7a5b"
      },
      "source": [
        "df['Date'] = pd.to_datetime(df['Date'])\n",
        "\n",
        "df.head()"
      ],
      "execution_count": 55,
      "outputs": [
        {
          "output_type": "execute_result",
          "data": {
            "text/html": [
              "<div>\n",
              "<style scoped>\n",
              "    .dataframe tbody tr th:only-of-type {\n",
              "        vertical-align: middle;\n",
              "    }\n",
              "\n",
              "    .dataframe tbody tr th {\n",
              "        vertical-align: top;\n",
              "    }\n",
              "\n",
              "    .dataframe thead th {\n",
              "        text-align: right;\n",
              "    }\n",
              "</style>\n",
              "<table border=\"1\" class=\"dataframe\">\n",
              "  <thead>\n",
              "    <tr style=\"text-align: right;\">\n",
              "      <th></th>\n",
              "      <th>Date</th>\n",
              "      <th>Total Volume</th>\n",
              "    </tr>\n",
              "  </thead>\n",
              "  <tbody>\n",
              "    <tr>\n",
              "      <th>0</th>\n",
              "      <td>2015-01-04</td>\n",
              "      <td>84674288</td>\n",
              "    </tr>\n",
              "    <tr>\n",
              "      <th>1</th>\n",
              "      <td>2015-01-11</td>\n",
              "      <td>78555753</td>\n",
              "    </tr>\n",
              "    <tr>\n",
              "      <th>2</th>\n",
              "      <td>2015-01-18</td>\n",
              "      <td>78388735</td>\n",
              "    </tr>\n",
              "    <tr>\n",
              "      <th>3</th>\n",
              "      <td>2015-01-25</td>\n",
              "      <td>76466226</td>\n",
              "    </tr>\n",
              "    <tr>\n",
              "      <th>4</th>\n",
              "      <td>2015-02-01</td>\n",
              "      <td>119453181</td>\n",
              "    </tr>\n",
              "  </tbody>\n",
              "</table>\n",
              "</div>"
            ],
            "text/plain": [
              "        Date  Total Volume\n",
              "0 2015-01-04      84674288\n",
              "1 2015-01-11      78555753\n",
              "2 2015-01-18      78388735\n",
              "3 2015-01-25      76466226\n",
              "4 2015-02-01     119453181"
            ]
          },
          "metadata": {
            "tags": []
          },
          "execution_count": 55
        }
      ]
    },
    {
      "cell_type": "code",
      "metadata": {
        "id": "xp3L5NH8dCe4",
        "colab_type": "code",
        "colab": {}
      },
      "source": [
        "df = df.rename(columns={'Date': 'ds', 'Total Volume': 'y'})"
      ],
      "execution_count": 0,
      "outputs": []
    },
    {
      "cell_type": "code",
      "metadata": {
        "id": "13HijEHCddSg",
        "colab_type": "code",
        "colab": {
          "base_uri": "https://localhost:8080/",
          "height": 204
        },
        "outputId": "fbbde657-5b45-404f-c5e0-5790c200531e"
      },
      "source": [
        "df.head()"
      ],
      "execution_count": 57,
      "outputs": [
        {
          "output_type": "execute_result",
          "data": {
            "text/html": [
              "<div>\n",
              "<style scoped>\n",
              "    .dataframe tbody tr th:only-of-type {\n",
              "        vertical-align: middle;\n",
              "    }\n",
              "\n",
              "    .dataframe tbody tr th {\n",
              "        vertical-align: top;\n",
              "    }\n",
              "\n",
              "    .dataframe thead th {\n",
              "        text-align: right;\n",
              "    }\n",
              "</style>\n",
              "<table border=\"1\" class=\"dataframe\">\n",
              "  <thead>\n",
              "    <tr style=\"text-align: right;\">\n",
              "      <th></th>\n",
              "      <th>ds</th>\n",
              "      <th>y</th>\n",
              "    </tr>\n",
              "  </thead>\n",
              "  <tbody>\n",
              "    <tr>\n",
              "      <th>0</th>\n",
              "      <td>2015-01-04</td>\n",
              "      <td>84674288</td>\n",
              "    </tr>\n",
              "    <tr>\n",
              "      <th>1</th>\n",
              "      <td>2015-01-11</td>\n",
              "      <td>78555753</td>\n",
              "    </tr>\n",
              "    <tr>\n",
              "      <th>2</th>\n",
              "      <td>2015-01-18</td>\n",
              "      <td>78388735</td>\n",
              "    </tr>\n",
              "    <tr>\n",
              "      <th>3</th>\n",
              "      <td>2015-01-25</td>\n",
              "      <td>76466226</td>\n",
              "    </tr>\n",
              "    <tr>\n",
              "      <th>4</th>\n",
              "      <td>2015-02-01</td>\n",
              "      <td>119453181</td>\n",
              "    </tr>\n",
              "  </tbody>\n",
              "</table>\n",
              "</div>"
            ],
            "text/plain": [
              "          ds          y\n",
              "0 2015-01-04   84674288\n",
              "1 2015-01-11   78555753\n",
              "2 2015-01-18   78388735\n",
              "3 2015-01-25   76466226\n",
              "4 2015-02-01  119453181"
            ]
          },
          "metadata": {
            "tags": []
          },
          "execution_count": 57
        }
      ]
    },
    {
      "cell_type": "code",
      "metadata": {
        "id": "3SjsDJObeoOk",
        "colab_type": "code",
        "colab": {
          "base_uri": "https://localhost:8080/",
          "height": 204
        },
        "outputId": "69cd945e-70dc-46b5-ce70-218f0c2a9c16"
      },
      "source": [
        "df.tail()"
      ],
      "execution_count": 58,
      "outputs": [
        {
          "output_type": "execute_result",
          "data": {
            "text/html": [
              "<div>\n",
              "<style scoped>\n",
              "    .dataframe tbody tr th:only-of-type {\n",
              "        vertical-align: middle;\n",
              "    }\n",
              "\n",
              "    .dataframe tbody tr th {\n",
              "        vertical-align: top;\n",
              "    }\n",
              "\n",
              "    .dataframe thead th {\n",
              "        text-align: right;\n",
              "    }\n",
              "</style>\n",
              "<table border=\"1\" class=\"dataframe\">\n",
              "  <thead>\n",
              "    <tr style=\"text-align: right;\">\n",
              "      <th></th>\n",
              "      <th>ds</th>\n",
              "      <th>y</th>\n",
              "    </tr>\n",
              "  </thead>\n",
              "  <tbody>\n",
              "    <tr>\n",
              "      <th>164</th>\n",
              "      <td>2018-02-25</td>\n",
              "      <td>109231389</td>\n",
              "    </tr>\n",
              "    <tr>\n",
              "      <th>165</th>\n",
              "      <td>2018-03-04</td>\n",
              "      <td>111844876</td>\n",
              "    </tr>\n",
              "    <tr>\n",
              "      <th>166</th>\n",
              "      <td>2018-03-11</td>\n",
              "      <td>111465145</td>\n",
              "    </tr>\n",
              "    <tr>\n",
              "      <th>167</th>\n",
              "      <td>2018-03-18</td>\n",
              "      <td>113673928</td>\n",
              "    </tr>\n",
              "    <tr>\n",
              "      <th>168</th>\n",
              "      <td>2018-03-25</td>\n",
              "      <td>118268903</td>\n",
              "    </tr>\n",
              "  </tbody>\n",
              "</table>\n",
              "</div>"
            ],
            "text/plain": [
              "            ds          y\n",
              "164 2018-02-25  109231389\n",
              "165 2018-03-04  111844876\n",
              "166 2018-03-11  111465145\n",
              "167 2018-03-18  113673928\n",
              "168 2018-03-25  118268903"
            ]
          },
          "metadata": {
            "tags": []
          },
          "execution_count": 58
        }
      ]
    },
    {
      "cell_type": "code",
      "metadata": {
        "id": "JgSK4Ra3dPxJ",
        "colab_type": "code",
        "colab": {
          "base_uri": "https://localhost:8080/",
          "height": 68
        },
        "outputId": "6481b8f4-90a7-4758-8a9a-58a9394eb416"
      },
      "source": [
        "from fbprophet import Prophet\n",
        "m = Prophet()\n",
        "m.fit(df)"
      ],
      "execution_count": 59,
      "outputs": [
        {
          "output_type": "stream",
          "text": [
            "INFO:fbprophet:Disabling weekly seasonality. Run prophet with weekly_seasonality=True to override this.\n",
            "INFO:fbprophet:Disabling daily seasonality. Run prophet with daily_seasonality=True to override this.\n"
          ],
          "name": "stderr"
        },
        {
          "output_type": "execute_result",
          "data": {
            "text/plain": [
              "<fbprophet.forecaster.Prophet at 0x7f5a27800ba8>"
            ]
          },
          "metadata": {
            "tags": []
          },
          "execution_count": 59
        }
      ]
    },
    {
      "cell_type": "code",
      "metadata": {
        "id": "IyNzaJJbesdJ",
        "colab_type": "code",
        "colab": {
          "base_uri": "https://localhost:8080/",
          "height": 204
        },
        "outputId": "eb6181b5-8d4b-428b-a12e-536d486bac0e"
      },
      "source": [
        "future = m.make_future_dataframe(periods=730)\n",
        "future.tail()"
      ],
      "execution_count": 60,
      "outputs": [
        {
          "output_type": "execute_result",
          "data": {
            "text/html": [
              "<div>\n",
              "<style scoped>\n",
              "    .dataframe tbody tr th:only-of-type {\n",
              "        vertical-align: middle;\n",
              "    }\n",
              "\n",
              "    .dataframe tbody tr th {\n",
              "        vertical-align: top;\n",
              "    }\n",
              "\n",
              "    .dataframe thead th {\n",
              "        text-align: right;\n",
              "    }\n",
              "</style>\n",
              "<table border=\"1\" class=\"dataframe\">\n",
              "  <thead>\n",
              "    <tr style=\"text-align: right;\">\n",
              "      <th></th>\n",
              "      <th>ds</th>\n",
              "    </tr>\n",
              "  </thead>\n",
              "  <tbody>\n",
              "    <tr>\n",
              "      <th>894</th>\n",
              "      <td>2020-03-20</td>\n",
              "    </tr>\n",
              "    <tr>\n",
              "      <th>895</th>\n",
              "      <td>2020-03-21</td>\n",
              "    </tr>\n",
              "    <tr>\n",
              "      <th>896</th>\n",
              "      <td>2020-03-22</td>\n",
              "    </tr>\n",
              "    <tr>\n",
              "      <th>897</th>\n",
              "      <td>2020-03-23</td>\n",
              "    </tr>\n",
              "    <tr>\n",
              "      <th>898</th>\n",
              "      <td>2020-03-24</td>\n",
              "    </tr>\n",
              "  </tbody>\n",
              "</table>\n",
              "</div>"
            ],
            "text/plain": [
              "            ds\n",
              "894 2020-03-20\n",
              "895 2020-03-21\n",
              "896 2020-03-22\n",
              "897 2020-03-23\n",
              "898 2020-03-24"
            ]
          },
          "metadata": {
            "tags": []
          },
          "execution_count": 60
        }
      ]
    },
    {
      "cell_type": "code",
      "metadata": {
        "id": "ED1d_wFPexoR",
        "colab_type": "code",
        "colab": {}
      },
      "source": [
        "forecast = m.predict(future)"
      ],
      "execution_count": 0,
      "outputs": []
    },
    {
      "cell_type": "code",
      "metadata": {
        "id": "0C-R9hmbe0qd",
        "colab_type": "code",
        "colab": {
          "base_uri": "https://localhost:8080/",
          "height": 441
        },
        "outputId": "6752396c-9139-43b6-f7d6-45acf7ca3d57"
      },
      "source": [
        "fig1 = m.plot(forecast)\n"
      ],
      "execution_count": 62,
      "outputs": [
        {
          "output_type": "display_data",
          "data": {
            "image/png": "[encoded data removed]",
            "text/plain": [
              "<Figure size 720x432 with 1 Axes>"
            ]
          },
          "metadata": {
            "tags": []
          }
        }
      ]
    },
    {
      "cell_type": "code",
      "metadata": {
        "id": "kG8akSdDgNRm",
        "colab_type": "code",
        "colab": {
          "base_uri": "https://localhost:8080/",
          "height": 441
        },
        "outputId": "69b8c207-2e4e-4f19-8f67-cd06053c6660"
      },
      "source": [
        "fig2 = m.plot_components(forecast)\n"
      ],
      "execution_count": 63,
      "outputs": [
        {
          "output_type": "display_data",
          "data": {
            "image/png": "[encoded data removed]",
            "text/plain": [
              "<Figure size 648x432 with 2 Axes>"
            ]
          },
          "metadata": {
            "tags": []
          }
        }
      ]
    },
    {
      "cell_type": "code",
      "metadata": {
        "id": "pmHWluv0g_ai",
        "colab_type": "code",
        "colab": {
          "base_uri": "https://localhost:8080/",
          "height": 34
        },
        "outputId": "6ca238e9-94af-4416-ece5-de32128c01dc"
      },
      "source": [
        "from fbprophet.diagnostics import cross_validation\n",
        "df_cv = cross_validation(m, initial='730 days', \n",
        "                         horizon='90 days', period='45 days')"
      ],
      "execution_count": 64,
      "outputs": [
        {
          "output_type": "stream",
          "text": [
            "INFO:fbprophet:Making 8 forecasts with cutoffs between 2017-02-13 00:00:00 and 2017-12-25 00:00:00\n"
          ],
          "name": "stderr"
        }
      ]
    },
    {
      "cell_type": "code",
      "metadata": {
        "id": "K2-G4tPNhSPp",
        "colab_type": "code",
        "colab": {
          "base_uri": "https://localhost:8080/",
          "height": 204
        },
        "outputId": "f43541bb-3dd3-465d-bf54-4e11c7ea6514"
      },
      "source": [
        "\n",
        "from fbprophet.diagnostics import performance_metrics\n",
        "performance_metrics(df_cv).head()"
      ],
      "execution_count": 65,
      "outputs": [
        {
          "output_type": "execute_result",
          "data": {
            "text/html": [
              "<div>\n",
              "<style scoped>\n",
              "    .dataframe tbody tr th:only-of-type {\n",
              "        vertical-align: middle;\n",
              "    }\n",
              "\n",
              "    .dataframe tbody tr th {\n",
              "        vertical-align: top;\n",
              "    }\n",
              "\n",
              "    .dataframe thead th {\n",
              "        text-align: right;\n",
              "    }\n",
              "</style>\n",
              "<table border=\"1\" class=\"dataframe\">\n",
              "  <thead>\n",
              "    <tr style=\"text-align: right;\">\n",
              "      <th></th>\n",
              "      <th>horizon</th>\n",
              "      <th>mse</th>\n",
              "      <th>rmse</th>\n",
              "      <th>mae</th>\n",
              "      <th>mape</th>\n",
              "      <th>coverage</th>\n",
              "    </tr>\n",
              "  </thead>\n",
              "  <tbody>\n",
              "    <tr>\n",
              "      <th>0</th>\n",
              "      <td>9 days</td>\n",
              "      <td>1.158354e+14</td>\n",
              "      <td>1.076269e+07</td>\n",
              "      <td>9.050419e+06</td>\n",
              "      <td>0.102819</td>\n",
              "      <td>0.5</td>\n",
              "    </tr>\n",
              "    <tr>\n",
              "      <th>1</th>\n",
              "      <td>10 days</td>\n",
              "      <td>1.153774e+14</td>\n",
              "      <td>1.074139e+07</td>\n",
              "      <td>8.954063e+06</td>\n",
              "      <td>0.101604</td>\n",
              "      <td>0.5</td>\n",
              "    </tr>\n",
              "    <tr>\n",
              "      <th>2</th>\n",
              "      <td>11 days</td>\n",
              "      <td>8.981248e+13</td>\n",
              "      <td>9.476945e+06</td>\n",
              "      <td>7.979616e+06</td>\n",
              "      <td>0.088963</td>\n",
              "      <td>0.6</td>\n",
              "    </tr>\n",
              "    <tr>\n",
              "      <th>3</th>\n",
              "      <td>12 days</td>\n",
              "      <td>9.503492e+13</td>\n",
              "      <td>9.748585e+06</td>\n",
              "      <td>8.671075e+06</td>\n",
              "      <td>0.099294</td>\n",
              "      <td>0.6</td>\n",
              "    </tr>\n",
              "    <tr>\n",
              "      <th>4</th>\n",
              "      <td>13 days</td>\n",
              "      <td>9.551160e+13</td>\n",
              "      <td>9.773004e+06</td>\n",
              "      <td>8.876740e+06</td>\n",
              "      <td>0.098013</td>\n",
              "      <td>0.6</td>\n",
              "    </tr>\n",
              "  </tbody>\n",
              "</table>\n",
              "</div>"
            ],
            "text/plain": [
              "  horizon           mse          rmse           mae      mape  coverage\n",
              "0  9 days  1.158354e+14  1.076269e+07  9.050419e+06  0.102819       0.5\n",
              "1 10 days  1.153774e+14  1.074139e+07  8.954063e+06  0.101604       0.5\n",
              "2 11 days  8.981248e+13  9.476945e+06  7.979616e+06  0.088963       0.6\n",
              "3 12 days  9.503492e+13  9.748585e+06  8.671075e+06  0.099294       0.6\n",
              "4 13 days  9.551160e+13  9.773004e+06  8.876740e+06  0.098013       0.6"
            ]
          },
          "metadata": {
            "tags": []
          },
          "execution_count": 65
        }
      ]
    },
    {
      "cell_type": "code",
      "metadata": {
        "id": "6YS5kahMhYjE",
        "colab_type": "code",
        "colab": {
          "base_uri": "https://localhost:8080/",
          "height": 392
        },
        "outputId": "e59f2c23-95bd-43e1-acbe-8703cfa34a68"
      },
      "source": [
        "from fbprophet.plot import plot_cross_validation_metric\n",
        "fig = plot_cross_validation_metric(df_cv, metric='mape')"
      ],
      "execution_count": 66,
      "outputs": [
        {
          "output_type": "display_data",
          "data": {
            "image/png": "[encoded data removed]",
            "text/plain": [
              "<Figure size 720x432 with 1 Axes>"
            ]
          },
          "metadata": {
            "tags": []
          }
        }
      ]
    },
    {
      "cell_type": "markdown",
      "metadata": {
        "id": "TFAwtvfSbujM",
        "colab_type": "text"
      },
      "source": [
        "### Required\n",
        "\n",
        "#### Use the Prophet library to:\n",
        "1. Fit a model and forecast avocado sales through March 25, 2020\n",
        "2. Plot the forecast\n",
        "3. Plot the forecast components\n",
        "4. Do time series cross-validation, with these parameters: `horizon='90 days', period='45 days', initial='730 days'`\n",
        "5. Plot the cross-validation Mean Absolute Percentage Error: `metric='mape'`\n",
        "\n",
        "_For Part 1 of this Sprint Challenge, you are **not** required to calculate or plot baselines, or do train/test split._\n",
        "\n",
        "You can be confident you've done it correctly when your plots look similar to these:\n",
        "\n",
        "<img src=\"https://i.imgur.com/PoyVGp7.png\" width=\"400\" align=\"left\">\n",
        "\n"
      ]
    },
    {
      "cell_type": "markdown",
      "metadata": {
        "id": "umnD30wIbujP",
        "colab_type": "text"
      },
      "source": [
        "### Stretch Goal\n",
        "- Adjust your forecasts with Prophet's options for changepoints, holidays, and fourier order. Improve the cross-validation MAPE."
      ]
    },
    {
      "cell_type": "code",
      "metadata": {
        "id": "7HGXU1zRbujS",
        "colab_type": "code",
        "colab": {}
      },
      "source": [
        ""
      ],
      "execution_count": 0,
      "outputs": []
    },
    {
      "cell_type": "markdown",
      "metadata": {
        "id": "YBS5-Swlbujb",
        "colab_type": "text"
      },
      "source": [
        "## Part 2. Predict NYC apartment rent 🏠💸\n",
        "\n",
        "For part 1 of your challenge, you'll use a real-world data with rent prices for a subset of apartments in New York City!\n",
        "\n",
        "Run this code cell to load the dataset: "
      ]
    },
    {
      "cell_type": "code",
      "metadata": {
        "id": "X3P4o6-ebujd",
        "colab_type": "code",
        "colab": {}
      },
      "source": [
        "import pandas as pd\n",
        "rent_url = 'https://drive.google.com/uc?export=download&id=1lVVPmh-WYGb_0Gs_lOv22i02-150qDdZ'\n",
        "rent = pd.read_csv(rent_url)\n",
        "assert rent.shape == (48295, 7)"
      ],
      "execution_count": 0,
      "outputs": []
    },
    {
      "cell_type": "code",
      "metadata": {
        "id": "v4HrIVSNh3PR",
        "colab_type": "code",
        "colab": {}
      },
      "source": [
        "rent.head()"
      ],
      "execution_count": 0,
      "outputs": []
    },
    {
      "cell_type": "code",
      "metadata": {
        "id": "kmdaXGMGkteJ",
        "colab_type": "code",
        "colab": {}
      },
      "source": [
        "import numpy as np"
      ],
      "execution_count": 0,
      "outputs": []
    },
    {
      "cell_type": "code",
      "metadata": {
        "id": "a10FrCSdiIfT",
        "colab_type": "code",
        "colab": {}
      },
      "source": [
        "train1 = (rent['month'] == 4) | (rent['month'] == 5)\n",
        "test1  = rent['month'] == 6"
      ],
      "execution_count": 0,
      "outputs": []
    },
    {
      "cell_type": "code",
      "metadata": {
        "id": "tZSISMI3mkjX",
        "colab_type": "code",
        "colab": {}
      },
      "source": [
        "train = rent[train1]\n",
        "test = rent[test1]"
      ],
      "execution_count": 0,
      "outputs": []
    },
    {
      "cell_type": "code",
      "metadata": {
        "id": "m2e_89J9n4y6",
        "colab_type": "code",
        "colab": {
          "base_uri": "https://localhost:8080/",
          "height": 34
        },
        "outputId": "a1970b80-a3c1-48cb-8f9a-f89babf7e03d"
      },
      "source": [
        "rent['mean_baseline'] = rent['price'].mean()\n",
        "rent['price'].mean()"
      ],
      "execution_count": 118,
      "outputs": [
        {
          "output_type": "execute_result",
          "data": {
            "text/plain": [
              "3438.052034372088"
            ]
          },
          "metadata": {
            "tags": []
          },
          "execution_count": 118
        }
      ]
    },
    {
      "cell_type": "code",
      "metadata": {
        "id": "DqnhkIL9orYf",
        "colab_type": "code",
        "colab": {}
      },
      "source": [
        "from sklearn.metrics import mean_absolute_error, r2_score\n",
        "import matplotlib.pyplot as plt"
      ],
      "execution_count": 0,
      "outputs": []
    },
    {
      "cell_type": "code",
      "metadata": {
        "id": "3wwdryjQpIcc",
        "colab_type": "code",
        "colab": {}
      },
      "source": [
        "x = rent['month']\n",
        "y = rent['price']\n",
        "\n",
        "m = 0\n",
        "b = y.mean()\n",
        "y_pred = m*x + b"
      ],
      "execution_count": 0,
      "outputs": []
    },
    {
      "cell_type": "code",
      "metadata": {
        "id": "D6GL-VlOotA8",
        "colab_type": "code",
        "colab": {
          "base_uri": "https://localhost:8080/",
          "height": 51
        },
        "outputId": "b5b29b2a-675b-4d25-abca-f92deacc4187"
      },
      "source": [
        "mae = mean_absolute_error(y, y_pred)\n",
        "r2 = r2_score(y, y_pred)\n",
        "print('Mean Absolute Error:', mae)\n",
        "print('R^2:', r2)\n",
        "# answer 1 below"
      ],
      "execution_count": 121,
      "outputs": [
        {
          "output_type": "stream",
          "text": [
            "Mean Absolute Error: 1055.7857771080928\n",
            "R^2: 0.0\n"
          ],
          "name": "stdout"
        }
      ]
    },
    {
      "cell_type": "code",
      "metadata": {
        "id": "2X00QQYlpjgI",
        "colab_type": "code",
        "colab": {}
      },
      "source": [
        "rent.describe()"
      ],
      "execution_count": 0,
      "outputs": []
    },
    {
      "cell_type": "code",
      "metadata": {
        "id": "5G3mcHETqfxo",
        "colab_type": "code",
        "colab": {}
      },
      "source": [
        "from sklearn.linear_model import LinearRegression\n"
      ],
      "execution_count": 0,
      "outputs": []
    },
    {
      "cell_type": "code",
      "metadata": {
        "id": "nkLNMcS5qhGi",
        "colab_type": "code",
        "colab": {}
      },
      "source": [
        "model = LinearRegression()\n"
      ],
      "execution_count": 0,
      "outputs": []
    },
    {
      "cell_type": "code",
      "metadata": {
        "id": "XRIYz3LxqkDd",
        "colab_type": "code",
        "colab": {}
      },
      "source": [
        "features = ['bedrooms', 'bathrooms']\n",
        "target = 'price'\n",
        "\n",
        "X_train = train[features]\n",
        "y_train = train[target]\n",
        "X_test = test[features]\n",
        "y_test = test[target]"
      ],
      "execution_count": 0,
      "outputs": []
    },
    {
      "cell_type": "code",
      "metadata": {
        "id": "snecH4Veq-Uo",
        "colab_type": "code",
        "colab": {
          "base_uri": "https://localhost:8080/",
          "height": 34
        },
        "outputId": "748d4b60-0461-4cf2-8de9-8683334834a4"
      },
      "source": [
        "model.fit(X_train,y_train)\n"
      ],
      "execution_count": 125,
      "outputs": [
        {
          "output_type": "execute_result",
          "data": {
            "text/plain": [
              "LinearRegression(copy_X=True, fit_intercept=True, n_jobs=None, normalize=False)"
            ]
          },
          "metadata": {
            "tags": []
          },
          "execution_count": 125
        }
      ]
    },
    {
      "cell_type": "code",
      "metadata": {
        "id": "PgzKlEGoq_j5",
        "colab_type": "code",
        "colab": {}
      },
      "source": [
        "y_pred = model.predict(X_test)\n"
      ],
      "execution_count": 0,
      "outputs": []
    },
    {
      "cell_type": "code",
      "metadata": {
        "id": "-wfO_EKorI3H",
        "colab_type": "code",
        "colab": {
          "base_uri": "https://localhost:8080/",
          "height": 51
        },
        "outputId": "f14a631d-c75f-4447-ea7f-0eaf2ab95f86"
      },
      "source": [
        "mae = mean_absolute_error(y_test, y_pred)\n",
        "r2 = r2_score(y_test, y_pred)\n",
        "print('Mean Absolute Error:', mae)\n",
        "print('R^2:', r2)"
      ],
      "execution_count": 127,
      "outputs": [
        {
          "output_type": "stream",
          "text": [
            "Mean Absolute Error: 754.0733041489015\n",
            "R^2: 0.4613584851907725\n"
          ],
          "name": "stdout"
        }
      ]
    },
    {
      "cell_type": "code",
      "metadata": {
        "id": "dQiTV5qIrfpq",
        "colab_type": "code",
        "colab": {
          "base_uri": "https://localhost:8080/",
          "height": 34
        },
        "outputId": "8cfa779b-1b12-4956-eb2b-858fc4ff700e"
      },
      "source": [
        "model.intercept_, model.coef_, "
      ],
      "execution_count": 128,
      "outputs": [
        {
          "output_type": "execute_result",
          "data": {
            "text/plain": [
              "(994.3062975058142, array([ 420.5097168 , 1531.76264753]))"
            ]
          },
          "metadata": {
            "tags": []
          },
          "execution_count": 128
        }
      ]
    },
    {
      "cell_type": "markdown",
      "metadata": {
        "id": "CIYZlBATbujm",
        "colab_type": "text"
      },
      "source": [
        "### Required\n",
        "1. Begin with baselines for regression. Calculate the mean absolute error and $R^2$ score for a mean baseline. _(You can use the whole dataset, or a test set, either way is okay here!)_\n",
        "2. Do train/test split. Use data from April & May 2016 to train. Use data from June 2016 to test.\n",
        "3. Choose any two features.\n",
        "4. Use scikit-learn to fit a Linear Regression model on the train data.\n",
        "5. Apply the model to predict rent prices for the test data.\n",
        "6. Get regression metrics MAE and $R^2$ for the test data.\n",
        "7. Get the model's coefficients and intercept.\n",
        "\n",
        "### Stretch Goals\n",
        "- Try at least 3 different feature combinations. (You don't have to use two features, you can choose any number of features.)\n",
        "- Get regression metrics RMSE, MAE, and $R^2$, for both the train and test data."
      ]
    },
    {
      "cell_type": "code",
      "metadata": {
        "id": "AlOSGw8Dbujp",
        "colab_type": "code",
        "colab": {}
      },
      "source": [
        ""
      ],
      "execution_count": 0,
      "outputs": []
    }
  ]
}