{
  "nbformat": 4,
  "nbformat_minor": 0,
  "metadata": {
    "colab": {
      "name": "DS_Sprint_Challenge_6_Regression_1.ipynb",
      "version": "0.3.2",
      "provenance": [],
      "include_colab_link": true
    },
    "language_info": {
      "codemirror_mode": {
        "name": "ipython",
        "version": 3
      },
      "file_extension": ".py",
      "mimetype": "text/x-python",
      "name": "python",
      "nbconvert_exporter": "python",
      "pygments_lexer": "ipython3",
      "version": "3.7.1"
    },
    "kernelspec": {
      "display_name": "Python 3",
      "language": "python",
      "name": "python3"
    }
  },
  "cells": [
    {
      "cell_type": "markdown",
      "metadata": {
        "id": "view-in-github",
        "colab_type": "text"
      },
      "source": [
        "<a href=\"https://colab.research.google.com/github/dzkha/DS-Unit-2-Regression-1/blob/master/DS_Sprint_Challenge_6_Regression_1.ipynb\" target=\"_parent\"><img src=\"https://colab.research.google.com/assets/colab-badge.svg\" alt=\"Open In Colab\"/></a>"
      ]
    },
    {
      "cell_type": "markdown",
      "metadata": {
        "id": "TGx5oeDaal_5",
        "colab_type": "text"
      },
      "source": [
        "_Lambda School Data Science, Unit 2_\n",
        " \n",
        "# Regression 1 Sprint Challenge\n",
        "\n",
        "Your Sprint Challenge has two parts.\n",
        "\n",
        "To demonstrate mastery on each part, do all the required, numbered instructions. \n",
        "\n",
        "To earn a score of \"3\" for the part, also do the stretch goals."
      ]
    },
    {
      "cell_type": "markdown",
      "metadata": {
        "id": "IsdTZi8sal__",
        "colab_type": "text"
      },
      "source": [
        "## Part 1. Predict avocado sales 🥑\n",
        "\n",
        "For part 1 of your challenge, you'll use historical data on avocado sales across the nation!\n",
        "\n",
        "Run this code cell to load the dataset. It has weekly sales volume (total number of avocados sold) from January 4, 2015 through March 25, 2018. The data comes directly from retailers' cash registers based on actual retail sales of Hass avocados in multiple US markets."
      ]
    },
    {
      "cell_type": "code",
      "metadata": {
        "id": "zrYVQS7oamAE",
        "colab_type": "code",
        "colab": {}
      },
      "source": [
        "import pandas as pd\n",
        "avocado_url = 'https://drive.google.com/uc?export=download&id=1ljE-LhCA9CCFvSIJYJ1ewX8JmdDpfuhi'\n",
        "avocado = pd.read_csv(avocado_url,parse_dates=['Date'])\n",
        "assert avocado.shape == (169, 2)"
      ],
      "execution_count": 0,
      "outputs": []
    },
    {
      "cell_type": "code",
      "metadata": {
        "id": "C0xklQ9Bau8J",
        "colab_type": "code",
        "colab": {
          "base_uri": "https://localhost:8080/",
          "height": 206
        },
        "outputId": "bee4ce67-8fb2-4b32-deac-d51b72728111"
      },
      "source": [
        "avocado.head()"
      ],
      "execution_count": 6,
      "outputs": [
        {
          "output_type": "execute_result",
          "data": {
            "text/html": [
              "<div>\n",
              "<style scoped>\n",
              "    .dataframe tbody tr th:only-of-type {\n",
              "        vertical-align: middle;\n",
              "    }\n",
              "\n",
              "    .dataframe tbody tr th {\n",
              "        vertical-align: top;\n",
              "    }\n",
              "\n",
              "    .dataframe thead th {\n",
              "        text-align: right;\n",
              "    }\n",
              "</style>\n",
              "<table border=\"1\" class=\"dataframe\">\n",
              "  <thead>\n",
              "    <tr style=\"text-align: right;\">\n",
              "      <th></th>\n",
              "      <th>Date</th>\n",
              "      <th>Total Volume</th>\n",
              "    </tr>\n",
              "  </thead>\n",
              "  <tbody>\n",
              "    <tr>\n",
              "      <th>0</th>\n",
              "      <td>2015-01-04</td>\n",
              "      <td>84674288</td>\n",
              "    </tr>\n",
              "    <tr>\n",
              "      <th>1</th>\n",
              "      <td>2015-01-11</td>\n",
              "      <td>78555753</td>\n",
              "    </tr>\n",
              "    <tr>\n",
              "      <th>2</th>\n",
              "      <td>2015-01-18</td>\n",
              "      <td>78388735</td>\n",
              "    </tr>\n",
              "    <tr>\n",
              "      <th>3</th>\n",
              "      <td>2015-01-25</td>\n",
              "      <td>76466226</td>\n",
              "    </tr>\n",
              "    <tr>\n",
              "      <th>4</th>\n",
              "      <td>2015-02-01</td>\n",
              "      <td>119453181</td>\n",
              "    </tr>\n",
              "  </tbody>\n",
              "</table>\n",
              "</div>"
            ],
            "text/plain": [
              "        Date  Total Volume\n",
              "0 2015-01-04      84674288\n",
              "1 2015-01-11      78555753\n",
              "2 2015-01-18      78388735\n",
              "3 2015-01-25      76466226\n",
              "4 2015-02-01     119453181"
            ]
          },
          "metadata": {
            "tags": []
          },
          "execution_count": 6
        }
      ]
    },
    {
      "cell_type": "code",
      "metadata": {
        "id": "NgszjVsrbLqH",
        "colab_type": "code",
        "colab": {
          "base_uri": "https://localhost:8080/",
          "height": 72
        },
        "outputId": "7f6831d7-024f-476a-b5f6-17653d36529e"
      },
      "source": [
        "avocado.dtypes"
      ],
      "execution_count": 7,
      "outputs": [
        {
          "output_type": "execute_result",
          "data": {
            "text/plain": [
              "Date            datetime64[ns]\n",
              "Total Volume             int64\n",
              "dtype: object"
            ]
          },
          "metadata": {
            "tags": []
          },
          "execution_count": 7
        }
      ]
    },
    {
      "cell_type": "code",
      "metadata": {
        "id": "5YNbaCiWblix",
        "colab_type": "code",
        "colab": {}
      },
      "source": [
        "avocado = avocado.rename(columns={'Date': 'ds', 'Total Volume': 'y'})"
      ],
      "execution_count": 0,
      "outputs": []
    },
    {
      "cell_type": "code",
      "metadata": {
        "id": "ehs8_jNabCGR",
        "colab_type": "code",
        "colab": {
          "base_uri": "https://localhost:8080/",
          "height": 72
        },
        "outputId": "6bf7f86e-58fb-4c03-87c1-33f4e7c47a1c"
      },
      "source": [
        "from fbprophet import Prophet\n",
        "m = Prophet()\n",
        "m.fit(avocado)\n",
        "\n"
      ],
      "execution_count": 9,
      "outputs": [
        {
          "output_type": "stream",
          "text": [
            "INFO:fbprophet:Disabling weekly seasonality. Run prophet with weekly_seasonality=True to override this.\n",
            "INFO:fbprophet:Disabling daily seasonality. Run prophet with daily_seasonality=True to override this.\n"
          ],
          "name": "stderr"
        },
        {
          "output_type": "execute_result",
          "data": {
            "text/plain": [
              "<fbprophet.forecaster.Prophet at 0x7f250ce57eb8>"
            ]
          },
          "metadata": {
            "tags": []
          },
          "execution_count": 9
        }
      ]
    },
    {
      "cell_type": "code",
      "metadata": {
        "id": "nh-1xjNQb0Hv",
        "colab_type": "code",
        "colab": {
          "base_uri": "https://localhost:8080/",
          "height": 206
        },
        "outputId": "cf60ea06-87dc-474f-a691-0f71de8da727"
      },
      "source": [
        "future = m.make_future_dataframe(periods=731)\n",
        "future.tail()"
      ],
      "execution_count": 14,
      "outputs": [
        {
          "output_type": "execute_result",
          "data": {
            "text/html": [
              "<div>\n",
              "<style scoped>\n",
              "    .dataframe tbody tr th:only-of-type {\n",
              "        vertical-align: middle;\n",
              "    }\n",
              "\n",
              "    .dataframe tbody tr th {\n",
              "        vertical-align: top;\n",
              "    }\n",
              "\n",
              "    .dataframe thead th {\n",
              "        text-align: right;\n",
              "    }\n",
              "</style>\n",
              "<table border=\"1\" class=\"dataframe\">\n",
              "  <thead>\n",
              "    <tr style=\"text-align: right;\">\n",
              "      <th></th>\n",
              "      <th>ds</th>\n",
              "    </tr>\n",
              "  </thead>\n",
              "  <tbody>\n",
              "    <tr>\n",
              "      <th>895</th>\n",
              "      <td>2020-03-21</td>\n",
              "    </tr>\n",
              "    <tr>\n",
              "      <th>896</th>\n",
              "      <td>2020-03-22</td>\n",
              "    </tr>\n",
              "    <tr>\n",
              "      <th>897</th>\n",
              "      <td>2020-03-23</td>\n",
              "    </tr>\n",
              "    <tr>\n",
              "      <th>898</th>\n",
              "      <td>2020-03-24</td>\n",
              "    </tr>\n",
              "    <tr>\n",
              "      <th>899</th>\n",
              "      <td>2020-03-25</td>\n",
              "    </tr>\n",
              "  </tbody>\n",
              "</table>\n",
              "</div>"
            ],
            "text/plain": [
              "            ds\n",
              "895 2020-03-21\n",
              "896 2020-03-22\n",
              "897 2020-03-23\n",
              "898 2020-03-24\n",
              "899 2020-03-25"
            ]
          },
          "metadata": {
            "tags": []
          },
          "execution_count": 14
        }
      ]
    },
    {
      "cell_type": "code",
      "metadata": {
        "id": "PtOZyerAcbPa",
        "colab_type": "code",
        "colab": {
          "base_uri": "https://localhost:8080/",
          "height": 226
        },
        "outputId": "48bf8db3-b701-4b9e-e228-8ad73c1f647d"
      },
      "source": [
        "forecast = m.predict(future)\n",
        "forecast.tail()"
      ],
      "execution_count": 15,
      "outputs": [
        {
          "output_type": "execute_result",
          "data": {
            "text/html": [
              "<div>\n",
              "<style scoped>\n",
              "    .dataframe tbody tr th:only-of-type {\n",
              "        vertical-align: middle;\n",
              "    }\n",
              "\n",
              "    .dataframe tbody tr th {\n",
              "        vertical-align: top;\n",
              "    }\n",
              "\n",
              "    .dataframe thead th {\n",
              "        text-align: right;\n",
              "    }\n",
              "</style>\n",
              "<table border=\"1\" class=\"dataframe\">\n",
              "  <thead>\n",
              "    <tr style=\"text-align: right;\">\n",
              "      <th></th>\n",
              "      <th>ds</th>\n",
              "      <th>trend</th>\n",
              "      <th>yhat_lower</th>\n",
              "      <th>yhat_upper</th>\n",
              "      <th>trend_lower</th>\n",
              "      <th>trend_upper</th>\n",
              "      <th>additive_terms</th>\n",
              "      <th>additive_terms_lower</th>\n",
              "      <th>additive_terms_upper</th>\n",
              "      <th>yearly</th>\n",
              "      <th>yearly_lower</th>\n",
              "      <th>yearly_upper</th>\n",
              "      <th>multiplicative_terms</th>\n",
              "      <th>multiplicative_terms_lower</th>\n",
              "      <th>multiplicative_terms_upper</th>\n",
              "      <th>yhat</th>\n",
              "    </tr>\n",
              "  </thead>\n",
              "  <tbody>\n",
              "    <tr>\n",
              "      <th>895</th>\n",
              "      <td>2020-03-21</td>\n",
              "      <td>1.074891e+08</td>\n",
              "      <td>1.035162e+08</td>\n",
              "      <td>1.292473e+08</td>\n",
              "      <td>1.055531e+08</td>\n",
              "      <td>1.095089e+08</td>\n",
              "      <td>8.209257e+06</td>\n",
              "      <td>8.209257e+06</td>\n",
              "      <td>8.209257e+06</td>\n",
              "      <td>8.209257e+06</td>\n",
              "      <td>8.209257e+06</td>\n",
              "      <td>8.209257e+06</td>\n",
              "      <td>0.0</td>\n",
              "      <td>0.0</td>\n",
              "      <td>0.0</td>\n",
              "      <td>1.156984e+08</td>\n",
              "    </tr>\n",
              "    <tr>\n",
              "      <th>896</th>\n",
              "      <td>2020-03-22</td>\n",
              "      <td>1.075012e+08</td>\n",
              "      <td>1.026258e+08</td>\n",
              "      <td>1.282599e+08</td>\n",
              "      <td>1.055623e+08</td>\n",
              "      <td>1.095269e+08</td>\n",
              "      <td>7.849158e+06</td>\n",
              "      <td>7.849158e+06</td>\n",
              "      <td>7.849158e+06</td>\n",
              "      <td>7.849158e+06</td>\n",
              "      <td>7.849158e+06</td>\n",
              "      <td>7.849158e+06</td>\n",
              "      <td>0.0</td>\n",
              "      <td>0.0</td>\n",
              "      <td>0.0</td>\n",
              "      <td>1.153503e+08</td>\n",
              "    </tr>\n",
              "    <tr>\n",
              "      <th>897</th>\n",
              "      <td>2020-03-23</td>\n",
              "      <td>1.075132e+08</td>\n",
              "      <td>1.026010e+08</td>\n",
              "      <td>1.284350e+08</td>\n",
              "      <td>1.055719e+08</td>\n",
              "      <td>1.095444e+08</td>\n",
              "      <td>7.370433e+06</td>\n",
              "      <td>7.370433e+06</td>\n",
              "      <td>7.370433e+06</td>\n",
              "      <td>7.370433e+06</td>\n",
              "      <td>7.370433e+06</td>\n",
              "      <td>7.370433e+06</td>\n",
              "      <td>0.0</td>\n",
              "      <td>0.0</td>\n",
              "      <td>0.0</td>\n",
              "      <td>1.148836e+08</td>\n",
              "    </tr>\n",
              "    <tr>\n",
              "      <th>898</th>\n",
              "      <td>2020-03-24</td>\n",
              "      <td>1.075252e+08</td>\n",
              "      <td>1.007441e+08</td>\n",
              "      <td>1.273802e+08</td>\n",
              "      <td>1.055818e+08</td>\n",
              "      <td>1.095598e+08</td>\n",
              "      <td>6.786255e+06</td>\n",
              "      <td>6.786255e+06</td>\n",
              "      <td>6.786255e+06</td>\n",
              "      <td>6.786255e+06</td>\n",
              "      <td>6.786255e+06</td>\n",
              "      <td>6.786255e+06</td>\n",
              "      <td>0.0</td>\n",
              "      <td>0.0</td>\n",
              "      <td>0.0</td>\n",
              "      <td>1.143115e+08</td>\n",
              "    </tr>\n",
              "    <tr>\n",
              "      <th>899</th>\n",
              "      <td>2020-03-25</td>\n",
              "      <td>1.075373e+08</td>\n",
              "      <td>1.006370e+08</td>\n",
              "      <td>1.259227e+08</td>\n",
              "      <td>1.055918e+08</td>\n",
              "      <td>1.095752e+08</td>\n",
              "      <td>6.112747e+06</td>\n",
              "      <td>6.112747e+06</td>\n",
              "      <td>6.112747e+06</td>\n",
              "      <td>6.112747e+06</td>\n",
              "      <td>6.112747e+06</td>\n",
              "      <td>6.112747e+06</td>\n",
              "      <td>0.0</td>\n",
              "      <td>0.0</td>\n",
              "      <td>0.0</td>\n",
              "      <td>1.136500e+08</td>\n",
              "    </tr>\n",
              "  </tbody>\n",
              "</table>\n",
              "</div>"
            ],
            "text/plain": [
              "            ds         trend  ...  multiplicative_terms_upper          yhat\n",
              "895 2020-03-21  1.074891e+08  ...                         0.0  1.156984e+08\n",
              "896 2020-03-22  1.075012e+08  ...                         0.0  1.153503e+08\n",
              "897 2020-03-23  1.075132e+08  ...                         0.0  1.148836e+08\n",
              "898 2020-03-24  1.075252e+08  ...                         0.0  1.143115e+08\n",
              "899 2020-03-25  1.075373e+08  ...                         0.0  1.136500e+08\n",
              "\n",
              "[5 rows x 16 columns]"
            ]
          },
          "metadata": {
            "tags": []
          },
          "execution_count": 15
        }
      ]
    },
    {
      "cell_type": "code",
      "metadata": {
        "id": "R6xJKKW5cgy6",
        "colab_type": "code",
        "colab": {
          "base_uri": "https://localhost:8080/",
          "height": 464
        },
        "outputId": "5340b2d8-22ea-4a0a-873d-095f5cc1a8bf"
      },
      "source": [
        "import matplotlib.pyplot as plt\n",
        "\n",
        "fig1 = m.plot(forecast)\n",
        "plt.xlabel(\"Date\")\n",
        "plt.ylabel(\"Total Volume\")\n",
        "plt.title(\"Avocados\")"
      ],
      "execution_count": 16,
      "outputs": [
        {
          "output_type": "execute_result",
          "data": {
            "text/plain": [
              "Text(0.5, 1.0, 'Avocados')"
            ]
          },
          "metadata": {
            "tags": []
          },
          "execution_count": 16
        },
        {
          "output_type": "display_data",
          "data": {
            "image/png": "[encoded data removed]",
            "text/plain": [
              "<Figure size 720x432 with 1 Axes>"
            ]
          },
          "metadata": {
            "tags": []
          }
        }
      ]
    },
    {
      "cell_type": "code",
      "metadata": {
        "id": "IU4ipHXOdHoy",
        "colab_type": "code",
        "colab": {
          "base_uri": "https://localhost:8080/",
          "height": 441
        },
        "outputId": "5b87f239-292b-4daf-daf1-cbc16442488f"
      },
      "source": [
        "m.plot_components(forecast);"
      ],
      "execution_count": 18,
      "outputs": [
        {
          "output_type": "display_data",
          "data": {
            "image/png": "[encoded data removed]",
            "text/plain": [
              "<Figure size 648x432 with 2 Axes>"
            ]
          },
          "metadata": {
            "tags": []
          }
        }
      ]
    },
    {
      "cell_type": "code",
      "metadata": {
        "id": "c2Q2eOZteVTu",
        "colab_type": "code",
        "colab": {
          "base_uri": "https://localhost:8080/",
          "height": 35
        },
        "outputId": "ab350e77-75a4-4e5d-edf3-3530d2ccdd96"
      },
      "source": [
        "from fbprophet.diagnostics import cross_validation\n",
        "\n",
        "df_cv = cross_validation(m,initial='730 days', \n",
        "                         horizon='90 days', period='45 days')\n",
        "\n"
      ],
      "execution_count": 20,
      "outputs": [
        {
          "output_type": "stream",
          "text": [
            "INFO:fbprophet:Making 8 forecasts with cutoffs between 2017-02-13 00:00:00 and 2017-12-25 00:00:00\n"
          ],
          "name": "stderr"
        }
      ]
    },
    {
      "cell_type": "code",
      "metadata": {
        "id": "JWgDyoe_eLOu",
        "colab_type": "code",
        "colab": {
          "base_uri": "https://localhost:8080/",
          "height": 422
        },
        "outputId": "eebecb5b-56d5-4519-fb0f-16941fcae7f6"
      },
      "source": [
        "from fbprophet.plot import plot_cross_validation_metric\n",
        "\n",
        "fig = plot_cross_validation_metric(df_cv, metric='mape')\n",
        "plt.ylabel('Mean absolute percent error')\n",
        "plt.title('Avocado Horizon vs. Error')"
      ],
      "execution_count": 22,
      "outputs": [
        {
          "output_type": "execute_result",
          "data": {
            "text/plain": [
              "Text(0.5, 1.0, 'Avocado Horizon vs. Error')"
            ]
          },
          "metadata": {
            "tags": []
          },
          "execution_count": 22
        },
        {
          "output_type": "display_data",
          "data": {
            "image/png": "[encoded data removed]",
            "text/plain": [
              "<Figure size 720x432 with 1 Axes>"
            ]
          },
          "metadata": {
            "tags": []
          }
        }
      ]
    },
    {
      "cell_type": "markdown",
      "metadata": {
        "id": "AM76Pq8tamAP",
        "colab_type": "text"
      },
      "source": [
        "### Required\n",
        "\n",
        "#### Use the Prophet library to:\n",
        "1. Fit a model and forecast avocado sales through March 25, 2020\n",
        "2. Plot the forecast\n",
        "3. Plot the forecast components\n",
        "4. Do time series cross-validation, with these parameters: `horizon='90 days', period='45 days', initial='730 days'`\n",
        "5. Plot the cross-validation Mean Absolute Percentage Error: `metric='mape'`\n",
        "\n",
        "_For Part 1 of this Sprint Challenge, you are **not** required to calculate or plot baselines, or do train/test split._\n",
        "\n",
        "You can be confident you've done it correctly when your plots look similar to these:\n",
        "\n",
        "<img src=\"https://i.imgur.com/PoyVGp7.png\" width=\"400\" align=\"left\">\n",
        "\n"
      ]
    },
    {
      "cell_type": "markdown",
      "metadata": {
        "id": "iDv9PMDWamAW",
        "colab_type": "text"
      },
      "source": [
        "### Stretch Goal\n",
        "- Adjust your forecasts with Prophet's options for changepoints, holidays, and fourier order. Improve the cross-validation MAPE."
      ]
    },
    {
      "cell_type": "code",
      "metadata": {
        "id": "81QNunvdl6vc",
        "colab_type": "code",
        "colab": {
          "base_uri": "https://localhost:8080/",
          "height": 1992
        },
        "outputId": "370f9bd8-e6b8-42da-8f52-50c3db7af560"
      },
      "source": [
        "avocado.sort_values('y',ascending=False) \n",
        "\n",
        "#First week of Feb and May are the peaks"
      ],
      "execution_count": 49,
      "outputs": [
        {
          "output_type": "execute_result",
          "data": {
            "text/html": [
              "<div>\n",
              "<style scoped>\n",
              "    .dataframe tbody tr th:only-of-type {\n",
              "        vertical-align: middle;\n",
              "    }\n",
              "\n",
              "    .dataframe tbody tr th {\n",
              "        vertical-align: top;\n",
              "    }\n",
              "\n",
              "    .dataframe thead th {\n",
              "        text-align: right;\n",
              "    }\n",
              "</style>\n",
              "<table border=\"1\" class=\"dataframe\">\n",
              "  <thead>\n",
              "    <tr style=\"text-align: right;\">\n",
              "      <th></th>\n",
              "      <th>ds</th>\n",
              "      <th>y</th>\n",
              "    </tr>\n",
              "  </thead>\n",
              "  <tbody>\n",
              "    <tr>\n",
              "      <th>161</th>\n",
              "      <td>2018-02-04</td>\n",
              "      <td>169177780</td>\n",
              "    </tr>\n",
              "    <tr>\n",
              "      <th>109</th>\n",
              "      <td>2017-02-05</td>\n",
              "      <td>164404959</td>\n",
              "    </tr>\n",
              "    <tr>\n",
              "      <th>57</th>\n",
              "      <td>2016-02-07</td>\n",
              "      <td>140490152</td>\n",
              "    </tr>\n",
              "    <tr>\n",
              "      <th>122</th>\n",
              "      <td>2017-05-07</td>\n",
              "      <td>128924281</td>\n",
              "    </tr>\n",
              "    <tr>\n",
              "      <th>70</th>\n",
              "      <td>2016-05-08</td>\n",
              "      <td>126105026</td>\n",
              "    </tr>\n",
              "    <tr>\n",
              "      <th>4</th>\n",
              "      <td>2015-02-01</td>\n",
              "      <td>119453181</td>\n",
              "    </tr>\n",
              "    <tr>\n",
              "      <th>168</th>\n",
              "      <td>2018-03-25</td>\n",
              "      <td>118268903</td>\n",
              "    </tr>\n",
              "    <tr>\n",
              "      <th>162</th>\n",
              "      <td>2018-02-11</td>\n",
              "      <td>117577564</td>\n",
              "    </tr>\n",
              "    <tr>\n",
              "      <th>69</th>\n",
              "      <td>2016-05-01</td>\n",
              "      <td>117282850</td>\n",
              "    </tr>\n",
              "    <tr>\n",
              "      <th>159</th>\n",
              "      <td>2018-01-21</td>\n",
              "      <td>117087099</td>\n",
              "    </tr>\n",
              "    <tr>\n",
              "      <th>107</th>\n",
              "      <td>2017-01-22</td>\n",
              "      <td>114737623</td>\n",
              "    </tr>\n",
              "    <tr>\n",
              "      <th>167</th>\n",
              "      <td>2018-03-18</td>\n",
              "      <td>113673928</td>\n",
              "    </tr>\n",
              "    <tr>\n",
              "      <th>165</th>\n",
              "      <td>2018-03-04</td>\n",
              "      <td>111844876</td>\n",
              "    </tr>\n",
              "    <tr>\n",
              "      <th>110</th>\n",
              "      <td>2017-02-12</td>\n",
              "      <td>111793280</td>\n",
              "    </tr>\n",
              "    <tr>\n",
              "      <th>17</th>\n",
              "      <td>2015-05-03</td>\n",
              "      <td>111791789</td>\n",
              "    </tr>\n",
              "    <tr>\n",
              "      <th>166</th>\n",
              "      <td>2018-03-11</td>\n",
              "      <td>111465145</td>\n",
              "    </tr>\n",
              "    <tr>\n",
              "      <th>160</th>\n",
              "      <td>2018-01-28</td>\n",
              "      <td>109795011</td>\n",
              "    </tr>\n",
              "    <tr>\n",
              "      <th>74</th>\n",
              "      <td>2016-06-05</td>\n",
              "      <td>109265895</td>\n",
              "    </tr>\n",
              "    <tr>\n",
              "      <th>164</th>\n",
              "      <td>2018-02-25</td>\n",
              "      <td>109231389</td>\n",
              "    </tr>\n",
              "    <tr>\n",
              "      <th>73</th>\n",
              "      <td>2016-05-29</td>\n",
              "      <td>108898340</td>\n",
              "    </tr>\n",
              "    <tr>\n",
              "      <th>68</th>\n",
              "      <td>2016-04-24</td>\n",
              "      <td>108728865</td>\n",
              "    </tr>\n",
              "    <tr>\n",
              "      <th>78</th>\n",
              "      <td>2016-07-03</td>\n",
              "      <td>108538337</td>\n",
              "    </tr>\n",
              "    <tr>\n",
              "      <th>71</th>\n",
              "      <td>2016-05-15</td>\n",
              "      <td>108313371</td>\n",
              "    </tr>\n",
              "    <tr>\n",
              "      <th>131</th>\n",
              "      <td>2017-07-09</td>\n",
              "      <td>106952455</td>\n",
              "    </tr>\n",
              "    <tr>\n",
              "      <th>108</th>\n",
              "      <td>2017-01-29</td>\n",
              "      <td>106874887</td>\n",
              "    </tr>\n",
              "    <tr>\n",
              "      <th>121</th>\n",
              "      <td>2017-04-30</td>\n",
              "      <td>104715659</td>\n",
              "    </tr>\n",
              "    <tr>\n",
              "      <th>76</th>\n",
              "      <td>2016-06-19</td>\n",
              "      <td>104559964</td>\n",
              "    </tr>\n",
              "    <tr>\n",
              "      <th>128</th>\n",
              "      <td>2017-06-18</td>\n",
              "      <td>104514349</td>\n",
              "    </tr>\n",
              "    <tr>\n",
              "      <th>104</th>\n",
              "      <td>2017-01-01</td>\n",
              "      <td>104448443</td>\n",
              "    </tr>\n",
              "    <tr>\n",
              "      <th>156</th>\n",
              "      <td>2017-12-31</td>\n",
              "      <td>104152816</td>\n",
              "    </tr>\n",
              "    <tr>\n",
              "      <th>...</th>\n",
              "      <td>...</td>\n",
              "      <td>...</td>\n",
              "    </tr>\n",
              "    <tr>\n",
              "      <th>2</th>\n",
              "      <td>2015-01-18</td>\n",
              "      <td>78388735</td>\n",
              "    </tr>\n",
              "    <tr>\n",
              "      <th>48</th>\n",
              "      <td>2015-12-06</td>\n",
              "      <td>78046536</td>\n",
              "    </tr>\n",
              "    <tr>\n",
              "      <th>45</th>\n",
              "      <td>2015-11-15</td>\n",
              "      <td>77571444</td>\n",
              "    </tr>\n",
              "    <tr>\n",
              "      <th>44</th>\n",
              "      <td>2015-11-08</td>\n",
              "      <td>77453025</td>\n",
              "    </tr>\n",
              "    <tr>\n",
              "      <th>3</th>\n",
              "      <td>2015-01-25</td>\n",
              "      <td>76466226</td>\n",
              "    </tr>\n",
              "    <tr>\n",
              "      <th>39</th>\n",
              "      <td>2015-10-04</td>\n",
              "      <td>76303379</td>\n",
              "    </tr>\n",
              "    <tr>\n",
              "      <th>49</th>\n",
              "      <td>2015-12-13</td>\n",
              "      <td>76138374</td>\n",
              "    </tr>\n",
              "    <tr>\n",
              "      <th>93</th>\n",
              "      <td>2016-10-16</td>\n",
              "      <td>75891882</td>\n",
              "    </tr>\n",
              "    <tr>\n",
              "      <th>6</th>\n",
              "      <td>2015-02-15</td>\n",
              "      <td>75637110</td>\n",
              "    </tr>\n",
              "    <tr>\n",
              "      <th>38</th>\n",
              "      <td>2015-09-27</td>\n",
              "      <td>74912869</td>\n",
              "    </tr>\n",
              "    <tr>\n",
              "      <th>146</th>\n",
              "      <td>2017-10-22</td>\n",
              "      <td>73958715</td>\n",
              "    </tr>\n",
              "    <tr>\n",
              "      <th>51</th>\n",
              "      <td>2015-12-27</td>\n",
              "      <td>73806950</td>\n",
              "    </tr>\n",
              "    <tr>\n",
              "      <th>139</th>\n",
              "      <td>2017-09-03</td>\n",
              "      <td>73669192</td>\n",
              "    </tr>\n",
              "    <tr>\n",
              "      <th>140</th>\n",
              "      <td>2017-09-10</td>\n",
              "      <td>72704218</td>\n",
              "    </tr>\n",
              "    <tr>\n",
              "      <th>42</th>\n",
              "      <td>2015-10-25</td>\n",
              "      <td>70884150</td>\n",
              "    </tr>\n",
              "    <tr>\n",
              "      <th>141</th>\n",
              "      <td>2017-09-17</td>\n",
              "      <td>70063213</td>\n",
              "    </tr>\n",
              "    <tr>\n",
              "      <th>145</th>\n",
              "      <td>2017-10-15</td>\n",
              "      <td>69569130</td>\n",
              "    </tr>\n",
              "    <tr>\n",
              "      <th>98</th>\n",
              "      <td>2016-11-20</td>\n",
              "      <td>69054284</td>\n",
              "    </tr>\n",
              "    <tr>\n",
              "      <th>142</th>\n",
              "      <td>2017-09-24</td>\n",
              "      <td>68342698</td>\n",
              "    </tr>\n",
              "    <tr>\n",
              "      <th>46</th>\n",
              "      <td>2015-11-22</td>\n",
              "      <td>68287362</td>\n",
              "    </tr>\n",
              "    <tr>\n",
              "      <th>151</th>\n",
              "      <td>2017-11-26</td>\n",
              "      <td>68212524</td>\n",
              "    </tr>\n",
              "    <tr>\n",
              "      <th>143</th>\n",
              "      <td>2017-10-01</td>\n",
              "      <td>68116389</td>\n",
              "    </tr>\n",
              "    <tr>\n",
              "      <th>50</th>\n",
              "      <td>2015-12-20</td>\n",
              "      <td>68033859</td>\n",
              "    </tr>\n",
              "    <tr>\n",
              "      <th>144</th>\n",
              "      <td>2017-10-08</td>\n",
              "      <td>67810260</td>\n",
              "    </tr>\n",
              "    <tr>\n",
              "      <th>94</th>\n",
              "      <td>2016-10-23</td>\n",
              "      <td>67376245</td>\n",
              "    </tr>\n",
              "    <tr>\n",
              "      <th>97</th>\n",
              "      <td>2016-11-13</td>\n",
              "      <td>66194942</td>\n",
              "    </tr>\n",
              "    <tr>\n",
              "      <th>99</th>\n",
              "      <td>2016-11-27</td>\n",
              "      <td>63154436</td>\n",
              "    </tr>\n",
              "    <tr>\n",
              "      <th>96</th>\n",
              "      <td>2016-11-06</td>\n",
              "      <td>61805462</td>\n",
              "    </tr>\n",
              "    <tr>\n",
              "      <th>47</th>\n",
              "      <td>2015-11-29</td>\n",
              "      <td>61478330</td>\n",
              "    </tr>\n",
              "    <tr>\n",
              "      <th>95</th>\n",
              "      <td>2016-10-30</td>\n",
              "      <td>57160614</td>\n",
              "    </tr>\n",
              "  </tbody>\n",
              "</table>\n",
              "<p>169 rows × 2 columns</p>\n",
              "</div>"
            ],
            "text/plain": [
              "            ds          y\n",
              "161 2018-02-04  169177780\n",
              "109 2017-02-05  164404959\n",
              "57  2016-02-07  140490152\n",
              "122 2017-05-07  128924281\n",
              "70  2016-05-08  126105026\n",
              "4   2015-02-01  119453181\n",
              "168 2018-03-25  118268903\n",
              "162 2018-02-11  117577564\n",
              "69  2016-05-01  117282850\n",
              "159 2018-01-21  117087099\n",
              "107 2017-01-22  114737623\n",
              "167 2018-03-18  113673928\n",
              "165 2018-03-04  111844876\n",
              "110 2017-02-12  111793280\n",
              "17  2015-05-03  111791789\n",
              "166 2018-03-11  111465145\n",
              "160 2018-01-28  109795011\n",
              "74  2016-06-05  109265895\n",
              "164 2018-02-25  109231389\n",
              "73  2016-05-29  108898340\n",
              "68  2016-04-24  108728865\n",
              "78  2016-07-03  108538337\n",
              "71  2016-05-15  108313371\n",
              "131 2017-07-09  106952455\n",
              "108 2017-01-29  106874887\n",
              "121 2017-04-30  104715659\n",
              "76  2016-06-19  104559964\n",
              "128 2017-06-18  104514349\n",
              "104 2017-01-01  104448443\n",
              "156 2017-12-31  104152816\n",
              "..         ...        ...\n",
              "2   2015-01-18   78388735\n",
              "48  2015-12-06   78046536\n",
              "45  2015-11-15   77571444\n",
              "44  2015-11-08   77453025\n",
              "3   2015-01-25   76466226\n",
              "39  2015-10-04   76303379\n",
              "49  2015-12-13   76138374\n",
              "93  2016-10-16   75891882\n",
              "6   2015-02-15   75637110\n",
              "38  2015-09-27   74912869\n",
              "146 2017-10-22   73958715\n",
              "51  2015-12-27   73806950\n",
              "139 2017-09-03   73669192\n",
              "140 2017-09-10   72704218\n",
              "42  2015-10-25   70884150\n",
              "141 2017-09-17   70063213\n",
              "145 2017-10-15   69569130\n",
              "98  2016-11-20   69054284\n",
              "142 2017-09-24   68342698\n",
              "46  2015-11-22   68287362\n",
              "151 2017-11-26   68212524\n",
              "143 2017-10-01   68116389\n",
              "50  2015-12-20   68033859\n",
              "144 2017-10-08   67810260\n",
              "94  2016-10-23   67376245\n",
              "97  2016-11-13   66194942\n",
              "99  2016-11-27   63154436\n",
              "96  2016-11-06   61805462\n",
              "47  2015-11-29   61478330\n",
              "95  2016-10-30   57160614\n",
              "\n",
              "[169 rows x 2 columns]"
            ]
          },
          "metadata": {
            "tags": []
          },
          "execution_count": 49
        }
      ]
    },
    {
      "cell_type": "code",
      "metadata": {
        "id": "epNZJVfquOml",
        "colab_type": "code",
        "colab": {}
      },
      "source": [
        "avocado.sort_values('y',ascending=False) "
      ],
      "execution_count": 0,
      "outputs": []
    },
    {
      "cell_type": "code",
      "metadata": {
        "id": "JOIe0hfcnDMc",
        "colab_type": "code",
        "colab": {}
      },
      "source": [
        "holidays = pd.DataFrame({\n",
        "  'holiday': 'Feb and May',\n",
        "  'ds': pd.to_datetime(['2015-02-04','2015-05-04', '2016-02-04','2016-05-04','2017-02-04','2017-05-04',\n",
        "                       '2018-02-04','2018-05-04','2019-02-04','2019-05-04','2020-02-04','2020-05-04',], utc=True),\n",
        "  'lower_window': -3,\n",
        "  'upper_window': 3,\n",
        "})\n"
      ],
      "execution_count": 0,
      "outputs": []
    },
    {
      "cell_type": "code",
      "metadata": {
        "id": "aMQPlmOFamAZ",
        "colab_type": "code",
        "colab": {
          "base_uri": "https://localhost:8080/",
          "height": 35
        },
        "outputId": "adc56068-3608-4e0f-812a-04066c2085f4"
      },
      "source": [
        "m = Prophet(yearly_seasonality = 20,daily_seasonality=12,weekly_seasonality=20, changepoint_prior_scale=0.1,holidays=holidays,changepoint_range=0.7)\n",
        "m.fit(avocado)"
      ],
      "execution_count": 104,
      "outputs": [
        {
          "output_type": "execute_result",
          "data": {
            "text/plain": [
              "<fbprophet.forecaster.Prophet at 0x7f2501697860>"
            ]
          },
          "metadata": {
            "tags": []
          },
          "execution_count": 104
        }
      ]
    },
    {
      "cell_type": "code",
      "metadata": {
        "id": "J6knVWZFn4ei",
        "colab_type": "code",
        "colab": {
          "base_uri": "https://localhost:8080/",
          "height": 440
        },
        "outputId": "f756beca-ad6a-4272-94df-e9016a319331"
      },
      "source": [
        "df_cv = cross_validation(m,initial='730 days', \n",
        "                         horizon='90 days', period='45 days')\n",
        "fig = plot_cross_validation_metric(df_cv, metric='mape')\n",
        "plt.ylabel('Mean absolute percent error')\n",
        "plt.title('Avocado Horizon vs. Error')\n",
        "\n",
        "#This is an improvement over the original\n"
      ],
      "execution_count": 105,
      "outputs": [
        {
          "output_type": "stream",
          "text": [
            "INFO:fbprophet:Making 8 forecasts with cutoffs between 2017-02-13 00:00:00 and 2017-12-25 00:00:00\n"
          ],
          "name": "stderr"
        },
        {
          "output_type": "execute_result",
          "data": {
            "text/plain": [
              "Text(0.5, 1.0, 'Avocado Horizon vs. Error')"
            ]
          },
          "metadata": {
            "tags": []
          },
          "execution_count": 105
        },
        {
          "output_type": "display_data",
          "data": {
            "image/png": "[encoded data removed]",
            "text/plain": [
              "<Figure size 720x432 with 1 Axes>"
            ]
          },
          "metadata": {
            "tags": []
          }
        }
      ]
    },
    {
      "cell_type": "code",
      "metadata": {
        "id": "XigqCVFCoIMW",
        "colab_type": "code",
        "colab": {
          "base_uri": "https://localhost:8080/",
          "height": 464
        },
        "outputId": "b0f94f0c-7e5f-4db5-f2ef-01525d8e3d86"
      },
      "source": [
        "forecast = m.predict(future)\n",
        "fig1 = m.plot(forecast)\n",
        "plt.xlabel(\"Date\")\n",
        "plt.ylabel(\"Total Volume\")\n",
        "plt.title(\"Avocados\")"
      ],
      "execution_count": 106,
      "outputs": [
        {
          "output_type": "execute_result",
          "data": {
            "text/plain": [
              "Text(0.5, 1.0, 'Avocados')"
            ]
          },
          "metadata": {
            "tags": []
          },
          "execution_count": 106
        },
        {
          "output_type": "display_data",
          "data": {
            "image/png": "[encoded data removed]",
            "text/plain": [
              "<Figure size 720x432 with 1 Axes>"
            ]
          },
          "metadata": {
            "tags": []
          }
        }
      ]
    },
    {
      "cell_type": "markdown",
      "metadata": {
        "id": "O9Sr9dIZamAj",
        "colab_type": "text"
      },
      "source": [
        "## Part 2. Predict NYC apartment rent 🏠💸\n",
        "\n",
        "For part 1 of your challenge, you'll use a real-world data with rent prices for a subset of apartments in New York City!\n",
        "\n",
        "Run this code cell to load the dataset: "
      ]
    },
    {
      "cell_type": "code",
      "metadata": {
        "id": "UPC1KeeFamAm",
        "colab_type": "code",
        "colab": {}
      },
      "source": [
        "import pandas as pd\n",
        "rent_url = 'https://drive.google.com/uc?export=download&id=1lVVPmh-WYGb_0Gs_lOv22i02-150qDdZ'\n",
        "rent = pd.read_csv(rent_url)\n",
        "assert rent.shape == (48295, 7)"
      ],
      "execution_count": 0,
      "outputs": []
    },
    {
      "cell_type": "code",
      "metadata": {
        "id": "6wFgo7fTfAvm",
        "colab_type": "code",
        "colab": {
          "base_uri": "https://localhost:8080/",
          "height": 206
        },
        "outputId": "0dde5e06-6ef8-43fc-f6e1-f4e2b7661019"
      },
      "source": [
        "rent.head()"
      ],
      "execution_count": 24,
      "outputs": [
        {
          "output_type": "execute_result",
          "data": {
            "text/html": [
              "<div>\n",
              "<style scoped>\n",
              "    .dataframe tbody tr th:only-of-type {\n",
              "        vertical-align: middle;\n",
              "    }\n",
              "\n",
              "    .dataframe tbody tr th {\n",
              "        vertical-align: top;\n",
              "    }\n",
              "\n",
              "    .dataframe thead th {\n",
              "        text-align: right;\n",
              "    }\n",
              "</style>\n",
              "<table border=\"1\" class=\"dataframe\">\n",
              "  <thead>\n",
              "    <tr style=\"text-align: right;\">\n",
              "      <th></th>\n",
              "      <th>year</th>\n",
              "      <th>month</th>\n",
              "      <th>bedrooms</th>\n",
              "      <th>bathrooms</th>\n",
              "      <th>latitude</th>\n",
              "      <th>longitude</th>\n",
              "      <th>price</th>\n",
              "    </tr>\n",
              "  </thead>\n",
              "  <tbody>\n",
              "    <tr>\n",
              "      <th>0</th>\n",
              "      <td>2016</td>\n",
              "      <td>6</td>\n",
              "      <td>3</td>\n",
              "      <td>1.5</td>\n",
              "      <td>40.7145</td>\n",
              "      <td>-73.9425</td>\n",
              "      <td>3000</td>\n",
              "    </tr>\n",
              "    <tr>\n",
              "      <th>1</th>\n",
              "      <td>2016</td>\n",
              "      <td>6</td>\n",
              "      <td>2</td>\n",
              "      <td>1.0</td>\n",
              "      <td>40.7947</td>\n",
              "      <td>-73.9667</td>\n",
              "      <td>5465</td>\n",
              "    </tr>\n",
              "    <tr>\n",
              "      <th>2</th>\n",
              "      <td>2016</td>\n",
              "      <td>4</td>\n",
              "      <td>1</td>\n",
              "      <td>1.0</td>\n",
              "      <td>40.7388</td>\n",
              "      <td>-74.0018</td>\n",
              "      <td>2850</td>\n",
              "    </tr>\n",
              "    <tr>\n",
              "      <th>3</th>\n",
              "      <td>2016</td>\n",
              "      <td>4</td>\n",
              "      <td>1</td>\n",
              "      <td>1.0</td>\n",
              "      <td>40.7539</td>\n",
              "      <td>-73.9677</td>\n",
              "      <td>3275</td>\n",
              "    </tr>\n",
              "    <tr>\n",
              "      <th>4</th>\n",
              "      <td>2016</td>\n",
              "      <td>4</td>\n",
              "      <td>4</td>\n",
              "      <td>1.0</td>\n",
              "      <td>40.8241</td>\n",
              "      <td>-73.9493</td>\n",
              "      <td>3350</td>\n",
              "    </tr>\n",
              "  </tbody>\n",
              "</table>\n",
              "</div>"
            ],
            "text/plain": [
              "   year  month  bedrooms  bathrooms  latitude  longitude  price\n",
              "0  2016      6         3        1.5   40.7145   -73.9425   3000\n",
              "1  2016      6         2        1.0   40.7947   -73.9667   5465\n",
              "2  2016      4         1        1.0   40.7388   -74.0018   2850\n",
              "3  2016      4         1        1.0   40.7539   -73.9677   3275\n",
              "4  2016      4         4        1.0   40.8241   -73.9493   3350"
            ]
          },
          "metadata": {
            "tags": []
          },
          "execution_count": 24
        }
      ]
    },
    {
      "cell_type": "code",
      "metadata": {
        "id": "DA3qUHGCfLJ5",
        "colab_type": "code",
        "colab": {}
      },
      "source": [
        "rent['price_mean'] = rent['price'].mean()"
      ],
      "execution_count": 0,
      "outputs": []
    },
    {
      "cell_type": "code",
      "metadata": {
        "id": "O8Ci6zV_fWpZ",
        "colab_type": "code",
        "colab": {
          "base_uri": "https://localhost:8080/",
          "height": 53
        },
        "outputId": "ef716a27-6614-4cdf-c098-7f27aeb88c60"
      },
      "source": [
        "from sklearn.metrics import mean_absolute_error, r2_score\n",
        "\n",
        "print(mean_absolute_error(rent['price'], rent['price_mean']))\n",
        "print(r2_score(rent['price'], rent['price_mean']))\n",
        "\n",
        "#R2 is 0 because it explains variance and is calculated by subtracting from the mean, while the individual values here are the mean"
      ],
      "execution_count": 29,
      "outputs": [
        {
          "output_type": "stream",
          "text": [
            "1055.7857771080928\n",
            "0.0\n"
          ],
          "name": "stdout"
        }
      ]
    },
    {
      "cell_type": "code",
      "metadata": {
        "id": "2jbFlIa1hS4e",
        "colab_type": "code",
        "colab": {
          "base_uri": "https://localhost:8080/",
          "height": 181
        },
        "outputId": "4c9049d7-8a3c-4f39-f164-97e5d7c1819c"
      },
      "source": [
        "rent.dtypes"
      ],
      "execution_count": 32,
      "outputs": [
        {
          "output_type": "execute_result",
          "data": {
            "text/plain": [
              "year            int64\n",
              "month           int64\n",
              "bedrooms        int64\n",
              "bathrooms     float64\n",
              "latitude      float64\n",
              "longitude     float64\n",
              "price           int64\n",
              "price_mean    float64\n",
              "dtype: object"
            ]
          },
          "metadata": {
            "tags": []
          },
          "execution_count": 32
        }
      ]
    },
    {
      "cell_type": "code",
      "metadata": {
        "id": "XLlsRboehupt",
        "colab_type": "code",
        "colab": {
          "base_uri": "https://localhost:8080/",
          "height": 35
        },
        "outputId": "77135770-758a-4adf-a01d-6e72f8e6d1fc"
      },
      "source": [
        "rent['month'].unique()"
      ],
      "execution_count": 37,
      "outputs": [
        {
          "output_type": "execute_result",
          "data": {
            "text/plain": [
              "array([6, 4, 5])"
            ]
          },
          "metadata": {
            "tags": []
          },
          "execution_count": 37
        }
      ]
    },
    {
      "cell_type": "code",
      "metadata": {
        "id": "AhUPDgzsgn19",
        "colab_type": "code",
        "colab": {}
      },
      "source": [
        "train = rent[rent['month'] <= 5]\n",
        "test = rent[rent['month'] == 6]"
      ],
      "execution_count": 0,
      "outputs": []
    },
    {
      "cell_type": "code",
      "metadata": {
        "id": "wwkceoC3iKhC",
        "colab_type": "code",
        "colab": {
          "base_uri": "https://localhost:8080/",
          "height": 206
        },
        "outputId": "7cc710ea-fbba-41f4-efe5-bfa7805d25b9"
      },
      "source": [
        "train.head()"
      ],
      "execution_count": 39,
      "outputs": [
        {
          "output_type": "execute_result",
          "data": {
            "text/html": [
              "<div>\n",
              "<style scoped>\n",
              "    .dataframe tbody tr th:only-of-type {\n",
              "        vertical-align: middle;\n",
              "    }\n",
              "\n",
              "    .dataframe tbody tr th {\n",
              "        vertical-align: top;\n",
              "    }\n",
              "\n",
              "    .dataframe thead th {\n",
              "        text-align: right;\n",
              "    }\n",
              "</style>\n",
              "<table border=\"1\" class=\"dataframe\">\n",
              "  <thead>\n",
              "    <tr style=\"text-align: right;\">\n",
              "      <th></th>\n",
              "      <th>year</th>\n",
              "      <th>month</th>\n",
              "      <th>bedrooms</th>\n",
              "      <th>bathrooms</th>\n",
              "      <th>latitude</th>\n",
              "      <th>longitude</th>\n",
              "      <th>price</th>\n",
              "      <th>price_mean</th>\n",
              "    </tr>\n",
              "  </thead>\n",
              "  <tbody>\n",
              "    <tr>\n",
              "      <th>2</th>\n",
              "      <td>2016</td>\n",
              "      <td>4</td>\n",
              "      <td>1</td>\n",
              "      <td>1.0</td>\n",
              "      <td>40.7388</td>\n",
              "      <td>-74.0018</td>\n",
              "      <td>2850</td>\n",
              "      <td>3438.052034</td>\n",
              "    </tr>\n",
              "    <tr>\n",
              "      <th>3</th>\n",
              "      <td>2016</td>\n",
              "      <td>4</td>\n",
              "      <td>1</td>\n",
              "      <td>1.0</td>\n",
              "      <td>40.7539</td>\n",
              "      <td>-73.9677</td>\n",
              "      <td>3275</td>\n",
              "      <td>3438.052034</td>\n",
              "    </tr>\n",
              "    <tr>\n",
              "      <th>4</th>\n",
              "      <td>2016</td>\n",
              "      <td>4</td>\n",
              "      <td>4</td>\n",
              "      <td>1.0</td>\n",
              "      <td>40.8241</td>\n",
              "      <td>-73.9493</td>\n",
              "      <td>3350</td>\n",
              "      <td>3438.052034</td>\n",
              "    </tr>\n",
              "    <tr>\n",
              "      <th>5</th>\n",
              "      <td>2016</td>\n",
              "      <td>4</td>\n",
              "      <td>4</td>\n",
              "      <td>2.0</td>\n",
              "      <td>40.7429</td>\n",
              "      <td>-74.0028</td>\n",
              "      <td>7995</td>\n",
              "      <td>3438.052034</td>\n",
              "    </tr>\n",
              "    <tr>\n",
              "      <th>6</th>\n",
              "      <td>2016</td>\n",
              "      <td>4</td>\n",
              "      <td>2</td>\n",
              "      <td>1.0</td>\n",
              "      <td>40.8012</td>\n",
              "      <td>-73.9660</td>\n",
              "      <td>3600</td>\n",
              "      <td>3438.052034</td>\n",
              "    </tr>\n",
              "  </tbody>\n",
              "</table>\n",
              "</div>"
            ],
            "text/plain": [
              "   year  month  bedrooms  bathrooms  latitude  longitude  price   price_mean\n",
              "2  2016      4         1        1.0   40.7388   -74.0018   2850  3438.052034\n",
              "3  2016      4         1        1.0   40.7539   -73.9677   3275  3438.052034\n",
              "4  2016      4         4        1.0   40.8241   -73.9493   3350  3438.052034\n",
              "5  2016      4         4        2.0   40.7429   -74.0028   7995  3438.052034\n",
              "6  2016      4         2        1.0   40.8012   -73.9660   3600  3438.052034"
            ]
          },
          "metadata": {
            "tags": []
          },
          "execution_count": 39
        }
      ]
    },
    {
      "cell_type": "code",
      "metadata": {
        "id": "1k51qazxiPFK",
        "colab_type": "code",
        "colab": {}
      },
      "source": [
        "from sklearn.linear_model import LinearRegression\n",
        "model = LinearRegression()"
      ],
      "execution_count": 0,
      "outputs": []
    },
    {
      "cell_type": "code",
      "metadata": {
        "id": "5S3Sja-miU7H",
        "colab_type": "code",
        "colab": {}
      },
      "source": [
        "features = ['bedrooms', \n",
        "            'bathrooms']\n",
        "\n",
        "target = 'price'\n",
        "\n",
        "X = train[features]\n",
        "y = train[target]\n",
        "\n"
      ],
      "execution_count": 0,
      "outputs": []
    },
    {
      "cell_type": "code",
      "metadata": {
        "id": "43ETJgb_ilkX",
        "colab_type": "code",
        "colab": {
          "base_uri": "https://localhost:8080/",
          "height": 35
        },
        "outputId": "35ce6c0f-be8b-4b96-c31c-adfd3fb779f7"
      },
      "source": [
        "model.fit(X, y)"
      ],
      "execution_count": 42,
      "outputs": [
        {
          "output_type": "execute_result",
          "data": {
            "text/plain": [
              "LinearRegression(copy_X=True, fit_intercept=True, n_jobs=None, normalize=False)"
            ]
          },
          "metadata": {
            "tags": []
          },
          "execution_count": 42
        }
      ]
    },
    {
      "cell_type": "code",
      "metadata": {
        "id": "_o_1LmxyirBS",
        "colab_type": "code",
        "colab": {
          "base_uri": "https://localhost:8080/",
          "height": 35
        },
        "outputId": "f83297cb-2d35-4379-c4bc-a59728e81b25"
      },
      "source": [
        "model.intercept_, model.coef_"
      ],
      "execution_count": 43,
      "outputs": [
        {
          "output_type": "execute_result",
          "data": {
            "text/plain": [
              "(994.3062975058142, array([ 420.5097168 , 1531.76264753]))"
            ]
          },
          "metadata": {
            "tags": []
          },
          "execution_count": 43
        }
      ]
    },
    {
      "cell_type": "code",
      "metadata": {
        "id": "gXE_w0UfjFpR",
        "colab_type": "code",
        "colab": {
          "base_uri": "https://localhost:8080/",
          "height": 162
        },
        "outputId": "ea67008a-e1cc-4e55-f461-87d8a6bf65d1"
      },
      "source": [
        "test['pred'] = 994 + (420.5097168*test['bedrooms']) + (1531.76264753*test['bathrooms'])"
      ],
      "execution_count": 44,
      "outputs": [
        {
          "output_type": "stream",
          "text": [
            "/usr/local/lib/python3.6/dist-packages/ipykernel_launcher.py:1: SettingWithCopyWarning:\n",
            "\n",
            "\n",
            "A value is trying to be set on a copy of a slice from a DataFrame.\n",
            "Try using .loc[row_indexer,col_indexer] = value instead\n",
            "\n",
            "See the caveats in the documentation: http://pandas.pydata.org/pandas-docs/stable/indexing.html#indexing-view-versus-copy\n",
            "\n"
          ],
          "name": "stderr"
        }
      ]
    },
    {
      "cell_type": "code",
      "metadata": {
        "id": "OjoJo5izjkMF",
        "colab_type": "code",
        "colab": {
          "base_uri": "https://localhost:8080/",
          "height": 53
        },
        "outputId": "96112fc5-dac9-4b06-ef59-dd6a14c428a6"
      },
      "source": [
        "print(mean_absolute_error(test['price'], test['pred']))\n",
        "print(r2_score(test['price'], test['pred']))"
      ],
      "execution_count": 45,
      "outputs": [
        {
          "output_type": "stream",
          "text": [
            "754.0449611808318\n",
            "0.4613538566495696\n"
          ],
          "name": "stdout"
        }
      ]
    },
    {
      "cell_type": "markdown",
      "metadata": {
        "id": "q0odhTjwamAt",
        "colab_type": "text"
      },
      "source": [
        "### Required\n",
        "1. Begin with baselines for regression. Calculate the mean absolute error and $R^2$ score for a mean baseline. _(You can use the whole dataset, or a test set, either way is okay here!)_\n",
        "2. Do train/test split. Use data from April & May 2016 to train. Use data from June 2016 to test.\n",
        "3. Choose any two features.\n",
        "4. Use scikit-learn to fit a Linear Regression model on the train data.\n",
        "5. Apply the model to predict rent prices for the test data.\n",
        "6. Get regression metrics MAE and $R^2$ for the test data.\n",
        "7. Get the model's coefficients and intercept.\n",
        "\n",
        "### Stretch Goals\n",
        "- Try at least 3 different feature combinations. (You don't have to use two features, you can choose any number of features.)\n",
        "- Get regression metrics RMSE, MAE, and $R^2$, for both the train and test data."
      ]
    },
    {
      "cell_type": "code",
      "metadata": {
        "id": "n68mxiZs45Ix",
        "colab_type": "code",
        "colab": {}
      },
      "source": [
        "from sklearn.metrics import mean_squared_error"
      ],
      "execution_count": 0,
      "outputs": []
    },
    {
      "cell_type": "code",
      "metadata": {
        "id": "-3vPanTbwsph",
        "colab_type": "code",
        "colab": {}
      },
      "source": [
        "pd.options.mode.chained_assignment = None\n",
        "\n",
        "def get_statistics(features,target,train_df,test_df):\n",
        "\n",
        "  X = train_df[features]\n",
        "  y = train_df[target]\n",
        "\n",
        "  model.fit(X, y)\n",
        "  \n",
        "  test_df['pred'] = 0\n",
        "  train_df['pred'] = 0\n",
        "\n",
        "  for i in range(0,len(features)):\n",
        "    test_df['pred'] += model.coef_[i]*test_df[features[i]]\n",
        "    train_df['pred'] += model.coef_[i]*train_df[features[i]]\n",
        "\n",
        "\n",
        "  test_df['pred'] = model.intercept_ + test_df['pred']\n",
        "  train_df['pred'] = model.intercept_ + train_df['pred']\n",
        "\n",
        "  print(\"Test MAE:\",mean_absolute_error(test_df['price'], test_df['pred']))\n",
        "  print(\"Test R2:\",r2_score(test_df['price'], test_df['pred']))\n",
        "  print(\"Test RMS:\",mean_squared_error(test_df['price'], test_df['pred'])**.5)\n",
        "\n",
        "  print(\"Train MAE:\",mean_absolute_error(train_df['price'], train_df['pred']))\n",
        "  print(\"Train R2:\",r2_score(train_df['price'], train_df['pred']))\n",
        "  print(\"Train RMS:\",mean_squared_error(train_df['price'], train_df['pred'])**.5)"
      ],
      "execution_count": 0,
      "outputs": []
    },
    {
      "cell_type": "code",
      "metadata": {
        "id": "dJNjFsfUyVLz",
        "colab_type": "code",
        "colab": {
          "base_uri": "https://localhost:8080/",
          "height": 126
        },
        "outputId": "82a69c6b-fa7f-4d0b-d067-4e504b04d40e"
      },
      "source": [
        "get_statistics(['bedrooms', 'longitude'],'price',train,test)"
      ],
      "execution_count": 127,
      "outputs": [
        {
          "output_type": "stream",
          "text": [
            "Test MAE: 767.873838790542\n",
            "Test R2: 0.4094592610785772\n",
            "Test RMS: 1080.3989448670127\n",
            "Train MAE: 749.792126938925\n",
            "Train R2: 0.4390089150261862\n",
            "Train RMS: 1047.3389795942717\n"
          ],
          "name": "stdout"
        }
      ]
    },
    {
      "cell_type": "code",
      "metadata": {
        "id": "de9xfFDn4k0L",
        "colab_type": "code",
        "colab": {
          "base_uri": "https://localhost:8080/",
          "height": 126
        },
        "outputId": "c4260400-1758-4b8c-9bf2-cd57f96d366a"
      },
      "source": [
        "get_statistics(['bedrooms', 'bathrooms',\n",
        "            'latitude','longitude'],'price',train,test)"
      ],
      "execution_count": 129,
      "outputs": [
        {
          "output_type": "stream",
          "text": [
            "Test MAE: 667.6543093383525\n",
            "Test R2: 0.563794835971478\n",
            "Test RMS: 928.548560697452\n",
            "Train MAE: 651.30457312947\n",
            "Train R2: 0.58606419144477\n",
            "Train RMS: 899.6545615767902\n"
          ],
          "name": "stdout"
        }
      ]
    },
    {
      "cell_type": "code",
      "metadata": {
        "id": "dcQaeOyi4v0J",
        "colab_type": "code",
        "colab": {
          "base_uri": "https://localhost:8080/",
          "height": 126
        },
        "outputId": "339ac541-4bfd-4dc2-a7fe-573c436775c2"
      },
      "source": [
        "get_statistics(['latitude', \n",
        "            'longitude'],'price',train,test)"
      ],
      "execution_count": 130,
      "outputs": [
        {
          "output_type": "stream",
          "text": [
            "Test MAE: 989.1376935671111\n",
            "Test R2: 0.09856326192854614\n",
            "Test RMS: 1334.832729130382\n",
            "Train MAE: 993.6441630941673\n",
            "Train R2: 0.10107742955983778\n",
            "Train RMS: 1325.776845736822\n"
          ],
          "name": "stdout"
        }
      ]
    }
  ]
}