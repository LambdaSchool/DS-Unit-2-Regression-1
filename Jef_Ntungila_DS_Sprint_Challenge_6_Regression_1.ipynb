{
  "nbformat": 4,
  "nbformat_minor": 0,
  "metadata": {
    "colab": {
      "name": " Jef Ntungila DS_Sprint_Challenge_6_Regression_1.ipynb",
      "version": "0.3.2",
      "provenance": [],
      "collapsed_sections": [],
      "include_colab_link": true
    },
    "language_info": {
      "codemirror_mode": {
        "name": "ipython",
        "version": 3
      },
      "file_extension": ".py",
      "mimetype": "text/x-python",
      "name": "python",
      "nbconvert_exporter": "python",
      "pygments_lexer": "ipython3",
      "version": "3.7.1"
    },
    "kernelspec": {
      "display_name": "Python 3",
      "language": "python",
      "name": "python3"
    }
  },
  "cells": [
    {
      "cell_type": "markdown",
      "metadata": {
        "id": "view-in-github",
        "colab_type": "text"
      },
      "source": [
        "<a href=\"https://colab.research.google.com/github/JefNtungila/DS-Unit-2-Regression-1/blob/master/Jef_Ntungila_DS_Sprint_Challenge_6_Regression_1.ipynb\" target=\"_parent\"><img src=\"https://colab.research.google.com/assets/colab-badge.svg\" alt=\"Open In Colab\"/></a>"
      ]
    },
    {
      "cell_type": "markdown",
      "metadata": {
        "id": "Jh6GsWfEbf_h",
        "colab_type": "text"
      },
      "source": [
        "_Lambda School Data Science, Unit 2_\n",
        " \n",
        "# Regression 1 Sprint Challenge\n",
        "\n",
        "Your Sprint Challenge has two parts.\n",
        "\n",
        "To demonstrate mastery on each part, do all the required, numbered instructions. \n",
        "\n",
        "To earn a score of \"3\" for the part, also do the stretch goals."
      ]
    },
    {
      "cell_type": "markdown",
      "metadata": {
        "id": "LKwnohW1bf_k",
        "colab_type": "text"
      },
      "source": [
        "## Part 1. Predict avocado sales 🥑\n",
        "\n",
        "For part 1 of your challenge, you'll use historical data on avocado sales across the nation!\n",
        "\n",
        "Run this code cell to load the dataset. It has weekly sales volume (total number of avocados sold) from January 4, 2015 through March 25, 2018. The data comes directly from retailers' cash registers based on actual retail sales of Hass avocados in multiple US markets."
      ]
    },
    {
      "cell_type": "code",
      "metadata": {
        "id": "6FtamuVFbf_m",
        "colab_type": "code",
        "colab": {}
      },
      "source": [
        "import pandas as pd\n",
        "avocado_url = 'https://drive.google.com/uc?export=download&id=1ljE-LhCA9CCFvSIJYJ1ewX8JmdDpfuhi'\n",
        "avocado = pd.read_csv(avocado_url)\n",
        "assert avocado.shape == (169, 2)"
      ],
      "execution_count": 0,
      "outputs": []
    },
    {
      "cell_type": "markdown",
      "metadata": {
        "id": "-bi6yqpPbf_u",
        "colab_type": "text"
      },
      "source": [
        "### Required\n",
        "\n",
        "#### Use the Prophet library to:\n",
        "1. Fit a model and forecast avocado sales through March 25, 2020\n",
        "2. Plot the forecast\n",
        "3. Plot the forecast components\n",
        "4. Do time series cross-validation, with these parameters: `horizon='90 days', period='45 days', initial='730 days'`\n",
        "5. Plot the cross-validation Mean Absolute Percentage Error: `metric='mape'`\n",
        "\n",
        "_For Part 1 of this Sprint Challenge, you are **not** required to calculate or plot baselines, or do train/test split._\n",
        "\n",
        "You can be confident you've done it correctly when your plots look similar to these:\n",
        "\n",
        "<img src=\"https://i.imgur.com/PoyVGp7.png\" width=\"400\" align=\"left\">\n",
        "\n"
      ]
    },
    {
      "cell_type": "markdown",
      "metadata": {
        "id": "qaJe0zLn8mLW",
        "colab_type": "text"
      },
      "source": [
        "##Fit a model and forecast avocado sales through March 25, 2020"
      ]
    },
    {
      "cell_type": "code",
      "metadata": {
        "id": "SzZ-K-Tmcgtp",
        "colab_type": "code",
        "colab": {
          "base_uri": "https://localhost:8080/",
          "height": 198
        },
        "outputId": "51093b27-6260-48f8-d539-dd8112bc4073"
      },
      "source": [
        "avocado.head()"
      ],
      "execution_count": 303,
      "outputs": [
        {
          "output_type": "execute_result",
          "data": {
            "text/html": [
              "<div>\n",
              "<style scoped>\n",
              "    .dataframe tbody tr th:only-of-type {\n",
              "        vertical-align: middle;\n",
              "    }\n",
              "\n",
              "    .dataframe tbody tr th {\n",
              "        vertical-align: top;\n",
              "    }\n",
              "\n",
              "    .dataframe thead th {\n",
              "        text-align: right;\n",
              "    }\n",
              "</style>\n",
              "<table border=\"1\" class=\"dataframe\">\n",
              "  <thead>\n",
              "    <tr style=\"text-align: right;\">\n",
              "      <th></th>\n",
              "      <th>Date</th>\n",
              "      <th>Total Volume</th>\n",
              "    </tr>\n",
              "  </thead>\n",
              "  <tbody>\n",
              "    <tr>\n",
              "      <th>0</th>\n",
              "      <td>2015-01-04</td>\n",
              "      <td>84674288</td>\n",
              "    </tr>\n",
              "    <tr>\n",
              "      <th>1</th>\n",
              "      <td>2015-01-11</td>\n",
              "      <td>78555753</td>\n",
              "    </tr>\n",
              "    <tr>\n",
              "      <th>2</th>\n",
              "      <td>2015-01-18</td>\n",
              "      <td>78388735</td>\n",
              "    </tr>\n",
              "    <tr>\n",
              "      <th>3</th>\n",
              "      <td>2015-01-25</td>\n",
              "      <td>76466226</td>\n",
              "    </tr>\n",
              "    <tr>\n",
              "      <th>4</th>\n",
              "      <td>2015-02-01</td>\n",
              "      <td>119453181</td>\n",
              "    </tr>\n",
              "  </tbody>\n",
              "</table>\n",
              "</div>"
            ],
            "text/plain": [
              "         Date  Total Volume\n",
              "0  2015-01-04      84674288\n",
              "1  2015-01-11      78555753\n",
              "2  2015-01-18      78388735\n",
              "3  2015-01-25      76466226\n",
              "4  2015-02-01     119453181"
            ]
          },
          "metadata": {
            "tags": []
          },
          "execution_count": 303
        }
      ]
    },
    {
      "cell_type": "code",
      "metadata": {
        "id": "F4xznkFNdJBs",
        "colab_type": "code",
        "colab": {}
      },
      "source": [
        "avocado['Date'] = pd.to_datetime(avocado['Date'])\n"
      ],
      "execution_count": 0,
      "outputs": []
    },
    {
      "cell_type": "code",
      "metadata": {
        "id": "jO6p2x3ZfPii",
        "colab_type": "code",
        "colab": {}
      },
      "source": [
        "avocado = avocado.rename(columns={'Date': 'ds', 'Total Volume': 'y'})"
      ],
      "execution_count": 0,
      "outputs": []
    },
    {
      "cell_type": "code",
      "metadata": {
        "id": "coqxvbcKeHI0",
        "colab_type": "code",
        "colab": {
          "base_uri": "https://localhost:8080/",
          "height": 69
        },
        "outputId": "8cfdf0b0-6b98-4962-cc09-aaf524c663e9"
      },
      "source": [
        "from fbprophet import Prophet\n",
        "m = Prophet()\n",
        "m.fit(avocado) "
      ],
      "execution_count": 306,
      "outputs": [
        {
          "output_type": "stream",
          "text": [
            "INFO:fbprophet:Disabling weekly seasonality. Run prophet with weekly_seasonality=True to override this.\n",
            "INFO:fbprophet:Disabling daily seasonality. Run prophet with daily_seasonality=True to override this.\n"
          ],
          "name": "stderr"
        },
        {
          "output_type": "execute_result",
          "data": {
            "text/plain": [
              "<fbprophet.forecaster.Prophet at 0x7f8759a8aac8>"
            ]
          },
          "metadata": {
            "tags": []
          },
          "execution_count": 306
        }
      ]
    },
    {
      "cell_type": "code",
      "metadata": {
        "id": "5RG-o9p1gsKq",
        "colab_type": "code",
        "colab": {
          "base_uri": "https://localhost:8080/",
          "height": 198
        },
        "outputId": "5aaa783a-f908-471d-f445-73b966e43749"
      },
      "source": [
        "future = m.make_future_dataframe(periods=365*2)\n",
        "future.tail()"
      ],
      "execution_count": 307,
      "outputs": [
        {
          "output_type": "execute_result",
          "data": {
            "text/html": [
              "<div>\n",
              "<style scoped>\n",
              "    .dataframe tbody tr th:only-of-type {\n",
              "        vertical-align: middle;\n",
              "    }\n",
              "\n",
              "    .dataframe tbody tr th {\n",
              "        vertical-align: top;\n",
              "    }\n",
              "\n",
              "    .dataframe thead th {\n",
              "        text-align: right;\n",
              "    }\n",
              "</style>\n",
              "<table border=\"1\" class=\"dataframe\">\n",
              "  <thead>\n",
              "    <tr style=\"text-align: right;\">\n",
              "      <th></th>\n",
              "      <th>ds</th>\n",
              "    </tr>\n",
              "  </thead>\n",
              "  <tbody>\n",
              "    <tr>\n",
              "      <th>894</th>\n",
              "      <td>2020-03-20</td>\n",
              "    </tr>\n",
              "    <tr>\n",
              "      <th>895</th>\n",
              "      <td>2020-03-21</td>\n",
              "    </tr>\n",
              "    <tr>\n",
              "      <th>896</th>\n",
              "      <td>2020-03-22</td>\n",
              "    </tr>\n",
              "    <tr>\n",
              "      <th>897</th>\n",
              "      <td>2020-03-23</td>\n",
              "    </tr>\n",
              "    <tr>\n",
              "      <th>898</th>\n",
              "      <td>2020-03-24</td>\n",
              "    </tr>\n",
              "  </tbody>\n",
              "</table>\n",
              "</div>"
            ],
            "text/plain": [
              "            ds\n",
              "894 2020-03-20\n",
              "895 2020-03-21\n",
              "896 2020-03-22\n",
              "897 2020-03-23\n",
              "898 2020-03-24"
            ]
          },
          "metadata": {
            "tags": []
          },
          "execution_count": 307
        }
      ]
    },
    {
      "cell_type": "code",
      "metadata": {
        "id": "xCZ0RopghABz",
        "colab_type": "code",
        "colab": {
          "base_uri": "https://localhost:8080/",
          "height": 305
        },
        "outputId": "30cd00a2-e327-4192-9daf-6c37b49d82ff"
      },
      "source": [
        "forecast = m.predict(future)\n",
        "forecast.tail()"
      ],
      "execution_count": 308,
      "outputs": [
        {
          "output_type": "execute_result",
          "data": {
            "text/html": [
              "<div>\n",
              "<style scoped>\n",
              "    .dataframe tbody tr th:only-of-type {\n",
              "        vertical-align: middle;\n",
              "    }\n",
              "\n",
              "    .dataframe tbody tr th {\n",
              "        vertical-align: top;\n",
              "    }\n",
              "\n",
              "    .dataframe thead th {\n",
              "        text-align: right;\n",
              "    }\n",
              "</style>\n",
              "<table border=\"1\" class=\"dataframe\">\n",
              "  <thead>\n",
              "    <tr style=\"text-align: right;\">\n",
              "      <th></th>\n",
              "      <th>ds</th>\n",
              "      <th>trend</th>\n",
              "      <th>yhat_lower</th>\n",
              "      <th>yhat_upper</th>\n",
              "      <th>trend_lower</th>\n",
              "      <th>trend_upper</th>\n",
              "      <th>additive_terms</th>\n",
              "      <th>additive_terms_lower</th>\n",
              "      <th>additive_terms_upper</th>\n",
              "      <th>yearly</th>\n",
              "      <th>yearly_lower</th>\n",
              "      <th>yearly_upper</th>\n",
              "      <th>multiplicative_terms</th>\n",
              "      <th>multiplicative_terms_lower</th>\n",
              "      <th>multiplicative_terms_upper</th>\n",
              "      <th>yhat</th>\n",
              "    </tr>\n",
              "  </thead>\n",
              "  <tbody>\n",
              "    <tr>\n",
              "      <th>894</th>\n",
              "      <td>2020-03-20</td>\n",
              "      <td>1.074771e+08</td>\n",
              "      <td>1.041849e+08</td>\n",
              "      <td>1.299204e+08</td>\n",
              "      <td>1.055073e+08</td>\n",
              "      <td>1.094241e+08</td>\n",
              "      <td>8.440861e+06</td>\n",
              "      <td>8.440861e+06</td>\n",
              "      <td>8.440861e+06</td>\n",
              "      <td>8.440861e+06</td>\n",
              "      <td>8.440861e+06</td>\n",
              "      <td>8.440861e+06</td>\n",
              "      <td>0.0</td>\n",
              "      <td>0.0</td>\n",
              "      <td>0.0</td>\n",
              "      <td>1.159180e+08</td>\n",
              "    </tr>\n",
              "    <tr>\n",
              "      <th>895</th>\n",
              "      <td>2020-03-21</td>\n",
              "      <td>1.074891e+08</td>\n",
              "      <td>1.020298e+08</td>\n",
              "      <td>1.290222e+08</td>\n",
              "      <td>1.055160e+08</td>\n",
              "      <td>1.094397e+08</td>\n",
              "      <td>8.209257e+06</td>\n",
              "      <td>8.209257e+06</td>\n",
              "      <td>8.209257e+06</td>\n",
              "      <td>8.209257e+06</td>\n",
              "      <td>8.209257e+06</td>\n",
              "      <td>8.209257e+06</td>\n",
              "      <td>0.0</td>\n",
              "      <td>0.0</td>\n",
              "      <td>0.0</td>\n",
              "      <td>1.156984e+08</td>\n",
              "    </tr>\n",
              "    <tr>\n",
              "      <th>896</th>\n",
              "      <td>2020-03-22</td>\n",
              "      <td>1.075012e+08</td>\n",
              "      <td>1.023871e+08</td>\n",
              "      <td>1.285202e+08</td>\n",
              "      <td>1.055250e+08</td>\n",
              "      <td>1.094554e+08</td>\n",
              "      <td>7.849158e+06</td>\n",
              "      <td>7.849158e+06</td>\n",
              "      <td>7.849158e+06</td>\n",
              "      <td>7.849158e+06</td>\n",
              "      <td>7.849158e+06</td>\n",
              "      <td>7.849158e+06</td>\n",
              "      <td>0.0</td>\n",
              "      <td>0.0</td>\n",
              "      <td>0.0</td>\n",
              "      <td>1.153503e+08</td>\n",
              "    </tr>\n",
              "    <tr>\n",
              "      <th>897</th>\n",
              "      <td>2020-03-23</td>\n",
              "      <td>1.075132e+08</td>\n",
              "      <td>1.018704e+08</td>\n",
              "      <td>1.271408e+08</td>\n",
              "      <td>1.055341e+08</td>\n",
              "      <td>1.094711e+08</td>\n",
              "      <td>7.370433e+06</td>\n",
              "      <td>7.370433e+06</td>\n",
              "      <td>7.370433e+06</td>\n",
              "      <td>7.370433e+06</td>\n",
              "      <td>7.370433e+06</td>\n",
              "      <td>7.370433e+06</td>\n",
              "      <td>0.0</td>\n",
              "      <td>0.0</td>\n",
              "      <td>0.0</td>\n",
              "      <td>1.148836e+08</td>\n",
              "    </tr>\n",
              "    <tr>\n",
              "      <th>898</th>\n",
              "      <td>2020-03-24</td>\n",
              "      <td>1.075252e+08</td>\n",
              "      <td>1.007562e+08</td>\n",
              "      <td>1.279638e+08</td>\n",
              "      <td>1.055433e+08</td>\n",
              "      <td>1.094868e+08</td>\n",
              "      <td>6.786255e+06</td>\n",
              "      <td>6.786255e+06</td>\n",
              "      <td>6.786255e+06</td>\n",
              "      <td>6.786255e+06</td>\n",
              "      <td>6.786255e+06</td>\n",
              "      <td>6.786255e+06</td>\n",
              "      <td>0.0</td>\n",
              "      <td>0.0</td>\n",
              "      <td>0.0</td>\n",
              "      <td>1.143115e+08</td>\n",
              "    </tr>\n",
              "  </tbody>\n",
              "</table>\n",
              "</div>"
            ],
            "text/plain": [
              "            ds         trend  ...  multiplicative_terms_upper          yhat\n",
              "894 2020-03-20  1.074771e+08  ...                         0.0  1.159180e+08\n",
              "895 2020-03-21  1.074891e+08  ...                         0.0  1.156984e+08\n",
              "896 2020-03-22  1.075012e+08  ...                         0.0  1.153503e+08\n",
              "897 2020-03-23  1.075132e+08  ...                         0.0  1.148836e+08\n",
              "898 2020-03-24  1.075252e+08  ...                         0.0  1.143115e+08\n",
              "\n",
              "[5 rows x 16 columns]"
            ]
          },
          "metadata": {
            "tags": []
          },
          "execution_count": 308
        }
      ]
    },
    {
      "cell_type": "markdown",
      "metadata": {
        "id": "jyxSQS3Q8rF1",
        "colab_type": "text"
      },
      "source": [
        "##Plot the forecast"
      ]
    },
    {
      "cell_type": "code",
      "metadata": {
        "id": "YvwDcOalhD4V",
        "colab_type": "code",
        "colab": {}
      },
      "source": [
        "import matplotlib as plt"
      ],
      "execution_count": 0,
      "outputs": []
    },
    {
      "cell_type": "code",
      "metadata": {
        "id": "4DltjLafhKom",
        "colab_type": "code",
        "colab": {
          "base_uri": "https://localhost:8080/",
          "height": 441
        },
        "outputId": "71311d36-39b5-48f1-fcc6-08cda5669f8e"
      },
      "source": [
        "fig1 = m.plot(forecast)\n"
      ],
      "execution_count": 310,
      "outputs": [
        {
          "output_type": "display_data",
          "data": {
            "image/png": "[encoded data removed]",
            "text/plain": [
              "<Figure size 720x432 with 1 Axes>"
            ]
          },
          "metadata": {
            "tags": []
          }
        }
      ]
    },
    {
      "cell_type": "markdown",
      "metadata": {
        "id": "YAwY9wEH8yCw",
        "colab_type": "text"
      },
      "source": [
        "##Plot the forecast components"
      ]
    },
    {
      "cell_type": "code",
      "metadata": {
        "id": "cWWzJT5sjciU",
        "colab_type": "code",
        "colab": {
          "base_uri": "https://localhost:8080/",
          "height": 441
        },
        "outputId": "4f8ec546-ff87-446a-b265-a3c009c4f8a9"
      },
      "source": [
        "fig2 = m.plot_components(forecast)"
      ],
      "execution_count": 311,
      "outputs": [
        {
          "output_type": "display_data",
          "data": {
            "image/png": "[encoded data removed]",
            "text/plain": [
              "<Figure size 648x432 with 2 Axes>"
            ]
          },
          "metadata": {
            "tags": []
          }
        }
      ]
    },
    {
      "cell_type": "markdown",
      "metadata": {
        "id": "rrdxk8Jy86Pf",
        "colab_type": "text"
      },
      "source": [
        "##Do time series cross-validation, with these parameters: horizon='90 days', period='45 days', initial='730 days'"
      ]
    },
    {
      "cell_type": "code",
      "metadata": {
        "id": "E8WFQo8UkGIv",
        "colab_type": "code",
        "colab": {
          "base_uri": "https://localhost:8080/",
          "height": 216
        },
        "outputId": "6d4b9f5f-5e46-4316-a7c4-4ae8b1a02d36"
      },
      "source": [
        "from fbprophet.diagnostics import cross_validation\n",
        "df_cv = cross_validation(m, initial='730 days', \n",
        "                         horizon='90 days', period='45 days') \n",
        "df_cv.head()"
      ],
      "execution_count": 312,
      "outputs": [
        {
          "output_type": "stream",
          "text": [
            "INFO:fbprophet:Making 8 forecasts with cutoffs between 2017-02-13 00:00:00 and 2017-12-25 00:00:00\n"
          ],
          "name": "stderr"
        },
        {
          "output_type": "execute_result",
          "data": {
            "text/html": [
              "<div>\n",
              "<style scoped>\n",
              "    .dataframe tbody tr th:only-of-type {\n",
              "        vertical-align: middle;\n",
              "    }\n",
              "\n",
              "    .dataframe tbody tr th {\n",
              "        vertical-align: top;\n",
              "    }\n",
              "\n",
              "    .dataframe thead th {\n",
              "        text-align: right;\n",
              "    }\n",
              "</style>\n",
              "<table border=\"1\" class=\"dataframe\">\n",
              "  <thead>\n",
              "    <tr style=\"text-align: right;\">\n",
              "      <th></th>\n",
              "      <th>ds</th>\n",
              "      <th>yhat</th>\n",
              "      <th>yhat_lower</th>\n",
              "      <th>yhat_upper</th>\n",
              "      <th>y</th>\n",
              "      <th>cutoff</th>\n",
              "    </tr>\n",
              "  </thead>\n",
              "  <tbody>\n",
              "    <tr>\n",
              "      <th>0</th>\n",
              "      <td>2017-02-19</td>\n",
              "      <td>1.074419e+08</td>\n",
              "      <td>9.547550e+07</td>\n",
              "      <td>1.185460e+08</td>\n",
              "      <td>93821369</td>\n",
              "      <td>2017-02-13</td>\n",
              "    </tr>\n",
              "    <tr>\n",
              "      <th>1</th>\n",
              "      <td>2017-02-26</td>\n",
              "      <td>9.893204e+07</td>\n",
              "      <td>8.730930e+07</td>\n",
              "      <td>1.101654e+08</td>\n",
              "      <td>101447375</td>\n",
              "      <td>2017-02-13</td>\n",
              "    </tr>\n",
              "    <tr>\n",
              "      <th>2</th>\n",
              "      <td>2017-03-05</td>\n",
              "      <td>9.916261e+07</td>\n",
              "      <td>8.704985e+07</td>\n",
              "      <td>1.107651e+08</td>\n",
              "      <td>93528247</td>\n",
              "      <td>2017-02-13</td>\n",
              "    </tr>\n",
              "    <tr>\n",
              "      <th>3</th>\n",
              "      <td>2017-03-12</td>\n",
              "      <td>1.051747e+08</td>\n",
              "      <td>9.389371e+07</td>\n",
              "      <td>1.163434e+08</td>\n",
              "      <td>88180047</td>\n",
              "      <td>2017-02-13</td>\n",
              "    </tr>\n",
              "    <tr>\n",
              "      <th>4</th>\n",
              "      <td>2017-03-19</td>\n",
              "      <td>1.088062e+08</td>\n",
              "      <td>9.706528e+07</td>\n",
              "      <td>1.196223e+08</td>\n",
              "      <td>86991403</td>\n",
              "      <td>2017-02-13</td>\n",
              "    </tr>\n",
              "  </tbody>\n",
              "</table>\n",
              "</div>"
            ],
            "text/plain": [
              "          ds          yhat    yhat_lower    yhat_upper          y     cutoff\n",
              "0 2017-02-19  1.074419e+08  9.547550e+07  1.185460e+08   93821369 2017-02-13\n",
              "1 2017-02-26  9.893204e+07  8.730930e+07  1.101654e+08  101447375 2017-02-13\n",
              "2 2017-03-05  9.916261e+07  8.704985e+07  1.107651e+08   93528247 2017-02-13\n",
              "3 2017-03-12  1.051747e+08  9.389371e+07  1.163434e+08   88180047 2017-02-13\n",
              "4 2017-03-19  1.088062e+08  9.706528e+07  1.196223e+08   86991403 2017-02-13"
            ]
          },
          "metadata": {
            "tags": []
          },
          "execution_count": 312
        }
      ]
    },
    {
      "cell_type": "markdown",
      "metadata": {
        "id": "WceL-5Q_9Bfm",
        "colab_type": "text"
      },
      "source": [
        "##Plot the cross-validation Mean Absolute Percentage Error: metric='mape'"
      ]
    },
    {
      "cell_type": "code",
      "metadata": {
        "id": "kG-oB_q3nHq3",
        "colab_type": "code",
        "colab": {
          "base_uri": "https://localhost:8080/",
          "height": 392
        },
        "outputId": "b23c90d6-2494-459f-bafe-62a7bd94ae2d"
      },
      "source": [
        "from fbprophet.plot import plot_cross_validation_metric\n",
        "fig3 = plot_cross_validation_metric(df_cv, metric='mape')"
      ],
      "execution_count": 313,
      "outputs": [
        {
          "output_type": "display_data",
          "data": {
            "image/png": "[encoded data removed]",
            "text/plain": [
              "<Figure size 720x432 with 1 Axes>"
            ]
          },
          "metadata": {
            "tags": []
          }
        }
      ]
    },
    {
      "cell_type": "markdown",
      "metadata": {
        "id": "kCItPpzobf_w",
        "colab_type": "text"
      },
      "source": [
        "### Stretch Goal\n",
        "- Adjust your forecasts with Prophet's options for changepoints, holidays, and fourier order. Improve the cross-validation MAPE."
      ]
    },
    {
      "cell_type": "code",
      "metadata": {
        "id": "ehki8T_Jbf_y",
        "colab_type": "code",
        "colab": {}
      },
      "source": [
        ""
      ],
      "execution_count": 0,
      "outputs": []
    },
    {
      "cell_type": "markdown",
      "metadata": {
        "id": "xvoGeXaObf_4",
        "colab_type": "text"
      },
      "source": [
        "## Part 2. Predict NYC apartment rent 🏠💸\n",
        "\n",
        "For part 1 of your challenge, you'll use a real-world data with rent prices for a subset of apartments in New York City!\n",
        "\n",
        "Run this code cell to load the dataset: "
      ]
    },
    {
      "cell_type": "code",
      "metadata": {
        "id": "-EEk3vD-bf_6",
        "colab_type": "code",
        "colab": {}
      },
      "source": [
        "import pandas as pd\n",
        "rent_url = 'https://drive.google.com/uc?export=download&id=1lVVPmh-WYGb_0Gs_lOv22i02-150qDdZ'\n",
        "rent = pd.read_csv(rent_url)\n",
        "assert rent.shape == (48295, 7)"
      ],
      "execution_count": 0,
      "outputs": []
    },
    {
      "cell_type": "markdown",
      "metadata": {
        "id": "xJQ5C8cxbgAA",
        "colab_type": "text"
      },
      "source": [
        "### Required\n",
        "1. Begin with baselines for regression. Calculate the mean absolute error and $R^2$ score for a mean baseline. _(You can use the whole dataset, or a test set, either way is okay here!)_\n",
        "2. Do train/test split. Use data from April & May 2016 to train. Use data from June 2016 to test.\n",
        "3. Choose any two features.\n",
        "4. Use scikit-learn to fit a Linear Regression model on the train data.\n",
        "5. Apply the model to predict rent prices for the test data.\n",
        "6. Get regression metrics MAE and $R^2$ for the test data.\n",
        "7. Get the model's coefficients and intercept.\n",
        "\n",
        "### Stretch Goals\n",
        "- Try at least 3 different feature combinations. (You don't have to use two features, you can choose any number of features.)\n",
        "- Get regression metrics RMSE, MAE, and $R^2$, for both the train and test data."
      ]
    },
    {
      "cell_type": "markdown",
      "metadata": {
        "id": "8U24i9Ek9itH",
        "colab_type": "text"
      },
      "source": [
        "##Begin with baselines for regression. Calculate the mean absolute error and  R2  score for a mean baseline. (You can use the whole dataset, or a test set, either way is okay here!)"
      ]
    },
    {
      "cell_type": "code",
      "metadata": {
        "id": "20cVKEqbbgAC",
        "colab_type": "code",
        "colab": {
          "base_uri": "https://localhost:8080/",
          "height": 198
        },
        "outputId": "3e2517bb-2aff-429c-cf7f-683b8c54f315"
      },
      "source": [
        "rent.head()"
      ],
      "execution_count": 315,
      "outputs": [
        {
          "output_type": "execute_result",
          "data": {
            "text/html": [
              "<div>\n",
              "<style scoped>\n",
              "    .dataframe tbody tr th:only-of-type {\n",
              "        vertical-align: middle;\n",
              "    }\n",
              "\n",
              "    .dataframe tbody tr th {\n",
              "        vertical-align: top;\n",
              "    }\n",
              "\n",
              "    .dataframe thead th {\n",
              "        text-align: right;\n",
              "    }\n",
              "</style>\n",
              "<table border=\"1\" class=\"dataframe\">\n",
              "  <thead>\n",
              "    <tr style=\"text-align: right;\">\n",
              "      <th></th>\n",
              "      <th>year</th>\n",
              "      <th>month</th>\n",
              "      <th>bedrooms</th>\n",
              "      <th>bathrooms</th>\n",
              "      <th>latitude</th>\n",
              "      <th>longitude</th>\n",
              "      <th>price</th>\n",
              "    </tr>\n",
              "  </thead>\n",
              "  <tbody>\n",
              "    <tr>\n",
              "      <th>0</th>\n",
              "      <td>2016</td>\n",
              "      <td>6</td>\n",
              "      <td>3</td>\n",
              "      <td>1.5</td>\n",
              "      <td>40.7145</td>\n",
              "      <td>-73.9425</td>\n",
              "      <td>3000</td>\n",
              "    </tr>\n",
              "    <tr>\n",
              "      <th>1</th>\n",
              "      <td>2016</td>\n",
              "      <td>6</td>\n",
              "      <td>2</td>\n",
              "      <td>1.0</td>\n",
              "      <td>40.7947</td>\n",
              "      <td>-73.9667</td>\n",
              "      <td>5465</td>\n",
              "    </tr>\n",
              "    <tr>\n",
              "      <th>2</th>\n",
              "      <td>2016</td>\n",
              "      <td>4</td>\n",
              "      <td>1</td>\n",
              "      <td>1.0</td>\n",
              "      <td>40.7388</td>\n",
              "      <td>-74.0018</td>\n",
              "      <td>2850</td>\n",
              "    </tr>\n",
              "    <tr>\n",
              "      <th>3</th>\n",
              "      <td>2016</td>\n",
              "      <td>4</td>\n",
              "      <td>1</td>\n",
              "      <td>1.0</td>\n",
              "      <td>40.7539</td>\n",
              "      <td>-73.9677</td>\n",
              "      <td>3275</td>\n",
              "    </tr>\n",
              "    <tr>\n",
              "      <th>4</th>\n",
              "      <td>2016</td>\n",
              "      <td>4</td>\n",
              "      <td>4</td>\n",
              "      <td>1.0</td>\n",
              "      <td>40.8241</td>\n",
              "      <td>-73.9493</td>\n",
              "      <td>3350</td>\n",
              "    </tr>\n",
              "  </tbody>\n",
              "</table>\n",
              "</div>"
            ],
            "text/plain": [
              "   year  month  bedrooms  bathrooms  latitude  longitude  price\n",
              "0  2016      6         3        1.5   40.7145   -73.9425   3000\n",
              "1  2016      6         2        1.0   40.7947   -73.9667   5465\n",
              "2  2016      4         1        1.0   40.7388   -74.0018   2850\n",
              "3  2016      4         1        1.0   40.7539   -73.9677   3275\n",
              "4  2016      4         4        1.0   40.8241   -73.9493   3350"
            ]
          },
          "metadata": {
            "tags": []
          },
          "execution_count": 315
        }
      ]
    },
    {
      "cell_type": "code",
      "metadata": {
        "id": "yhHvZer3pT0Y",
        "colab_type": "code",
        "colab": {}
      },
      "source": [
        "rent['Mean Baseline'] = rent['price'].mean()"
      ],
      "execution_count": 0,
      "outputs": []
    },
    {
      "cell_type": "code",
      "metadata": {
        "id": "xotIUZGoq4Wu",
        "colab_type": "code",
        "colab": {
          "base_uri": "https://localhost:8080/",
          "height": 34
        },
        "outputId": "963d4bc9-5980-4aad-c0ec-b07da365e2fb"
      },
      "source": [
        "from sklearn.metrics import mean_absolute_error\n",
        "mean_absolute_error(y_true=rent['price'], \n",
        "                    y_pred=rent['Mean Baseline'])"
      ],
      "execution_count": 317,
      "outputs": [
        {
          "output_type": "execute_result",
          "data": {
            "text/plain": [
              "1055.7857771080928"
            ]
          },
          "metadata": {
            "tags": []
          },
          "execution_count": 317
        }
      ]
    },
    {
      "cell_type": "code",
      "metadata": {
        "id": "uVT-q_1XwIbP",
        "colab_type": "code",
        "colab": {
          "base_uri": "https://localhost:8080/",
          "height": 34
        },
        "outputId": "936fe2a2-653e-4d4b-be35-d9c89801b941"
      },
      "source": [
        "from sklearn.metrics import r2_score\n",
        "r2_score(y_true=rent['price'], \n",
        "                    y_pred=rent['Mean Baseline'])"
      ],
      "execution_count": 318,
      "outputs": [
        {
          "output_type": "execute_result",
          "data": {
            "text/plain": [
              "0.0"
            ]
          },
          "metadata": {
            "tags": []
          },
          "execution_count": 318
        }
      ]
    },
    {
      "cell_type": "markdown",
      "metadata": {
        "id": "6Z32U600-EAp",
        "colab_type": "text"
      },
      "source": [
        "##Use scikit-learn to fit a Linear Regression model on the train data"
      ]
    },
    {
      "cell_type": "code",
      "metadata": {
        "id": "ulYPlCS-u8ju",
        "colab_type": "code",
        "colab": {}
      },
      "source": [
        "from sklearn.linear_model import LinearRegression"
      ],
      "execution_count": 0,
      "outputs": []
    },
    {
      "cell_type": "code",
      "metadata": {
        "id": "QdndL8TfvAXw",
        "colab_type": "code",
        "colab": {}
      },
      "source": [
        "model = LinearRegression()"
      ],
      "execution_count": 0,
      "outputs": []
    },
    {
      "cell_type": "markdown",
      "metadata": {
        "id": "-f3bSEfq968T",
        "colab_type": "text"
      },
      "source": [
        "##Choose any two features."
      ]
    },
    {
      "cell_type": "code",
      "metadata": {
        "id": "yePwoxSAynuE",
        "colab_type": "code",
        "colab": {}
      },
      "source": [
        "X = rent[['bedrooms','bathrooms']]\n",
        "y = rent['price']"
      ],
      "execution_count": 0,
      "outputs": []
    },
    {
      "cell_type": "code",
      "metadata": {
        "id": "DtwDAgu_vGAZ",
        "colab_type": "code",
        "colab": {}
      },
      "source": [
        "features = ['bedrooms','bathrooms']\n",
        "\n",
        "target = 'price'\n",
        "\n",
        "X = rent[features]\n",
        "y = rent[target]"
      ],
      "execution_count": 0,
      "outputs": []
    },
    {
      "cell_type": "markdown",
      "metadata": {
        "id": "2lAUSsI3-Nso",
        "colab_type": "text"
      },
      "source": [
        "##Apply the model to predict rent prices for the test data."
      ]
    },
    {
      "cell_type": "code",
      "metadata": {
        "id": "2-72_uyYy0rT",
        "colab_type": "code",
        "colab": {
          "base_uri": "https://localhost:8080/",
          "height": 34
        },
        "outputId": "a0449432-ba93-4ff1-af65-b593f8c2aa1e"
      },
      "source": [
        "model.fit(X, y)"
      ],
      "execution_count": 323,
      "outputs": [
        {
          "output_type": "execute_result",
          "data": {
            "text/plain": [
              "LinearRegression(copy_X=True, fit_intercept=True, n_jobs=None, normalize=False)"
            ]
          },
          "metadata": {
            "tags": []
          },
          "execution_count": 323
        }
      ]
    },
    {
      "cell_type": "code",
      "metadata": {
        "id": "fbNv_-dBy-SD",
        "colab_type": "code",
        "colab": {}
      },
      "source": [
        "y_pred = model.predict(X)"
      ],
      "execution_count": 0,
      "outputs": []
    },
    {
      "cell_type": "markdown",
      "metadata": {
        "id": "cHw1HHE19tid",
        "colab_type": "text"
      },
      "source": [
        "##Do train/test split. Use data from April & May 2016 to train. Use data from June 2016 to test"
      ]
    },
    {
      "cell_type": "code",
      "metadata": {
        "id": "oeyG7kDwtvdq",
        "colab_type": "code",
        "colab": {}
      },
      "source": [
        "train = rent.query('month <= 5')\n",
        "test  = rent.query('month == 6')\n",
        "X_train = train[features] \n",
        "y_train = train[target]\n",
        "X_test  = test[features]\n",
        "y_test  = test[target]\n",
        "\n"
      ],
      "execution_count": 0,
      "outputs": []
    },
    {
      "cell_type": "code",
      "metadata": {
        "id": "e605sXWSz5fL",
        "colab_type": "code",
        "colab": {
          "base_uri": "https://localhost:8080/",
          "height": 34
        },
        "outputId": "e04d825d-8098-43f6-9c2a-415fe34331e5"
      },
      "source": [
        "model.fit(X_train, y_train)"
      ],
      "execution_count": 326,
      "outputs": [
        {
          "output_type": "execute_result",
          "data": {
            "text/plain": [
              "LinearRegression(copy_X=True, fit_intercept=True, n_jobs=None, normalize=False)"
            ]
          },
          "metadata": {
            "tags": []
          },
          "execution_count": 326
        }
      ]
    },
    {
      "cell_type": "code",
      "metadata": {
        "id": "ZpAKyOIc0PSw",
        "colab_type": "code",
        "colab": {}
      },
      "source": [
        "y_pred = model.predict(X_test)\n"
      ],
      "execution_count": 0,
      "outputs": []
    },
    {
      "cell_type": "markdown",
      "metadata": {
        "id": "ICWWUF5v-Wd1",
        "colab_type": "text"
      },
      "source": [
        "##Get regression metrics MAE and  R2  for the test data."
      ]
    },
    {
      "cell_type": "code",
      "metadata": {
        "id": "VJeNCOoD0Ra9",
        "colab_type": "code",
        "colab": {
          "base_uri": "https://localhost:8080/",
          "height": 34
        },
        "outputId": "f07aba71-f638-446b-f7ff-87ee94f6c1c5"
      },
      "source": [
        "mean_absolute_error(y_test, y_pred)"
      ],
      "execution_count": 328,
      "outputs": [
        {
          "output_type": "execute_result",
          "data": {
            "text/plain": [
              "754.0733041489015"
            ]
          },
          "metadata": {
            "tags": []
          },
          "execution_count": 328
        }
      ]
    },
    {
      "cell_type": "code",
      "metadata": {
        "id": "75WTwu8c3WIh",
        "colab_type": "code",
        "colab": {
          "base_uri": "https://localhost:8080/",
          "height": 34
        },
        "outputId": "f4f2afb4-f872-4a20-9319-a4e4c9a7a607"
      },
      "source": [
        "r2_score(y_test, y_pred)"
      ],
      "execution_count": 329,
      "outputs": [
        {
          "output_type": "execute_result",
          "data": {
            "text/plain": [
              "0.4613584851907725"
            ]
          },
          "metadata": {
            "tags": []
          },
          "execution_count": 329
        }
      ]
    },
    {
      "cell_type": "markdown",
      "metadata": {
        "id": "USUkaqc0-ivX",
        "colab_type": "text"
      },
      "source": [
        "##Get the model's coefficients and intercept."
      ]
    },
    {
      "cell_type": "code",
      "metadata": {
        "id": "ToSC9jX846dr",
        "colab_type": "code",
        "colab": {
          "base_uri": "https://localhost:8080/",
          "height": 34
        },
        "outputId": "c373a786-db6b-4e15-979f-80106bddcf15"
      },
      "source": [
        "w0 = model.intercept_\n",
        "w1 = model.coef_[0]\n",
        "\n",
        "print(w0, w1)"
      ],
      "execution_count": 330,
      "outputs": [
        {
          "output_type": "stream",
          "text": [
            "994.3062975058142 420.50971680242264\n"
          ],
          "name": "stdout"
        }
      ]
    }
  ]
}