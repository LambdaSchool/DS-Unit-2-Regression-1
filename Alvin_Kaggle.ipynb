{
  "nbformat": 4,
  "nbformat_minor": 0,
  "metadata": {
    "colab": {
      "name": "Alvin Kaggle.ipynb",
      "version": "0.3.2",
      "provenance": [],
      "include_colab_link": true
    },
    "kernelspec": {
      "name": "python3",
      "display_name": "Python 3"
    },
    "accelerator": "GPU"
  },
  "cells": [
    {
      "cell_type": "markdown",
      "metadata": {
        "id": "view-in-github",
        "colab_type": "text"
      },
      "source": [
        "<a href=\"https://colab.research.google.com/github/alvinwalker314/DS-Unit-2-Regression-1/blob/master/Alvin_Kaggle.ipynb\" target=\"_parent\"><img src=\"https://colab.research.google.com/assets/colab-badge.svg\" alt=\"Open In Colab\"/></a>"
      ]
    },
    {
      "cell_type": "code",
      "metadata": {
        "id": "E7ZwVcchzKCs",
        "colab_type": "code",
        "colab": {
          "base_uri": "https://localhost:8080/",
          "height": 281
        },
        "outputId": "9c4f790f-803d-414a-dcec-3963a2f7e24e"
      },
      "source": [
        "!pip install category_encoders"
      ],
      "execution_count": 1,
      "outputs": [
        {
          "output_type": "stream",
          "text": [
            "Collecting category_encoders\n",
            "\u001b[?25l  Downloading https://files.pythonhosted.org/packages/6e/a1/f7a22f144f33be78afeb06bfa78478e8284a64263a3c09b1ef54e673841e/category_encoders-2.0.0-py2.py3-none-any.whl (87kB)\n",
            "\u001b[K     |████████████████████████████████| 92kB 27.9MB/s \n",
            "\u001b[?25hRequirement already satisfied: statsmodels>=0.6.1 in /usr/local/lib/python3.6/dist-packages (from category_encoders) (0.9.0)\n",
            "Requirement already satisfied: pandas>=0.21.1 in /usr/local/lib/python3.6/dist-packages (from category_encoders) (0.24.2)\n",
            "Requirement already satisfied: patsy>=0.4.1 in /usr/local/lib/python3.6/dist-packages (from category_encoders) (0.5.1)\n",
            "Requirement already satisfied: numpy>=1.11.3 in /usr/local/lib/python3.6/dist-packages (from category_encoders) (1.16.4)\n",
            "Requirement already satisfied: scikit-learn>=0.20.0 in /usr/local/lib/python3.6/dist-packages (from category_encoders) (0.21.2)\n",
            "Requirement already satisfied: scipy>=0.19.0 in /usr/local/lib/python3.6/dist-packages (from category_encoders) (1.3.0)\n",
            "Requirement already satisfied: pytz>=2011k in /usr/local/lib/python3.6/dist-packages (from pandas>=0.21.1->category_encoders) (2018.9)\n",
            "Requirement already satisfied: python-dateutil>=2.5.0 in /usr/local/lib/python3.6/dist-packages (from pandas>=0.21.1->category_encoders) (2.5.3)\n",
            "Requirement already satisfied: six in /usr/local/lib/python3.6/dist-packages (from patsy>=0.4.1->category_encoders) (1.12.0)\n",
            "Requirement already satisfied: joblib>=0.11 in /usr/local/lib/python3.6/dist-packages (from scikit-learn>=0.20.0->category_encoders) (0.13.2)\n",
            "Installing collected packages: category-encoders\n",
            "Successfully installed category-encoders-2.0.0\n"
          ],
          "name": "stdout"
        }
      ]
    },
    {
      "cell_type": "code",
      "metadata": {
        "id": "Tw5hs9I6kjFu",
        "colab_type": "code",
        "colab": {}
      },
      "source": [
        "import category_encoders as ce\n",
        "from google.colab import files\n",
        "import pandas as pd\n",
        "import matplotlib.pyplot as plt\n",
        "from sklearn.linear_model import LogisticRegression\n",
        "from sklearn.metrics import accuracy_score\n",
        "from sklearn.model_selection import train_test_split\n",
        "from sklearn.preprocessing import StandardScaler"
      ],
      "execution_count": 0,
      "outputs": []
    },
    {
      "cell_type": "code",
      "metadata": {
        "id": "c2CxsSaImgSy",
        "colab_type": "code",
        "colab": {}
      },
      "source": [
        "sample_sub= pd.read_csv('https://raw.githubusercontent.com/alvinwalker314/DS-Unit-2-Classification-1/master/sample_submission.csv')\n",
        "test_features= pd.read_csv('https://raw.githubusercontent.com/alvinwalker314/DS-Unit-2-Classification-1/master/test_features.csv')\n",
        "train_features= pd.read_csv('https://raw.githubusercontent.com/alvinwalker314/DS-Unit-2-Classification-1/master/train_features.csv')\n",
        "train_labels= pd.read_csv('https://raw.githubusercontent.com/alvinwalker314/DS-Unit-2-Classification-1/master/train_labels.csv')\n",
        "pd.set_option('display.float_format', '{:.2f}'.format)"
      ],
      "execution_count": 0,
      "outputs": []
    },
    {
      "cell_type": "code",
      "metadata": {
        "id": "xdTZ8ssjokak",
        "colab_type": "code",
        "colab": {
          "base_uri": "https://localhost:8080/",
          "height": 34
        },
        "outputId": "88f2f31f-3803-4a64-a312-517e95c5bbf1"
      },
      "source": [
        "sample_sub.shape, test_features.shape, train_features.shape, train_labels.shape"
      ],
      "execution_count": 4,
      "outputs": [
        {
          "output_type": "execute_result",
          "data": {
            "text/plain": [
              "((14358, 2), (14358, 40), (59400, 40), (59400, 2))"
            ]
          },
          "metadata": {
            "tags": []
          },
          "execution_count": 4
        }
      ]
    },
    {
      "cell_type": "code",
      "metadata": {
        "id": "gJ9OsKhfozGg",
        "colab_type": "code",
        "colab": {}
      },
      "source": [
        "#Split training data\n",
        "X_train= train_features\n",
        "y_train= train_labels['status_group']\n",
        "\n",
        "X_train, X_test, y_train, y_test= train_test_split(\n",
        "    X_train, y_train, train_size=0.80, test_size=0.20,random_state= 20, stratify= y_train)\n"
      ],
      "execution_count": 0,
      "outputs": []
    },
    {
      "cell_type": "code",
      "metadata": {
        "id": "-RowUqVPrU1J",
        "colab_type": "code",
        "colab": {
          "base_uri": "https://localhost:8080/",
          "height": 34
        },
        "outputId": "b7e08a0c-ee52-463c-893f-f424672fb695"
      },
      "source": [
        "X_train.shape, X_test.shape, y_train.shape, y_test.shape"
      ],
      "execution_count": 5,
      "outputs": [
        {
          "output_type": "execute_result",
          "data": {
            "text/plain": [
              "((47520, 40), (11880, 40), (47520,), (11880,))"
            ]
          },
          "metadata": {
            "tags": []
          },
          "execution_count": 5
        }
      ]
    },
    {
      "cell_type": "code",
      "metadata": {
        "id": "3SdEp9I-rmFF",
        "colab_type": "code",
        "colab": {}
      },
      "source": [
        "#numeric features\n",
        "X_train_numeric= X_train.select_dtypes('number')\n",
        "X_test_numeric= X_test.select_dtypes('number')\n",
        "test_features_numeric= test_features.select_dtypes('number')"
      ],
      "execution_count": 0,
      "outputs": []
    },
    {
      "cell_type": "code",
      "metadata": {
        "id": "mb8sRR5VrtBK",
        "colab_type": "code",
        "colab": {
          "base_uri": "https://localhost:8080/",
          "height": 284
        },
        "outputId": "0fea8d26-a4b5-4885-960c-92c694f60664"
      },
      "source": [
        "X_train_numeric.describe()"
      ],
      "execution_count": 8,
      "outputs": [
        {
          "output_type": "execute_result",
          "data": {
            "text/html": [
              "<div>\n",
              "<style scoped>\n",
              "    .dataframe tbody tr th:only-of-type {\n",
              "        vertical-align: middle;\n",
              "    }\n",
              "\n",
              "    .dataframe tbody tr th {\n",
              "        vertical-align: top;\n",
              "    }\n",
              "\n",
              "    .dataframe thead th {\n",
              "        text-align: right;\n",
              "    }\n",
              "</style>\n",
              "<table border=\"1\" class=\"dataframe\">\n",
              "  <thead>\n",
              "    <tr style=\"text-align: right;\">\n",
              "      <th></th>\n",
              "      <th>id</th>\n",
              "      <th>amount_tsh</th>\n",
              "      <th>gps_height</th>\n",
              "      <th>longitude</th>\n",
              "      <th>latitude</th>\n",
              "      <th>num_private</th>\n",
              "      <th>region_code</th>\n",
              "      <th>district_code</th>\n",
              "      <th>population</th>\n",
              "      <th>construction_year</th>\n",
              "    </tr>\n",
              "  </thead>\n",
              "  <tbody>\n",
              "    <tr>\n",
              "      <th>count</th>\n",
              "      <td>47520.00</td>\n",
              "      <td>47520.00</td>\n",
              "      <td>47520.00</td>\n",
              "      <td>47520.00</td>\n",
              "      <td>47520.00</td>\n",
              "      <td>47520.00</td>\n",
              "      <td>47520.00</td>\n",
              "      <td>47520.00</td>\n",
              "      <td>47520.00</td>\n",
              "      <td>47520.00</td>\n",
              "    </tr>\n",
              "    <tr>\n",
              "      <th>mean</th>\n",
              "      <td>37127.76</td>\n",
              "      <td>320.28</td>\n",
              "      <td>666.95</td>\n",
              "      <td>34.08</td>\n",
              "      <td>-5.71</td>\n",
              "      <td>0.49</td>\n",
              "      <td>15.31</td>\n",
              "      <td>5.64</td>\n",
              "      <td>177.70</td>\n",
              "      <td>1301.07</td>\n",
              "    </tr>\n",
              "    <tr>\n",
              "      <th>std</th>\n",
              "      <td>21433.61</td>\n",
              "      <td>3027.11</td>\n",
              "      <td>693.15</td>\n",
              "      <td>6.61</td>\n",
              "      <td>2.95</td>\n",
              "      <td>13.28</td>\n",
              "      <td>17.68</td>\n",
              "      <td>9.65</td>\n",
              "      <td>453.02</td>\n",
              "      <td>951.52</td>\n",
              "    </tr>\n",
              "    <tr>\n",
              "      <th>min</th>\n",
              "      <td>0.00</td>\n",
              "      <td>0.00</td>\n",
              "      <td>-90.00</td>\n",
              "      <td>0.00</td>\n",
              "      <td>-11.65</td>\n",
              "      <td>0.00</td>\n",
              "      <td>1.00</td>\n",
              "      <td>0.00</td>\n",
              "      <td>0.00</td>\n",
              "      <td>0.00</td>\n",
              "    </tr>\n",
              "    <tr>\n",
              "      <th>25%</th>\n",
              "      <td>18577.50</td>\n",
              "      <td>0.00</td>\n",
              "      <td>0.00</td>\n",
              "      <td>33.10</td>\n",
              "      <td>-8.55</td>\n",
              "      <td>0.00</td>\n",
              "      <td>5.00</td>\n",
              "      <td>2.00</td>\n",
              "      <td>0.00</td>\n",
              "      <td>0.00</td>\n",
              "    </tr>\n",
              "    <tr>\n",
              "      <th>50%</th>\n",
              "      <td>37094.50</td>\n",
              "      <td>0.00</td>\n",
              "      <td>366.00</td>\n",
              "      <td>34.92</td>\n",
              "      <td>-5.02</td>\n",
              "      <td>0.00</td>\n",
              "      <td>12.00</td>\n",
              "      <td>3.00</td>\n",
              "      <td>25.00</td>\n",
              "      <td>1986.00</td>\n",
              "    </tr>\n",
              "    <tr>\n",
              "      <th>75%</th>\n",
              "      <td>55592.25</td>\n",
              "      <td>21.25</td>\n",
              "      <td>1318.00</td>\n",
              "      <td>37.19</td>\n",
              "      <td>-3.33</td>\n",
              "      <td>0.00</td>\n",
              "      <td>17.00</td>\n",
              "      <td>5.00</td>\n",
              "      <td>210.00</td>\n",
              "      <td>2004.00</td>\n",
              "    </tr>\n",
              "    <tr>\n",
              "      <th>max</th>\n",
              "      <td>74242.00</td>\n",
              "      <td>350000.00</td>\n",
              "      <td>2770.00</td>\n",
              "      <td>40.35</td>\n",
              "      <td>-0.00</td>\n",
              "      <td>1776.00</td>\n",
              "      <td>99.00</td>\n",
              "      <td>80.00</td>\n",
              "      <td>15300.00</td>\n",
              "      <td>2013.00</td>\n",
              "    </tr>\n",
              "  </tbody>\n",
              "</table>\n",
              "</div>"
            ],
            "text/plain": [
              "            id  amount_tsh  ...  population  construction_year\n",
              "count 47520.00    47520.00  ...    47520.00           47520.00\n",
              "mean  37127.76      320.28  ...      177.70            1301.07\n",
              "std   21433.61     3027.11  ...      453.02             951.52\n",
              "min       0.00        0.00  ...        0.00               0.00\n",
              "25%   18577.50        0.00  ...        0.00               0.00\n",
              "50%   37094.50        0.00  ...       25.00            1986.00\n",
              "75%   55592.25       21.25  ...      210.00            2004.00\n",
              "max   74242.00   350000.00  ...    15300.00            2013.00\n",
              "\n",
              "[8 rows x 10 columns]"
            ]
          },
          "metadata": {
            "tags": []
          },
          "execution_count": 8
        }
      ]
    },
    {
      "cell_type": "code",
      "metadata": {
        "id": "qtukvFnVGic9",
        "colab_type": "code",
        "colab": {}
      },
      "source": [
        "X_train_numeric= X_train_numeric.drop(columns=['id', 'num_private'])\n",
        "X_test_numeric= X_test_numeric.drop(columns=['id', 'num_private'])\n",
        "test_features_numeric= test_features_numeric.drop(columns=['id', 'num_private'])"
      ],
      "execution_count": 0,
      "outputs": []
    },
    {
      "cell_type": "code",
      "metadata": {
        "id": "vyaEHT-qwvA4",
        "colab_type": "code",
        "colab": {
          "base_uri": "https://localhost:8080/",
          "height": 34
        },
        "outputId": "c3413ad9-c326-420d-aff7-ecf5acceeee9"
      },
      "source": [
        "X_train_numeric.shape, X_test_numeric.shape, test_features_numeric.shape"
      ],
      "execution_count": 33,
      "outputs": [
        {
          "output_type": "execute_result",
          "data": {
            "text/plain": [
              "((47520, 8), (11880, 8), (14358, 8))"
            ]
          },
          "metadata": {
            "tags": []
          },
          "execution_count": 33
        }
      ]
    },
    {
      "cell_type": "code",
      "metadata": {
        "id": "MjECKzlYteNd",
        "colab_type": "code",
        "colab": {}
      },
      "source": [
        "#standarize features\n",
        "scaler=StandardScaler()\n",
        "X_train_scaled= scaler.fit_transform(X_train_numeric)\n",
        "X_test_scaled= scaler.transform(X_test_numeric)"
      ],
      "execution_count": 0,
      "outputs": []
    },
    {
      "cell_type": "code",
      "metadata": {
        "id": "sjBnUFX0umH6",
        "colab_type": "code",
        "colab": {
          "base_uri": "https://localhost:8080/",
          "height": 34
        },
        "outputId": "b75e3d8b-a1ee-4e93-fce3-040e6f75165b"
      },
      "source": [
        "X_train_scaled.shape, X_test_scaled.shape"
      ],
      "execution_count": 35,
      "outputs": [
        {
          "output_type": "execute_result",
          "data": {
            "text/plain": [
              "((47520, 8), (11880, 8))"
            ]
          },
          "metadata": {
            "tags": []
          },
          "execution_count": 35
        }
      ]
    },
    {
      "cell_type": "code",
      "metadata": {
        "id": "VQmJBhzxu4mq",
        "colab_type": "code",
        "colab": {
          "base_uri": "https://localhost:8080/",
          "height": 34
        },
        "outputId": "ff490d21-96cd-4045-9993-2e0f4cb1a50f"
      },
      "source": [
        "#model with standarized numeric features\n",
        "model= LogisticRegression(solver='lbfgs', multi_class= 'auto', max_iter=1000)\n",
        "model.fit(X_train_scaled, y_train)\n",
        "y_pred= model.predict(X_test_scaled)\n",
        "accuracy_score(y_test, y_pred)"
      ],
      "execution_count": 9,
      "outputs": [
        {
          "output_type": "execute_result",
          "data": {
            "text/plain": [
              "0.5576599326599326"
            ]
          },
          "metadata": {
            "tags": []
          },
          "execution_count": 9
        }
      ]
    },
    {
      "cell_type": "code",
      "metadata": {
        "id": "BYBnD37iz9tA",
        "colab_type": "code",
        "colab": {}
      },
      "source": [
        "#coefs\n",
        "functional_coef= pd.Series(model.coef_[0], X_train_numeric.columns)\n",
        "non_functional_coef= pd.Series(model.coef_[1], X_train_numeric.columns)\n",
        "needs_repairs_coef= pd.Series(model.coef_[2], X_train_numeric.columns)"
      ],
      "execution_count": 0,
      "outputs": []
    },
    {
      "cell_type": "code",
      "metadata": {
        "id": "R90nDDln1ZFA",
        "colab_type": "code",
        "colab": {}
      },
      "source": [
        "#plotting coef for functional\n",
        "fig= plt.figure(figsize=(10,10))\n",
        "functional_coef.sort_values().plot.barh();\n",
        "plt.xlabel('Effect percentage')\n",
        "plt.ylabel('Features')\n",
        "plt.title('Effects of different features on whether target is functional');"
      ],
      "execution_count": 0,
      "outputs": []
    },
    {
      "cell_type": "code",
      "metadata": {
        "id": "ISgMrL-N6T5k",
        "colab_type": "code",
        "colab": {}
      },
      "source": [
        "#plotting coef for not functional\n",
        "fig= plt.figure(figsize=(10,10))\n",
        "non_functional_coef.sort_values().plot.barh();\n",
        "plt.xlabel('Effect percentage')\n",
        "plt.ylabel('Features')\n",
        "plt.title('Effects of different features on whether target is not functional');"
      ],
      "execution_count": 0,
      "outputs": []
    },
    {
      "cell_type": "code",
      "metadata": {
        "id": "riGzPZIq6XsG",
        "colab_type": "code",
        "colab": {}
      },
      "source": [
        "#plotting coef for needs repairs\n",
        "fig= plt.figure(figsize=(10,10))\n",
        "needs_repairs_coef.sort_values().plot.barh();\n",
        "plt.xlabel('Effect percentage')\n",
        "plt.ylabel('Features')\n",
        "plt.title('Effects of different features on whether target is functional but needs repairs');\n"
      ],
      "execution_count": 0,
      "outputs": []
    },
    {
      "cell_type": "code",
      "metadata": {
        "id": "_Vu6rnrAzD5a",
        "colab_type": "code",
        "colab": {}
      },
      "source": [
        "#grab categorial features\n",
        "X_train_cat= X_train.select_dtypes(exclude='number')\n",
        "X_test_cat= X_test.select_dtypes(exclude='number')\n",
        "test_features_cat= test_features.select_dtypes(exclude='number')"
      ],
      "execution_count": 0,
      "outputs": []
    },
    {
      "cell_type": "code",
      "metadata": {
        "id": "BeRVGcLeaNth",
        "colab_type": "code",
        "colab": {}
      },
      "source": [
        "columns= ['recorded_by', 'extraction_type_group', 'extraction_type_class', 'management', 'quantity_group', 'quality_group', 'source_class', 'waterpoint_type_group', 'payment', 'source_type','wpt_name', 'subvillage', 'scheme_name', 'ward', 'installer', 'funder', 'date_recorded']\n",
        "#drop columns i dont need\n",
        "X_train_cat= X_train_cat.drop(columns= columns)\n",
        "X_test_cat= X_test_cat.drop(columns= columns)\n",
        "test_features_cat= test_features.drop(columns= columns)"
      ],
      "execution_count": 0,
      "outputs": []
    },
    {
      "cell_type": "code",
      "metadata": {
        "id": "CQCS3VMVvuvA",
        "colab_type": "code",
        "colab": {
          "base_uri": "https://localhost:8080/",
          "height": 432
        },
        "outputId": "2b92f5c9-70be-4fad-8c3c-5838b0355490"
      },
      "source": [
        "X_train_cat.describe().T.sort_values(by='unique')"
      ],
      "execution_count": 14,
      "outputs": [
        {
          "output_type": "execute_result",
          "data": {
            "text/html": [
              "<div>\n",
              "<style scoped>\n",
              "    .dataframe tbody tr th:only-of-type {\n",
              "        vertical-align: middle;\n",
              "    }\n",
              "\n",
              "    .dataframe tbody tr th {\n",
              "        vertical-align: top;\n",
              "    }\n",
              "\n",
              "    .dataframe thead th {\n",
              "        text-align: right;\n",
              "    }\n",
              "</style>\n",
              "<table border=\"1\" class=\"dataframe\">\n",
              "  <thead>\n",
              "    <tr style=\"text-align: right;\">\n",
              "      <th></th>\n",
              "      <th>count</th>\n",
              "      <th>unique</th>\n",
              "      <th>top</th>\n",
              "      <th>freq</th>\n",
              "    </tr>\n",
              "  </thead>\n",
              "  <tbody>\n",
              "    <tr>\n",
              "      <th>public_meeting</th>\n",
              "      <td>44862</td>\n",
              "      <td>2</td>\n",
              "      <td>True</td>\n",
              "      <td>40792</td>\n",
              "    </tr>\n",
              "    <tr>\n",
              "      <th>permit</th>\n",
              "      <td>45028</td>\n",
              "      <td>2</td>\n",
              "      <td>True</td>\n",
              "      <td>31046</td>\n",
              "    </tr>\n",
              "    <tr>\n",
              "      <th>management_group</th>\n",
              "      <td>47520</td>\n",
              "      <td>5</td>\n",
              "      <td>user-group</td>\n",
              "      <td>42005</td>\n",
              "    </tr>\n",
              "    <tr>\n",
              "      <th>quantity</th>\n",
              "      <td>47520</td>\n",
              "      <td>5</td>\n",
              "      <td>enough</td>\n",
              "      <td>26586</td>\n",
              "    </tr>\n",
              "    <tr>\n",
              "      <th>payment_type</th>\n",
              "      <td>47520</td>\n",
              "      <td>7</td>\n",
              "      <td>never pay</td>\n",
              "      <td>20289</td>\n",
              "    </tr>\n",
              "    <tr>\n",
              "      <th>waterpoint_type</th>\n",
              "      <td>47520</td>\n",
              "      <td>7</td>\n",
              "      <td>communal standpipe</td>\n",
              "      <td>22815</td>\n",
              "    </tr>\n",
              "    <tr>\n",
              "      <th>water_quality</th>\n",
              "      <td>47520</td>\n",
              "      <td>8</td>\n",
              "      <td>soft</td>\n",
              "      <td>40617</td>\n",
              "    </tr>\n",
              "    <tr>\n",
              "      <th>basin</th>\n",
              "      <td>47520</td>\n",
              "      <td>9</td>\n",
              "      <td>Lake Victoria</td>\n",
              "      <td>8172</td>\n",
              "    </tr>\n",
              "    <tr>\n",
              "      <th>source</th>\n",
              "      <td>47520</td>\n",
              "      <td>10</td>\n",
              "      <td>spring</td>\n",
              "      <td>13578</td>\n",
              "    </tr>\n",
              "    <tr>\n",
              "      <th>scheme_management</th>\n",
              "      <td>44399</td>\n",
              "      <td>11</td>\n",
              "      <td>VWC</td>\n",
              "      <td>29450</td>\n",
              "    </tr>\n",
              "    <tr>\n",
              "      <th>extraction_type</th>\n",
              "      <td>47520</td>\n",
              "      <td>18</td>\n",
              "      <td>gravity</td>\n",
              "      <td>21385</td>\n",
              "    </tr>\n",
              "    <tr>\n",
              "      <th>region</th>\n",
              "      <td>47520</td>\n",
              "      <td>21</td>\n",
              "      <td>Iringa</td>\n",
              "      <td>4222</td>\n",
              "    </tr>\n",
              "    <tr>\n",
              "      <th>lga</th>\n",
              "      <td>47520</td>\n",
              "      <td>125</td>\n",
              "      <td>Njombe</td>\n",
              "      <td>2011</td>\n",
              "    </tr>\n",
              "  </tbody>\n",
              "</table>\n",
              "</div>"
            ],
            "text/plain": [
              "                   count unique                 top   freq\n",
              "public_meeting     44862      2                True  40792\n",
              "permit             45028      2                True  31046\n",
              "management_group   47520      5          user-group  42005\n",
              "quantity           47520      5              enough  26586\n",
              "payment_type       47520      7           never pay  20289\n",
              "waterpoint_type    47520      7  communal standpipe  22815\n",
              "water_quality      47520      8                soft  40617\n",
              "basin              47520      9       Lake Victoria   8172\n",
              "source             47520     10              spring  13578\n",
              "scheme_management  44399     11                 VWC  29450\n",
              "extraction_type    47520     18             gravity  21385\n",
              "region             47520     21              Iringa   4222\n",
              "lga                47520    125              Njombe   2011"
            ]
          },
          "metadata": {
            "tags": []
          },
          "execution_count": 14
        }
      ]
    },
    {
      "cell_type": "code",
      "metadata": {
        "id": "RnV1glqj4bKQ",
        "colab_type": "code",
        "colab": {}
      },
      "source": [
        "#use one hot encoding on categorical features that are left\n",
        "encoder= ce.OneHotEncoder(use_cat_names=True)\n",
        "X_train_encoded= encoder.fit_transform(X_train_cat)\n",
        "X_test_encoded= encoder.transform(X_test_cat)\n",
        "test_features_encoded= encoder.transform(test_features_cat)"
      ],
      "execution_count": 0,
      "outputs": []
    },
    {
      "cell_type": "code",
      "metadata": {
        "id": "fjKq_w6DgVX8",
        "colab_type": "code",
        "colab": {
          "base_uri": "https://localhost:8080/",
          "height": 34
        },
        "outputId": "b8464a71-bf9c-4f64-c528-6e382a795ddd"
      },
      "source": [
        "X_train_encoded.shape, X_test_encoded.shape"
      ],
      "execution_count": 16,
      "outputs": [
        {
          "output_type": "execute_result",
          "data": {
            "text/plain": [
              "((47520, 233), (11880, 233))"
            ]
          },
          "metadata": {
            "tags": []
          },
          "execution_count": 16
        }
      ]
    },
    {
      "cell_type": "code",
      "metadata": {
        "id": "AfNhu9lM9g7s",
        "colab_type": "code",
        "colab": {
          "base_uri": "https://localhost:8080/",
          "height": 34
        },
        "outputId": "849eb401-5cbd-425a-9a39-880857505946"
      },
      "source": [
        "#model with one hot encoded categorical features\n",
        "model= LogisticRegression(solver='lbfgs', multi_class= 'auto', max_iter=1000)\n",
        "model.fit(X_train_encoded, y_train)\n",
        "y_pred= model.predict(X_test_encoded)\n",
        "accuracy_score(y_test, y_pred)"
      ],
      "execution_count": 14,
      "outputs": [
        {
          "output_type": "execute_result",
          "data": {
            "text/plain": [
              "0.7459595959595959"
            ]
          },
          "metadata": {
            "tags": []
          },
          "execution_count": 14
        }
      ]
    },
    {
      "cell_type": "code",
      "metadata": {
        "id": "gTRsvQPV-nKX",
        "colab_type": "code",
        "colab": {}
      },
      "source": [
        "#coef for encoded features\n",
        "functional_coef= pd.Series(model.coef_[0], X_train_encoded.columns)\n",
        "non_functional_coef= pd.Series(model.coef_[1], X_train_encoded.columns)\n",
        "needs_repairs_coef= pd.Series(model.coef_[2], X_train_encoded.columns)"
      ],
      "execution_count": 0,
      "outputs": []
    },
    {
      "cell_type": "code",
      "metadata": {
        "id": "YYGrfnCp85mB",
        "colab_type": "code",
        "colab": {
          "base_uri": "https://localhost:8080/",
          "height": 1108
        },
        "outputId": "8120c618-55f5-4d14-8182-6e884299c57e"
      },
      "source": [
        ""
      ],
      "execution_count": 23,
      "outputs": [
        {
          "output_type": "execute_result",
          "data": {
            "text/plain": [
              "basin_Lake Tanganyika                          0.25\n",
              "basin_Pangani                                 -0.33\n",
              "basin_Wami / Ruvu                             -0.41\n",
              "basin_Lake Nyasa                               0.27\n",
              "basin_Internal                                -0.00\n",
              "basin_Lake Victoria                            0.25\n",
              "basin_Rufiji                                  -0.03\n",
              "basin_Lake Rukwa                               0.12\n",
              "basin_Ruvuma / Southern Coast                 -0.12\n",
              "region_Rukwa                                  -0.29\n",
              "region_Kilimanjaro                             0.19\n",
              "region_Dar es Salaam                           0.74\n",
              "region_Mbeya                                  -0.20\n",
              "region_Arusha                                  0.26\n",
              "region_Tabora                                 -0.09\n",
              "region_Tanga                                   0.69\n",
              "region_Mwanza                                 -0.28\n",
              "region_Morogoro                                0.07\n",
              "region_Shinyanga                              -0.34\n",
              "region_Dodoma                                  0.31\n",
              "region_Iringa                                  0.70\n",
              "region_Lindi                                  -0.43\n",
              "region_Ruvuma                                  0.11\n",
              "region_Pwani                                   0.37\n",
              "region_Mtwara                                 -0.30\n",
              "region_Manyara                                 0.10\n",
              "region_Kagera                                 -0.52\n",
              "region_Kigoma                                 -0.40\n",
              "region_Mara                                   -0.53\n",
              "region_Singida                                -0.18\n",
              "                                               ... \n",
              "water_quality_soft                             0.04\n",
              "water_quality_salty                            0.01\n",
              "water_quality_coloured                        -0.01\n",
              "water_quality_milky                            0.51\n",
              "water_quality_salty abandoned                 -0.31\n",
              "water_quality_unknown                         -0.35\n",
              "water_quality_fluoride                         0.30\n",
              "water_quality_fluoride abandoned              -0.20\n",
              "quantity_enough                                0.64\n",
              "quantity_insufficient                          0.28\n",
              "quantity_dry                                  -1.68\n",
              "quantity_seasonal                              0.32\n",
              "quantity_unknown                               0.45\n",
              "source_river                                  -0.30\n",
              "source_spring                                  0.00\n",
              "source_machine dbh                            -0.17\n",
              "source_shallow well                           -0.17\n",
              "source_rainwater harvesting                    0.35\n",
              "source_dam                                    -0.04\n",
              "source_hand dtw                               -0.19\n",
              "source_lake                                   -0.20\n",
              "source_other                                   0.70\n",
              "source_unknown                                 0.02\n",
              "waterpoint_type_communal standpipe            -0.14\n",
              "waterpoint_type_communal standpipe multiple   -0.58\n",
              "waterpoint_type_hand pump                     -0.00\n",
              "waterpoint_type_other                         -0.92\n",
              "waterpoint_type_improved spring                0.53\n",
              "waterpoint_type_cattle trough                  0.65\n",
              "waterpoint_type_dam                            0.45\n",
              "Length: 233, dtype: float64"
            ]
          },
          "metadata": {
            "tags": []
          },
          "execution_count": 23
        }
      ]
    },
    {
      "cell_type": "code",
      "metadata": {
        "id": "yMswZVzF98FH",
        "colab_type": "code",
        "colab": {}
      },
      "source": [
        "#combined catergorical and numeric features\n",
        "X_train_final= pd.concat([X_train_encoded,X_train_numeric], axis=1)\n",
        "X_test_final= pd.concat([X_test_encoded, X_test_numeric],axis=1)\n",
        "test_features_final= pd.concat([test_features_encoded, test_features_numeric], axis=1)"
      ],
      "execution_count": 0,
      "outputs": []
    },
    {
      "cell_type": "code",
      "metadata": {
        "id": "bW_3_cDOBnkw",
        "colab_type": "code",
        "colab": {}
      },
      "source": [
        "#standardized the data\n",
        "scaler= StandardScaler()\n",
        "X_train_final_scaled= scaler.fit_transform(X_train_final)\n",
        "X_test_final_scaled= scaler.transform(X_test_final)\n",
        "test_features_scaled= scaler.transform(test_features_final)"
      ],
      "execution_count": 0,
      "outputs": []
    },
    {
      "cell_type": "code",
      "metadata": {
        "id": "RXxqr1lIBabI",
        "colab_type": "code",
        "colab": {
          "base_uri": "https://localhost:8080/",
          "height": 34
        },
        "outputId": "8cebf445-0259-4abc-8c0c-2237d4164002"
      },
      "source": [
        "X_train_final_scaled.shape, X_test_final_scaled.shape, test_features_scaled.shape"
      ],
      "execution_count": 23,
      "outputs": [
        {
          "output_type": "execute_result",
          "data": {
            "text/plain": [
              "((47520, 241), (11880, 241), (14358, 241))"
            ]
          },
          "metadata": {
            "tags": []
          },
          "execution_count": 23
        }
      ]
    },
    {
      "cell_type": "code",
      "metadata": {
        "id": "zYXEOicjQaFm",
        "colab_type": "code",
        "colab": {
          "base_uri": "https://localhost:8080/",
          "height": 70
        },
        "outputId": "17586ce4-3ce0-42d0-b52c-17be756e49ea"
      },
      "source": [
        "#model with numeric and catergorical features\n",
        "model= LogisticRegression(solver='saga',multi_class='auto',max_iter=1000)\n",
        "model.fit(X_train_final_scaled, y_train)\n",
        "y_pred= model.predict(X_test_final_scaled)\n",
        "accuracy_score(y_test, y_pred)"
      ],
      "execution_count": 34,
      "outputs": [
        {
          "output_type": "stream",
          "text": [
            "/usr/local/lib/python3.6/dist-packages/sklearn/linear_model/sag.py:337: ConvergenceWarning: The max_iter was reached which means the coef_ did not converge\n",
            "  \"the coef_ did not converge\", ConvergenceWarning)\n"
          ],
          "name": "stderr"
        },
        {
          "output_type": "execute_result",
          "data": {
            "text/plain": [
              "0.7485690235690236"
            ]
          },
          "metadata": {
            "tags": []
          },
          "execution_count": 34
        }
      ]
    },
    {
      "cell_type": "code",
      "metadata": {
        "id": "85SiLqT7f50j",
        "colab_type": "code",
        "colab": {}
      },
      "source": [
        "#predicting test_features\n",
        "y_pred= model.predict(test_features_scaled)"
      ],
      "execution_count": 0,
      "outputs": []
    },
    {
      "cell_type": "code",
      "metadata": {
        "id": "sFcBlbRggxRc",
        "colab_type": "code",
        "colab": {}
      },
      "source": [
        "#placing my predictions in sample sub\n",
        "sample_sub['status_group']= y_pred"
      ],
      "execution_count": 0,
      "outputs": []
    },
    {
      "cell_type": "code",
      "metadata": {
        "id": "2h3Urcz7g27q",
        "colab_type": "code",
        "colab": {
          "base_uri": "https://localhost:8080/",
          "height": 87
        },
        "outputId": "71b1fa22-94e8-46a7-d81d-7ab64f91ae16"
      },
      "source": [
        "#checking out amounts\n",
        "sample_sub['status_group'].value_counts()"
      ],
      "execution_count": 27,
      "outputs": [
        {
          "output_type": "execute_result",
          "data": {
            "text/plain": [
              "functional                 9415\n",
              "non functional             4704\n",
              "functional needs repair     239\n",
              "Name: status_group, dtype: int64"
            ]
          },
          "metadata": {
            "tags": []
          },
          "execution_count": 27
        }
      ]
    },
    {
      "cell_type": "code",
      "metadata": {
        "id": "7rqzOESvk_UM",
        "colab_type": "code",
        "colab": {}
      },
      "source": [
        "sample_sub.to_csv('sample_sub.csv', index=False)"
      ],
      "execution_count": 0,
      "outputs": []
    },
    {
      "cell_type": "code",
      "metadata": {
        "id": "Y00Syu7LlRkF",
        "colab_type": "code",
        "colab": {}
      },
      "source": [
        "files.download('sample_sub.csv')"
      ],
      "execution_count": 0,
      "outputs": []
    }
  ]
}