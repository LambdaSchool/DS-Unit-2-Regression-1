{
  "nbformat": 4,
  "nbformat_minor": 0,
  "metadata": {
    "colab": {
      "name": "Daniel calimayor DS_Sprint_Challenge_6_Regression_1.ipynb",
      "version": "0.3.2",
      "provenance": [],
      "include_colab_link": true
    },
    "language_info": {
      "codemirror_mode": {
        "name": "ipython",
        "version": 3
      },
      "file_extension": ".py",
      "mimetype": "text/x-python",
      "name": "python",
      "nbconvert_exporter": "python",
      "pygments_lexer": "ipython3",
      "version": "3.7.1"
    },
    "kernelspec": {
      "display_name": "Python 3",
      "language": "python",
      "name": "python3"
    }
  },
  "cells": [
    {
      "cell_type": "markdown",
      "metadata": {
        "id": "view-in-github",
        "colab_type": "text"
      },
      "source": [
        "<a href=\"https://colab.research.google.com/github/DanielCalimayor/DS-Unit-2-Regression-1/blob/master/Daniel_calimayor_DS_Sprint_Challenge_6_Regression_1.ipynb\" target=\"_parent\"><img src=\"https://colab.research.google.com/assets/colab-badge.svg\" alt=\"Open In Colab\"/></a>"
      ]
    },
    {
      "cell_type": "markdown",
      "metadata": {
        "id": "CYLnycYAbFDn",
        "colab_type": "text"
      },
      "source": [
        "_Lambda School Data Science, Unit 2_\n",
        " \n",
        "# Regression 1 Sprint Challenge\n",
        "\n",
        "Your Sprint Challenge has two parts.\n",
        "\n",
        "To demonstrate mastery on each part, do all the required, numbered instructions. \n",
        "\n",
        "To earn a score of \"3\" for the part, also do the stretch goals."
      ]
    },
    {
      "cell_type": "markdown",
      "metadata": {
        "id": "uPWQt-zZbFDp",
        "colab_type": "text"
      },
      "source": [
        "## Part 1. Predict avocado sales 🥑\n",
        "\n",
        "For part 1 of your challenge, you'll use historical data on avocado sales across the nation!\n",
        "\n",
        "Run this code cell to load the dataset. It has weekly sales volume (total number of avocados sold) from January 4, 2015 through March 25, 2018. The data comes directly from retailers' cash registers based on actual retail sales of Hass avocados in multiple US markets."
      ]
    },
    {
      "cell_type": "code",
      "metadata": {
        "id": "SdGHv3xObFDp",
        "colab_type": "code",
        "colab": {}
      },
      "source": [
        "import pandas as pd\n",
        "avocado_url = 'https://drive.google.com/uc?export=download&id=1ljE-LhCA9CCFvSIJYJ1ewX8JmdDpfuhi'\n",
        "avocado = pd.read_csv(avocado_url)\n",
        "assert avocado.shape == (169, 2)"
      ],
      "execution_count": 0,
      "outputs": []
    },
    {
      "cell_type": "markdown",
      "metadata": {
        "id": "3fGrMgSHbFDt",
        "colab_type": "text"
      },
      "source": [
        "### Required\n",
        "\n",
        "#### Use the Prophet library to:\n",
        "1. Fit a model and forecast avocado sales through March 25, 2020\n",
        "2. Plot the forecast\n",
        "3. Plot the forecast components\n",
        "4. Do time series cross-validation, with these parameters: `horizon='90 days', period='45 days', initial='730 days'`\n",
        "5. Plot the cross-validation Mean Absolute Percentage Error: `metric='mape'`\n",
        "\n",
        "_For Part 1 of this Sprint Challenge, you are **not** required to calculate or plot baselines, or do train/test split._\n",
        "\n",
        "You can be confident you've done it correctly when your plots look similar to these:\n",
        "\n",
        "<img src=\"https://i.imgur.com/PoyVGp7.png\" width=\"400\" align=\"left\">\n",
        "\n"
      ]
    },
    {
      "cell_type": "markdown",
      "metadata": {
        "id": "2mO5Y9J1bFDu",
        "colab_type": "text"
      },
      "source": [
        "### Stretch Goal\n",
        "- Adjust your forecasts with Prophet's options for changepoints, holidays, and fourier order. Improve the cross-validation MAPE."
      ]
    },
    {
      "cell_type": "code",
      "metadata": {
        "id": "YVqZcp9kbFDv",
        "colab_type": "code",
        "colab": {}
      },
      "source": [
        "%matplotlib inline\n",
        "from fbprophet import Prophet\n",
        "from fbprophet.diagnostics import cross_validation, performance_metrics\n",
        "from fbprophet.plot import add_changepoints_to_plot, plot_cross_validation_metric\n",
        "import matplotlib.pyplot as plt\n",
        "import pandas as pd"
      ],
      "execution_count": 0,
      "outputs": []
    },
    {
      "cell_type": "code",
      "metadata": {
        "id": "gjsMo312c5I2",
        "colab_type": "code",
        "outputId": "34aa2050-8bdc-4776-e41e-7028cf9bf2b9",
        "colab": {
          "base_uri": "https://localhost:8080/",
          "height": 198
        }
      },
      "source": [
        "avocado.head()"
      ],
      "execution_count": 0,
      "outputs": [
        {
          "output_type": "execute_result",
          "data": {
            "text/html": [
              "<div>\n",
              "<style scoped>\n",
              "    .dataframe tbody tr th:only-of-type {\n",
              "        vertical-align: middle;\n",
              "    }\n",
              "\n",
              "    .dataframe tbody tr th {\n",
              "        vertical-align: top;\n",
              "    }\n",
              "\n",
              "    .dataframe thead th {\n",
              "        text-align: right;\n",
              "    }\n",
              "</style>\n",
              "<table border=\"1\" class=\"dataframe\">\n",
              "  <thead>\n",
              "    <tr style=\"text-align: right;\">\n",
              "      <th></th>\n",
              "      <th>Date</th>\n",
              "      <th>Total Volume</th>\n",
              "    </tr>\n",
              "  </thead>\n",
              "  <tbody>\n",
              "    <tr>\n",
              "      <th>0</th>\n",
              "      <td>2015-01-04</td>\n",
              "      <td>84674288</td>\n",
              "    </tr>\n",
              "    <tr>\n",
              "      <th>1</th>\n",
              "      <td>2015-01-11</td>\n",
              "      <td>78555753</td>\n",
              "    </tr>\n",
              "    <tr>\n",
              "      <th>2</th>\n",
              "      <td>2015-01-18</td>\n",
              "      <td>78388735</td>\n",
              "    </tr>\n",
              "    <tr>\n",
              "      <th>3</th>\n",
              "      <td>2015-01-25</td>\n",
              "      <td>76466226</td>\n",
              "    </tr>\n",
              "    <tr>\n",
              "      <th>4</th>\n",
              "      <td>2015-02-01</td>\n",
              "      <td>119453181</td>\n",
              "    </tr>\n",
              "  </tbody>\n",
              "</table>\n",
              "</div>"
            ],
            "text/plain": [
              "         Date  Total Volume\n",
              "0  2015-01-04      84674288\n",
              "1  2015-01-11      78555753\n",
              "2  2015-01-18      78388735\n",
              "3  2015-01-25      76466226\n",
              "4  2015-02-01     119453181"
            ]
          },
          "metadata": {
            "tags": []
          },
          "execution_count": 40
        }
      ]
    },
    {
      "cell_type": "code",
      "metadata": {
        "id": "I8UXyLCmst5R",
        "colab_type": "code",
        "outputId": "ff2c085e-1284-4daf-d08b-becc4842a8b9",
        "colab": {
          "base_uri": "https://localhost:8080/",
          "height": 35
        }
      },
      "source": [
        "avocado.shape"
      ],
      "execution_count": 0,
      "outputs": [
        {
          "output_type": "execute_result",
          "data": {
            "text/plain": [
              "(169, 2)"
            ]
          },
          "metadata": {
            "tags": []
          },
          "execution_count": 70
        }
      ]
    },
    {
      "cell_type": "code",
      "metadata": {
        "id": "MmTlhNq7eyJp",
        "colab_type": "code",
        "outputId": "4dc4ea8f-73ca-4452-d3b0-5bb367d6964a",
        "colab": {
          "base_uri": "https://localhost:8080/",
          "height": 69
        }
      },
      "source": [
        "avocado.dtypes"
      ],
      "execution_count": 0,
      "outputs": [
        {
          "output_type": "execute_result",
          "data": {
            "text/plain": [
              "Date            object\n",
              "Total Volume     int64\n",
              "dtype: object"
            ]
          },
          "metadata": {
            "tags": []
          },
          "execution_count": 41
        }
      ]
    },
    {
      "cell_type": "markdown",
      "metadata": {
        "id": "fim7jaZUqV4w",
        "colab_type": "text"
      },
      "source": [
        "Model Fit"
      ]
    },
    {
      "cell_type": "code",
      "metadata": {
        "id": "OCvulJdkfHv2",
        "colab_type": "code",
        "colab": {}
      },
      "source": [
        "avocado['Date'] = pd.to_datetime(avocado['Date'])\n",
        "avocado = avocado.set_index('Date')"
      ],
      "execution_count": 0,
      "outputs": []
    },
    {
      "cell_type": "code",
      "metadata": {
        "id": "ysyvZcMmffce",
        "colab_type": "code",
        "colab": {}
      },
      "source": [
        ""
      ],
      "execution_count": 0,
      "outputs": []
    },
    {
      "cell_type": "code",
      "metadata": {
        "id": "EChPPx3inyQR",
        "colab_type": "code",
        "colab": {}
      },
      "source": [
        ""
      ],
      "execution_count": 0,
      "outputs": []
    },
    {
      "cell_type": "code",
      "metadata": {
        "id": "jXsDR7O9joWz",
        "colab_type": "code",
        "colab": {}
      },
      "source": [
        "avocado = avocado.reset_index().rename(columns = {'Date': 'ds', 'Total Volume': 'y'})"
      ],
      "execution_count": 0,
      "outputs": []
    },
    {
      "cell_type": "code",
      "metadata": {
        "id": "koXip_umklwd",
        "colab_type": "code",
        "outputId": "15d0d070-7d5f-467e-a14e-ac695c20aa23",
        "colab": {
          "base_uri": "https://localhost:8080/",
          "height": 198
        }
      },
      "source": [
        "avocado.tail()"
      ],
      "execution_count": 0,
      "outputs": [
        {
          "output_type": "execute_result",
          "data": {
            "text/html": [
              "<div>\n",
              "<style scoped>\n",
              "    .dataframe tbody tr th:only-of-type {\n",
              "        vertical-align: middle;\n",
              "    }\n",
              "\n",
              "    .dataframe tbody tr th {\n",
              "        vertical-align: top;\n",
              "    }\n",
              "\n",
              "    .dataframe thead th {\n",
              "        text-align: right;\n",
              "    }\n",
              "</style>\n",
              "<table border=\"1\" class=\"dataframe\">\n",
              "  <thead>\n",
              "    <tr style=\"text-align: right;\">\n",
              "      <th></th>\n",
              "      <th>ds</th>\n",
              "      <th>y</th>\n",
              "    </tr>\n",
              "  </thead>\n",
              "  <tbody>\n",
              "    <tr>\n",
              "      <th>164</th>\n",
              "      <td>2018-02-25</td>\n",
              "      <td>109231389</td>\n",
              "    </tr>\n",
              "    <tr>\n",
              "      <th>165</th>\n",
              "      <td>2018-03-04</td>\n",
              "      <td>111844876</td>\n",
              "    </tr>\n",
              "    <tr>\n",
              "      <th>166</th>\n",
              "      <td>2018-03-11</td>\n",
              "      <td>111465145</td>\n",
              "    </tr>\n",
              "    <tr>\n",
              "      <th>167</th>\n",
              "      <td>2018-03-18</td>\n",
              "      <td>113673928</td>\n",
              "    </tr>\n",
              "    <tr>\n",
              "      <th>168</th>\n",
              "      <td>2018-03-25</td>\n",
              "      <td>118268903</td>\n",
              "    </tr>\n",
              "  </tbody>\n",
              "</table>\n",
              "</div>"
            ],
            "text/plain": [
              "            ds          y\n",
              "164 2018-02-25  109231389\n",
              "165 2018-03-04  111844876\n",
              "166 2018-03-11  111465145\n",
              "167 2018-03-18  113673928\n",
              "168 2018-03-25  118268903"
            ]
          },
          "metadata": {
            "tags": []
          },
          "execution_count": 44
        }
      ]
    },
    {
      "cell_type": "code",
      "metadata": {
        "id": "w4fVUv2dlE50",
        "colab_type": "code",
        "colab": {}
      },
      "source": [
        "avocado = avocado.rename(columns = {'index': 'ds', 'Total Volume': 'y'})"
      ],
      "execution_count": 0,
      "outputs": []
    },
    {
      "cell_type": "code",
      "metadata": {
        "id": "hJUC-DOynd-A",
        "colab_type": "code",
        "outputId": "a70692eb-4157-42cc-d11d-798011129732",
        "colab": {
          "base_uri": "https://localhost:8080/",
          "height": 198
        }
      },
      "source": [
        "avocado.head()"
      ],
      "execution_count": 0,
      "outputs": [
        {
          "output_type": "execute_result",
          "data": {
            "text/html": [
              "<div>\n",
              "<style scoped>\n",
              "    .dataframe tbody tr th:only-of-type {\n",
              "        vertical-align: middle;\n",
              "    }\n",
              "\n",
              "    .dataframe tbody tr th {\n",
              "        vertical-align: top;\n",
              "    }\n",
              "\n",
              "    .dataframe thead th {\n",
              "        text-align: right;\n",
              "    }\n",
              "</style>\n",
              "<table border=\"1\" class=\"dataframe\">\n",
              "  <thead>\n",
              "    <tr style=\"text-align: right;\">\n",
              "      <th></th>\n",
              "      <th>ds</th>\n",
              "      <th>y</th>\n",
              "    </tr>\n",
              "  </thead>\n",
              "  <tbody>\n",
              "    <tr>\n",
              "      <th>0</th>\n",
              "      <td>2015-01-04</td>\n",
              "      <td>84674288</td>\n",
              "    </tr>\n",
              "    <tr>\n",
              "      <th>1</th>\n",
              "      <td>2015-01-11</td>\n",
              "      <td>78555753</td>\n",
              "    </tr>\n",
              "    <tr>\n",
              "      <th>2</th>\n",
              "      <td>2015-01-18</td>\n",
              "      <td>78388735</td>\n",
              "    </tr>\n",
              "    <tr>\n",
              "      <th>3</th>\n",
              "      <td>2015-01-25</td>\n",
              "      <td>76466226</td>\n",
              "    </tr>\n",
              "    <tr>\n",
              "      <th>4</th>\n",
              "      <td>2015-02-01</td>\n",
              "      <td>119453181</td>\n",
              "    </tr>\n",
              "  </tbody>\n",
              "</table>\n",
              "</div>"
            ],
            "text/plain": [
              "          ds          y\n",
              "0 2015-01-04   84674288\n",
              "1 2015-01-11   78555753\n",
              "2 2015-01-18   78388735\n",
              "3 2015-01-25   76466226\n",
              "4 2015-02-01  119453181"
            ]
          },
          "metadata": {
            "tags": []
          },
          "execution_count": 46
        }
      ]
    },
    {
      "cell_type": "code",
      "metadata": {
        "id": "pM1x5SdUiF1_",
        "colab_type": "code",
        "outputId": "3c2aea8a-6ed0-47c2-ab23-a0e4243ba430",
        "colab": {
          "base_uri": "https://localhost:8080/",
          "height": 69
        }
      },
      "source": [
        "m = Prophet()\n",
        "m.fit(avocado)"
      ],
      "execution_count": 0,
      "outputs": [
        {
          "output_type": "stream",
          "text": [
            "INFO:fbprophet:Disabling weekly seasonality. Run prophet with weekly_seasonality=True to override this.\n",
            "INFO:fbprophet:Disabling daily seasonality. Run prophet with daily_seasonality=True to override this.\n"
          ],
          "name": "stderr"
        },
        {
          "output_type": "execute_result",
          "data": {
            "text/plain": [
              "<fbprophet.forecaster.Prophet at 0x7f54457b0358>"
            ]
          },
          "metadata": {
            "tags": []
          },
          "execution_count": 47
        }
      ]
    },
    {
      "cell_type": "code",
      "metadata": {
        "id": "MtQykheGlJ2Q",
        "colab_type": "code",
        "colab": {}
      },
      "source": [
        "future = m.make_future_dataframe(periods = 731)\n",
        "forecast = m.predict(future)"
      ],
      "execution_count": 0,
      "outputs": []
    },
    {
      "cell_type": "markdown",
      "metadata": {
        "id": "kxOZdOVZpI9u",
        "colab_type": "text"
      },
      "source": [
        "Forecast plot"
      ]
    },
    {
      "cell_type": "code",
      "metadata": {
        "id": "i5zz6PWbo1tG",
        "colab_type": "code",
        "outputId": "6967e7a4-fd4d-4580-d005-e3a474a7ed9d",
        "colab": {
          "base_uri": "https://localhost:8080/",
          "height": 441
        }
      },
      "source": [
        "fig = m.plot(forecast)"
      ],
      "execution_count": 0,
      "outputs": [
        {
          "output_type": "display_data",
          "data": {
            "image/png": "[encoded data removed]",
            "text/plain": [
              "<Figure size 720x432 with 1 Axes>"
            ]
          },
          "metadata": {
            "tags": []
          }
        }
      ]
    },
    {
      "cell_type": "markdown",
      "metadata": {
        "id": "irEIlwzcpW8x",
        "colab_type": "text"
      },
      "source": [
        "Forecast components"
      ]
    },
    {
      "cell_type": "code",
      "metadata": {
        "id": "Xgt-hUOGpX2w",
        "colab_type": "code",
        "outputId": "00ecd6b8-3d58-47e3-cfe2-fe486b7dded6",
        "colab": {
          "base_uri": "https://localhost:8080/",
          "height": 441
        }
      },
      "source": [
        "fig1 = m.plot_components(forecast)"
      ],
      "execution_count": 0,
      "outputs": [
        {
          "output_type": "display_data",
          "data": {
            "image/png": "[encoded data removed]",
            "text/plain": [
              "<Figure size 648x432 with 2 Axes>"
            ]
          },
          "metadata": {
            "tags": []
          }
        }
      ]
    },
    {
      "cell_type": "markdown",
      "metadata": {
        "id": "EEN0LFiCqciw",
        "colab_type": "text"
      },
      "source": [
        "Time Series Cross-Validation"
      ]
    },
    {
      "cell_type": "code",
      "metadata": {
        "id": "RxneVIZOqcMB",
        "colab_type": "code",
        "outputId": "59258fe0-9c95-4522-f5dd-4cca5809acd2",
        "colab": {
          "base_uri": "https://localhost:8080/",
          "height": 69
        }
      },
      "source": [
        "%%time\n",
        "avocado_model = Prophet(daily_seasonality=False)\n",
        "avocado_model.fit(avocado)"
      ],
      "execution_count": 0,
      "outputs": [
        {
          "output_type": "stream",
          "text": [
            "INFO:fbprophet:Disabling weekly seasonality. Run prophet with weekly_seasonality=True to override this.\n"
          ],
          "name": "stderr"
        },
        {
          "output_type": "stream",
          "text": [
            "CPU times: user 86.7 ms, sys: 5.75 ms, total: 92.5 ms\n",
            "Wall time: 92.3 ms\n"
          ],
          "name": "stdout"
        }
      ]
    },
    {
      "cell_type": "code",
      "metadata": {
        "id": "LDnjokl3q9i_",
        "colab_type": "code",
        "outputId": "9b00d21b-305a-4fa8-8034-70072b6ee87f",
        "colab": {
          "base_uri": "https://localhost:8080/",
          "height": 35
        }
      },
      "source": [
        "avocado_cv = cross_validation(avocado_model, initial='730 days',horizon='90 days', period='45 days')"
      ],
      "execution_count": 0,
      "outputs": [
        {
          "output_type": "stream",
          "text": [
            "INFO:fbprophet:Making 8 forecasts with cutoffs between 2017-02-13 00:00:00 and 2017-12-25 00:00:00\n"
          ],
          "name": "stderr"
        }
      ]
    },
    {
      "cell_type": "code",
      "metadata": {
        "id": "ve5Z5Yytsnvn",
        "colab_type": "code",
        "outputId": "5c8c9b88-56d8-4540-c426-186dac445b20",
        "colab": {
          "base_uri": "https://localhost:8080/",
          "height": 35
        }
      },
      "source": [
        "avocado_cv.shape"
      ],
      "execution_count": 0,
      "outputs": [
        {
          "output_type": "execute_result",
          "data": {
            "text/plain": [
              "(103, 6)"
            ]
          },
          "metadata": {
            "tags": []
          },
          "execution_count": 69
        }
      ]
    },
    {
      "cell_type": "code",
      "metadata": {
        "id": "_j9AME61sbEg",
        "colab_type": "code",
        "outputId": "96476f8d-23db-484d-895c-bb04ba964e75",
        "colab": {
          "base_uri": "https://localhost:8080/",
          "height": 228
        }
      },
      "source": [
        "avocado_cv.describe(exclude = 'number')"
      ],
      "execution_count": 0,
      "outputs": [
        {
          "output_type": "execute_result",
          "data": {
            "text/html": [
              "<div>\n",
              "<style scoped>\n",
              "    .dataframe tbody tr th:only-of-type {\n",
              "        vertical-align: middle;\n",
              "    }\n",
              "\n",
              "    .dataframe tbody tr th {\n",
              "        vertical-align: top;\n",
              "    }\n",
              "\n",
              "    .dataframe thead th {\n",
              "        text-align: right;\n",
              "    }\n",
              "</style>\n",
              "<table border=\"1\" class=\"dataframe\">\n",
              "  <thead>\n",
              "    <tr style=\"text-align: right;\">\n",
              "      <th></th>\n",
              "      <th>ds</th>\n",
              "      <th>cutoff</th>\n",
              "    </tr>\n",
              "  </thead>\n",
              "  <tbody>\n",
              "    <tr>\n",
              "      <th>count</th>\n",
              "      <td>103</td>\n",
              "      <td>103</td>\n",
              "    </tr>\n",
              "    <tr>\n",
              "      <th>unique</th>\n",
              "      <td>58</td>\n",
              "      <td>8</td>\n",
              "    </tr>\n",
              "    <tr>\n",
              "      <th>top</th>\n",
              "      <td>2017-09-17 00:00:00</td>\n",
              "      <td>2017-03-30 00:00:00</td>\n",
              "    </tr>\n",
              "    <tr>\n",
              "      <th>freq</th>\n",
              "      <td>2</td>\n",
              "      <td>13</td>\n",
              "    </tr>\n",
              "    <tr>\n",
              "      <th>first</th>\n",
              "      <td>2017-02-19 00:00:00</td>\n",
              "      <td>2017-02-13 00:00:00</td>\n",
              "    </tr>\n",
              "    <tr>\n",
              "      <th>last</th>\n",
              "      <td>2018-03-25 00:00:00</td>\n",
              "      <td>2017-12-25 00:00:00</td>\n",
              "    </tr>\n",
              "  </tbody>\n",
              "</table>\n",
              "</div>"
            ],
            "text/plain": [
              "                         ds               cutoff\n",
              "count                   103                  103\n",
              "unique                   58                    8\n",
              "top     2017-09-17 00:00:00  2017-03-30 00:00:00\n",
              "freq                      2                   13\n",
              "first   2017-02-19 00:00:00  2017-02-13 00:00:00\n",
              "last    2018-03-25 00:00:00  2017-12-25 00:00:00"
            ]
          },
          "metadata": {
            "tags": []
          },
          "execution_count": 67
        }
      ]
    },
    {
      "cell_type": "markdown",
      "metadata": {
        "id": "QvZqqT9fqOc9",
        "colab_type": "text"
      },
      "source": [
        "cross-validation Mean Absolute Percentage Error plot"
      ]
    },
    {
      "cell_type": "code",
      "metadata": {
        "id": "9z528rTFqA2r",
        "colab_type": "code",
        "outputId": "e461c445-7d0d-4622-d0ad-f3cc6a9054c0",
        "colab": {
          "base_uri": "https://localhost:8080/",
          "height": 198
        }
      },
      "source": [
        "performance_metrics(avocado_cv).tail()"
      ],
      "execution_count": 0,
      "outputs": [
        {
          "output_type": "execute_result",
          "data": {
            "text/html": [
              "<div>\n",
              "<style scoped>\n",
              "    .dataframe tbody tr th:only-of-type {\n",
              "        vertical-align: middle;\n",
              "    }\n",
              "\n",
              "    .dataframe tbody tr th {\n",
              "        vertical-align: top;\n",
              "    }\n",
              "\n",
              "    .dataframe thead th {\n",
              "        text-align: right;\n",
              "    }\n",
              "</style>\n",
              "<table border=\"1\" class=\"dataframe\">\n",
              "  <thead>\n",
              "    <tr style=\"text-align: right;\">\n",
              "      <th></th>\n",
              "      <th>horizon</th>\n",
              "      <th>mse</th>\n",
              "      <th>rmse</th>\n",
              "      <th>mae</th>\n",
              "      <th>mape</th>\n",
              "      <th>coverage</th>\n",
              "    </tr>\n",
              "  </thead>\n",
              "  <tbody>\n",
              "    <tr>\n",
              "      <th>77</th>\n",
              "      <td>86 days</td>\n",
              "      <td>4.382687e+14</td>\n",
              "      <td>2.093487e+07</td>\n",
              "      <td>1.481539e+07</td>\n",
              "      <td>0.136019</td>\n",
              "      <td>0.6</td>\n",
              "    </tr>\n",
              "    <tr>\n",
              "      <th>78</th>\n",
              "      <td>87 days</td>\n",
              "      <td>4.353030e+14</td>\n",
              "      <td>2.086392e+07</td>\n",
              "      <td>1.464509e+07</td>\n",
              "      <td>0.132272</td>\n",
              "      <td>0.6</td>\n",
              "    </tr>\n",
              "    <tr>\n",
              "      <th>79</th>\n",
              "      <td>88 days</td>\n",
              "      <td>4.621349e+14</td>\n",
              "      <td>2.149732e+07</td>\n",
              "      <td>1.608344e+07</td>\n",
              "      <td>0.154498</td>\n",
              "      <td>0.5</td>\n",
              "    </tr>\n",
              "    <tr>\n",
              "      <th>80</th>\n",
              "      <td>89 days</td>\n",
              "      <td>4.604971e+14</td>\n",
              "      <td>2.145920e+07</td>\n",
              "      <td>1.585167e+07</td>\n",
              "      <td>0.152976</td>\n",
              "      <td>0.5</td>\n",
              "    </tr>\n",
              "    <tr>\n",
              "      <th>81</th>\n",
              "      <td>90 days</td>\n",
              "      <td>4.878952e+14</td>\n",
              "      <td>2.208835e+07</td>\n",
              "      <td>1.674935e+07</td>\n",
              "      <td>0.148295</td>\n",
              "      <td>0.4</td>\n",
              "    </tr>\n",
              "  </tbody>\n",
              "</table>\n",
              "</div>"
            ],
            "text/plain": [
              "   horizon           mse          rmse           mae      mape  coverage\n",
              "77 86 days  4.382687e+14  2.093487e+07  1.481539e+07  0.136019       0.6\n",
              "78 87 days  4.353030e+14  2.086392e+07  1.464509e+07  0.132272       0.6\n",
              "79 88 days  4.621349e+14  2.149732e+07  1.608344e+07  0.154498       0.5\n",
              "80 89 days  4.604971e+14  2.145920e+07  1.585167e+07  0.152976       0.5\n",
              "81 90 days  4.878952e+14  2.208835e+07  1.674935e+07  0.148295       0.4"
            ]
          },
          "metadata": {
            "tags": []
          },
          "execution_count": 74
        }
      ]
    },
    {
      "cell_type": "code",
      "metadata": {
        "id": "yczWVOrEtE2-",
        "colab_type": "code",
        "outputId": "a1069f72-9b7c-44bf-e77b-0eadcde12485",
        "colab": {
          "base_uri": "https://localhost:8080/",
          "height": 399
        }
      },
      "source": [
        "from fbprophet.plot import plot_cross_validation_metric\n",
        "fig2 = plot_cross_validation_metric(avocado_cv, metric = 'mae')"
      ],
      "execution_count": 0,
      "outputs": [
        {
          "output_type": "display_data",
          "data": {
            "image/png": "[encoded data removed]",
            "text/plain": [
              "<Figure size 720x432 with 1 Axes>"
            ]
          },
          "metadata": {
            "tags": []
          }
        }
      ]
    },
    {
      "cell_type": "markdown",
      "metadata": {
        "id": "2EBdqsbcbFDy",
        "colab_type": "text"
      },
      "source": [
        "## Part 2. Predict NYC apartment rent 🏠💸\n",
        "\n",
        "For part 1 of your challenge, you'll use a real-world data with rent prices for a subset of apartments in New York City!\n",
        "\n",
        "Run this code cell to load the dataset: "
      ]
    },
    {
      "cell_type": "code",
      "metadata": {
        "id": "EYl9Hn67bFDz",
        "colab_type": "code",
        "colab": {}
      },
      "source": [
        "import pandas as pd\n",
        "rent_url = 'https://drive.google.com/uc?export=download&id=1lVVPmh-WYGb_0Gs_lOv22i02-150qDdZ'\n",
        "rent = pd.read_csv(rent_url)\n",
        "assert rent.shape == (48295, 7)"
      ],
      "execution_count": 0,
      "outputs": []
    },
    {
      "cell_type": "markdown",
      "metadata": {
        "id": "6XT4ogD-bFD2",
        "colab_type": "text"
      },
      "source": [
        "### Required\n",
        "1. Begin with baselines for regression. Calculate the mean absolute error and $R^2$ score for a mean baseline. _(You can use the whole dataset, or a test set, either way is okay here!)_\n",
        "2. Do train/test split. Use data from April & May 2016 to train. Use data from June 2016 to test.\n",
        "3. Choose any two features.\n",
        "4. Use scikit-learn to fit a Linear Regression model on the train data.\n",
        "5. Apply the model to predict rent prices for the test data.\n",
        "6. Get regression metrics MAE and $R^2$ for the test data.\n",
        "7. Get the model's coefficients and intercept.\n",
        "\n",
        "### Stretch Goals\n",
        "- Try at least 3 different feature combinations. (You don't have to use two features, you can choose any number of features.)\n",
        "- Get regression metrics RMSE, MAE, and $R^2$, for both the train and test data."
      ]
    },
    {
      "cell_type": "code",
      "metadata": {
        "id": "XMtq_5KlbFD3",
        "colab_type": "code",
        "outputId": "8196babc-f4f6-4b47-c2e8-0864ad10b36d",
        "colab": {
          "base_uri": "https://localhost:8080/",
          "height": 198
        }
      },
      "source": [
        "rent.head()"
      ],
      "execution_count": 0,
      "outputs": [
        {
          "output_type": "execute_result",
          "data": {
            "text/html": [
              "<div>\n",
              "<style scoped>\n",
              "    .dataframe tbody tr th:only-of-type {\n",
              "        vertical-align: middle;\n",
              "    }\n",
              "\n",
              "    .dataframe tbody tr th {\n",
              "        vertical-align: top;\n",
              "    }\n",
              "\n",
              "    .dataframe thead th {\n",
              "        text-align: right;\n",
              "    }\n",
              "</style>\n",
              "<table border=\"1\" class=\"dataframe\">\n",
              "  <thead>\n",
              "    <tr style=\"text-align: right;\">\n",
              "      <th></th>\n",
              "      <th>year</th>\n",
              "      <th>month</th>\n",
              "      <th>bedrooms</th>\n",
              "      <th>bathrooms</th>\n",
              "      <th>latitude</th>\n",
              "      <th>longitude</th>\n",
              "      <th>price</th>\n",
              "    </tr>\n",
              "  </thead>\n",
              "  <tbody>\n",
              "    <tr>\n",
              "      <th>0</th>\n",
              "      <td>2016</td>\n",
              "      <td>6</td>\n",
              "      <td>3</td>\n",
              "      <td>1.5</td>\n",
              "      <td>40.7145</td>\n",
              "      <td>-73.9425</td>\n",
              "      <td>3000</td>\n",
              "    </tr>\n",
              "    <tr>\n",
              "      <th>1</th>\n",
              "      <td>2016</td>\n",
              "      <td>6</td>\n",
              "      <td>2</td>\n",
              "      <td>1.0</td>\n",
              "      <td>40.7947</td>\n",
              "      <td>-73.9667</td>\n",
              "      <td>5465</td>\n",
              "    </tr>\n",
              "    <tr>\n",
              "      <th>2</th>\n",
              "      <td>2016</td>\n",
              "      <td>4</td>\n",
              "      <td>1</td>\n",
              "      <td>1.0</td>\n",
              "      <td>40.7388</td>\n",
              "      <td>-74.0018</td>\n",
              "      <td>2850</td>\n",
              "    </tr>\n",
              "    <tr>\n",
              "      <th>3</th>\n",
              "      <td>2016</td>\n",
              "      <td>4</td>\n",
              "      <td>1</td>\n",
              "      <td>1.0</td>\n",
              "      <td>40.7539</td>\n",
              "      <td>-73.9677</td>\n",
              "      <td>3275</td>\n",
              "    </tr>\n",
              "    <tr>\n",
              "      <th>4</th>\n",
              "      <td>2016</td>\n",
              "      <td>4</td>\n",
              "      <td>4</td>\n",
              "      <td>1.0</td>\n",
              "      <td>40.8241</td>\n",
              "      <td>-73.9493</td>\n",
              "      <td>3350</td>\n",
              "    </tr>\n",
              "  </tbody>\n",
              "</table>\n",
              "</div>"
            ],
            "text/plain": [
              "   year  month  bedrooms  bathrooms  latitude  longitude  price\n",
              "0  2016      6         3        1.5   40.7145   -73.9425   3000\n",
              "1  2016      6         2        1.0   40.7947   -73.9667   5465\n",
              "2  2016      4         1        1.0   40.7388   -74.0018   2850\n",
              "3  2016      4         1        1.0   40.7539   -73.9677   3275\n",
              "4  2016      4         4        1.0   40.8241   -73.9493   3350"
            ]
          },
          "metadata": {
            "tags": []
          },
          "execution_count": 78
        }
      ]
    },
    {
      "cell_type": "code",
      "metadata": {
        "id": "up_rEbm3xUvw",
        "colab_type": "code",
        "outputId": "4dbeda3a-74fb-4467-e486-857e3e5aec6f",
        "colab": {
          "base_uri": "https://localhost:8080/",
          "height": 35
        }
      },
      "source": [
        "from sklearn.linear_model import LinearRegression\n",
        "model = LinearRegression()\n",
        "\n",
        "features = ['bedrooms']\n",
        "target = 'price'\n",
        "x = rent[features]\n",
        "y = rent[target]\n",
        "\n",
        "m = 0\n",
        "b = y.mean()\n",
        "y_pred = m*x + b\n",
        "\n",
        "model.fit(x, y)"
      ],
      "execution_count": 0,
      "outputs": [
        {
          "output_type": "execute_result",
          "data": {
            "text/plain": [
              "LinearRegression(copy_X=True, fit_intercept=True, n_jobs=None, normalize=False)"
            ]
          },
          "metadata": {
            "tags": []
          },
          "execution_count": 105
        }
      ]
    },
    {
      "cell_type": "code",
      "metadata": {
        "id": "mNd2-oJs42lj",
        "colab_type": "code",
        "outputId": "de9b7a94-13e6-4127-98e8-a85e36ef95e8",
        "colab": {
          "base_uri": "https://localhost:8080/",
          "height": 315
        }
      },
      "source": [
        "m = 2\n",
        "b = 15\n",
        "y_pred = m*x + b\n",
        "plot_preds(x, y, y_pred)\n",
        "plt.title('Guessing & Checking by hand');"
      ],
      "execution_count": 0,
      "outputs": [
        {
          "output_type": "stream",
          "text": [
            "Mean Absolute Error: 3420.0352003312973\n",
            "R^2: -5.957510473313843\n"
          ],
          "name": "stdout"
        },
        {
          "output_type": "display_data",
          "data": {
            "image/png": "[encoded data removed]",
            "text/plain": [
              "<Figure size 432x288 with 1 Axes>"
            ]
          },
          "metadata": {
            "tags": []
          }
        }
      ]
    },
    {
      "cell_type": "code",
      "metadata": {
        "id": "Ftn5WKKW0e3-",
        "colab_type": "code",
        "outputId": "f7e140ff-ec5a-4b8f-aae1-03c8f42e825e",
        "colab": {
          "base_uri": "https://localhost:8080/",
          "height": 315
        }
      },
      "source": [
        "from sklearn.metrics import mean_absolute_error, r2_score\n",
        "import matplotlib.pyplot as plt\n",
        "\n",
        "def plot_preds(x, y, y_pred):\n",
        "    plt.scatter(x, y, label='y_true')\n",
        "    plt.plot(x, y_pred, label='y_pred')\n",
        "    plt.legend()\n",
        "    \n",
        "    \n",
        "    mae = mean_absolute_error(y, y_pred)\n",
        "    r2 = r2_score(y, y_pred)\n",
        "    print('Mean Absolute Error:', mae)\n",
        "    print('R^2:', r2)\n",
        "    \n",
        "    \n",
        "    \n",
        "plot_preds(x, y, y_pred)\n",
        "plt.title('Mean Baseline');"
      ],
      "execution_count": 0,
      "outputs": [
        {
          "output_type": "stream",
          "text": [
            "Mean Absolute Error: 1055.7857771080928\n",
            "R^2: 0.0\n"
          ],
          "name": "stdout"
        },
        {
          "output_type": "display_data",
          "data": {
            "image/png": "[encoded data removed]",
            "text/plain": [
              "<Figure size 432x288 with 1 Axes>"
            ]
          },
          "metadata": {
            "tags": []
          }
        }
      ]
    },
    {
      "cell_type": "code",
      "metadata": {
        "id": "tgxI77vh18SJ",
        "colab_type": "code",
        "outputId": "cb043f0f-4825-40bb-d404-4412c43b8c6f",
        "colab": {
          "base_uri": "https://localhost:8080/",
          "height": 35
        }
      },
      "source": [
        "model.intercept_, model.coef_, "
      ],
      "execution_count": 0,
      "outputs": [
        {
          "output_type": "execute_result",
          "data": {
            "text/plain": [
              "(2355.5001501970596, array([717.67413755]))"
            ]
          },
          "metadata": {
            "tags": []
          },
          "execution_count": 111
        }
      ]
    },
    {
      "cell_type": "code",
      "metadata": {
        "id": "19WcsXVh4VqS",
        "colab_type": "code",
        "outputId": "7f47eb15-ce1c-4c83-845e-f2e1b50f7f54",
        "colab": {
          "base_uri": "https://localhost:8080/",
          "height": 35
        }
      },
      "source": [
        "model.predict([[0]])"
      ],
      "execution_count": 0,
      "outputs": [
        {
          "output_type": "execute_result",
          "data": {
            "text/plain": [
              "array([2355.5001502])"
            ]
          },
          "metadata": {
            "tags": []
          },
          "execution_count": 112
        }
      ]
    },
    {
      "cell_type": "code",
      "metadata": {
        "id": "BGU02v0k4bt1",
        "colab_type": "code",
        "outputId": "01e5dad6-66d6-4f90-cf37-b47f7c732094",
        "colab": {
          "base_uri": "https://localhost:8080/",
          "height": 304
        }
      },
      "source": [
        "m = model.coef_[0]\n",
        "b = model.intercept_\n",
        "\n",
        "y_pred = m*x + b\n",
        "plot_preds(x, y, y_pred)"
      ],
      "execution_count": 0,
      "outputs": [
        {
          "output_type": "stream",
          "text": [
            "Mean Absolute Error: 851.3788059210636\n",
            "R^2: 0.3124520482040829\n"
          ],
          "name": "stdout"
        },
        {
          "output_type": "display_data",
          "data": {
            "image/png": "[encoded data removed]",
            "text/plain": [
              "<Figure size 432x288 with 1 Axes>"
            ]
          },
          "metadata": {
            "tags": []
          }
        }
      ]
    },
    {
      "cell_type": "code",
      "metadata": {
        "id": "Hn1otZxP9Xm-",
        "colab_type": "code",
        "colab": {}
      },
      "source": [
        "rent['month'] = pd.to_datetime(rent['month'], format='%m')"
      ],
      "execution_count": 0,
      "outputs": []
    },
    {
      "cell_type": "code",
      "metadata": {
        "id": "Io_RrQfW82Lc",
        "colab_type": "code",
        "outputId": "3189a7dd-2f30-4aeb-9500-aae599601862",
        "colab": {
          "base_uri": "https://localhost:8080/",
          "height": 183
        }
      },
      "source": [
        "train = rent.query['month 04 <']\n",
        "test = rent.query['month = 6']"
      ],
      "execution_count": 0,
      "outputs": [
        {
          "output_type": "error",
          "ename": "TypeError",
          "evalue": "ignored",
          "traceback": [
            "\u001b[0;31m---------------------------------------------------------------------------\u001b[0m",
            "\u001b[0;31mTypeError\u001b[0m                                 Traceback (most recent call last)",
            "\u001b[0;32m<ipython-input-149-e1a1a41187d1>\u001b[0m in \u001b[0;36m<module>\u001b[0;34m()\u001b[0m\n\u001b[0;32m----> 1\u001b[0;31m \u001b[0mtrain\u001b[0m \u001b[0;34m=\u001b[0m \u001b[0mrent\u001b[0m\u001b[0;34m.\u001b[0m\u001b[0mquery\u001b[0m\u001b[0;34m[\u001b[0m\u001b[0;34m'month 04 <'\u001b[0m\u001b[0;34m]\u001b[0m\u001b[0;34m\u001b[0m\u001b[0;34m\u001b[0m\u001b[0m\n\u001b[0m\u001b[1;32m      2\u001b[0m \u001b[0mtest\u001b[0m \u001b[0;34m=\u001b[0m \u001b[0mrent\u001b[0m\u001b[0;34m.\u001b[0m\u001b[0mquery\u001b[0m\u001b[0;34m[\u001b[0m\u001b[0;34m'month = 6'\u001b[0m\u001b[0;34m]\u001b[0m\u001b[0;34m\u001b[0m\u001b[0;34m\u001b[0m\u001b[0m\n",
            "\u001b[0;31mTypeError\u001b[0m: 'method' object is not subscriptable"
          ]
        }
      ]
    },
    {
      "cell_type": "code",
      "metadata": {
        "id": "QuelT5OEBo_K",
        "colab_type": "code",
        "outputId": "bc11cc83-62e1-4ed1-d002-f5ab8d7265ab",
        "colab": {
          "base_uri": "https://localhost:8080/",
          "height": 35
        }
      },
      "source": [
        "x = train\n",
        "y = test"
      ],
      "execution_count": 0,
      "outputs": [
        {
          "output_type": "execute_result",
          "data": {
            "text/plain": [
              "((0, 1), (0,), (0, 1), (0,))"
            ]
          },
          "metadata": {
            "tags": []
          },
          "execution_count": 142
        }
      ]
    },
    {
      "cell_type": "code",
      "metadata": {
        "id": "Pz3Oxz_MDPi0",
        "colab_type": "code",
        "outputId": "5823a7ef-f135-4c0f-8577-0a15c911e0fb",
        "colab": {
          "base_uri": "https://localhost:8080/",
          "height": 48
        }
      },
      "source": [
        ""
      ],
      "execution_count": 0,
      "outputs": [
        {
          "output_type": "execute_result",
          "data": {
            "text/html": [
              "<div>\n",
              "<style scoped>\n",
              "    .dataframe tbody tr th:only-of-type {\n",
              "        vertical-align: middle;\n",
              "    }\n",
              "\n",
              "    .dataframe tbody tr th {\n",
              "        vertical-align: top;\n",
              "    }\n",
              "\n",
              "    .dataframe thead th {\n",
              "        text-align: right;\n",
              "    }\n",
              "</style>\n",
              "<table border=\"1\" class=\"dataframe\">\n",
              "  <thead>\n",
              "    <tr style=\"text-align: right;\">\n",
              "      <th></th>\n",
              "      <th>year</th>\n",
              "      <th>month</th>\n",
              "      <th>bedrooms</th>\n",
              "      <th>bathrooms</th>\n",
              "      <th>latitude</th>\n",
              "      <th>longitude</th>\n",
              "      <th>price</th>\n",
              "    </tr>\n",
              "  </thead>\n",
              "  <tbody>\n",
              "  </tbody>\n",
              "</table>\n",
              "</div>"
            ],
            "text/plain": [
              "Empty DataFrame\n",
              "Columns: [year, month, bedrooms, bathrooms, latitude, longitude, price]\n",
              "Index: []"
            ]
          },
          "metadata": {
            "tags": []
          },
          "execution_count": 143
        }
      ]
    }
  ]
}