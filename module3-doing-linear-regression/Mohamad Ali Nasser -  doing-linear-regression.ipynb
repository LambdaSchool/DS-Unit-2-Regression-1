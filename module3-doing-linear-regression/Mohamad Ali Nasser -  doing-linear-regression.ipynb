{
  "nbformat": 4,
  "nbformat_minor": 0,
  "metadata": {
    "colab": {
      "name": "Untitled",
      "version": "0.3.2",
      "provenance": [],
      "collapsed_sections": [],
      "include_colab_link": true
    },
    "kernelspec": {
      "name": "python3",
      "display_name": "Python 3"
    }
  },
  "cells": [
    {
      "cell_type": "markdown",
      "metadata": {
        "id": "view-in-github",
        "colab_type": "text"
      },
      "source": [
        "<a href=\"https://colab.research.google.com/github/cartman12/DS-Unit-2-Regression-1/blob/master/module3-doing-linear-regression/Mohamad%20Ali%20Nasser%20-%20%20doing-linear-regression.ipynb\" target=\"_parent\"><img src=\"https://colab.research.google.com/assets/colab-badge.svg\" alt=\"Open In Colab\"/></a>"
      ]
    },
    {
      "cell_type": "markdown",
      "metadata": {
        "id": "W0sAWp-RX0g3",
        "colab_type": "text"
      },
      "source": [
        "## Initital Data"
      ]
    },
    {
      "cell_type": "code",
      "metadata": {
        "id": "Vf3ppCpXCWxE",
        "colab_type": "code",
        "colab": {}
      },
      "source": [
        "import pandas as pd\n",
        "\n",
        "columns = ['Year','Incumbent Party Candidate','Other Candidate','Incumbent Party Vote Share']\n",
        "\n",
        "data = [[1952,\"Stevenson\",\"Eisenhower\",44.6],\n",
        "        [1956,\"Eisenhower\",\"Stevenson\",57.76],\n",
        "        [1960,\"Nixon\",\"Kennedy\",49.91],\n",
        "        [1964,\"Johnson\",\"Goldwater\",61.34],\n",
        "        [1968,\"Humphrey\",\"Nixon\",49.60],\n",
        "        [1972,\"Nixon\",\"McGovern\",61.79],\n",
        "        [1976,\"Ford\",\"Carter\",48.95],\n",
        "        [1980,\"Carter\",\"Reagan\",44.70],\n",
        "        [1984,\"Reagan\",\"Mondale\",59.17],\n",
        "        [1988,\"Bush, Sr.\",\"Dukakis\",53.94],\n",
        "        [1992,\"Bush, Sr.\",\"Clinton\",46.55],\n",
        "        [1996,\"Clinton\",\"Dole\",54.74],\n",
        "        [2000,\"Gore\",\"Bush, Jr.\",50.27],\n",
        "        [2004,\"Bush, Jr.\",\"Kerry\",51.24],\n",
        "        [2008,\"McCain\",\"Obama\",46.32],\n",
        "        [2012,\"Obama\",\"Romney\",52.00], \n",
        "        [2016,\"Clinton\",\"Trump\",48.2]]\n",
        "        \n",
        "votes = pd.DataFrame(data=data, columns=columns)"
      ],
      "execution_count": 0,
      "outputs": []
    },
    {
      "cell_type": "code",
      "metadata": {
        "id": "SmoMAZjICeCc",
        "colab_type": "code",
        "colab": {}
      },
      "source": [
        "columns = ['Year','Average Recent Growth in Personal Incomes']\n",
        "\n",
        "data = [[1952,2.40],\n",
        "        [1956,2.89],\n",
        "        [1960, .85],\n",
        "        [1964,4.21],\n",
        "        [1968,3.02],\n",
        "        [1972,3.62],\n",
        "        [1976,1.08],\n",
        "        [1980,-.39],\n",
        "        [1984,3.86],\n",
        "        [1988,2.27],\n",
        "        [1992, .38],\n",
        "        [1996,1.04],\n",
        "        [2000,2.36],\n",
        "        [2004,1.72],\n",
        "        [2008, .10],\n",
        "        [2012, .95], \n",
        "        [2016, .10]]\n",
        "        \n",
        "growth = pd.DataFrame(data=data, columns=columns)"
      ],
      "execution_count": 0,
      "outputs": []
    },
    {
      "cell_type": "code",
      "metadata": {
        "id": "W3kXlUaTCyaw",
        "colab_type": "code",
        "colab": {}
      },
      "source": [
        "\"\"\"\n",
        "Fatalities denotes the cumulative number of American military\n",
        "fatalities per millions of US population the in Korea, Vietnam,\n",
        "Iraq and Afghanistan wars during the presidential terms\n",
        "preceding the 1952, 1964, 1968, 1976 and 2004, 2008 and\n",
        "2012 elections.\n",
        "\n",
        "http://www.douglas-hibbs.com/HibbsArticles/HIBBS-PRESVOTE-SLIDES-MELBOURNE-Part1-2014-02-26.pdf\n",
        "\"\"\"\n",
        "\n",
        "columns = ['Year','US Military Fatalities per Million']\n",
        "\n",
        "data = [[1952,190],\n",
        "        [1956,  0],\n",
        "        [1960,  0],\n",
        "        [1964,  1],\n",
        "        [1968,146],\n",
        "        [1972,  0],\n",
        "        [1976,  2],\n",
        "        [1980,  0],\n",
        "        [1984,  0],\n",
        "        [1988,  0],\n",
        "        [1992,  0],\n",
        "        [1996,  0],\n",
        "        [2000,  0],\n",
        "        [2004,  4],\n",
        "        [2008, 14],\n",
        "        [2012,  5], \n",
        "        [2016,  5]]\n",
        "        \n",
        "deaths = pd.DataFrame(data=data, columns=columns)"
      ],
      "execution_count": 0,
      "outputs": []
    },
    {
      "cell_type": "code",
      "metadata": {
        "id": "Mcc29D_EC8vZ",
        "colab_type": "code",
        "outputId": "78132727-00a1-4804-82e8-6cb38c874ae5",
        "colab": {
          "base_uri": "https://localhost:8080/",
          "height": 34
        }
      },
      "source": [
        "df = votes.merge(growth).merge(deaths)\n",
        "df.shape"
      ],
      "execution_count": 285,
      "outputs": [
        {
          "output_type": "execute_result",
          "data": {
            "text/plain": [
              "(17, 6)"
            ]
          },
          "metadata": {
            "tags": []
          },
          "execution_count": 285
        }
      ]
    },
    {
      "cell_type": "code",
      "metadata": {
        "id": "1IBBRv5xDCXm",
        "colab_type": "code",
        "colab": {}
      },
      "source": [
        "https://github.com/cartman12/DS-Unit-2-Regression-1/blob/master/module3-doing-linear-regression/Net%20private%20saving%20usa.csv"
      ],
      "execution_count": 0,
      "outputs": []
    },
    {
      "cell_type": "code",
      "metadata": {
        "id": "HlLLBWQmIqFJ",
        "colab_type": "code",
        "colab": {}
      },
      "source": [
        ""
      ],
      "execution_count": 0,
      "outputs": []
    },
    {
      "cell_type": "markdown",
      "metadata": {
        "id": "y0RiiuavX84f",
        "colab_type": "text"
      },
      "source": [
        "## Import USA Private Saving since 1948 and World export since 1960"
      ]
    },
    {
      "cell_type": "code",
      "metadata": {
        "id": "z2n35RabGJkT",
        "colab_type": "code",
        "colab": {}
      },
      "source": [
        "world_export = pd.read_csv( 'https://raw.githubusercontent.com/cartman12/DS-Unit-2-Regression-1/master/module3-doing-linear-regression/world%20export%201970%20to%202018.csv')\n",
        "usa_private_saving = pd.read_csv('https://raw.githubusercontent.com/cartman12/DS-Unit-2-Regression-1/master/module3-doing-linear-regression/Net%20private%20saving%20usa.csv')\n"
      ],
      "execution_count": 0,
      "outputs": []
    },
    {
      "cell_type": "markdown",
      "metadata": {
        "id": "OnLlG8CoYv-t",
        "colab_type": "text"
      },
      "source": [
        "### Wrangling USA Private Saving"
      ]
    },
    {
      "cell_type": "code",
      "metadata": {
        "id": "7uxD8hGCHNHg",
        "colab_type": "code",
        "colab": {
          "base_uri": "https://localhost:8080/",
          "height": 119
        },
        "outputId": "40fbefa1-c05e-4631-dd89-13f31bba6707"
      },
      "source": [
        "world_export.dtypes.head()"
      ],
      "execution_count": 181,
      "outputs": [
        {
          "output_type": "execute_result",
          "data": {
            "text/plain": [
              "Country Name       object\n",
              "Country Code       object\n",
              "Indicator Name     object\n",
              "Indicator Code     object\n",
              "1960              float64\n",
              "dtype: object"
            ]
          },
          "metadata": {
            "tags": []
          },
          "execution_count": 181
        }
      ]
    },
    {
      "cell_type": "code",
      "metadata": {
        "id": "sHk-KCSYLo3f",
        "colab_type": "code",
        "colab": {
          "base_uri": "https://localhost:8080/",
          "height": 204
        },
        "outputId": "ab8e0a9e-0d12-4e32-b084-d696e21f5c2b"
      },
      "source": [
        "usa_private_saving.head()"
      ],
      "execution_count": 182,
      "outputs": [
        {
          "output_type": "execute_result",
          "data": {
            "text/html": [
              "<div>\n",
              "<style scoped>\n",
              "    .dataframe tbody tr th:only-of-type {\n",
              "        vertical-align: middle;\n",
              "    }\n",
              "\n",
              "    .dataframe tbody tr th {\n",
              "        vertical-align: top;\n",
              "    }\n",
              "\n",
              "    .dataframe thead th {\n",
              "        text-align: right;\n",
              "    }\n",
              "</style>\n",
              "<table border=\"1\" class=\"dataframe\">\n",
              "  <thead>\n",
              "    <tr style=\"text-align: right;\">\n",
              "      <th></th>\n",
              "      <th>DATE</th>\n",
              "      <th>W202RC1Q027SBEA</th>\n",
              "    </tr>\n",
              "  </thead>\n",
              "  <tbody>\n",
              "    <tr>\n",
              "      <th>0</th>\n",
              "      <td>1947-01-01</td>\n",
              "      <td>16.486</td>\n",
              "    </tr>\n",
              "    <tr>\n",
              "      <th>1</th>\n",
              "      <td>1947-04-01</td>\n",
              "      <td>15.711</td>\n",
              "    </tr>\n",
              "    <tr>\n",
              "      <th>2</th>\n",
              "      <td>1947-07-01</td>\n",
              "      <td>19.911</td>\n",
              "    </tr>\n",
              "    <tr>\n",
              "      <th>3</th>\n",
              "      <td>1947-10-01</td>\n",
              "      <td>18.271</td>\n",
              "    </tr>\n",
              "    <tr>\n",
              "      <th>4</th>\n",
              "      <td>1948-01-01</td>\n",
              "      <td>23.570</td>\n",
              "    </tr>\n",
              "  </tbody>\n",
              "</table>\n",
              "</div>"
            ],
            "text/plain": [
              "         DATE  W202RC1Q027SBEA\n",
              "0  1947-01-01           16.486\n",
              "1  1947-04-01           15.711\n",
              "2  1947-07-01           19.911\n",
              "3  1947-10-01           18.271\n",
              "4  1948-01-01           23.570"
            ]
          },
          "metadata": {
            "tags": []
          },
          "execution_count": 182
        }
      ]
    },
    {
      "cell_type": "code",
      "metadata": {
        "id": "_SZZ5TvTMO7N",
        "colab_type": "code",
        "colab": {
          "base_uri": "https://localhost:8080/",
          "height": 68
        },
        "outputId": "f13a9596-f48c-4398-9bea-969d3365f259"
      },
      "source": [
        "usa_private_saving.dtypes\n"
      ],
      "execution_count": 277,
      "outputs": [
        {
          "output_type": "execute_result",
          "data": {
            "text/plain": [
              "Year                int64\n",
              "Private_saving    float64\n",
              "dtype: object"
            ]
          },
          "metadata": {
            "tags": []
          },
          "execution_count": 277
        }
      ]
    },
    {
      "cell_type": "code",
      "metadata": {
        "id": "Pa5PqVAJHry4",
        "colab_type": "code",
        "colab": {}
      },
      "source": [
        "usa_private_saving = usa_private_saving.rename(columns={'DATE':'Year', 'W202RC1Q027SBEA':'Private_saving'})\n",
        "usa_private_saving['Year'] = pd.to_datetime(usa_private_saving['Year'])"
      ],
      "execution_count": 0,
      "outputs": []
    },
    {
      "cell_type": "code",
      "metadata": {
        "id": "smQGx070MFs4",
        "colab_type": "code",
        "colab": {}
      },
      "source": [
        "usa_private_saving['Year'] = usa_private_saving['Year'].dt.year\n",
        "\n"
      ],
      "execution_count": 0,
      "outputs": []
    },
    {
      "cell_type": "code",
      "metadata": {
        "id": "6B1bYTtvRcSA",
        "colab_type": "code",
        "colab": {}
      },
      "source": [
        "Years = ['1952',\n",
        "        '1956',\n",
        "        '1960',\n",
        "        '1964',\n",
        "        '1968',\n",
        "        '1972',\n",
        "        '1976',\n",
        "        '1980',\n",
        "        '1984',\n",
        "        '1988',\n",
        "        '1992',\n",
        "        '1996',\n",
        "        '2000',\n",
        "        '2004',\n",
        "        '2008',\n",
        "        '2012', \n",
        "        '2016']"
      ],
      "execution_count": 0,
      "outputs": []
    },
    {
      "cell_type": "code",
      "metadata": {
        "id": "BSNVfoq8SLyG",
        "colab_type": "code",
        "colab": {
          "base_uri": "https://localhost:8080/",
          "height": 204
        },
        "outputId": "29329288-3dae-411f-a9c6-71e8c8cc4992"
      },
      "source": [
        "usa_private_saving.head()"
      ],
      "execution_count": 193,
      "outputs": [
        {
          "output_type": "execute_result",
          "data": {
            "text/html": [
              "<div>\n",
              "<style scoped>\n",
              "    .dataframe tbody tr th:only-of-type {\n",
              "        vertical-align: middle;\n",
              "    }\n",
              "\n",
              "    .dataframe tbody tr th {\n",
              "        vertical-align: top;\n",
              "    }\n",
              "\n",
              "    .dataframe thead th {\n",
              "        text-align: right;\n",
              "    }\n",
              "</style>\n",
              "<table border=\"1\" class=\"dataframe\">\n",
              "  <thead>\n",
              "    <tr style=\"text-align: right;\">\n",
              "      <th></th>\n",
              "      <th>Year</th>\n",
              "      <th>Private_saving</th>\n",
              "    </tr>\n",
              "  </thead>\n",
              "  <tbody>\n",
              "    <tr>\n",
              "      <th>5</th>\n",
              "      <td>1952</td>\n",
              "      <td>158.050</td>\n",
              "    </tr>\n",
              "    <tr>\n",
              "      <th>9</th>\n",
              "      <td>1956</td>\n",
              "      <td>204.105</td>\n",
              "    </tr>\n",
              "    <tr>\n",
              "      <th>13</th>\n",
              "      <td>1960</td>\n",
              "      <td>225.528</td>\n",
              "    </tr>\n",
              "    <tr>\n",
              "      <th>17</th>\n",
              "      <td>1964</td>\n",
              "      <td>346.559</td>\n",
              "    </tr>\n",
              "    <tr>\n",
              "      <th>21</th>\n",
              "      <td>1968</td>\n",
              "      <td>446.031</td>\n",
              "    </tr>\n",
              "  </tbody>\n",
              "</table>\n",
              "</div>"
            ],
            "text/plain": [
              "    Year  Private_saving\n",
              "5   1952         158.050\n",
              "9   1956         204.105\n",
              "13  1960         225.528\n",
              "17  1964         346.559\n",
              "21  1968         446.031"
            ]
          },
          "metadata": {
            "tags": []
          },
          "execution_count": 193
        }
      ]
    },
    {
      "cell_type": "code",
      "metadata": {
        "id": "EHR-dY7fVxNi",
        "colab_type": "code",
        "colab": {}
      },
      "source": [
        "usa_private_saving = pd.DataFrame(usa_private_saving.groupby('Year')['Private_saving'].sum())"
      ],
      "execution_count": 0,
      "outputs": []
    },
    {
      "cell_type": "code",
      "metadata": {
        "id": "QlVhRgBmXjBE",
        "colab_type": "code",
        "colab": {}
      },
      "source": [
        "usa_private_saving = usa_private_saving.reset_index()"
      ],
      "execution_count": 0,
      "outputs": []
    },
    {
      "cell_type": "code",
      "metadata": {
        "id": "_7Otj4pdPQlg",
        "colab_type": "code",
        "colab": {}
      },
      "source": [
        "usa_private_saving = usa_private_saving[usa_private_saving['Year'].isin(Years)]"
      ],
      "execution_count": 0,
      "outputs": []
    },
    {
      "cell_type": "code",
      "metadata": {
        "id": "F1Ra4QTxRX6c",
        "colab_type": "code",
        "colab": {
          "base_uri": "https://localhost:8080/",
          "height": 34
        },
        "outputId": "3b666acb-fa9b-4613-eec7-40f975825dcd"
      },
      "source": [
        "usa_private_saving.shape, df.shape"
      ],
      "execution_count": 194,
      "outputs": [
        {
          "output_type": "execute_result",
          "data": {
            "text/plain": [
              "((17, 2), (17, 6))"
            ]
          },
          "metadata": {
            "tags": []
          },
          "execution_count": 194
        }
      ]
    },
    {
      "cell_type": "markdown",
      "metadata": {
        "colab_type": "text",
        "id": "B6n2QGR1Y81l"
      },
      "source": [
        "### Wrangling World export - Choosing t-1"
      ]
    },
    {
      "cell_type": "code",
      "metadata": {
        "id": "iEkMzDcFgkC3",
        "colab_type": "code",
        "colab": {}
      },
      "source": [
        "# https://unstats.un.org/unsd/trade/imts/Historical%20data%201900-1960.pdf for 1959, 1955 and 1951"
      ],
      "execution_count": 0,
      "outputs": []
    },
    {
      "cell_type": "code",
      "metadata": {
        "id": "LIblavbibDjp",
        "colab_type": "code",
        "colab": {}
      },
      "source": [
        "cols = list(map(int, Years))"
      ],
      "execution_count": 0,
      "outputs": []
    },
    {
      "cell_type": "code",
      "metadata": {
        "id": "EbrIkOj0eks6",
        "colab_type": "code",
        "colab": {}
      },
      "source": [
        "cols[:] = [x - 1 for x in cols]"
      ],
      "execution_count": 0,
      "outputs": []
    },
    {
      "cell_type": "code",
      "metadata": {
        "id": "KI_Mb16Xetj_",
        "colab_type": "code",
        "colab": {}
      },
      "source": [
        "cols = list(map(str, cols))"
      ],
      "execution_count": 0,
      "outputs": []
    },
    {
      "cell_type": "code",
      "metadata": {
        "id": "EpHex-Yve5Ws",
        "colab_type": "code",
        "colab": {}
      },
      "source": [
        "cols.append('Country Name')"
      ],
      "execution_count": 0,
      "outputs": []
    },
    {
      "cell_type": "code",
      "metadata": {
        "id": "saqSTXhre92F",
        "colab_type": "code",
        "colab": {}
      },
      "source": [
        "cols"
      ],
      "execution_count": 0,
      "outputs": []
    },
    {
      "cell_type": "code",
      "metadata": {
        "id": "KHVJ-L2dZbxU",
        "colab_type": "code",
        "colab": {}
      },
      "source": [
        "world_export = pd.read_csv( 'https://raw.githubusercontent.com/cartman12/DS-Unit-2-Regression-1/master/module3-doing-linear-regression/world%20export%201951%20to%202018.csv', usecols=cols)"
      ],
      "execution_count": 0,
      "outputs": []
    },
    {
      "cell_type": "code",
      "metadata": {
        "id": "wbS0W4lRXsT4",
        "colab_type": "code",
        "colab": {
          "base_uri": "https://localhost:8080/",
          "height": 204
        },
        "outputId": "99b4288e-d490-4ba2-ce94-c9968ec627f3"
      },
      "source": [
        "world_export.head()"
      ],
      "execution_count": 302,
      "outputs": [
        {
          "output_type": "execute_result",
          "data": {
            "text/html": [
              "<div>\n",
              "<style scoped>\n",
              "    .dataframe tbody tr th:only-of-type {\n",
              "        vertical-align: middle;\n",
              "    }\n",
              "\n",
              "    .dataframe tbody tr th {\n",
              "        vertical-align: top;\n",
              "    }\n",
              "\n",
              "    .dataframe thead th {\n",
              "        text-align: right;\n",
              "    }\n",
              "</style>\n",
              "<table border=\"1\" class=\"dataframe\">\n",
              "  <thead>\n",
              "    <tr style=\"text-align: right;\">\n",
              "      <th></th>\n",
              "      <th>Export</th>\n",
              "      <th>Year</th>\n",
              "    </tr>\n",
              "  </thead>\n",
              "  <tbody>\n",
              "    <tr>\n",
              "      <th>1</th>\n",
              "      <td>1.4876e+10</td>\n",
              "      <td>1952</td>\n",
              "    </tr>\n",
              "    <tr>\n",
              "      <th>2</th>\n",
              "      <td>1.5398e+10</td>\n",
              "      <td>1956</td>\n",
              "    </tr>\n",
              "    <tr>\n",
              "      <th>3</th>\n",
              "      <td>1.7393e+10</td>\n",
              "      <td>1960</td>\n",
              "    </tr>\n",
              "    <tr>\n",
              "      <th>4</th>\n",
              "      <td>3.11e+10</td>\n",
              "      <td>1964</td>\n",
              "    </tr>\n",
              "    <tr>\n",
              "      <th>5</th>\n",
              "      <td>4.35e+10</td>\n",
              "      <td>1968</td>\n",
              "    </tr>\n",
              "  </tbody>\n",
              "</table>\n",
              "</div>"
            ],
            "text/plain": [
              "       Export  Year\n",
              "1  1.4876e+10  1952\n",
              "2  1.5398e+10  1956\n",
              "3  1.7393e+10  1960\n",
              "4    3.11e+10  1964\n",
              "5    4.35e+10  1968"
            ]
          },
          "metadata": {
            "tags": []
          },
          "execution_count": 302
        }
      ]
    },
    {
      "cell_type": "code",
      "metadata": {
        "id": "7JqZagkVZCfx",
        "colab_type": "code",
        "colab": {}
      },
      "source": [
        "world_export = world_export[world_export['Country Name'] == 'United States']"
      ],
      "execution_count": 0,
      "outputs": []
    },
    {
      "cell_type": "code",
      "metadata": {
        "id": "ZbMFxsWChe9Q",
        "colab_type": "code",
        "colab": {}
      },
      "source": [
        "world_export = world_export.T\n",
        "world_export = world_export.reset_index().drop([0])\n",
        "world_export.columns = ['Year-1', 'Export']"
      ],
      "execution_count": 0,
      "outputs": []
    },
    {
      "cell_type": "code",
      "metadata": {
        "id": "GTch0FKcjRzy",
        "colab_type": "code",
        "colab": {}
      },
      "source": [
        "world_export['Year-1'] = world_export['Year-1'].astype(int)"
      ],
      "execution_count": 0,
      "outputs": []
    },
    {
      "cell_type": "code",
      "metadata": {
        "id": "rfv5FBqBkqRR",
        "colab_type": "code",
        "colab": {}
      },
      "source": [
        "world_export['Year'] = world_export['Year-1'] +  1"
      ],
      "execution_count": 0,
      "outputs": []
    },
    {
      "cell_type": "code",
      "metadata": {
        "id": "TCPgjH4XlAOu",
        "colab_type": "code",
        "colab": {}
      },
      "source": [
        "world_export = world_export.drop('Year-1', axis =1)\n"
      ],
      "execution_count": 0,
      "outputs": []
    },
    {
      "cell_type": "code",
      "metadata": {
        "id": "RENrKHBCkOe5",
        "colab_type": "code",
        "colab": {
          "base_uri": "https://localhost:8080/",
          "height": 68
        },
        "outputId": "7192a412-f95f-4e86-f9aa-61f929d71fc7"
      },
      "source": [
        "world_export.dtypes"
      ],
      "execution_count": 279,
      "outputs": [
        {
          "output_type": "execute_result",
          "data": {
            "text/plain": [
              "Year       int64\n",
              "Export    object\n",
              "dtype: object"
            ]
          },
          "metadata": {
            "tags": []
          },
          "execution_count": 279
        }
      ]
    },
    {
      "cell_type": "code",
      "metadata": {
        "id": "6OZjjXfoiJCM",
        "colab_type": "code",
        "colab": {
          "base_uri": "https://localhost:8080/",
          "height": 34
        },
        "outputId": "7df93e76-2ca5-4dbc-ae18-0b4bc34d85d1"
      },
      "source": [
        "world_export.shape, usa_private_saving.shape, df.shape"
      ],
      "execution_count": 263,
      "outputs": [
        {
          "output_type": "execute_result",
          "data": {
            "text/plain": [
              "((17, 2), (17, 2), (17, 6))"
            ]
          },
          "metadata": {
            "tags": []
          },
          "execution_count": 263
        }
      ]
    },
    {
      "cell_type": "code",
      "metadata": {
        "id": "842FY8pLq4oM",
        "colab_type": "code",
        "colab": {}
      },
      "source": [
        "price_index = pd.read_csv('https://raw.githubusercontent.com/cartman12/DS-Unit-2-Regression-1/master/module3-doing-linear-regression/Price%20index.csv')"
      ],
      "execution_count": 0,
      "outputs": []
    },
    {
      "cell_type": "code",
      "metadata": {
        "id": "WQ1_FQm8rICl",
        "colab_type": "code",
        "colab": {}
      },
      "source": [
        "def FREDdata(df, column_name, Years):\n",
        "  df = df.rename(columns={'DATE':'Year', 'CPIAUCSL': column_name})\n",
        "  df['Year'] = pd.to_datetime(df['Year'])\n",
        "  df['Year'] = df['Year'].dt.year\n",
        "  df = pd.DataFrame(df.groupby('Year')[column_name].sum())\n",
        "  df = df.reset_index()\n",
        "  df = df[df['Year'].isin(Years)]\n",
        "  return df\n"
      ],
      "execution_count": 0,
      "outputs": []
    },
    {
      "cell_type": "code",
      "metadata": {
        "id": "sV5esvpAsEVo",
        "colab_type": "code",
        "colab": {}
      },
      "source": [
        "price_index = FREDdata(price_index, 'price_index', Years)"
      ],
      "execution_count": 0,
      "outputs": []
    },
    {
      "cell_type": "code",
      "metadata": {
        "id": "ST2QYxMtq3lB",
        "colab_type": "code",
        "colab": {}
      },
      "source": [
        "price_index.head()"
      ],
      "execution_count": 0,
      "outputs": []
    },
    {
      "cell_type": "markdown",
      "metadata": {
        "id": "s3W9qnDaifK7",
        "colab_type": "text"
      },
      "source": [
        "### Lets merge and perform some linear magic"
      ]
    },
    {
      "cell_type": "code",
      "metadata": {
        "id": "5I4kXjl1i6Xn",
        "colab_type": "code",
        "colab": {
          "base_uri": "https://localhost:8080/",
          "height": 204
        },
        "outputId": "09484208-f952-4ae8-ef2e-2be19d892959"
      },
      "source": [
        "df.head()"
      ],
      "execution_count": 265,
      "outputs": [
        {
          "output_type": "execute_result",
          "data": {
            "text/html": [
              "<div>\n",
              "<style scoped>\n",
              "    .dataframe tbody tr th:only-of-type {\n",
              "        vertical-align: middle;\n",
              "    }\n",
              "\n",
              "    .dataframe tbody tr th {\n",
              "        vertical-align: top;\n",
              "    }\n",
              "\n",
              "    .dataframe thead th {\n",
              "        text-align: right;\n",
              "    }\n",
              "</style>\n",
              "<table border=\"1\" class=\"dataframe\">\n",
              "  <thead>\n",
              "    <tr style=\"text-align: right;\">\n",
              "      <th></th>\n",
              "      <th>Year</th>\n",
              "      <th>Incumbent Party Candidate</th>\n",
              "      <th>Other Candidate</th>\n",
              "      <th>Incumbent Party Vote Share</th>\n",
              "      <th>Average Recent Growth in Personal Incomes</th>\n",
              "      <th>US Military Fatalities per Million</th>\n",
              "    </tr>\n",
              "  </thead>\n",
              "  <tbody>\n",
              "    <tr>\n",
              "      <th>0</th>\n",
              "      <td>1952</td>\n",
              "      <td>Stevenson</td>\n",
              "      <td>Eisenhower</td>\n",
              "      <td>44.60</td>\n",
              "      <td>2.40</td>\n",
              "      <td>190</td>\n",
              "    </tr>\n",
              "    <tr>\n",
              "      <th>1</th>\n",
              "      <td>1956</td>\n",
              "      <td>Eisenhower</td>\n",
              "      <td>Stevenson</td>\n",
              "      <td>57.76</td>\n",
              "      <td>2.89</td>\n",
              "      <td>0</td>\n",
              "    </tr>\n",
              "    <tr>\n",
              "      <th>2</th>\n",
              "      <td>1960</td>\n",
              "      <td>Nixon</td>\n",
              "      <td>Kennedy</td>\n",
              "      <td>49.91</td>\n",
              "      <td>0.85</td>\n",
              "      <td>0</td>\n",
              "    </tr>\n",
              "    <tr>\n",
              "      <th>3</th>\n",
              "      <td>1964</td>\n",
              "      <td>Johnson</td>\n",
              "      <td>Goldwater</td>\n",
              "      <td>61.34</td>\n",
              "      <td>4.21</td>\n",
              "      <td>1</td>\n",
              "    </tr>\n",
              "    <tr>\n",
              "      <th>4</th>\n",
              "      <td>1968</td>\n",
              "      <td>Humphrey</td>\n",
              "      <td>Nixon</td>\n",
              "      <td>49.60</td>\n",
              "      <td>3.02</td>\n",
              "      <td>146</td>\n",
              "    </tr>\n",
              "  </tbody>\n",
              "</table>\n",
              "</div>"
            ],
            "text/plain": [
              "   Year  ... US Military Fatalities per Million\n",
              "0  1952  ...                                190\n",
              "1  1956  ...                                  0\n",
              "2  1960  ...                                  0\n",
              "3  1964  ...                                  1\n",
              "4  1968  ...                                146\n",
              "\n",
              "[5 rows x 6 columns]"
            ]
          },
          "metadata": {
            "tags": []
          },
          "execution_count": 265
        }
      ]
    },
    {
      "cell_type": "code",
      "metadata": {
        "id": "QmL85tl3i_uo",
        "colab_type": "code",
        "colab": {
          "base_uri": "https://localhost:8080/",
          "height": 136
        },
        "outputId": "0e8153f0-9238-4144-f4f2-9c355f5eddaa"
      },
      "source": [
        "df.dtypes"
      ],
      "execution_count": 278,
      "outputs": [
        {
          "output_type": "execute_result",
          "data": {
            "text/plain": [
              "Year                                           int64\n",
              "Incumbent Party Candidate                     object\n",
              "Other Candidate                               object\n",
              "Incumbent Party Vote Share                   float64\n",
              "Average Recent Growth in Personal Incomes    float64\n",
              "US Military Fatalities per Million             int64\n",
              "dtype: object"
            ]
          },
          "metadata": {
            "tags": []
          },
          "execution_count": 278
        }
      ]
    },
    {
      "cell_type": "code",
      "metadata": {
        "id": "kSz75oHCiWVU",
        "colab_type": "code",
        "colab": {}
      },
      "source": [
        "df = df.merge(world_export).merge(usa_private_saving).merge(price_index)"
      ],
      "execution_count": 0,
      "outputs": []
    },
    {
      "cell_type": "code",
      "metadata": {
        "id": "M3eLUSdCi3Tp",
        "colab_type": "code",
        "colab": {
          "base_uri": "https://localhost:8080/",
          "height": 204
        },
        "outputId": "816140f7-02d4-431d-9ffe-dc213ba3ac54"
      },
      "source": [
        "df.head()"
      ],
      "execution_count": 388,
      "outputs": [
        {
          "output_type": "execute_result",
          "data": {
            "text/html": [
              "<div>\n",
              "<style scoped>\n",
              "    .dataframe tbody tr th:only-of-type {\n",
              "        vertical-align: middle;\n",
              "    }\n",
              "\n",
              "    .dataframe tbody tr th {\n",
              "        vertical-align: top;\n",
              "    }\n",
              "\n",
              "    .dataframe thead th {\n",
              "        text-align: right;\n",
              "    }\n",
              "</style>\n",
              "<table border=\"1\" class=\"dataframe\">\n",
              "  <thead>\n",
              "    <tr style=\"text-align: right;\">\n",
              "      <th></th>\n",
              "      <th>Year</th>\n",
              "      <th>Incumbent Party Candidate</th>\n",
              "      <th>Other Candidate</th>\n",
              "      <th>Incumbent Party Vote Share</th>\n",
              "      <th>Average Recent Growth in Personal Incomes</th>\n",
              "      <th>US Military Fatalities per Million</th>\n",
              "      <th>Export</th>\n",
              "      <th>Private_saving</th>\n",
              "      <th>price_index</th>\n",
              "    </tr>\n",
              "  </thead>\n",
              "  <tbody>\n",
              "    <tr>\n",
              "      <th>0</th>\n",
              "      <td>1952</td>\n",
              "      <td>Stevenson</td>\n",
              "      <td>Eisenhower</td>\n",
              "      <td>44.60</td>\n",
              "      <td>2.40</td>\n",
              "      <td>190</td>\n",
              "      <td>1.4876e+10</td>\n",
              "      <td>158.050</td>\n",
              "      <td>318.80</td>\n",
              "    </tr>\n",
              "    <tr>\n",
              "      <th>1</th>\n",
              "      <td>1956</td>\n",
              "      <td>Eisenhower</td>\n",
              "      <td>Stevenson</td>\n",
              "      <td>57.76</td>\n",
              "      <td>2.89</td>\n",
              "      <td>0</td>\n",
              "      <td>1.5398e+10</td>\n",
              "      <td>204.105</td>\n",
              "      <td>326.29</td>\n",
              "    </tr>\n",
              "    <tr>\n",
              "      <th>2</th>\n",
              "      <td>1960</td>\n",
              "      <td>Nixon</td>\n",
              "      <td>Kennedy</td>\n",
              "      <td>49.91</td>\n",
              "      <td>0.85</td>\n",
              "      <td>0</td>\n",
              "      <td>1.7393e+10</td>\n",
              "      <td>225.528</td>\n",
              "      <td>355.02</td>\n",
              "    </tr>\n",
              "    <tr>\n",
              "      <th>3</th>\n",
              "      <td>1964</td>\n",
              "      <td>Johnson</td>\n",
              "      <td>Goldwater</td>\n",
              "      <td>61.34</td>\n",
              "      <td>4.21</td>\n",
              "      <td>1</td>\n",
              "      <td>3.11e+10</td>\n",
              "      <td>346.559</td>\n",
              "      <td>372.46</td>\n",
              "    </tr>\n",
              "    <tr>\n",
              "      <th>4</th>\n",
              "      <td>1968</td>\n",
              "      <td>Humphrey</td>\n",
              "      <td>Nixon</td>\n",
              "      <td>49.60</td>\n",
              "      <td>3.02</td>\n",
              "      <td>146</td>\n",
              "      <td>4.35e+10</td>\n",
              "      <td>446.031</td>\n",
              "      <td>417.50</td>\n",
              "    </tr>\n",
              "  </tbody>\n",
              "</table>\n",
              "</div>"
            ],
            "text/plain": [
              "   Year Incumbent Party Candidate  ... Private_saving  price_index\n",
              "0  1952                 Stevenson  ...        158.050       318.80\n",
              "1  1956                Eisenhower  ...        204.105       326.29\n",
              "2  1960                     Nixon  ...        225.528       355.02\n",
              "3  1964                   Johnson  ...        346.559       372.46\n",
              "4  1968                  Humphrey  ...        446.031       417.50\n",
              "\n",
              "[5 rows x 9 columns]"
            ]
          },
          "metadata": {
            "tags": []
          },
          "execution_count": 388
        }
      ]
    },
    {
      "cell_type": "code",
      "metadata": {
        "id": "2NZNhYWEjqoR",
        "colab_type": "code",
        "colab": {}
      },
      "source": [
        "target = 'Incumbent Party Vote Share'\n",
        "\n",
        "mean_baseline = [df[target].mean()] * len(df)\n",
        "MEA_mean = (df[target]-mean_baseline).abs().mean()"
      ],
      "execution_count": 0,
      "outputs": []
    },
    {
      "cell_type": "code",
      "metadata": {
        "id": "F6JIx_m-mHGr",
        "colab_type": "code",
        "colab": {
          "base_uri": "https://localhost:8080/",
          "height": 34
        },
        "outputId": "d09e462c-af58-432e-94f9-b62ce6b9df20"
      },
      "source": [
        "MEA_mean"
      ],
      "execution_count": 312,
      "outputs": [
        {
          "output_type": "execute_result",
          "data": {
            "text/plain": [
              "4.463806228373703"
            ]
          },
          "metadata": {
            "tags": []
          },
          "execution_count": 312
        }
      ]
    },
    {
      "cell_type": "code",
      "metadata": {
        "id": "oG5HFk5dmIbg",
        "colab_type": "code",
        "colab": {}
      },
      "source": [
        "from sklearn.linear_model import LinearRegression\n",
        "from sklearn.metrics import mean_absolute_error\n"
      ],
      "execution_count": 0,
      "outputs": []
    },
    {
      "cell_type": "code",
      "metadata": {
        "id": "pOYF_Sccnc5C",
        "colab_type": "code",
        "colab": {}
      },
      "source": [
        "model = LinearRegression()"
      ],
      "execution_count": 0,
      "outputs": []
    },
    {
      "cell_type": "code",
      "metadata": {
        "id": "UIcxZdDUnmAu",
        "colab_type": "code",
        "colab": {}
      },
      "source": [
        "features = ['Average Recent Growth in Personal Incomes', 'US Military Fatalities per Million', 'Export', 'Private_saving']"
      ],
      "execution_count": 0,
      "outputs": []
    },
    {
      "cell_type": "code",
      "metadata": {
        "id": "uCkg6uVmoA8P",
        "colab_type": "code",
        "colab": {}
      },
      "source": [
        "X = df[features]\n",
        "y = df[target]"
      ],
      "execution_count": 0,
      "outputs": []
    },
    {
      "cell_type": "code",
      "metadata": {
        "id": "YCl1BBlnoHJR",
        "colab_type": "code",
        "colab": {
          "base_uri": "https://localhost:8080/",
          "height": 34
        },
        "outputId": "9e56a0e7-7f83-4cab-ca15-6ca501efe248"
      },
      "source": [
        "model.fit(X,y)"
      ],
      "execution_count": 372,
      "outputs": [
        {
          "output_type": "execute_result",
          "data": {
            "text/plain": [
              "LinearRegression(copy_X=True, fit_intercept=True, n_jobs=None, normalize=False)"
            ]
          },
          "metadata": {
            "tags": []
          },
          "execution_count": 372
        }
      ]
    },
    {
      "cell_type": "code",
      "metadata": {
        "id": "8zsKV8IKoJ29",
        "colab_type": "code",
        "colab": {
          "base_uri": "https://localhost:8080/",
          "height": 34
        },
        "outputId": "1fea3dc3-4285-4c05-fc6c-875a57101ab4"
      },
      "source": [
        "y_pred = model.predict(X)\n",
        "mean_absolute_error(y, y_pred)"
      ],
      "execution_count": 373,
      "outputs": [
        {
          "output_type": "execute_result",
          "data": {
            "text/plain": [
              "1.3240274058375539"
            ]
          },
          "metadata": {
            "tags": []
          },
          "execution_count": 373
        }
      ]
    },
    {
      "cell_type": "code",
      "metadata": {
        "id": "4rIV4_ZPoOqB",
        "colab_type": "code",
        "colab": {}
      },
      "source": [
        "def MEA(df, features):\n",
        "  X = df[features]\n",
        "  y = df['Incumbent Party Vote Share']\n",
        "  \n",
        "  model = LinearRegression()\n",
        "  model.fit(X,y)\n",
        "  y_pred = model.predict(X)\n",
        "  MEA = mean_absolute_error(y, y_pred)\n",
        "  return MEA"
      ],
      "execution_count": 0,
      "outputs": []
    },
    {
      "cell_type": "code",
      "metadata": {
        "id": "lzuzhJKqshtB",
        "colab_type": "code",
        "colab": {
          "base_uri": "https://localhost:8080/",
          "height": 34
        },
        "outputId": "600471b5-8c69-4b85-d5d5-69a6d28f4a96"
      },
      "source": [
        "MEA(df, ['Average Recent Growth in Personal Incomes', 'US Military Fatalities per Million', 'price_index'] )"
      ],
      "execution_count": 395,
      "outputs": [
        {
          "output_type": "execute_result",
          "data": {
            "text/plain": [
              "1.396052896459876"
            ]
          },
          "metadata": {
            "tags": []
          },
          "execution_count": 395
        }
      ]
    },
    {
      "cell_type": "code",
      "metadata": {
        "id": "Tk2lEwLksizW",
        "colab_type": "code",
        "colab": {
          "base_uri": "https://localhost:8080/",
          "height": 34
        },
        "outputId": "e94f295b-8fa5-4331-8174-294628193d55"
      },
      "source": [
        "MEA(df, ['Average Recent Growth in Personal Incomes', 'US Military Fatalities per Million', 'Private_saving', 'price_index'] )"
      ],
      "execution_count": 396,
      "outputs": [
        {
          "output_type": "execute_result",
          "data": {
            "text/plain": [
              "1.2003840149435752"
            ]
          },
          "metadata": {
            "tags": []
          },
          "execution_count": 396
        }
      ]
    },
    {
      "cell_type": "code",
      "metadata": {
        "id": "7QnPaRBipxo5",
        "colab_type": "code",
        "colab": {
          "base_uri": "https://localhost:8080/",
          "height": 34
        },
        "outputId": "763ce545-6723-495f-f4e8-c5219d5d114e"
      },
      "source": [
        "MEA(df, ['Average Recent Growth in Personal Incomes', 'US Military Fatalities per Million', 'Export', 'Private_saving', 'price_index'] )"
      ],
      "execution_count": 401,
      "outputs": [
        {
          "output_type": "execute_result",
          "data": {
            "text/plain": [
              "1.0485851123221417"
            ]
          },
          "metadata": {
            "tags": []
          },
          "execution_count": 401
        }
      ]
    },
    {
      "cell_type": "markdown",
      "metadata": {
        "id": "cTpFE1gVtS0z",
        "colab_type": "text"
      },
      "source": [
        "### Split train test"
      ]
    },
    {
      "cell_type": "code",
      "metadata": {
        "id": "ldXLnPQBvLzQ",
        "colab_type": "code",
        "colab": {}
      },
      "source": [
        "def MEAsplit(df, features, year)"
      ],
      "execution_count": 0,
      "outputs": []
    },
    {
      "cell_type": "code",
      "metadata": {
        "id": "Cg63hAeLtcft",
        "colab_type": "code",
        "colab": {}
      },
      "source": [
        "def MAEsplit(df, features, year, ex): \n",
        "  if '!' in ex:\n",
        "    train = df.query('Year != ' + year)\n",
        "    test  = df.query('Year == ' + year)\n",
        "  else:\n",
        "    train = df.query('Year < ' + year)\n",
        "    test  = df.query('Year >= ' + year)\n",
        "  X_train = train[features] \n",
        "  y_train = train[target]\n",
        "  X_test  = test[features]\n",
        "  y_test  = test[target]\n",
        "  \n",
        "  model = LinearRegression()\n",
        "  model.fit(X_train, y_train)\n",
        "  y_pred = model.predict(X_test)\n",
        "  MAE = mean_absolute_error(y_test, y_pred)\n",
        "  return [MAE, y_pred]\n",
        "  "
      ],
      "execution_count": 0,
      "outputs": []
    },
    {
      "cell_type": "code",
      "metadata": {
        "id": "ImHVzdnMxf-u",
        "colab_type": "code",
        "colab": {
          "base_uri": "https://localhost:8080/",
          "height": 306
        },
        "outputId": "34a3e175-853a-4dee-ca2f-b40ecb4d342e"
      },
      "source": [
        "Years"
      ],
      "execution_count": 471,
      "outputs": [
        {
          "output_type": "execute_result",
          "data": {
            "text/plain": [
              "['1952',\n",
              " '1956',\n",
              " '1960',\n",
              " '1964',\n",
              " '1968',\n",
              " '1972',\n",
              " '1976',\n",
              " '1980',\n",
              " '1984',\n",
              " '1988',\n",
              " '1992',\n",
              " '1996',\n",
              " '2000',\n",
              " '2004',\n",
              " '2008',\n",
              " '2012',\n",
              " '2016']"
            ]
          },
          "metadata": {
            "tags": []
          },
          "execution_count": 471
        }
      ]
    },
    {
      "cell_type": "code",
      "metadata": {
        "id": "dS2JHOsd2WZp",
        "colab_type": "code",
        "colab": {
          "base_uri": "https://localhost:8080/",
          "height": 34
        },
        "outputId": "d8a64363-82b5-4d89-cd2e-ff8f70b25e81"
      },
      "source": [
        "MAEsplit(df, ['Average Recent Growth in Personal Incomes', 'US Military Fatalities per Million', 'Export', 'Private_saving', 'price_index'], i, \"!\")[1]"
      ],
      "execution_count": 480,
      "outputs": [
        {
          "output_type": "execute_result",
          "data": {
            "text/plain": [
              "array([45.10794593])"
            ]
          },
          "metadata": {
            "tags": []
          },
          "execution_count": 480
        }
      ]
    },
    {
      "cell_type": "code",
      "metadata": {
        "id": "p-RRdPln3LgT",
        "colab_type": "code",
        "colab": {}
      },
      "source": [
        "import numpy as np"
      ],
      "execution_count": 0,
      "outputs": []
    },
    {
      "cell_type": "code",
      "metadata": {
        "id": "GXSn39xUvvpi",
        "colab_type": "code",
        "colab": {
          "base_uri": "https://localhost:8080/",
          "height": 323
        },
        "outputId": "0724b03a-cde2-4072-bda4-ccd3d528b625"
      },
      "source": [
        "MAEs = []\n",
        "y_preds = []\n",
        "for i in Years:\n",
        "  MAE = MAEsplit(df, ['Average Recent Growth in Personal Incomes', 'US Military Fatalities per Million', 'Export', 'Private_saving', 'price_index'], i, \"!\")[0]\n",
        "  y_pred = MAEsplit(df, ['Average Recent Growth in Personal Incomes', 'US Military Fatalities per Million', 'Export', 'Private_saving', 'price_index'], i, \"!\")[1]\n",
        "  MAEs.append(MAE)\n",
        "  y_preds = np.append(y_preds, y_pred)\n",
        "  print('MAE on the test data for the year', i, 'is:', MAE)\n",
        "print('Leave one out prediciton Total MAE:', pd.Series(MAEs).mean())"
      ],
      "execution_count": 492,
      "outputs": [
        {
          "output_type": "stream",
          "text": [
            "MAE on the test data for the year 1952 is: 0.5079459300765095\n",
            "MAE on the test data for the year 1956 is: 0.6060943034656461\n",
            "MAE on the test data for the year 1960 is: 0.5553372198528805\n",
            "MAE on the test data for the year 1964 is: 0.6236968281402042\n",
            "MAE on the test data for the year 1968 is: 0.34684081338294703\n",
            "MAE on the test data for the year 1972 is: 2.730844386784298\n",
            "MAE on the test data for the year 1976 is: 2.162449642193266\n",
            "MAE on the test data for the year 1980 is: 0.9539298138119534\n",
            "MAE on the test data for the year 1984 is: 0.7088083613680567\n",
            "MAE on the test data for the year 1988 is: 0.14134851138035032\n",
            "MAE on the test data for the year 1992 is: 1.1658713683324464\n",
            "MAE on the test data for the year 1996 is: 5.9743880110960035\n",
            "MAE on the test data for the year 2000 is: 4.938147178344494\n",
            "MAE on the test data for the year 2004 is: 0.701474466990355\n",
            "MAE on the test data for the year 2008 is: 1.9177225126432234\n",
            "MAE on the test data for the year 2012 is: 1.8676197434706836\n",
            "MAE on the test data for the year 2016 is: 0.06575751316855616\n",
            "Leave one out prediciton Total MAE: 1.5275456826177574\n"
          ],
          "name": "stdout"
        }
      ]
    },
    {
      "cell_type": "code",
      "metadata": {
        "id": "nvtw1JMZ3WhV",
        "colab_type": "code",
        "colab": {
          "base_uri": "https://localhost:8080/",
          "height": 85
        },
        "outputId": "977c0cb9-8b79-4ff6-c9a4-4df04814325b"
      },
      "source": [
        "y_preds"
      ],
      "execution_count": 493,
      "outputs": [
        {
          "output_type": "execute_result",
          "data": {
            "text/plain": [
              "array([45.10794593, 57.1539057 , 50.46533722, 61.96369683, 49.25315919,\n",
              "       59.05915561, 51.11244964, 45.65392981, 59.87880836, 53.79865149,\n",
              "       47.71587137, 48.76561199, 55.20814718, 51.94147447, 44.40227749,\n",
              "       53.86761974, 48.26575751])"
            ]
          },
          "metadata": {
            "tags": []
          },
          "execution_count": 493
        }
      ]
    },
    {
      "cell_type": "code",
      "metadata": {
        "id": "3uN6wx4jtx83",
        "colab_type": "code",
        "colab": {}
      },
      "source": [
        "df['MAE'] = MAEs"
      ],
      "execution_count": 0,
      "outputs": []
    },
    {
      "cell_type": "code",
      "metadata": {
        "id": "_i69-777332g",
        "colab_type": "code",
        "colab": {}
      },
      "source": [
        ""
      ],
      "execution_count": 0,
      "outputs": []
    },
    {
      "cell_type": "code",
      "metadata": {
        "id": "1tYlNYXs1BcL",
        "colab_type": "code",
        "colab": {}
      },
      "source": [
        "df['Predicted Incumbent Party Vote Share'] = y_preds"
      ],
      "execution_count": 0,
      "outputs": []
    },
    {
      "cell_type": "code",
      "metadata": {
        "id": "QeXjsB2Z0-bZ",
        "colab_type": "code",
        "colab": {
          "base_uri": "https://localhost:8080/",
          "height": 593
        },
        "outputId": "0b475eef-b47f-4315-aa36-c74438e52470"
      },
      "source": [
        "df"
      ],
      "execution_count": 499,
      "outputs": [
        {
          "output_type": "execute_result",
          "data": {
            "text/html": [
              "<div>\n",
              "<style scoped>\n",
              "    .dataframe tbody tr th:only-of-type {\n",
              "        vertical-align: middle;\n",
              "    }\n",
              "\n",
              "    .dataframe tbody tr th {\n",
              "        vertical-align: top;\n",
              "    }\n",
              "\n",
              "    .dataframe thead th {\n",
              "        text-align: right;\n",
              "    }\n",
              "</style>\n",
              "<table border=\"1\" class=\"dataframe\">\n",
              "  <thead>\n",
              "    <tr style=\"text-align: right;\">\n",
              "      <th></th>\n",
              "      <th>Year</th>\n",
              "      <th>Incumbent Party Candidate</th>\n",
              "      <th>Other Candidate</th>\n",
              "      <th>Incumbent Party Vote Share</th>\n",
              "      <th>Average Recent Growth in Personal Incomes</th>\n",
              "      <th>US Military Fatalities per Million</th>\n",
              "      <th>Export</th>\n",
              "      <th>Private_saving</th>\n",
              "      <th>price_index</th>\n",
              "      <th>MAE</th>\n",
              "      <th>Predicted Incumbent Party Vote Share</th>\n",
              "    </tr>\n",
              "  </thead>\n",
              "  <tbody>\n",
              "    <tr>\n",
              "      <th>0</th>\n",
              "      <td>1952</td>\n",
              "      <td>Stevenson</td>\n",
              "      <td>Eisenhower</td>\n",
              "      <td>44.60</td>\n",
              "      <td>2.40</td>\n",
              "      <td>190</td>\n",
              "      <td>1.4876e+10</td>\n",
              "      <td>158.050</td>\n",
              "      <td>318.800</td>\n",
              "      <td>0.507946</td>\n",
              "      <td>45.107946</td>\n",
              "    </tr>\n",
              "    <tr>\n",
              "      <th>1</th>\n",
              "      <td>1956</td>\n",
              "      <td>Eisenhower</td>\n",
              "      <td>Stevenson</td>\n",
              "      <td>57.76</td>\n",
              "      <td>2.89</td>\n",
              "      <td>0</td>\n",
              "      <td>1.5398e+10</td>\n",
              "      <td>204.105</td>\n",
              "      <td>326.290</td>\n",
              "      <td>0.606094</td>\n",
              "      <td>57.153906</td>\n",
              "    </tr>\n",
              "    <tr>\n",
              "      <th>2</th>\n",
              "      <td>1960</td>\n",
              "      <td>Nixon</td>\n",
              "      <td>Kennedy</td>\n",
              "      <td>49.91</td>\n",
              "      <td>0.85</td>\n",
              "      <td>0</td>\n",
              "      <td>1.7393e+10</td>\n",
              "      <td>225.528</td>\n",
              "      <td>355.020</td>\n",
              "      <td>0.555337</td>\n",
              "      <td>50.465337</td>\n",
              "    </tr>\n",
              "    <tr>\n",
              "      <th>3</th>\n",
              "      <td>1964</td>\n",
              "      <td>Johnson</td>\n",
              "      <td>Goldwater</td>\n",
              "      <td>61.34</td>\n",
              "      <td>4.21</td>\n",
              "      <td>1</td>\n",
              "      <td>3.11e+10</td>\n",
              "      <td>346.559</td>\n",
              "      <td>372.460</td>\n",
              "      <td>0.623697</td>\n",
              "      <td>61.963697</td>\n",
              "    </tr>\n",
              "    <tr>\n",
              "      <th>4</th>\n",
              "      <td>1968</td>\n",
              "      <td>Humphrey</td>\n",
              "      <td>Nixon</td>\n",
              "      <td>49.60</td>\n",
              "      <td>3.02</td>\n",
              "      <td>146</td>\n",
              "      <td>4.35e+10</td>\n",
              "      <td>446.031</td>\n",
              "      <td>417.500</td>\n",
              "      <td>0.346841</td>\n",
              "      <td>49.253159</td>\n",
              "    </tr>\n",
              "    <tr>\n",
              "      <th>5</th>\n",
              "      <td>1972</td>\n",
              "      <td>Nixon</td>\n",
              "      <td>McGovern</td>\n",
              "      <td>61.79</td>\n",
              "      <td>3.62</td>\n",
              "      <td>0</td>\n",
              "      <td>6.2964e+10</td>\n",
              "      <td>638.254</td>\n",
              "      <td>501.700</td>\n",
              "      <td>2.730844</td>\n",
              "      <td>59.059156</td>\n",
              "    </tr>\n",
              "    <tr>\n",
              "      <th>6</th>\n",
              "      <td>1976</td>\n",
              "      <td>Ford</td>\n",
              "      <td>Carter</td>\n",
              "      <td>48.95</td>\n",
              "      <td>1.08</td>\n",
              "      <td>2</td>\n",
              "      <td>1.39e+11</td>\n",
              "      <td>897.691</td>\n",
              "      <td>683.200</td>\n",
              "      <td>2.162450</td>\n",
              "      <td>51.112450</td>\n",
              "    </tr>\n",
              "    <tr>\n",
              "      <th>7</th>\n",
              "      <td>1980</td>\n",
              "      <td>Carter</td>\n",
              "      <td>Reagan</td>\n",
              "      <td>44.70</td>\n",
              "      <td>-0.39</td>\n",
              "      <td>0</td>\n",
              "      <td>2.3e+11</td>\n",
              "      <td>1185.528</td>\n",
              "      <td>988.600</td>\n",
              "      <td>0.953930</td>\n",
              "      <td>45.653930</td>\n",
              "    </tr>\n",
              "    <tr>\n",
              "      <th>8</th>\n",
              "      <td>1984</td>\n",
              "      <td>Reagan</td>\n",
              "      <td>Mondale</td>\n",
              "      <td>59.17</td>\n",
              "      <td>3.86</td>\n",
              "      <td>0</td>\n",
              "      <td>2.77e+11</td>\n",
              "      <td>1919.581</td>\n",
              "      <td>1247.200</td>\n",
              "      <td>0.708808</td>\n",
              "      <td>59.878808</td>\n",
              "    </tr>\n",
              "    <tr>\n",
              "      <th>9</th>\n",
              "      <td>1988</td>\n",
              "      <td>Bush, Sr.</td>\n",
              "      <td>Dukakis</td>\n",
              "      <td>53.94</td>\n",
              "      <td>2.27</td>\n",
              "      <td>0</td>\n",
              "      <td>3.64e+11</td>\n",
              "      <td>1853.574</td>\n",
              "      <td>1419.300</td>\n",
              "      <td>0.141349</td>\n",
              "      <td>53.798651</td>\n",
              "    </tr>\n",
              "    <tr>\n",
              "      <th>10</th>\n",
              "      <td>1992</td>\n",
              "      <td>Bush, Sr.</td>\n",
              "      <td>Clinton</td>\n",
              "      <td>46.55</td>\n",
              "      <td>0.38</td>\n",
              "      <td>0</td>\n",
              "      <td>5.95e+11</td>\n",
              "      <td>2371.350</td>\n",
              "      <td>1683.700</td>\n",
              "      <td>1.165871</td>\n",
              "      <td>47.715871</td>\n",
              "    </tr>\n",
              "    <tr>\n",
              "      <th>11</th>\n",
              "      <td>1996</td>\n",
              "      <td>Clinton</td>\n",
              "      <td>Dole</td>\n",
              "      <td>54.74</td>\n",
              "      <td>1.04</td>\n",
              "      <td>0</td>\n",
              "      <td>8.13e+11</td>\n",
              "      <td>2547.077</td>\n",
              "      <td>1882.300</td>\n",
              "      <td>5.974388</td>\n",
              "      <td>48.765612</td>\n",
              "    </tr>\n",
              "    <tr>\n",
              "      <th>12</th>\n",
              "      <td>2000</td>\n",
              "      <td>Gore</td>\n",
              "      <td>Bush, Jr.</td>\n",
              "      <td>50.27</td>\n",
              "      <td>2.36</td>\n",
              "      <td>0</td>\n",
              "      <td>9.92e+11</td>\n",
              "      <td>2004.934</td>\n",
              "      <td>2066.300</td>\n",
              "      <td>4.938147</td>\n",
              "      <td>55.208147</td>\n",
              "    </tr>\n",
              "    <tr>\n",
              "      <th>13</th>\n",
              "      <td>2004</td>\n",
              "      <td>Bush, Jr.</td>\n",
              "      <td>Kerry</td>\n",
              "      <td>51.24</td>\n",
              "      <td>1.72</td>\n",
              "      <td>4</td>\n",
              "      <td>1.04e+12</td>\n",
              "      <td>3569.560</td>\n",
              "      <td>2266.900</td>\n",
              "      <td>0.701474</td>\n",
              "      <td>51.941474</td>\n",
              "    </tr>\n",
              "    <tr>\n",
              "      <th>14</th>\n",
              "      <td>2008</td>\n",
              "      <td>McCain</td>\n",
              "      <td>Obama</td>\n",
              "      <td>46.32</td>\n",
              "      <td>0.10</td>\n",
              "      <td>14</td>\n",
              "      <td>1.66e+12</td>\n",
              "      <td>2937.353</td>\n",
              "      <td>2583.051</td>\n",
              "      <td>1.917723</td>\n",
              "      <td>44.402277</td>\n",
              "    </tr>\n",
              "    <tr>\n",
              "      <th>15</th>\n",
              "      <td>2012</td>\n",
              "      <td>Obama</td>\n",
              "      <td>Romney</td>\n",
              "      <td>52.00</td>\n",
              "      <td>0.95</td>\n",
              "      <td>5</td>\n",
              "      <td>2.1e+12</td>\n",
              "      <td>7285.811</td>\n",
              "      <td>2755.033</td>\n",
              "      <td>1.867620</td>\n",
              "      <td>53.867620</td>\n",
              "    </tr>\n",
              "    <tr>\n",
              "      <th>16</th>\n",
              "      <td>2016</td>\n",
              "      <td>Clinton</td>\n",
              "      <td>Trump</td>\n",
              "      <td>48.20</td>\n",
              "      <td>0.10</td>\n",
              "      <td>5</td>\n",
              "      <td>2.27e+12</td>\n",
              "      <td>5611.519</td>\n",
              "      <td>2880.093</td>\n",
              "      <td>0.065758</td>\n",
              "      <td>48.265758</td>\n",
              "    </tr>\n",
              "  </tbody>\n",
              "</table>\n",
              "</div>"
            ],
            "text/plain": [
              "    Year  ... Predicted Incumbent Party Vote Share\n",
              "0   1952  ...                            45.107946\n",
              "1   1956  ...                            57.153906\n",
              "2   1960  ...                            50.465337\n",
              "3   1964  ...                            61.963697\n",
              "4   1968  ...                            49.253159\n",
              "5   1972  ...                            59.059156\n",
              "6   1976  ...                            51.112450\n",
              "7   1980  ...                            45.653930\n",
              "8   1984  ...                            59.878808\n",
              "9   1988  ...                            53.798651\n",
              "10  1992  ...                            47.715871\n",
              "11  1996  ...                            48.765612\n",
              "12  2000  ...                            55.208147\n",
              "13  2004  ...                            51.941474\n",
              "14  2008  ...                            44.402277\n",
              "15  2012  ...                            53.867620\n",
              "16  2016  ...                            48.265758\n",
              "\n",
              "[17 rows x 11 columns]"
            ]
          },
          "metadata": {
            "tags": []
          },
          "execution_count": 499
        }
      ]
    },
    {
      "cell_type": "code",
      "metadata": {
        "id": "zdiu6A2I0_ZK",
        "colab_type": "code",
        "colab": {
          "base_uri": "https://localhost:8080/",
          "height": 462
        },
        "outputId": "4eced8df-b194-4ce6-94f0-a6b0c52adc0f"
      },
      "source": [
        "import matplotlib.pyplot as plt\n",
        "from matplotlib.pyplot import figure\n",
        "plt.style.use('ggplot')\n",
        "\n",
        "x_year =  df['Year']\n",
        "figure(num=None, figsize = (16,7))\n",
        "\n",
        "fig, ax1 = plt.subplots(figsize = (16,7))\n",
        "\n",
        "ax1.scatter( x_year,df['Incumbent Party Vote Share'], color = 'blue')\n",
        "ax1.scatter(x_year, df['Predicted Incumbent Party Vote Share'], color = 'red')\n",
        "plt.legend(loc='upper left', bbox_to_anchor=(1.02, 1))\n",
        "ax2.tick_params(axis='y', labelcolor='blue')\n",
        "\n",
        "ax2 = ax1.twinx()\n",
        "ax2.plot(x_year, df['MAE'], color = 'green')\n",
        "ax2.set_ylabel('MAE',color='green')\n",
        "plt.legend(loc='upper left', bbox_to_anchor=(1.02, 0.9))\n",
        "ax2.tick_params(axis='y', labelcolor='green')\n",
        "plt.title('Leave-one-out Predicted Incumbent Party Vote Share Using 5 Features')\n",
        "plt.show()"
      ],
      "execution_count": 546,
      "outputs": [
        {
          "output_type": "display_data",
          "data": {
            "text/plain": [
              "<Figure size 1152x504 with 0 Axes>"
            ]
          },
          "metadata": {
            "tags": []
          }
        },
        {
          "output_type": "display_data",
          "data": {
            "image/png": "[encoded data removed]",
            "text/plain": [
              "<Figure size 1152x504 with 2 Axes>"
            ]
          },
          "metadata": {
            "tags": []
          }
        }
      ]
    },
    {
      "cell_type": "code",
      "metadata": {
        "id": "jV5aLOzv4ytr",
        "colab_type": "code",
        "colab": {}
      },
      "source": [
        ""
      ],
      "execution_count": 0,
      "outputs": []
    }
  ]
}