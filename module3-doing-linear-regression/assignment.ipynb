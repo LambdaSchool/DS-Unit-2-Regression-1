{
 "cells": [
  {
   "cell_type": "markdown",
   "metadata": {},
   "source": [
    "## Assignment\n",
    "\n",
    "#### Predict presidential election voting, with two features you choose!\n",
    "- Start a new notebook.\n",
    "- You may reuse one of the features from the \"Bread & Peace\" model.\n",
    "- **Acquire data for at least one new feature.** The links below may help!\n",
    "- Commit your notebook to your fork of the GitHub repo.\n",
    "\n",
    "#### Why I'm asking you to acquire data for at least one new [feature](https://en.wikipedia.org/wiki/Feature_engineering)\n",
    "\n",
    "> \"Some machine learning projects succeed and some fail. What makes the difference? Easily the most important factor is the features used.\" — Pedro Domingos, [\"A Few Useful Things to Know about Machine Learning\"](https://homes.cs.washington.edu/~pedrod/papers/cacm12.pdf)\n",
    "\n",
    "> \"Coming up with features is difficult, time-consuming, requires expert knowledge. 'Applied machine learning' is basically feature engineering.\" — Andrew Ng, [Machine Learning and AI via Brain simulations](https://forum.stanford.edu/events/2011/2011slides/plenary/2011plenaryNg.pdf) \n",
    "\n",
    "> Feature engineering is the process of using domain knowledge of the data to create features that make machine learning algorithms work. \n",
    "\n",
    "#### You can search [FRED (Federal Reserve Bank of St. Louis)](https://fred.stlouisfed.org/) for these keywords\n",
    "- real disposable income change annual\n",
    "- gdp change annual\n",
    "- unemployment \n",
    "\n",
    "#### Go to [BEA (Bureau of Economic Analysis)](https://apps.bea.gov/itable/) and follow these steps\n",
    "- National Data - GDP & Personal Income\n",
    "- Begin using the data\n",
    "- Section 1 - DOMESTIC PRODUCT AND INCOME\n",
    "- Table 1.17.1. Percent Change From Preceding Period in Real Gross Domestic Product, Real Gross Domestic Income, and Other Major NIPA Aggregates\n",
    "- Modify\n",
    "  - First Year: 1947\n",
    "  - Last Year: 2018\n",
    "  - Series: Annual\n",
    "  - Refresh Table\n",
    "- Download\n",
    "\n",
    "#### Go to Wikipedia, [United States military casualties of war, Wars ranked by total number of U.S. military deaths](https://en.wikipedia.org/wiki/United_States_military_casualties_of_war#Wars_ranked_by_total_number_of_U.S._military_deaths)\n",
    "- You can try this tutorial to scrape data from HTML tables: [Quick Tip: The easiest way to grab data out of a web page in Python](https://medium.com/@ageitgey/quick-tip-the-easiest-way-to-grab-data-out-of-a-web-page-in-python-7153cecfca58)\n",
    "\n",
    "#### Read more about economic features to predict elections\n",
    "- [Which Economic Indicators Best Predict Presidential Elections?](https://fivethirtyeight.blogs.nytimes.com/2011/11/18/which-economic-indicators-best-predict-presidential-elections/)\n",
    "- [What stat best gets at the question, \"Are you better off now than you were a year ago?\"](https://www.theatlantic.com/business/archive/2010/11/the-most-important-economic-indicator-in-midterm-elections/65505/)\n",
    "- [Time for change model](https://pollyvote.com/en/components/econometric-models/time-for-change-model/)\n",
    "\n",
    "\n",
    "#### You can try for a \"serious\" model or a \"spurious\" model. Here are more data sources you can try\n",
    "- [Tyler Vigen, Spurious Correlations, Discover a Correlation](https://tylervigen.com/discover)\n",
    "- [CDC (Centers for Disease Control), Compressed Mortality data](https://wonder.cdc.gov/mortSQL.html)\n",
    "- [Data Is Plural](https://tinyletter.com/data-is-plural)\n",
    "- [Gapminder](https://github.com/open-numbers/ddf--gapminder--systema_globalis/)\n",
    "- [Campaign Finance Institute, Historical Stats](http://www.cfinst.org/data/historicalstats.aspx)\n",
    "- Or find your own data and features to try!\n",
    "\n",
    "\n",
    "\n"
   ]
  },
  {
   "cell_type": "markdown",
   "metadata": {},
   "source": [
    "### Datasets\n",
    "1. Car registration: Passenger cars for the European Union\n",
    "2. Ted Spread"
   ]
  },
  {
   "cell_type": "code",
   "execution_count": 35,
   "metadata": {},
   "outputs": [],
   "source": [
    "import pandas as pd\n",
    "import numpy as np\n",
    "\n",
    "columns = ['Year','Incumbent Party Candidate','Other Candidate','Incumbent Party Vote Share']\n",
    "\n",
    "data = [[1952,\"Stevenson\",\"Eisenhower\",44.6],\n",
    "        [1956,\"Eisenhower\",\"Stevenson\",57.76],\n",
    "        [1960,\"Nixon\",\"Kennedy\",49.91],\n",
    "        [1964,\"Johnson\",\"Goldwater\",61.34],\n",
    "        [1968,\"Humphrey\",\"Nixon\",49.60],\n",
    "        [1972,\"Nixon\",\"McGovern\",61.79],\n",
    "        [1976,\"Ford\",\"Carter\",48.95],\n",
    "        [1980,\"Carter\",\"Reagan\",44.70],\n",
    "        [1984,\"Reagan\",\"Mondale\",59.17],\n",
    "        [1988,\"Bush, Sr.\",\"Dukakis\",53.94],\n",
    "        [1992,\"Bush, Sr.\",\"Clinton\",46.55],\n",
    "        [1996,\"Clinton\",\"Dole\",54.74],\n",
    "        [2000,\"Gore\",\"Bush, Jr.\",50.27],\n",
    "        [2004,\"Bush, Jr.\",\"Kerry\",51.24],\n",
    "        [2008,\"McCain\",\"Obama\",46.32],\n",
    "        [2012,\"Obama\",\"Romney\",52.00], \n",
    "        [2016,\"Clinton\",\"Trump\",48.2]]\n",
    "        \n",
    "votes = pd.DataFrame(data=data, columns=columns)"
   ]
  },
  {
   "cell_type": "code",
   "execution_count": 2,
   "metadata": {},
   "outputs": [],
   "source": [
    "car_reg = pd.read_csv('car_registration_europe.csv')"
   ]
  },
  {
   "cell_type": "code",
   "execution_count": 3,
   "metadata": {},
   "outputs": [],
   "source": [
    "ted = pd.read_csv('ted_rate.csv')"
   ]
  },
  {
   "cell_type": "code",
   "execution_count": 10,
   "metadata": {},
   "outputs": [
    {
     "data": {
      "text/plain": [
       "(17, 4)"
      ]
     },
     "execution_count": 10,
     "metadata": {},
     "output_type": "execute_result"
    }
   ],
   "source": [
    "votes.shape"
   ]
  },
  {
   "cell_type": "markdown",
   "metadata": {},
   "source": [
    "### Wrangling"
   ]
  },
  {
   "cell_type": "code",
   "execution_count": 9,
   "metadata": {},
   "outputs": [],
   "source": [
    "# since election day is early nov. we'll take the average of the last three months of car registration and ted rate "
   ]
  },
  {
   "cell_type": "code",
   "execution_count": 19,
   "metadata": {},
   "outputs": [],
   "source": [
    "car_reg['DATE'] = pd.to_datetime(car_reg['DATE'])\n",
    "ted['DATE'] = pd.to_datetime(ted['DATE'])"
   ]
  },
  {
   "cell_type": "code",
   "execution_count": 43,
   "metadata": {
    "scrolled": true
   },
   "outputs": [],
   "source": [
    "ted['TEDRATE'] = ted['TEDRATE'].replace('.', np.nan)\n",
    "ted['TEDRATE'] = pd.to_numeric(ted['TEDRATE'])"
   ]
  },
  {
   "cell_type": "code",
   "execution_count": 45,
   "metadata": {
    "scrolled": true
   },
   "outputs": [],
   "source": [
    "car_reg['percent_change'] = pd.to_numeric(car_reg['EU28SLRTCR03GPSAM'])\n",
    "car_reg = car_reg.drop('EU28SLRTCR03GPSAM',axis=1)"
   ]
  },
  {
   "cell_type": "code",
   "execution_count": 95,
   "metadata": {},
   "outputs": [],
   "source": [
    "grouped = ted.groupby(by=[ted['DATE'].dt.year,ted['DATE'].dt.month]).mean()"
   ]
  },
  {
   "cell_type": "code",
   "execution_count": 97,
   "metadata": {},
   "outputs": [],
   "source": [
    "g = pd.merge(grouped.xs(8,level=1),grouped.xs(9,level=1),left_index=True,right_index=True)"
   ]
  },
  {
   "cell_type": "code",
   "execution_count": 98,
   "metadata": {},
   "outputs": [],
   "source": [
    "g = pd.merge(g,grouped.xs(10,level=1),left_index=True,right_index=True)"
   ]
  },
  {
   "cell_type": "code",
   "execution_count": 103,
   "metadata": {
    "scrolled": true
   },
   "outputs": [],
   "source": [
    "g = g.mean(axis=1)"
   ]
  },
  {
   "cell_type": "code",
   "execution_count": 123,
   "metadata": {},
   "outputs": [],
   "source": [
    "ted = pd.DataFrame(g).reset_index()"
   ]
  },
  {
   "cell_type": "code",
   "execution_count": 126,
   "metadata": {
    "scrolled": true
   },
   "outputs": [],
   "source": [
    "car_reg = car_reg.groupby(by=car_reg['DATE'].dt.year).mean().reset_index()"
   ]
  },
  {
   "cell_type": "code",
   "execution_count": 131,
   "metadata": {
    "scrolled": true
   },
   "outputs": [],
   "source": [
    "df = pd.merge(ted,car_reg,on='DATE')"
   ]
  },
  {
   "cell_type": "code",
   "execution_count": 136,
   "metadata": {},
   "outputs": [],
   "source": [
    "df.columns = ['date','ted','percent_change']"
   ]
  },
  {
   "cell_type": "code",
   "execution_count": 142,
   "metadata": {},
   "outputs": [],
   "source": [
    "df = df.loc[df['date'].isin(votes['Year'])]"
   ]
  },
  {
   "cell_type": "code",
   "execution_count": 146,
   "metadata": {},
   "outputs": [],
   "source": [
    "votes = votes.loc[votes['Year'] >= 1988]"
   ]
  },
  {
   "cell_type": "code",
   "execution_count": 150,
   "metadata": {},
   "outputs": [],
   "source": [
    "df = df.merge(votes,left_on='date',right_on='Year')"
   ]
  },
  {
   "cell_type": "code",
   "execution_count": 151,
   "metadata": {},
   "outputs": [
    {
     "data": {
      "text/html": [
       "<div>\n",
       "<style scoped>\n",
       "    .dataframe tbody tr th:only-of-type {\n",
       "        vertical-align: middle;\n",
       "    }\n",
       "\n",
       "    .dataframe tbody tr th {\n",
       "        vertical-align: top;\n",
       "    }\n",
       "\n",
       "    .dataframe thead th {\n",
       "        text-align: right;\n",
       "    }\n",
       "</style>\n",
       "<table border=\"1\" class=\"dataframe\">\n",
       "  <thead>\n",
       "    <tr style=\"text-align: right;\">\n",
       "      <th></th>\n",
       "      <th>date</th>\n",
       "      <th>ted</th>\n",
       "      <th>percent_change</th>\n",
       "      <th>Year</th>\n",
       "      <th>Incumbent Party Candidate</th>\n",
       "      <th>Other Candidate</th>\n",
       "      <th>Incumbent Party Vote Share</th>\n",
       "    </tr>\n",
       "  </thead>\n",
       "  <tbody>\n",
       "    <tr>\n",
       "      <th>0</th>\n",
       "      <td>1988</td>\n",
       "      <td>1.334369</td>\n",
       "      <td>0.446077</td>\n",
       "      <td>1988</td>\n",
       "      <td>Bush, Sr.</td>\n",
       "      <td>Dukakis</td>\n",
       "      <td>53.94</td>\n",
       "    </tr>\n",
       "    <tr>\n",
       "      <th>1</th>\n",
       "      <td>1992</td>\n",
       "      <td>0.426294</td>\n",
       "      <td>2.206280</td>\n",
       "      <td>1992</td>\n",
       "      <td>Bush, Sr.</td>\n",
       "      <td>Clinton</td>\n",
       "      <td>46.55</td>\n",
       "    </tr>\n",
       "    <tr>\n",
       "      <th>2</th>\n",
       "      <td>1996</td>\n",
       "      <td>0.522999</td>\n",
       "      <td>0.239385</td>\n",
       "      <td>1996</td>\n",
       "      <td>Clinton</td>\n",
       "      <td>Dole</td>\n",
       "      <td>54.74</td>\n",
       "    </tr>\n",
       "    <tr>\n",
       "      <th>3</th>\n",
       "      <td>2000</td>\n",
       "      <td>0.648864</td>\n",
       "      <td>0.207673</td>\n",
       "      <td>2000</td>\n",
       "      <td>Gore</td>\n",
       "      <td>Bush, Jr.</td>\n",
       "      <td>50.27</td>\n",
       "    </tr>\n",
       "    <tr>\n",
       "      <th>4</th>\n",
       "      <td>2004</td>\n",
       "      <td>0.277349</td>\n",
       "      <td>0.452830</td>\n",
       "      <td>2004</td>\n",
       "      <td>Bush, Jr.</td>\n",
       "      <td>Kerry</td>\n",
       "      <td>51.24</td>\n",
       "    </tr>\n",
       "    <tr>\n",
       "      <th>5</th>\n",
       "      <td>2008</td>\n",
       "      <td>2.145869</td>\n",
       "      <td>-2.234876</td>\n",
       "      <td>2008</td>\n",
       "      <td>McCain</td>\n",
       "      <td>Obama</td>\n",
       "      <td>46.32</td>\n",
       "    </tr>\n",
       "    <tr>\n",
       "      <th>6</th>\n",
       "      <td>2012</td>\n",
       "      <td>0.277752</td>\n",
       "      <td>-1.218556</td>\n",
       "      <td>2012</td>\n",
       "      <td>Obama</td>\n",
       "      <td>Romney</td>\n",
       "      <td>52.00</td>\n",
       "    </tr>\n",
       "    <tr>\n",
       "      <th>7</th>\n",
       "      <td>2016</td>\n",
       "      <td>0.542334</td>\n",
       "      <td>0.495963</td>\n",
       "      <td>2016</td>\n",
       "      <td>Clinton</td>\n",
       "      <td>Trump</td>\n",
       "      <td>48.20</td>\n",
       "    </tr>\n",
       "  </tbody>\n",
       "</table>\n",
       "</div>"
      ],
      "text/plain": [
       "   date       ted  percent_change  Year Incumbent Party Candidate  \\\n",
       "0  1988  1.334369        0.446077  1988                 Bush, Sr.   \n",
       "1  1992  0.426294        2.206280  1992                 Bush, Sr.   \n",
       "2  1996  0.522999        0.239385  1996                   Clinton   \n",
       "3  2000  0.648864        0.207673  2000                      Gore   \n",
       "4  2004  0.277349        0.452830  2004                 Bush, Jr.   \n",
       "5  2008  2.145869       -2.234876  2008                    McCain   \n",
       "6  2012  0.277752       -1.218556  2012                     Obama   \n",
       "7  2016  0.542334        0.495963  2016                   Clinton   \n",
       "\n",
       "  Other Candidate  Incumbent Party Vote Share  \n",
       "0         Dukakis                       53.94  \n",
       "1         Clinton                       46.55  \n",
       "2            Dole                       54.74  \n",
       "3       Bush, Jr.                       50.27  \n",
       "4           Kerry                       51.24  \n",
       "5           Obama                       46.32  \n",
       "6          Romney                       52.00  \n",
       "7           Trump                       48.20  "
      ]
     },
     "execution_count": 151,
     "metadata": {},
     "output_type": "execute_result"
    }
   ],
   "source": [
    "df"
   ]
  },
  {
   "cell_type": "code",
   "execution_count": 152,
   "metadata": {},
   "outputs": [],
   "source": [
    "X = df[['ted','percent_change']]"
   ]
  },
  {
   "cell_type": "code",
   "execution_count": 153,
   "metadata": {},
   "outputs": [],
   "source": [
    "y = df['Incumbent Party Vote Share']"
   ]
  },
  {
   "cell_type": "markdown",
   "metadata": {},
   "source": [
    "## Predicting"
   ]
  },
  {
   "cell_type": "code",
   "execution_count": 161,
   "metadata": {},
   "outputs": [],
   "source": [
    "from sklearn.linear_model import LinearRegression\n",
    "from sklearn.metrics import mean_absolute_error"
   ]
  },
  {
   "cell_type": "code",
   "execution_count": 157,
   "metadata": {},
   "outputs": [],
   "source": [
    "model = LinearRegression()"
   ]
  },
  {
   "cell_type": "code",
   "execution_count": 158,
   "metadata": {},
   "outputs": [
    {
     "data": {
      "text/plain": [
       "LinearRegression(copy_X=True, fit_intercept=True, n_jobs=None,\n",
       "         normalize=False)"
      ]
     },
     "execution_count": 158,
     "metadata": {},
     "output_type": "execute_result"
    }
   ],
   "source": [
    "model.fit(X,y)"
   ]
  },
  {
   "cell_type": "code",
   "execution_count": 159,
   "metadata": {},
   "outputs": [],
   "source": [
    "y_pred = model.predict(X)"
   ]
  },
  {
   "cell_type": "code",
   "execution_count": 160,
   "metadata": {},
   "outputs": [
    {
     "data": {
      "text/plain": [
       "array([49.11294104, 50.00125869, 50.81277993, 50.58156629, 51.18686652,\n",
       "       48.88328618, 52.03717449, 50.64412687])"
      ]
     },
     "execution_count": 160,
     "metadata": {},
     "output_type": "execute_result"
    }
   ],
   "source": [
    "y_pred"
   ]
  },
  {
   "cell_type": "code",
   "execution_count": 194,
   "metadata": {},
   "outputs": [],
   "source": [
    "error = mean_absolute_error(y,y_pred)"
   ]
  },
  {
   "cell_type": "markdown",
   "metadata": {},
   "source": [
    "## Graphing"
   ]
  },
  {
   "cell_type": "code",
   "execution_count": 163,
   "metadata": {},
   "outputs": [],
   "source": [
    "import matplotlib.pyplot as plt"
   ]
  },
  {
   "cell_type": "code",
   "execution_count": 172,
   "metadata": {},
   "outputs": [],
   "source": [
    "df['y_pred'] = y_pred"
   ]
  },
  {
   "cell_type": "code",
   "execution_count": 173,
   "metadata": {
    "scrolled": true
   },
   "outputs": [
    {
     "data": {
      "text/html": [
       "<div>\n",
       "<style scoped>\n",
       "    .dataframe tbody tr th:only-of-type {\n",
       "        vertical-align: middle;\n",
       "    }\n",
       "\n",
       "    .dataframe tbody tr th {\n",
       "        vertical-align: top;\n",
       "    }\n",
       "\n",
       "    .dataframe thead th {\n",
       "        text-align: right;\n",
       "    }\n",
       "</style>\n",
       "<table border=\"1\" class=\"dataframe\">\n",
       "  <thead>\n",
       "    <tr style=\"text-align: right;\">\n",
       "      <th></th>\n",
       "      <th>date</th>\n",
       "      <th>ted</th>\n",
       "      <th>percent_change</th>\n",
       "      <th>Year</th>\n",
       "      <th>Incumbent Party Candidate</th>\n",
       "      <th>Other Candidate</th>\n",
       "      <th>Incumbent Party Vote Share</th>\n",
       "      <th>y_pred</th>\n",
       "    </tr>\n",
       "  </thead>\n",
       "  <tbody>\n",
       "    <tr>\n",
       "      <th>0</th>\n",
       "      <td>1988</td>\n",
       "      <td>1.334369</td>\n",
       "      <td>0.446077</td>\n",
       "      <td>1988</td>\n",
       "      <td>Bush, Sr.</td>\n",
       "      <td>Dukakis</td>\n",
       "      <td>53.94</td>\n",
       "      <td>49.112941</td>\n",
       "    </tr>\n",
       "    <tr>\n",
       "      <th>1</th>\n",
       "      <td>1992</td>\n",
       "      <td>0.426294</td>\n",
       "      <td>2.206280</td>\n",
       "      <td>1992</td>\n",
       "      <td>Bush, Sr.</td>\n",
       "      <td>Clinton</td>\n",
       "      <td>46.55</td>\n",
       "      <td>50.001259</td>\n",
       "    </tr>\n",
       "    <tr>\n",
       "      <th>2</th>\n",
       "      <td>1996</td>\n",
       "      <td>0.522999</td>\n",
       "      <td>0.239385</td>\n",
       "      <td>1996</td>\n",
       "      <td>Clinton</td>\n",
       "      <td>Dole</td>\n",
       "      <td>54.74</td>\n",
       "      <td>50.812780</td>\n",
       "    </tr>\n",
       "    <tr>\n",
       "      <th>3</th>\n",
       "      <td>2000</td>\n",
       "      <td>0.648864</td>\n",
       "      <td>0.207673</td>\n",
       "      <td>2000</td>\n",
       "      <td>Gore</td>\n",
       "      <td>Bush, Jr.</td>\n",
       "      <td>50.27</td>\n",
       "      <td>50.581566</td>\n",
       "    </tr>\n",
       "    <tr>\n",
       "      <th>4</th>\n",
       "      <td>2004</td>\n",
       "      <td>0.277349</td>\n",
       "      <td>0.452830</td>\n",
       "      <td>2004</td>\n",
       "      <td>Bush, Jr.</td>\n",
       "      <td>Kerry</td>\n",
       "      <td>51.24</td>\n",
       "      <td>51.186867</td>\n",
       "    </tr>\n",
       "  </tbody>\n",
       "</table>\n",
       "</div>"
      ],
      "text/plain": [
       "   date       ted  percent_change  Year Incumbent Party Candidate  \\\n",
       "0  1988  1.334369        0.446077  1988                 Bush, Sr.   \n",
       "1  1992  0.426294        2.206280  1992                 Bush, Sr.   \n",
       "2  1996  0.522999        0.239385  1996                   Clinton   \n",
       "3  2000  0.648864        0.207673  2000                      Gore   \n",
       "4  2004  0.277349        0.452830  2004                 Bush, Jr.   \n",
       "\n",
       "  Other Candidate  Incumbent Party Vote Share     y_pred  \n",
       "0         Dukakis                       53.94  49.112941  \n",
       "1         Clinton                       46.55  50.001259  \n",
       "2            Dole                       54.74  50.812780  \n",
       "3       Bush, Jr.                       50.27  50.581566  \n",
       "4           Kerry                       51.24  51.186867  "
      ]
     },
     "execution_count": 173,
     "metadata": {},
     "output_type": "execute_result"
    }
   ],
   "source": [
    "df.head()"
   ]
  },
  {
   "cell_type": "code",
   "execution_count": 195,
   "metadata": {},
   "outputs": [
    {
     "data": {
      "image/png": "[encoded data removed]",
      "text/plain": [
       "<Figure size 1008x432 with 1 Axes>"
      ]
     },
     "metadata": {
      "needs_background": "light"
     },
     "output_type": "display_data"
    }
   ],
   "source": [
    "ax = df.plot(x='date',y='Incumbent Party Vote Share',kind='scatter',figsize=(14,6))\n",
    "df.plot(x='date',y='y_pred',kind='scatter',ax=ax,color='red')\n",
    "plt.legend(['Actuals','Predicted'])\n",
    "plt.title('Features Used: Ted Spread (T3) and EU Car Registrations (T3)')\n",
    "plt.suptitle('Regression Model: {}'.format(error))\n",
    "plt.xlabel('Year')\n",
    "plt.ylabel('Predictions vs. Actual');\n"
   ]
  },
  {
   "cell_type": "code",
   "execution_count": null,
   "metadata": {},
   "outputs": [],
   "source": []
  }
 ],
 "metadata": {
  "kernelspec": {
   "display_name": "Python 3",
   "language": "python",
   "name": "python3"
  },
  "language_info": {
   "codemirror_mode": {
    "name": "ipython",
    "version": 3
   },
   "file_extension": ".py",
   "mimetype": "text/x-python",
   "name": "python",
   "nbconvert_exporter": "python",
   "pygments_lexer": "ipython3",
   "version": "3.7.3"
  },
  "varInspector": {
   "cols": {
    "lenName": 16,
    "lenType": 16,
    "lenVar": 40
   },
   "kernels_config": {
    "python": {
     "delete_cmd_postfix": "",
     "delete_cmd_prefix": "del ",
     "library": "var_list.py",
     "varRefreshCmd": "print(var_dic_list())"
    },
    "r": {
     "delete_cmd_postfix": ") ",
     "delete_cmd_prefix": "rm(",
     "library": "var_list.r",
     "varRefreshCmd": "cat(var_dic_list()) "
    }
   },
   "types_to_exclude": [
    "module",
    "function",
    "builtin_function_or_method",
    "instance",
    "_Feature"
   ],
   "window_display": false
  }
 },
 "nbformat": 4,
 "nbformat_minor": 2
}
