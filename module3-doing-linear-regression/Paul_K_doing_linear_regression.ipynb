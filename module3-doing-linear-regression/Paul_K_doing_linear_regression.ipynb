{
  "nbformat": 4,
  "nbformat_minor": 0,
  "metadata": {
    "colab": {
      "name": "Paul K doing_linear_regression.ipynb",
      "version": "0.3.2",
      "provenance": [],
      "include_colab_link": true
    },
    "kernelspec": {
      "name": "python3",
      "display_name": "Python 3"
    }
  },
  "cells": [
    {
      "cell_type": "markdown",
      "metadata": {
        "id": "view-in-github",
        "colab_type": "text"
      },
      "source": [
        "<a href=\"https://colab.research.google.com/github/llpk79/DS-Unit-2-Regression-1/blob/master/Paul_K_doing_linear_regression.ipynb\" target=\"_parent\"><img src=\"https://colab.research.google.com/assets/colab-badge.svg\" alt=\"Open In Colab\"/></a>"
      ]
    },
    {
      "cell_type": "code",
      "metadata": {
        "id": "uD-iMXCvNabf",
        "colab_type": "code",
        "colab": {
          "base_uri": "https://localhost:8080/",
          "height": 197
        },
        "outputId": "3fa3f935-c3f7-451d-c3e1-d51dc95e53b2"
      },
      "source": [
        "import pandas as pd\n",
        "\n",
        "columns = ['Year','Incumbent','Other','Incumbent Votes']\n",
        "\n",
        "data = [[1952,\"Stevenson\",\"Eisenhower\",44.6],\n",
        "        [1956,\"Eisenhower\",\"Stevenson\",57.76],\n",
        "        [1960,\"Nixon\",\"Kennedy\",49.91],\n",
        "        [1964,\"Johnson\",\"Goldwater\",61.34],\n",
        "        [1968,\"Humphrey\",\"Nixon\",49.60],\n",
        "        [1972,\"Nixon\",\"McGovern\",61.79],\n",
        "        [1976,\"Ford\",\"Carter\",48.95],\n",
        "        [1980,\"Carter\",\"Reagan\",44.70],\n",
        "        [1984,\"Reagan\",\"Mondale\",59.17],\n",
        "        [1988,\"Bush, Sr.\",\"Dukakis\",53.94],\n",
        "        [1992,\"Bush, Sr.\",\"Clinton\",46.55],\n",
        "        [1996,\"Clinton\",\"Dole\",54.74],\n",
        "        [2000,\"Gore\",\"Bush, Jr.\",50.27],\n",
        "        [2004,\"Bush, Jr.\",\"Kerry\",51.24],\n",
        "        [2008,\"McCain\",\"Obama\",46.32],\n",
        "        [2012,\"Obama\",\"Romney\",52.00], \n",
        "        [2016,\"Clinton\",\"Trump\",48.2]]\n",
        "        \n",
        "votes = pd.DataFrame(data=data, columns=columns)\n",
        "\n",
        "columns = ['Year','Income growth']\n",
        "\n",
        "data = [[1952,2.40],\n",
        "        [1956,2.89],\n",
        "        [1960, .85],\n",
        "        [1964,4.21],\n",
        "        [1968,3.02],\n",
        "        [1972,3.62],\n",
        "        [1976,1.08],\n",
        "        [1980,-.39],\n",
        "        [1984,3.86],\n",
        "        [1988,2.27],\n",
        "        [1992, .38],\n",
        "        [1996,1.04],\n",
        "        [2000,2.36],\n",
        "        [2004,1.72],\n",
        "        [2008, .10],\n",
        "        [2012, .95], \n",
        "        [2016, .10]]\n",
        "        \n",
        "growth = pd.DataFrame(data=data, columns=columns)\n",
        "\n",
        "columns = ['Year','Fatalities']\n",
        "\n",
        "data = [[1952,190],\n",
        "        [1956,  0],\n",
        "        [1960,  0],\n",
        "        [1964,  1],\n",
        "        [1968,146],\n",
        "        [1972,  0],\n",
        "        [1976,  2],\n",
        "        [1980,  0],\n",
        "        [1984,  0],\n",
        "        [1988,  0],\n",
        "        [1992,  0],\n",
        "        [1996,  0],\n",
        "        [2000,  0],\n",
        "        [2004,  4],\n",
        "        [2008, 14],\n",
        "        [2012,  5], \n",
        "        [2016,  5]]\n",
        "        \n",
        "deaths = pd.DataFrame(data=data, columns=columns)\n",
        "\n",
        "df = votes.merge(growth).merge(deaths)\n",
        "df.head()"
      ],
      "execution_count": 1,
      "outputs": [
        {
          "output_type": "execute_result",
          "data": {
            "text/html": [
              "<div>\n",
              "<style scoped>\n",
              "    .dataframe tbody tr th:only-of-type {\n",
              "        vertical-align: middle;\n",
              "    }\n",
              "\n",
              "    .dataframe tbody tr th {\n",
              "        vertical-align: top;\n",
              "    }\n",
              "\n",
              "    .dataframe thead th {\n",
              "        text-align: right;\n",
              "    }\n",
              "</style>\n",
              "<table border=\"1\" class=\"dataframe\">\n",
              "  <thead>\n",
              "    <tr style=\"text-align: right;\">\n",
              "      <th></th>\n",
              "      <th>Year</th>\n",
              "      <th>Incumbent</th>\n",
              "      <th>Other</th>\n",
              "      <th>Incumbent Votes</th>\n",
              "      <th>Income growth</th>\n",
              "      <th>Fatalities</th>\n",
              "    </tr>\n",
              "  </thead>\n",
              "  <tbody>\n",
              "    <tr>\n",
              "      <th>0</th>\n",
              "      <td>1952</td>\n",
              "      <td>Stevenson</td>\n",
              "      <td>Eisenhower</td>\n",
              "      <td>44.60</td>\n",
              "      <td>2.40</td>\n",
              "      <td>190</td>\n",
              "    </tr>\n",
              "    <tr>\n",
              "      <th>1</th>\n",
              "      <td>1956</td>\n",
              "      <td>Eisenhower</td>\n",
              "      <td>Stevenson</td>\n",
              "      <td>57.76</td>\n",
              "      <td>2.89</td>\n",
              "      <td>0</td>\n",
              "    </tr>\n",
              "    <tr>\n",
              "      <th>2</th>\n",
              "      <td>1960</td>\n",
              "      <td>Nixon</td>\n",
              "      <td>Kennedy</td>\n",
              "      <td>49.91</td>\n",
              "      <td>0.85</td>\n",
              "      <td>0</td>\n",
              "    </tr>\n",
              "    <tr>\n",
              "      <th>3</th>\n",
              "      <td>1964</td>\n",
              "      <td>Johnson</td>\n",
              "      <td>Goldwater</td>\n",
              "      <td>61.34</td>\n",
              "      <td>4.21</td>\n",
              "      <td>1</td>\n",
              "    </tr>\n",
              "    <tr>\n",
              "      <th>4</th>\n",
              "      <td>1968</td>\n",
              "      <td>Humphrey</td>\n",
              "      <td>Nixon</td>\n",
              "      <td>49.60</td>\n",
              "      <td>3.02</td>\n",
              "      <td>146</td>\n",
              "    </tr>\n",
              "  </tbody>\n",
              "</table>\n",
              "</div>"
            ],
            "text/plain": [
              "   Year   Incumbent       Other  Incumbent Votes  Income growth  Fatalities\n",
              "0  1952   Stevenson  Eisenhower            44.60           2.40         190\n",
              "1  1956  Eisenhower   Stevenson            57.76           2.89           0\n",
              "2  1960       Nixon     Kennedy            49.91           0.85           0\n",
              "3  1964     Johnson   Goldwater            61.34           4.21           1\n",
              "4  1968    Humphrey       Nixon            49.60           3.02         146"
            ]
          },
          "metadata": {
            "tags": []
          },
          "execution_count": 1
        }
      ]
    },
    {
      "cell_type": "code",
      "metadata": {
        "id": "n5vvvN55ONGE",
        "colab_type": "code",
        "colab": {
          "resources": {
            "http://localhost:8080/nbextensions/google.colab/files.js": {
              "data": "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",
              "ok": true,
              "headers": [
                [
                  "content-type",
                  "application/javascript"
                ]
              ],
              "status": 200,
              "status_text": ""
            }
          },
          "base_uri": "https://localhost:8080/",
          "height": 112
        },
        "outputId": "7f2024b2-6813-477a-9776-bbec6c230693"
      },
      "source": [
        "from google.colab import files\n",
        "files.upload()"
      ],
      "execution_count": 2,
      "outputs": [
        {
          "output_type": "display_data",
          "data": {
            "text/html": [
              "\n",
              "     <input type=\"file\" id=\"files-ac0979b4-130f-4643-828e-552089eead26\" name=\"files[]\" multiple disabled />\n",
              "     <output id=\"result-ac0979b4-130f-4643-828e-552089eead26\">\n",
              "      Upload widget is only available when the cell has been executed in the\n",
              "      current browser session. Please rerun this cell to enable.\n",
              "      </output>\n",
              "      <script src=\"/nbextensions/google.colab/files.js\"></script> "
            ],
            "text/plain": [
              "<IPython.core.display.HTML object>"
            ]
          },
          "metadata": {
            "tags": []
          }
        },
        {
          "output_type": "stream",
          "text": [
            "Saving CPIAUCSL.csv to CPIAUCSL (1).csv\n"
          ],
          "name": "stdout"
        },
        {
          "output_type": "execute_result",
          "data": {
            "text/plain": [
              "{'CPIAUCSL.csv': b'DATE,CPIAUCSL\\n1952-01-01,26.45\\n1952-02-01,26.41\\n1952-03-01,26.39\\n1952-04-01,26.46\\n1952-05-01,26.47\\n1952-06-01,26.53\\n1952-07-01,26.68\\n1952-08-01,26.69\\n1952-09-01,26.63\\n1952-10-01,26.69\\n1952-11-01,26.69\\n1952-12-01,26.71\\n1953-01-01,26.64\\n1953-02-01,26.59\\n1953-03-01,26.63\\n1953-04-01,26.69\\n1953-05-01,26.7\\n1953-06-01,26.77\\n1953-07-01,26.79\\n1953-08-01,26.85\\n1953-09-01,26.89\\n1953-10-01,26.95\\n1953-11-01,26.85\\n1953-12-01,26.87\\n1954-01-01,26.94\\n1954-02-01,26.99\\n1954-03-01,26.93\\n1954-04-01,26.86\\n1954-05-01,26.93\\n1954-06-01,26.94\\n1954-07-01,26.86\\n1954-08-01,26.85\\n1954-09-01,26.81\\n1954-10-01,26.72\\n1954-11-01,26.78\\n1954-12-01,26.77\\n1955-01-01,26.77\\n1955-02-01,26.82\\n1955-03-01,26.79\\n1955-04-01,26.79\\n1955-05-01,26.77\\n1955-06-01,26.71\\n1955-07-01,26.76\\n1955-08-01,26.72\\n1955-09-01,26.85\\n1955-10-01,26.82\\n1955-11-01,26.88\\n1955-12-01,26.87\\n1956-01-01,26.83\\n1956-02-01,26.86\\n1956-03-01,26.89\\n1956-04-01,26.93\\n1956-05-01,27.03\\n1956-06-01,27.15\\n1956-07-01,27.29\\n1956-08-01,27.31\\n1956-09-01,27.35\\n1956-10-01,27.51\\n1956-11-01,27.51\\n1956-12-01,27.63\\n1957-01-01,27.67\\n1957-02-01,27.8\\n1957-03-01,27.86\\n1957-04-01,27.93\\n1957-05-01,28.0\\n1957-06-01,28.11\\n1957-07-01,28.19\\n1957-08-01,28.28\\n1957-09-01,28.32\\n1957-10-01,28.32\\n1957-11-01,28.41\\n1957-12-01,28.47\\n1958-01-01,28.64\\n1958-02-01,28.7\\n1958-03-01,28.87\\n1958-04-01,28.94\\n1958-05-01,28.94\\n1958-06-01,28.91\\n1958-07-01,28.89\\n1958-08-01,28.94\\n1958-09-01,28.91\\n1958-10-01,28.91\\n1958-11-01,28.95\\n1958-12-01,28.97\\n1959-01-01,29.01\\n1959-02-01,29.0\\n1959-03-01,28.97\\n1959-04-01,28.98\\n1959-05-01,29.04\\n1959-06-01,29.11\\n1959-07-01,29.15\\n1959-08-01,29.18\\n1959-09-01,29.25\\n1959-10-01,29.35\\n1959-11-01,29.35\\n1959-12-01,29.41\\n1960-01-01,29.37\\n1960-02-01,29.41\\n1960-03-01,29.41\\n1960-04-01,29.54\\n1960-05-01,29.57\\n1960-06-01,29.61\\n1960-07-01,29.55\\n1960-08-01,29.61\\n1960-09-01,29.61\\n1960-10-01,29.75\\n1960-11-01,29.78\\n1960-12-01,29.81\\n1961-01-01,29.84\\n1961-02-01,29.84\\n1961-03-01,29.84\\n1961-04-01,29.81\\n1961-05-01,29.84\\n1961-06-01,29.84\\n1961-07-01,29.92\\n1961-08-01,29.94\\n1961-09-01,29.98\\n1961-10-01,29.98\\n1961-11-01,29.98\\n1961-12-01,30.01\\n1962-01-01,30.04\\n1962-02-01,30.11\\n1962-03-01,30.17\\n1962-04-01,30.21\\n1962-05-01,30.24\\n1962-06-01,30.21\\n1962-07-01,30.22\\n1962-08-01,30.28\\n1962-09-01,30.42\\n1962-10-01,30.38\\n1962-11-01,30.38\\n1962-12-01,30.38\\n1963-01-01,30.44\\n1963-02-01,30.48\\n1963-03-01,30.51\\n1963-04-01,30.48\\n1963-05-01,30.51\\n1963-06-01,30.61\\n1963-07-01,30.69\\n1963-08-01,30.75\\n1963-09-01,30.72\\n1963-10-01,30.75\\n1963-11-01,30.78\\n1963-12-01,30.88\\n1964-01-01,30.94\\n1964-02-01,30.91\\n1964-03-01,30.94\\n1964-04-01,30.95\\n1964-05-01,30.98\\n1964-06-01,31.01\\n1964-07-01,31.02\\n1964-08-01,31.05\\n1964-09-01,31.08\\n1964-10-01,31.12\\n1964-11-01,31.21\\n1964-12-01,31.25\\n1965-01-01,31.28\\n1965-02-01,31.28\\n1965-03-01,31.31\\n1965-04-01,31.38\\n1965-05-01,31.48\\n1965-06-01,31.61\\n1965-07-01,31.58\\n1965-08-01,31.55\\n1965-09-01,31.62\\n1965-10-01,31.65\\n1965-11-01,31.75\\n1965-12-01,31.85\\n1966-01-01,31.88\\n1966-02-01,32.08\\n1966-03-01,32.18\\n1966-04-01,32.28\\n1966-05-01,32.35\\n1966-06-01,32.38\\n1966-07-01,32.45\\n1966-08-01,32.65\\n1966-09-01,32.75\\n1966-10-01,32.85\\n1966-11-01,32.88\\n1966-12-01,32.92\\n1967-01-01,32.9\\n1967-02-01,33.0\\n1967-03-01,33.0\\n1967-04-01,33.1\\n1967-05-01,33.1\\n1967-06-01,33.3\\n1967-07-01,33.4\\n1967-08-01,33.5\\n1967-09-01,33.6\\n1967-10-01,33.7\\n1967-11-01,33.9\\n1967-12-01,34.0\\n1968-01-01,34.1\\n1968-02-01,34.2\\n1968-03-01,34.3\\n1968-04-01,34.4\\n1968-05-01,34.5\\n1968-06-01,34.7\\n1968-07-01,34.9\\n1968-08-01,35.0\\n1968-09-01,35.1\\n1968-10-01,35.3\\n1968-11-01,35.4\\n1968-12-01,35.6\\n1969-01-01,35.7\\n1969-02-01,35.8\\n1969-03-01,36.1\\n1969-04-01,36.3\\n1969-05-01,36.4\\n1969-06-01,36.6\\n1969-07-01,36.8\\n1969-08-01,36.9\\n1969-09-01,37.1\\n1969-10-01,37.3\\n1969-11-01,37.5\\n1969-12-01,37.7\\n1970-01-01,37.9\\n1970-02-01,38.1\\n1970-03-01,38.3\\n1970-04-01,38.5\\n1970-05-01,38.6\\n1970-06-01,38.8\\n1970-07-01,38.9\\n1970-08-01,39.0\\n1970-09-01,39.2\\n1970-10-01,39.4\\n1970-11-01,39.6\\n1970-12-01,39.8\\n1971-01-01,39.9\\n1971-02-01,39.9\\n1971-03-01,40.0\\n1971-04-01,40.1\\n1971-05-01,40.3\\n1971-06-01,40.5\\n1971-07-01,40.6\\n1971-08-01,40.7\\n1971-09-01,40.8\\n1971-10-01,40.9\\n1971-11-01,41.0\\n1971-12-01,41.1\\n1972-01-01,41.2\\n1972-02-01,41.4\\n1972-03-01,41.4\\n1972-04-01,41.5\\n1972-05-01,41.6\\n1972-06-01,41.7\\n1972-07-01,41.8\\n1972-08-01,41.9\\n1972-09-01,42.1\\n1972-10-01,42.2\\n1972-11-01,42.4\\n1972-12-01,42.5\\n1973-01-01,42.7\\n1973-02-01,43.0\\n1973-03-01,43.4\\n1973-04-01,43.7\\n1973-05-01,43.9\\n1973-06-01,44.2\\n1973-07-01,44.2\\n1973-08-01,45.0\\n1973-09-01,45.2\\n1973-10-01,45.6\\n1973-11-01,45.9\\n1973-12-01,46.3\\n1974-01-01,46.8\\n1974-02-01,47.3\\n1974-03-01,47.8\\n1974-04-01,48.1\\n1974-05-01,48.6\\n1974-06-01,49.0\\n1974-07-01,49.3\\n1974-08-01,49.9\\n1974-09-01,50.6\\n1974-10-01,51.0\\n1974-11-01,51.5\\n1974-12-01,51.9\\n1975-01-01,52.3\\n1975-02-01,52.6\\n1975-03-01,52.8\\n1975-04-01,53.0\\n1975-05-01,53.1\\n1975-06-01,53.5\\n1975-07-01,54.0\\n1975-08-01,54.2\\n1975-09-01,54.6\\n1975-10-01,54.9\\n1975-11-01,55.3\\n1975-12-01,55.6\\n1976-01-01,55.8\\n1976-02-01,55.9\\n1976-03-01,56.0\\n1976-04-01,56.1\\n1976-05-01,56.4\\n1976-06-01,56.7\\n1976-07-01,57.0\\n1976-08-01,57.3\\n1976-09-01,57.6\\n1976-10-01,57.9\\n1976-11-01,58.1\\n1976-12-01,58.4\\n1977-01-01,58.7\\n1977-02-01,59.3\\n1977-03-01,59.6\\n1977-04-01,60.0\\n1977-05-01,60.2\\n1977-06-01,60.5\\n1977-07-01,60.8\\n1977-08-01,61.1\\n1977-09-01,61.3\\n1977-10-01,61.6\\n1977-11-01,62.0\\n1977-12-01,62.3\\n1978-01-01,62.7\\n1978-02-01,63.0\\n1978-03-01,63.4\\n1978-04-01,63.9\\n1978-05-01,64.5\\n1978-06-01,65.0\\n1978-07-01,65.5\\n1978-08-01,65.9\\n1978-09-01,66.5\\n1978-10-01,67.1\\n1978-11-01,67.5\\n1978-12-01,67.9\\n1979-01-01,68.5\\n1979-02-01,69.2\\n1979-03-01,69.9\\n1979-04-01,70.6\\n1979-05-01,71.4\\n1979-06-01,72.2\\n1979-07-01,73.0\\n1979-08-01,73.7\\n1979-09-01,74.4\\n1979-10-01,75.2\\n1979-11-01,76.0\\n1979-12-01,76.9\\n1980-01-01,78.0\\n1980-02-01,79.0\\n1980-03-01,80.1\\n1980-04-01,80.9\\n1980-05-01,81.7\\n1980-06-01,82.5\\n1980-07-01,82.6\\n1980-08-01,83.2\\n1980-09-01,83.9\\n1980-10-01,84.7\\n1980-11-01,85.6\\n1980-12-01,86.4\\n1981-01-01,87.2\\n1981-02-01,88.0\\n1981-03-01,88.6\\n1981-04-01,89.1\\n1981-05-01,89.7\\n1981-06-01,90.5\\n1981-07-01,91.5\\n1981-08-01,92.2\\n1981-09-01,93.1\\n1981-10-01,93.4\\n1981-11-01,93.8\\n1981-12-01,94.1\\n1982-01-01,94.4\\n1982-02-01,94.7\\n1982-03-01,94.7\\n1982-04-01,95.0\\n1982-05-01,95.9\\n1982-06-01,97.0\\n1982-07-01,97.5\\n1982-08-01,97.7\\n1982-09-01,97.7\\n1982-10-01,98.1\\n1982-11-01,98.0\\n1982-12-01,97.7\\n1983-01-01,97.9\\n1983-02-01,98.0\\n1983-03-01,98.1\\n1983-04-01,98.8\\n1983-05-01,99.2\\n1983-06-01,99.4\\n1983-07-01,99.8\\n1983-08-01,100.1\\n1983-09-01,100.4\\n1983-10-01,100.8\\n1983-11-01,101.1\\n1983-12-01,101.4\\n1984-01-01,102.1\\n1984-02-01,102.6\\n1984-03-01,102.9\\n1984-04-01,103.3\\n1984-05-01,103.5\\n1984-06-01,103.7\\n1984-07-01,104.1\\n1984-08-01,104.4\\n1984-09-01,104.7\\n1984-10-01,105.1\\n1984-11-01,105.3\\n1984-12-01,105.5\\n1985-01-01,105.7\\n1985-02-01,106.3\\n1985-03-01,106.8\\n1985-04-01,107.0\\n1985-05-01,107.2\\n1985-06-01,107.5\\n1985-07-01,107.7\\n1985-08-01,107.9\\n1985-09-01,108.1\\n1985-10-01,108.5\\n1985-11-01,109.0\\n1985-12-01,109.5\\n1986-01-01,109.9\\n1986-02-01,109.7\\n1986-03-01,109.1\\n1986-04-01,108.7\\n1986-05-01,109.0\\n1986-06-01,109.4\\n1986-07-01,109.5\\n1986-08-01,109.6\\n1986-09-01,110.0\\n1986-10-01,110.2\\n1986-11-01,110.4\\n1986-12-01,110.8\\n1987-01-01,111.4\\n1987-02-01,111.8\\n1987-03-01,112.2\\n1987-04-01,112.7\\n1987-05-01,113.0\\n1987-06-01,113.5\\n1987-07-01,113.8\\n1987-08-01,114.3\\n1987-09-01,114.7\\n1987-10-01,115.0\\n1987-11-01,115.4\\n1987-12-01,115.6\\n1988-01-01,116.0\\n1988-02-01,116.2\\n1988-03-01,116.5\\n1988-04-01,117.2\\n1988-05-01,117.5\\n1988-06-01,118.0\\n1988-07-01,118.5\\n1988-08-01,119.0\\n1988-09-01,119.5\\n1988-10-01,119.9\\n1988-11-01,120.3\\n1988-12-01,120.7\\n1989-01-01,121.2\\n1989-02-01,121.6\\n1989-03-01,122.2\\n1989-04-01,123.1\\n1989-05-01,123.7\\n1989-06-01,124.1\\n1989-07-01,124.5\\n1989-08-01,124.5\\n1989-09-01,124.8\\n1989-10-01,125.4\\n1989-11-01,125.9\\n1989-12-01,126.3\\n1990-01-01,127.5\\n1990-02-01,128.0\\n1990-03-01,128.6\\n1990-04-01,128.9\\n1990-05-01,129.1\\n1990-06-01,129.9\\n1990-07-01,130.5\\n1990-08-01,131.6\\n1990-09-01,132.5\\n1990-10-01,133.4\\n1990-11-01,133.7\\n1990-12-01,134.2\\n1991-01-01,134.7\\n1991-02-01,134.8\\n1991-03-01,134.8\\n1991-04-01,135.1\\n1991-05-01,135.6\\n1991-06-01,136.0\\n1991-07-01,136.2\\n1991-08-01,136.6\\n1991-09-01,137.0\\n1991-10-01,137.2\\n1991-11-01,137.8\\n1991-12-01,138.2\\n1992-01-01,138.3\\n1992-02-01,138.6\\n1992-03-01,139.1\\n1992-04-01,139.4\\n1992-05-01,139.7\\n1992-06-01,140.1\\n1992-07-01,140.5\\n1992-08-01,140.8\\n1992-09-01,141.1\\n1992-10-01,141.7\\n1992-11-01,142.1\\n1992-12-01,142.3\\n1993-01-01,142.8\\n1993-02-01,143.1\\n1993-03-01,143.3\\n1993-04-01,143.8\\n1993-05-01,144.2\\n1993-06-01,144.3\\n1993-07-01,144.5\\n1993-08-01,144.8\\n1993-09-01,145.0\\n1993-10-01,145.6\\n1993-11-01,146.0\\n1993-12-01,146.3\\n1994-01-01,146.3\\n1994-02-01,146.7\\n1994-03-01,147.1\\n1994-04-01,147.2\\n1994-05-01,147.5\\n1994-06-01,147.9\\n1994-07-01,148.4\\n1994-08-01,149.0\\n1994-09-01,149.3\\n1994-10-01,149.4\\n1994-11-01,149.8\\n1994-12-01,150.1\\n1995-01-01,150.5\\n1995-02-01,150.9\\n1995-03-01,151.2\\n1995-04-01,151.8\\n1995-05-01,152.1\\n1995-06-01,152.4\\n1995-07-01,152.6\\n1995-08-01,152.9\\n1995-09-01,153.1\\n1995-10-01,153.5\\n1995-11-01,153.7\\n1995-12-01,153.9\\n1996-01-01,154.7\\n1996-02-01,155.0\\n1996-03-01,155.5\\n1996-04-01,156.1\\n1996-05-01,156.4\\n1996-06-01,156.7\\n1996-07-01,157.0\\n1996-08-01,157.2\\n1996-09-01,157.7\\n1996-10-01,158.2\\n1996-11-01,158.7\\n1996-12-01,159.1\\n1997-01-01,159.4\\n1997-02-01,159.7\\n1997-03-01,159.8\\n1997-04-01,159.9\\n1997-05-01,159.9\\n1997-06-01,160.2\\n1997-07-01,160.4\\n1997-08-01,160.8\\n1997-09-01,161.2\\n1997-10-01,161.5\\n1997-11-01,161.7\\n1997-12-01,161.8\\n1998-01-01,162.0\\n1998-02-01,162.0\\n1998-03-01,162.0\\n1998-04-01,162.2\\n1998-05-01,162.6\\n1998-06-01,162.8\\n1998-07-01,163.2\\n1998-08-01,163.4\\n1998-09-01,163.5\\n1998-10-01,163.9\\n1998-11-01,164.1\\n1998-12-01,164.4\\n1999-01-01,164.7\\n1999-02-01,164.7\\n1999-03-01,164.8\\n1999-04-01,165.9\\n1999-05-01,166.0\\n1999-06-01,166.0\\n1999-07-01,166.7\\n1999-08-01,167.1\\n1999-09-01,167.8\\n1999-10-01,168.1\\n1999-11-01,168.4\\n1999-12-01,168.8\\n2000-01-01,169.3\\n2000-02-01,170.0\\n2000-03-01,171.0\\n2000-04-01,170.9\\n2000-05-01,171.2\\n2000-06-01,172.2\\n2000-07-01,172.7\\n2000-08-01,172.7\\n2000-09-01,173.6\\n2000-10-01,173.9\\n2000-11-01,174.2\\n2000-12-01,174.6\\n2001-01-01,175.6\\n2001-02-01,176.0\\n2001-03-01,176.1\\n2001-04-01,176.4\\n2001-05-01,177.3\\n2001-06-01,177.7\\n2001-07-01,177.4\\n2001-08-01,177.4\\n2001-09-01,178.1\\n2001-10-01,177.6\\n2001-11-01,177.5\\n2001-12-01,177.4\\n2002-01-01,177.7\\n2002-02-01,178.0\\n2002-03-01,178.5\\n2002-04-01,179.3\\n2002-05-01,179.5\\n2002-06-01,179.6\\n2002-07-01,180.0\\n2002-08-01,180.5\\n2002-09-01,180.8\\n2002-10-01,181.2\\n2002-11-01,181.5\\n2002-12-01,181.8\\n2003-01-01,182.600\\n2003-02-01,183.600\\n2003-03-01,183.900\\n2003-04-01,183.200\\n2003-05-01,182.900\\n2003-06-01,183.100\\n2003-07-01,183.700\\n2003-08-01,184.5\\n2003-09-01,185.100\\n2003-10-01,184.9\\n2003-11-01,185.000\\n2003-12-01,185.500\\n2004-01-01,186.300\\n2004-02-01,186.700\\n2004-03-01,187.100\\n2004-04-01,187.400\\n2004-05-01,188.200\\n2004-06-01,188.900\\n2004-07-01,189.100\\n2004-08-01,189.200\\n2004-09-01,189.800\\n2004-10-01,190.8\\n2004-11-01,191.700\\n2004-12-01,191.700\\n2005-01-01,191.600\\n2005-02-01,192.400\\n2005-03-01,193.100\\n2005-04-01,193.700\\n2005-05-01,193.600\\n2005-06-01,193.700\\n2005-07-01,194.900\\n2005-08-01,196.100\\n2005-09-01,198.800\\n2005-10-01,199.100\\n2005-11-01,198.100\\n2005-12-01,198.100\\n2006-01-01,199.300\\n2006-02-01,199.400\\n2006-03-01,199.700\\n2006-04-01,200.700\\n2006-05-01,201.300\\n2006-06-01,201.800\\n2006-07-01,202.900\\n2006-08-01,203.800\\n2006-09-01,202.800\\n2006-10-01,201.900\\n2006-11-01,202.000\\n2006-12-01,203.100\\n2007-01-01,203.437\\n2007-02-01,204.226\\n2007-03-01,205.288\\n2007-04-01,205.904\\n2007-05-01,206.755\\n2007-06-01,207.234\\n2007-07-01,207.603\\n2007-08-01,207.667\\n2007-09-01,208.547\\n2007-10-01,209.190\\n2007-11-01,210.834\\n2007-12-01,211.445\\n2008-01-01,212.174\\n2008-02-01,212.687\\n2008-03-01,213.448\\n2008-04-01,213.942\\n2008-05-01,215.208\\n2008-06-01,217.463\\n2008-07-01,219.016\\n2008-08-01,218.690\\n2008-09-01,218.877\\n2008-10-01,216.995\\n2008-11-01,213.153\\n2008-12-01,211.398\\n2009-01-01,211.933\\n2009-02-01,212.705\\n2009-03-01,212.495\\n2009-04-01,212.709\\n2009-05-01,213.022\\n2009-06-01,214.790\\n2009-07-01,214.726\\n2009-08-01,215.445\\n2009-09-01,215.861\\n2009-10-01,216.509\\n2009-11-01,217.234\\n2009-12-01,217.347\\n2010-01-01,217.488\\n2010-02-01,217.281\\n2010-03-01,217.353\\n2010-04-01,217.403\\n2010-05-01,217.290\\n2010-06-01,217.199\\n2010-07-01,217.605\\n2010-08-01,217.923\\n2010-09-01,218.275\\n2010-10-01,219.035\\n2010-11-01,219.590\\n2010-12-01,220.472\\n2011-01-01,221.187\\n2011-02-01,221.898\\n2011-03-01,223.046\\n2011-04-01,224.093\\n2011-05-01,224.806\\n2011-06-01,224.806\\n2011-07-01,225.395\\n2011-08-01,226.106\\n2011-09-01,226.597\\n2011-10-01,226.750\\n2011-11-01,227.169\\n2011-12-01,227.223\\n2012-01-01,227.842\\n2012-02-01,228.329\\n2012-03-01,228.807\\n2012-04-01,229.187\\n2012-05-01,228.713\\n2012-06-01,228.524\\n2012-07-01,228.590\\n2012-08-01,229.918\\n2012-09-01,231.015\\n2012-10-01,231.638\\n2012-11-01,231.249\\n2012-12-01,231.221\\n2013-01-01,231.679\\n2013-02-01,232.937\\n2013-03-01,232.282\\n2013-04-01,231.797\\n2013-05-01,231.893\\n2013-06-01,232.445\\n2013-07-01,232.900\\n2013-08-01,233.456\\n2013-09-01,233.544\\n2013-10-01,233.669\\n2013-11-01,234.100\\n2013-12-01,234.719\\n2014-01-01,235.288\\n2014-02-01,235.547\\n2014-03-01,236.028\\n2014-04-01,236.468\\n2014-05-01,236.918\\n2014-06-01,237.231\\n2014-07-01,237.498\\n2014-08-01,237.460\\n2014-09-01,237.477\\n2014-10-01,237.430\\n2014-11-01,236.983\\n2014-12-01,236.252\\n2015-01-01,234.718\\n2015-02-01,235.236\\n2015-03-01,236.005\\n2015-04-01,236.156\\n2015-05-01,236.974\\n2015-06-01,237.684\\n2015-07-01,238.053\\n2015-08-01,238.028\\n2015-09-01,237.506\\n2015-10-01,237.781\\n2015-11-01,238.016\\n2015-12-01,237.817\\n2016-01-01,237.833\\n2016-02-01,237.469\\n2016-03-01,238.038\\n2016-04-01,238.827\\n2016-05-01,239.464\\n2016-06-01,240.167\\n2016-07-01,240.150\\n2016-08-01,240.602\\n2016-09-01,241.051\\n2016-10-01,241.691\\n2016-11-01,242.029\\n2016-12-01,242.772\\n2017-01-01,243.780\\n2017-02-01,243.961\\n2017-03-01,243.749\\n2017-04-01,244.051\\n2017-05-01,243.962\\n2017-06-01,244.182\\n2017-07-01,244.390\\n2017-08-01,245.297\\n2017-09-01,246.418\\n2017-10-01,246.587\\n2017-11-01,247.332\\n2017-12-01,247.901\\n2018-01-01,248.884\\n2018-02-01,249.369\\n2018-03-01,249.498\\n2018-04-01,249.956\\n2018-05-01,250.646\\n2018-06-01,251.134\\n2018-07-01,251.597\\n2018-08-01,251.879\\n2018-09-01,252.010\\n2018-10-01,252.794\\n2018-11-01,252.760\\n2018-12-01,252.723\\n2019-01-01,252.673\\n2019-02-01,253.113\\n2019-03-01,254.148\\n2019-04-01,254.958\\n'}"
            ]
          },
          "metadata": {
            "tags": []
          },
          "execution_count": 2
        }
      ]
    },
    {
      "cell_type": "code",
      "metadata": {
        "id": "og2iuWn1R0mo",
        "colab_type": "code",
        "colab": {
          "base_uri": "https://localhost:8080/",
          "height": 197
        },
        "outputId": "6204f7e8-d800-43b0-fab5-ce538ad96836"
      },
      "source": [
        "price_index = pd.read_csv('CPIAUCSL.csv')\n",
        "price_index.head()"
      ],
      "execution_count": 3,
      "outputs": [
        {
          "output_type": "execute_result",
          "data": {
            "text/html": [
              "<div>\n",
              "<style scoped>\n",
              "    .dataframe tbody tr th:only-of-type {\n",
              "        vertical-align: middle;\n",
              "    }\n",
              "\n",
              "    .dataframe tbody tr th {\n",
              "        vertical-align: top;\n",
              "    }\n",
              "\n",
              "    .dataframe thead th {\n",
              "        text-align: right;\n",
              "    }\n",
              "</style>\n",
              "<table border=\"1\" class=\"dataframe\">\n",
              "  <thead>\n",
              "    <tr style=\"text-align: right;\">\n",
              "      <th></th>\n",
              "      <th>DATE</th>\n",
              "      <th>CPIAUCSL</th>\n",
              "    </tr>\n",
              "  </thead>\n",
              "  <tbody>\n",
              "    <tr>\n",
              "      <th>0</th>\n",
              "      <td>1952-01-01</td>\n",
              "      <td>26.45</td>\n",
              "    </tr>\n",
              "    <tr>\n",
              "      <th>1</th>\n",
              "      <td>1952-02-01</td>\n",
              "      <td>26.41</td>\n",
              "    </tr>\n",
              "    <tr>\n",
              "      <th>2</th>\n",
              "      <td>1952-03-01</td>\n",
              "      <td>26.39</td>\n",
              "    </tr>\n",
              "    <tr>\n",
              "      <th>3</th>\n",
              "      <td>1952-04-01</td>\n",
              "      <td>26.46</td>\n",
              "    </tr>\n",
              "    <tr>\n",
              "      <th>4</th>\n",
              "      <td>1952-05-01</td>\n",
              "      <td>26.47</td>\n",
              "    </tr>\n",
              "  </tbody>\n",
              "</table>\n",
              "</div>"
            ],
            "text/plain": [
              "         DATE  CPIAUCSL\n",
              "0  1952-01-01     26.45\n",
              "1  1952-02-01     26.41\n",
              "2  1952-03-01     26.39\n",
              "3  1952-04-01     26.46\n",
              "4  1952-05-01     26.47"
            ]
          },
          "metadata": {
            "tags": []
          },
          "execution_count": 3
        }
      ]
    },
    {
      "cell_type": "code",
      "metadata": {
        "id": "-FCAj1kkSOON",
        "colab_type": "code",
        "colab": {
          "base_uri": "https://localhost:8080/",
          "height": 318
        },
        "outputId": "10719410-be7e-478f-c940-7aa41ce6027e"
      },
      "source": [
        "prices = []\n",
        "for year in df['Year']:\n",
        "  time = str(year) + '-01-01'\n",
        "  prices.append(price_index[price_index['DATE'] == time]['CPIAUCSL'].values[0])\n",
        "prices"
      ],
      "execution_count": 4,
      "outputs": [
        {
          "output_type": "execute_result",
          "data": {
            "text/plain": [
              "[26.45,\n",
              " 26.83,\n",
              " 29.37,\n",
              " 30.94,\n",
              " 34.1,\n",
              " 41.2,\n",
              " 55.8,\n",
              " 78.0,\n",
              " 102.1,\n",
              " 116.0,\n",
              " 138.3,\n",
              " 154.7,\n",
              " 169.3,\n",
              " 186.3,\n",
              " 212.174,\n",
              " 227.842,\n",
              " 237.833]"
            ]
          },
          "metadata": {
            "tags": []
          },
          "execution_count": 4
        }
      ]
    },
    {
      "cell_type": "code",
      "metadata": {
        "id": "KE7CYRhZTnBX",
        "colab_type": "code",
        "colab": {}
      },
      "source": [
        "df['price index'] = prices"
      ],
      "execution_count": 0,
      "outputs": []
    },
    {
      "cell_type": "code",
      "metadata": {
        "id": "VvPWwJaMTrV7",
        "colab_type": "code",
        "colab": {
          "base_uri": "https://localhost:8080/",
          "height": 197
        },
        "outputId": "38cd76ba-4668-427f-c19b-b1fd44a7ae21"
      },
      "source": [
        "df.head()"
      ],
      "execution_count": 6,
      "outputs": [
        {
          "output_type": "execute_result",
          "data": {
            "text/html": [
              "<div>\n",
              "<style scoped>\n",
              "    .dataframe tbody tr th:only-of-type {\n",
              "        vertical-align: middle;\n",
              "    }\n",
              "\n",
              "    .dataframe tbody tr th {\n",
              "        vertical-align: top;\n",
              "    }\n",
              "\n",
              "    .dataframe thead th {\n",
              "        text-align: right;\n",
              "    }\n",
              "</style>\n",
              "<table border=\"1\" class=\"dataframe\">\n",
              "  <thead>\n",
              "    <tr style=\"text-align: right;\">\n",
              "      <th></th>\n",
              "      <th>Year</th>\n",
              "      <th>Incumbent</th>\n",
              "      <th>Other</th>\n",
              "      <th>Incumbent Votes</th>\n",
              "      <th>Income growth</th>\n",
              "      <th>Fatalities</th>\n",
              "      <th>price index</th>\n",
              "    </tr>\n",
              "  </thead>\n",
              "  <tbody>\n",
              "    <tr>\n",
              "      <th>0</th>\n",
              "      <td>1952</td>\n",
              "      <td>Stevenson</td>\n",
              "      <td>Eisenhower</td>\n",
              "      <td>44.60</td>\n",
              "      <td>2.40</td>\n",
              "      <td>190</td>\n",
              "      <td>26.45</td>\n",
              "    </tr>\n",
              "    <tr>\n",
              "      <th>1</th>\n",
              "      <td>1956</td>\n",
              "      <td>Eisenhower</td>\n",
              "      <td>Stevenson</td>\n",
              "      <td>57.76</td>\n",
              "      <td>2.89</td>\n",
              "      <td>0</td>\n",
              "      <td>26.83</td>\n",
              "    </tr>\n",
              "    <tr>\n",
              "      <th>2</th>\n",
              "      <td>1960</td>\n",
              "      <td>Nixon</td>\n",
              "      <td>Kennedy</td>\n",
              "      <td>49.91</td>\n",
              "      <td>0.85</td>\n",
              "      <td>0</td>\n",
              "      <td>29.37</td>\n",
              "    </tr>\n",
              "    <tr>\n",
              "      <th>3</th>\n",
              "      <td>1964</td>\n",
              "      <td>Johnson</td>\n",
              "      <td>Goldwater</td>\n",
              "      <td>61.34</td>\n",
              "      <td>4.21</td>\n",
              "      <td>1</td>\n",
              "      <td>30.94</td>\n",
              "    </tr>\n",
              "    <tr>\n",
              "      <th>4</th>\n",
              "      <td>1968</td>\n",
              "      <td>Humphrey</td>\n",
              "      <td>Nixon</td>\n",
              "      <td>49.60</td>\n",
              "      <td>3.02</td>\n",
              "      <td>146</td>\n",
              "      <td>34.10</td>\n",
              "    </tr>\n",
              "  </tbody>\n",
              "</table>\n",
              "</div>"
            ],
            "text/plain": [
              "   Year   Incumbent       Other  ...  Income growth  Fatalities  price index\n",
              "0  1952   Stevenson  Eisenhower  ...           2.40         190        26.45\n",
              "1  1956  Eisenhower   Stevenson  ...           2.89           0        26.83\n",
              "2  1960       Nixon     Kennedy  ...           0.85           0        29.37\n",
              "3  1964     Johnson   Goldwater  ...           4.21           1        30.94\n",
              "4  1968    Humphrey       Nixon  ...           3.02         146        34.10\n",
              "\n",
              "[5 rows x 7 columns]"
            ]
          },
          "metadata": {
            "tags": []
          },
          "execution_count": 6
        }
      ]
    },
    {
      "cell_type": "code",
      "metadata": {
        "id": "tj_uSRMmU3iw",
        "colab_type": "code",
        "colab": {}
      },
      "source": [
        "from sklearn.linear_model import LinearRegression as LR\n",
        "from sklearn.metrics import mean_absolute_error as mae\n",
        "import matplotlib.pyplot as plt"
      ],
      "execution_count": 0,
      "outputs": []
    },
    {
      "cell_type": "code",
      "metadata": {
        "id": "IKq52lewYZPb",
        "colab_type": "code",
        "colab": {}
      },
      "source": [
        "features = ['Income growth', 'price index']\n",
        "label = 'Incumbent Votes'\n",
        "train = df.query('Year < 2008')\n",
        "test = df.query('Year >= 2008')\n",
        "X_train_0 = train[features]\n",
        "y_train = train[label]\n",
        "X_test_0 = test[features]\n",
        "y_test = test[label]"
      ],
      "execution_count": 0,
      "outputs": []
    },
    {
      "cell_type": "code",
      "metadata": {
        "id": "fng8EVxTavG3",
        "colab_type": "code",
        "colab": {
          "base_uri": "https://localhost:8080/",
          "height": 34
        },
        "outputId": "64f0dd03-44fc-41d9-845c-821c1a907ce3"
      },
      "source": [
        "model_0 = LR()\n",
        "model_0.fit(X_train_0, y_train)\n",
        "y_pred_0 = model_0.predict(X_test_0)\n",
        "error_0 = mae(y_test, y_pred_0)\n",
        "print(f'MAE for model_0 is {error_0}')"
      ],
      "execution_count": 9,
      "outputs": [
        {
          "output_type": "stream",
          "text": [
            "MAE for model_0 is 1.1442615160436844\n"
          ],
          "name": "stdout"
        }
      ]
    },
    {
      "cell_type": "code",
      "metadata": {
        "id": "qYJhmQI-a2D8",
        "colab_type": "code",
        "colab": {
          "base_uri": "https://localhost:8080/",
          "height": 34
        },
        "outputId": "056b6b2d-63f7-4f26-9876-2e74facd01e4"
      },
      "source": [
        "features = ['Fatalities', 'price index']\n",
        "X_train_1 = train[features]\n",
        "X_test_1 = test[features]\n",
        "model_1 = LR()\n",
        "model_1.fit(X_train_1, y_train)\n",
        "y_pred_1 = model_1.predict(X_test_1)\n",
        "error_1 = mae(y_test, y_pred_1)\n",
        "print(f'MAE for model_1 is {error_1}')"
      ],
      "execution_count": 10,
      "outputs": [
        {
          "output_type": "stream",
          "text": [
            "MAE for model_1 is 1.924548124801407\n"
          ],
          "name": "stdout"
        }
      ]
    },
    {
      "cell_type": "code",
      "metadata": {
        "id": "iPiFpnUdhU7m",
        "colab_type": "code",
        "colab": {
          "base_uri": "https://localhost:8080/",
          "height": 34
        },
        "outputId": "916a7885-8aed-49db-eedc-b7c8878b3d16"
      },
      "source": [
        "y_pred_0"
      ],
      "execution_count": 11,
      "outputs": [
        {
          "output_type": "execute_result",
          "data": {
            "text/plain": [
              "array([47.20003781, 50.17850533, 47.46874793])"
            ]
          },
          "metadata": {
            "tags": []
          },
          "execution_count": 11
        }
      ]
    },
    {
      "cell_type": "code",
      "metadata": {
        "id": "AKVeDFOPdZK_",
        "colab_type": "code",
        "colab": {
          "base_uri": "https://localhost:8080/",
          "height": 354
        },
        "outputId": "d66bff2c-3337-4563-a4fe-7efe916797ae"
      },
      "source": [
        "years = [2008, 2012, 2016]\n",
        "data=df.query('Year >= 2008')\n",
        "\n",
        "fig = plt.figure(figsize=(5, 5))\n",
        "ax = fig.gca()\n",
        "ax.scatter('Year', 'Incumbent Votes', data=data)\n",
        "ax.scatter(x=years, y=y_pred_0, color='red')\n",
        "ax.set_ylabel('% Total Vote', fontsize=14)\n",
        "ax.set_xlabel('Year', fontsize=14)\n",
        "ax.set_xlim(2007, 2017)\n",
        "for year, pct, act in zip(years, y_pred_0, data['Incumbent Votes']):\n",
        "  plt.text(year + .15, pct - .1, s=f'{pct:.1f}', fontsize=11)\n",
        "  plt.text(year + .15, act - .1, s=f'{act:.1f}', fontsize=11)\n",
        "plt.title(r\"Predicted (red) incumbent vote totals vs acutal totals.\", fontsize=14);"
      ],
      "execution_count": 12,
      "outputs": [
        {
          "output_type": "display_data",
          "data": {
            "image/png": "[encoded data removed]",
            "text/plain": [
              "<Figure size 360x360 with 1 Axes>"
            ]
          },
          "metadata": {
            "tags": []
          }
        }
      ]
    }
  ]
}