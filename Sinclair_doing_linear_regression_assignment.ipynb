{
 "cells": [
  {
   "cell_type": "markdown",
   "metadata": {},
   "source": [
    "# Predict Presidential election voting with two features you choose\n",
    "* can use one from Bread & Peace\n",
    "* new data for at least one feature"
   ]
  },
  {
   "cell_type": "code",
   "execution_count": 2,
   "metadata": {},
   "outputs": [],
   "source": [
    "import pandas as pd"
   ]
  },
  {
   "cell_type": "code",
   "execution_count": 66,
   "metadata": {},
   "outputs": [],
   "source": [
    "# import csv and get a sorted dataframe of unprovoked shark attacks per year in the USA\n",
    "\n",
    "attacks = pd.read_csv('/Users/stephensinclair//Desktop/Unit2-Regression1/attacks.csv', \n",
    "                     encoding = 'ISO-8859-1')"
   ]
  },
  {
   "cell_type": "code",
   "execution_count": 67,
   "metadata": {},
   "outputs": [],
   "source": [
    "attacks = attacks[(attacks['Country']=='USA') & (attacks['Type']=='Unprovoked')]\n",
    "attacks['Year'] = attacks['Year'].astype(int)"
   ]
  },
  {
   "cell_type": "code",
   "execution_count": 68,
   "metadata": {},
   "outputs": [],
   "source": [
    "attacks = pd.DataFrame(attacks['Year'].value_counts())\n",
    "attacks = attacks.sort_index()\n",
    "attacks = attacks[-72:]\n",
    "attacks = attacks.reset_index()\n",
    "attacks = attacks.rename({'index':'Year', 'Year':'Attacks'}, axis=1)"
   ]
  },
  {
   "cell_type": "code",
   "execution_count": 70,
   "metadata": {},
   "outputs": [
    {
     "data": {
      "text/html": [
       "<div>\n",
       "<style scoped>\n",
       "    .dataframe tbody tr th:only-of-type {\n",
       "        vertical-align: middle;\n",
       "    }\n",
       "\n",
       "    .dataframe tbody tr th {\n",
       "        vertical-align: top;\n",
       "    }\n",
       "\n",
       "    .dataframe thead th {\n",
       "        text-align: right;\n",
       "    }\n",
       "</style>\n",
       "<table border=\"1\" class=\"dataframe\">\n",
       "  <thead>\n",
       "    <tr style=\"text-align: right;\">\n",
       "      <th></th>\n",
       "      <th>Year</th>\n",
       "      <th>Attacks</th>\n",
       "    </tr>\n",
       "  </thead>\n",
       "  <tbody>\n",
       "    <tr>\n",
       "      <th>5</th>\n",
       "      <td>1952</td>\n",
       "      <td>6</td>\n",
       "    </tr>\n",
       "    <tr>\n",
       "      <th>9</th>\n",
       "      <td>1956</td>\n",
       "      <td>6</td>\n",
       "    </tr>\n",
       "    <tr>\n",
       "      <th>13</th>\n",
       "      <td>1960</td>\n",
       "      <td>13</td>\n",
       "    </tr>\n",
       "    <tr>\n",
       "      <th>17</th>\n",
       "      <td>1964</td>\n",
       "      <td>6</td>\n",
       "    </tr>\n",
       "    <tr>\n",
       "      <th>21</th>\n",
       "      <td>1968</td>\n",
       "      <td>10</td>\n",
       "    </tr>\n",
       "  </tbody>\n",
       "</table>\n",
       "</div>"
      ],
      "text/plain": [
       "    Year  Attacks\n",
       "5   1952        6\n",
       "9   1956        6\n",
       "13  1960       13\n",
       "17  1964        6\n",
       "21  1968       10"
      ]
     },
     "execution_count": 70,
     "metadata": {},
     "output_type": "execute_result"
    }
   ],
   "source": [
    "list = [1952,1956,1960,1964,1968,1972,1976,1980,1984,1988,1992,1996,2000,2004,2008,2012,2016]\n",
    "attacks = attacks[attacks['Year'].isin(list)]\n",
    "attacks.head()"
   ]
  },
  {
   "cell_type": "markdown",
   "metadata": {},
   "source": [
    "# Load Bread & Peace Data"
   ]
  },
  {
   "cell_type": "code",
   "execution_count": 37,
   "metadata": {},
   "outputs": [],
   "source": [
    "import pandas as pd\n",
    "\n",
    "columns = ['Year','Incumbent Party Candidate','Other Candidate','Incumbent Party Vote Share']\n",
    "\n",
    "data = [[1952,\"Stevenson\",\"Eisenhower\",44.6],\n",
    "        [1956,\"Eisenhower\",\"Stevenson\",57.76],\n",
    "        [1960,\"Nixon\",\"Kennedy\",49.91],\n",
    "        [1964,\"Johnson\",\"Goldwater\",61.34],\n",
    "        [1968,\"Humphrey\",\"Nixon\",49.60],\n",
    "        [1972,\"Nixon\",\"McGovern\",61.79],\n",
    "        [1976,\"Ford\",\"Carter\",48.95],\n",
    "        [1980,\"Carter\",\"Reagan\",44.70],\n",
    "        [1984,\"Reagan\",\"Mondale\",59.17],\n",
    "        [1988,\"Bush, Sr.\",\"Dukakis\",53.94],\n",
    "        [1992,\"Bush, Sr.\",\"Clinton\",46.55],\n",
    "        [1996,\"Clinton\",\"Dole\",54.74],\n",
    "        [2000,\"Gore\",\"Bush, Jr.\",50.27],\n",
    "        [2004,\"Bush, Jr.\",\"Kerry\",51.24],\n",
    "        [2008,\"McCain\",\"Obama\",46.32],\n",
    "        [2012,\"Obama\",\"Romney\",52.00], \n",
    "        [2016,\"Clinton\",\"Trump\",48.2]]\n",
    "        \n",
    "votes = pd.DataFrame(data=data, columns=columns)"
   ]
  },
  {
   "cell_type": "code",
   "execution_count": 38,
   "metadata": {},
   "outputs": [],
   "source": [
    "columns = ['Year','Average Recent Growth in Personal Incomes']\n",
    "\n",
    "data = [[1952,2.40],\n",
    "        [1956,2.89],\n",
    "        [1960, .85],\n",
    "        [1964,4.21],\n",
    "        [1968,3.02],\n",
    "        [1972,3.62],\n",
    "        [1976,1.08],\n",
    "        [1980,-.39],\n",
    "        [1984,3.86],\n",
    "        [1988,2.27],\n",
    "        [1992, .38],\n",
    "        [1996,1.04],\n",
    "        [2000,2.36],\n",
    "        [2004,1.72],\n",
    "        [2008, .10],\n",
    "        [2012, .95], \n",
    "        [2016, .10]]\n",
    "        \n",
    "growth = pd.DataFrame(data=data, columns=columns)"
   ]
  },
  {
   "cell_type": "code",
   "execution_count": 39,
   "metadata": {},
   "outputs": [],
   "source": [
    "\"\"\"\n",
    "Fatalities denotes the cumulative number of American military\n",
    "fatalities per millions of US population the in Korea, Vietnam,\n",
    "Iraq and Afghanistan wars during the presidential terms\n",
    "preceding the 1952, 1964, 1968, 1976 and 2004, 2008 and\n",
    "2012 elections.\n",
    "\n",
    "http://www.douglas-hibbs.com/HibbsArticles/HIBBS-PRESVOTE-SLIDES-MELBOURNE-Part1-2014-02-26.pdf\n",
    "\"\"\"\n",
    "\n",
    "columns = ['Year','US Military Fatalities per Million']\n",
    "\n",
    "data = [[1952,190],\n",
    "        [1956,  0],\n",
    "        [1960,  0],\n",
    "        [1964,  1],\n",
    "        [1968,146],\n",
    "        [1972,  0],\n",
    "        [1976,  2],\n",
    "        [1980,  0],\n",
    "        [1984,  0],\n",
    "        [1988,  0],\n",
    "        [1992,  0],\n",
    "        [1996,  0],\n",
    "        [2000,  0],\n",
    "        [2004,  4],\n",
    "        [2008, 14],\n",
    "        [2012,  5], \n",
    "        [2016,  5]]\n",
    "        \n",
    "deaths = pd.DataFrame(data=data, columns=columns)"
   ]
  },
  {
   "cell_type": "markdown",
   "metadata": {},
   "source": [
    "# Merge Data"
   ]
  },
  {
   "cell_type": "code",
   "execution_count": 71,
   "metadata": {},
   "outputs": [
    {
     "data": {
      "text/plain": [
       "(17, 6)"
      ]
     },
     "execution_count": 71,
     "metadata": {},
     "output_type": "execute_result"
    }
   ],
   "source": [
    "df = votes.merge(growth).merge(attacks)\n",
    "df.shape"
   ]
  },
  {
   "cell_type": "code",
   "execution_count": 72,
   "metadata": {},
   "outputs": [
    {
     "data": {
      "text/html": [
       "<div>\n",
       "<style scoped>\n",
       "    .dataframe tbody tr th:only-of-type {\n",
       "        vertical-align: middle;\n",
       "    }\n",
       "\n",
       "    .dataframe tbody tr th {\n",
       "        vertical-align: top;\n",
       "    }\n",
       "\n",
       "    .dataframe thead th {\n",
       "        text-align: right;\n",
       "    }\n",
       "</style>\n",
       "<table border=\"1\" class=\"dataframe\">\n",
       "  <thead>\n",
       "    <tr style=\"text-align: right;\">\n",
       "      <th></th>\n",
       "      <th>Year</th>\n",
       "      <th>Incumbent Party Candidate</th>\n",
       "      <th>Other Candidate</th>\n",
       "      <th>Incumbent Party Vote Share</th>\n",
       "      <th>Average Recent Growth in Personal Incomes</th>\n",
       "      <th>Attacks</th>\n",
       "    </tr>\n",
       "  </thead>\n",
       "  <tbody>\n",
       "    <tr>\n",
       "      <th>0</th>\n",
       "      <td>1952</td>\n",
       "      <td>Stevenson</td>\n",
       "      <td>Eisenhower</td>\n",
       "      <td>44.60</td>\n",
       "      <td>2.40</td>\n",
       "      <td>6</td>\n",
       "    </tr>\n",
       "    <tr>\n",
       "      <th>1</th>\n",
       "      <td>1956</td>\n",
       "      <td>Eisenhower</td>\n",
       "      <td>Stevenson</td>\n",
       "      <td>57.76</td>\n",
       "      <td>2.89</td>\n",
       "      <td>6</td>\n",
       "    </tr>\n",
       "    <tr>\n",
       "      <th>2</th>\n",
       "      <td>1960</td>\n",
       "      <td>Nixon</td>\n",
       "      <td>Kennedy</td>\n",
       "      <td>49.91</td>\n",
       "      <td>0.85</td>\n",
       "      <td>13</td>\n",
       "    </tr>\n",
       "    <tr>\n",
       "      <th>3</th>\n",
       "      <td>1964</td>\n",
       "      <td>Johnson</td>\n",
       "      <td>Goldwater</td>\n",
       "      <td>61.34</td>\n",
       "      <td>4.21</td>\n",
       "      <td>6</td>\n",
       "    </tr>\n",
       "    <tr>\n",
       "      <th>4</th>\n",
       "      <td>1968</td>\n",
       "      <td>Humphrey</td>\n",
       "      <td>Nixon</td>\n",
       "      <td>49.60</td>\n",
       "      <td>3.02</td>\n",
       "      <td>10</td>\n",
       "    </tr>\n",
       "    <tr>\n",
       "      <th>5</th>\n",
       "      <td>1972</td>\n",
       "      <td>Nixon</td>\n",
       "      <td>McGovern</td>\n",
       "      <td>61.79</td>\n",
       "      <td>3.62</td>\n",
       "      <td>8</td>\n",
       "    </tr>\n",
       "    <tr>\n",
       "      <th>6</th>\n",
       "      <td>1976</td>\n",
       "      <td>Ford</td>\n",
       "      <td>Carter</td>\n",
       "      <td>48.95</td>\n",
       "      <td>1.08</td>\n",
       "      <td>17</td>\n",
       "    </tr>\n",
       "    <tr>\n",
       "      <th>7</th>\n",
       "      <td>1980</td>\n",
       "      <td>Carter</td>\n",
       "      <td>Reagan</td>\n",
       "      <td>44.70</td>\n",
       "      <td>-0.39</td>\n",
       "      <td>8</td>\n",
       "    </tr>\n",
       "    <tr>\n",
       "      <th>8</th>\n",
       "      <td>1984</td>\n",
       "      <td>Reagan</td>\n",
       "      <td>Mondale</td>\n",
       "      <td>59.17</td>\n",
       "      <td>3.86</td>\n",
       "      <td>16</td>\n",
       "    </tr>\n",
       "    <tr>\n",
       "      <th>9</th>\n",
       "      <td>1988</td>\n",
       "      <td>Bush, Sr.</td>\n",
       "      <td>Dukakis</td>\n",
       "      <td>53.94</td>\n",
       "      <td>2.27</td>\n",
       "      <td>23</td>\n",
       "    </tr>\n",
       "    <tr>\n",
       "      <th>10</th>\n",
       "      <td>1992</td>\n",
       "      <td>Bush, Sr.</td>\n",
       "      <td>Clinton</td>\n",
       "      <td>46.55</td>\n",
       "      <td>0.38</td>\n",
       "      <td>18</td>\n",
       "    </tr>\n",
       "    <tr>\n",
       "      <th>11</th>\n",
       "      <td>1996</td>\n",
       "      <td>Clinton</td>\n",
       "      <td>Dole</td>\n",
       "      <td>54.74</td>\n",
       "      <td>1.04</td>\n",
       "      <td>24</td>\n",
       "    </tr>\n",
       "    <tr>\n",
       "      <th>12</th>\n",
       "      <td>2000</td>\n",
       "      <td>Gore</td>\n",
       "      <td>Bush, Jr.</td>\n",
       "      <td>50.27</td>\n",
       "      <td>2.36</td>\n",
       "      <td>46</td>\n",
       "    </tr>\n",
       "    <tr>\n",
       "      <th>13</th>\n",
       "      <td>2004</td>\n",
       "      <td>Bush, Jr.</td>\n",
       "      <td>Kerry</td>\n",
       "      <td>51.24</td>\n",
       "      <td>1.72</td>\n",
       "      <td>32</td>\n",
       "    </tr>\n",
       "    <tr>\n",
       "      <th>14</th>\n",
       "      <td>2008</td>\n",
       "      <td>McCain</td>\n",
       "      <td>Obama</td>\n",
       "      <td>46.32</td>\n",
       "      <td>0.10</td>\n",
       "      <td>50</td>\n",
       "    </tr>\n",
       "    <tr>\n",
       "      <th>15</th>\n",
       "      <td>2012</td>\n",
       "      <td>Obama</td>\n",
       "      <td>Romney</td>\n",
       "      <td>52.00</td>\n",
       "      <td>0.95</td>\n",
       "      <td>55</td>\n",
       "    </tr>\n",
       "    <tr>\n",
       "      <th>16</th>\n",
       "      <td>2016</td>\n",
       "      <td>Clinton</td>\n",
       "      <td>Trump</td>\n",
       "      <td>48.20</td>\n",
       "      <td>0.10</td>\n",
       "      <td>54</td>\n",
       "    </tr>\n",
       "  </tbody>\n",
       "</table>\n",
       "</div>"
      ],
      "text/plain": [
       "    Year Incumbent Party Candidate Other Candidate  \\\n",
       "0   1952                 Stevenson      Eisenhower   \n",
       "1   1956                Eisenhower       Stevenson   \n",
       "2   1960                     Nixon         Kennedy   \n",
       "3   1964                   Johnson       Goldwater   \n",
       "4   1968                  Humphrey           Nixon   \n",
       "5   1972                     Nixon        McGovern   \n",
       "6   1976                      Ford          Carter   \n",
       "7   1980                    Carter          Reagan   \n",
       "8   1984                    Reagan         Mondale   \n",
       "9   1988                 Bush, Sr.         Dukakis   \n",
       "10  1992                 Bush, Sr.         Clinton   \n",
       "11  1996                   Clinton            Dole   \n",
       "12  2000                      Gore       Bush, Jr.   \n",
       "13  2004                 Bush, Jr.           Kerry   \n",
       "14  2008                    McCain           Obama   \n",
       "15  2012                     Obama          Romney   \n",
       "16  2016                   Clinton           Trump   \n",
       "\n",
       "    Incumbent Party Vote Share  Average Recent Growth in Personal Incomes  \\\n",
       "0                        44.60                                       2.40   \n",
       "1                        57.76                                       2.89   \n",
       "2                        49.91                                       0.85   \n",
       "3                        61.34                                       4.21   \n",
       "4                        49.60                                       3.02   \n",
       "5                        61.79                                       3.62   \n",
       "6                        48.95                                       1.08   \n",
       "7                        44.70                                      -0.39   \n",
       "8                        59.17                                       3.86   \n",
       "9                        53.94                                       2.27   \n",
       "10                       46.55                                       0.38   \n",
       "11                       54.74                                       1.04   \n",
       "12                       50.27                                       2.36   \n",
       "13                       51.24                                       1.72   \n",
       "14                       46.32                                       0.10   \n",
       "15                       52.00                                       0.95   \n",
       "16                       48.20                                       0.10   \n",
       "\n",
       "    Attacks  \n",
       "0         6  \n",
       "1         6  \n",
       "2        13  \n",
       "3         6  \n",
       "4        10  \n",
       "5         8  \n",
       "6        17  \n",
       "7         8  \n",
       "8        16  \n",
       "9        23  \n",
       "10       18  \n",
       "11       24  \n",
       "12       46  \n",
       "13       32  \n",
       "14       50  \n",
       "15       55  \n",
       "16       54  "
      ]
     },
     "execution_count": 72,
     "metadata": {},
     "output_type": "execute_result"
    }
   ],
   "source": [
    "df"
   ]
  },
  {
   "cell_type": "code",
   "execution_count": 73,
   "metadata": {},
   "outputs": [
    {
     "data": {
      "text/plain": [
       "<matplotlib.axes._subplots.AxesSubplot at 0x1a23504f60>"
      ]
     },
     "execution_count": 73,
     "metadata": {},
     "output_type": "execute_result"
    },
    {
     "data": {
      "image/png": "[encoded data removed]",
      "text/plain": [
       "<Figure size 432x288 with 1 Axes>"
      ]
     },
     "metadata": {
      "needs_background": "light"
     },
     "output_type": "display_data"
    }
   ],
   "source": [
    "%matplotlib inline\n",
    "import seaborn as sns\n",
    "sns.distplot(df['Attacks'])"
   ]
  },
  {
   "cell_type": "markdown",
   "metadata": {},
   "source": [
    "# Create model"
   ]
  },
  {
   "cell_type": "code",
   "execution_count": 74,
   "metadata": {},
   "outputs": [],
   "source": [
    "# Choose class of model\n",
    "\n",
    "from sklearn.linear_model import LinearRegression"
   ]
  },
  {
   "cell_type": "code",
   "execution_count": 75,
   "metadata": {},
   "outputs": [],
   "source": [
    "# Choose hyperparamters by instantiating this class with desired values\n",
    "\n",
    "model = LinearRegression()"
   ]
  },
  {
   "cell_type": "code",
   "execution_count": 76,
   "metadata": {},
   "outputs": [
    {
     "data": {
      "text/plain": [
       "((17, 2), (17,))"
      ]
     },
     "execution_count": 76,
     "metadata": {},
     "output_type": "execute_result"
    }
   ],
   "source": [
    "# Arrange data into feature matrix and target vector\n",
    "\n",
    "features = ['Average Recent Growth in Personal Incomes', 'Attacks']\n",
    "target = 'Incumbent Party Vote Share'\n",
    "\n",
    "X = df[features]\n",
    "y = df[target]\n",
    "\n",
    "X.shape, y.shape"
   ]
  },
  {
   "cell_type": "code",
   "execution_count": 77,
   "metadata": {},
   "outputs": [
    {
     "data": {
      "text/plain": [
       "LinearRegression(copy_X=True, fit_intercept=True, n_jobs=None,\n",
       "         normalize=False)"
      ]
     },
     "execution_count": 77,
     "metadata": {},
     "output_type": "execute_result"
    }
   ],
   "source": [
    "# Fit model to data by calling the fit() method of the model instance\n",
    "\n",
    "model.fit(X,y)"
   ]
  },
  {
   "cell_type": "code",
   "execution_count": 78,
   "metadata": {},
   "outputs": [],
   "source": [
    "# Apply model to data\n",
    "\n",
    "y_pred = model.predict(X)"
   ]
  },
  {
   "cell_type": "code",
   "execution_count": 80,
   "metadata": {},
   "outputs": [
    {
     "data": {
      "text/plain": [
       "2.487028913342467"
      ]
     },
     "execution_count": 80,
     "metadata": {},
     "output_type": "execute_result"
    }
   ],
   "source": [
    "from sklearn.metrics import mean_absolute_error\n",
    "mean_absolute_error(y,y_pred)"
   ]
  },
  {
   "cell_type": "code",
   "execution_count": 81,
   "metadata": {},
   "outputs": [
    {
     "data": {
      "text/plain": [
       "array([53.21319581, 54.76010416, 48.53953555, 58.92728583, 55.29600627,\n",
       "       57.12743083, 49.39113324, 44.46803803, 58.13609593, 53.33615743,\n",
       "       47.21263863, 49.48447624, 54.3418961 , 51.8822019 , 47.33267382,\n",
       "       50.17295857, 47.45817167])"
      ]
     },
     "execution_count": 81,
     "metadata": {},
     "output_type": "execute_result"
    }
   ],
   "source": [
    "y_pred"
   ]
  },
  {
   "cell_type": "code",
   "execution_count": 82,
   "metadata": {},
   "outputs": [
    {
     "data": {
      "text/plain": [
       "0     44.60\n",
       "1     57.76\n",
       "2     49.91\n",
       "3     61.34\n",
       "4     49.60\n",
       "5     61.79\n",
       "6     48.95\n",
       "7     44.70\n",
       "8     59.17\n",
       "9     53.94\n",
       "10    46.55\n",
       "11    54.74\n",
       "12    50.27\n",
       "13    51.24\n",
       "14    46.32\n",
       "15    52.00\n",
       "16    48.20\n",
       "Name: Incumbent Party Vote Share, dtype: float64"
      ]
     },
     "execution_count": 82,
     "metadata": {},
     "output_type": "execute_result"
    }
   ],
   "source": [
    "y"
   ]
  },
  {
   "cell_type": "code",
   "execution_count": 107,
   "metadata": {},
   "outputs": [
    {
     "data": {
      "image/png": "[encoded data removed]",
      "text/plain": [
       "<Figure size 864x576 with 1 Axes>"
      ]
     },
     "metadata": {},
     "output_type": "display_data"
    }
   ],
   "source": [
    "import matplotlib.pyplot as plt\n",
    "import seaborn as sns\n",
    "from textwrap import wrap\n",
    "\n",
    "sns.set_style('darkgrid')\n",
    "\n",
    "\n",
    "fig = plt.figure(figsize=(12,8))\n",
    "ax = fig.add_subplot(111)\n",
    "\n",
    "ax.plot(list, abs(y_pred-y), color='red')\n",
    "\n",
    "title = ax.set_title(\"\\n\".join(wrap(\"Absolute Error in Predicting Presidential Incumbent Party Vote Share With Average Recent Growth in Personal Incomes and Election Year Unprovoked Shark Attacks\", 60)), {'fontsize':22})\n",
    "\n",
    "fig.tight_layout()\n",
    "title.set_y(1.05)\n",
    "fig.subplots_adjust(top=0.8)\n",
    "\n",
    "\n",
    "plt.xlabel('year', fontsize=22)\n",
    "plt.ylabel('absolute error', fontsize=22)\n",
    "\n",
    "fig.savefig(\"shark.jpg\")"
   ]
  },
  {
   "cell_type": "code",
   "execution_count": 108,
   "metadata": {},
   "outputs": [
    {
     "data": {
      "text/html": [
       "<div>\n",
       "<style scoped>\n",
       "    .dataframe tbody tr th:only-of-type {\n",
       "        vertical-align: middle;\n",
       "    }\n",
       "\n",
       "    .dataframe tbody tr th {\n",
       "        vertical-align: top;\n",
       "    }\n",
       "\n",
       "    .dataframe thead th {\n",
       "        text-align: right;\n",
       "    }\n",
       "</style>\n",
       "<table border=\"1\" class=\"dataframe\">\n",
       "  <thead>\n",
       "    <tr style=\"text-align: right;\">\n",
       "      <th></th>\n",
       "      <th>Year</th>\n",
       "      <th>Incumbent Party Candidate</th>\n",
       "      <th>Other Candidate</th>\n",
       "      <th>Incumbent Party Vote Share</th>\n",
       "      <th>Average Recent Growth in Personal Incomes</th>\n",
       "      <th>Attacks</th>\n",
       "    </tr>\n",
       "  </thead>\n",
       "  <tbody>\n",
       "    <tr>\n",
       "      <th>0</th>\n",
       "      <td>1952</td>\n",
       "      <td>Stevenson</td>\n",
       "      <td>Eisenhower</td>\n",
       "      <td>44.60</td>\n",
       "      <td>2.40</td>\n",
       "      <td>6</td>\n",
       "    </tr>\n",
       "    <tr>\n",
       "      <th>1</th>\n",
       "      <td>1956</td>\n",
       "      <td>Eisenhower</td>\n",
       "      <td>Stevenson</td>\n",
       "      <td>57.76</td>\n",
       "      <td>2.89</td>\n",
       "      <td>6</td>\n",
       "    </tr>\n",
       "    <tr>\n",
       "      <th>2</th>\n",
       "      <td>1960</td>\n",
       "      <td>Nixon</td>\n",
       "      <td>Kennedy</td>\n",
       "      <td>49.91</td>\n",
       "      <td>0.85</td>\n",
       "      <td>13</td>\n",
       "    </tr>\n",
       "    <tr>\n",
       "      <th>3</th>\n",
       "      <td>1964</td>\n",
       "      <td>Johnson</td>\n",
       "      <td>Goldwater</td>\n",
       "      <td>61.34</td>\n",
       "      <td>4.21</td>\n",
       "      <td>6</td>\n",
       "    </tr>\n",
       "    <tr>\n",
       "      <th>4</th>\n",
       "      <td>1968</td>\n",
       "      <td>Humphrey</td>\n",
       "      <td>Nixon</td>\n",
       "      <td>49.60</td>\n",
       "      <td>3.02</td>\n",
       "      <td>10</td>\n",
       "    </tr>\n",
       "    <tr>\n",
       "      <th>5</th>\n",
       "      <td>1972</td>\n",
       "      <td>Nixon</td>\n",
       "      <td>McGovern</td>\n",
       "      <td>61.79</td>\n",
       "      <td>3.62</td>\n",
       "      <td>8</td>\n",
       "    </tr>\n",
       "    <tr>\n",
       "      <th>6</th>\n",
       "      <td>1976</td>\n",
       "      <td>Ford</td>\n",
       "      <td>Carter</td>\n",
       "      <td>48.95</td>\n",
       "      <td>1.08</td>\n",
       "      <td>17</td>\n",
       "    </tr>\n",
       "    <tr>\n",
       "      <th>7</th>\n",
       "      <td>1980</td>\n",
       "      <td>Carter</td>\n",
       "      <td>Reagan</td>\n",
       "      <td>44.70</td>\n",
       "      <td>-0.39</td>\n",
       "      <td>8</td>\n",
       "    </tr>\n",
       "    <tr>\n",
       "      <th>8</th>\n",
       "      <td>1984</td>\n",
       "      <td>Reagan</td>\n",
       "      <td>Mondale</td>\n",
       "      <td>59.17</td>\n",
       "      <td>3.86</td>\n",
       "      <td>16</td>\n",
       "    </tr>\n",
       "    <tr>\n",
       "      <th>9</th>\n",
       "      <td>1988</td>\n",
       "      <td>Bush, Sr.</td>\n",
       "      <td>Dukakis</td>\n",
       "      <td>53.94</td>\n",
       "      <td>2.27</td>\n",
       "      <td>23</td>\n",
       "    </tr>\n",
       "    <tr>\n",
       "      <th>10</th>\n",
       "      <td>1992</td>\n",
       "      <td>Bush, Sr.</td>\n",
       "      <td>Clinton</td>\n",
       "      <td>46.55</td>\n",
       "      <td>0.38</td>\n",
       "      <td>18</td>\n",
       "    </tr>\n",
       "    <tr>\n",
       "      <th>11</th>\n",
       "      <td>1996</td>\n",
       "      <td>Clinton</td>\n",
       "      <td>Dole</td>\n",
       "      <td>54.74</td>\n",
       "      <td>1.04</td>\n",
       "      <td>24</td>\n",
       "    </tr>\n",
       "    <tr>\n",
       "      <th>12</th>\n",
       "      <td>2000</td>\n",
       "      <td>Gore</td>\n",
       "      <td>Bush, Jr.</td>\n",
       "      <td>50.27</td>\n",
       "      <td>2.36</td>\n",
       "      <td>46</td>\n",
       "    </tr>\n",
       "    <tr>\n",
       "      <th>13</th>\n",
       "      <td>2004</td>\n",
       "      <td>Bush, Jr.</td>\n",
       "      <td>Kerry</td>\n",
       "      <td>51.24</td>\n",
       "      <td>1.72</td>\n",
       "      <td>32</td>\n",
       "    </tr>\n",
       "    <tr>\n",
       "      <th>14</th>\n",
       "      <td>2008</td>\n",
       "      <td>McCain</td>\n",
       "      <td>Obama</td>\n",
       "      <td>46.32</td>\n",
       "      <td>0.10</td>\n",
       "      <td>50</td>\n",
       "    </tr>\n",
       "    <tr>\n",
       "      <th>15</th>\n",
       "      <td>2012</td>\n",
       "      <td>Obama</td>\n",
       "      <td>Romney</td>\n",
       "      <td>52.00</td>\n",
       "      <td>0.95</td>\n",
       "      <td>55</td>\n",
       "    </tr>\n",
       "    <tr>\n",
       "      <th>16</th>\n",
       "      <td>2016</td>\n",
       "      <td>Clinton</td>\n",
       "      <td>Trump</td>\n",
       "      <td>48.20</td>\n",
       "      <td>0.10</td>\n",
       "      <td>54</td>\n",
       "    </tr>\n",
       "  </tbody>\n",
       "</table>\n",
       "</div>"
      ],
      "text/plain": [
       "    Year Incumbent Party Candidate Other Candidate  \\\n",
       "0   1952                 Stevenson      Eisenhower   \n",
       "1   1956                Eisenhower       Stevenson   \n",
       "2   1960                     Nixon         Kennedy   \n",
       "3   1964                   Johnson       Goldwater   \n",
       "4   1968                  Humphrey           Nixon   \n",
       "5   1972                     Nixon        McGovern   \n",
       "6   1976                      Ford          Carter   \n",
       "7   1980                    Carter          Reagan   \n",
       "8   1984                    Reagan         Mondale   \n",
       "9   1988                 Bush, Sr.         Dukakis   \n",
       "10  1992                 Bush, Sr.         Clinton   \n",
       "11  1996                   Clinton            Dole   \n",
       "12  2000                      Gore       Bush, Jr.   \n",
       "13  2004                 Bush, Jr.           Kerry   \n",
       "14  2008                    McCain           Obama   \n",
       "15  2012                     Obama          Romney   \n",
       "16  2016                   Clinton           Trump   \n",
       "\n",
       "    Incumbent Party Vote Share  Average Recent Growth in Personal Incomes  \\\n",
       "0                        44.60                                       2.40   \n",
       "1                        57.76                                       2.89   \n",
       "2                        49.91                                       0.85   \n",
       "3                        61.34                                       4.21   \n",
       "4                        49.60                                       3.02   \n",
       "5                        61.79                                       3.62   \n",
       "6                        48.95                                       1.08   \n",
       "7                        44.70                                      -0.39   \n",
       "8                        59.17                                       3.86   \n",
       "9                        53.94                                       2.27   \n",
       "10                       46.55                                       0.38   \n",
       "11                       54.74                                       1.04   \n",
       "12                       50.27                                       2.36   \n",
       "13                       51.24                                       1.72   \n",
       "14                       46.32                                       0.10   \n",
       "15                       52.00                                       0.95   \n",
       "16                       48.20                                       0.10   \n",
       "\n",
       "    Attacks  \n",
       "0         6  \n",
       "1         6  \n",
       "2        13  \n",
       "3         6  \n",
       "4        10  \n",
       "5         8  \n",
       "6        17  \n",
       "7         8  \n",
       "8        16  \n",
       "9        23  \n",
       "10       18  \n",
       "11       24  \n",
       "12       46  \n",
       "13       32  \n",
       "14       50  \n",
       "15       55  \n",
       "16       54  "
      ]
     },
     "execution_count": 108,
     "metadata": {},
     "output_type": "execute_result"
    }
   ],
   "source": [
    "df"
   ]
  },
  {
   "cell_type": "code",
   "execution_count": 110,
   "metadata": {},
   "outputs": [
    {
     "data": {
      "text/html": [
       "<div>\n",
       "<style scoped>\n",
       "    .dataframe tbody tr th:only-of-type {\n",
       "        vertical-align: middle;\n",
       "    }\n",
       "\n",
       "    .dataframe tbody tr th {\n",
       "        vertical-align: top;\n",
       "    }\n",
       "\n",
       "    .dataframe thead th {\n",
       "        text-align: right;\n",
       "    }\n",
       "</style>\n",
       "<table border=\"1\" class=\"dataframe\">\n",
       "  <thead>\n",
       "    <tr style=\"text-align: right;\">\n",
       "      <th></th>\n",
       "      <th>Year</th>\n",
       "      <th>Incumbent Party Candidate</th>\n",
       "      <th>Other Candidate</th>\n",
       "      <th>Incumbent Party Vote Share</th>\n",
       "      <th>Average Recent Growth in Personal Incomes</th>\n",
       "      <th>Attacks</th>\n",
       "      <th>Sitting President</th>\n",
       "    </tr>\n",
       "  </thead>\n",
       "  <tbody>\n",
       "    <tr>\n",
       "      <th>0</th>\n",
       "      <td>1952</td>\n",
       "      <td>Stevenson</td>\n",
       "      <td>Eisenhower</td>\n",
       "      <td>44.60</td>\n",
       "      <td>2.40</td>\n",
       "      <td>6</td>\n",
       "      <td>0</td>\n",
       "    </tr>\n",
       "    <tr>\n",
       "      <th>1</th>\n",
       "      <td>1956</td>\n",
       "      <td>Eisenhower</td>\n",
       "      <td>Stevenson</td>\n",
       "      <td>57.76</td>\n",
       "      <td>2.89</td>\n",
       "      <td>6</td>\n",
       "      <td>1</td>\n",
       "    </tr>\n",
       "    <tr>\n",
       "      <th>2</th>\n",
       "      <td>1960</td>\n",
       "      <td>Nixon</td>\n",
       "      <td>Kennedy</td>\n",
       "      <td>49.91</td>\n",
       "      <td>0.85</td>\n",
       "      <td>13</td>\n",
       "      <td>0</td>\n",
       "    </tr>\n",
       "    <tr>\n",
       "      <th>3</th>\n",
       "      <td>1964</td>\n",
       "      <td>Johnson</td>\n",
       "      <td>Goldwater</td>\n",
       "      <td>61.34</td>\n",
       "      <td>4.21</td>\n",
       "      <td>6</td>\n",
       "      <td>1</td>\n",
       "    </tr>\n",
       "    <tr>\n",
       "      <th>4</th>\n",
       "      <td>1968</td>\n",
       "      <td>Humphrey</td>\n",
       "      <td>Nixon</td>\n",
       "      <td>49.60</td>\n",
       "      <td>3.02</td>\n",
       "      <td>10</td>\n",
       "      <td>0</td>\n",
       "    </tr>\n",
       "    <tr>\n",
       "      <th>5</th>\n",
       "      <td>1972</td>\n",
       "      <td>Nixon</td>\n",
       "      <td>McGovern</td>\n",
       "      <td>61.79</td>\n",
       "      <td>3.62</td>\n",
       "      <td>8</td>\n",
       "      <td>1</td>\n",
       "    </tr>\n",
       "    <tr>\n",
       "      <th>6</th>\n",
       "      <td>1976</td>\n",
       "      <td>Ford</td>\n",
       "      <td>Carter</td>\n",
       "      <td>48.95</td>\n",
       "      <td>1.08</td>\n",
       "      <td>17</td>\n",
       "      <td>0</td>\n",
       "    </tr>\n",
       "    <tr>\n",
       "      <th>7</th>\n",
       "      <td>1980</td>\n",
       "      <td>Carter</td>\n",
       "      <td>Reagan</td>\n",
       "      <td>44.70</td>\n",
       "      <td>-0.39</td>\n",
       "      <td>8</td>\n",
       "      <td>0</td>\n",
       "    </tr>\n",
       "    <tr>\n",
       "      <th>8</th>\n",
       "      <td>1984</td>\n",
       "      <td>Reagan</td>\n",
       "      <td>Mondale</td>\n",
       "      <td>59.17</td>\n",
       "      <td>3.86</td>\n",
       "      <td>16</td>\n",
       "      <td>1</td>\n",
       "    </tr>\n",
       "    <tr>\n",
       "      <th>9</th>\n",
       "      <td>1988</td>\n",
       "      <td>Bush, Sr.</td>\n",
       "      <td>Dukakis</td>\n",
       "      <td>53.94</td>\n",
       "      <td>2.27</td>\n",
       "      <td>23</td>\n",
       "      <td>0</td>\n",
       "    </tr>\n",
       "    <tr>\n",
       "      <th>10</th>\n",
       "      <td>1992</td>\n",
       "      <td>Bush, Sr.</td>\n",
       "      <td>Clinton</td>\n",
       "      <td>46.55</td>\n",
       "      <td>0.38</td>\n",
       "      <td>18</td>\n",
       "      <td>0</td>\n",
       "    </tr>\n",
       "    <tr>\n",
       "      <th>11</th>\n",
       "      <td>1996</td>\n",
       "      <td>Clinton</td>\n",
       "      <td>Dole</td>\n",
       "      <td>54.74</td>\n",
       "      <td>1.04</td>\n",
       "      <td>24</td>\n",
       "      <td>1</td>\n",
       "    </tr>\n",
       "    <tr>\n",
       "      <th>12</th>\n",
       "      <td>2000</td>\n",
       "      <td>Gore</td>\n",
       "      <td>Bush, Jr.</td>\n",
       "      <td>50.27</td>\n",
       "      <td>2.36</td>\n",
       "      <td>46</td>\n",
       "      <td>0</td>\n",
       "    </tr>\n",
       "    <tr>\n",
       "      <th>13</th>\n",
       "      <td>2004</td>\n",
       "      <td>Bush, Jr.</td>\n",
       "      <td>Kerry</td>\n",
       "      <td>51.24</td>\n",
       "      <td>1.72</td>\n",
       "      <td>32</td>\n",
       "      <td>1</td>\n",
       "    </tr>\n",
       "    <tr>\n",
       "      <th>14</th>\n",
       "      <td>2008</td>\n",
       "      <td>McCain</td>\n",
       "      <td>Obama</td>\n",
       "      <td>46.32</td>\n",
       "      <td>0.10</td>\n",
       "      <td>50</td>\n",
       "      <td>0</td>\n",
       "    </tr>\n",
       "    <tr>\n",
       "      <th>15</th>\n",
       "      <td>2012</td>\n",
       "      <td>Obama</td>\n",
       "      <td>Romney</td>\n",
       "      <td>52.00</td>\n",
       "      <td>0.95</td>\n",
       "      <td>55</td>\n",
       "      <td>1</td>\n",
       "    </tr>\n",
       "    <tr>\n",
       "      <th>16</th>\n",
       "      <td>2016</td>\n",
       "      <td>Clinton</td>\n",
       "      <td>Trump</td>\n",
       "      <td>48.20</td>\n",
       "      <td>0.10</td>\n",
       "      <td>54</td>\n",
       "      <td>0</td>\n",
       "    </tr>\n",
       "  </tbody>\n",
       "</table>\n",
       "</div>"
      ],
      "text/plain": [
       "    Year Incumbent Party Candidate Other Candidate  \\\n",
       "0   1952                 Stevenson      Eisenhower   \n",
       "1   1956                Eisenhower       Stevenson   \n",
       "2   1960                     Nixon         Kennedy   \n",
       "3   1964                   Johnson       Goldwater   \n",
       "4   1968                  Humphrey           Nixon   \n",
       "5   1972                     Nixon        McGovern   \n",
       "6   1976                      Ford          Carter   \n",
       "7   1980                    Carter          Reagan   \n",
       "8   1984                    Reagan         Mondale   \n",
       "9   1988                 Bush, Sr.         Dukakis   \n",
       "10  1992                 Bush, Sr.         Clinton   \n",
       "11  1996                   Clinton            Dole   \n",
       "12  2000                      Gore       Bush, Jr.   \n",
       "13  2004                 Bush, Jr.           Kerry   \n",
       "14  2008                    McCain           Obama   \n",
       "15  2012                     Obama          Romney   \n",
       "16  2016                   Clinton           Trump   \n",
       "\n",
       "    Incumbent Party Vote Share  Average Recent Growth in Personal Incomes  \\\n",
       "0                        44.60                                       2.40   \n",
       "1                        57.76                                       2.89   \n",
       "2                        49.91                                       0.85   \n",
       "3                        61.34                                       4.21   \n",
       "4                        49.60                                       3.02   \n",
       "5                        61.79                                       3.62   \n",
       "6                        48.95                                       1.08   \n",
       "7                        44.70                                      -0.39   \n",
       "8                        59.17                                       3.86   \n",
       "9                        53.94                                       2.27   \n",
       "10                       46.55                                       0.38   \n",
       "11                       54.74                                       1.04   \n",
       "12                       50.27                                       2.36   \n",
       "13                       51.24                                       1.72   \n",
       "14                       46.32                                       0.10   \n",
       "15                       52.00                                       0.95   \n",
       "16                       48.20                                       0.10   \n",
       "\n",
       "    Attacks  Sitting President  \n",
       "0         6                  0  \n",
       "1         6                  1  \n",
       "2        13                  0  \n",
       "3         6                  1  \n",
       "4        10                  0  \n",
       "5         8                  1  \n",
       "6        17                  0  \n",
       "7         8                  0  \n",
       "8        16                  1  \n",
       "9        23                  0  \n",
       "10       18                  0  \n",
       "11       24                  1  \n",
       "12       46                  0  \n",
       "13       32                  1  \n",
       "14       50                  0  \n",
       "15       55                  1  \n",
       "16       54                  0  "
      ]
     },
     "execution_count": 110,
     "metadata": {},
     "output_type": "execute_result"
    }
   ],
   "source": [
    "# Add a column to indicate if the incumbent party ran a sitting President\n",
    "\n",
    "df['Sitting President'] = [0,1,0,1,0,1,0,0,1,0,0,1,0,1,0,1,0]\n",
    "df"
   ]
  },
  {
   "cell_type": "code",
   "execution_count": 111,
   "metadata": {},
   "outputs": [],
   "source": [
    "model = LinearRegression()"
   ]
  },
  {
   "cell_type": "code",
   "execution_count": 112,
   "metadata": {},
   "outputs": [],
   "source": [
    "features = ['Average Recent Growth in Personal Incomes', 'Sitting President']\n",
    "target = 'Incumbent Party Vote Share'\n",
    "\n",
    "X = df[features]\n",
    "y = df[target]"
   ]
  },
  {
   "cell_type": "code",
   "execution_count": 113,
   "metadata": {},
   "outputs": [
    {
     "data": {
      "text/plain": [
       "LinearRegression(copy_X=True, fit_intercept=True, n_jobs=None,\n",
       "         normalize=False)"
      ]
     },
     "execution_count": 113,
     "metadata": {},
     "output_type": "execute_result"
    }
   ],
   "source": [
    "model.fit(X,y)"
   ]
  },
  {
   "cell_type": "code",
   "execution_count": 114,
   "metadata": {},
   "outputs": [],
   "source": [
    "y_pred = model.predict(X)"
   ]
  },
  {
   "cell_type": "code",
   "execution_count": 115,
   "metadata": {},
   "outputs": [
    {
     "data": {
      "text/plain": [
       "1.7299537266972072"
      ]
     },
     "execution_count": 115,
     "metadata": {},
     "output_type": "execute_result"
    }
   ],
   "source": [
    "mean_absolute_error(y, y_pred)"
   ]
  },
  {
   "cell_type": "code",
   "execution_count": 116,
   "metadata": {},
   "outputs": [],
   "source": [
    "# Add feature that indicates whether incumbent party ran a sitting President, see if that improves the MAE of Bread & Peace\n",
    "df2 = df.merge(deaths)"
   ]
  },
  {
   "cell_type": "code",
   "execution_count": 118,
   "metadata": {},
   "outputs": [],
   "source": [
    "model = LinearRegression()"
   ]
  },
  {
   "cell_type": "code",
   "execution_count": 122,
   "metadata": {},
   "outputs": [],
   "source": [
    "features = ['Average Recent Growth in Personal Incomes', 'Sitting President', 'US Military Fatalities per Million']\n",
    "target = 'Incumbent Party Vote Share'\n",
    "\n",
    "X = df2[features]\n",
    "y = df2[target]"
   ]
  },
  {
   "cell_type": "code",
   "execution_count": 123,
   "metadata": {},
   "outputs": [
    {
     "data": {
      "text/plain": [
       "LinearRegression(copy_X=True, fit_intercept=True, n_jobs=None,\n",
       "         normalize=False)"
      ]
     },
     "execution_count": 123,
     "metadata": {},
     "output_type": "execute_result"
    }
   ],
   "source": [
    "model.fit(X,y)"
   ]
  },
  {
   "cell_type": "code",
   "execution_count": 124,
   "metadata": {},
   "outputs": [],
   "source": [
    "y_pred = model.predict(X)"
   ]
  },
  {
   "cell_type": "code",
   "execution_count": 125,
   "metadata": {},
   "outputs": [
    {
     "data": {
      "text/plain": [
       "1.1403523988739077"
      ]
     },
     "execution_count": 125,
     "metadata": {},
     "output_type": "execute_result"
    }
   ],
   "source": [
    "mean_absolute_error(y, y_pred)"
   ]
  },
  {
   "cell_type": "code",
   "execution_count": null,
   "metadata": {},
   "outputs": [],
   "source": []
  }
 ],
 "metadata": {
  "kernelspec": {
   "display_name": "Python 3",
   "language": "python",
   "name": "python3"
  },
  "language_info": {
   "codemirror_mode": {
    "name": "ipython",
    "version": 3
   },
   "file_extension": ".py",
   "mimetype": "text/x-python",
   "name": "python",
   "nbconvert_exporter": "python",
   "pygments_lexer": "ipython3",
   "version": "3.7.3"
  }
 },
 "nbformat": 4,
 "nbformat_minor": 2
}
