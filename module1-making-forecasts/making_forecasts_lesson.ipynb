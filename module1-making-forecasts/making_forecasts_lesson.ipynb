{
  "nbformat": 4,
  "nbformat_minor": 0,
  "metadata": {
    "colab": {
      "name": "making_forecasts_lesson.ipynb",
      "version": "0.3.2",
      "provenance": [],
      "collapsed_sections": [],
      "include_colab_link": true
    },
    "kernelspec": {
      "name": "python3",
      "display_name": "Python 3"
    }
  },
  "cells": [
    {
      "cell_type": "markdown",
      "metadata": {
        "id": "view-in-github",
        "colab_type": "text"
      },
      "source": [
        "<a href=\"https://colab.research.google.com/github/grommitt/DS-Unit-2-Regression-1/blob/master/module1-making-forecasts/making_forecasts_lesson.ipynb\" target=\"_parent\"><img src=\"https://colab.research.google.com/assets/colab-badge.svg\" alt=\"Open In Colab\"/></a>"
      ]
    },
    {
      "cell_type": "markdown",
      "metadata": {
        "id": "H95sqcC72U-t",
        "colab_type": "text"
      },
      "source": [
        "_Lambda School Data Science — Regression 1_\n",
        "\n",
        "# Making Forecasts\n",
        "\n",
        "#### Objectives\n",
        "- acquire time series data\n",
        "- begin with baselines for time series\n",
        "- use Prophet to forecast time series"
      ]
    },
    {
      "cell_type": "markdown",
      "metadata": {
        "id": "l3zDBdaB2qaj",
        "colab_type": "text"
      },
      "source": [
        "## Acquire time series data"
      ]
    },
    {
      "cell_type": "markdown",
      "metadata": {
        "id": "HZUQg8tI4ApF",
        "colab_type": "text"
      },
      "source": [
        "\n",
        "\n",
        "You can use [Wikimedia Foundation's pageviews tool](https://tools.wmflabs.org/pageviews/) to explore and download Wikipedia pageviews data.\n",
        "\n",
        "Or, you can try a stretch goal — use the Wikimedia Pageviews API to get data:\n",
        "\n",
        "- Get good at learning new things by googling and reading documentation. Jake Vander Plas calls this [\"the real world bootcamp\"](https://twitter.com/jakevdp/status/648593367786323968).\n",
        "- To learn how to get data from an API, follow along with the [Requests library quickstart](https://2.python-requests.org/en/master/user/quickstart/), or [_Automate the Boring Stuff with Python_, Chapter 14](https://automatetheboringstuff.com/chapter14/) by Al Swiegart.\n",
        "- Then, refer to the [Wikipedia Pageviews API quickstart](https://wikitech.wikimedia.org/wiki/Analytics/AQS/Pageviews#Quick_start) and [documentation](https://wikimedia.org/api/rest_v1/#/Pageviews%20data)."
      ]
    },
    {
      "cell_type": "markdown",
      "metadata": {
        "id": "18MWpqWe5Juu",
        "colab_type": "text"
      },
      "source": [
        "If you're using Colab and you downloaded a CSV file, you can follow [this post by Lambda School Data Science student](https://towardsdatascience.com/3-ways-to-load-csv-files-into-colab-7c14fcbdcb92) to help you load your data."
      ]
    },
    {
      "cell_type": "code",
      "metadata": {
        "id": "0OH-k4PP2spY",
        "colab_type": "code",
        "colab": {}
      },
      "source": [
        "#need to do assignment"
      ],
      "execution_count": 0,
      "outputs": []
    },
    {
      "cell_type": "markdown",
      "metadata": {
        "id": "QXY66CZU2uDg",
        "colab_type": "text"
      },
      "source": [
        "## Begin with baselines for time series\n",
        "\n",
        "\n",
        "#### [Will Koehrsen:](https://twitter.com/koehrsen_will/status/1088863527778111488)\n",
        "\n",
        "> One of the most important steps in a machine learning project is establishing a common sense baseline. If your model can't beat the baseline, then maybe you don't really need machine learning.\n",
        "\n",
        "> A baseline for classification can be the most common class in the training dataset.\n",
        "\n",
        "> A baseline for regression can be the mean of the training labels. \n",
        "\n",
        "> A baseline for time-series regressions can be the value from the previous timestep.\n",
        "\n",
        "#### Rob Hyndman & George Athanasopoulos, [_Forecasting: Principles and Practice_, Chapter 3.1](https://otexts.com/fpp2/simple-methods.html), Some simple forecasting methods:\n",
        "\n",
        "> Some forecasting methods are extremely simple and surprisingly effective. We will use the following methods as benchmarks throughout this book.\n",
        "\n",
        "> **Average method:** the forecasts of all future values are equal to the average (or “mean”) of the historical data.\n",
        "\n",
        "> **Naïve method:** we simply set all forecasts to be the value of the last observation. This method works remarkably well for many economic and financial time series.\n",
        "\n",
        "> **Drift method:** This is equivalent to drawing a line between the first and last observations, and extrapolating it into the future.\n",
        "\n",
        "> Sometimes one of these simple methods will be the best forecasting method available; but in many cases, these methods will serve as benchmarks rather than the method of choice. That is, any forecasting methods we develop will be compared to these simple methods to ensure that the new method is better than these simple alternatives. If not, the new method is not worth considering."
      ]
    },
    {
      "cell_type": "markdown",
      "metadata": {
        "id": "YhlPWG3DXxHM",
        "colab_type": "text"
      },
      "source": [
        "### Average method"
      ]
    },
    {
      "cell_type": "code",
      "metadata": {
        "id": "bIsGZRrKM6HU",
        "colab_type": "code",
        "colab": {}
      },
      "source": [
        ""
      ],
      "execution_count": 0,
      "outputs": []
    },
    {
      "cell_type": "markdown",
      "metadata": {
        "id": "YyG1g-GEX0tK",
        "colab_type": "text"
      },
      "source": [
        "### Naive method (last observation)"
      ]
    },
    {
      "cell_type": "code",
      "metadata": {
        "id": "gV80JnSMX4jj",
        "colab_type": "code",
        "colab": {}
      },
      "source": [
        ""
      ],
      "execution_count": 0,
      "outputs": []
    },
    {
      "cell_type": "markdown",
      "metadata": {
        "id": "xR-4xPhAX5LR",
        "colab_type": "text"
      },
      "source": [
        "### Drift method (draw line between first and last observation)"
      ]
    },
    {
      "cell_type": "code",
      "metadata": {
        "id": "02nRwLL1X47S",
        "colab_type": "code",
        "colab": {}
      },
      "source": [
        ""
      ],
      "execution_count": 0,
      "outputs": []
    },
    {
      "cell_type": "markdown",
      "metadata": {
        "id": "8iLH6s9n2wMA",
        "colab_type": "text"
      },
      "source": [
        "## Use Prophet to forecast time series"
      ]
    },
    {
      "cell_type": "markdown",
      "metadata": {
        "id": "Dlmzk9h-6Bo9",
        "colab_type": "text"
      },
      "source": [
        "We will follow the [Prophet Quick Start tutorial](https://facebook.github.io/prophet/docs/quick_start.html#python-api).\n",
        "\n",
        "> The input to Prophet is always a dataframe with two columns: `ds` and `y`. The `ds` (datestamp) column should be of a format expected by Pandas, ideally YYYY-MM-DD for a date or YYYY-MM-DD HH:MM:SS for a timestamp. The `y` column must be numeric, and represents the measurement we wish to forecast."
      ]
    },
    {
      "cell_type": "code",
      "metadata": {
        "id": "KC1Sda3X2yRA",
        "colab_type": "code",
        "colab": {}
      },
      "source": [
        ""
      ],
      "execution_count": 0,
      "outputs": []
    },
    {
      "cell_type": "markdown",
      "metadata": {
        "id": "rKQOO4XERZX6",
        "colab_type": "text"
      },
      "source": [
        "> We fit the model by instantiating a new `Prophet` object. Any settings to the forecasting procedure are passed into the constructor. Then you call its `fit` method and pass in the historical dataframe. Fitting should take 1-5 seconds.\n",
        "\n",
        "```\n",
        "    from fbprophet import Prophet\n",
        "    m = Prophet()\n",
        "    m.fit(df)\n",
        "```"
      ]
    },
    {
      "cell_type": "code",
      "metadata": {
        "id": "ci5GpJgcRMWd",
        "colab_type": "code",
        "colab": {}
      },
      "source": [
        ""
      ],
      "execution_count": 0,
      "outputs": []
    },
    {
      "cell_type": "markdown",
      "metadata": {
        "id": "XbcUzydKSMdl",
        "colab_type": "text"
      },
      "source": [
        "> Predictions are then made on a dataframe with a column `ds` containing the dates for which a prediction is to be made. You can get a suitable dataframe that extends into the future a specified number of days using the helper method `Prophet.make_future_dataframe`. By default it will also include the dates from the history, so we will see the model fit as well.\n",
        "\n",
        "```\n",
        "    future = m.make_future_dataframe(periods=365)\n",
        "    future.tail()\n",
        "```"
      ]
    },
    {
      "cell_type": "code",
      "metadata": {
        "id": "ETUOPr0cSWbZ",
        "colab_type": "code",
        "colab": {}
      },
      "source": [
        ""
      ],
      "execution_count": 0,
      "outputs": []
    },
    {
      "cell_type": "markdown",
      "metadata": {
        "id": "hKz8RqTKSgHM",
        "colab_type": "text"
      },
      "source": [
        "> The `predict` method will assign each row in `future` a predicted value which it names `yhat`. If you pass in historical dates, it will provide an in-sample fit. The `forecast` object here is a new dataframe that includes a column `yhat` with the forecast, as well as columns for components and uncertainty intervals.\n",
        "\n",
        "```\n",
        "    forecast = m.predict(future)\n",
        "```"
      ]
    },
    {
      "cell_type": "code",
      "metadata": {
        "id": "mL-S6SotSwYE",
        "colab_type": "code",
        "colab": {}
      },
      "source": [
        ""
      ],
      "execution_count": 0,
      "outputs": []
    },
    {
      "cell_type": "markdown",
      "metadata": {
        "id": "3lcqUvgGS6V_",
        "colab_type": "text"
      },
      "source": [
        "> You can plot the forecast by calling the `Prophet.plot` method and passing in your forecast dataframe.\n",
        "\n",
        "```\n",
        "    fig1 = m.plot(forecast)\n",
        "```"
      ]
    },
    {
      "cell_type": "code",
      "metadata": {
        "id": "hoM4QDKTTA8_",
        "colab_type": "code",
        "colab": {}
      },
      "source": [
        ""
      ],
      "execution_count": 0,
      "outputs": []
    },
    {
      "cell_type": "markdown",
      "metadata": {
        "id": "hRsZA2O-TJZo",
        "colab_type": "text"
      },
      "source": [
        "> If you want to see the forecast components, you can use the Prophet.plot_components method. By default you’ll see the trend, yearly seasonality, and weekly seasonality of the time series. If you include holidays, you’ll see those here, too.\n",
        "\n",
        "```\n",
        "    fig2 = m.plot_components(forecast)\n",
        "```"
      ]
    },
    {
      "cell_type": "code",
      "metadata": {
        "id": "RuhJImjQTNSu",
        "colab_type": "code",
        "colab": {}
      },
      "source": [
        ""
      ],
      "execution_count": 0,
      "outputs": []
    },
    {
      "cell_type": "markdown",
      "metadata": {
        "id": "IkeUCnzNTT_O",
        "colab_type": "text"
      },
      "source": [
        "> More details about the options available for each method are available in the docstrings, for example, via `help(Prophet)` or `help(Prophet.fit)`."
      ]
    },
    {
      "cell_type": "markdown",
      "metadata": {
        "id": "ERu2hoam2-FK",
        "colab_type": "text"
      },
      "source": [
        "## Assignment\n",
        "\n",
        "- Start a new notebook.\n",
        "- Choose a Wikipedia page to forecast, and get the data.\n",
        "- Begin with baselines for time series.\n",
        "- Use the Prophet library to forecast pageviews for the Wikipedia page you chose. \n",
        "- Plot your forecast and share it on Slack.\n",
        "- Commit your notebook to your fork of the GitHub repo.\n",
        "\n",
        "### Stretch Challenges\n",
        "- [Get daily weather station data](https://www.ncdc.noaa.gov/cdo-web/search) from the NOAA (National Oceanic and Atmospheric Administration). User Prophet to forecast the weather for your local area. \n",
        "- Adjust your forecasts with Prophet's [changepoints](https://facebook.github.io/prophet/docs/trend_changepoints.html) and [holidays](https://facebook.github.io/prophet/docs/seasonality,_holiday_effects,_and_regressors.html) options. In addition to Prophet's documentation, read Will Koehrsen's blog post, [Time Series Analysis in Python](https://towardsdatascience.com/time-series-analysis-in-python-an-introduction-70d5a5b1d52a).\n",
        "- Learn more about how Prophet works. Read the [tweestorm with animated GIFs](https://twitter.com/seanjtaylor/status/1123278380369973248) by Prophet developer Sean J. Taylor, or his [research paper](https://peerj.com/preprints/3190/)."
      ]
    }
  ]
}