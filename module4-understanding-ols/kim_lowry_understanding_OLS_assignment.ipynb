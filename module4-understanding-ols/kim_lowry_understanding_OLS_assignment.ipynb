{
  "nbformat": 4,
  "nbformat_minor": 0,
  "metadata": {
    "colab": {
      "name": "kim_lowry_understanding_OLS_assignment.ipynb",
      "version": "0.3.2",
      "provenance": [],
      "collapsed_sections": [],
      "include_colab_link": true
    },
    "kernelspec": {
      "name": "python3",
      "display_name": "Python 3"
    }
  },
  "cells": [
    {
      "cell_type": "markdown",
      "metadata": {
        "id": "view-in-github",
        "colab_type": "text"
      },
      "source": [
        "<a href=\"https://colab.research.google.com/github/hBar2013/DS-Unit-2-Regression-1/blob/master/module4-understanding-ols/kim_lowry_understanding_OLS_assignment.ipynb\" target=\"_parent\"><img src=\"https://colab.research.google.com/assets/colab-badge.svg\" alt=\"Open In Colab\"/></a>"
      ]
    },
    {
      "cell_type": "markdown",
      "metadata": {
        "id": "3IzAwSBMJyN_",
        "colab_type": "text"
      },
      "source": [
        "- Fit a linear regression model with 2+ features of your choice. Get and plot the coefficients.\n",
        "- Use train-test split or leave-one-out cross-validation to get regression metrics: MSE, RMSE, MAE, R^2.\n",
        "- Visualize the plane of best fit in 3D, with 2 features.\n",
        "- Write a short, simple blog post about your elections model. (Or about your pageviews model, whichever you prefer!)\n",
        "- AWESOME BUT DIFFICULT STRETCH GOAL: In your 3D visualization, can you include the actual datapoints, like in this notebook? https://nbviewer.jupyter.org/urls/s3.amazonaws.com/datarobotblog/notebooks/multiple_regression_in_python.ipynb Can you also include the residual lines from the datapoints to the plane of the best fit, like in _An Introduction to Statistical Learning?_ (edited) "
      ]
    },
    {
      "cell_type": "code",
      "metadata": {
        "id": "f5Du6oNfm_Jl",
        "colab_type": "code",
        "colab": {}
      },
      "source": [
        "import pandas as pd\n",
        "\n",
        "columns = ['Year','Incumbent Party Candidate','Other Candidate','Incumbent Party Vote Share']\n",
        "\n",
        "data = [[1952,\"Stevenson\",\"Eisenhower\",44.6],\n",
        "        [1956,\"Eisenhower\",\"Stevenson\",57.76],\n",
        "        [1960,\"Nixon\",\"Kennedy\",49.91],\n",
        "        [1964,\"Johnson\",\"Goldwater\",61.34],\n",
        "        [1968,\"Humphrey\",\"Nixon\",49.60],\n",
        "        [1972,\"Nixon\",\"McGovern\",61.79],\n",
        "        [1976,\"Ford\",\"Carter\",48.95],\n",
        "        [1980,\"Carter\",\"Reagan\",44.70],\n",
        "        [1984,\"Reagan\",\"Mondale\",59.17],\n",
        "        [1988,\"Bush, Sr.\",\"Dukakis\",53.94],\n",
        "        [1992,\"Bush, Sr.\",\"Clinton\",46.55],\n",
        "        [1996,\"Clinton\",\"Dole\",54.74],\n",
        "        [2000,\"Gore\",\"Bush, Jr.\",50.27],\n",
        "        [2004,\"Bush, Jr.\",\"Kerry\",51.24],\n",
        "        [2008,\"McCain\",\"Obama\",46.32],\n",
        "        [2012,\"Obama\",\"Romney\",52.00], \n",
        "        [2016,\"Clinton\",\"Trump\",48.2]]\n",
        "        \n",
        "votes = pd.DataFrame(data=data, columns=columns)"
      ],
      "execution_count": 0,
      "outputs": []
    },
    {
      "cell_type": "code",
      "metadata": {
        "id": "308D-utonESi",
        "colab_type": "code",
        "colab": {}
      },
      "source": [
        "columns = ['Year','Average Recent Growth in Personal Incomes']\n",
        "\n",
        "data = [[1952,2.40],\n",
        "        [1956,2.89],\n",
        "        [1960, .85],\n",
        "        [1964,4.21],\n",
        "        [1968,3.02],\n",
        "        [1972,3.62],\n",
        "        [1976,1.08],\n",
        "        [1980,-.39],\n",
        "        [1984,3.86],\n",
        "        [1988,2.27],\n",
        "        [1992, .38],\n",
        "        [1996,1.04],\n",
        "        [2000,2.36],\n",
        "        [2004,1.72],\n",
        "        [2008, .10],\n",
        "        [2012, .95], \n",
        "        [2016, .10]]\n",
        "        \n",
        "growth = pd.DataFrame(data=data, columns=columns)"
      ],
      "execution_count": 0,
      "outputs": []
    },
    {
      "cell_type": "code",
      "metadata": {
        "id": "1zbthQwZnJPU",
        "colab_type": "code",
        "colab": {}
      },
      "source": [
        "columns = ['Year','US Military Fatalities per Million']\n",
        "\n",
        "data = [[1952,190],\n",
        "        [1956,  0],\n",
        "        [1960,  0],\n",
        "        [1964,  1],\n",
        "        [1968,146],\n",
        "        [1972,  0],\n",
        "        [1976,  2],\n",
        "        [1980,  0],\n",
        "        [1984,  0],\n",
        "        [1988,  0],\n",
        "        [1992,  0],\n",
        "        [1996,  0],\n",
        "        [2000,  0],\n",
        "        [2004,  4],\n",
        "        [2008, 14],\n",
        "        [2012,  5], \n",
        "        [2016,  5]]\n",
        "        \n",
        "deaths = pd.DataFrame(data=data, columns=columns)"
      ],
      "execution_count": 0,
      "outputs": []
    },
    {
      "cell_type": "code",
      "metadata": {
        "id": "SH0HyfEVnY5c",
        "colab_type": "code",
        "colab": {}
      },
      "source": [
        "columns = ['Year','Incumbent Party Congressional Representation']\n",
        "\n",
        "data = [[1952,0.540],\n",
        "        [1956,0.467],\n",
        "        [1960,0.351],\n",
        "        [1964,0.570],\n",
        "        [1968,0.430],\n",
        "        [1972,0.414],\n",
        "        [1976,0.331],\n",
        "        [1980,0.639],\n",
        "        [1984,0.382],\n",
        "        [1988,0.407],\n",
        "        [1992,0.384],\n",
        "        [1996,0.469],\n",
        "        [2000,0.513],\n",
        "        [2004,0.471],\n",
        "        [2008,0.464],\n",
        "        [2012,0.444], \n",
        "        [2016,0.432]]\n",
        "        \n",
        "house = pd.DataFrame(data=data, columns=columns)"
      ],
      "execution_count": 0,
      "outputs": []
    },
    {
      "cell_type": "code",
      "metadata": {
        "id": "uoobRD0dnklB",
        "colab_type": "code",
        "colab": {}
      },
      "source": [
        "url = 'https://fred.stlouisfed.org/graph/fredgraph.csv?bgcolor=%23e1e9f0&chart_type=line&drp=0&fo=open%20sans&graph_bgcolor=%23ffffff&height=450&mode=fred&recession_bars=on&txtcolor=%23444444&ts=12&tts=12&width=1168&nt=0&thu=0&trc=0&show_legend=yes&show_axis_titles=yes&show_tooltip=yes&id=UNRATE&scale=left&cosd=1948-01-01&coed=2019-04-01&line_color=%234572a7&link_values=false&line_style=solid&mark_type=none&mw=3&lw=2&ost=-99999&oet=99999&mma=0&fml=a&fq=Monthly&fam=avg&fgst=lin&fgsnd=2009-06-01&line_index=1&transformation=lin&vintage_date=2019-05-30&revision_date=2019-05-30&nd=1948-01-01'\n",
        "unemployment = pd.read_csv(url, parse_dates=['DATE'])\n",
        "\n",
        "# Annual average unemployment, only using the first 10 months of the year\n",
        "# (because presidential elections are in November)\n",
        "unemployment = (unemployment\n",
        "                .where(unemployment.DATE.dt.month <= 10)\n",
        "                .set_index('DATE')\n",
        "                .resample('A')\n",
        "                .mean()\n",
        "                .reset_index()\n",
        "                .rename(columns={'DATE': 'Year', 'UNRATE': 'Unemployment Rate'}))\n",
        "\n",
        "unemployment['Year'] = unemployment['Year'].dt.year"
      ],
      "execution_count": 0,
      "outputs": []
    },
    {
      "cell_type": "code",
      "metadata": {
        "id": "dd7vUFy2no9C",
        "colab_type": "code",
        "colab": {}
      },
      "source": [
        "url = 'https://fred.stlouisfed.org/graph/fredgraph.csv?bgcolor=%23e1e9f0&chart_type=line&drp=0&fo=open%20sans&graph_bgcolor=%23ffffff&height=450&mode=fred&recession_bars=on&txtcolor=%23444444&ts=12&tts=12&width=1168&nt=0&thu=0&trc=0&show_legend=yes&show_axis_titles=yes&show_tooltip=yes&id=GDPC1&scale=left&cosd=1947-01-01&coed=2019-01-01&line_color=%234572a7&link_values=false&line_style=solid&mark_type=none&mw=3&lw=2&ost=-99999&oet=99999&mma=0&fml=a&fq=Quarterly&fam=avg&fgst=lin&fgsnd=2009-06-01&line_index=1&transformation=lin&vintage_date=2019-05-30&revision_date=2019-05-30&nd=1947-01-01'\n",
        "\n",
        "gdp = pd.read_csv(url, parse_dates=['DATE'])\n",
        "gdp = (gdp\n",
        "       .where(gdp.DATE.dt.month==7)\n",
        "       .rename(columns={'DATE': 'Year', 'GDPC1': 'GDP Q3'}))\n",
        "\n",
        "gdp['Year'] = gdp['Year'].dt.year"
      ],
      "execution_count": 0,
      "outputs": []
    },
    {
      "cell_type": "code",
      "metadata": {
        "id": "r9dZFdransfc",
        "colab_type": "code",
        "colab": {}
      },
      "source": [
        "url = 'https://fred.stlouisfed.org/graph/fredgraph.csv?bgcolor=%23e1e9f0&chart_type=line&drp=0&fo=open%20sans&graph_bgcolor=%23ffffff&height=450&mode=fred&recession_bars=on&txtcolor=%23444444&ts=12&tts=12&width=1168&nt=0&thu=0&trc=0&show_legend=yes&show_axis_titles=yes&show_tooltip=yes&id=A191RL1Q225SBEA&scale=left&cosd=1947-04-01&coed=2019-01-01&line_color=%234572a7&link_values=false&line_style=solid&mark_type=none&mw=3&lw=2&ost=-99999&oet=99999&mma=0&fml=a&fq=Quarterly&fam=avg&fgst=lin&fgsnd=2009-06-01&line_index=1&transformation=lin&vintage_date=2019-05-30&revision_date=2019-05-30&nd=1947-04-01'\n",
        "\n",
        "gdp_change = pd.read_csv(url, parse_dates=['DATE'])\n",
        "gdp_change = (gdp_change\n",
        "              .where(gdp_change.DATE.dt.month==7)\n",
        "              .rename(columns={'DATE': 'Year', 'A191RL1Q225SBEA': 'GDP Change Q3'}))\n",
        "\n",
        "gdp_change['Year'] = gdp_change['Year'].dt.year"
      ],
      "execution_count": 0,
      "outputs": []
    },
    {
      "cell_type": "code",
      "metadata": {
        "id": "Mtsnjjhfn0ju",
        "colab_type": "code",
        "colab": {}
      },
      "source": [
        "df = (votes\n",
        "      .merge(growth)\n",
        "      .merge(deaths)\n",
        "      .merge(house)\n",
        "      .merge(unemployment)\n",
        "      .merge(gdp)\n",
        "      .merge(gdp_change))"
      ],
      "execution_count": 0,
      "outputs": []
    },
    {
      "cell_type": "code",
      "metadata": {
        "id": "x28R1wCzzthS",
        "colab_type": "code",
        "colab": {
          "base_uri": "https://localhost:8080/",
          "height": 272
        },
        "outputId": "fa25af38-16c7-4186-bc0e-abfdf889b2a9"
      },
      "source": [
        "df.head()"
      ],
      "execution_count": 11,
      "outputs": [
        {
          "output_type": "execute_result",
          "data": {
            "text/html": [
              "<div>\n",
              "<style scoped>\n",
              "    .dataframe tbody tr th:only-of-type {\n",
              "        vertical-align: middle;\n",
              "    }\n",
              "\n",
              "    .dataframe tbody tr th {\n",
              "        vertical-align: top;\n",
              "    }\n",
              "\n",
              "    .dataframe thead th {\n",
              "        text-align: right;\n",
              "    }\n",
              "</style>\n",
              "<table border=\"1\" class=\"dataframe\">\n",
              "  <thead>\n",
              "    <tr style=\"text-align: right;\">\n",
              "      <th></th>\n",
              "      <th>Year</th>\n",
              "      <th>Incumbent Party Candidate</th>\n",
              "      <th>Other Candidate</th>\n",
              "      <th>Incumbent Party Vote Share</th>\n",
              "      <th>Average Recent Growth in Personal Incomes</th>\n",
              "      <th>US Military Fatalities per Million</th>\n",
              "      <th>Incumbent Party Congressional Representation</th>\n",
              "      <th>Unemployment Rate</th>\n",
              "      <th>GDP Q3</th>\n",
              "      <th>GDP Change Q3</th>\n",
              "    </tr>\n",
              "  </thead>\n",
              "  <tbody>\n",
              "    <tr>\n",
              "      <th>0</th>\n",
              "      <td>1952</td>\n",
              "      <td>Stevenson</td>\n",
              "      <td>Eisenhower</td>\n",
              "      <td>44.60</td>\n",
              "      <td>2.40</td>\n",
              "      <td>190</td>\n",
              "      <td>0.540</td>\n",
              "      <td>3.08</td>\n",
              "      <td>2564.401</td>\n",
              "      <td>2.9</td>\n",
              "    </tr>\n",
              "    <tr>\n",
              "      <th>1</th>\n",
              "      <td>1956</td>\n",
              "      <td>Eisenhower</td>\n",
              "      <td>Stevenson</td>\n",
              "      <td>57.76</td>\n",
              "      <td>2.89</td>\n",
              "      <td>0</td>\n",
              "      <td>0.467</td>\n",
              "      <td>4.10</td>\n",
              "      <td>2925.035</td>\n",
              "      <td>-0.4</td>\n",
              "    </tr>\n",
              "    <tr>\n",
              "      <th>2</th>\n",
              "      <td>1960</td>\n",
              "      <td>Nixon</td>\n",
              "      <td>Kennedy</td>\n",
              "      <td>49.91</td>\n",
              "      <td>0.85</td>\n",
              "      <td>0</td>\n",
              "      <td>0.351</td>\n",
              "      <td>5.38</td>\n",
              "      <td>3274.029</td>\n",
              "      <td>2.0</td>\n",
              "    </tr>\n",
              "    <tr>\n",
              "      <th>3</th>\n",
              "      <td>1964</td>\n",
              "      <td>Johnson</td>\n",
              "      <td>Goldwater</td>\n",
              "      <td>61.34</td>\n",
              "      <td>4.21</td>\n",
              "      <td>1</td>\n",
              "      <td>0.570</td>\n",
              "      <td>5.21</td>\n",
              "      <td>3954.121</td>\n",
              "      <td>6.4</td>\n",
              "    </tr>\n",
              "    <tr>\n",
              "      <th>4</th>\n",
              "      <td>1968</td>\n",
              "      <td>Humphrey</td>\n",
              "      <td>Nixon</td>\n",
              "      <td>49.60</td>\n",
              "      <td>3.02</td>\n",
              "      <td>146</td>\n",
              "      <td>0.430</td>\n",
              "      <td>3.59</td>\n",
              "      <td>4825.799</td>\n",
              "      <td>3.1</td>\n",
              "    </tr>\n",
              "  </tbody>\n",
              "</table>\n",
              "</div>"
            ],
            "text/plain": [
              "   Year Incumbent Party Candidate  ...    GDP Q3  GDP Change Q3\n",
              "0  1952                 Stevenson  ...  2564.401            2.9\n",
              "1  1956                Eisenhower  ...  2925.035           -0.4\n",
              "2  1960                     Nixon  ...  3274.029            2.0\n",
              "3  1964                   Johnson  ...  3954.121            6.4\n",
              "4  1968                  Humphrey  ...  4825.799            3.1\n",
              "\n",
              "[5 rows x 10 columns]"
            ]
          },
          "metadata": {
            "tags": []
          },
          "execution_count": 11
        }
      ]
    },
    {
      "cell_type": "code",
      "metadata": {
        "id": "nYLHtsbs3mOB",
        "colab_type": "code",
        "colab": {}
      },
      "source": [
        "df['True Incumbent'] = ((df['Incumbent Party Candidate'] == df['Incumbent Party Candidate'].shift(1)) | \n",
        "                        (df['Incumbent Party Candidate'] == df['Other Candidate'].shift(1)))\n",
        "df['True Incumbent'] = df['True Incumbent'].astype(int)"
      ],
      "execution_count": 0,
      "outputs": []
    },
    {
      "cell_type": "code",
      "metadata": {
        "id": "S319frWG3qmE",
        "colab_type": "code",
        "colab": {
          "base_uri": "https://localhost:8080/",
          "height": 309
        },
        "outputId": "b1da3d70-1530-4804-aff7-fccde5ade684"
      },
      "source": [
        "df.head()"
      ],
      "execution_count": 13,
      "outputs": [
        {
          "output_type": "execute_result",
          "data": {
            "text/html": [
              "<div>\n",
              "<style scoped>\n",
              "    .dataframe tbody tr th:only-of-type {\n",
              "        vertical-align: middle;\n",
              "    }\n",
              "\n",
              "    .dataframe tbody tr th {\n",
              "        vertical-align: top;\n",
              "    }\n",
              "\n",
              "    .dataframe thead th {\n",
              "        text-align: right;\n",
              "    }\n",
              "</style>\n",
              "<table border=\"1\" class=\"dataframe\">\n",
              "  <thead>\n",
              "    <tr style=\"text-align: right;\">\n",
              "      <th></th>\n",
              "      <th>Year</th>\n",
              "      <th>Incumbent Party Candidate</th>\n",
              "      <th>Other Candidate</th>\n",
              "      <th>Incumbent Party Vote Share</th>\n",
              "      <th>Average Recent Growth in Personal Incomes</th>\n",
              "      <th>US Military Fatalities per Million</th>\n",
              "      <th>Incumbent Party Congressional Representation</th>\n",
              "      <th>Unemployment Rate</th>\n",
              "      <th>GDP Q3</th>\n",
              "      <th>GDP Change Q3</th>\n",
              "      <th>True Incumbent</th>\n",
              "    </tr>\n",
              "  </thead>\n",
              "  <tbody>\n",
              "    <tr>\n",
              "      <th>0</th>\n",
              "      <td>1952</td>\n",
              "      <td>Stevenson</td>\n",
              "      <td>Eisenhower</td>\n",
              "      <td>44.60</td>\n",
              "      <td>2.40</td>\n",
              "      <td>190</td>\n",
              "      <td>0.540</td>\n",
              "      <td>3.08</td>\n",
              "      <td>2564.401</td>\n",
              "      <td>2.9</td>\n",
              "      <td>0</td>\n",
              "    </tr>\n",
              "    <tr>\n",
              "      <th>1</th>\n",
              "      <td>1956</td>\n",
              "      <td>Eisenhower</td>\n",
              "      <td>Stevenson</td>\n",
              "      <td>57.76</td>\n",
              "      <td>2.89</td>\n",
              "      <td>0</td>\n",
              "      <td>0.467</td>\n",
              "      <td>4.10</td>\n",
              "      <td>2925.035</td>\n",
              "      <td>-0.4</td>\n",
              "      <td>1</td>\n",
              "    </tr>\n",
              "    <tr>\n",
              "      <th>2</th>\n",
              "      <td>1960</td>\n",
              "      <td>Nixon</td>\n",
              "      <td>Kennedy</td>\n",
              "      <td>49.91</td>\n",
              "      <td>0.85</td>\n",
              "      <td>0</td>\n",
              "      <td>0.351</td>\n",
              "      <td>5.38</td>\n",
              "      <td>3274.029</td>\n",
              "      <td>2.0</td>\n",
              "      <td>0</td>\n",
              "    </tr>\n",
              "    <tr>\n",
              "      <th>3</th>\n",
              "      <td>1964</td>\n",
              "      <td>Johnson</td>\n",
              "      <td>Goldwater</td>\n",
              "      <td>61.34</td>\n",
              "      <td>4.21</td>\n",
              "      <td>1</td>\n",
              "      <td>0.570</td>\n",
              "      <td>5.21</td>\n",
              "      <td>3954.121</td>\n",
              "      <td>6.4</td>\n",
              "      <td>0</td>\n",
              "    </tr>\n",
              "    <tr>\n",
              "      <th>4</th>\n",
              "      <td>1968</td>\n",
              "      <td>Humphrey</td>\n",
              "      <td>Nixon</td>\n",
              "      <td>49.60</td>\n",
              "      <td>3.02</td>\n",
              "      <td>146</td>\n",
              "      <td>0.430</td>\n",
              "      <td>3.59</td>\n",
              "      <td>4825.799</td>\n",
              "      <td>3.1</td>\n",
              "      <td>0</td>\n",
              "    </tr>\n",
              "  </tbody>\n",
              "</table>\n",
              "</div>"
            ],
            "text/plain": [
              "   Year Incumbent Party Candidate  ... GDP Change Q3  True Incumbent\n",
              "0  1952                 Stevenson  ...           2.9               0\n",
              "1  1956                Eisenhower  ...          -0.4               1\n",
              "2  1960                     Nixon  ...           2.0               0\n",
              "3  1964                   Johnson  ...           6.4               0\n",
              "4  1968                  Humphrey  ...           3.1               0\n",
              "\n",
              "[5 rows x 11 columns]"
            ]
          },
          "metadata": {
            "tags": []
          },
          "execution_count": 13
        }
      ]
    },
    {
      "cell_type": "code",
      "metadata": {
        "id": "u2HdCBAj4MzP",
        "colab_type": "code",
        "colab": {}
      },
      "source": [
        "from sklearn.linear_model import LinearRegression"
      ],
      "execution_count": 0,
      "outputs": []
    },
    {
      "cell_type": "code",
      "metadata": {
        "id": "7LTUolwu4WAz",
        "colab_type": "code",
        "colab": {}
      },
      "source": [
        "model = LinearRegression()"
      ],
      "execution_count": 0,
      "outputs": []
    },
    {
      "cell_type": "code",
      "metadata": {
        "id": "FCLkPFKc4cK5",
        "colab_type": "code",
        "colab": {}
      },
      "source": [
        "features = ['Average Recent Growth in Personal Incomes', 'Incumbent Party Congressional Representation']\n",
        "target = 'Incumbent Party Vote Share'"
      ],
      "execution_count": 0,
      "outputs": []
    },
    {
      "cell_type": "code",
      "metadata": {
        "id": "BaAvgU7A4LTF",
        "colab_type": "code",
        "colab": {}
      },
      "source": [
        "train = df.query('Year < 2008')\n",
        "test  = df.query('Year >= 2008')\n",
        "X_train = train[features] \n",
        "y_train = train[target]\n",
        "X_test  = test[features]\n",
        "y_test  = test[target]"
      ],
      "execution_count": 0,
      "outputs": []
    },
    {
      "cell_type": "code",
      "metadata": {
        "id": "wAL8vIRc4mv2",
        "colab_type": "code",
        "colab": {
          "base_uri": "https://localhost:8080/",
          "height": 34
        },
        "outputId": "7f5b453f-b56c-426c-8c7e-8654183e77c2"
      },
      "source": [
        "model.fit(X_train, y_train)"
      ],
      "execution_count": 30,
      "outputs": [
        {
          "output_type": "execute_result",
          "data": {
            "text/plain": [
              "LinearRegression(copy_X=True, fit_intercept=True, n_jobs=None, normalize=False)"
            ]
          },
          "metadata": {
            "tags": []
          },
          "execution_count": 30
        }
      ]
    },
    {
      "cell_type": "code",
      "metadata": {
        "id": "IqXlGp1k4rWR",
        "colab_type": "code",
        "colab": {
          "base_uri": "https://localhost:8080/",
          "height": 34
        },
        "outputId": "fd4bed1f-d10e-4768-ea12-a668e39cd62c"
      },
      "source": [
        "y_pred = model.predict(X_test)\n",
        "\n",
        "y_pred"
      ],
      "execution_count": 31,
      "outputs": [
        {
          "output_type": "execute_result",
          "data": {
            "text/plain": [
              "array([46.08780013, 48.93523847, 46.33992835])"
            ]
          },
          "metadata": {
            "tags": []
          },
          "execution_count": 31
        }
      ]
    },
    {
      "cell_type": "code",
      "metadata": {
        "id": "4TcBY3EI4xRQ",
        "colab_type": "code",
        "colab": {
          "base_uri": "https://localhost:8080/",
          "height": 85
        },
        "outputId": "1a0d607c-8ff7-49c7-8969-897bf8519e13"
      },
      "source": [
        "\n",
        "y_test"
      ],
      "execution_count": 32,
      "outputs": [
        {
          "output_type": "execute_result",
          "data": {
            "text/plain": [
              "14    46.32\n",
              "15    52.00\n",
              "16    48.20\n",
              "Name: Incumbent Party Vote Share, dtype: float64"
            ]
          },
          "metadata": {
            "tags": []
          },
          "execution_count": 32
        }
      ]
    },
    {
      "cell_type": "code",
      "metadata": {
        "id": "CmGTZUfi7LN5",
        "colab_type": "code",
        "colab": {}
      },
      "source": [
        "from sklearn.metrics import mean_squared_error, mean_absolute_error, r2_score"
      ],
      "execution_count": 0,
      "outputs": []
    },
    {
      "cell_type": "code",
      "metadata": {
        "id": "RHItjqse7per",
        "colab_type": "code",
        "colab": {}
      },
      "source": [
        "import numpy as np"
      ],
      "execution_count": 0,
      "outputs": []
    },
    {
      "cell_type": "code",
      "metadata": {
        "id": "KKuODam37c5P",
        "colab_type": "code",
        "colab": {}
      },
      "source": [
        "mse = mean_squared_error(y_test, y_pred)"
      ],
      "execution_count": 0,
      "outputs": []
    },
    {
      "cell_type": "code",
      "metadata": {
        "id": "00r3BBf852QF",
        "colab_type": "code",
        "colab": {
          "base_uri": "https://localhost:8080/",
          "height": 85
        },
        "outputId": "c6a94cc9-5c15-4e8d-99ac-642fee74995c"
      },
      "source": [
        "rmse = np.sqrt(mse)\n",
        "mae = mean_absolute_error(y_test, y_pred)\n",
        "r2 = r2_score(y_test, y_pred)\n",
        "print('Mean Squared Error:', mse)\n",
        "print('Root Mean Squared Error:', rmse)\n",
        "print('Mean Absolute Error:', mae)\n",
        "print('R^2:', r2)"
      ],
      "execution_count": 47,
      "outputs": [
        {
          "output_type": "stream",
          "text": [
            "Mean Squared Error: 4.302182188676654\n",
            "Root Mean Squared Error: 2.0741702410064256\n",
            "Mean Absolute Error: 1.7190110175349933\n",
            "R^2: 0.2292574427891525\n"
          ],
          "name": "stdout"
        }
      ]
    }
  ]
}