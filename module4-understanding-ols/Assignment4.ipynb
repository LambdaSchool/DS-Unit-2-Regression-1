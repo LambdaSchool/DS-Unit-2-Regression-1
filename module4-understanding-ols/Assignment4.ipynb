{
 "cells": [
  {
   "cell_type": "code",
   "execution_count": 8,
   "metadata": {},
   "outputs": [],
   "source": [
    "import pandas as pd\n",
    "import requests as r\n",
    "from sklearn.linear_model import LinearRegression"
   ]
  },
  {
   "cell_type": "code",
   "execution_count": 2,
   "metadata": {},
   "outputs": [],
   "source": [
    "columns = ['Year','Incumbent Party Candidate','Other Candidate','Incumbent Party Vote Share']\n",
    "\n",
    "data = [[1952,\"Stevenson\",\"Eisenhower\",44.6],\n",
    "        [1956,\"Eisenhower\",\"Stevenson\",57.76],\n",
    "        [1960,\"Nixon\",\"Kennedy\",49.91],\n",
    "        [1964,\"Johnson\",\"Goldwater\",61.34],\n",
    "        [1968,\"Humphrey\",\"Nixon\",49.60],\n",
    "        [1972,\"Nixon\",\"McGovern\",61.79],\n",
    "        [1976,\"Ford\",\"Carter\",48.95],\n",
    "        [1980,\"Carter\",\"Reagan\",44.70],\n",
    "        [1984,\"Reagan\",\"Mondale\",59.17],\n",
    "        [1988,\"Bush, Sr.\",\"Dukakis\",53.94],\n",
    "        [1992,\"Bush, Sr.\",\"Clinton\",46.55],\n",
    "        [1996,\"Clinton\",\"Dole\",54.74],\n",
    "        [2000,\"Gore\",\"Bush, Jr.\",50.27],\n",
    "        [2004,\"Bush, Jr.\",\"Kerry\",51.24],\n",
    "        [2008,\"McCain\",\"Obama\",46.32],\n",
    "        [2012,\"Obama\",\"Romney\",52.00], \n",
    "        [2016,\"Clinton\",\"Trump\",48.2]]\n",
    "        \n",
    "votes = pd.DataFrame(data=data, columns=columns)"
   ]
  },
  {
   "cell_type": "code",
   "execution_count": 19,
   "metadata": {},
   "outputs": [],
   "source": [
    "url = 'https://fred.stlouisfed.org/graph/fredgraph.csv?bgcolor=%23e1e9f0&chart_type=line&drp=0&fo=open%20sans&graph_bgcolor=%23ffffff&height=450&mode=fred&recession_bars=on&txtcolor=%23444444&ts=12&tts=12&width=748&nt=0&thu=0&trc=0&show_legend=yes&show_axis_titles=yes&show_tooltip=yes&id=UNRATE&scale=left&cosd=1948-01-01&coed=2019-04-01&line_color=%234572a7&link_values=false&line_style=solid&mark_type=none&mw=3&lw=2&ost=-99999&oet=99999&mma=0&fml=a&fq=Monthly&fam=avg&fgst=lin&fgsnd=2009-06-01&line_index=1&transformation=lin&vintage_date=2019-05-29&revision_date=2019-05-29&nd=1948-01-01'\n",
    "\n",
    "\n",
    "employment = pd.read_csv(url)"
   ]
  },
  {
   "cell_type": "code",
   "execution_count": 79,
   "metadata": {},
   "outputs": [],
   "source": [
    "df = employment.set_index('DATE')\n",
    "years = []\n",
    "for elem in range(1948, 2017, 4):\n",
    "    years.append(str(elem))\n",
    "df['1948':'1952']\n",
    "unemployment_last4years = []\n",
    "for i in range(len(years)-1):\n",
    "    unemployment_last4years.append({'Year' : int(years[i+1]), 'avg_unemployment_past4years' :df[years[i]:years[i+1]].values.mean()})\n",
    "unemployment = pd.DataFrame(unemployment_last4years)"
   ]
  },
  {
   "cell_type": "code",
   "execution_count": 69,
   "metadata": {},
   "outputs": [],
   "source": [
    "columns = ['Year','Average Recent Growth in Personal Incomes']\n",
    "\n",
    "data = [[1952,2.40],\n",
    "        [1956,2.89],\n",
    "        [1960, .85],\n",
    "        [1964,4.21],\n",
    "        [1968,3.02],\n",
    "        [1972,3.62],\n",
    "        [1976,1.08],\n",
    "        [1980,-.39],\n",
    "        [1984,3.86],\n",
    "        [1988,2.27],\n",
    "        [1992, .38],\n",
    "        [1996,1.04],\n",
    "        [2000,2.36],\n",
    "        [2004,1.72],\n",
    "        [2008, .10],\n",
    "        [2012, .95], \n",
    "        [2016, .10]]\n",
    "        \n",
    "growth = pd.DataFrame(data=data, columns=columns)"
   ]
  },
  {
   "cell_type": "code",
   "execution_count": 71,
   "metadata": {},
   "outputs": [],
   "source": [
    "columns = ['Year','US Military Fatalities per Million']\n",
    "\n",
    "data = [[1952,190],\n",
    "        [1956,  0],\n",
    "        [1960,  0],\n",
    "        [1964,  1],\n",
    "        [1968,146],\n",
    "        [1972,  0],\n",
    "        [1976,  2],\n",
    "        [1980,  0],\n",
    "        [1984,  0],\n",
    "        [1988,  0],\n",
    "        [1992,  0],\n",
    "        [1996,  0],\n",
    "        [2000,  0],\n",
    "        [2004,  4],\n",
    "        [2008, 14],\n",
    "        [2012,  5], \n",
    "        [2016,  5]]\n",
    "        \n",
    "deaths = pd.DataFrame(data=data, columns=columns)"
   ]
  },
  {
   "cell_type": "code",
   "execution_count": 87,
   "metadata": {},
   "outputs": [
    {
     "data": {
      "text/plain": [
       "array(['Year', 'Incumbent Party Candidate', 'Other Candidate',\n",
       "       'Incumbent Party Vote Share',\n",
       "       'Average Recent Growth in Personal Incomes',\n",
       "       'US Military Fatalities per Million',\n",
       "       'avg_unemployment_past4years'], dtype=object)"
      ]
     },
     "execution_count": 87,
     "metadata": {},
     "output_type": "execute_result"
    }
   ],
   "source": [
    "votes.shape, growth.shape, deaths.shape, unemployment.shape\n",
    "votes.columns, growth.columns, deaths.columns, unemployment.columns\n",
    "\n",
    "df = votes.merge(growth).merge(deaths).merge(unemployment)\n",
    "df.columns.values"
   ]
  },
  {
   "cell_type": "code",
   "execution_count": 1,
   "metadata": {},
   "outputs": [
    {
     "name": "stdout",
     "output_type": "stream",
     "text": [
      "Leave-One-Out Cross-Validation, Do-It-Yourself implementation:\n"
     ]
    },
    {
     "ename": "NameError",
     "evalue": "name 'df' is not defined",
     "output_type": "error",
     "traceback": [
      "\u001b[0;31m---------------------------------------------------------------------------\u001b[0m",
      "\u001b[0;31mNameError\u001b[0m                                 Traceback (most recent call last)",
      "\u001b[0;32m<ipython-input-1-787863ca0075>\u001b[0m in \u001b[0;36m<module>\u001b[0;34m\u001b[0m\n\u001b[1;32m     11\u001b[0m \u001b[0mmaes\u001b[0m \u001b[0;34m=\u001b[0m \u001b[0;34m[\u001b[0m\u001b[0;34m]\u001b[0m\u001b[0;34m\u001b[0m\u001b[0;34m\u001b[0m\u001b[0m\n\u001b[1;32m     12\u001b[0m \u001b[0;34m\u001b[0m\u001b[0m\n\u001b[0;32m---> 13\u001b[0;31m \u001b[0;32mfor\u001b[0m \u001b[0myear\u001b[0m \u001b[0;32min\u001b[0m \u001b[0mdf\u001b[0m\u001b[0;34m[\u001b[0m\u001b[0;34m'Year'\u001b[0m\u001b[0;34m]\u001b[0m\u001b[0;34m:\u001b[0m\u001b[0;34m\u001b[0m\u001b[0;34m\u001b[0m\u001b[0m\n\u001b[0m\u001b[1;32m     14\u001b[0m     \u001b[0;31m#print(f'Fit Linear Regression on all years except {year}')\u001b[0m\u001b[0;34m\u001b[0m\u001b[0;34m\u001b[0m\u001b[0;34m\u001b[0m\u001b[0m\n\u001b[1;32m     15\u001b[0m \u001b[0;34m\u001b[0m\u001b[0m\n",
      "\u001b[0;31mNameError\u001b[0m: name 'df' is not defined"
     ]
    }
   ],
   "source": [
    "from sklearn.linear_model import LinearRegression\n",
    "from sklearn.metrics import mean_absolute_error, mean_squared_error, r2_score\n",
    "\n",
    "features = ['Average Recent Growth in Personal Incomes', \n",
    "            'avg_unemployment_past4years']\n",
    "\n",
    "target = 'Incumbent Party Vote Share'\n",
    "\n",
    "print('Leave-One-Out Cross-Validation, Do-It-Yourself implementation:')\n",
    "\n",
    "maes = []\n",
    "mses = []\n",
    "r2s = []\n",
    "rmses = []\n",
    "\n",
    "for year in df['Year']:\n",
    "    #print(f'Fit Linear Regression on all years except {year}')\n",
    "    \n",
    "    # Choose model hyperparamaters by instantiating this class\n",
    "    model = LinearRegression()\n",
    "    \n",
    "    # Arrange data into X features matrix and y target vector\n",
    "    train = df[df['Year'] != year]\n",
    "    test = df[df['Year'] == year]\n",
    "    X_train = train[features]\n",
    "    y_train = train[target]\n",
    "    X_test = test[features]\n",
    "    y_test = test[target]\n",
    "    \n",
    "    # Fit the model to your data by calling the fit() method of the estimator\n",
    "    model.fit(X_train, y_train)\n",
    "    \n",
    "    # Apply the model to new data: predict labels for unknown data using predict() method\n",
    "    y_pred = model.predict(X_test)\n",
    "    \n",
    "    mae = mean_absolute_error(y_test, y_pred)\n",
    "    r2 = r2_score(y_test, y_pred)\n",
    "    mse = mean_squared_error(y_test, y_pred)\n",
    "    maes.append(mae)\n",
    "    r2s.append(r2)\n",
    "    #print(f'Absolute Error on prediction for {year} = {mae}')\n",
    "    \n",
    "pd.Series(maes).values.mean()"
   ]
  },
  {
   "cell_type": "code",
   "execution_count": null,
   "metadata": {},
   "outputs": [],
   "source": []
  },
  {
   "cell_type": "code",
   "execution_count": null,
   "metadata": {},
   "outputs": [],
   "source": []
  }
 ],
 "metadata": {
  "kernelspec": {
   "display_name": "Python 3",
   "language": "python",
   "name": "python3"
  },
  "language_info": {
   "codemirror_mode": {
    "name": "ipython",
    "version": 3
   },
   "file_extension": ".py",
   "mimetype": "text/x-python",
   "name": "python",
   "nbconvert_exporter": "python",
   "pygments_lexer": "ipython3",
   "version": "3.7.3"
  }
 },
 "nbformat": 4,
 "nbformat_minor": 2
}
