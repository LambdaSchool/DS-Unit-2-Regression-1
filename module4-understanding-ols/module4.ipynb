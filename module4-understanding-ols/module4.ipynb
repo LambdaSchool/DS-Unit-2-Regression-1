{
 "cells": [
  {
   "cell_type": "markdown",
   "metadata": {},
   "source": [
    "- Fit a linear regression model with 2+ features of your choice. Get and plot the coefficients.\n",
    "- Use train-test split or leave-one-out cross-validation to get regression metrics: MSE, RMSE, MAE, R^2.\n",
    "- Visualize the plane of best fit in 3D, with 2 features.\n",
    "- Write a short, simple blog post about your elections model. (Or about your pageviews model, whichever you prefer!)\n",
    "- AWESOME BUT DIFFICULT STRETCH GOAL: In your 3D visualization, can you include the actual datapoints, like in this notebook? https://nbviewer.jupyter.org/urls/s3.amazonaws.com/datarobotblog/notebooks/multiple_regression_in_python.ipynb Can you also include the residual lines from the datapoints to the plane of the best fit, like in _An Introduction to Statistical Learning?_"
   ]
  },
  {
   "cell_type": "code",
   "execution_count": 1,
   "metadata": {},
   "outputs": [],
   "source": [
    "import pandas as pd\n",
    "import numpy as np\n",
    "pd.set_option('display.max_rows', 500)\n",
    "pd.set_option('display.max_columns', 500)\n",
    "pd.set_option('display.width', 1000)"
   ]
  },
  {
   "cell_type": "code",
   "execution_count": null,
   "metadata": {},
   "outputs": [],
   "source": [
    "columns = ['Year','Incumbent Party Candidate','Other Candidate','Incumbent Party Vote Share']\n",
    "\n",
    "data = [[1952,\"Stevenson\",\"Eisenhower\",44.6],\n",
    "        [1956,\"Eisenhower\",\"Stevenson\",57.76],\n",
    "        [1960,\"Nixon\",\"Kennedy\",49.91],\n",
    "        [1964,\"Johnson\",\"Goldwater\",61.34],\n",
    "        [1968,\"Humphrey\",\"Nixon\",49.60],\n",
    "        [1972,\"Nixon\",\"McGovern\",61.79],\n",
    "        [1976,\"Ford\",\"Carter\",48.95],\n",
    "        [1980,\"Carter\",\"Reagan\",44.70],\n",
    "        [1984,\"Reagan\",\"Mondale\",59.17],\n",
    "        [1988,\"Bush, Sr.\",\"Dukakis\",53.94],\n",
    "        [1992,\"Bush, Sr.\",\"Clinton\",46.55],\n",
    "        [1996,\"Clinton\",\"Dole\",54.74],\n",
    "        [2000,\"Gore\",\"Bush, Jr.\",50.27],\n",
    "        [2004,\"Bush, Jr.\",\"Kerry\",51.24],\n",
    "        [2008,\"McCain\",\"Obama\",46.32],\n",
    "        [2012,\"Obama\",\"Romney\",52.00], \n",
    "        [2016,\"Clinton\",\"Trump\",48.2]]\n",
    "        \n",
    "votes = pd.DataFrame(data=data, columns=columns)\n",
    "votes = votes.set_index('Year')\n",
    "gdp = pd.read_csv('gdp.csv')\n",
    "gdp = gdp.drop('Line', axis=1)\n",
    "gdp = gdp.rename({'Unnamed: 1': 'Year'}, axis=1)\n",
    "gdp = gdp.T\n",
    "gdp.columns = gdp.iloc[0]\n",
    "gdp = gdp.drop(['Year', '1947', '1948', '2017', '2018'], axis=0)\n",
    "gdp.index = gdp.index.astype('int64')\n",
    "election_year_gdp = gdp.loc[votes['Year']]\n",
    "df = pd.concat([votes, election_year_gdp], axis=1, join='outer')\n",
    "df.columns = df.columns.str.strip()\n",
    "df = df.drop(['Change in private inventories', 'Net exports of goods and services', 'Addendum:'], axis=1)\n",
    "cols = ['Incumbent Party Vote Share', 'Gross domestic product', 'Personal consumption expenditures', 'Goods', 'Durable goods', 'Nondurable goods', 'Services', 'Gross private domestic investment', 'Fixed investment', 'Nonresidential', 'Structures', 'Equipment', 'Intellectual property products', 'Residential', 'Exports', 'Goods', 'Services', 'Imports', 'Goods', 'Services', 'Government consumption expenditures and gross investment', 'Federal', 'National defense', 'Nondefense', 'State and local', 'Mean Baseline', 'Error', 'Absolute Error']\n",
    "for col in cols:\n",
    "    df[col] = df[col].apply(pd.to_numeric)\n",
    "df.head()\n",
    "nonfarm_payroll = pd.read_csv('non-farm-payroll-annual-change.csv', parse_dates=['DATE'])\n",
    "nonfarm_payroll = nonfarm_payroll.drop(nonfarm_payroll.tail(1).index)\n",
    "nonfarm_payroll = nonfarm_payroll.rename({\"DATE\": \"Year\", 'PAYEMS_PC1': 'pct_change'}, axis=1)\n",
    "nonfarm_payroll['pct_change'] = pd.to_numeric(nonfarm_payroll['pct_change'])\n",
    "years = nonfarm_payroll['Year'].dt.year\n",
    "nonfarm_payroll = nonfarm_payroll.set_index(years)\n",
    "nonfarm_payroll = nonfarm_payroll.drop('Year', axis=1)\n",
    "election_year_payroll = nonfarm_payroll.loc[votes.index.values]\n",
    "df = pd.concat([df, election_year_payroll], axis=1, join='outer')"
   ]
  }
 ],
 "metadata": {
  "kernelspec": {
   "display_name": "Python 3",
   "language": "python",
   "name": "python3"
  },
  "language_info": {
   "codemirror_mode": {
    "name": "ipython",
    "version": 3
   },
   "file_extension": ".py",
   "mimetype": "text/x-python",
   "name": "python",
   "nbconvert_exporter": "python",
   "pygments_lexer": "ipython3",
   "version": "3.7.3"
  }
 },
 "nbformat": 4,
 "nbformat_minor": 2
}
