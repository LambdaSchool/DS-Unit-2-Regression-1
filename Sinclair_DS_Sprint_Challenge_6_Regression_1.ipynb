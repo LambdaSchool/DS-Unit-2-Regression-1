{
 "cells": [
  {
   "cell_type": "markdown",
   "metadata": {},
   "source": [
    "_Lambda School Data Science, Unit 2_\n",
    " \n",
    "# Regression 1 Sprint Challenge\n",
    "\n",
    "Your Sprint Challenge has two parts.\n",
    "\n",
    "To demonstrate mastery on each part, do all the required, numbered instructions. \n",
    "\n",
    "To earn a score of \"3\" for the part, also do the stretch goals."
   ]
  },
  {
   "cell_type": "markdown",
   "metadata": {},
   "source": [
    "## Part 1. Predict avocado sales 🥑\n",
    "\n",
    "For part 1 of your challenge, you'll use historical data on avocado sales across the nation!\n",
    "\n",
    "Run this code cell to load the dataset. It has weekly sales volume (total number of avocados sold) from January 4, 2015 through March 25, 2018. The data comes directly from retailers' cash registers based on actual retail sales of Hass avocados in multiple US markets."
   ]
  },
  {
   "cell_type": "code",
   "execution_count": 1,
   "metadata": {},
   "outputs": [],
   "source": [
    "import pandas as pd\n",
    "avocado_url = 'https://drive.google.com/uc?export=download&id=1ljE-LhCA9CCFvSIJYJ1ewX8JmdDpfuhi'\n",
    "avocado = pd.read_csv(avocado_url)\n",
    "assert avocado.shape == (169, 2)"
   ]
  },
  {
   "cell_type": "markdown",
   "metadata": {},
   "source": [
    "### Required\n",
    "\n",
    "#### Use the Prophet library to:\n",
    "1. Fit a model and forecast avocado sales through March 25, 2020\n",
    "2. Plot the forecast\n",
    "3. Plot the forecast components\n",
    "4. Do time series cross-validation, with these parameters: `horizon='90 days', period='45 days', initial='730 days'`\n",
    "5. Plot the cross-validation Mean Absolute Percentage Error: `metric='mape'`\n",
    "\n",
    "_For Part 1 of this Sprint Challenge, you are **not** required to calculate or plot baselines, or do train/test split._\n",
    "\n",
    "You can be confident you've done it correctly when your plots look similar to these:\n",
    "\n",
    "<img src=\"https://i.imgur.com/PoyVGp7.png\" width=\"400\" align=\"left\">\n",
    "\n"
   ]
  },
  {
   "cell_type": "markdown",
   "metadata": {},
   "source": [
    "### Stretch Goal\n",
    "- Adjust your forecasts with Prophet's options for changepoints, holidays, and fourier order. Improve the cross-validation MAPE."
   ]
  },
  {
   "cell_type": "code",
   "execution_count": 10,
   "metadata": {},
   "outputs": [
    {
     "name": "stderr",
     "output_type": "stream",
     "text": [
      "ERROR:fbprophet:Importing plotly failed. Interactive plots will not work.\n"
     ]
    }
   ],
   "source": [
    "# import Prophet, manually re-register the matplotlib converters for pd.plotting\n",
    "from fbprophet import Prophet\n",
    "pd.plotting.register_matplotlib_converters()"
   ]
  },
  {
   "cell_type": "code",
   "execution_count": 4,
   "metadata": {},
   "outputs": [
    {
     "data": {
      "text/plain": [
       "Date            object\n",
       "Total Volume     int64\n",
       "dtype: object"
      ]
     },
     "execution_count": 4,
     "metadata": {},
     "output_type": "execute_result"
    }
   ],
   "source": [
    "avocado.dtypes"
   ]
  },
  {
   "cell_type": "code",
   "execution_count": 7,
   "metadata": {},
   "outputs": [],
   "source": [
    "# change dates to datetimes\n",
    "avocado['Date'] = pd.to_datetime(avocado['Date'])"
   ]
  },
  {
   "cell_type": "code",
   "execution_count": 9,
   "metadata": {},
   "outputs": [
    {
     "data": {
      "text/html": [
       "<div>\n",
       "<style scoped>\n",
       "    .dataframe tbody tr th:only-of-type {\n",
       "        vertical-align: middle;\n",
       "    }\n",
       "\n",
       "    .dataframe tbody tr th {\n",
       "        vertical-align: top;\n",
       "    }\n",
       "\n",
       "    .dataframe thead th {\n",
       "        text-align: right;\n",
       "    }\n",
       "</style>\n",
       "<table border=\"1\" class=\"dataframe\">\n",
       "  <thead>\n",
       "    <tr style=\"text-align: right;\">\n",
       "      <th></th>\n",
       "      <th>ds</th>\n",
       "      <th>y</th>\n",
       "    </tr>\n",
       "  </thead>\n",
       "  <tbody>\n",
       "    <tr>\n",
       "      <th>0</th>\n",
       "      <td>2015-01-04</td>\n",
       "      <td>84674288</td>\n",
       "    </tr>\n",
       "    <tr>\n",
       "      <th>1</th>\n",
       "      <td>2015-01-11</td>\n",
       "      <td>78555753</td>\n",
       "    </tr>\n",
       "    <tr>\n",
       "      <th>2</th>\n",
       "      <td>2015-01-18</td>\n",
       "      <td>78388735</td>\n",
       "    </tr>\n",
       "    <tr>\n",
       "      <th>3</th>\n",
       "      <td>2015-01-25</td>\n",
       "      <td>76466226</td>\n",
       "    </tr>\n",
       "    <tr>\n",
       "      <th>4</th>\n",
       "      <td>2015-02-01</td>\n",
       "      <td>119453181</td>\n",
       "    </tr>\n",
       "  </tbody>\n",
       "</table>\n",
       "</div>"
      ],
      "text/plain": [
       "          ds          y\n",
       "0 2015-01-04   84674288\n",
       "1 2015-01-11   78555753\n",
       "2 2015-01-18   78388735\n",
       "3 2015-01-25   76466226\n",
       "4 2015-02-01  119453181"
      ]
     },
     "execution_count": 9,
     "metadata": {},
     "output_type": "execute_result"
    }
   ],
   "source": [
    "# renaming the columns for use with Prophet\n",
    "avocado = avocado.rename(columns={'Date':'ds','Total Volume':'y'})\n",
    "avocado.head()"
   ]
  },
  {
   "cell_type": "code",
   "execution_count": 11,
   "metadata": {},
   "outputs": [
    {
     "name": "stderr",
     "output_type": "stream",
     "text": [
      "INFO:fbprophet:Disabling weekly seasonality. Run prophet with weekly_seasonality=True to override this.\n",
      "INFO:fbprophet:Disabling daily seasonality. Run prophet with daily_seasonality=True to override this.\n",
      "/Users/stephensinclair/anaconda3/lib/python3.7/site-packages/pystan/misc.py:399: FutureWarning: Conversion of the second argument of issubdtype from `float` to `np.floating` is deprecated. In future, it will be treated as `np.float64 == np.dtype(float).type`.\n",
      "  elif np.issubdtype(np.asarray(v).dtype, float):\n"
     ]
    },
    {
     "data": {
      "text/plain": [
       "<fbprophet.forecaster.Prophet at 0x1a2639b240>"
      ]
     },
     "execution_count": 11,
     "metadata": {},
     "output_type": "execute_result"
    }
   ],
   "source": [
    "# fit the model by instantiating a new Prophet object \n",
    "# call fit method and pass in dataframe\n",
    "\n",
    "m = Prophet()\n",
    "m.fit(avocado)"
   ]
  },
  {
   "cell_type": "code",
   "execution_count": 14,
   "metadata": {},
   "outputs": [
    {
     "data": {
      "text/html": [
       "<div>\n",
       "<style scoped>\n",
       "    .dataframe tbody tr th:only-of-type {\n",
       "        vertical-align: middle;\n",
       "    }\n",
       "\n",
       "    .dataframe tbody tr th {\n",
       "        vertical-align: top;\n",
       "    }\n",
       "\n",
       "    .dataframe thead th {\n",
       "        text-align: right;\n",
       "    }\n",
       "</style>\n",
       "<table border=\"1\" class=\"dataframe\">\n",
       "  <thead>\n",
       "    <tr style=\"text-align: right;\">\n",
       "      <th></th>\n",
       "      <th>ds</th>\n",
       "    </tr>\n",
       "  </thead>\n",
       "  <tbody>\n",
       "    <tr>\n",
       "      <th>895</th>\n",
       "      <td>2020-03-21</td>\n",
       "    </tr>\n",
       "    <tr>\n",
       "      <th>896</th>\n",
       "      <td>2020-03-22</td>\n",
       "    </tr>\n",
       "    <tr>\n",
       "      <th>897</th>\n",
       "      <td>2020-03-23</td>\n",
       "    </tr>\n",
       "    <tr>\n",
       "      <th>898</th>\n",
       "      <td>2020-03-24</td>\n",
       "    </tr>\n",
       "    <tr>\n",
       "      <th>899</th>\n",
       "      <td>2020-03-25</td>\n",
       "    </tr>\n",
       "  </tbody>\n",
       "</table>\n",
       "</div>"
      ],
      "text/plain": [
       "            ds\n",
       "895 2020-03-21\n",
       "896 2020-03-22\n",
       "897 2020-03-23\n",
       "898 2020-03-24\n",
       "899 2020-03-25"
      ]
     },
     "execution_count": 14,
     "metadata": {},
     "output_type": "execute_result"
    }
   ],
   "source": [
    "# use helper method to get dataframe that extends into the future\n",
    "# default includes dates from the history\n",
    "\n",
    "future = m.make_future_dataframe(periods=731)\n",
    "future.tail()"
   ]
  },
  {
   "cell_type": "code",
   "execution_count": 15,
   "metadata": {},
   "outputs": [
    {
     "data": {
      "text/html": [
       "<div>\n",
       "<style scoped>\n",
       "    .dataframe tbody tr th:only-of-type {\n",
       "        vertical-align: middle;\n",
       "    }\n",
       "\n",
       "    .dataframe tbody tr th {\n",
       "        vertical-align: top;\n",
       "    }\n",
       "\n",
       "    .dataframe thead th {\n",
       "        text-align: right;\n",
       "    }\n",
       "</style>\n",
       "<table border=\"1\" class=\"dataframe\">\n",
       "  <thead>\n",
       "    <tr style=\"text-align: right;\">\n",
       "      <th></th>\n",
       "      <th>ds</th>\n",
       "      <th>trend</th>\n",
       "      <th>yhat_lower</th>\n",
       "      <th>yhat_upper</th>\n",
       "      <th>trend_lower</th>\n",
       "      <th>trend_upper</th>\n",
       "      <th>additive_terms</th>\n",
       "      <th>additive_terms_lower</th>\n",
       "      <th>additive_terms_upper</th>\n",
       "      <th>yearly</th>\n",
       "      <th>yearly_lower</th>\n",
       "      <th>yearly_upper</th>\n",
       "      <th>multiplicative_terms</th>\n",
       "      <th>multiplicative_terms_lower</th>\n",
       "      <th>multiplicative_terms_upper</th>\n",
       "      <th>yhat</th>\n",
       "    </tr>\n",
       "  </thead>\n",
       "  <tbody>\n",
       "    <tr>\n",
       "      <th>895</th>\n",
       "      <td>2020-03-21</td>\n",
       "      <td>1.074122e+08</td>\n",
       "      <td>1.033461e+08</td>\n",
       "      <td>1.283080e+08</td>\n",
       "      <td>1.054672e+08</td>\n",
       "      <td>1.094468e+08</td>\n",
       "      <td>8.224696e+06</td>\n",
       "      <td>8.224696e+06</td>\n",
       "      <td>8.224696e+06</td>\n",
       "      <td>8.224696e+06</td>\n",
       "      <td>8.224696e+06</td>\n",
       "      <td>8.224696e+06</td>\n",
       "      <td>0.0</td>\n",
       "      <td>0.0</td>\n",
       "      <td>0.0</td>\n",
       "      <td>1.156369e+08</td>\n",
       "    </tr>\n",
       "    <tr>\n",
       "      <th>896</th>\n",
       "      <td>2020-03-22</td>\n",
       "      <td>1.074242e+08</td>\n",
       "      <td>1.030596e+08</td>\n",
       "      <td>1.279518e+08</td>\n",
       "      <td>1.054749e+08</td>\n",
       "      <td>1.094620e+08</td>\n",
       "      <td>7.863338e+06</td>\n",
       "      <td>7.863338e+06</td>\n",
       "      <td>7.863338e+06</td>\n",
       "      <td>7.863338e+06</td>\n",
       "      <td>7.863338e+06</td>\n",
       "      <td>7.863338e+06</td>\n",
       "      <td>0.0</td>\n",
       "      <td>0.0</td>\n",
       "      <td>0.0</td>\n",
       "      <td>1.152875e+08</td>\n",
       "    </tr>\n",
       "    <tr>\n",
       "      <th>897</th>\n",
       "      <td>2020-03-23</td>\n",
       "      <td>1.074362e+08</td>\n",
       "      <td>1.022969e+08</td>\n",
       "      <td>1.278449e+08</td>\n",
       "      <td>1.054827e+08</td>\n",
       "      <td>1.094770e+08</td>\n",
       "      <td>7.383126e+06</td>\n",
       "      <td>7.383126e+06</td>\n",
       "      <td>7.383126e+06</td>\n",
       "      <td>7.383126e+06</td>\n",
       "      <td>7.383126e+06</td>\n",
       "      <td>7.383126e+06</td>\n",
       "      <td>0.0</td>\n",
       "      <td>0.0</td>\n",
       "      <td>0.0</td>\n",
       "      <td>1.148193e+08</td>\n",
       "    </tr>\n",
       "    <tr>\n",
       "      <th>898</th>\n",
       "      <td>2020-03-24</td>\n",
       "      <td>1.074482e+08</td>\n",
       "      <td>1.013921e+08</td>\n",
       "      <td>1.269441e+08</td>\n",
       "      <td>1.054907e+08</td>\n",
       "      <td>1.094920e+08</td>\n",
       "      <td>6.797260e+06</td>\n",
       "      <td>6.797260e+06</td>\n",
       "      <td>6.797260e+06</td>\n",
       "      <td>6.797260e+06</td>\n",
       "      <td>6.797260e+06</td>\n",
       "      <td>6.797260e+06</td>\n",
       "      <td>0.0</td>\n",
       "      <td>0.0</td>\n",
       "      <td>0.0</td>\n",
       "      <td>1.142454e+08</td>\n",
       "    </tr>\n",
       "    <tr>\n",
       "      <th>899</th>\n",
       "      <td>2020-03-25</td>\n",
       "      <td>1.074602e+08</td>\n",
       "      <td>1.006138e+08</td>\n",
       "      <td>1.253916e+08</td>\n",
       "      <td>1.054989e+08</td>\n",
       "      <td>1.095071e+08</td>\n",
       "      <td>6.121888e+06</td>\n",
       "      <td>6.121888e+06</td>\n",
       "      <td>6.121888e+06</td>\n",
       "      <td>6.121888e+06</td>\n",
       "      <td>6.121888e+06</td>\n",
       "      <td>6.121888e+06</td>\n",
       "      <td>0.0</td>\n",
       "      <td>0.0</td>\n",
       "      <td>0.0</td>\n",
       "      <td>1.135820e+08</td>\n",
       "    </tr>\n",
       "  </tbody>\n",
       "</table>\n",
       "</div>"
      ],
      "text/plain": [
       "            ds         trend    yhat_lower    yhat_upper   trend_lower  \\\n",
       "895 2020-03-21  1.074122e+08  1.033461e+08  1.283080e+08  1.054672e+08   \n",
       "896 2020-03-22  1.074242e+08  1.030596e+08  1.279518e+08  1.054749e+08   \n",
       "897 2020-03-23  1.074362e+08  1.022969e+08  1.278449e+08  1.054827e+08   \n",
       "898 2020-03-24  1.074482e+08  1.013921e+08  1.269441e+08  1.054907e+08   \n",
       "899 2020-03-25  1.074602e+08  1.006138e+08  1.253916e+08  1.054989e+08   \n",
       "\n",
       "      trend_upper  additive_terms  additive_terms_lower  additive_terms_upper  \\\n",
       "895  1.094468e+08    8.224696e+06          8.224696e+06          8.224696e+06   \n",
       "896  1.094620e+08    7.863338e+06          7.863338e+06          7.863338e+06   \n",
       "897  1.094770e+08    7.383126e+06          7.383126e+06          7.383126e+06   \n",
       "898  1.094920e+08    6.797260e+06          6.797260e+06          6.797260e+06   \n",
       "899  1.095071e+08    6.121888e+06          6.121888e+06          6.121888e+06   \n",
       "\n",
       "           yearly  yearly_lower  yearly_upper  multiplicative_terms  \\\n",
       "895  8.224696e+06  8.224696e+06  8.224696e+06                   0.0   \n",
       "896  7.863338e+06  7.863338e+06  7.863338e+06                   0.0   \n",
       "897  7.383126e+06  7.383126e+06  7.383126e+06                   0.0   \n",
       "898  6.797260e+06  6.797260e+06  6.797260e+06                   0.0   \n",
       "899  6.121888e+06  6.121888e+06  6.121888e+06                   0.0   \n",
       "\n",
       "     multiplicative_terms_lower  multiplicative_terms_upper          yhat  \n",
       "895                         0.0                         0.0  1.156369e+08  \n",
       "896                         0.0                         0.0  1.152875e+08  \n",
       "897                         0.0                         0.0  1.148193e+08  \n",
       "898                         0.0                         0.0  1.142454e+08  \n",
       "899                         0.0                         0.0  1.135820e+08  "
      ]
     },
     "execution_count": 15,
     "metadata": {},
     "output_type": "execute_result"
    }
   ],
   "source": [
    "# predict method assigns a predicted value for each row\n",
    "# forecast is a dataframe\n",
    "\n",
    "forecast = m.predict(future)\n",
    "forecast.tail()"
   ]
  },
  {
   "cell_type": "code",
   "execution_count": 19,
   "metadata": {},
   "outputs": [
    {
     "data": {
      "image/png": "[encoded data removed]",
      "text/plain": [
       "<Figure size 720x432 with 1 Axes>"
      ]
     },
     "metadata": {},
     "output_type": "display_data"
    }
   ],
   "source": [
    "# call Prophet.plot method and pass forecast dataframe\n",
    "\n",
    "fig1 = m.plot(forecast)"
   ]
  },
  {
   "cell_type": "code",
   "execution_count": 21,
   "metadata": {},
   "outputs": [
    {
     "data": {
      "image/png": "[encoded data removed]",
      "text/plain": [
       "<Figure size 648x432 with 2 Axes>"
      ]
     },
     "metadata": {},
     "output_type": "display_data"
    }
   ],
   "source": [
    "# plot forecast components with Prophet.plot_components method\n",
    "\n",
    "fig2 = m.plot_components(forecast)"
   ]
  },
  {
   "cell_type": "code",
   "execution_count": 31,
   "metadata": {},
   "outputs": [],
   "source": [
    "# Do time series cross-validation, with these parameters: horizon='90 days', period='45 days', initial='730 days'\n",
    "# imports \n",
    "from fbprophet.diagnostics import cross_validation\n",
    "from fbprophet.diagnostics import performance_metrics\n",
    "from fbprophet.plot import plot_cross_validation_metric"
   ]
  },
  {
   "cell_type": "code",
   "execution_count": 24,
   "metadata": {},
   "outputs": [
    {
     "name": "stderr",
     "output_type": "stream",
     "text": [
      "INFO:fbprophet:Making 8 forecasts with cutoffs between 2017-02-13 00:00:00 and 2017-12-25 00:00:00\n",
      "/Users/stephensinclair/anaconda3/lib/python3.7/site-packages/pystan/misc.py:399: FutureWarning: Conversion of the second argument of issubdtype from `float` to `np.floating` is deprecated. In future, it will be treated as `np.float64 == np.dtype(float).type`.\n",
      "  elif np.issubdtype(np.asarray(v).dtype, float):\n",
      "/Users/stephensinclair/anaconda3/lib/python3.7/site-packages/pystan/misc.py:399: FutureWarning: Conversion of the second argument of issubdtype from `float` to `np.floating` is deprecated. In future, it will be treated as `np.float64 == np.dtype(float).type`.\n",
      "  elif np.issubdtype(np.asarray(v).dtype, float):\n",
      "/Users/stephensinclair/anaconda3/lib/python3.7/site-packages/pystan/misc.py:399: FutureWarning: Conversion of the second argument of issubdtype from `float` to `np.floating` is deprecated. In future, it will be treated as `np.float64 == np.dtype(float).type`.\n",
      "  elif np.issubdtype(np.asarray(v).dtype, float):\n",
      "/Users/stephensinclair/anaconda3/lib/python3.7/site-packages/pystan/misc.py:399: FutureWarning: Conversion of the second argument of issubdtype from `float` to `np.floating` is deprecated. In future, it will be treated as `np.float64 == np.dtype(float).type`.\n",
      "  elif np.issubdtype(np.asarray(v).dtype, float):\n",
      "/Users/stephensinclair/anaconda3/lib/python3.7/site-packages/pystan/misc.py:399: FutureWarning: Conversion of the second argument of issubdtype from `float` to `np.floating` is deprecated. In future, it will be treated as `np.float64 == np.dtype(float).type`.\n",
      "  elif np.issubdtype(np.asarray(v).dtype, float):\n",
      "/Users/stephensinclair/anaconda3/lib/python3.7/site-packages/pystan/misc.py:399: FutureWarning: Conversion of the second argument of issubdtype from `float` to `np.floating` is deprecated. In future, it will be treated as `np.float64 == np.dtype(float).type`.\n",
      "  elif np.issubdtype(np.asarray(v).dtype, float):\n",
      "/Users/stephensinclair/anaconda3/lib/python3.7/site-packages/pystan/misc.py:399: FutureWarning: Conversion of the second argument of issubdtype from `float` to `np.floating` is deprecated. In future, it will be treated as `np.float64 == np.dtype(float).type`.\n",
      "  elif np.issubdtype(np.asarray(v).dtype, float):\n",
      "/Users/stephensinclair/anaconda3/lib/python3.7/site-packages/pystan/misc.py:399: FutureWarning: Conversion of the second argument of issubdtype from `float` to `np.floating` is deprecated. In future, it will be treated as `np.float64 == np.dtype(float).type`.\n",
      "  elif np.issubdtype(np.asarray(v).dtype, float):\n"
     ]
    },
    {
     "data": {
      "text/html": [
       "<div>\n",
       "<style scoped>\n",
       "    .dataframe tbody tr th:only-of-type {\n",
       "        vertical-align: middle;\n",
       "    }\n",
       "\n",
       "    .dataframe tbody tr th {\n",
       "        vertical-align: top;\n",
       "    }\n",
       "\n",
       "    .dataframe thead th {\n",
       "        text-align: right;\n",
       "    }\n",
       "</style>\n",
       "<table border=\"1\" class=\"dataframe\">\n",
       "  <thead>\n",
       "    <tr style=\"text-align: right;\">\n",
       "      <th></th>\n",
       "      <th>ds</th>\n",
       "      <th>yhat</th>\n",
       "      <th>yhat_lower</th>\n",
       "      <th>yhat_upper</th>\n",
       "      <th>y</th>\n",
       "      <th>cutoff</th>\n",
       "    </tr>\n",
       "  </thead>\n",
       "  <tbody>\n",
       "    <tr>\n",
       "      <th>0</th>\n",
       "      <td>2017-02-19</td>\n",
       "      <td>1.074485e+08</td>\n",
       "      <td>9.611938e+07</td>\n",
       "      <td>1.182779e+08</td>\n",
       "      <td>93821369</td>\n",
       "      <td>2017-02-13</td>\n",
       "    </tr>\n",
       "    <tr>\n",
       "      <th>1</th>\n",
       "      <td>2017-02-26</td>\n",
       "      <td>9.893847e+07</td>\n",
       "      <td>8.773274e+07</td>\n",
       "      <td>1.103022e+08</td>\n",
       "      <td>101447375</td>\n",
       "      <td>2017-02-13</td>\n",
       "    </tr>\n",
       "    <tr>\n",
       "      <th>2</th>\n",
       "      <td>2017-03-05</td>\n",
       "      <td>9.916884e+07</td>\n",
       "      <td>8.728287e+07</td>\n",
       "      <td>1.109161e+08</td>\n",
       "      <td>93528247</td>\n",
       "      <td>2017-02-13</td>\n",
       "    </tr>\n",
       "    <tr>\n",
       "      <th>3</th>\n",
       "      <td>2017-03-12</td>\n",
       "      <td>1.051806e+08</td>\n",
       "      <td>9.380412e+07</td>\n",
       "      <td>1.162495e+08</td>\n",
       "      <td>88180047</td>\n",
       "      <td>2017-02-13</td>\n",
       "    </tr>\n",
       "    <tr>\n",
       "      <th>4</th>\n",
       "      <td>2017-03-19</td>\n",
       "      <td>1.088121e+08</td>\n",
       "      <td>9.738932e+07</td>\n",
       "      <td>1.200988e+08</td>\n",
       "      <td>86991403</td>\n",
       "      <td>2017-02-13</td>\n",
       "    </tr>\n",
       "  </tbody>\n",
       "</table>\n",
       "</div>"
      ],
      "text/plain": [
       "          ds          yhat    yhat_lower    yhat_upper          y     cutoff\n",
       "0 2017-02-19  1.074485e+08  9.611938e+07  1.182779e+08   93821369 2017-02-13\n",
       "1 2017-02-26  9.893847e+07  8.773274e+07  1.103022e+08  101447375 2017-02-13\n",
       "2 2017-03-05  9.916884e+07  8.728287e+07  1.109161e+08   93528247 2017-02-13\n",
       "3 2017-03-12  1.051806e+08  9.380412e+07  1.162495e+08   88180047 2017-02-13\n",
       "4 2017-03-19  1.088121e+08  9.738932e+07  1.200988e+08   86991403 2017-02-13"
      ]
     },
     "execution_count": 24,
     "metadata": {},
     "output_type": "execute_result"
    }
   ],
   "source": [
    "# use cross_validation to output a dataframe that can be used to compute error measures\n",
    "\n",
    "df_cv = cross_validation(m, horizon='90 days', period='45 days', initial='730 days')\n",
    "df_cv.head()"
   ]
  },
  {
   "cell_type": "code",
   "execution_count": 28,
   "metadata": {},
   "outputs": [
    {
     "data": {
      "text/html": [
       "<div>\n",
       "<style scoped>\n",
       "    .dataframe tbody tr th:only-of-type {\n",
       "        vertical-align: middle;\n",
       "    }\n",
       "\n",
       "    .dataframe tbody tr th {\n",
       "        vertical-align: top;\n",
       "    }\n",
       "\n",
       "    .dataframe thead th {\n",
       "        text-align: right;\n",
       "    }\n",
       "</style>\n",
       "<table border=\"1\" class=\"dataframe\">\n",
       "  <thead>\n",
       "    <tr style=\"text-align: right;\">\n",
       "      <th></th>\n",
       "      <th>horizon</th>\n",
       "      <th>mse</th>\n",
       "      <th>rmse</th>\n",
       "      <th>mae</th>\n",
       "      <th>mape</th>\n",
       "      <th>coverage</th>\n",
       "    </tr>\n",
       "  </thead>\n",
       "  <tbody>\n",
       "    <tr>\n",
       "      <th>0</th>\n",
       "      <td>9 days</td>\n",
       "      <td>1.160951e+14</td>\n",
       "      <td>1.077475e+07</td>\n",
       "      <td>9.057276e+06</td>\n",
       "      <td>0.102888</td>\n",
       "      <td>0.5</td>\n",
       "    </tr>\n",
       "    <tr>\n",
       "      <th>1</th>\n",
       "      <td>10 days</td>\n",
       "      <td>1.156367e+14</td>\n",
       "      <td>1.075345e+07</td>\n",
       "      <td>8.960854e+06</td>\n",
       "      <td>0.101672</td>\n",
       "      <td>0.5</td>\n",
       "    </tr>\n",
       "    <tr>\n",
       "      <th>2</th>\n",
       "      <td>11 days</td>\n",
       "      <td>8.989209e+13</td>\n",
       "      <td>9.481144e+06</td>\n",
       "      <td>7.981286e+06</td>\n",
       "      <td>0.088973</td>\n",
       "      <td>0.6</td>\n",
       "    </tr>\n",
       "    <tr>\n",
       "      <th>3</th>\n",
       "      <td>12 days</td>\n",
       "      <td>9.502117e+13</td>\n",
       "      <td>9.747880e+06</td>\n",
       "      <td>8.666280e+06</td>\n",
       "      <td>0.099210</td>\n",
       "      <td>0.6</td>\n",
       "    </tr>\n",
       "    <tr>\n",
       "      <th>4</th>\n",
       "      <td>13 days</td>\n",
       "      <td>9.555187e+13</td>\n",
       "      <td>9.775064e+06</td>\n",
       "      <td>8.875647e+06</td>\n",
       "      <td>0.097985</td>\n",
       "      <td>0.6</td>\n",
       "    </tr>\n",
       "  </tbody>\n",
       "</table>\n",
       "</div>"
      ],
      "text/plain": [
       "  horizon           mse          rmse           mae      mape  coverage\n",
       "0  9 days  1.160951e+14  1.077475e+07  9.057276e+06  0.102888       0.5\n",
       "1 10 days  1.156367e+14  1.075345e+07  8.960854e+06  0.101672       0.5\n",
       "2 11 days  8.989209e+13  9.481144e+06  7.981286e+06  0.088973       0.6\n",
       "3 12 days  9.502117e+13  9.747880e+06  8.666280e+06  0.099210       0.6\n",
       "4 13 days  9.555187e+13  9.775064e+06  8.875647e+06  0.097985       0.6"
      ]
     },
     "execution_count": 28,
     "metadata": {},
     "output_type": "execute_result"
    }
   ],
   "source": [
    "df_p = performance_metrics(df_cv)\n",
    "df_p.head()"
   ]
  },
  {
   "cell_type": "code",
   "execution_count": 32,
   "metadata": {},
   "outputs": [
    {
     "data": {
      "image/png": "[encoded data removed]",
      "text/plain": [
       "<Figure size 720x432 with 1 Axes>"
      ]
     },
     "metadata": {},
     "output_type": "display_data"
    }
   ],
   "source": [
    "fig = plot_cross_validation_metric(df_cv, metric='mape')"
   ]
  },
  {
   "cell_type": "markdown",
   "metadata": {},
   "source": [
    "## Part 2. Predict NYC apartment rent 🏠💸\n",
    "\n",
    "For part 1 of your challenge, you'll use a real-world data with rent prices for a subset of apartments in New York City!\n",
    "\n",
    "Run this code cell to load the dataset: "
   ]
  },
  {
   "cell_type": "code",
   "execution_count": 33,
   "metadata": {},
   "outputs": [],
   "source": [
    "rent_url = 'https://drive.google.com/uc?export=download&id=1lVVPmh-WYGb_0Gs_lOv22i02-150qDdZ'\n",
    "rent = pd.read_csv(rent_url)\n",
    "assert rent.shape == (48295, 7)"
   ]
  },
  {
   "cell_type": "markdown",
   "metadata": {},
   "source": [
    "### Required\n",
    "1. Begin with baselines for regression. Calculate the mean absolute error and $R^2$ score for a mean baseline. _(You can use the whole dataset, or a test set, either way is okay here!)_\n",
    "2. Do train/test split. Use data from April & May 2016 to train. Use data from June 2016 to test.\n",
    "3. Choose any two features.\n",
    "4. Use scikit-learn to fit a Linear Regression model on the train data.\n",
    "5. Apply the model to predict rent prices for the test data.\n",
    "6. Get regression metrics MAE and $R^2$ for the test data.\n",
    "7. Get the model's coefficients and intercept.\n",
    "\n",
    "### Stretch Goals\n",
    "- Try at least 3 different feature combinations. (You don't have to use two features, you can choose any number of features.)\n",
    "- Get regression metrics RMSE, MAE, and $R^2$, for both the train and test data."
   ]
  },
  {
   "cell_type": "code",
   "execution_count": 44,
   "metadata": {},
   "outputs": [
    {
     "data": {
      "text/html": [
       "<div>\n",
       "<style scoped>\n",
       "    .dataframe tbody tr th:only-of-type {\n",
       "        vertical-align: middle;\n",
       "    }\n",
       "\n",
       "    .dataframe tbody tr th {\n",
       "        vertical-align: top;\n",
       "    }\n",
       "\n",
       "    .dataframe thead th {\n",
       "        text-align: right;\n",
       "    }\n",
       "</style>\n",
       "<table border=\"1\" class=\"dataframe\">\n",
       "  <thead>\n",
       "    <tr style=\"text-align: right;\">\n",
       "      <th></th>\n",
       "      <th>year</th>\n",
       "      <th>month</th>\n",
       "      <th>bedrooms</th>\n",
       "      <th>bathrooms</th>\n",
       "      <th>latitude</th>\n",
       "      <th>longitude</th>\n",
       "      <th>price</th>\n",
       "    </tr>\n",
       "  </thead>\n",
       "  <tbody>\n",
       "    <tr>\n",
       "      <th>19430</th>\n",
       "      <td>2016</td>\n",
       "      <td>6</td>\n",
       "      <td>1</td>\n",
       "      <td>1.0</td>\n",
       "      <td>40.7984</td>\n",
       "      <td>-73.9632</td>\n",
       "      <td>1995</td>\n",
       "    </tr>\n",
       "    <tr>\n",
       "      <th>19429</th>\n",
       "      <td>2016</td>\n",
       "      <td>6</td>\n",
       "      <td>0</td>\n",
       "      <td>1.0</td>\n",
       "      <td>40.7565</td>\n",
       "      <td>-73.9690</td>\n",
       "      <td>2000</td>\n",
       "    </tr>\n",
       "    <tr>\n",
       "      <th>19428</th>\n",
       "      <td>2016</td>\n",
       "      <td>6</td>\n",
       "      <td>1</td>\n",
       "      <td>1.0</td>\n",
       "      <td>40.7431</td>\n",
       "      <td>-73.9792</td>\n",
       "      <td>3300</td>\n",
       "    </tr>\n",
       "    <tr>\n",
       "      <th>37113</th>\n",
       "      <td>2016</td>\n",
       "      <td>6</td>\n",
       "      <td>0</td>\n",
       "      <td>1.0</td>\n",
       "      <td>40.7590</td>\n",
       "      <td>-73.9691</td>\n",
       "      <td>2200</td>\n",
       "    </tr>\n",
       "    <tr>\n",
       "      <th>0</th>\n",
       "      <td>2016</td>\n",
       "      <td>6</td>\n",
       "      <td>3</td>\n",
       "      <td>1.5</td>\n",
       "      <td>40.7145</td>\n",
       "      <td>-73.9425</td>\n",
       "      <td>3000</td>\n",
       "    </tr>\n",
       "  </tbody>\n",
       "</table>\n",
       "</div>"
      ],
      "text/plain": [
       "       year  month  bedrooms  bathrooms  latitude  longitude  price\n",
       "19430  2016      6         1        1.0   40.7984   -73.9632   1995\n",
       "19429  2016      6         0        1.0   40.7565   -73.9690   2000\n",
       "19428  2016      6         1        1.0   40.7431   -73.9792   3300\n",
       "37113  2016      6         0        1.0   40.7590   -73.9691   2200\n",
       "0      2016      6         3        1.5   40.7145   -73.9425   3000"
      ]
     },
     "execution_count": 44,
     "metadata": {},
     "output_type": "execute_result"
    }
   ],
   "source": [
    "rent.sort_values('month').tail()"
   ]
  },
  {
   "cell_type": "code",
   "execution_count": 38,
   "metadata": {},
   "outputs": [
    {
     "data": {
      "text/plain": [
       "year           int64\n",
       "month          int64\n",
       "bedrooms       int64\n",
       "bathrooms    float64\n",
       "latitude     float64\n",
       "longitude    float64\n",
       "price          int64\n",
       "dtype: object"
      ]
     },
     "execution_count": 38,
     "metadata": {},
     "output_type": "execute_result"
    }
   ],
   "source": [
    "rent.dtypes"
   ]
  },
  {
   "cell_type": "code",
   "execution_count": 45,
   "metadata": {},
   "outputs": [
    {
     "data": {
      "text/plain": [
       "3438.052034372088"
      ]
     },
     "execution_count": 45,
     "metadata": {},
     "output_type": "execute_result"
    }
   ],
   "source": [
    "# mean baseline\n",
    "rent['price'].mean()"
   ]
  },
  {
   "cell_type": "code",
   "execution_count": 46,
   "metadata": {},
   "outputs": [],
   "source": [
    "rent['mean_baseline'] = rent['price'].mean()"
   ]
  },
  {
   "cell_type": "code",
   "execution_count": 47,
   "metadata": {},
   "outputs": [
    {
     "data": {
      "text/html": [
       "<div>\n",
       "<style scoped>\n",
       "    .dataframe tbody tr th:only-of-type {\n",
       "        vertical-align: middle;\n",
       "    }\n",
       "\n",
       "    .dataframe tbody tr th {\n",
       "        vertical-align: top;\n",
       "    }\n",
       "\n",
       "    .dataframe thead th {\n",
       "        text-align: right;\n",
       "    }\n",
       "</style>\n",
       "<table border=\"1\" class=\"dataframe\">\n",
       "  <thead>\n",
       "    <tr style=\"text-align: right;\">\n",
       "      <th></th>\n",
       "      <th>year</th>\n",
       "      <th>month</th>\n",
       "      <th>bedrooms</th>\n",
       "      <th>bathrooms</th>\n",
       "      <th>latitude</th>\n",
       "      <th>longitude</th>\n",
       "      <th>price</th>\n",
       "      <th>mean_baseline</th>\n",
       "    </tr>\n",
       "  </thead>\n",
       "  <tbody>\n",
       "    <tr>\n",
       "      <th>0</th>\n",
       "      <td>2016</td>\n",
       "      <td>6</td>\n",
       "      <td>3</td>\n",
       "      <td>1.5</td>\n",
       "      <td>40.7145</td>\n",
       "      <td>-73.9425</td>\n",
       "      <td>3000</td>\n",
       "      <td>3438.052034</td>\n",
       "    </tr>\n",
       "    <tr>\n",
       "      <th>1</th>\n",
       "      <td>2016</td>\n",
       "      <td>6</td>\n",
       "      <td>2</td>\n",
       "      <td>1.0</td>\n",
       "      <td>40.7947</td>\n",
       "      <td>-73.9667</td>\n",
       "      <td>5465</td>\n",
       "      <td>3438.052034</td>\n",
       "    </tr>\n",
       "    <tr>\n",
       "      <th>2</th>\n",
       "      <td>2016</td>\n",
       "      <td>4</td>\n",
       "      <td>1</td>\n",
       "      <td>1.0</td>\n",
       "      <td>40.7388</td>\n",
       "      <td>-74.0018</td>\n",
       "      <td>2850</td>\n",
       "      <td>3438.052034</td>\n",
       "    </tr>\n",
       "    <tr>\n",
       "      <th>3</th>\n",
       "      <td>2016</td>\n",
       "      <td>4</td>\n",
       "      <td>1</td>\n",
       "      <td>1.0</td>\n",
       "      <td>40.7539</td>\n",
       "      <td>-73.9677</td>\n",
       "      <td>3275</td>\n",
       "      <td>3438.052034</td>\n",
       "    </tr>\n",
       "    <tr>\n",
       "      <th>4</th>\n",
       "      <td>2016</td>\n",
       "      <td>4</td>\n",
       "      <td>4</td>\n",
       "      <td>1.0</td>\n",
       "      <td>40.8241</td>\n",
       "      <td>-73.9493</td>\n",
       "      <td>3350</td>\n",
       "      <td>3438.052034</td>\n",
       "    </tr>\n",
       "  </tbody>\n",
       "</table>\n",
       "</div>"
      ],
      "text/plain": [
       "   year  month  bedrooms  bathrooms  latitude  longitude  price  mean_baseline\n",
       "0  2016      6         3        1.5   40.7145   -73.9425   3000    3438.052034\n",
       "1  2016      6         2        1.0   40.7947   -73.9667   5465    3438.052034\n",
       "2  2016      4         1        1.0   40.7388   -74.0018   2850    3438.052034\n",
       "3  2016      4         1        1.0   40.7539   -73.9677   3275    3438.052034\n",
       "4  2016      4         4        1.0   40.8241   -73.9493   3350    3438.052034"
      ]
     },
     "execution_count": 47,
     "metadata": {},
     "output_type": "execute_result"
    }
   ],
   "source": [
    "rent.head()"
   ]
  },
  {
   "cell_type": "code",
   "execution_count": 49,
   "metadata": {},
   "outputs": [],
   "source": [
    "# sklearn imports\n",
    "from sklearn.metrics import mean_absolute_error\n",
    "from sklearn.metrics import r2_score"
   ]
  },
  {
   "cell_type": "code",
   "execution_count": 50,
   "metadata": {},
   "outputs": [
    {
     "name": "stdout",
     "output_type": "stream",
     "text": [
      "Mean absolute error for mean baseline: 1055.7857771080928\n",
      "R^2 score for mean baseline: 0.0\n"
     ]
    }
   ],
   "source": [
    "# Calculate the mean absolute error and  𝑅2 score for a mean baseline.\n",
    "\n",
    "# A constant model that always predicts the expected value of y, \n",
    "# disregarding the input features, would get a R^2 score of 0.0.\n",
    "\n",
    "mae = mean_absolute_error(rent['price'], rent['mean_baseline'])\n",
    "r2 = r2_score(rent['price'], rent['mean_baseline'])\n",
    "\n",
    "print(f'Mean absolute error for mean baseline: {mae}')\n",
    "print(f'R^2 score for mean baseline: {r2}')"
   ]
  },
  {
   "cell_type": "code",
   "execution_count": 51,
   "metadata": {},
   "outputs": [
    {
     "data": {
      "text/plain": [
       "4    16061\n",
       "5    15451\n",
       "Name: month, dtype: int64"
      ]
     },
     "execution_count": 51,
     "metadata": {},
     "output_type": "execute_result"
    }
   ],
   "source": [
    "# train/test split\n",
    "# April and May in train, June in test\n",
    "\n",
    "train = rent[(rent['month']==4) | (rent['month']==5)]\n",
    "train['month'].value_counts()"
   ]
  },
  {
   "cell_type": "code",
   "execution_count": 52,
   "metadata": {},
   "outputs": [
    {
     "data": {
      "text/plain": [
       "6    16783\n",
       "Name: month, dtype: int64"
      ]
     },
     "execution_count": 52,
     "metadata": {},
     "output_type": "execute_result"
    }
   ],
   "source": [
    "test = rent[rent['month']==6]\n",
    "test['month'].value_counts()"
   ]
  },
  {
   "cell_type": "code",
   "execution_count": 53,
   "metadata": {},
   "outputs": [],
   "source": [
    "# I choose bedrooms and bathrooms as features\n",
    "\n",
    "# choose class of model\n",
    "\n",
    "from sklearn.linear_model import LinearRegression"
   ]
  },
  {
   "cell_type": "code",
   "execution_count": 54,
   "metadata": {},
   "outputs": [],
   "source": [
    "# instantiating the class with default hyperparameters\n",
    "\n",
    "model = LinearRegression()"
   ]
  },
  {
   "cell_type": "code",
   "execution_count": 55,
   "metadata": {},
   "outputs": [],
   "source": [
    "# Arrange data into feature matrix and target vector\n",
    "\n",
    "features = ['bedrooms', 'bathrooms']\n",
    "target = 'price'\n",
    "\n",
    "X_train = train[features]\n",
    "y_train = train[target]\n",
    "\n",
    "X_test = test[features]\n",
    "y_test = test[target]"
   ]
  },
  {
   "cell_type": "code",
   "execution_count": 56,
   "metadata": {},
   "outputs": [
    {
     "data": {
      "text/plain": [
       "LinearRegression(copy_X=True, fit_intercept=True, n_jobs=None,\n",
       "         normalize=False)"
      ]
     },
     "execution_count": 56,
     "metadata": {},
     "output_type": "execute_result"
    }
   ],
   "source": [
    "# Fit model to data by calling the fit() method of the model instance\n",
    "\n",
    "model.fit(X_train, y_train)"
   ]
  },
  {
   "cell_type": "code",
   "execution_count": 57,
   "metadata": {},
   "outputs": [],
   "source": [
    "# Apply model to data\n",
    "\n",
    "y_test_pred = model.predict(X_test)"
   ]
  },
  {
   "cell_type": "code",
   "execution_count": 65,
   "metadata": {},
   "outputs": [
    {
     "name": "stdout",
     "output_type": "stream",
     "text": [
      "Mean absolute error for model predictions on test data: 754.0733041489012\n",
      "R^2 score for model predictions on test data: 0.4613584851907728\n"
     ]
    }
   ],
   "source": [
    "mae = mean_absolute_error(y_test, y_test_pred)\n",
    "r2 = r2_score(y_test, y_test_pred)\n",
    "\n",
    "print(f'Mean absolute error for model predictions on test data: {mae}')\n",
    "print(f'R^2 score for model predictions on test data: {r2}')"
   ]
  },
  {
   "cell_type": "code",
   "execution_count": 67,
   "metadata": {},
   "outputs": [
    {
     "name": "stdout",
     "output_type": "stream",
     "text": [
      "Model coefficient: [ 420.5097168  1531.76264753]\n",
      "Model intercept: 994.306297505781\n"
     ]
    }
   ],
   "source": [
    "print(f'Model coefficient: {model.coef_}')\n",
    "print(f'Model intercept: {model.intercept_}')"
   ]
  },
  {
   "cell_type": "code",
   "execution_count": null,
   "metadata": {},
   "outputs": [],
   "source": []
  }
 ],
 "metadata": {
  "kernelspec": {
   "display_name": "Python 3",
   "language": "python",
   "name": "python3"
  },
  "language_info": {
   "codemirror_mode": {
    "name": "ipython",
    "version": 3
   },
   "file_extension": ".py",
   "mimetype": "text/x-python",
   "name": "python",
   "nbconvert_exporter": "python",
   "pygments_lexer": "ipython3",
   "version": "3.7.3"
  }
 },
 "nbformat": 4,
 "nbformat_minor": 2
}
