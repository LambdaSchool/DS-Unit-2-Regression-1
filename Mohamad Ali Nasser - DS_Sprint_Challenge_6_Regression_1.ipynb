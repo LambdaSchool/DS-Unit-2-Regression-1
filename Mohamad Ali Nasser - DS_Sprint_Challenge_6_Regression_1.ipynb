{
  "nbformat": 4,
  "nbformat_minor": 0,
  "metadata": {
    "colab": {
      "name": "DS_Sprint_Challenge_6_Regression_1.ipynb",
      "version": "0.3.2",
      "provenance": [],
      "include_colab_link": true
    },
    "language_info": {
      "codemirror_mode": {
        "name": "ipython",
        "version": 3
      },
      "file_extension": ".py",
      "mimetype": "text/x-python",
      "name": "python",
      "nbconvert_exporter": "python",
      "pygments_lexer": "ipython3",
      "version": "3.7.1"
    },
    "kernelspec": {
      "display_name": "Python 3",
      "language": "python",
      "name": "python3"
    }
  },
  "cells": [
    {
      "cell_type": "markdown",
      "metadata": {
        "id": "view-in-github",
        "colab_type": "text"
      },
      "source": [
        "<a href=\"https://colab.research.google.com/github/cartman12/DS-Unit-2-Regression-1/blob/master/Mohamad%20Ali%20Nasser%20-%20DS_Sprint_Challenge_6_Regression_1.ipynb\" target=\"_parent\"><img src=\"https://colab.research.google.com/assets/colab-badge.svg\" alt=\"Open In Colab\"/></a>"
      ]
    },
    {
      "cell_type": "markdown",
      "metadata": {
        "id": "fEjyQaw9aVr5",
        "colab_type": "text"
      },
      "source": [
        "_Lambda School Data Science, Unit 2_\n",
        " \n",
        "# Regression 1 Sprint Challenge\n",
        "\n",
        "Your Sprint Challenge has two parts.\n",
        "\n",
        "To demonstrate mastery on each part, do all the required, numbered instructions. \n",
        "\n",
        "To earn a score of \"3\" for the part, also do the stretch goals."
      ]
    },
    {
      "cell_type": "markdown",
      "metadata": {
        "id": "0ro4950zaVr6",
        "colab_type": "text"
      },
      "source": [
        "## Part 1. Predict avocado sales 🥑\n",
        "\n",
        "For part 1 of your challenge, you'll use historical data on avocado sales across the nation!\n",
        "\n",
        "Run this code cell to load the dataset. It has weekly sales volume (total number of avocados sold) from January 4, 2015 through March 25, 2018. The data comes directly from retailers' cash registers based on actual retail sales of Hass avocados in multiple US markets."
      ]
    },
    {
      "cell_type": "code",
      "metadata": {
        "id": "y46vE641aVr8",
        "colab_type": "code",
        "colab": {}
      },
      "source": [
        "import pandas as pd\n",
        "avocado_url = 'https://drive.google.com/uc?export=download&id=1ljE-LhCA9CCFvSIJYJ1ewX8JmdDpfuhi'\n",
        "avocado = pd.read_csv(avocado_url)\n",
        "assert avocado.shape == (169, 2)"
      ],
      "execution_count": 0,
      "outputs": []
    },
    {
      "cell_type": "markdown",
      "metadata": {
        "id": "NiT5lZLGaVsB",
        "colab_type": "text"
      },
      "source": [
        "### Required\n",
        "\n",
        "#### Use the Prophet library to:\n",
        "1. Fit a model and forecast avocado sales through March 25, 2020\n",
        "2. Plot the forecast\n",
        "3. Plot the forecast components\n",
        "4. Do time series cross-validation, with these parameters: `horizon='90 days', period='45 days', initial='730 days'`\n",
        "5. Plot the cross-validation Mean Absolute Percentage Error: `metric='mape'`\n",
        "\n",
        "_For Part 1 of this Sprint Challenge, you are **not** required to calculate or plot baselines, or do train/test split._\n",
        "\n",
        "You can be confident you've done it correctly when your plots look similar to these:\n",
        "\n",
        "<img src=\"https://i.imgur.com/PoyVGp7.png\" width=\"400\" align=\"left\">\n",
        "\n"
      ]
    },
    {
      "cell_type": "code",
      "metadata": {
        "id": "ThJMN1uKa3Ak",
        "colab_type": "code",
        "colab": {
          "base_uri": "https://localhost:8080/",
          "height": 204
        },
        "outputId": "5604d389-e700-4eec-bcd7-ee63d90f8dd3"
      },
      "source": [
        "avocado.tail()"
      ],
      "execution_count": 10,
      "outputs": [
        {
          "output_type": "execute_result",
          "data": {
            "text/html": [
              "<div>\n",
              "<style scoped>\n",
              "    .dataframe tbody tr th:only-of-type {\n",
              "        vertical-align: middle;\n",
              "    }\n",
              "\n",
              "    .dataframe tbody tr th {\n",
              "        vertical-align: top;\n",
              "    }\n",
              "\n",
              "    .dataframe thead th {\n",
              "        text-align: right;\n",
              "    }\n",
              "</style>\n",
              "<table border=\"1\" class=\"dataframe\">\n",
              "  <thead>\n",
              "    <tr style=\"text-align: right;\">\n",
              "      <th></th>\n",
              "      <th>ds</th>\n",
              "      <th>y</th>\n",
              "    </tr>\n",
              "  </thead>\n",
              "  <tbody>\n",
              "    <tr>\n",
              "      <th>164</th>\n",
              "      <td>2018-02-25</td>\n",
              "      <td>109231389</td>\n",
              "    </tr>\n",
              "    <tr>\n",
              "      <th>165</th>\n",
              "      <td>2018-03-04</td>\n",
              "      <td>111844876</td>\n",
              "    </tr>\n",
              "    <tr>\n",
              "      <th>166</th>\n",
              "      <td>2018-03-11</td>\n",
              "      <td>111465145</td>\n",
              "    </tr>\n",
              "    <tr>\n",
              "      <th>167</th>\n",
              "      <td>2018-03-18</td>\n",
              "      <td>113673928</td>\n",
              "    </tr>\n",
              "    <tr>\n",
              "      <th>168</th>\n",
              "      <td>2018-03-25</td>\n",
              "      <td>118268903</td>\n",
              "    </tr>\n",
              "  </tbody>\n",
              "</table>\n",
              "</div>"
            ],
            "text/plain": [
              "             ds          y\n",
              "164  2018-02-25  109231389\n",
              "165  2018-03-04  111844876\n",
              "166  2018-03-11  111465145\n",
              "167  2018-03-18  113673928\n",
              "168  2018-03-25  118268903"
            ]
          },
          "metadata": {
            "tags": []
          },
          "execution_count": 10
        }
      ]
    },
    {
      "cell_type": "code",
      "metadata": {
        "id": "NCqDOkGda9RZ",
        "colab_type": "code",
        "colab": {}
      },
      "source": [
        "avocado = avocado.rename(columns={'Date' : 'ds', 'Total Volume' : 'y'}) #Renaming"
      ],
      "execution_count": 0,
      "outputs": []
    },
    {
      "cell_type": "code",
      "metadata": {
        "id": "-y6-j53eamFf",
        "colab_type": "code",
        "colab": {}
      },
      "source": [
        "from fbprophet import Prophet"
      ],
      "execution_count": 0,
      "outputs": []
    },
    {
      "cell_type": "code",
      "metadata": {
        "id": "hHXE42dJayWz",
        "colab_type": "code",
        "colab": {
          "base_uri": "https://localhost:8080/",
          "height": 68
        },
        "outputId": "41bd260c-abec-4f31-f964-19fdb6ddfff2"
      },
      "source": [
        "#Fitting the Prophet model\n",
        "m = Prophet()\n",
        "m.fit(avocado)"
      ],
      "execution_count": 11,
      "outputs": [
        {
          "output_type": "stream",
          "text": [
            "INFO:fbprophet:Disabling weekly seasonality. Run prophet with weekly_seasonality=True to override this.\n",
            "INFO:fbprophet:Disabling daily seasonality. Run prophet with daily_seasonality=True to override this.\n"
          ],
          "name": "stderr"
        },
        {
          "output_type": "execute_result",
          "data": {
            "text/plain": [
              "<fbprophet.forecaster.Prophet at 0x7fd7559d22e8>"
            ]
          },
          "metadata": {
            "tags": []
          },
          "execution_count": 11
        }
      ]
    },
    {
      "cell_type": "code",
      "metadata": {
        "id": "yZkT88IdbeAR",
        "colab_type": "code",
        "colab": {}
      },
      "source": [
        "future = m.make_future_dataframe(periods = 730)\n",
        "forcast = m.predict(future)"
      ],
      "execution_count": 0,
      "outputs": []
    },
    {
      "cell_type": "code",
      "metadata": {
        "id": "gMIK0yrJbetM",
        "colab_type": "code",
        "colab": {
          "base_uri": "https://localhost:8080/",
          "height": 377
        },
        "outputId": "ee52515b-addb-4611-c8d5-f7cb70832a58"
      },
      "source": [
        "forcast.tail()"
      ],
      "execution_count": 118,
      "outputs": [
        {
          "output_type": "execute_result",
          "data": {
            "text/html": [
              "<div>\n",
              "<style scoped>\n",
              "    .dataframe tbody tr th:only-of-type {\n",
              "        vertical-align: middle;\n",
              "    }\n",
              "\n",
              "    .dataframe tbody tr th {\n",
              "        vertical-align: top;\n",
              "    }\n",
              "\n",
              "    .dataframe thead th {\n",
              "        text-align: right;\n",
              "    }\n",
              "</style>\n",
              "<table border=\"1\" class=\"dataframe\">\n",
              "  <thead>\n",
              "    <tr style=\"text-align: right;\">\n",
              "      <th></th>\n",
              "      <th>ds</th>\n",
              "      <th>trend</th>\n",
              "      <th>yhat_lower</th>\n",
              "      <th>yhat_upper</th>\n",
              "      <th>trend_lower</th>\n",
              "      <th>trend_upper</th>\n",
              "      <th>Christmas Day</th>\n",
              "      <th>Christmas Day_lower</th>\n",
              "      <th>Christmas Day_upper</th>\n",
              "      <th>Christmas Day (Observed)</th>\n",
              "      <th>Christmas Day (Observed)_lower</th>\n",
              "      <th>Christmas Day (Observed)_upper</th>\n",
              "      <th>Columbus Day</th>\n",
              "      <th>Columbus Day_lower</th>\n",
              "      <th>Columbus Day_upper</th>\n",
              "      <th>Independence Day</th>\n",
              "      <th>Independence Day_lower</th>\n",
              "      <th>Independence Day_upper</th>\n",
              "      <th>Independence Day (Observed)</th>\n",
              "      <th>Independence Day (Observed)_lower</th>\n",
              "      <th>Independence Day (Observed)_upper</th>\n",
              "      <th>Labor Day</th>\n",
              "      <th>Labor Day_lower</th>\n",
              "      <th>Labor Day_upper</th>\n",
              "      <th>Martin Luther King, Jr. Day</th>\n",
              "      <th>Martin Luther King, Jr. Day_lower</th>\n",
              "      <th>Martin Luther King, Jr. Day_upper</th>\n",
              "      <th>Memorial Day</th>\n",
              "      <th>Memorial Day_lower</th>\n",
              "      <th>Memorial Day_upper</th>\n",
              "      <th>New Year's Day</th>\n",
              "      <th>New Year's Day_lower</th>\n",
              "      <th>New Year's Day_upper</th>\n",
              "      <th>New Year's Day (Observed)</th>\n",
              "      <th>New Year's Day (Observed)_lower</th>\n",
              "      <th>New Year's Day (Observed)_upper</th>\n",
              "      <th>Thanksgiving</th>\n",
              "      <th>Thanksgiving_lower</th>\n",
              "      <th>Thanksgiving_upper</th>\n",
              "      <th>Veterans Day</th>\n",
              "      <th>Veterans Day_lower</th>\n",
              "      <th>Veterans Day_upper</th>\n",
              "      <th>Veterans Day (Observed)</th>\n",
              "      <th>Veterans Day (Observed)_lower</th>\n",
              "      <th>Veterans Day (Observed)_upper</th>\n",
              "      <th>Washington's Birthday</th>\n",
              "      <th>Washington's Birthday_lower</th>\n",
              "      <th>Washington's Birthday_upper</th>\n",
              "      <th>additive_terms</th>\n",
              "      <th>additive_terms_lower</th>\n",
              "      <th>additive_terms_upper</th>\n",
              "      <th>holidays</th>\n",
              "      <th>holidays_lower</th>\n",
              "      <th>holidays_upper</th>\n",
              "      <th>yearly</th>\n",
              "      <th>yearly_lower</th>\n",
              "      <th>yearly_upper</th>\n",
              "      <th>multiplicative_terms</th>\n",
              "      <th>multiplicative_terms_lower</th>\n",
              "      <th>multiplicative_terms_upper</th>\n",
              "      <th>yhat</th>\n",
              "    </tr>\n",
              "  </thead>\n",
              "  <tbody>\n",
              "    <tr>\n",
              "      <th>894</th>\n",
              "      <td>2020-03-20</td>\n",
              "      <td>1.726210e+08</td>\n",
              "      <td>1.461547e+08</td>\n",
              "      <td>2.043992e+08</td>\n",
              "      <td>1.488741e+08</td>\n",
              "      <td>1.997257e+08</td>\n",
              "      <td>0.0</td>\n",
              "      <td>0.0</td>\n",
              "      <td>0.0</td>\n",
              "      <td>0.0</td>\n",
              "      <td>0.0</td>\n",
              "      <td>0.0</td>\n",
              "      <td>0.0</td>\n",
              "      <td>0.0</td>\n",
              "      <td>0.0</td>\n",
              "      <td>0.0</td>\n",
              "      <td>0.0</td>\n",
              "      <td>0.0</td>\n",
              "      <td>0.0</td>\n",
              "      <td>0.0</td>\n",
              "      <td>0.0</td>\n",
              "      <td>0.0</td>\n",
              "      <td>0.0</td>\n",
              "      <td>0.0</td>\n",
              "      <td>0.0</td>\n",
              "      <td>0.0</td>\n",
              "      <td>0.0</td>\n",
              "      <td>0.0</td>\n",
              "      <td>0.0</td>\n",
              "      <td>0.0</td>\n",
              "      <td>0.0</td>\n",
              "      <td>0.0</td>\n",
              "      <td>0.0</td>\n",
              "      <td>0.0</td>\n",
              "      <td>0.0</td>\n",
              "      <td>0.0</td>\n",
              "      <td>0.0</td>\n",
              "      <td>0.0</td>\n",
              "      <td>0.0</td>\n",
              "      <td>0.0</td>\n",
              "      <td>0.0</td>\n",
              "      <td>0.0</td>\n",
              "      <td>0.0</td>\n",
              "      <td>0.0</td>\n",
              "      <td>0.0</td>\n",
              "      <td>0.0</td>\n",
              "      <td>0.0</td>\n",
              "      <td>0.0</td>\n",
              "      <td>1.366313e+06</td>\n",
              "      <td>1.366313e+06</td>\n",
              "      <td>1.366313e+06</td>\n",
              "      <td>0.0</td>\n",
              "      <td>0.0</td>\n",
              "      <td>0.0</td>\n",
              "      <td>1.366313e+06</td>\n",
              "      <td>1.366313e+06</td>\n",
              "      <td>1.366313e+06</td>\n",
              "      <td>0.0</td>\n",
              "      <td>0.0</td>\n",
              "      <td>0.0</td>\n",
              "      <td>1.739874e+08</td>\n",
              "    </tr>\n",
              "    <tr>\n",
              "      <th>895</th>\n",
              "      <td>2020-03-21</td>\n",
              "      <td>1.727090e+08</td>\n",
              "      <td>1.465660e+08</td>\n",
              "      <td>2.029633e+08</td>\n",
              "      <td>1.489235e+08</td>\n",
              "      <td>1.998645e+08</td>\n",
              "      <td>0.0</td>\n",
              "      <td>0.0</td>\n",
              "      <td>0.0</td>\n",
              "      <td>0.0</td>\n",
              "      <td>0.0</td>\n",
              "      <td>0.0</td>\n",
              "      <td>0.0</td>\n",
              "      <td>0.0</td>\n",
              "      <td>0.0</td>\n",
              "      <td>0.0</td>\n",
              "      <td>0.0</td>\n",
              "      <td>0.0</td>\n",
              "      <td>0.0</td>\n",
              "      <td>0.0</td>\n",
              "      <td>0.0</td>\n",
              "      <td>0.0</td>\n",
              "      <td>0.0</td>\n",
              "      <td>0.0</td>\n",
              "      <td>0.0</td>\n",
              "      <td>0.0</td>\n",
              "      <td>0.0</td>\n",
              "      <td>0.0</td>\n",
              "      <td>0.0</td>\n",
              "      <td>0.0</td>\n",
              "      <td>0.0</td>\n",
              "      <td>0.0</td>\n",
              "      <td>0.0</td>\n",
              "      <td>0.0</td>\n",
              "      <td>0.0</td>\n",
              "      <td>0.0</td>\n",
              "      <td>0.0</td>\n",
              "      <td>0.0</td>\n",
              "      <td>0.0</td>\n",
              "      <td>0.0</td>\n",
              "      <td>0.0</td>\n",
              "      <td>0.0</td>\n",
              "      <td>0.0</td>\n",
              "      <td>0.0</td>\n",
              "      <td>0.0</td>\n",
              "      <td>0.0</td>\n",
              "      <td>0.0</td>\n",
              "      <td>0.0</td>\n",
              "      <td>1.300963e+06</td>\n",
              "      <td>1.300963e+06</td>\n",
              "      <td>1.300963e+06</td>\n",
              "      <td>0.0</td>\n",
              "      <td>0.0</td>\n",
              "      <td>0.0</td>\n",
              "      <td>1.300963e+06</td>\n",
              "      <td>1.300963e+06</td>\n",
              "      <td>1.300963e+06</td>\n",
              "      <td>0.0</td>\n",
              "      <td>0.0</td>\n",
              "      <td>0.0</td>\n",
              "      <td>1.740100e+08</td>\n",
              "    </tr>\n",
              "    <tr>\n",
              "      <th>896</th>\n",
              "      <td>2020-03-22</td>\n",
              "      <td>1.727970e+08</td>\n",
              "      <td>1.469723e+08</td>\n",
              "      <td>2.048673e+08</td>\n",
              "      <td>1.489385e+08</td>\n",
              "      <td>2.000034e+08</td>\n",
              "      <td>0.0</td>\n",
              "      <td>0.0</td>\n",
              "      <td>0.0</td>\n",
              "      <td>0.0</td>\n",
              "      <td>0.0</td>\n",
              "      <td>0.0</td>\n",
              "      <td>0.0</td>\n",
              "      <td>0.0</td>\n",
              "      <td>0.0</td>\n",
              "      <td>0.0</td>\n",
              "      <td>0.0</td>\n",
              "      <td>0.0</td>\n",
              "      <td>0.0</td>\n",
              "      <td>0.0</td>\n",
              "      <td>0.0</td>\n",
              "      <td>0.0</td>\n",
              "      <td>0.0</td>\n",
              "      <td>0.0</td>\n",
              "      <td>0.0</td>\n",
              "      <td>0.0</td>\n",
              "      <td>0.0</td>\n",
              "      <td>0.0</td>\n",
              "      <td>0.0</td>\n",
              "      <td>0.0</td>\n",
              "      <td>0.0</td>\n",
              "      <td>0.0</td>\n",
              "      <td>0.0</td>\n",
              "      <td>0.0</td>\n",
              "      <td>0.0</td>\n",
              "      <td>0.0</td>\n",
              "      <td>0.0</td>\n",
              "      <td>0.0</td>\n",
              "      <td>0.0</td>\n",
              "      <td>0.0</td>\n",
              "      <td>0.0</td>\n",
              "      <td>0.0</td>\n",
              "      <td>0.0</td>\n",
              "      <td>0.0</td>\n",
              "      <td>0.0</td>\n",
              "      <td>0.0</td>\n",
              "      <td>0.0</td>\n",
              "      <td>0.0</td>\n",
              "      <td>1.267365e+06</td>\n",
              "      <td>1.267365e+06</td>\n",
              "      <td>1.267365e+06</td>\n",
              "      <td>0.0</td>\n",
              "      <td>0.0</td>\n",
              "      <td>0.0</td>\n",
              "      <td>1.267365e+06</td>\n",
              "      <td>1.267365e+06</td>\n",
              "      <td>1.267365e+06</td>\n",
              "      <td>0.0</td>\n",
              "      <td>0.0</td>\n",
              "      <td>0.0</td>\n",
              "      <td>1.740643e+08</td>\n",
              "    </tr>\n",
              "    <tr>\n",
              "      <th>897</th>\n",
              "      <td>2020-03-23</td>\n",
              "      <td>1.728849e+08</td>\n",
              "      <td>1.465304e+08</td>\n",
              "      <td>2.047937e+08</td>\n",
              "      <td>1.489345e+08</td>\n",
              "      <td>2.001422e+08</td>\n",
              "      <td>0.0</td>\n",
              "      <td>0.0</td>\n",
              "      <td>0.0</td>\n",
              "      <td>0.0</td>\n",
              "      <td>0.0</td>\n",
              "      <td>0.0</td>\n",
              "      <td>0.0</td>\n",
              "      <td>0.0</td>\n",
              "      <td>0.0</td>\n",
              "      <td>0.0</td>\n",
              "      <td>0.0</td>\n",
              "      <td>0.0</td>\n",
              "      <td>0.0</td>\n",
              "      <td>0.0</td>\n",
              "      <td>0.0</td>\n",
              "      <td>0.0</td>\n",
              "      <td>0.0</td>\n",
              "      <td>0.0</td>\n",
              "      <td>0.0</td>\n",
              "      <td>0.0</td>\n",
              "      <td>0.0</td>\n",
              "      <td>0.0</td>\n",
              "      <td>0.0</td>\n",
              "      <td>0.0</td>\n",
              "      <td>0.0</td>\n",
              "      <td>0.0</td>\n",
              "      <td>0.0</td>\n",
              "      <td>0.0</td>\n",
              "      <td>0.0</td>\n",
              "      <td>0.0</td>\n",
              "      <td>0.0</td>\n",
              "      <td>0.0</td>\n",
              "      <td>0.0</td>\n",
              "      <td>0.0</td>\n",
              "      <td>0.0</td>\n",
              "      <td>0.0</td>\n",
              "      <td>0.0</td>\n",
              "      <td>0.0</td>\n",
              "      <td>0.0</td>\n",
              "      <td>0.0</td>\n",
              "      <td>0.0</td>\n",
              "      <td>0.0</td>\n",
              "      <td>1.265563e+06</td>\n",
              "      <td>1.265563e+06</td>\n",
              "      <td>1.265563e+06</td>\n",
              "      <td>0.0</td>\n",
              "      <td>0.0</td>\n",
              "      <td>0.0</td>\n",
              "      <td>1.265563e+06</td>\n",
              "      <td>1.265563e+06</td>\n",
              "      <td>1.265563e+06</td>\n",
              "      <td>0.0</td>\n",
              "      <td>0.0</td>\n",
              "      <td>0.0</td>\n",
              "      <td>1.741505e+08</td>\n",
              "    </tr>\n",
              "    <tr>\n",
              "      <th>898</th>\n",
              "      <td>2020-03-24</td>\n",
              "      <td>1.729729e+08</td>\n",
              "      <td>1.468715e+08</td>\n",
              "      <td>2.043817e+08</td>\n",
              "      <td>1.489512e+08</td>\n",
              "      <td>2.002810e+08</td>\n",
              "      <td>0.0</td>\n",
              "      <td>0.0</td>\n",
              "      <td>0.0</td>\n",
              "      <td>0.0</td>\n",
              "      <td>0.0</td>\n",
              "      <td>0.0</td>\n",
              "      <td>0.0</td>\n",
              "      <td>0.0</td>\n",
              "      <td>0.0</td>\n",
              "      <td>0.0</td>\n",
              "      <td>0.0</td>\n",
              "      <td>0.0</td>\n",
              "      <td>0.0</td>\n",
              "      <td>0.0</td>\n",
              "      <td>0.0</td>\n",
              "      <td>0.0</td>\n",
              "      <td>0.0</td>\n",
              "      <td>0.0</td>\n",
              "      <td>0.0</td>\n",
              "      <td>0.0</td>\n",
              "      <td>0.0</td>\n",
              "      <td>0.0</td>\n",
              "      <td>0.0</td>\n",
              "      <td>0.0</td>\n",
              "      <td>0.0</td>\n",
              "      <td>0.0</td>\n",
              "      <td>0.0</td>\n",
              "      <td>0.0</td>\n",
              "      <td>0.0</td>\n",
              "      <td>0.0</td>\n",
              "      <td>0.0</td>\n",
              "      <td>0.0</td>\n",
              "      <td>0.0</td>\n",
              "      <td>0.0</td>\n",
              "      <td>0.0</td>\n",
              "      <td>0.0</td>\n",
              "      <td>0.0</td>\n",
              "      <td>0.0</td>\n",
              "      <td>0.0</td>\n",
              "      <td>0.0</td>\n",
              "      <td>0.0</td>\n",
              "      <td>0.0</td>\n",
              "      <td>1.295481e+06</td>\n",
              "      <td>1.295481e+06</td>\n",
              "      <td>1.295481e+06</td>\n",
              "      <td>0.0</td>\n",
              "      <td>0.0</td>\n",
              "      <td>0.0</td>\n",
              "      <td>1.295481e+06</td>\n",
              "      <td>1.295481e+06</td>\n",
              "      <td>1.295481e+06</td>\n",
              "      <td>0.0</td>\n",
              "      <td>0.0</td>\n",
              "      <td>0.0</td>\n",
              "      <td>1.742684e+08</td>\n",
              "    </tr>\n",
              "  </tbody>\n",
              "</table>\n",
              "</div>"
            ],
            "text/plain": [
              "            ds         trend  ...  multiplicative_terms_upper          yhat\n",
              "894 2020-03-20  1.726210e+08  ...                         0.0  1.739874e+08\n",
              "895 2020-03-21  1.727090e+08  ...                         0.0  1.740100e+08\n",
              "896 2020-03-22  1.727970e+08  ...                         0.0  1.740643e+08\n",
              "897 2020-03-23  1.728849e+08  ...                         0.0  1.741505e+08\n",
              "898 2020-03-24  1.729729e+08  ...                         0.0  1.742684e+08\n",
              "\n",
              "[5 rows x 61 columns]"
            ]
          },
          "metadata": {
            "tags": []
          },
          "execution_count": 118
        }
      ]
    },
    {
      "cell_type": "code",
      "metadata": {
        "id": "y8DDWILUb3T8",
        "colab_type": "code",
        "colab": {
          "base_uri": "https://localhost:8080/",
          "height": 441
        },
        "outputId": "7d35b148-be88-4cc4-df35-3389e87b8feb"
      },
      "source": [
        "fig = m.plot(forcast)"
      ],
      "execution_count": 19,
      "outputs": [
        {
          "output_type": "display_data",
          "data": {
            "image/png": "[encoded data removed]",
            "text/plain": [
              "<Figure size 720x432 with 1 Axes>"
            ]
          },
          "metadata": {
            "tags": []
          }
        }
      ]
    },
    {
      "cell_type": "code",
      "metadata": {
        "id": "_QIr8ySVb6ee",
        "colab_type": "code",
        "colab": {
          "base_uri": "https://localhost:8080/",
          "height": 441
        },
        "outputId": "700f5b1d-3da2-4436-cd84-4abc4b827bee"
      },
      "source": [
        "# Plotting the components\n",
        "fig1 = m.plot_components(forcast)"
      ],
      "execution_count": 20,
      "outputs": [
        {
          "output_type": "display_data",
          "data": {
            "image/png": "[encoded data removed]",
            "text/plain": [
              "<Figure size 648x432 with 2 Axes>"
            ]
          },
          "metadata": {
            "tags": []
          }
        }
      ]
    },
    {
      "cell_type": "code",
      "metadata": {
        "id": "o0Ze6R8rcCoK",
        "colab_type": "code",
        "colab": {
          "base_uri": "https://localhost:8080/",
          "height": 34
        },
        "outputId": "19d530d8-1121-44f7-c3e8-e51096826efe"
      },
      "source": [
        "from fbprophet.diagnostics import cross_validation\n",
        "avocado_cv = cross_validation(m, \n",
        "                         horizon='90 days', period='45 days', initial='730 days')"
      ],
      "execution_count": 21,
      "outputs": [
        {
          "output_type": "stream",
          "text": [
            "INFO:fbprophet:Making 8 forecasts with cutoffs between 2017-02-13 00:00:00 and 2017-12-25 00:00:00\n"
          ],
          "name": "stderr"
        }
      ]
    },
    {
      "cell_type": "code",
      "metadata": {
        "id": "Vrfs1Bm-dnWq",
        "colab_type": "code",
        "colab": {
          "base_uri": "https://localhost:8080/",
          "height": 204
        },
        "outputId": "f40f6c12-0364-4084-c99a-d308c96f99aa"
      },
      "source": [
        "from fbprophet.diagnostics import performance_metrics\n",
        "performance_metrics(avocado_cv).tail()"
      ],
      "execution_count": 23,
      "outputs": [
        {
          "output_type": "execute_result",
          "data": {
            "text/html": [
              "<div>\n",
              "<style scoped>\n",
              "    .dataframe tbody tr th:only-of-type {\n",
              "        vertical-align: middle;\n",
              "    }\n",
              "\n",
              "    .dataframe tbody tr th {\n",
              "        vertical-align: top;\n",
              "    }\n",
              "\n",
              "    .dataframe thead th {\n",
              "        text-align: right;\n",
              "    }\n",
              "</style>\n",
              "<table border=\"1\" class=\"dataframe\">\n",
              "  <thead>\n",
              "    <tr style=\"text-align: right;\">\n",
              "      <th></th>\n",
              "      <th>horizon</th>\n",
              "      <th>mse</th>\n",
              "      <th>rmse</th>\n",
              "      <th>mae</th>\n",
              "      <th>mape</th>\n",
              "      <th>coverage</th>\n",
              "    </tr>\n",
              "  </thead>\n",
              "  <tbody>\n",
              "    <tr>\n",
              "      <th>77</th>\n",
              "      <td>86 days</td>\n",
              "      <td>4.382687e+14</td>\n",
              "      <td>2.093487e+07</td>\n",
              "      <td>1.481539e+07</td>\n",
              "      <td>0.136019</td>\n",
              "      <td>0.6</td>\n",
              "    </tr>\n",
              "    <tr>\n",
              "      <th>78</th>\n",
              "      <td>87 days</td>\n",
              "      <td>4.353030e+14</td>\n",
              "      <td>2.086392e+07</td>\n",
              "      <td>1.464509e+07</td>\n",
              "      <td>0.132272</td>\n",
              "      <td>0.6</td>\n",
              "    </tr>\n",
              "    <tr>\n",
              "      <th>79</th>\n",
              "      <td>88 days</td>\n",
              "      <td>4.621349e+14</td>\n",
              "      <td>2.149732e+07</td>\n",
              "      <td>1.608344e+07</td>\n",
              "      <td>0.154498</td>\n",
              "      <td>0.5</td>\n",
              "    </tr>\n",
              "    <tr>\n",
              "      <th>80</th>\n",
              "      <td>89 days</td>\n",
              "      <td>4.604971e+14</td>\n",
              "      <td>2.145920e+07</td>\n",
              "      <td>1.585167e+07</td>\n",
              "      <td>0.152976</td>\n",
              "      <td>0.5</td>\n",
              "    </tr>\n",
              "    <tr>\n",
              "      <th>81</th>\n",
              "      <td>90 days</td>\n",
              "      <td>4.878952e+14</td>\n",
              "      <td>2.208835e+07</td>\n",
              "      <td>1.674935e+07</td>\n",
              "      <td>0.148295</td>\n",
              "      <td>0.4</td>\n",
              "    </tr>\n",
              "  </tbody>\n",
              "</table>\n",
              "</div>"
            ],
            "text/plain": [
              "   horizon           mse          rmse           mae      mape  coverage\n",
              "77 86 days  4.382687e+14  2.093487e+07  1.481539e+07  0.136019       0.6\n",
              "78 87 days  4.353030e+14  2.086392e+07  1.464509e+07  0.132272       0.6\n",
              "79 88 days  4.621349e+14  2.149732e+07  1.608344e+07  0.154498       0.5\n",
              "80 89 days  4.604971e+14  2.145920e+07  1.585167e+07  0.152976       0.5\n",
              "81 90 days  4.878952e+14  2.208835e+07  1.674935e+07  0.148295       0.4"
            ]
          },
          "metadata": {
            "tags": []
          },
          "execution_count": 23
        }
      ]
    },
    {
      "cell_type": "code",
      "metadata": {
        "id": "SIrA3T1DdtwI",
        "colab_type": "code",
        "colab": {
          "base_uri": "https://localhost:8080/",
          "height": 404
        },
        "outputId": "7cc57828-15e8-4527-97d1-262039db65dc"
      },
      "source": [
        "# Cross validation\n",
        "from fbprophet.plot import plot_cross_validation_metric\n",
        "fig = plot_cross_validation_metric(avocado_cv, metric='mape')\n",
        "plt.title('Cross_Validation: Avocado');\n"
      ],
      "execution_count": 109,
      "outputs": [
        {
          "output_type": "display_data",
          "data": {
            "image/png": "[encoded data removed]",
            "text/plain": [
              "<Figure size 720x432 with 1 Axes>"
            ]
          },
          "metadata": {
            "tags": []
          }
        }
      ]
    },
    {
      "cell_type": "markdown",
      "metadata": {
        "id": "BYtFz3GoaVsC",
        "colab_type": "text"
      },
      "source": [
        "### Stretch Goal\n",
        "- Adjust your forecasts with Prophet's options for changepoints, holidays, and fourier order. Improve the cross-validation MAPE."
      ]
    },
    {
      "cell_type": "code",
      "metadata": {
        "id": "3n0QNawevzOV",
        "colab_type": "code",
        "colab": {}
      },
      "source": [
        "forcast[forcast['ds'] < avocado['ds'].iloc[-1]]['yhat']"
      ],
      "execution_count": 0,
      "outputs": []
    },
    {
      "cell_type": "code",
      "metadata": {
        "id": "vchRC12ZaVsE",
        "colab_type": "code",
        "colab": {
          "base_uri": "https://localhost:8080/",
          "height": 455
        },
        "outputId": "1231a5de-9252-44a7-f9d0-e8a0bf92b28c"
      },
      "source": [
        "m = Prophet(changepoint_prior_scale=0.5,yearly_seasonality=4) # changepoints and fourrier order\n",
        "\n",
        "m.add_country_holidays(country_name='US') # specifiying US holiday\n",
        "\n",
        "\n",
        "m.fit(avocado)\n",
        "future = m.make_future_dataframe(periods = 730)\n",
        "forcast = m.predict(future)\n",
        "avocado_cv = cross_validation(m, \n",
        "                         horizon='90 days', period='45 days', initial='730 days')\n",
        "fig = plot_cross_validation_metric(avocado_cv, metric='mape')\n",
        "plt.title('Cross_Validation: Avocado');"
      ],
      "execution_count": 117,
      "outputs": [
        {
          "output_type": "stream",
          "text": [
            "INFO:fbprophet:Disabling weekly seasonality. Run prophet with weekly_seasonality=True to override this.\n",
            "INFO:fbprophet:Disabling daily seasonality. Run prophet with daily_seasonality=True to override this.\n",
            "INFO:fbprophet:Making 8 forecasts with cutoffs between 2017-02-13 00:00:00 and 2017-12-25 00:00:00\n"
          ],
          "name": "stderr"
        },
        {
          "output_type": "display_data",
          "data": {
            "image/png": "[encoded data removed]",
            "text/plain": [
              "<Figure size 720x432 with 1 Axes>"
            ]
          },
          "metadata": {
            "tags": []
          }
        }
      ]
    },
    {
      "cell_type": "markdown",
      "metadata": {
        "id": "TsyBLvlmaVsJ",
        "colab_type": "text"
      },
      "source": [
        "## Part 2. Predict NYC apartment rent 🏠💸\n",
        "\n",
        "For part 1 of your challenge, you'll use a real-world data with rent prices for a subset of apartments in New York City!\n",
        "\n",
        "Run this code cell to load the dataset: "
      ]
    },
    {
      "cell_type": "code",
      "metadata": {
        "id": "zNoImpTmaVsM",
        "colab_type": "code",
        "colab": {}
      },
      "source": [
        "import pandas as pd\n",
        "rent_url = 'https://drive.google.com/uc?export=download&id=1lVVPmh-WYGb_0Gs_lOv22i02-150qDdZ'\n",
        "rent = pd.read_csv(rent_url)\n",
        "assert rent.shape == (48295, 7)"
      ],
      "execution_count": 0,
      "outputs": []
    },
    {
      "cell_type": "code",
      "metadata": {
        "id": "b1pyFS9qeBIi",
        "colab_type": "code",
        "colab": {}
      },
      "source": [
        "rent"
      ],
      "execution_count": 0,
      "outputs": []
    },
    {
      "cell_type": "code",
      "metadata": {
        "id": "fi3VPDBVfXsb",
        "colab_type": "code",
        "colab": {}
      },
      "source": [
        ""
      ],
      "execution_count": 0,
      "outputs": []
    },
    {
      "cell_type": "code",
      "metadata": {
        "id": "aA4mQml8fHDH",
        "colab_type": "code",
        "colab": {}
      },
      "source": [
        "import numpy as np\n",
        "from sklearn.metrics import mean_absolute_error, r2_score\n"
      ],
      "execution_count": 0,
      "outputs": []
    },
    {
      "cell_type": "code",
      "metadata": {
        "id": "y7fXIKNgeNFj",
        "colab_type": "code",
        "colab": {}
      },
      "source": [
        "rent['Mean Baseline'] = rent['price'].mean()"
      ],
      "execution_count": 0,
      "outputs": []
    },
    {
      "cell_type": "code",
      "metadata": {
        "id": "zUp3etLFfteP",
        "colab_type": "code",
        "colab": {
          "base_uri": "https://localhost:8080/",
          "height": 51
        },
        "outputId": "520f86cf-ea72-4def-fb2d-35b2a04a544f"
      },
      "source": [
        "MEA_mean = mean_absolute_error(rent['price'], rent['Mean Baseline'])\n",
        "r2 = r2_score(rent['price'], rent['Mean Baseline'])\n",
        "print('Mean Absolute Error:', MEA_mean)\n",
        "print('R^2:', r2)\n"
      ],
      "execution_count": 75,
      "outputs": [
        {
          "output_type": "stream",
          "text": [
            "Mean Absolute Error: 1055.7857771080928\n",
            "R^2: 0.0\n"
          ],
          "name": "stdout"
        }
      ]
    },
    {
      "cell_type": "code",
      "metadata": {
        "id": "czBRdrt5jR9N",
        "colab_type": "code",
        "colab": {}
      },
      "source": [
        "# Split data based on month\n",
        "train = rent.query('month != 6')\n",
        "test  = rent.query('month == 6')"
      ],
      "execution_count": 0,
      "outputs": []
    },
    {
      "cell_type": "code",
      "metadata": {
        "id": "aWC1FQjPkSV5",
        "colab_type": "code",
        "colab": {
          "base_uri": "https://localhost:8080/",
          "height": 204
        },
        "outputId": "eb908a78-a81f-4ff8-d00a-2c26b2d0bd02"
      },
      "source": [
        "train.head()"
      ],
      "execution_count": 71,
      "outputs": [
        {
          "output_type": "execute_result",
          "data": {
            "text/html": [
              "<div>\n",
              "<style scoped>\n",
              "    .dataframe tbody tr th:only-of-type {\n",
              "        vertical-align: middle;\n",
              "    }\n",
              "\n",
              "    .dataframe tbody tr th {\n",
              "        vertical-align: top;\n",
              "    }\n",
              "\n",
              "    .dataframe thead th {\n",
              "        text-align: right;\n",
              "    }\n",
              "</style>\n",
              "<table border=\"1\" class=\"dataframe\">\n",
              "  <thead>\n",
              "    <tr style=\"text-align: right;\">\n",
              "      <th></th>\n",
              "      <th>year</th>\n",
              "      <th>month</th>\n",
              "      <th>bedrooms</th>\n",
              "      <th>bathrooms</th>\n",
              "      <th>latitude</th>\n",
              "      <th>longitude</th>\n",
              "      <th>price</th>\n",
              "      <th>Mean Baseline</th>\n",
              "    </tr>\n",
              "  </thead>\n",
              "  <tbody>\n",
              "    <tr>\n",
              "      <th>2</th>\n",
              "      <td>2016</td>\n",
              "      <td>4</td>\n",
              "      <td>1</td>\n",
              "      <td>1.0</td>\n",
              "      <td>40.7388</td>\n",
              "      <td>-74.0018</td>\n",
              "      <td>2850</td>\n",
              "      <td>3438.052034</td>\n",
              "    </tr>\n",
              "    <tr>\n",
              "      <th>3</th>\n",
              "      <td>2016</td>\n",
              "      <td>4</td>\n",
              "      <td>1</td>\n",
              "      <td>1.0</td>\n",
              "      <td>40.7539</td>\n",
              "      <td>-73.9677</td>\n",
              "      <td>3275</td>\n",
              "      <td>3438.052034</td>\n",
              "    </tr>\n",
              "    <tr>\n",
              "      <th>4</th>\n",
              "      <td>2016</td>\n",
              "      <td>4</td>\n",
              "      <td>4</td>\n",
              "      <td>1.0</td>\n",
              "      <td>40.8241</td>\n",
              "      <td>-73.9493</td>\n",
              "      <td>3350</td>\n",
              "      <td>3438.052034</td>\n",
              "    </tr>\n",
              "    <tr>\n",
              "      <th>5</th>\n",
              "      <td>2016</td>\n",
              "      <td>4</td>\n",
              "      <td>4</td>\n",
              "      <td>2.0</td>\n",
              "      <td>40.7429</td>\n",
              "      <td>-74.0028</td>\n",
              "      <td>7995</td>\n",
              "      <td>3438.052034</td>\n",
              "    </tr>\n",
              "    <tr>\n",
              "      <th>6</th>\n",
              "      <td>2016</td>\n",
              "      <td>4</td>\n",
              "      <td>2</td>\n",
              "      <td>1.0</td>\n",
              "      <td>40.8012</td>\n",
              "      <td>-73.9660</td>\n",
              "      <td>3600</td>\n",
              "      <td>3438.052034</td>\n",
              "    </tr>\n",
              "  </tbody>\n",
              "</table>\n",
              "</div>"
            ],
            "text/plain": [
              "   year  month  bedrooms  bathrooms  latitude  longitude  price  Mean Baseline\n",
              "2  2016      4         1        1.0   40.7388   -74.0018   2850    3438.052034\n",
              "3  2016      4         1        1.0   40.7539   -73.9677   3275    3438.052034\n",
              "4  2016      4         4        1.0   40.8241   -73.9493   3350    3438.052034\n",
              "5  2016      4         4        2.0   40.7429   -74.0028   7995    3438.052034\n",
              "6  2016      4         2        1.0   40.8012   -73.9660   3600    3438.052034"
            ]
          },
          "metadata": {
            "tags": []
          },
          "execution_count": 71
        }
      ]
    },
    {
      "cell_type": "code",
      "metadata": {
        "id": "oGUx9QO8k-AE",
        "colab_type": "code",
        "colab": {}
      },
      "source": [
        ""
      ],
      "execution_count": 0,
      "outputs": []
    },
    {
      "cell_type": "code",
      "metadata": {
        "id": "2vmrrJlymi5i",
        "colab_type": "code",
        "colab": {}
      },
      "source": [
        "# Fitting the data for the whole data before spliting\n",
        "from sklearn.linear_model import LinearRegression\n",
        "\n",
        "model = LinearRegression()\n",
        "\n",
        "features = ['bedrooms','longitude']\n",
        "target = 'price'\n",
        "\n",
        "X = rent[features]\n",
        "y = rent[target]\n",
        "model.fit(X, y)\n",
        "y_pred = model.predict(X)"
      ],
      "execution_count": 0,
      "outputs": []
    },
    {
      "cell_type": "code",
      "metadata": {
        "id": "uwoTzjSKm04a",
        "colab_type": "code",
        "colab": {
          "base_uri": "https://localhost:8080/",
          "height": 51
        },
        "outputId": "64a0bf5b-ac1d-4a94-9e94-d2097b1aee89"
      },
      "source": [
        "MEA_reg = mean_absolute_error(y, y_pred)\n",
        "r2_reg = r2_score(y, y_pred)\n",
        "print('Mean Absolute Error for regression:', MEA_reg)\n",
        "print('R^2 for regression:', r2_reg)"
      ],
      "execution_count": 102,
      "outputs": [
        {
          "output_type": "stream",
          "text": [
            "Mean Absolute Error for regression: 756.0310270560997\n",
            "R^2 for regression: 0.4287212733959611\n"
          ],
          "name": "stdout"
        }
      ]
    },
    {
      "cell_type": "code",
      "metadata": {
        "id": "XkKVonVqnNFr",
        "colab_type": "code",
        "colab": {
          "base_uri": "https://localhost:8080/",
          "height": 51
        },
        "outputId": "1b3fd224-8f4e-4b36-c3f9-62c89d6fee5e"
      },
      "source": [
        "# printing model intercept and coefficient Beta on the whole data\n",
        "print('Intercept:', model.intercept_)\n",
        "print('Coefficients 1:',  model.coef_[0],'Coefficients 2:',model.coef_[1])"
      ],
      "execution_count": 103,
      "outputs": [
        {
          "output_type": "stream",
          "text": [
            "Intercept: -1194245.0150382624\n",
            "Coefficients 1: 737.572046733142 Coefficients 2: -16175.912184278515\n"
          ],
          "name": "stdout"
        }
      ]
    },
    {
      "cell_type": "code",
      "metadata": {
        "id": "qT6RDvpKnSXm",
        "colab_type": "code",
        "colab": {
          "base_uri": "https://localhost:8080/",
          "height": 51
        },
        "outputId": "936c1f7b-2959-4fd2-ef42-cb1aff2cdba5"
      },
      "source": [
        "# Fitting the model on train data and checking MAE and R2 on the test data\n",
        "\n",
        "X_train = train[features] \n",
        "y_train = train[target]\n",
        "X_test  = test[features]\n",
        "y_test  = test[target]\n",
        "\n",
        "model = LinearRegression()\n",
        "model.fit(X_train, y_train)\n",
        "y_pred = model.predict(X_test)\n",
        "MEA_test = mean_absolute_error(y_test, y_pred)\n",
        "r2_test = r2_score(y_test, y_pred)\n",
        "print('Mean Absolute Error for regression:', MEA_test)\n",
        "print('R^2 for regression:', r2_test)"
      ],
      "execution_count": 104,
      "outputs": [
        {
          "output_type": "stream",
          "text": [
            "Mean Absolute Error for regression: 767.873838790542\n",
            "R^2 for regression: 0.4094592610785772\n"
          ],
          "name": "stdout"
        }
      ]
    },
    {
      "cell_type": "code",
      "metadata": {
        "id": "ZOtTCnNsq-La",
        "colab_type": "code",
        "colab": {
          "base_uri": "https://localhost:8080/",
          "height": 51
        },
        "outputId": "c82be29e-006e-4fb2-f79e-eafe3ba13940"
      },
      "source": [
        "# printing the test model intercept and coefficient Beta\n",
        "print('Intercept:', model.intercept_)\n",
        "print('Coefficients 1:',  model.coef_[0],'Coefficients 2:',model.coef_[1])"
      ],
      "execution_count": 105,
      "outputs": [
        {
          "output_type": "stream",
          "text": [
            "Intercept: -1194759.750120282\n",
            "Coefficients 1: 745.4390525550562 Coefficients 2: -16182.696334295124\n"
          ],
          "name": "stdout"
        }
      ]
    },
    {
      "cell_type": "markdown",
      "metadata": {
        "id": "we97jTPDaVsQ",
        "colab_type": "text"
      },
      "source": [
        "### Required\n",
        "1. Begin with baselines for regression. Calculate the mean absolute error and $R^2$ score for a mean baseline. _(You can use the whole dataset, or a test set, either way is okay here!)_\n",
        "2. Do train/test split. Use data from April & May 2016 to train. Use data from June 2016 to test.\n",
        "3. Choose any two features.\n",
        "4. Use scikit-learn to fit a Linear Regression model on the train data.\n",
        "5. Apply the model to predict rent prices for the test data.\n",
        "6. Get regression metrics MAE and $R^2$ for the test data.\n",
        "7. Get the model's coefficients and intercept.\n",
        "\n",
        "### Stretch Goals\n",
        "- Try at least 3 different feature combinations. (You don't have to use two features, you can choose any number of features.)\n",
        "- Get regression metrics RMSE, MAE, and $R^2$, for both the train and test data."
      ]
    },
    {
      "cell_type": "code",
      "metadata": {
        "id": "7LUn13qlpBaQ",
        "colab_type": "code",
        "colab": {}
      },
      "source": [
        "from sklearn.metrics import mean_squared_error\n",
        "from math import sqrt"
      ],
      "execution_count": 0,
      "outputs": []
    },
    {
      "cell_type": "code",
      "metadata": {
        "id": "YPspMUvWaVsS",
        "colab_type": "code",
        "colab": {}
      },
      "source": [
        "features = ['bedrooms','bathrooms','latitude','longitude']\n",
        "target = 'price'"
      ],
      "execution_count": 0,
      "outputs": []
    },
    {
      "cell_type": "code",
      "metadata": {
        "id": "dC5IFv_zoEYd",
        "colab_type": "code",
        "colab": {
          "base_uri": "https://localhost:8080/",
          "height": 68
        },
        "outputId": "23494539-a3a2-4e1e-a3b3-9b88690c9d5d"
      },
      "source": [
        "\n",
        "X_train = train[features] \n",
        "y_train = train[target]\n",
        "X_test  = test[features]\n",
        "y_test  = test[target]\n",
        "\n",
        "model = LinearRegression()\n",
        "model.fit(X_train, y_train)\n",
        "y_pred = model.predict(X_test)\n",
        "MEA_test = mean_absolute_error(y_test, y_pred)\n",
        "r2_test = r2_score(y_test, y_pred)\n",
        "RMSE = sqrt(mean_squared_error(y_test, y_pred))\n",
        "\n",
        "print('Mean Absolute Error for regression:', MEA_test)\n",
        "print('R^2 for regression:', r2_test)\n",
        "print('RMSE regression:', RMSE)"
      ],
      "execution_count": 107,
      "outputs": [
        {
          "output_type": "stream",
          "text": [
            "Mean Absolute Error for regression: 667.6543093383528\n",
            "R^2 for regression: 0.5637948359714793\n",
            "RMSE regression: 928.5485606974506\n"
          ],
          "name": "stdout"
        }
      ]
    },
    {
      "cell_type": "code",
      "metadata": {
        "id": "mxkDhtn1oQXO",
        "colab_type": "code",
        "colab": {}
      },
      "source": [
        "\n"
      ],
      "execution_count": 0,
      "outputs": []
    }
  ]
}