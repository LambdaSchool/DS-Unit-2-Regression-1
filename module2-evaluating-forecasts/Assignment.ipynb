{
 "cells": [
  {
   "cell_type": "code",
   "execution_count": 163,
   "metadata": {},
   "outputs": [],
   "source": [
    "import datetime\n",
    "import requests\n",
    "import pandas as pd\n",
    "import matplotlib.pyplot as plt\n",
    "import warnings\n",
    "warnings.simplefilter(action='ignore', category=FutureWarning)\n",
    "\n",
    "article='Kawhi_Leonard'\n",
    "start_t = '20150701'\n",
    "granularity = 'daily'\n",
    "end_t = datetime.datetime.now().strftime('%Y%m%d')\n",
    "url = 'https://wikimedia.org/api/rest_v1/metrics/pageviews/per-article/en.wikipedia/all-access/user/'\n",
    "param_str = f'{article}/{granularity}/{start_t}/{end_t}'\n",
    "    \n",
    "url = url + param_str\n",
    "response = requests.get(url)\n",
    "df = pd.DataFrame(response.json()['items'])\n",
    "df['timestamp'] = pd.to_datetime(df['timestamp'], format='%Y%m%d00')\n",
    "df = df.rename(columns={'timestamp': 'ds', 'views': 'y'})\n",
    "df = df.set_index('ds')"
   ]
  },
  {
   "cell_type": "code",
   "execution_count": 164,
   "metadata": {},
   "outputs": [],
   "source": [
    "train = df['2015':'2017']\n",
    "test  = df['2018':'2019']\n",
    "train = train.reset_index()\n",
    "test = test.reset_index()"
   ]
  },
  {
   "cell_type": "code",
   "execution_count": 161,
   "metadata": {},
   "outputs": [],
   "source": [
    "#Mean Baseline\n",
    "train['mean_baseline'] = train['y'].mean()\n",
    "test['mean_baseline'] = train['y'].mean()\n",
    "#Naive Baseline\n",
    "train['naive_baseline'] = train['y'].shift(1).bfill()\n",
    "test['naive_baseline'] = train['y'].iloc[-1]"
   ]
  },
  {
   "cell_type": "code",
   "execution_count": 158,
   "metadata": {},
   "outputs": [
    {
     "name": "stdout",
     "output_type": "stream",
     "text": [
      "MAE for Mean Baseline\n",
      "Train:\t 2724.871937651169\n",
      "Test:\t 5849.029296875\n",
      "\n",
      "MAE for Naive Baseline\n",
      "Train:\t 2119.886338797814\n",
      "Test:\t 6429.810546875\n"
     ]
    }
   ],
   "source": [
    "from sklearn.metrics import mean_absolute_error\n",
    "print('MAE for Mean Baseline')\n",
    "print('Train:\\t', mean_absolute_error(train['y'], train['mean_baseline']))\n",
    "print('Test:\\t', mean_absolute_error(test['y'], test['mean_baseline']))\n",
    "print('\\nMAE for Naive Baseline')\n",
    "print('Train:\\t', mean_absolute_error(train['y'], train['naive_baseline']))\n",
    "print('Test:\\t', mean_absolute_error(test['y'], test['naive_baseline']))"
   ]
  },
  {
   "cell_type": "code",
   "execution_count": 141,
   "metadata": {},
   "outputs": [
    {
     "name": "stderr",
     "output_type": "stream",
     "text": [
      "INFO:fbprophet:Disabling daily seasonality. Run prophet with daily_seasonality=True to override this.\n"
     ]
    }
   ],
   "source": [
    "\n",
    "from fbprophet import Prophet\n",
    "m = Prophet()\n",
    "m.fit(train)\n",
    "train_forcast = m.predict(train)\n",
    "test_forcast = m.predict(test)"
   ]
  },
  {
   "cell_type": "code",
   "execution_count": 142,
   "metadata": {},
   "outputs": [
    {
     "name": "stdout",
     "output_type": "stream",
     "text": [
      "\n",
      "MAE for Prophet Predictions\n",
      "Train:\t 1881.9042952217362\n",
      "Test:\t 7282.263252201357\n"
     ]
    }
   ],
   "source": [
    "print('\\nMAE for Prophet Predictions')\n",
    "print('Train:\\t', mean_absolute_error(train['y'], train_forcast['yhat']))\n",
    "print('Test:\\t', mean_absolute_error(test['y'], test_forcast['yhat']))"
   ]
  },
  {
   "cell_type": "code",
   "execution_count": 143,
   "metadata": {},
   "outputs": [
    {
     "name": "stderr",
     "output_type": "stream",
     "text": [
      "INFO:fbprophet:Making 3 forecasts with cutoffs between 2016-09-27 00:00:00 and 2017-09-22 00:00:00\n"
     ]
    }
   ],
   "source": [
    "from fbprophet.diagnostics import cross_validation\n",
    "df_cv = cross_validation(m, horizon='100 days', period='180 days')"
   ]
  },
  {
   "cell_type": "code",
   "execution_count": 144,
   "metadata": {},
   "outputs": [
    {
     "data": {
      "text/html": [
       "<div>\n",
       "<style scoped>\n",
       "    .dataframe tbody tr th:only-of-type {\n",
       "        vertical-align: middle;\n",
       "    }\n",
       "\n",
       "    .dataframe tbody tr th {\n",
       "        vertical-align: top;\n",
       "    }\n",
       "\n",
       "    .dataframe thead th {\n",
       "        text-align: right;\n",
       "    }\n",
       "</style>\n",
       "<table border=\"1\" class=\"dataframe\">\n",
       "  <thead>\n",
       "    <tr style=\"text-align: right;\">\n",
       "      <th></th>\n",
       "      <th>ds</th>\n",
       "      <th>yhat</th>\n",
       "      <th>yhat_lower</th>\n",
       "      <th>yhat_upper</th>\n",
       "      <th>y</th>\n",
       "      <th>cutoff</th>\n",
       "    </tr>\n",
       "  </thead>\n",
       "  <tbody>\n",
       "    <tr>\n",
       "      <th>0</th>\n",
       "      <td>2016-09-28</td>\n",
       "      <td>1293.322529</td>\n",
       "      <td>-2726.586408</td>\n",
       "      <td>4809.110771</td>\n",
       "      <td>1343</td>\n",
       "      <td>2016-09-27</td>\n",
       "    </tr>\n",
       "    <tr>\n",
       "      <th>1</th>\n",
       "      <td>2016-09-29</td>\n",
       "      <td>909.041524</td>\n",
       "      <td>-3057.506956</td>\n",
       "      <td>4794.824582</td>\n",
       "      <td>1409</td>\n",
       "      <td>2016-09-27</td>\n",
       "    </tr>\n",
       "    <tr>\n",
       "      <th>2</th>\n",
       "      <td>2016-09-30</td>\n",
       "      <td>1261.099922</td>\n",
       "      <td>-2553.891358</td>\n",
       "      <td>5263.131909</td>\n",
       "      <td>1295</td>\n",
       "      <td>2016-09-27</td>\n",
       "    </tr>\n",
       "    <tr>\n",
       "      <th>3</th>\n",
       "      <td>2016-10-01</td>\n",
       "      <td>1058.244182</td>\n",
       "      <td>-2913.648913</td>\n",
       "      <td>5267.474137</td>\n",
       "      <td>1308</td>\n",
       "      <td>2016-09-27</td>\n",
       "    </tr>\n",
       "    <tr>\n",
       "      <th>4</th>\n",
       "      <td>2016-10-02</td>\n",
       "      <td>1287.008891</td>\n",
       "      <td>-2255.667637</td>\n",
       "      <td>5254.649872</td>\n",
       "      <td>1346</td>\n",
       "      <td>2016-09-27</td>\n",
       "    </tr>\n",
       "  </tbody>\n",
       "</table>\n",
       "</div>"
      ],
      "text/plain": [
       "          ds         yhat   yhat_lower   yhat_upper     y     cutoff\n",
       "0 2016-09-28  1293.322529 -2726.586408  4809.110771  1343 2016-09-27\n",
       "1 2016-09-29   909.041524 -3057.506956  4794.824582  1409 2016-09-27\n",
       "2 2016-09-30  1261.099922 -2553.891358  5263.131909  1295 2016-09-27\n",
       "3 2016-10-01  1058.244182 -2913.648913  5267.474137  1308 2016-09-27\n",
       "4 2016-10-02  1287.008891 -2255.667637  5254.649872  1346 2016-09-27"
      ]
     },
     "execution_count": 144,
     "metadata": {},
     "output_type": "execute_result"
    }
   ],
   "source": [
    "df_cv.head()"
   ]
  },
  {
   "cell_type": "code",
   "execution_count": 145,
   "metadata": {},
   "outputs": [
    {
     "data": {
      "text/html": [
       "<div>\n",
       "<style scoped>\n",
       "    .dataframe tbody tr th:only-of-type {\n",
       "        vertical-align: middle;\n",
       "    }\n",
       "\n",
       "    .dataframe tbody tr th {\n",
       "        vertical-align: top;\n",
       "    }\n",
       "\n",
       "    .dataframe thead th {\n",
       "        text-align: right;\n",
       "    }\n",
       "</style>\n",
       "<table border=\"1\" class=\"dataframe\">\n",
       "  <thead>\n",
       "    <tr style=\"text-align: right;\">\n",
       "      <th></th>\n",
       "      <th>horizon</th>\n",
       "      <th>mse</th>\n",
       "      <th>rmse</th>\n",
       "      <th>mae</th>\n",
       "      <th>mape</th>\n",
       "      <th>coverage</th>\n",
       "    </tr>\n",
       "  </thead>\n",
       "  <tbody>\n",
       "    <tr>\n",
       "      <th>0</th>\n",
       "      <td>10 days</td>\n",
       "      <td>1.624393e+07</td>\n",
       "      <td>4030.375684</td>\n",
       "      <td>2136.665943</td>\n",
       "      <td>0.324962</td>\n",
       "      <td>0.800000</td>\n",
       "    </tr>\n",
       "    <tr>\n",
       "      <th>1</th>\n",
       "      <td>11 days</td>\n",
       "      <td>1.632691e+07</td>\n",
       "      <td>4040.656804</td>\n",
       "      <td>2188.774735</td>\n",
       "      <td>0.342282</td>\n",
       "      <td>0.800000</td>\n",
       "    </tr>\n",
       "    <tr>\n",
       "      <th>2</th>\n",
       "      <td>12 days</td>\n",
       "      <td>1.042176e+07</td>\n",
       "      <td>3228.274915</td>\n",
       "      <td>1718.156340</td>\n",
       "      <td>0.288686</td>\n",
       "      <td>0.833333</td>\n",
       "    </tr>\n",
       "    <tr>\n",
       "      <th>3</th>\n",
       "      <td>13 days</td>\n",
       "      <td>1.031362e+07</td>\n",
       "      <td>3211.482302</td>\n",
       "      <td>1691.364270</td>\n",
       "      <td>0.298393</td>\n",
       "      <td>0.833333</td>\n",
       "    </tr>\n",
       "    <tr>\n",
       "      <th>4</th>\n",
       "      <td>14 days</td>\n",
       "      <td>6.908311e+06</td>\n",
       "      <td>2628.366598</td>\n",
       "      <td>1454.265830</td>\n",
       "      <td>0.307785</td>\n",
       "      <td>0.866667</td>\n",
       "    </tr>\n",
       "  </tbody>\n",
       "</table>\n",
       "</div>"
      ],
      "text/plain": [
       "  horizon           mse         rmse          mae      mape  coverage\n",
       "0 10 days  1.624393e+07  4030.375684  2136.665943  0.324962  0.800000\n",
       "1 11 days  1.632691e+07  4040.656804  2188.774735  0.342282  0.800000\n",
       "2 12 days  1.042176e+07  3228.274915  1718.156340  0.288686  0.833333\n",
       "3 13 days  1.031362e+07  3211.482302  1691.364270  0.298393  0.833333\n",
       "4 14 days  6.908311e+06  2628.366598  1454.265830  0.307785  0.866667"
      ]
     },
     "execution_count": 145,
     "metadata": {},
     "output_type": "execute_result"
    }
   ],
   "source": [
    "from fbprophet.diagnostics import performance_metrics\n",
    "performance_metrics(df_cv).head()"
   ]
  },
  {
   "cell_type": "code",
   "execution_count": 146,
   "metadata": {},
   "outputs": [
    {
     "data": {
      "image/png": "[encoded data removed]",
      "text/plain": [
       "<Figure size 720x432 with 1 Axes>"
      ]
     },
     "metadata": {},
     "output_type": "display_data"
    }
   ],
   "source": [
    "from fbprophet.plot import plot_cross_validation_metric\n",
    "fig = plot_cross_validation_metric(df_cv, metric='mae')"
   ]
  },
  {
   "cell_type": "code",
   "execution_count": 147,
   "metadata": {},
   "outputs": [
    {
     "data": {
      "image/png": "[encoded data removed]",
      "text/plain": [
       "<Figure size 720x432 with 1 Axes>"
      ]
     },
     "metadata": {},
     "output_type": "display_data"
    }
   ],
   "source": [
    "fig = plot_cross_validation_metric(df_cv, metric='mape')"
   ]
  },
  {
   "cell_type": "code",
   "execution_count": null,
   "metadata": {},
   "outputs": [],
   "source": []
  }
 ],
 "metadata": {
  "kernelspec": {
   "display_name": "Python 3",
   "language": "python",
   "name": "python3"
  },
  "language_info": {
   "codemirror_mode": {
    "name": "ipython",
    "version": 3
   },
   "file_extension": ".py",
   "mimetype": "text/x-python",
   "name": "python",
   "nbconvert_exporter": "python",
   "pygments_lexer": "ipython3",
   "version": "3.7.1"
  }
 },
 "nbformat": 4,
 "nbformat_minor": 2
}
